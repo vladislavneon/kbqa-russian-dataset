{
 "cells": [
  {
   "cell_type": "code",
   "execution_count": 3,
   "metadata": {
    "ExecuteTime": {
     "end_time": "2019-09-10T21:01:49.836997Z",
     "start_time": "2019-09-10T21:01:49.809989Z"
    }
   },
   "outputs": [],
   "source": [
    "%config IPCompleter.greedy=True\n",
    "import re\n",
    "import json\n",
    "import csv\n",
    "from collections import defaultdict\n",
    "from tqdm import tqdm_notebook as tqdm\n",
    "from elasticsearch import Elasticsearch\n",
    "from elasticsearch.helpers import parallel_bulk\n",
    "from time import time"
   ]
  },
  {
   "cell_type": "markdown",
   "metadata": {},
   "source": [
    "### Prepare toloka tasks"
   ]
  },
  {
   "cell_type": "markdown",
   "metadata": {},
   "source": [
    "#### Read matches data"
   ]
  },
  {
   "cell_type": "code",
   "execution_count": 150,
   "metadata": {
    "ExecuteTime": {
     "end_time": "2019-09-21T22:57:29.742730Z",
     "start_time": "2019-09-21T22:57:29.460053Z"
    }
   },
   "outputs": [],
   "source": [
    "with open('matches.json', 'r') as inf:\n",
    "    items = json.load(inf)"
   ]
  },
  {
   "cell_type": "code",
   "execution_count": 100,
   "metadata": {
    "ExecuteTime": {
     "end_time": "2019-09-11T18:09:07.534486Z",
     "start_time": "2019-09-11T18:09:07.487878Z"
    },
    "deletable": false,
    "editable": false,
    "run_control": {
     "frozen": true
    }
   },
   "outputs": [],
   "source": [
    "qs = []\n",
    "with open('quiz_dataset.txt', 'r') as inf:\n",
    "    for i, line in enumerate(inf):\n",
    "        if i % 2 == 0:\n",
    "            qs.append(line.strip('\\n'))"
   ]
  },
  {
   "cell_type": "code",
   "execution_count": 101,
   "metadata": {
    "ExecuteTime": {
     "end_time": "2019-09-11T18:09:08.788900Z",
     "start_time": "2019-09-11T18:09:08.777459Z"
    },
    "deletable": false,
    "editable": false,
    "run_control": {
     "frozen": true
    }
   },
   "outputs": [],
   "source": [
    "for i in range(len(items)):\n",
    "    items[i]['question'] = qs[i]\n",
    "    items[i]['pos_id'] = i + 1"
   ]
  },
  {
   "cell_type": "code",
   "execution_count": 148,
   "metadata": {
    "ExecuteTime": {
     "end_time": "2019-09-21T22:55:52.867214Z",
     "start_time": "2019-09-21T22:55:52.858677Z"
    },
    "deletable": false,
    "editable": false,
    "run_control": {
     "frozen": true
    }
   },
   "outputs": [],
   "source": [
    "for item in items:\n",
    "    q = item['question']\n",
    "    a = item['text']\n",
    "    if f'({a})' in q:\n",
    "        q = q.replace(f'({a})', '')\n",
    "        item['question'] = q"
   ]
  },
  {
   "cell_type": "code",
   "execution_count": 149,
   "metadata": {
    "ExecuteTime": {
     "end_time": "2019-09-21T22:56:09.439350Z",
     "start_time": "2019-09-21T22:56:07.504805Z"
    },
    "deletable": false,
    "editable": false,
    "run_control": {
     "frozen": true
    }
   },
   "outputs": [],
   "source": [
    "with open('matches.json', 'w') as ouf:\n",
    "    json.dump(items, ouf, ensure_ascii=False, indent=4)"
   ]
  },
  {
   "cell_type": "markdown",
   "metadata": {},
   "source": [
    "#### Filter questions"
   ]
  },
  {
   "cell_type": "code",
   "execution_count": 145,
   "metadata": {
    "ExecuteTime": {
     "end_time": "2019-09-21T22:53:23.058372Z",
     "start_time": "2019-09-21T22:53:23.032220Z"
    }
   },
   "outputs": [],
   "source": [
    "def is_number(s):\n",
    "    res = True\n",
    "    try:\n",
    "        float(s.replace(',', '.'))\n",
    "    except:\n",
    "        res = False\n",
    "    return res\n",
    "\n",
    "def has_multichoice(q):\n",
    "    mc_words = ['из этого', 'из перечисл', 'из этих', 'из следующ']\n",
    "    for mcw in mc_words:\n",
    "        if mcw in q:\n",
    "            return True\n",
    "    return False\n",
    "\n",
    "def has_answer_in_question(q, a):\n",
    "    return f'({a})' in q"
   ]
  },
  {
   "cell_type": "code",
   "execution_count": 139,
   "metadata": {
    "ExecuteTime": {
     "end_time": "2019-09-21T22:47:33.745675Z",
     "start_time": "2019-09-21T22:47:33.737019Z"
    }
   },
   "outputs": [],
   "source": [
    "def filter_numbers_in_answer(item):\n",
    "    return not is_number(item['text'])\n",
    "\n",
    "def filter_multichoice_in_question(item):\n",
    "    return not has_multichoice(item['question'])"
   ]
  },
  {
   "cell_type": "code",
   "execution_count": 154,
   "metadata": {
    "ExecuteTime": {
     "end_time": "2019-09-21T22:58:47.885735Z",
     "start_time": "2019-09-21T22:58:47.861829Z"
    }
   },
   "outputs": [],
   "source": [
    "items_filtered = []\n",
    "for item in items:\n",
    "    if filter_numbers_in_answer(item) and filter_multichoice_in_question(item):\n",
    "        items_filtered.append(item)"
   ]
  },
  {
   "cell_type": "markdown",
   "metadata": {},
   "source": [
    "#### Create record from data"
   ]
  },
  {
   "cell_type": "code",
   "execution_count": 169,
   "metadata": {
    "ExecuteTime": {
     "end_time": "2019-09-21T23:19:12.340391Z",
     "start_time": "2019-09-21T23:19:12.323319Z"
    }
   },
   "outputs": [],
   "source": [
    "def match_to_task(match, i):\n",
    "    res = {}\n",
    "    \n",
    "    name = match['name'] if match['name'] else '???'\n",
    "    if match['description']:\n",
    "        if len(match['description']) > 60:\n",
    "            desc = match['description'][:57] + '...'\n",
    "        else:\n",
    "            desc = match['description']\n",
    "        name += f' ({desc})'\n",
    "    name = name.replace('\"', '\\\\\"').replace(',', '\\,')\n",
    "    res['text'] = name\n",
    "    \n",
    "    if match['ruwiki']:\n",
    "        page = match['ruwiki'].replace(' ', '_')\n",
    "        url = f'https://ru.wikipedia.org/wiki/{page}'.replace(',', '\\,')\n",
    "        res['link_text'] = 'Википедия'\n",
    "    else:\n",
    "        page = match['qid']\n",
    "        url = f'https://www.wikidata.org/wiki/{page}'.replace(',', '\\,')\n",
    "        res['link_text'] = 'Викиданные'\n",
    "    url = url.replace('\"', '\\\\\"')\n",
    "    res['url'] = url\n",
    "    \n",
    "    res['value'] = i\n",
    "    res['hotkey'] = str(i)\n",
    "    \n",
    "    return res\n",
    "\n",
    "def data_to_task(data):\n",
    "    task = []\n",
    "    \n",
    "    # question\n",
    "    task.append(data['question'])\n",
    "    \n",
    "    # answer\n",
    "    task.append(data['text'])\n",
    "    \n",
    "    # matches\n",
    "    matches = data['matches']\n",
    "    task_matches = []\n",
    "    for i, match in enumerate(matches):\n",
    "        cur_task_match = match_to_task(match, i + 1)\n",
    "        task_matches.append('{' + '\\,'.join([f'\"{k}\":\"{v}\"' for k, v in cur_task_match.items()]) + '}')\n",
    "    task.append(','.join(task_matches))\n",
    "    \n",
    "    # golden\n",
    "    task.append('')\n",
    "    \n",
    "    # hint\n",
    "    task.append('')\n",
    "    \n",
    "    return task"
   ]
  },
  {
   "cell_type": "markdown",
   "metadata": {},
   "source": [
    "#### Create tsv file"
   ]
  },
  {
   "cell_type": "code",
   "execution_count": 170,
   "metadata": {
    "ExecuteTime": {
     "end_time": "2019-09-21T23:19:13.871080Z",
     "start_time": "2019-09-21T23:19:13.860157Z"
    }
   },
   "outputs": [],
   "source": [
    "header = ['INPUT:question', 'INPUT:answer', 'INPUT:matches', 'GOLDEN:match', 'HINT:text']\n",
    "\n",
    "with open('task.tsv', 'w') as tsvfile:\n",
    "    writer = csv.writer(tsvfile, delimiter='\\t', lineterminator='\\n', quotechar='\"')\n",
    "    writer.writerow(header)\n",
    "    for item in items_filtered[0:10]:\n",
    "        writer.writerow(data_to_task(item))"
   ]
  },
  {
   "cell_type": "code",
   "execution_count": 162,
   "metadata": {
    "ExecuteTime": {
     "end_time": "2019-09-21T23:16:00.303107Z",
     "start_time": "2019-09-21T23:16:00.295455Z"
    }
   },
   "outputs": [
    {
     "data": {
      "text/plain": [
       "'hfkdwj'"
      ]
     },
     "execution_count": 162,
     "metadata": {},
     "output_type": "execute_result"
    }
   ],
   "source": [
    "'hfkdwj'[:10]"
   ]
  },
  {
   "cell_type": "code",
   "execution_count": null,
   "metadata": {},
   "outputs": [],
   "source": []
  }
 ],
 "metadata": {
  "kernelspec": {
   "display_name": "Python [conda env:kbqa]",
   "language": "python",
   "name": "conda-env-kbqa-py"
  },
  "language_info": {
   "codemirror_mode": {
    "name": "ipython",
    "version": 3
   },
   "file_extension": ".py",
   "mimetype": "text/x-python",
   "name": "python",
   "nbconvert_exporter": "python",
   "pygments_lexer": "ipython3",
   "version": "3.7.3"
  }
 },
 "nbformat": 4,
 "nbformat_minor": 2
}
