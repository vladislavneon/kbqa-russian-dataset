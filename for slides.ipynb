{
 "cells": [
  {
   "cell_type": "markdown",
   "metadata": {},
   "source": [
    "Коллекции  \n",
    "викторин\n",
    "\n",
    "\\[ ...  \n",
    "&nbsp;&nbsp;(текст вопроса,  \n",
    "&nbsp;&nbsp; текст ответа),  \n",
    "... \\]\n",
    "\n",
    "\\[ ...  \n",
    "&nbsp;&nbsp;( [$id_{Q_1}, id_{Q_2}, \\dots, id_{Q_n}$],  \n",
    "&nbsp;&nbsp;&nbsp;&nbsp;[$id_{A_1}, id_{A_2}, \\dots, id_{A_m}$] ),  \n",
    "... \\]\n",
    "\n",
    "\\[ ...  \n",
    "&nbsp;&nbsp;( [$id_{Q_1}, id_{Q_2}, \\dots, id_{Q_n}$],  \n",
    "&nbsp;&nbsp;&nbsp;&nbsp;$id_A$ ),  \n",
    "... \\]\n",
    "\n",
    "\\[ ...  \n",
    "&nbsp;&nbsp;[ ($id_{Q_1}, prop_1, id_A$),  \n",
    "&nbsp;&nbsp;&nbsp;&nbsp;($id_{Q_1}, prop_2, prop_3, id_A$),  \n",
    "&nbsp;&nbsp;&nbsp;&nbsp;($id_{Q_2}, prop_4, id_A$),  \n",
    "&nbsp;&nbsp;&nbsp;&nbsp;... ]  \n",
    "... \\]\n",
    "\n",
    "\\[ ...    \n",
    "&nbsp;&nbsp;($id_{Q_2}, prop_4, id_A$) или  \n",
    "&nbsp;&nbsp;&nbsp;*запрос вручную* или  \n",
    "&nbsp;&nbsp;&nbsp;*неотвечаемый*  \n",
    "... \\]\n",
    "\n",
    "\\[ ...    \n",
    "&nbsp;&nbsp;($id_{Q_2}, prop_4, id_A$) или  \n",
    "&nbsp;&nbsp;&nbsp;*запрос вручную* или&nbsp;&nbsp;&nbsp; + теги типов  \n",
    "&nbsp;&nbsp;&nbsp;*неотвечаемый*  \n",
    "... \\]"
   ]
  },
  {
   "cell_type": "code",
   "execution_count": null,
   "metadata": {},
   "outputs": [],
   "source": []
  }
 ],
 "metadata": {
  "kernelspec": {
   "display_name": "Python [conda env:root] *",
   "language": "python",
   "name": "conda-root-py"
  },
  "language_info": {
   "codemirror_mode": {
    "name": "ipython",
    "version": 3
   },
   "file_extension": ".py",
   "mimetype": "text/x-python",
   "name": "python",
   "nbconvert_exporter": "python",
   "pygments_lexer": "ipython3",
   "version": "3.7.3"
  }
 },
 "nbformat": 4,
 "nbformat_minor": 2
}
