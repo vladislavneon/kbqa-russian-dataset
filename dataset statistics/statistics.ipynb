{
 "cells": [
  {
   "cell_type": "code",
   "execution_count": 28,
   "metadata": {
    "ExecuteTime": {
     "end_time": "2020-04-02T21:03:42.751352Z",
     "start_time": "2020-04-02T21:03:42.704248Z"
    }
   },
   "outputs": [],
   "source": [
    "%config IPCompleter.greedy=True\n",
    "import json\n",
    "from collections import defaultdict\n",
    "from operator import itemgetter\n",
    "import re\n",
    "import numpy as np\n",
    "import random"
   ]
  },
  {
   "cell_type": "code",
   "execution_count": 3,
   "metadata": {
    "ExecuteTime": {
     "end_time": "2020-04-02T15:26:29.998040Z",
     "start_time": "2020-04-02T15:26:29.990348Z"
    }
   },
   "outputs": [],
   "source": [
    "def json_read(filename):\n",
    "    with open(filename, 'r') as inf:\n",
    "        res = json.load(inf)\n",
    "    return res\n",
    "\n",
    "def json_dump(obj, filename, ea=False, indent=4):\n",
    "    with open(filename, 'w') as ouf:\n",
    "        json.dump(obj, ouf, ensure_ascii=ea, indent=indent)"
   ]
  },
  {
   "cell_type": "code",
   "execution_count": 85,
   "metadata": {
    "ExecuteTime": {
     "end_time": "2020-04-08T17:32:22.867767Z",
     "start_time": "2020-04-08T17:32:22.544610Z"
    }
   },
   "outputs": [],
   "source": [
    "dataset = json_read('../dataset compilation/kbqa_russian_dataset.json')"
   ]
  },
  {
   "cell_type": "code",
   "execution_count": 111,
   "metadata": {
    "ExecuteTime": {
     "end_time": "2020-04-08T17:54:50.333898Z",
     "start_time": "2020-04-08T17:54:50.325708Z"
    }
   },
   "outputs": [],
   "source": [
    "test_uids = json_read('../dataset compilation/test_uids.json')\n",
    "dev_uids = json_read('../dataset compilation/dev_uids.json')"
   ]
  },
  {
   "cell_type": "markdown",
   "metadata": {},
   "source": [
    "## Linking"
   ]
  },
  {
   "cell_type": "markdown",
   "metadata": {
    "heading_collapsed": true
   },
   "source": [
    "### Labels"
   ]
  },
  {
   "cell_type": "code",
   "execution_count": 26,
   "metadata": {
    "ExecuteTime": {
     "end_time": "2020-03-13T14:23:48.519309Z",
     "start_time": "2020-03-13T14:23:37.490739Z"
    },
    "hidden": true
   },
   "outputs": [],
   "source": [
    "cnt_labels = 0\n",
    "index_entities = set()\n",
    "with open('../entity retrieval/labels_token.txt') as inf:\n",
    "    for line in inf:\n",
    "        line = line.strip()\n",
    "        cnt_labels += 1\n",
    "        qid = line.split(':')[0]\n",
    "        index_entities.add(qid)"
   ]
  },
  {
   "cell_type": "code",
   "execution_count": 27,
   "metadata": {
    "ExecuteTime": {
     "end_time": "2020-03-13T14:24:44.744928Z",
     "start_time": "2020-03-13T14:24:44.733816Z"
    },
    "hidden": true
   },
   "outputs": [
    {
     "name": "stdout",
     "output_type": "stream",
     "text": [
      "Unique entities: 4114595\n",
      "Total labels: 5430657\n"
     ]
    }
   ],
   "source": [
    "print(f'Unique entities: {len(index_entities)}')\n",
    "print(f'Total labels: {cnt_labels}')"
   ]
  },
  {
   "cell_type": "markdown",
   "metadata": {
    "heading_collapsed": true
   },
   "source": [
    "### Question matches"
   ]
  },
  {
   "cell_type": "code",
   "execution_count": 57,
   "metadata": {
    "ExecuteTime": {
     "end_time": "2020-03-25T14:38:37.078991Z",
     "start_time": "2020-03-25T14:38:37.072900Z"
    },
    "hidden": true
   },
   "outputs": [],
   "source": [
    "bns = ['1_5000', '5001_10000', '10001_14000', '14001_end']"
   ]
  },
  {
   "cell_type": "code",
   "execution_count": 58,
   "metadata": {
    "ExecuteTime": {
     "end_time": "2020-03-25T14:38:41.345025Z",
     "start_time": "2020-03-25T14:38:40.285998Z"
    },
    "hidden": true
   },
   "outputs": [],
   "source": [
    "match_lens = []\n",
    "for bn in bns:\n",
    "    matches_data = json_read(f'/Users/ne0n/itmo-jb/kbqa/kbqa-russian-dataset/toloka/questions/q_matches_{bn}.json')\n",
    "    for entry in matches_data:\n",
    "        match_lens.append(len(entry['matches']))\n",
    "match_lens = np.array(match_lens)"
   ]
  },
  {
   "cell_type": "code",
   "execution_count": 61,
   "metadata": {
    "ExecuteTime": {
     "end_time": "2020-03-25T14:39:40.882100Z",
     "start_time": "2020-03-25T14:39:40.870758Z"
    },
    "hidden": true
   },
   "outputs": [
    {
     "name": "stdout",
     "output_type": "stream",
     "text": [
      "Average length of candidates list for questions is 8.55832368885911\n"
     ]
    }
   ],
   "source": [
    "print(f'Average length of candidates list for questions is {match_lens.mean()}')"
   ]
  },
  {
   "cell_type": "code",
   "execution_count": null,
   "metadata": {
    "hidden": true
   },
   "outputs": [],
   "source": []
  },
  {
   "cell_type": "markdown",
   "metadata": {},
   "source": [
    "## Dataset"
   ]
  },
  {
   "cell_type": "markdown",
   "metadata": {},
   "source": [
    "### Dataset entities"
   ]
  },
  {
   "cell_type": "code",
   "execution_count": 87,
   "metadata": {
    "ExecuteTime": {
     "end_time": "2020-04-08T17:32:36.835195Z",
     "start_time": "2020-04-08T17:32:36.824930Z"
    }
   },
   "outputs": [],
   "source": [
    "all_entities = set()\n",
    "q_entities = set()\n",
    "a_entities = set()\n",
    "for entry in dataset[:1200]:\n",
    "    for e in entry['question_uris']:\n",
    "        all_entities.add(e)\n",
    "        q_entities.add(e)\n",
    "    for a in entry['answers']:\n",
    "        if a['type'] == 'uri':\n",
    "            e = a['value']\n",
    "            all_entities.add(e)\n",
    "            a_entities.add(e)"
   ]
  },
  {
   "cell_type": "code",
   "execution_count": 88,
   "metadata": {
    "ExecuteTime": {
     "end_time": "2020-04-08T17:32:44.817065Z",
     "start_time": "2020-04-08T17:32:44.800831Z"
    }
   },
   "outputs": [
    {
     "name": "stdout",
     "output_type": "stream",
     "text": [
      "Overall entities: 2357\n",
      "Question entities: 1218\n",
      "Answer entities: 1250\n"
     ]
    }
   ],
   "source": [
    "print(f'Overall entities: {len(all_entities)}')\n",
    "print(f'Question entities: {len(q_entities)}')\n",
    "print(f'Answer entities: {len(a_entities)}')"
   ]
  },
  {
   "cell_type": "markdown",
   "metadata": {},
   "source": [
    "### Dataset relations"
   ]
  },
  {
   "cell_type": "code",
   "execution_count": 130,
   "metadata": {
    "ExecuteTime": {
     "end_time": "2020-04-08T21:40:47.050433Z",
     "start_time": "2020-04-08T21:40:47.030026Z"
    }
   },
   "outputs": [],
   "source": [
    "all_relations = set()\n",
    "for entry in dataset[:1200]:\n",
    "    query = entry['query']\n",
    "    props = []\n",
    "    props.extend(re.findall(r'wdt:P\\d+', query))\n",
    "    props.extend(re.findall(r'p:P\\d+', query))\n",
    "    props.extend(re.findall(r'p[s|q]:P\\d+', query))\n",
    "    for p in props:\n",
    "        all_relations.add(p)"
   ]
  },
  {
   "cell_type": "code",
   "execution_count": 132,
   "metadata": {
    "ExecuteTime": {
     "end_time": "2020-04-08T21:40:54.602845Z",
     "start_time": "2020-04-08T21:40:54.596394Z"
    }
   },
   "outputs": [
    {
     "name": "stdout",
     "output_type": "stream",
     "text": [
      "Overall relations: 242\n"
     ]
    }
   ],
   "source": [
    "print(f'Overall relations: {len(all_relations) + 3}')"
   ]
  },
  {
   "cell_type": "markdown",
   "metadata": {},
   "source": [
    "### Dataset tags"
   ]
  },
  {
   "cell_type": "code",
   "execution_count": 115,
   "metadata": {
    "ExecuteTime": {
     "end_time": "2020-04-08T17:55:18.789384Z",
     "start_time": "2020-04-08T17:55:18.782949Z"
    }
   },
   "outputs": [],
   "source": [
    "tag_count = defaultdict(int)\n",
    "for entry in dataset:\n",
    "    for t in entry['tags']:\n",
    "        tag_count[t] += 1"
   ]
  },
  {
   "cell_type": "code",
   "execution_count": 116,
   "metadata": {
    "ExecuteTime": {
     "end_time": "2020-04-08T17:55:20.342510Z",
     "start_time": "2020-04-08T17:55:20.310939Z"
    }
   },
   "outputs": [],
   "source": [
    "tag_count_test = defaultdict(int)\n",
    "for entry in dataset:\n",
    "    if entry['uid'] in test_uids:\n",
    "        for t in entry['tags']:\n",
    "            tag_count_test[t] += 1\n",
    "        \n",
    "tag_count_dev = defaultdict(int)\n",
    "for entry in dataset:\n",
    "    if entry['uid'] in dev_uids:\n",
    "        for t in entry['tags']:\n",
    "            tag_count_dev[t] += 1"
   ]
  },
  {
   "cell_type": "code",
   "execution_count": 117,
   "metadata": {
    "ExecuteTime": {
     "end_time": "2020-04-08T17:55:21.391598Z",
     "start_time": "2020-04-08T17:55:21.379858Z"
    }
   },
   "outputs": [
    {
     "name": "stdout",
     "output_type": "stream",
     "text": [
      "1-hop 958\n",
      "no-answer 300\n",
      "multi-constraint 131\n",
      "multi-hop 69\n",
      "reverse 35\n",
      "qualifier-constraint 26\n",
      "exclusion 22\n",
      "ranking 19\n",
      "0-hop 15\n",
      "qualifier-answer 6\n",
      "count 5\n"
     ]
    }
   ],
   "source": [
    "for t, c in sorted(tag_count.items(), key=itemgetter(1), reverse=True):\n",
    "    print(t, c)"
   ]
  },
  {
   "cell_type": "code",
   "execution_count": 118,
   "metadata": {
    "ExecuteTime": {
     "end_time": "2020-04-08T17:55:23.423627Z",
     "start_time": "2020-04-08T17:55:23.412372Z"
    }
   },
   "outputs": [
    {
     "name": "stdout",
     "output_type": "stream",
     "text": [
      "1-hop 760\n",
      "no-answer 240\n",
      "multi-constraint 110\n",
      "multi-hop 55\n",
      "reverse 29\n",
      "qualifier-constraint 22\n",
      "exclusion 18\n",
      "ranking 16\n",
      "0-hop 12\n",
      "qualifier-answer 5\n",
      "count 4\n"
     ]
    }
   ],
   "source": [
    "for t, c in sorted(tag_count_test.items(), key=itemgetter(1), reverse=True):\n",
    "    print(t, c)"
   ]
  },
  {
   "cell_type": "code",
   "execution_count": 119,
   "metadata": {
    "ExecuteTime": {
     "end_time": "2020-04-08T17:55:35.719370Z",
     "start_time": "2020-04-08T17:55:35.709500Z"
    }
   },
   "outputs": [
    {
     "name": "stdout",
     "output_type": "stream",
     "text": [
      "1-hop 198\n",
      "no-answer 60\n",
      "multi-constraint 21\n",
      "multi-hop 14\n",
      "reverse 6\n",
      "qualifier-constraint 4\n",
      "exclusion 4\n",
      "ranking 3\n",
      "0-hop 3\n",
      "qualifier-answer 1\n",
      "count 1\n"
     ]
    }
   ],
   "source": [
    "for t, c in sorted(tag_count_dev.items(), key=itemgetter(1), reverse=True):\n",
    "    print(t, c)"
   ]
  },
  {
   "cell_type": "code",
   "execution_count": 122,
   "metadata": {
    "ExecuteTime": {
     "end_time": "2020-04-08T17:57:29.086013Z",
     "start_time": "2020-04-08T17:57:29.077821Z"
    }
   },
   "outputs": [],
   "source": [
    "tag_comb_count = defaultdict(int)\n",
    "for entry in dataset:\n",
    "#     if entry['uid'] in test_uids:\n",
    "        tag_comb_count[tuple(sorted(entry['tags']))] += 1"
   ]
  },
  {
   "cell_type": "code",
   "execution_count": 123,
   "metadata": {
    "ExecuteTime": {
     "end_time": "2020-04-08T17:57:29.699952Z",
     "start_time": "2020-04-08T17:57:29.682403Z"
    }
   },
   "outputs": [
    {
     "name": "stdout",
     "output_type": "stream",
     "text": [
      "('1-hop',) 921\n",
      "('no-answer',) 300\n",
      "('multi-constraint',) 96\n",
      "('multi-hop',) 69\n",
      "('1-hop', 'exclusion') 21\n",
      "('qualifier-constraint',) 16\n",
      "('multi-constraint', 'reverse') 15\n",
      "('0-hop',) 15\n",
      "('1-hop', 'reverse') 12\n",
      "('multi-constraint', 'ranking') 8\n",
      "('qualifier-constraint', 'ranking') 6\n",
      "('multi-constraint', 'ranking', 'reverse') 5\n",
      "('1-hop', 'count') 4\n",
      "('multi-constraint', 'qualifier-answer') 4\n",
      "('qualifier-constraint', 'reverse') 3\n",
      "('qualifier-answer',) 2\n",
      "('exclusion', 'multi-constraint') 1\n",
      "('multi-constraint', 'qualifier-constraint') 1\n",
      "('count', 'multi-constraint') 1\n"
     ]
    },
    {
     "data": {
      "text/plain": [
       "1500"
      ]
     },
     "execution_count": 123,
     "metadata": {},
     "output_type": "execute_result"
    }
   ],
   "source": [
    "s = 0\n",
    "for t, c in sorted(tag_comb_count.items(), key=itemgetter(1), reverse=True):\n",
    "    print(t, c)\n",
    "    s += c\n",
    "s"
   ]
  },
  {
   "cell_type": "code",
   "execution_count": 124,
   "metadata": {
    "ExecuteTime": {
     "end_time": "2020-04-08T17:57:33.760803Z",
     "start_time": "2020-04-08T17:57:33.747911Z"
    }
   },
   "outputs": [],
   "source": [
    "tag_comb_count = defaultdict(int)\n",
    "for entry in dataset:\n",
    "    if entry['uid'] in dev_uids:\n",
    "        tag_comb_count[tuple(sorted(entry['tags']))] += 1"
   ]
  },
  {
   "cell_type": "code",
   "execution_count": 125,
   "metadata": {
    "ExecuteTime": {
     "end_time": "2020-04-08T17:57:34.232572Z",
     "start_time": "2020-04-08T17:57:34.215559Z"
    }
   },
   "outputs": [
    {
     "name": "stdout",
     "output_type": "stream",
     "text": [
      "('1-hop',) 191\n",
      "('no-answer',) 60\n",
      "('multi-constraint',) 15\n",
      "('multi-hop',) 14\n",
      "('1-hop', 'exclusion') 4\n",
      "('multi-constraint', 'reverse') 3\n",
      "('0-hop',) 3\n",
      "('qualifier-constraint',) 3\n",
      "('1-hop', 'reverse') 2\n",
      "('qualifier-constraint', 'ranking') 1\n",
      "('multi-constraint', 'qualifier-answer') 1\n",
      "('1-hop', 'count') 1\n",
      "('multi-constraint', 'ranking') 1\n",
      "('multi-constraint', 'ranking', 'reverse') 1\n"
     ]
    },
    {
     "data": {
      "text/plain": [
       "300"
      ]
     },
     "execution_count": 125,
     "metadata": {},
     "output_type": "execute_result"
    }
   ],
   "source": [
    "s = 0\n",
    "for t, c in sorted(tag_comb_count.items(), key=itemgetter(1), reverse=True):\n",
    "    print(t, c)\n",
    "    s += c\n",
    "s"
   ]
  },
  {
   "cell_type": "code",
   "execution_count": null,
   "metadata": {},
   "outputs": [],
   "source": []
  },
  {
   "cell_type": "code",
   "execution_count": 72,
   "metadata": {
    "ExecuteTime": {
     "end_time": "2020-04-03T00:09:00.271297Z",
     "start_time": "2020-04-03T00:09:00.228143Z"
    },
    "scrolled": false
   },
   "outputs": [
    {
     "data": {
      "text/plain": [
       "[(209,\n",
       "  'Кто автор бессмертной \"Похвалы Глупости\"?',\n",
       "  'SELECT ?answer \\nWHERE {\\n  wd:Q569869 wdt:P50 ?answer\\n}'),\n",
       " (534,\n",
       "  'Кто из австралийских писателей является автором книги «Ковчег Шиндлера», по которой был поставлен оскароносный фильм?',\n",
       "  'SELECT ?answer \\nWHERE {\\n  wd:Q1975638 wdt:P50 ?answer\\n}'),\n",
       " (458,\n",
       "  'При каком российском монархе возник Государственный Музей Эрмитаж?',\n",
       "  'SELECT ?answer \\nWHERE {\\n  wd:Q132783 wdt:P112 ?answer\\n}'),\n",
       " (694,\n",
       "  'В какой стране расположен вулкан Гарибальди?',\n",
       "  'SELECT ?answer \\nWHERE {\\n  wd:Q183027 wdt:P17 ?answer\\n}'),\n",
       " (118,\n",
       "  'Какой продукт составляет основу сырников',\n",
       "  'SELECT ?answer \\nWHERE {\\n  wd:Q1726195 wdt:P186 ?answer\\n}'),\n",
       " (3140,\n",
       "  'В каком подмосковном городе находится Ново-Иерусалимский монастырь?',\n",
       "  'SELECT ?answer\\nWHERE {\\n  wd:Q773979 wdt:P131 ?answer.\\n}'),\n",
       " (38,\n",
       "  'В каком виде спорта прославилась Курникова?',\n",
       "  'SELECT ?answer \\nWHERE {\\n  wd:Q131120 wdt:P641 ?answer\\n}'),\n",
       " (388,\n",
       "  'как звали собаку билла клинтона',\n",
       "  'SELECT ?answer \\nWHERE {\\n  wd:Q1124 wdt:P1429 ?answer\\n}'),\n",
       " (357,\n",
       "  'В каком городе России установлен памятник «Белому Биму», сеттеру, герою книги Гавриила Троепольского «Белый Бим – черное ухо»?',\n",
       "  'SELECT ?answer \\nWHERE {\\n  wd:Q4343081 wdt:P276 ?answer\\n}'),\n",
       " (3114,\n",
       "  'В какой стране зародился театр теней?',\n",
       "  'SELECT ?answer\\nWHERE {\\n  wd:Q854836 wdt:P495 ?answer .\\n}'),\n",
       " (4,\n",
       "  'Какой стране принадлежит знаменитый остров Пасхи?',\n",
       "  'SELECT ?answer \\nWHERE {\\n  wd:Q14452 wdt:P17 ?answer\\n}'),\n",
       " (56,\n",
       "  'Как называлась столица Крымского ханства?',\n",
       "  'SELECT ?answer \\nWHERE {\\n  wd:Q160440 wdt:P36 ?answer\\n}'),\n",
       " (3111,\n",
       "  'Где находится город Новый Афон?',\n",
       "  'SELECT ?answer\\nWHERE {\\n  wd:Q42194 wdt:P17 ?answer .\\n}'),\n",
       " (96,\n",
       "  'Что на весь мир прославило маленькое парижское кафе \"Режанс\"?',\n",
       "  'SELECT ?answer \\nWHERE {\\n  wd:Q1025693 wdt:P641 ?answer\\n}'),\n",
       " (573,\n",
       "  'В каком польском городе происходит действие кинофильма Стивена Спилберга \"Список Шиндлера\"?',\n",
       "  'SELECT ?answer \\nWHERE {\\n  wd:Q483941 wdt:P915 ?answer\\n}')]"
      ]
     },
     "execution_count": 72,
     "metadata": {},
     "output_type": "execute_result"
    }
   ],
   "source": [
    "cands = []\n",
    "for entry in dataset:\n",
    "    if tuple(sorted(entry['tags'])) == ('1-hop',):\n",
    "        cands.append((entry['uid'], entry['question_text'], entry['query']))\n",
    "#         print(entry['uid'])\n",
    "#         print(entry['question_text'])\n",
    "#         print(entry['query'])\n",
    "#         print()\n",
    "random.shuffle(cands)\n",
    "cands[:15]"
   ]
  },
  {
   "cell_type": "code",
   "execution_count": 73,
   "metadata": {
    "ExecuteTime": {
     "end_time": "2020-04-03T00:09:25.079647Z",
     "start_time": "2020-04-03T00:09:25.043412Z"
    }
   },
   "outputs": [
    {
     "name": "stdout",
     "output_type": "stream",
     "text": [
      "209\n",
      "534\n",
      "458\n",
      "694\n",
      "118\n",
      "3140\n",
      "38\n",
      "388\n",
      "357\n",
      "3114\n",
      "4\n",
      "56\n",
      "3111\n",
      "96\n",
      "573\n",
      "261\n",
      "642\n",
      "801\n",
      "492\n",
      "413\n",
      "658\n",
      "92\n",
      "776\n",
      "107\n",
      "840\n",
      "164\n",
      "475\n",
      "457\n",
      "224\n",
      "154\n",
      "306\n",
      "310\n",
      "104\n",
      "295\n",
      "76\n",
      "793\n",
      "3139\n",
      "236\n",
      "419\n",
      "609\n",
      "626\n",
      "331\n",
      "816\n",
      "764\n",
      "549\n",
      "526\n",
      "726\n",
      "483\n",
      "280\n",
      "814\n",
      "3004\n",
      "566\n",
      "373\n",
      "423\n",
      "552\n",
      "211\n",
      "31\n",
      "436\n",
      "286\n",
      "243\n",
      "57\n",
      "2042\n",
      "676\n",
      "630\n",
      "645\n",
      "222\n",
      "808\n",
      "745\n",
      "115\n",
      "260\n",
      "343\n",
      "289\n",
      "578\n",
      "592\n",
      "580\n",
      "25\n",
      "68\n",
      "3048\n",
      "484\n",
      "14\n",
      "3075\n",
      "737\n",
      "90\n",
      "3056\n",
      "251\n",
      "327\n",
      "461\n",
      "792\n",
      "2116\n",
      "533\n",
      "541\n",
      "101\n",
      "3062\n",
      "431\n",
      "834\n",
      "532\n",
      "640\n",
      "629\n",
      "41\n",
      "176\n",
      "481\n",
      "584\n",
      "339\n",
      "415\n",
      "22\n",
      "465\n",
      "2026\n",
      "571\n",
      "281\n",
      "127\n",
      "47\n",
      "550\n",
      "358\n",
      "159\n",
      "84\n",
      "7\n",
      "581\n",
      "138\n",
      "519\n",
      "435\n",
      "203\n",
      "304\n",
      "311\n",
      "3023\n",
      "405\n",
      "221\n",
      "365\n",
      "770\n",
      "334\n",
      "330\n",
      "324\n",
      "494\n",
      "811\n",
      "789\n",
      "256\n",
      "335\n",
      "408\n",
      "40\n",
      "2097\n",
      "145\n",
      "3036\n",
      "129\n",
      "3097\n",
      "279\n",
      "262\n",
      "759\n",
      "499\n",
      "258\n",
      "611\n",
      "242\n",
      "228\n",
      "65\n",
      "3059\n",
      "738\n",
      "177\n",
      "277\n",
      "714\n",
      "3090\n",
      "859\n",
      "668\n",
      "425\n",
      "732\n",
      "3109\n",
      "623\n",
      "393\n",
      "3102\n",
      "616\n",
      "688\n",
      "480\n",
      "779\n",
      "344\n",
      "543\n",
      "3092\n",
      "818\n",
      "3115\n",
      "89\n",
      "467\n",
      "361\n",
      "158\n",
      "527\n",
      "82\n",
      "74\n",
      "821\n",
      "156\n",
      "215\n",
      "835\n",
      "422\n",
      "657\n",
      "3126\n"
     ]
    }
   ],
   "source": [
    "for c in cands[:189]:\n",
    "    print(c[0])"
   ]
  },
  {
   "cell_type": "code",
   "execution_count": null,
   "metadata": {},
   "outputs": [],
   "source": []
  },
  {
   "cell_type": "markdown",
   "metadata": {},
   "source": [
    "### Question length"
   ]
  },
  {
   "cell_type": "code",
   "execution_count": 133,
   "metadata": {
    "ExecuteTime": {
     "end_time": "2020-04-08T21:48:06.088566Z",
     "start_time": "2020-04-08T21:48:05.894162Z"
    }
   },
   "outputs": [
    {
     "name": "stdout",
     "output_type": "stream",
     "text": [
      "Average question length: 7.987333333333333 words\n",
      "Average english question length: 10.582666666666666 words\n",
      "Median question length: 7.0 words\n",
      "Median english question length: 10.0 words\n"
     ]
    }
   ],
   "source": [
    "word_lens = []\n",
    "word_lens_eng = []\n",
    "for entry in dataset:\n",
    "    q = entry['question_text']\n",
    "    q_eng = entry['question_eng']\n",
    "    q_tokens = list(filter(None, re.split(r'\\W', q)))\n",
    "    q_eng_tokens = list(filter(None, re.split(r'\\W', q_eng)))\n",
    "    word_lens.append(len(q_tokens))\n",
    "    word_lens_eng.append(len(q_eng_tokens))\n",
    "print(f'Average question length: {np.array(word_lens).mean()} words')\n",
    "print(f'Average english question length: {np.array(word_lens_eng).mean()} words')\n",
    "print(f'Median question length: {np.median(np.array(word_lens))} words')\n",
    "print(f'Median english question length: {np.median(np.array(word_lens_eng))} words')"
   ]
  },
  {
   "cell_type": "markdown",
   "metadata": {},
   "source": [
    "### Questions with list answers"
   ]
  },
  {
   "cell_type": "code",
   "execution_count": 134,
   "metadata": {
    "ExecuteTime": {
     "end_time": "2020-04-08T21:48:47.260378Z",
     "start_time": "2020-04-08T21:48:47.248301Z"
    }
   },
   "outputs": [
    {
     "name": "stdout",
     "output_type": "stream",
     "text": [
      "Number of questions with list of answers: 131\n"
     ]
    }
   ],
   "source": [
    "cnt = 0\n",
    "for entry in dataset:\n",
    "    if len(entry['answers']) > 1:\n",
    "        cnt += 1\n",
    "print(f'Number of questions with list of answers: {cnt}')"
   ]
  },
  {
   "cell_type": "markdown",
   "metadata": {},
   "source": [
    "### Types of answers"
   ]
  },
  {
   "cell_type": "code",
   "execution_count": 135,
   "metadata": {
    "ExecuteTime": {
     "end_time": "2020-04-08T21:49:10.625391Z",
     "start_time": "2020-04-08T21:49:10.595912Z"
    }
   },
   "outputs": [
    {
     "name": "stdout",
     "output_type": "stream",
     "text": [
      "1154 URI answers\n",
      "46 literal answers\n"
     ]
    }
   ],
   "source": [
    "tps = defaultdict(int)\n",
    "for entry in dataset:\n",
    "    anses = entry['answers']\n",
    "    if not anses:\n",
    "        continue\n",
    "    t = anses[0]['type']\n",
    "    tps[t] += 1\n",
    "print(f'{tps[\"uri\"]} URI answers')\n",
    "print(f'{tps[\"literal\"]} literal answers')"
   ]
  },
  {
   "cell_type": "code",
   "execution_count": null,
   "metadata": {},
   "outputs": [],
   "source": []
  }
 ],
 "metadata": {
  "kernelspec": {
   "display_name": "Python [conda env:kbqa]",
   "language": "python",
   "name": "conda-env-kbqa-py"
  },
  "language_info": {
   "codemirror_mode": {
    "name": "ipython",
    "version": 3
   },
   "file_extension": ".py",
   "mimetype": "text/x-python",
   "name": "python",
   "nbconvert_exporter": "python",
   "pygments_lexer": "ipython3",
   "version": "3.7.3"
  }
 },
 "nbformat": 4,
 "nbformat_minor": 2
}
