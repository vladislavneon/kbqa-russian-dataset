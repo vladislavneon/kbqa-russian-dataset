{
 "cells": [
  {
   "cell_type": "code",
   "execution_count": 143,
   "metadata": {
    "ExecuteTime": {
     "end_time": "2020-04-01T23:56:12.704663Z",
     "start_time": "2020-04-01T23:56:12.588234Z"
    }
   },
   "outputs": [],
   "source": [
    "%config IPCompleter.greedy=True\n",
    "from SPARQLWrapper import SPARQLWrapper, TURTLE, POST, SPARQLWrapper2\n",
    "from rdflib import Graph\n",
    "from qwikidata.sparql import return_sparql_query_results \n",
    "from collections import defaultdict\n",
    "from tqdm import tqdm_notebook as tqdm\n",
    "from urllib.request import urlopen\n",
    "import requests\n",
    "import json\n",
    "import re\n",
    "import pandas as pd\n",
    "import os\n",
    "from time import sleep"
   ]
  },
  {
   "cell_type": "code",
   "execution_count": 2,
   "metadata": {
    "ExecuteTime": {
     "end_time": "2020-03-27T01:11:09.576432Z",
     "start_time": "2020-03-27T01:11:09.570469Z"
    }
   },
   "outputs": [],
   "source": [
    "def json_read(filename):\n",
    "    with open(filename, 'r') as inf:\n",
    "        res = json.load(inf)\n",
    "    return res\n",
    "\n",
    "def json_dump(obj, filename, ea=False, indent=4):\n",
    "    with open(filename, 'w') as ouf:\n",
    "        json.dump(obj, ouf, ensure_ascii=ea, indent=indent)"
   ]
  },
  {
   "cell_type": "code",
   "execution_count": 3,
   "metadata": {
    "ExecuteTime": {
     "end_time": "2020-03-27T01:11:11.256364Z",
     "start_time": "2020-03-27T01:11:11.251740Z"
    }
   },
   "outputs": [],
   "source": [
    "sparql = SPARQLWrapper('https://query.wikidata.org/sparql')"
   ]
  },
  {
   "cell_type": "code",
   "execution_count": 4,
   "metadata": {
    "ExecuteTime": {
     "end_time": "2020-03-05T12:16:55.906831Z",
     "start_time": "2020-03-05T12:16:55.900351Z"
    }
   },
   "outputs": [],
   "source": [
    "sparql.setQuery('''\n",
    "CONSTRUCT {\n",
    "  wd:Q42 ?p1 ?o.\n",
    "  ?s ?p2 wd:Q42.\n",
    "}\n",
    "WHERE {\n",
    "  {wd:Q42 ?p1 ?o.}\n",
    "  UNION\n",
    "  {?s ?p2 wd:Q42.}\n",
    "}''')"
   ]
  },
  {
   "cell_type": "code",
   "execution_count": 124,
   "metadata": {
    "ExecuteTime": {
     "end_time": "2020-03-05T23:40:34.828097Z",
     "start_time": "2020-03-05T23:40:34.819384Z"
    }
   },
   "outputs": [],
   "source": [
    "sparql.setQuery('''\n",
    "CONSTRUCT {\n",
    "  ?e ?p1 ?o .\n",
    "  ?s ?p2 ?e .\n",
    "}\n",
    "WHERE {\n",
    "  VALUES ?e { wd:Q42 wd:Q1 } .\n",
    "  { ?e ?p1 ?o . }\n",
    "  UNION\n",
    "  { ?s ?p2 ?e . }\n",
    "}''')"
   ]
  },
  {
   "cell_type": "code",
   "execution_count": 123,
   "metadata": {
    "ExecuteTime": {
     "end_time": "2020-03-05T23:40:27.925775Z",
     "start_time": "2020-03-05T23:40:27.921614Z"
    }
   },
   "outputs": [],
   "source": [
    "sparql.method = POST"
   ]
  },
  {
   "cell_type": "code",
   "execution_count": 125,
   "metadata": {
    "ExecuteTime": {
     "end_time": "2020-03-05T23:40:37.646089Z",
     "start_time": "2020-03-05T23:40:35.717414Z"
    }
   },
   "outputs": [],
   "source": [
    "result = sparql.queryAndConvert()"
   ]
  },
  {
   "cell_type": "code",
   "execution_count": 24,
   "metadata": {
    "ExecuteTime": {
     "end_time": "2020-03-05T12:27:59.061351Z",
     "start_time": "2020-03-05T12:27:58.734056Z"
    }
   },
   "outputs": [],
   "source": [
    "with open('graph.ttl', 'bw') as ouf:\n",
    "    ouf.write(result.serialize(format='turtle'))"
   ]
  },
  {
   "cell_type": "code",
   "execution_count": 126,
   "metadata": {
    "ExecuteTime": {
     "end_time": "2020-03-05T23:40:46.434983Z",
     "start_time": "2020-03-05T23:40:46.355820Z"
    }
   },
   "outputs": [],
   "source": [
    "qres = result.query('''\n",
    "SELECT ?x ?date\n",
    "WHERE {\n",
    "    ?x wdt:P569 ?date .\n",
    "}\n",
    "''')"
   ]
  },
  {
   "cell_type": "code",
   "execution_count": 127,
   "metadata": {
    "ExecuteTime": {
     "end_time": "2020-03-05T23:40:47.063946Z",
     "start_time": "2020-03-05T23:40:47.046942Z"
    }
   },
   "outputs": [
    {
     "name": "stdout",
     "output_type": "stream",
     "text": [
      "http://www.wikidata.org/entity/Q42\n"
     ]
    }
   ],
   "source": [
    "for row in qres:\n",
    "    print(row[0])"
   ]
  },
  {
   "cell_type": "code",
   "execution_count": 37,
   "metadata": {
    "ExecuteTime": {
     "end_time": "2020-03-05T14:10:44.811940Z",
     "start_time": "2020-03-05T14:10:44.790988Z"
    }
   },
   "outputs": [],
   "source": [
    "g = Graph()"
   ]
  },
  {
   "cell_type": "code",
   "execution_count": 38,
   "metadata": {
    "ExecuteTime": {
     "end_time": "2020-03-05T14:11:11.218125Z",
     "start_time": "2020-03-05T14:11:10.816230Z"
    }
   },
   "outputs": [
    {
     "data": {
      "text/plain": [
       "<Graph identifier=N953c2c1f37e84fba8984dff7b9594ba3 (<class 'rdflib.graph.Graph'>)>"
      ]
     },
     "execution_count": 38,
     "metadata": {},
     "output_type": "execute_result"
    }
   ],
   "source": [
    "g.parse('graph.ttl', format='turtle')"
   ]
  },
  {
   "cell_type": "code",
   "execution_count": 260,
   "metadata": {
    "ExecuteTime": {
     "end_time": "2020-03-06T00:28:35.784718Z",
     "start_time": "2020-03-06T00:28:35.769421Z"
    }
   },
   "outputs": [],
   "source": [
    "qres = g.query('''\n",
    "SELECT ?x ?p ?y\n",
    "WHERE {\n",
    "    VALUES ?p { wdt:P569 wdt:P19 }\n",
    "    ?x ?p ?y .\n",
    "}\n",
    "''')"
   ]
  },
  {
   "cell_type": "code",
   "execution_count": 261,
   "metadata": {
    "ExecuteTime": {
     "end_time": "2020-03-06T00:28:36.481593Z",
     "start_time": "2020-03-06T00:28:36.473643Z"
    }
   },
   "outputs": [
    {
     "name": "stdout",
     "output_type": "stream",
     "text": [
      "(rdflib.term.URIRef('http://www.wikidata.org/entity/Q42'), rdflib.term.URIRef('http://www.wikidata.org/prop/direct/P569'), rdflib.term.Literal('1952-03-11T00:00:00+00:00', datatype=rdflib.term.URIRef('http://www.w3.org/2001/XMLSchema#dateTime')))\n",
      "(rdflib.term.URIRef('http://www.wikidata.org/entity/Q42'), rdflib.term.URIRef('http://www.wikidata.org/prop/direct/P19'), rdflib.term.URIRef('http://www.wikidata.org/entity/Q350'))\n"
     ]
    }
   ],
   "source": [
    "for row in qres:\n",
    "    print(row)"
   ]
  },
  {
   "cell_type": "markdown",
   "metadata": {},
   "source": [
    "### Entities selection"
   ]
  },
  {
   "cell_type": "code",
   "execution_count": 4,
   "metadata": {
    "ExecuteTime": {
     "end_time": "2020-03-27T01:12:14.177105Z",
     "start_time": "2020-03-27T01:12:02.303334Z"
    }
   },
   "outputs": [],
   "source": [
    "q_to_labels = defaultdict(list)\n",
    "with open('labels_token.txt') as inf:\n",
    "    for line in inf:\n",
    "        line = line.strip('\\n')\n",
    "        qid, label = line.split(':', 1)\n",
    "        q_to_labels[qid].append(label)"
   ]
  },
  {
   "cell_type": "code",
   "execution_count": 5,
   "metadata": {
    "ExecuteTime": {
     "end_time": "2020-03-27T01:12:15.004800Z",
     "start_time": "2020-03-27T01:12:14.986982Z"
    }
   },
   "outputs": [
    {
     "data": {
      "text/plain": [
       "4114595"
      ]
     },
     "execution_count": 5,
     "metadata": {},
     "output_type": "execute_result"
    }
   ],
   "source": [
    "len(q_to_labels)"
   ]
  },
  {
   "cell_type": "code",
   "execution_count": 6,
   "metadata": {
    "ExecuteTime": {
     "end_time": "2020-03-27T01:12:18.143780Z",
     "start_time": "2020-03-27T01:12:16.106526Z"
    }
   },
   "outputs": [
    {
     "data": {
      "text/plain": [
       "3681522"
      ]
     },
     "execution_count": 6,
     "metadata": {},
     "output_type": "execute_result"
    }
   ],
   "source": [
    "cnt = 0\n",
    "for qid in q_to_labels:\n",
    "    if int(qid[1:]) > 1000000:\n",
    "        cnt += 1\n",
    "cnt"
   ]
  },
  {
   "cell_type": "code",
   "execution_count": 7,
   "metadata": {
    "ExecuteTime": {
     "end_time": "2020-03-27T01:12:19.531126Z",
     "start_time": "2020-03-27T01:12:19.527069Z"
    }
   },
   "outputs": [],
   "source": [
    "russian_letters = 'АаБбВвГгДдЕеЁёЖжЗзИиЙйКкЛлМмНнОоПпРрСсТтУуФфХхЦцЧчШшЩщЪъЫыЬьЭэЮюЯя'"
   ]
  },
  {
   "cell_type": "code",
   "execution_count": 8,
   "metadata": {
    "ExecuteTime": {
     "end_time": "2020-03-27T01:12:20.355567Z",
     "start_time": "2020-03-27T01:12:20.350665Z"
    }
   },
   "outputs": [],
   "source": [
    "def validate_entity(qid, labels):\n",
    "    if int(qid[1:]) <= 1000000:\n",
    "        return True\n",
    "    for label in labels:\n",
    "        for letter in label:\n",
    "            if letter in russian_letters:\n",
    "                return True\n",
    "    return False"
   ]
  },
  {
   "cell_type": "code",
   "execution_count": 9,
   "metadata": {
    "ExecuteTime": {
     "end_time": "2020-03-27T01:13:34.330810Z",
     "start_time": "2020-03-27T01:13:24.579126Z"
    }
   },
   "outputs": [
    {
     "data": {
      "application/vnd.jupyter.widget-view+json": {
       "model_id": "f580287cbb7c4629af8c24c7d24c91f2",
       "version_major": 2,
       "version_minor": 0
      },
      "text/plain": [
       "HBox(children=(IntProgress(value=0, max=4114595), HTML(value='')))"
      ]
     },
     "metadata": {},
     "output_type": "display_data"
    },
    {
     "name": "stdout",
     "output_type": "stream",
     "text": [
      "\n"
     ]
    }
   ],
   "source": [
    "good_entities = []\n",
    "bad_entities = []\n",
    "for qid, labels in tqdm(q_to_labels.items()):\n",
    "    if validate_entity(qid, labels):\n",
    "        good_entities.append(qid)\n",
    "    else:\n",
    "        bad_entities.append(qid)\n",
    "good_entities.sort(key=lambda qid: int(qid[1:]))\n",
    "bad_entities.sort(key=lambda qid: int(qid[1:]))"
   ]
  },
  {
   "cell_type": "code",
   "execution_count": 10,
   "metadata": {
    "ExecuteTime": {
     "end_time": "2020-03-27T01:13:34.341101Z",
     "start_time": "2020-03-27T01:13:34.333773Z"
    }
   },
   "outputs": [
    {
     "data": {
      "text/plain": [
       "1679872"
      ]
     },
     "execution_count": 10,
     "metadata": {},
     "output_type": "execute_result"
    }
   ],
   "source": [
    "len(good_entities)"
   ]
  },
  {
   "cell_type": "code",
   "execution_count": 11,
   "metadata": {
    "ExecuteTime": {
     "end_time": "2020-03-27T01:13:37.057886Z",
     "start_time": "2020-03-27T01:13:37.050921Z"
    }
   },
   "outputs": [
    {
     "data": {
      "text/plain": [
       "2434723"
      ]
     },
     "execution_count": 11,
     "metadata": {},
     "output_type": "execute_result"
    }
   ],
   "source": [
    "len(bad_entities)"
   ]
  },
  {
   "cell_type": "markdown",
   "metadata": {
    "heading_collapsed": true
   },
   "source": [
    "### Predicates selection"
   ]
  },
  {
   "cell_type": "code",
   "execution_count": 342,
   "metadata": {
    "ExecuteTime": {
     "end_time": "2020-03-09T16:39:43.999766Z",
     "start_time": "2020-03-09T16:39:43.973585Z"
    },
    "hidden": true
   },
   "outputs": [],
   "source": [
    "rgx = re.compile(r'\\b\\w*:\\w*\\b')"
   ]
  },
  {
   "cell_type": "code",
   "execution_count": 353,
   "metadata": {
    "ExecuteTime": {
     "end_time": "2020-03-09T16:50:14.253052Z",
     "start_time": "2020-03-09T16:50:14.139276Z"
    },
    "hidden": true
   },
   "outputs": [],
   "source": [
    "pred_candidates = []\n",
    "with open('kbqa_russian_dataset.json', 'r') as inf:\n",
    "    for line in inf:\n",
    "        pred_candidates.extend(re.findall(rgx, line))"
   ]
  },
  {
   "cell_type": "code",
   "execution_count": 361,
   "metadata": {
    "ExecuteTime": {
     "end_time": "2020-03-09T16:58:43.199926Z",
     "start_time": "2020-03-09T16:58:43.192884Z"
    },
    "hidden": true
   },
   "outputs": [],
   "source": [
    "predicates = set()\n",
    "for cand in pred_candidates:\n",
    "    if not cand.startswith('wd:'):\n",
    "        predicates.add(cand)"
   ]
  },
  {
   "cell_type": "code",
   "execution_count": 365,
   "metadata": {
    "ExecuteTime": {
     "end_time": "2020-03-09T16:59:07.970964Z",
     "start_time": "2020-03-09T16:59:07.960331Z"
    },
    "hidden": true
   },
   "outputs": [
    {
     "data": {
      "text/plain": [
       "{'23T00:00',\n",
       " '28T00:00',\n",
       " ':00Z',\n",
       " 'p:P1346',\n",
       " 'p:P1448',\n",
       " 'p:P161',\n",
       " 'p:P166',\n",
       " 'p:P175',\n",
       " 'p:P180',\n",
       " 'p:P2046',\n",
       " 'p:P2048',\n",
       " 'p:P2225',\n",
       " 'p:P2234',\n",
       " 'p:P26',\n",
       " 'p:P279',\n",
       " 'p:P36',\n",
       " 'p:P371',\n",
       " 'p:P39',\n",
       " 'p:P457',\n",
       " 'p:P527',\n",
       " 'p:P54',\n",
       " 'p:P6',\n",
       " 'p:P69',\n",
       " 'p:P734',\n",
       " 'p:P735',\n",
       " 'pq:P1545',\n",
       " 'pq:P1686',\n",
       " 'pq:P2079',\n",
       " 'pq:P453',\n",
       " 'pq:P459',\n",
       " 'pq:P512',\n",
       " 'pq:P580',\n",
       " 'pq:P582',\n",
       " 'pq:P585',\n",
       " 'pq:P642',\n",
       " 'ps:P1346',\n",
       " 'ps:P1448',\n",
       " 'ps:P161',\n",
       " 'ps:P166',\n",
       " 'ps:P175',\n",
       " 'ps:P26',\n",
       " 'ps:P36',\n",
       " 'ps:P371',\n",
       " 'ps:P39',\n",
       " 'ps:P457',\n",
       " 'ps:P527',\n",
       " 'ps:P54',\n",
       " 'ps:P6',\n",
       " 'ps:P734',\n",
       " 'ps:P735',\n",
       " 'psn:P2046',\n",
       " 'psn:P2048',\n",
       " 'psn:P2225',\n",
       " 'psn:P2234',\n",
       " 'rdfs:label',\n",
       " 'skos:altLabel',\n",
       " 'wdt:P101',\n",
       " 'wdt:P102',\n",
       " 'wdt:P1027',\n",
       " 'wdt:P1029',\n",
       " 'wdt:P1050',\n",
       " 'wdt:P1056',\n",
       " 'wdt:P106',\n",
       " 'wdt:P1066',\n",
       " 'wdt:P1071',\n",
       " 'wdt:P108',\n",
       " 'wdt:P1101',\n",
       " 'wdt:P111',\n",
       " 'wdt:P1113',\n",
       " 'wdt:P1114',\n",
       " 'wdt:P112',\n",
       " 'wdt:P1132',\n",
       " 'wdt:P115',\n",
       " 'wdt:P1165',\n",
       " 'wdt:P1181',\n",
       " 'wdt:P1196',\n",
       " 'wdt:P122',\n",
       " 'wdt:P123',\n",
       " 'wdt:P1269',\n",
       " 'wdt:P127',\n",
       " 'wdt:P1303',\n",
       " 'wdt:P131',\n",
       " 'wdt:P1344',\n",
       " 'wdt:P1346',\n",
       " 'wdt:P135',\n",
       " 'wdt:P136',\n",
       " 'wdt:P1365',\n",
       " 'wdt:P1366',\n",
       " 'wdt:P1376',\n",
       " 'wdt:P138',\n",
       " 'wdt:P1382',\n",
       " 'wdt:P140',\n",
       " 'wdt:P1419',\n",
       " 'wdt:P1429',\n",
       " 'wdt:P144',\n",
       " 'wdt:P1441',\n",
       " 'wdt:P1449',\n",
       " 'wdt:P1476',\n",
       " 'wdt:P1477',\n",
       " 'wdt:P149',\n",
       " 'wdt:P150',\n",
       " 'wdt:P1532',\n",
       " 'wdt:P155',\n",
       " 'wdt:P1557',\n",
       " 'wdt:P1559',\n",
       " 'wdt:P156',\n",
       " 'wdt:P157',\n",
       " 'wdt:P1582',\n",
       " 'wdt:P159',\n",
       " 'wdt:P161',\n",
       " 'wdt:P166',\n",
       " 'wdt:P17',\n",
       " 'wdt:P170',\n",
       " 'wdt:P171',\n",
       " 'wdt:P172',\n",
       " 'wdt:P175',\n",
       " 'wdt:P176',\n",
       " 'wdt:P177',\n",
       " 'wdt:P178',\n",
       " 'wdt:P180',\n",
       " 'wdt:P183',\n",
       " 'wdt:P1830',\n",
       " 'wdt:P186',\n",
       " 'wdt:P1876',\n",
       " 'wdt:P1880',\n",
       " 'wdt:P1884',\n",
       " 'wdt:P19',\n",
       " 'wdt:P195',\n",
       " 'wdt:P20',\n",
       " 'wdt:P200',\n",
       " 'wdt:P201',\n",
       " 'wdt:P206',\n",
       " 'wdt:P2067',\n",
       " 'wdt:P21',\n",
       " 'wdt:P22',\n",
       " 'wdt:P2283',\n",
       " 'wdt:P2348',\n",
       " 'wdt:P241',\n",
       " 'wdt:P2416',\n",
       " 'wdt:P25',\n",
       " 'wdt:P2551',\n",
       " 'wdt:P2556',\n",
       " 'wdt:P2575',\n",
       " 'wdt:P2578',\n",
       " 'wdt:P2579',\n",
       " 'wdt:P26',\n",
       " 'wdt:P27',\n",
       " 'wdt:P272',\n",
       " 'wdt:P276',\n",
       " 'wdt:P2789',\n",
       " 'wdt:P279',\n",
       " 'wdt:P282',\n",
       " 'wdt:P286',\n",
       " 'wdt:P30',\n",
       " 'wdt:P3091',\n",
       " 'wdt:P3095',\n",
       " 'wdt:P31',\n",
       " 'wdt:P3373',\n",
       " 'wdt:P3438',\n",
       " 'wdt:P35',\n",
       " 'wdt:P36',\n",
       " 'wdt:P361',\n",
       " 'wdt:P366',\n",
       " 'wdt:P37',\n",
       " 'wdt:P3716',\n",
       " 'wdt:P376',\n",
       " 'wdt:P38',\n",
       " 'wdt:P39',\n",
       " 'wdt:P398',\n",
       " 'wdt:P40',\n",
       " 'wdt:P4000',\n",
       " 'wdt:P403',\n",
       " 'wdt:P407',\n",
       " 'wdt:P410',\n",
       " 'wdt:P412',\n",
       " 'wdt:P413',\n",
       " 'wdt:P417',\n",
       " 'wdt:P421',\n",
       " 'wdt:P425',\n",
       " 'wdt:P450',\n",
       " 'wdt:P451',\n",
       " 'wdt:P460',\n",
       " 'wdt:P462',\n",
       " 'wdt:P463',\n",
       " 'wdt:P4647',\n",
       " 'wdt:P4770',\n",
       " 'wdt:P488',\n",
       " 'wdt:P4934',\n",
       " 'wdt:P495',\n",
       " 'wdt:P4969',\n",
       " 'wdt:P50',\n",
       " 'wdt:P501',\n",
       " 'wdt:P509',\n",
       " 'wdt:P5096',\n",
       " 'wdt:P522',\n",
       " 'wdt:P527',\n",
       " 'wdt:P53',\n",
       " 'wdt:P54',\n",
       " 'wdt:P551',\n",
       " 'wdt:P559',\n",
       " 'wdt:P569',\n",
       " 'wdt:P57',\n",
       " 'wdt:P570',\n",
       " 'wdt:P571',\n",
       " 'wdt:P58',\n",
       " 'wdt:P580',\n",
       " 'wdt:P582',\n",
       " 'wdt:P59',\n",
       " 'wdt:P6',\n",
       " 'wdt:P607',\n",
       " 'wdt:P61',\n",
       " 'wdt:P610',\n",
       " 'wdt:P641',\n",
       " 'wdt:P647',\n",
       " 'wdt:P669',\n",
       " 'wdt:P674',\n",
       " 'wdt:P676',\n",
       " 'wdt:P6886',\n",
       " 'wdt:P706',\n",
       " 'wdt:P710',\n",
       " 'wdt:P725',\n",
       " 'wdt:P734',\n",
       " 'wdt:P735',\n",
       " 'wdt:P740',\n",
       " 'wdt:P742',\n",
       " 'wdt:P749',\n",
       " 'wdt:P793',\n",
       " 'wdt:P800',\n",
       " 'wdt:P823',\n",
       " 'wdt:P828',\n",
       " 'wdt:P837',\n",
       " 'wdt:P84',\n",
       " 'wdt:P840',\n",
       " 'wdt:P86',\n",
       " 'wdt:P87',\n",
       " 'wdt:P88',\n",
       " 'wdt:P885',\n",
       " 'wdt:P915',\n",
       " 'wdt:P921',\n",
       " 'wdt:P927',\n",
       " 'wdt:P931',\n",
       " 'wdt:P937',\n",
       " 'wdt:P941',\n",
       " 'wdt:P942',\n",
       " 'wdt:P97',\n",
       " 'wdt:P98',\n",
       " 'wdt:P991',\n",
       " 'wikibase:quantityAmount',\n",
       " 'xml:lang',\n",
       " 'xsd:dateTime'}"
      ]
     },
     "execution_count": 365,
     "metadata": {},
     "output_type": "execute_result"
    }
   ],
   "source": [
    "predicates"
   ]
  },
  {
   "cell_type": "code",
   "execution_count": 363,
   "metadata": {
    "ExecuteTime": {
     "end_time": "2020-03-09T16:58:59.320017Z",
     "start_time": "2020-03-09T16:58:59.311639Z"
    },
    "hidden": true
   },
   "outputs": [],
   "source": [
    "pred_sufs = set()\n",
    "for pred in predicates:\n",
    "    suf = pred.split(':')[0]\n",
    "    pred_sufs.add(suf)"
   ]
  },
  {
   "cell_type": "code",
   "execution_count": 364,
   "metadata": {
    "ExecuteTime": {
     "end_time": "2020-03-09T16:59:01.634828Z",
     "start_time": "2020-03-09T16:59:01.629009Z"
    },
    "hidden": true
   },
   "outputs": [
    {
     "data": {
      "text/plain": [
       "{'',\n",
       " '23T00',\n",
       " '28T00',\n",
       " 'p',\n",
       " 'pq',\n",
       " 'ps',\n",
       " 'psn',\n",
       " 'rdfs',\n",
       " 'skos',\n",
       " 'wdt',\n",
       " 'wikibase',\n",
       " 'xml',\n",
       " 'xsd'}"
      ]
     },
     "execution_count": 364,
     "metadata": {},
     "output_type": "execute_result"
    }
   ],
   "source": [
    "pred_sufs"
   ]
  },
  {
   "cell_type": "code",
   "execution_count": 461,
   "metadata": {
    "ExecuteTime": {
     "end_time": "2020-03-09T21:17:39.847687Z",
     "start_time": "2020-03-09T21:17:39.842195Z"
    },
    "hidden": true
   },
   "outputs": [],
   "source": [
    "special_predicates = [\n",
    "    'wikibase:quantityAmount',\n",
    "    'rdfs:label',\n",
    "    'skos:altLabel'\n",
    "]\n",
    "predicate_suffixes = [\n",
    "    'wdt',\n",
    "    'p',\n",
    "    'pq',\n",
    "    'ps',\n",
    "    'psn',\n",
    "]"
   ]
  },
  {
   "cell_type": "code",
   "execution_count": 444,
   "metadata": {
    "ExecuteTime": {
     "end_time": "2020-03-09T21:11:36.876882Z",
     "start_time": "2020-03-09T21:11:36.708399Z"
    },
    "hidden": true
   },
   "outputs": [],
   "source": [
    "all_props = pd.read_csv('clean_properties_data.csv', header=0)\n",
    "properties = all_props.values[:, 0].tolist()\n",
    "freqs = all_props.values[:, -1].tolist()"
   ]
  },
  {
   "cell_type": "code",
   "execution_count": 447,
   "metadata": {
    "ExecuteTime": {
     "end_time": "2020-03-09T21:12:15.037791Z",
     "start_time": "2020-03-09T21:12:15.027938Z"
    },
    "hidden": true
   },
   "outputs": [],
   "source": [
    "freqs = [int(s.replace(',', '')) for s in freqs]"
   ]
  },
  {
   "cell_type": "code",
   "execution_count": 452,
   "metadata": {
    "ExecuteTime": {
     "end_time": "2020-03-09T21:13:41.144674Z",
     "start_time": "2020-03-09T21:13:41.132794Z"
    },
    "hidden": true
   },
   "outputs": [
    {
     "data": {
      "text/plain": [
       "1013"
      ]
     },
     "execution_count": 452,
     "metadata": {},
     "output_type": "execute_result"
    }
   ],
   "source": [
    "cnt = 0\n",
    "for f in freqs:\n",
    "    if f > 1000:\n",
    "        cnt += 1\n",
    "cnt"
   ]
  },
  {
   "cell_type": "code",
   "execution_count": 399,
   "metadata": {
    "ExecuteTime": {
     "end_time": "2020-03-09T17:44:11.414931Z",
     "start_time": "2020-03-09T17:44:11.403299Z"
    },
    "hidden": true
   },
   "outputs": [
    {
     "name": "stdout",
     "output_type": "stream",
     "text": [
      "00\n",
      "00Z\n",
      "lang\n",
      "00\n",
      "altLabel\n",
      "dateTime\n",
      "quantityAmount\n",
      "label\n"
     ]
    }
   ],
   "source": [
    "for pred in predicates:\n",
    "    prop = pred.split(':')[1]\n",
    "    if prop not in properties:\n",
    "        print(prop)"
   ]
  },
  {
   "cell_type": "code",
   "execution_count": 484,
   "metadata": {
    "ExecuteTime": {
     "end_time": "2020-03-09T22:05:06.649769Z",
     "start_time": "2020-03-09T22:05:06.639184Z"
    },
    "hidden": true
   },
   "outputs": [],
   "source": [
    "all_predicates = []\n",
    "for prop in properties:\n",
    "    for suf in predicate_suffixes[:1]:\n",
    "        all_predicates.append(f'{suf}:{prop}')\n",
    "all_predicates.extend(special_predicates)"
   ]
  },
  {
   "cell_type": "code",
   "execution_count": 485,
   "metadata": {
    "ExecuteTime": {
     "end_time": "2020-03-09T22:05:07.011556Z",
     "start_time": "2020-03-09T22:05:07.003025Z"
    },
    "hidden": true
   },
   "outputs": [
    {
     "data": {
      "text/plain": [
       "2274"
      ]
     },
     "execution_count": 485,
     "metadata": {},
     "output_type": "execute_result"
    }
   ],
   "source": [
    "len(all_predicates)"
   ]
  },
  {
   "cell_type": "code",
   "execution_count": 486,
   "metadata": {
    "ExecuteTime": {
     "end_time": "2020-03-09T22:05:08.960567Z",
     "start_time": "2020-03-09T22:05:08.955187Z"
    },
    "hidden": true
   },
   "outputs": [],
   "source": [
    "all_predicates_string = ' '.join(all_predicates)"
   ]
  },
  {
   "cell_type": "code",
   "execution_count": 496,
   "metadata": {
    "ExecuteTime": {
     "end_time": "2020-03-09T22:25:21.579793Z",
     "start_time": "2020-03-09T22:25:21.560833Z"
    },
    "hidden": true
   },
   "outputs": [],
   "source": [
    "query = f'''\n",
    "CONSTRUCT {{\n",
    "  ?e0 ?p1 ?e1 .\n",
    "}}\n",
    "WHERE {{\n",
    "  VALUES ?e0 {{ {uris} }} .\n",
    "  ?e0 ?p1 ?e1 .\n",
    "  FILTER strstarts(str(?p1), str(wdt:)) .\n",
    "}}\n",
    "'''"
   ]
  },
  {
   "cell_type": "code",
   "execution_count": 474,
   "metadata": {
    "ExecuteTime": {
     "end_time": "2020-03-09T21:21:22.644739Z",
     "start_time": "2020-03-09T21:21:22.640542Z"
    },
    "hidden": true
   },
   "outputs": [],
   "source": [
    "query = '''\n",
    "CONSTRUCT {\n",
    "  ?x ps:P6 ?y\n",
    "}\n",
    "WHERE {\n",
    "  ?x ps:P6 ?y\n",
    "}\n",
    "LIMIT 1\n",
    "'''"
   ]
  },
  {
   "cell_type": "code",
   "execution_count": 478,
   "metadata": {
    "ExecuteTime": {
     "end_time": "2020-03-09T21:21:31.217561Z",
     "start_time": "2020-03-09T21:21:30.857465Z"
    },
    "hidden": true
   },
   "outputs": [],
   "source": [
    "qr = requests.get('https://query.wikidata.org/sparql', params={'format': 'json', 'query': query})"
   ]
  },
  {
   "cell_type": "code",
   "execution_count": 479,
   "metadata": {
    "ExecuteTime": {
     "end_time": "2020-03-09T21:21:31.841451Z",
     "start_time": "2020-03-09T21:21:31.832480Z"
    },
    "hidden": true
   },
   "outputs": [
    {
     "data": {
      "text/plain": [
       "<Response [502]>"
      ]
     },
     "execution_count": 479,
     "metadata": {},
     "output_type": "execute_result"
    }
   ],
   "source": [
    "qr"
   ]
  },
  {
   "cell_type": "code",
   "execution_count": 433,
   "metadata": {
    "ExecuteTime": {
     "end_time": "2020-03-09T21:07:54.562075Z",
     "start_time": "2020-03-09T21:07:54.553268Z"
    },
    "hidden": true
   },
   "outputs": [
    {
     "data": {
      "text/plain": [
       "{'head': {'vars': ['x', 'y']},\n",
       " 'results': {'bindings': [{'x': {'type': 'uri',\n",
       "     'value': 'http://www.wikidata.org/entity/statement/Q30-18C3B0DA-1F3E-4D3F-B3D0-807697C1C023'},\n",
       "    'y': {'type': 'uri', 'value': 'http://www.wikidata.org/entity/Q23'}}]}}"
      ]
     },
     "execution_count": 433,
     "metadata": {},
     "output_type": "execute_result"
    }
   ],
   "source": [
    "qr.json()"
   ]
  },
  {
   "cell_type": "code",
   "execution_count": 443,
   "metadata": {
    "ExecuteTime": {
     "end_time": "2020-03-09T21:08:53.145715Z",
     "start_time": "2020-03-09T21:08:53.141265Z"
    },
    "deletable": false,
    "editable": false,
    "hidden": true,
    "run_control": {
     "frozen": true
    }
   },
   "outputs": [],
   "source": [
    "existing_predicates = []"
   ]
  },
  {
   "cell_type": "code",
   "execution_count": null,
   "metadata": {
    "hidden": true
   },
   "outputs": [],
   "source": [
    "for pred in tqdm(all_predicates):\n",
    "    query = f'''\n",
    "    SELECT ?x ?y\n",
    "    WHERE {{\n",
    "      ?x {pred} ?y\n",
    "    }}\n",
    "    LIMIT 1\n",
    "    '''\n",
    "    res = requests.get('https://query.wikidata.org/sparql', params={'format': 'json', 'query': query}).json()\n",
    "    if res['results']['bindings']:\n",
    "        existing_predicates.append(pred)"
   ]
  },
  {
   "cell_type": "code",
   "execution_count": 497,
   "metadata": {
    "ExecuteTime": {
     "end_time": "2020-03-09T22:26:53.152007Z",
     "start_time": "2020-03-09T22:26:53.139991Z"
    },
    "hidden": true,
    "scrolled": false
   },
   "outputs": [
    {
     "name": "stdout",
     "output_type": "stream",
     "text": [
      "\n",
      "CONSTRUCT {\n",
      "  ?e0 ?p1 ?e1 .\n",
      "}\n",
      "WHERE {\n",
      "  VALUES ?e0 { wd:Q60041228 wd:Q60041406 wd:Q60041588 wd:Q60041613 wd:Q60041627 wd:Q60041669 wd:Q60041686 wd:Q60041693 wd:Q60042814 wd:Q60042828 wd:Q60042839 wd:Q60043576 wd:Q60043703 wd:Q60043850 wd:Q60043905 wd:Q60044496 wd:Q60044880 wd:Q60045011 wd:Q60045116 wd:Q60046381 wd:Q60046406 wd:Q60046634 wd:Q60046664 wd:Q60046734 wd:Q60046752 wd:Q60046894 wd:Q60047030 wd:Q60047357 wd:Q60047826 wd:Q60048020 wd:Q60048704 wd:Q60048762 wd:Q60048974 wd:Q60049322 wd:Q60049925 wd:Q60049972 wd:Q60050056 wd:Q60050372 wd:Q60050375 wd:Q60050411 wd:Q60050475 wd:Q60050578 wd:Q60050610 wd:Q60050663 wd:Q60050689 wd:Q60050753 wd:Q60050891 wd:Q60050905 wd:Q60051022 wd:Q60052987 wd:Q60053752 wd:Q60053844 wd:Q60053934 wd:Q60053987 wd:Q60053996 wd:Q60054046 wd:Q60054061 wd:Q60054071 wd:Q60054392 wd:Q60054429 wd:Q60054545 wd:Q60055016 wd:Q60055530 wd:Q60056218 wd:Q60056675 wd:Q60061634 wd:Q60061768 wd:Q60062595 wd:Q60063848 wd:Q60066005 wd:Q60066006 wd:Q60066008 wd:Q60066010 wd:Q60066011 wd:Q60066013 wd:Q60066015 wd:Q60066017 wd:Q60066019 wd:Q60066020 wd:Q60066369 wd:Q60067069 wd:Q60067072 wd:Q60067074 wd:Q60067075 wd:Q60067080 wd:Q60067081 wd:Q60067084 wd:Q60067086 wd:Q60067087 wd:Q60067091 wd:Q60067896 wd:Q60067897 wd:Q60067899 wd:Q60067902 wd:Q60067904 wd:Q60067907 wd:Q60067909 wd:Q60067910 wd:Q60067913 wd:Q60067916 wd:Q60067919 wd:Q60067920 wd:Q60068674 wd:Q60068678 wd:Q60068681 wd:Q60068683 wd:Q60068685 wd:Q60068686 wd:Q60068689 wd:Q60068691 wd:Q60068693 wd:Q60068697 wd:Q60068700 wd:Q60068703 wd:Q60069784 wd:Q60069788 wd:Q60069789 wd:Q60069794 wd:Q60069796 wd:Q60069800 wd:Q60069802 wd:Q60069806 wd:Q60069808 wd:Q60069812 wd:Q60069815 wd:Q60069819 wd:Q60070223 wd:Q60075074 wd:Q60081475 wd:Q60083934 wd:Q60086420 wd:Q60095303 wd:Q60099480 wd:Q60101152 wd:Q60103302 wd:Q60103857 wd:Q60104358 wd:Q60104911 wd:Q60105912 wd:Q60107782 wd:Q60107931 wd:Q60110655 wd:Q60114430 wd:Q60128699 wd:Q60129248 wd:Q60132493 wd:Q60141571 wd:Q60143272 wd:Q60143364 wd:Q60143408 wd:Q60143853 wd:Q60144013 wd:Q60144018 wd:Q60145764 wd:Q60147526 wd:Q60148626 wd:Q60149042 wd:Q60149043 wd:Q60150704 wd:Q60150742 wd:Q60151676 wd:Q60154038 wd:Q60155325 wd:Q60156003 wd:Q60156098 wd:Q60156104 wd:Q60156176 wd:Q60156922 wd:Q60157527 wd:Q60157741 wd:Q60158008 wd:Q60158651 wd:Q60158845 wd:Q60159738 wd:Q60159794 wd:Q60159968 wd:Q60160194 wd:Q60161231 wd:Q60161538 wd:Q60161572 wd:Q60161750 wd:Q60161915 wd:Q60161980 wd:Q60163405 wd:Q60163817 wd:Q60165016 wd:Q60165363 wd:Q60165516 wd:Q60167171 wd:Q60167219 wd:Q60167384 wd:Q60167465 wd:Q60167638 wd:Q60167696 wd:Q60167730 wd:Q60167779 wd:Q60167808 wd:Q60168037 wd:Q60168094 wd:Q60168108 wd:Q60168123 wd:Q60168158 wd:Q60168226 wd:Q60168294 wd:Q60168297 wd:Q60168518 wd:Q60168520 wd:Q60168849 wd:Q60168866 wd:Q60169103 wd:Q60169300 wd:Q60169379 wd:Q60169568 wd:Q60170995 wd:Q60171305 wd:Q60171391 wd:Q60171424 wd:Q60171766 wd:Q60171936 wd:Q60171947 wd:Q60171990 wd:Q60172114 wd:Q60172169 wd:Q60172222 wd:Q60172262 wd:Q60172267 wd:Q60172293 wd:Q60172324 wd:Q60172346 wd:Q60172386 wd:Q60172413 wd:Q60173832 wd:Q60174523 wd:Q60175150 wd:Q60175169 wd:Q60175403 wd:Q60175839 wd:Q60175855 wd:Q60176335 wd:Q60176450 wd:Q60176456 wd:Q60176530 wd:Q60176574 wd:Q60176601 wd:Q60178305 wd:Q60178661 wd:Q60178807 wd:Q60179142 wd:Q60180080 wd:Q60180405 wd:Q60180569 wd:Q60181092 wd:Q60182074 wd:Q60182404 wd:Q60182405 wd:Q60182407 wd:Q60182408 wd:Q60182409 wd:Q60182411 wd:Q60182412 wd:Q60182414 wd:Q60182670 wd:Q60183171 wd:Q60183173 wd:Q60183223 wd:Q60183224 wd:Q60183225 wd:Q60183226 wd:Q60183227 wd:Q60183228 wd:Q60183229 wd:Q60183230 wd:Q60183231 wd:Q60183256 wd:Q60183455 wd:Q60183456 wd:Q60183457 wd:Q60183469 wd:Q60183470 wd:Q60183471 wd:Q60183473 wd:Q60183474 wd:Q60183475 wd:Q60183476 wd:Q60183477 wd:Q60183479 wd:Q60183480 wd:Q60183541 wd:Q60183599 wd:Q60183670 wd:Q60183673 wd:Q60183674 wd:Q60183676 wd:Q60183678 wd:Q60183998 wd:Q60184125 wd:Q60184126 wd:Q60184129 wd:Q60184130 wd:Q60184132 wd:Q60184134 wd:Q60186044 wd:Q60191510 wd:Q60191596 wd:Q60191601 wd:Q60191806 wd:Q60192059 wd:Q60192279 wd:Q60192987 wd:Q60193014 wd:Q60193099 wd:Q60193100 wd:Q60193101 wd:Q60193102 wd:Q60193103 wd:Q60193104 wd:Q60193105 wd:Q60193106 wd:Q60193107 wd:Q60193108 wd:Q60193113 wd:Q60193114 wd:Q60193115 wd:Q60193116 wd:Q60193117 wd:Q60193118 wd:Q60193119 wd:Q60193120 wd:Q60193121 wd:Q60193123 wd:Q60193127 wd:Q60193128 wd:Q60193129 wd:Q60193130 wd:Q60193131 wd:Q60193132 wd:Q60193133 wd:Q60193274 wd:Q60193275 wd:Q60193276 wd:Q60193277 wd:Q60193278 wd:Q60193279 wd:Q60193280 wd:Q60193281 wd:Q60193282 wd:Q60193283 wd:Q60193290 wd:Q60193291 wd:Q60193292 wd:Q60193293 wd:Q60193294 wd:Q60193295 wd:Q60193296 wd:Q60193297 wd:Q60193298 wd:Q60193299 wd:Q60193328 wd:Q60193329 wd:Q60193330 wd:Q60193331 wd:Q60193332 wd:Q60193333 wd:Q60193335 wd:Q60193336 wd:Q60193337 wd:Q60193338 wd:Q60193349 wd:Q60193355 wd:Q60193356 wd:Q60193357 wd:Q60193358 wd:Q60193359 wd:Q60193360 wd:Q60193361 wd:Q60193362 wd:Q60193363 wd:Q60193364 wd:Q60193372 wd:Q60193382 wd:Q60193383 wd:Q60193384 wd:Q60193385 wd:Q60193386 wd:Q60193387 wd:Q60193388 wd:Q60193389 wd:Q60193390 wd:Q60193391 wd:Q60193392 wd:Q60193489 wd:Q60194066 wd:Q60194068 wd:Q60194070 wd:Q60194706 wd:Q60194797 wd:Q60194880 wd:Q60194891 wd:Q60195029 wd:Q60195373 wd:Q60195444 wd:Q60195790 wd:Q60195791 wd:Q60195792 wd:Q60195793 wd:Q60195794 wd:Q60195795 wd:Q60195796 wd:Q60195797 wd:Q60195798 wd:Q60195882 wd:Q60195884 wd:Q60195885 wd:Q60195887 wd:Q60195889 wd:Q60195890 wd:Q60195891 wd:Q60195892 wd:Q60195908 wd:Q60195909 wd:Q60196214 wd:Q60196516 wd:Q60196572 wd:Q60196623 wd:Q60196736 wd:Q60196861 wd:Q60197056 wd:Q60197065 wd:Q60197239 wd:Q60197246 wd:Q60197478 wd:Q60197543 wd:Q60197571 wd:Q60197577 wd:Q60197591 wd:Q60197615 wd:Q60197639 wd:Q60198205 wd:Q60198391 wd:Q60198488 wd:Q60198874 wd:Q60201774 wd:Q60208744 wd:Q60212323 wd:Q60213134 wd:Q60213242 wd:Q60213506 wd:Q60213518 wd:Q60218221 wd:Q60218561 wd:Q60220226 wd:Q60220292 wd:Q60220320 wd:Q60220335 wd:Q60220371 wd:Q60220650 wd:Q60220678 wd:Q60220954 wd:Q60221071 wd:Q60221129 wd:Q60221154 wd:Q60221155 wd:Q60221156 wd:Q60221158 wd:Q60221159 wd:Q60221160 wd:Q60221161 wd:Q60221162 wd:Q60221163 wd:Q60221164 wd:Q60221165 wd:Q60221166 wd:Q60221168 wd:Q60221169 wd:Q60221171 wd:Q60221172 wd:Q60221173 wd:Q60221174 wd:Q60221175 wd:Q60221176 wd:Q60221177 wd:Q60221178 wd:Q60221180 wd:Q60221181 wd:Q60221182 wd:Q60221183 wd:Q60221184 wd:Q60221186 wd:Q60221187 wd:Q60221188 wd:Q60221189 wd:Q60221191 wd:Q60221192 wd:Q60221193 wd:Q60221195 wd:Q60221196 wd:Q60221197 wd:Q60221198 wd:Q60221199 wd:Q60221200 wd:Q60221201 wd:Q60221202 wd:Q60221203 wd:Q60221204 wd:Q60221205 wd:Q60221206 wd:Q60221207 wd:Q60221208 wd:Q60221231 wd:Q60221232 wd:Q60221260 wd:Q60221286 wd:Q60221481 wd:Q60221705 wd:Q60221706 wd:Q60221707 wd:Q60221708 wd:Q60221709 wd:Q60221710 wd:Q60221711 wd:Q60221713 wd:Q60221714 wd:Q60221763 wd:Q60221855 wd:Q60222237 wd:Q60222357 wd:Q60222432 wd:Q60222453 wd:Q60222833 wd:Q60222846 wd:Q60223961 wd:Q60224032 wd:Q60224234 wd:Q60226041 wd:Q60227988 wd:Q60228086 wd:Q60228194 wd:Q60228222 wd:Q60228226 wd:Q60228380 wd:Q60230171 wd:Q60231040 wd:Q60231050 wd:Q60231056 wd:Q60231144 wd:Q60231178 wd:Q60231304 wd:Q60232089 wd:Q60232445 wd:Q60233808 wd:Q60234231 wd:Q60234420 wd:Q60234483 wd:Q60234512 wd:Q60234934 wd:Q60239340 wd:Q60239432 wd:Q60240252 wd:Q60241044 wd:Q60242201 wd:Q60242374 wd:Q60242456 wd:Q60242546 wd:Q60242660 wd:Q60242951 wd:Q60242987 wd:Q60243033 wd:Q60243181 wd:Q60244702 wd:Q60244705 wd:Q60244722 wd:Q60245199 wd:Q60247130 wd:Q60248316 wd:Q60251728 wd:Q60254963 wd:Q60255577 wd:Q60256660 wd:Q60257621 wd:Q60260517 wd:Q60263931 wd:Q60265424 wd:Q60269239 wd:Q60276561 wd:Q60284783 wd:Q60286751 wd:Q60286810 wd:Q60289711 wd:Q60289783 wd:Q60289960 wd:Q60291305 wd:Q60291576 wd:Q60291946 wd:Q60293023 wd:Q60297266 wd:Q60297609 wd:Q60297873 wd:Q60298193 wd:Q60298555 wd:Q60298564 wd:Q60298884 wd:Q60300000 wd:Q60300011 wd:Q60300848 wd:Q60301111 wd:Q60309364 wd:Q60309635 wd:Q60310148 wd:Q60310980 wd:Q60311086 wd:Q60311122 wd:Q60311957 wd:Q60313110 wd:Q60313965 wd:Q60314270 wd:Q60314284 wd:Q60314495 wd:Q60314791 wd:Q60314869 wd:Q60314921 wd:Q60314948 wd:Q60314958 wd:Q60315016 wd:Q60315073 wd:Q60315088 wd:Q60315092 wd:Q60315111 wd:Q60315135 wd:Q60315155 wd:Q60315207 wd:Q60315224 wd:Q60315275 wd:Q60315288 wd:Q60315412 wd:Q60315517 wd:Q60315639 wd:Q60315766 wd:Q60315793 wd:Q60315808 wd:Q60317016 wd:Q60317538 wd:Q60317590 wd:Q60317638 wd:Q60317689 wd:Q60317737 wd:Q60317868 wd:Q60317907 wd:Q60318093 wd:Q60318109 wd:Q60318115 wd:Q60318119 wd:Q60318122 wd:Q60318153 wd:Q60318172 wd:Q60318184 wd:Q60318201 wd:Q60318651 wd:Q60318740 wd:Q60319023 wd:Q60319028 wd:Q60319037 wd:Q60319053 wd:Q60319071 wd:Q60319081 wd:Q60319115 wd:Q60319252 wd:Q60319280 wd:Q60319345 wd:Q60319392 wd:Q60319442 wd:Q60319511 wd:Q60319614 wd:Q60319778 wd:Q60320096 wd:Q60320270 wd:Q60320374 wd:Q60320406 wd:Q60320437 wd:Q60320479 wd:Q60320527 wd:Q60320570 wd:Q60320571 wd:Q60320656 wd:Q60321001 wd:Q60321035 wd:Q60321036 wd:Q60321084 wd:Q60321091 wd:Q60321130 wd:Q60321243 wd:Q60321320 wd:Q60322316 wd:Q60322328 wd:Q60322608 wd:Q60322687 wd:Q60322738 wd:Q60322743 wd:Q60322806 wd:Q60322843 wd:Q60322844 wd:Q60322863 wd:Q60322884 wd:Q60322901 wd:Q60323809 wd:Q60323938 wd:Q60324307 wd:Q60325015 wd:Q60325347 wd:Q60325419 wd:Q60325522 wd:Q60325682 wd:Q60326120 wd:Q60326224 wd:Q60326277 wd:Q60326884 wd:Q60326933 wd:Q60326999 wd:Q60327057 wd:Q60327381 wd:Q60327399 wd:Q60327404 wd:Q60327412 wd:Q60327427 wd:Q60327464 wd:Q60327495 wd:Q60327518 wd:Q60327530 wd:Q60327543 wd:Q60327565 wd:Q60327580 wd:Q60327590 wd:Q60327975 wd:Q60327997 wd:Q60328145 wd:Q60328418 wd:Q60328460 wd:Q60328498 wd:Q60328553 wd:Q60328580 wd:Q60328619 wd:Q60328629 wd:Q60328637 wd:Q60328733 wd:Q60328749 wd:Q60328806 wd:Q60328969 wd:Q60328991 wd:Q60329033 wd:Q60329052 wd:Q60329070 wd:Q60329109 wd:Q60329130 wd:Q60329150 wd:Q60329171 wd:Q60329223 wd:Q60329298 wd:Q60329321 wd:Q60329325 wd:Q60329371 wd:Q60329384 wd:Q60329386 wd:Q60329509 wd:Q60329614 wd:Q60329642 wd:Q60329671 wd:Q60329692 wd:Q60329708 wd:Q60329719 wd:Q60329772 wd:Q60329790 wd:Q60329803 wd:Q60329815 wd:Q60329835 wd:Q60330105 wd:Q60330195 wd:Q60330206 wd:Q60330262 wd:Q60330442 wd:Q60330453 wd:Q60330490 wd:Q60330839 wd:Q60330941 wd:Q60331297 wd:Q60331332 wd:Q60331694 wd:Q60332056 wd:Q60332278 wd:Q60332371 wd:Q60333671 wd:Q60333963 wd:Q60335585 wd:Q60336636 wd:Q60338260 wd:Q60338945 wd:Q60338946 wd:Q60338947 wd:Q60338948 wd:Q60338949 wd:Q60338950 wd:Q60338951 wd:Q60339404 wd:Q60341111 wd:Q60344890 wd:Q60345396 wd:Q60345679 wd:Q60345721 wd:Q60345819 wd:Q60345905 wd:Q60346025 wd:Q60346131 wd:Q60346216 wd:Q60346356 wd:Q60346435 wd:Q60346562 wd:Q60347458 wd:Q60349526 wd:Q60367004 wd:Q60367674 wd:Q60367850 wd:Q60367981 wd:Q60367985 wd:Q60368106 wd:Q60368111 wd:Q60368166 wd:Q60368248 wd:Q60368475 wd:Q60369019 wd:Q60371099 wd:Q60371393 wd:Q60372656 wd:Q60374115 wd:Q60374262 wd:Q60374475 wd:Q60374839 wd:Q60376628 wd:Q60376630 wd:Q60376631 wd:Q60376633 wd:Q60376634 wd:Q60376637 wd:Q60376639 wd:Q60376640 wd:Q60376641 wd:Q60376643 wd:Q60376645 wd:Q60376648 wd:Q60376650 wd:Q60376651 wd:Q60376655 wd:Q60376658 wd:Q60376660 wd:Q60376663 wd:Q60376665 wd:Q60376666 wd:Q60376669 wd:Q60376672 wd:Q60376674 wd:Q60376676 wd:Q60376679 wd:Q60378786 wd:Q60379133 wd:Q60380938 wd:Q60382350 wd:Q60383377 wd:Q60384730 wd:Q60386954 wd:Q60387491 wd:Q60387702 wd:Q60388386 wd:Q60388400 wd:Q60389316 wd:Q60389364 wd:Q60389401 wd:Q60389438 wd:Q60389590 wd:Q60389676 wd:Q60389831 wd:Q60389890 wd:Q60389925 wd:Q60389969 wd:Q60390918 wd:Q60390951 wd:Q60390998 wd:Q60391014 wd:Q60391057 wd:Q60391089 wd:Q60391130 wd:Q60391146 wd:Q60391476 wd:Q60391878 wd:Q60392089 wd:Q60392320 wd:Q60394500 wd:Q60394590 wd:Q60394906 wd:Q60398100 wd:Q60398699 wd:Q60399091 wd:Q60400139 wd:Q60401304 wd:Q60403941 wd:Q60404206 wd:Q60404381 wd:Q60404557 wd:Q60405226 wd:Q60405561 wd:Q60405767 wd:Q60405932 wd:Q60405936 wd:Q60406121 wd:Q60406237 wd:Q60406428 wd:Q60406565 wd:Q60406633 wd:Q60406672 wd:Q60406795 wd:Q60407178 wd:Q60407661 wd:Q60407805 wd:Q60407856 wd:Q60408931 wd:Q60409816 wd:Q60411408 wd:Q60413669 wd:Q60413920 wd:Q60414244 wd:Q60414448 wd:Q60414481 wd:Q60414673 wd:Q60415377 wd:Q60415951 wd:Q60416150 wd:Q60416336 wd:Q60417936 wd:Q60418065 wd:Q60418186 wd:Q60418626 wd:Q60418779 wd:Q60418982 wd:Q60419194 wd:Q60419322 wd:Q60419493 wd:Q60419538 wd:Q60419637 wd:Q60419785 wd:Q60419907 wd:Q60419983 wd:Q60420016 wd:Q60420152 wd:Q60420155 wd:Q60420535 wd:Q60421069 wd:Q60421274 wd:Q60426016 wd:Q60428461 wd:Q60428563 wd:Q60428644 wd:Q60428800 wd:Q60429281 wd:Q60429282 wd:Q60429595 wd:Q60429603 wd:Q60429648 wd:Q60429678 wd:Q60429770 wd:Q60429853 wd:Q60429863 wd:Q60430063 wd:Q60430651 wd:Q60430682 wd:Q60433375 wd:Q60434460 wd:Q60434735 wd:Q60436860 wd:Q60437959 wd:Q60438467 wd:Q60438737 wd:Q60438940 wd:Q60438946 wd:Q60439095 wd:Q60439166 wd:Q60439200 wd:Q60439386 wd:Q60439555 wd:Q60439783 wd:Q60439867 wd:Q60439868 wd:Q60439869 wd:Q60439887 wd:Q60439889 wd:Q60439890 wd:Q60439891 wd:Q60439892 wd:Q60439893 wd:Q60439894 wd:Q60439895 wd:Q60439897 wd:Q60439898 wd:Q60439985 wd:Q60440034 } .\n",
      "  ?e0 ?p1 ?e1 .\n",
      "  FILTER strstarts(str(?p1), str(wdt:)) .\n",
      "}\n",
      "\n"
     ]
    }
   ],
   "source": [
    "print(query)"
   ]
  },
  {
   "cell_type": "code",
   "execution_count": 498,
   "metadata": {
    "ExecuteTime": {
     "end_time": "2020-03-09T22:27:06.530480Z",
     "start_time": "2020-03-09T22:27:04.426004Z"
    },
    "hidden": true
   },
   "outputs": [],
   "source": [
    "resp = requests.post('https://query.wikidata.org/sparql', data={'query': query}, headers={'Accept': 'text/turtle'})"
   ]
  },
  {
   "cell_type": "code",
   "execution_count": 500,
   "metadata": {
    "ExecuteTime": {
     "end_time": "2020-03-09T22:27:41.910193Z",
     "start_time": "2020-03-09T22:27:41.900300Z"
    },
    "hidden": true
   },
   "outputs": [],
   "source": [
    "with open('graph.ttl', 'w') as ouf:\n",
    "    ouf.write(resp.text)"
   ]
  },
  {
   "cell_type": "code",
   "execution_count": null,
   "metadata": {
    "hidden": true
   },
   "outputs": [],
   "source": []
  },
  {
   "cell_type": "markdown",
   "metadata": {},
   "source": [
    "### Send construct"
   ]
  },
  {
   "cell_type": "markdown",
   "metadata": {},
   "source": [
    "#### Only wdt:"
   ]
  },
  {
   "cell_type": "code",
   "execution_count": 505,
   "metadata": {
    "ExecuteTime": {
     "end_time": "2020-03-09T22:30:45.943196Z",
     "start_time": "2020-03-09T22:30:45.931203Z"
    }
   },
   "outputs": [
    {
     "data": {
      "text/plain": [
       "1679872"
      ]
     },
     "execution_count": 505,
     "metadata": {},
     "output_type": "execute_result"
    }
   ],
   "source": [
    "len(good_entities)"
   ]
  },
  {
   "cell_type": "code",
   "execution_count": 507,
   "metadata": {
    "ExecuteTime": {
     "end_time": "2020-03-09T23:59:50.157258Z",
     "start_time": "2020-03-09T22:34:57.947346Z"
    },
    "deletable": false,
    "editable": false,
    "run_control": {
     "frozen": true
    }
   },
   "outputs": [
    {
     "data": {
      "application/vnd.jupyter.widget-view+json": {
       "model_id": "79adfc21209e4070b504fbabb2c73cd0",
       "version_major": 2,
       "version_minor": 0
      },
      "text/plain": [
       "HBox(children=(IntProgress(value=0, max=1680), HTML(value='')))"
      ]
     },
     "metadata": {},
     "output_type": "display_data"
    },
    {
     "name": "stdout",
     "output_type": "stream",
     "text": [
      "\n"
     ]
    }
   ],
   "source": [
    "for i in tqdm(range(1680)):\n",
    "    begin = i * 1000\n",
    "    end = (i + 1) * 1000\n",
    "    uris = ' '.join(['wd:' + qid for qid in good_entities[begin:end]])\n",
    "    query = f'''\n",
    "    CONSTRUCT {{\n",
    "      ?e0 ?p1 ?e1 .\n",
    "    }}\n",
    "    WHERE {{\n",
    "      VALUES ?e0 {{ {uris} }} .\n",
    "      ?e0 ?p1 ?e1 .\n",
    "      FILTER strstarts(str(?p1), str(wdt:)) .\n",
    "    }}\n",
    "    '''\n",
    "    resp = requests.post('https://query.wikidata.org/sparql', data={'query': query}, headers={'Accept': 'text/turtle'})\n",
    "    with open(f'/Volumes/Seagate/wikidata_dump/wdt/{i}.ttl', 'w') as ouf:\n",
    "        ouf.write(resp.text)"
   ]
  },
  {
   "cell_type": "code",
   "execution_count": 12,
   "metadata": {
    "ExecuteTime": {
     "end_time": "2020-03-27T01:15:53.421242Z",
     "start_time": "2020-03-27T01:15:53.414522Z"
    }
   },
   "outputs": [
    {
     "data": {
      "text/plain": [
       "2434723"
      ]
     },
     "execution_count": 12,
     "metadata": {},
     "output_type": "execute_result"
    }
   ],
   "source": [
    "len(bad_entities)"
   ]
  },
  {
   "cell_type": "code",
   "execution_count": 14,
   "metadata": {
    "ExecuteTime": {
     "end_time": "2020-03-27T14:16:33.503904Z",
     "start_time": "2020-03-27T12:07:38.339868Z"
    },
    "deletable": false,
    "editable": false,
    "run_control": {
     "frozen": true
    }
   },
   "outputs": [
    {
     "data": {
      "application/vnd.jupyter.widget-view+json": {
       "model_id": "1864cf080c974bff8aafb51e398bdb31",
       "version_major": 2,
       "version_minor": 0
      },
      "text/plain": [
       "HBox(children=(IntProgress(value=0, max=2435), HTML(value='')))"
      ]
     },
     "metadata": {},
     "output_type": "display_data"
    },
    {
     "name": "stdout",
     "output_type": "stream",
     "text": [
      "\n"
     ]
    }
   ],
   "source": [
    "for i in tqdm(range(2435)):\n",
    "    begin = i * 1000\n",
    "    end = (i + 1) * 1000\n",
    "    uris = ' '.join(['wd:' + qid for qid in bad_entities[begin:end]])\n",
    "    query = f'''\n",
    "    CONSTRUCT {{\n",
    "      ?e0 ?p1 ?e1 .\n",
    "    }}\n",
    "    WHERE {{\n",
    "      VALUES ?e0 {{ {uris} }} .\n",
    "      ?e0 ?p1 ?e1 .\n",
    "      FILTER strstarts(str(?p1), str(wdt:)) .\n",
    "    }}\n",
    "    '''\n",
    "    resp = requests.post('https://query.wikidata.org/sparql', data={'query': query}, headers={'Accept': 'text/turtle'})\n",
    "    with open(f'/Volumes/Seagate/wikidata_dump/wdt_ext/{i}.ttl', 'w') as ouf:\n",
    "        ouf.write(resp.text)"
   ]
  },
  {
   "cell_type": "code",
   "execution_count": 27,
   "metadata": {
    "ExecuteTime": {
     "end_time": "2020-03-28T14:26:05.858538Z",
     "start_time": "2020-03-28T14:26:05.853247Z"
    }
   },
   "outputs": [
    {
     "name": "stdout",
     "output_type": "stream",
     "text": [
      "[15, 23, 153, 155, 156, 157, 160, 192, 193, 256, 426, 435, 437, 703, 708, 711, 712, 983, 984, 988, 995, 999, 1005, 1007, 1008, 1010, 1012, 1015, 1018, 1020, 1024, 1028, 1029, 1536, 1538, 1539]\n"
     ]
    }
   ],
   "source": [
    "print(missed)"
   ]
  },
  {
   "cell_type": "code",
   "execution_count": 74,
   "metadata": {
    "ExecuteTime": {
     "end_time": "2020-03-28T18:09:26.068577Z",
     "start_time": "2020-03-28T18:09:19.633827Z"
    },
    "deletable": false,
    "editable": false,
    "run_control": {
     "frozen": true
    }
   },
   "outputs": [
    {
     "data": {
      "application/vnd.jupyter.widget-view+json": {
       "model_id": "87c2a8330ecf4ff9809a93df66317362",
       "version_major": 2,
       "version_minor": 0
      },
      "text/plain": [
       "HBox(children=(IntProgress(value=0, max=3), HTML(value='')))"
      ]
     },
     "metadata": {},
     "output_type": "display_data"
    }
   ],
   "source": [
    "for i in tqdm(missed):\n",
    "    begin = i * 1000\n",
    "    end = (i + 1) * 1000\n",
    "    uris = ' '.join(['wd:' + qid for qid in good_entities[begin:end]])\n",
    "    query = f'''\n",
    "    CONSTRUCT {{\n",
    "      ?e0 ?p1 ?e1 .\n",
    "    }}\n",
    "    WHERE {{\n",
    "      VALUES ?e0 {{ {uris} }} .\n",
    "      ?e0 ?p1 ?e1 .\n",
    "      FILTER strstarts(str(?p1), str(wdt:)) .\n",
    "    }}\n",
    "    '''\n",
    "    resp = requests.post('https://query.wikidata.org/sparql', data={'query': query}, headers={'Accept': 'text/turtle'})\n",
    "    with open(f'/Volumes/Seagate/wikidata_dump/wdt/{i}.ttl', 'w') as ouf:\n",
    "        ouf.write(resp.text)"
   ]
  },
  {
   "cell_type": "code",
   "execution_count": 169,
   "metadata": {
    "ExecuteTime": {
     "end_time": "2020-04-03T00:55:32.146616Z",
     "start_time": "2020-04-03T00:55:32.141325Z"
    }
   },
   "outputs": [],
   "source": [
    "patch_entities = []\n",
    "with open('/Volumes/Seagate/wikidata_dump/add_ent.txt') as inf:\n",
    "    for line in inf:\n",
    "        patch_entities.append(line.strip())"
   ]
  },
  {
   "cell_type": "code",
   "execution_count": 170,
   "metadata": {
    "ExecuteTime": {
     "end_time": "2020-04-03T00:55:36.562611Z",
     "start_time": "2020-04-03T00:55:36.544073Z"
    }
   },
   "outputs": [
    {
     "data": {
      "text/plain": [
       "43"
      ]
     },
     "execution_count": 170,
     "metadata": {},
     "output_type": "execute_result"
    }
   ],
   "source": [
    "len(patch_entities)"
   ]
  },
  {
   "cell_type": "code",
   "execution_count": 171,
   "metadata": {
    "ExecuteTime": {
     "end_time": "2020-04-03T00:57:35.841564Z",
     "start_time": "2020-04-03T00:57:34.703263Z"
    }
   },
   "outputs": [],
   "source": [
    "uris = ' '.join(['wd:' + qid for qid in patch_entities])\n",
    "query = f'''\n",
    "CONSTRUCT {{\n",
    "  ?e0 ?p1 ?e1 .\n",
    "}}\n",
    "WHERE {{\n",
    "  VALUES ?e0 {{ {uris} }} .\n",
    "  ?e0 ?p1 ?e1 .\n",
    "  FILTER strstarts(str(?p1), str(wdt:)) .\n",
    "}}\n",
    "'''\n",
    "resp = requests.post('https://query.wikidata.org/sparql', data={'query': query}, headers={'Accept': 'text/turtle'})\n",
    "with open(f'/Volumes/Seagate/wikidata_dump/wdt/1680.ttl', 'w') as ouf:\n",
    "    ouf.write(resp.text)"
   ]
  },
  {
   "cell_type": "code",
   "execution_count": 172,
   "metadata": {
    "ExecuteTime": {
     "end_time": "2020-04-03T00:58:32.134403Z",
     "start_time": "2020-04-03T00:58:30.987305Z"
    }
   },
   "outputs": [],
   "source": [
    "uris = ' '.join(['wd:' + qid for qid in patch_entities])\n",
    "query = f'''\n",
    "CONSTRUCT {{\n",
    "      ?x ?p ?y .\n",
    "      ?y ?p2 ?z .\n",
    "      ?z wikibase:quantityAmount ?t .\n",
    "    }}\n",
    "    WHERE {{\n",
    "      VALUES ?x {{ {uris} }}\n",
    "      ?x ?p ?y .\n",
    "      FILTER strstarts(str(?p), \"http://www.wikidata.org/prop/P\") .\n",
    "      ?y ?p2 ?z .\n",
    "      FILTER strstarts(str(?p2), str(p:)) .\n",
    "      OPTIONAL {{ ?z wikibase:quantityAmount ?t }} .\n",
    "    }}\n",
    "    '''\n",
    "resp = requests.post('https://query.wikidata.org/sparql', data={'query': query}, headers={'Accept': 'text/turtle'})\n",
    "with open(f'/Volumes/Seagate/wikidata_dump/pch/1680.ttl', 'w') as ouf:\n",
    "    ouf.write(resp.text)"
   ]
  },
  {
   "cell_type": "markdown",
   "metadata": {},
   "source": [
    "#### Chains with p:"
   ]
  },
  {
   "cell_type": "code",
   "execution_count": 518,
   "metadata": {
    "ExecuteTime": {
     "end_time": "2020-03-10T09:58:23.926432Z",
     "start_time": "2020-03-10T09:21:41.926421Z"
    },
    "deletable": false,
    "editable": false,
    "run_control": {
     "frozen": true
    }
   },
   "outputs": [
    {
     "data": {
      "application/vnd.jupyter.widget-view+json": {
       "model_id": "968d09024ec34d39943b1fc0ab5a7947",
       "version_major": 2,
       "version_minor": 0
      },
      "text/plain": [
       "HBox(children=(IntProgress(value=0, max=680), HTML(value='')))"
      ]
     },
     "metadata": {},
     "output_type": "display_data"
    }
   ],
   "source": [
    "for i in tqdm(range(1680)):\n",
    "    begin = i * 1000\n",
    "    end = (i + 1) * 1000\n",
    "    uris = ' '.join(['wd:' + qid for qid in good_entities[begin:end]])\n",
    "    query = f'''\n",
    "    CONSTRUCT {{\n",
    "      ?x ?p ?y .\n",
    "      ?y ?p2 ?z .\n",
    "      ?z wikibase:quantityAmount ?t .\n",
    "    }}\n",
    "    WHERE {{\n",
    "      VALUES ?x {{ {uris} }}\n",
    "      ?x ?p ?y .\n",
    "      FILTER strstarts(str(?p), \"http://www.wikidata.org/prop/P\") .\n",
    "      ?y ?p2 ?z .\n",
    "      FILTER strstarts(str(?p2), str(p:)) .\n",
    "      OPTIONAL {{ ?z wikibase:quantityAmount ?t }} .\n",
    "    }}\n",
    "    '''\n",
    "    resp = requests.post('https://query.wikidata.org/sparql', data={'query': query}, headers={'Accept': 'text/turtle'})\n",
    "    with open(f'/Volumes/Seagate/wikidata_dump/pch/{i}.ttl', 'w') as ouf:\n",
    "        ouf.write(resp.text)"
   ]
  },
  {
   "cell_type": "code",
   "execution_count": null,
   "metadata": {},
   "outputs": [],
   "source": []
  },
  {
   "cell_type": "code",
   "execution_count": 15,
   "metadata": {
    "ExecuteTime": {
     "end_time": "2020-03-27T23:22:07.654657Z",
     "start_time": "2020-03-27T21:14:21.967742Z"
    },
    "deletable": false,
    "editable": false,
    "run_control": {
     "frozen": true
    }
   },
   "outputs": [
    {
     "data": {
      "application/vnd.jupyter.widget-view+json": {
       "model_id": "16759555308e4bd7a160db0e79be234d",
       "version_major": 2,
       "version_minor": 0
      },
      "text/plain": [
       "HBox(children=(IntProgress(value=0, max=2435), HTML(value='')))"
      ]
     },
     "metadata": {},
     "output_type": "display_data"
    },
    {
     "name": "stdout",
     "output_type": "stream",
     "text": [
      "\n"
     ]
    }
   ],
   "source": [
    "for i in tqdm(range(2435)):\n",
    "    begin = i * 1000\n",
    "    end = (i + 1) * 1000\n",
    "    uris = ' '.join(['wd:' + qid for qid in bad_entities[begin:end]])\n",
    "    query = f'''\n",
    "    CONSTRUCT {{\n",
    "      ?x ?p ?y .\n",
    "      ?y ?p2 ?z .\n",
    "      ?z wikibase:quantityAmount ?t .\n",
    "    }}\n",
    "    WHERE {{\n",
    "      VALUES ?x {{ {uris} }}\n",
    "      ?x ?p ?y .\n",
    "      FILTER strstarts(str(?p), \"http://www.wikidata.org/prop/P\") .\n",
    "      ?y ?p2 ?z .\n",
    "      FILTER strstarts(str(?p2), str(p:)) .\n",
    "      OPTIONAL {{ ?z wikibase:quantityAmount ?t }} .\n",
    "    }}\n",
    "    '''\n",
    "    resp = requests.post('https://query.wikidata.org/sparql', data={'query': query}, headers={'Accept': 'text/turtle'})\n",
    "    with open(f'/Volumes/Seagate/wikidata_dump/pch_ext/{i}.ttl', 'w') as ouf:\n",
    "        ouf.write(resp.text)"
   ]
  },
  {
   "cell_type": "code",
   "execution_count": 67,
   "metadata": {
    "ExecuteTime": {
     "end_time": "2020-03-28T18:03:15.698052Z",
     "start_time": "2020-03-28T18:03:15.693160Z"
    }
   },
   "outputs": [
    {
     "name": "stdout",
     "output_type": "stream",
     "text": [
      "[55, 56, 57, 59, 73, 76, 120, 137, 167, 171, 196, 199, 205, 206, 318, 355, 402, 404, 626, 632, 663]\n"
     ]
    }
   ],
   "source": [
    "print(missed)"
   ]
  },
  {
   "cell_type": "code",
   "execution_count": 68,
   "metadata": {
    "ExecuteTime": {
     "end_time": "2020-03-28T18:05:20.336232Z",
     "start_time": "2020-03-28T18:03:52.490342Z"
    }
   },
   "outputs": [
    {
     "data": {
      "application/vnd.jupyter.widget-view+json": {
       "model_id": "45a9e9954bb44a628011189e048054b1",
       "version_major": 2,
       "version_minor": 0
      },
      "text/plain": [
       "HBox(children=(IntProgress(value=0, max=21), HTML(value='')))"
      ]
     },
     "metadata": {},
     "output_type": "display_data"
    }
   ],
   "source": [
    "for i in tqdm(missed):\n",
    "    begin = i * 1000\n",
    "    end = (i + 1) * 1000\n",
    "    uris = ' '.join(['wd:' + qid for qid in good_entities[begin:end]])\n",
    "    query = f'''\n",
    "    CONSTRUCT {{\n",
    "      ?x ?p ?y .\n",
    "      ?y ?p2 ?z .\n",
    "      ?z wikibase:quantityAmount ?t .\n",
    "    }}\n",
    "    WHERE {{\n",
    "      VALUES ?x {{ {uris} }}\n",
    "      ?x ?p ?y .\n",
    "      FILTER strstarts(str(?p), \"http://www.wikidata.org/prop/P\") .\n",
    "      ?y ?p2 ?z .\n",
    "      FILTER strstarts(str(?p2), str(p:)) .\n",
    "      OPTIONAL {{ ?z wikibase:quantityAmount ?t }} .\n",
    "    }}\n",
    "    '''\n",
    "    resp = requests.post('https://query.wikidata.org/sparql', data={'query': query}, headers={'Accept': 'text/turtle'})\n",
    "    with open(f'/Volumes/Seagate/wikidata_dump/pch/{i}.ttl', 'w') as ouf:\n",
    "        ouf.write(resp.text)"
   ]
  },
  {
   "cell_type": "markdown",
   "metadata": {},
   "source": [
    "#### P131"
   ]
  },
  {
   "cell_type": "code",
   "execution_count": 49,
   "metadata": {
    "ExecuteTime": {
     "end_time": "2020-03-28T16:46:23.340199Z",
     "start_time": "2020-03-28T16:46:23.308559Z"
    }
   },
   "outputs": [],
   "source": [
    "dataset = json_read('kbqa_russian_dataset.json')"
   ]
  },
  {
   "cell_type": "code",
   "execution_count": 127,
   "metadata": {
    "ExecuteTime": {
     "end_time": "2020-04-01T19:15:19.951753Z",
     "start_time": "2020-04-01T19:15:19.840233Z"
    }
   },
   "outputs": [],
   "source": [
    "entities_set = set()\n",
    "for entry in dataset[:1200]:\n",
    "    qids = [uri.split('/')[-1] for uri in entry['question_uris']]\n",
    "    for ans in entry['answers']:\n",
    "        if ans['type'] == 'uri':\n",
    "            qids.append(ans['value'].split('/')[-1])\n",
    "    for qid in qids:\n",
    "        entities_set.add(qid)"
   ]
  },
  {
   "cell_type": "code",
   "execution_count": 129,
   "metadata": {
    "ExecuteTime": {
     "end_time": "2020-04-01T19:15:23.525313Z",
     "start_time": "2020-04-01T19:15:23.518527Z"
    }
   },
   "outputs": [],
   "source": [
    "entities_set = list(entities_set)"
   ]
  },
  {
   "cell_type": "code",
   "execution_count": 128,
   "metadata": {
    "ExecuteTime": {
     "end_time": "2020-04-01T19:15:22.132810Z",
     "start_time": "2020-04-01T19:15:22.123867Z"
    }
   },
   "outputs": [
    {
     "data": {
      "text/plain": [
       "2356"
      ]
     },
     "execution_count": 128,
     "metadata": {},
     "output_type": "execute_result"
    }
   ],
   "source": [
    "len(entities_set)"
   ]
  },
  {
   "cell_type": "code",
   "execution_count": 62,
   "metadata": {
    "ExecuteTime": {
     "end_time": "2020-03-28T17:41:11.124164Z",
     "start_time": "2020-03-28T17:41:11.110675Z"
    }
   },
   "outputs": [],
   "source": [
    "geo_entities = ['Q60874', 'Q83497', 'Q3116386', 'Q868666', 'Q57965', 'Q12800833', 'Q344569', 'Q2228393']"
   ]
  },
  {
   "cell_type": "code",
   "execution_count": 64,
   "metadata": {
    "ExecuteTime": {
     "end_time": "2020-03-28T17:41:45.589595Z",
     "start_time": "2020-03-28T17:41:45.201269Z"
    }
   },
   "outputs": [],
   "source": [
    "uris = ' '.join(['wd:' + qid for qid in geo_entities])\n",
    "query = f'''\n",
    "CONSTRUCT {{\n",
    "  ?x wdt:P131 ?e1 .\n",
    "  ?e1 wdt:P131 ?e2 .\n",
    "  ?e2 wdt:P131 ?e3 .\n",
    "}}\n",
    "WHERE {{\n",
    "  VALUES ?x {{ {uris} }}\n",
    "  ?x wdt:P131 ?e1 .\n",
    "  OPTIONAL {{ ?e1 wdt:P131 ?e2 }} .\n",
    "  OPTIONAL {{ ?e2 wdt:P131 ?e3 }} .\n",
    "}}\n",
    "'''\n",
    "resp = requests.post('https://query.wikidata.org/sparql', data={'query': query}, headers={'Accept': 'text/turtle'})\n",
    "with open(f'/Volumes/Seagate/wikidata_dump/geo.ttl', 'w') as ouf:\n",
    "    ouf.write(resp.text)"
   ]
  },
  {
   "cell_type": "code",
   "execution_count": 61,
   "metadata": {
    "ExecuteTime": {
     "end_time": "2020-03-28T17:35:18.422642Z",
     "start_time": "2020-03-28T17:26:41.622590Z"
    },
    "scrolled": true
   },
   "outputs": [
    {
     "data": {
      "application/vnd.jupyter.widget-view+json": {
       "model_id": "c72d2bd97c234012a47397aac8f2d44e",
       "version_major": 2,
       "version_minor": 0
      },
      "text/plain": [
       "HBox(children=(IntProgress(value=0, max=123), HTML(value='')))"
      ]
     },
     "metadata": {},
     "output_type": "display_data"
    },
    {
     "ename": "KeyboardInterrupt",
     "evalue": "",
     "output_type": "error",
     "traceback": [
      "\u001b[0;31m---------------------------------------------------------------------------\u001b[0m",
      "\u001b[0;31mKeyboardInterrupt\u001b[0m                         Traceback (most recent call last)",
      "\u001b[0;32m<ipython-input-61-39210bef0bd8>\u001b[0m in \u001b[0;36m<module>\u001b[0;34m\u001b[0m\n\u001b[1;32m     16\u001b[0m     }}\n\u001b[1;32m     17\u001b[0m     '''\n\u001b[0;32m---> 18\u001b[0;31m     \u001b[0mresp\u001b[0m \u001b[0;34m=\u001b[0m \u001b[0mrequests\u001b[0m\u001b[0;34m.\u001b[0m\u001b[0mpost\u001b[0m\u001b[0;34m(\u001b[0m\u001b[0;34m'https://query.wikidata.org/sparql'\u001b[0m\u001b[0;34m,\u001b[0m \u001b[0mdata\u001b[0m\u001b[0;34m=\u001b[0m\u001b[0;34m{\u001b[0m\u001b[0;34m'query'\u001b[0m\u001b[0;34m:\u001b[0m \u001b[0mquery\u001b[0m\u001b[0;34m}\u001b[0m\u001b[0;34m,\u001b[0m \u001b[0mheaders\u001b[0m\u001b[0;34m=\u001b[0m\u001b[0;34m{\u001b[0m\u001b[0;34m'Accept'\u001b[0m\u001b[0;34m:\u001b[0m \u001b[0;34m'text/turtle'\u001b[0m\u001b[0;34m}\u001b[0m\u001b[0;34m)\u001b[0m\u001b[0;34m\u001b[0m\u001b[0;34m\u001b[0m\u001b[0m\n\u001b[0m\u001b[1;32m     19\u001b[0m     \u001b[0;32mwith\u001b[0m \u001b[0mopen\u001b[0m\u001b[0;34m(\u001b[0m\u001b[0;34mf'/Volumes/Seagate/wikidata_dump/geo/{i}.ttl'\u001b[0m\u001b[0;34m,\u001b[0m \u001b[0;34m'w'\u001b[0m\u001b[0;34m)\u001b[0m \u001b[0;32mas\u001b[0m \u001b[0mouf\u001b[0m\u001b[0;34m:\u001b[0m\u001b[0;34m\u001b[0m\u001b[0;34m\u001b[0m\u001b[0m\n\u001b[1;32m     20\u001b[0m         \u001b[0mouf\u001b[0m\u001b[0;34m.\u001b[0m\u001b[0mwrite\u001b[0m\u001b[0;34m(\u001b[0m\u001b[0mresp\u001b[0m\u001b[0;34m.\u001b[0m\u001b[0mtext\u001b[0m\u001b[0;34m)\u001b[0m\u001b[0;34m\u001b[0m\u001b[0;34m\u001b[0m\u001b[0m\n",
      "\u001b[0;32m~/miniconda3/envs/kbqa/lib/python3.7/site-packages/requests/api.py\u001b[0m in \u001b[0;36mpost\u001b[0;34m(url, data, json, **kwargs)\u001b[0m\n\u001b[1;32m    114\u001b[0m     \"\"\"\n\u001b[1;32m    115\u001b[0m \u001b[0;34m\u001b[0m\u001b[0m\n\u001b[0;32m--> 116\u001b[0;31m     \u001b[0;32mreturn\u001b[0m \u001b[0mrequest\u001b[0m\u001b[0;34m(\u001b[0m\u001b[0;34m'post'\u001b[0m\u001b[0;34m,\u001b[0m \u001b[0murl\u001b[0m\u001b[0;34m,\u001b[0m \u001b[0mdata\u001b[0m\u001b[0;34m=\u001b[0m\u001b[0mdata\u001b[0m\u001b[0;34m,\u001b[0m \u001b[0mjson\u001b[0m\u001b[0;34m=\u001b[0m\u001b[0mjson\u001b[0m\u001b[0;34m,\u001b[0m \u001b[0;34m**\u001b[0m\u001b[0mkwargs\u001b[0m\u001b[0;34m)\u001b[0m\u001b[0;34m\u001b[0m\u001b[0;34m\u001b[0m\u001b[0m\n\u001b[0m\u001b[1;32m    117\u001b[0m \u001b[0;34m\u001b[0m\u001b[0m\n\u001b[1;32m    118\u001b[0m \u001b[0;34m\u001b[0m\u001b[0m\n",
      "\u001b[0;32m~/miniconda3/envs/kbqa/lib/python3.7/site-packages/requests/api.py\u001b[0m in \u001b[0;36mrequest\u001b[0;34m(method, url, **kwargs)\u001b[0m\n\u001b[1;32m     58\u001b[0m     \u001b[0;31m# cases, and look like a memory leak in others.\u001b[0m\u001b[0;34m\u001b[0m\u001b[0;34m\u001b[0m\u001b[0;34m\u001b[0m\u001b[0m\n\u001b[1;32m     59\u001b[0m     \u001b[0;32mwith\u001b[0m \u001b[0msessions\u001b[0m\u001b[0;34m.\u001b[0m\u001b[0mSession\u001b[0m\u001b[0;34m(\u001b[0m\u001b[0;34m)\u001b[0m \u001b[0;32mas\u001b[0m \u001b[0msession\u001b[0m\u001b[0;34m:\u001b[0m\u001b[0;34m\u001b[0m\u001b[0;34m\u001b[0m\u001b[0m\n\u001b[0;32m---> 60\u001b[0;31m         \u001b[0;32mreturn\u001b[0m \u001b[0msession\u001b[0m\u001b[0;34m.\u001b[0m\u001b[0mrequest\u001b[0m\u001b[0;34m(\u001b[0m\u001b[0mmethod\u001b[0m\u001b[0;34m=\u001b[0m\u001b[0mmethod\u001b[0m\u001b[0;34m,\u001b[0m \u001b[0murl\u001b[0m\u001b[0;34m=\u001b[0m\u001b[0murl\u001b[0m\u001b[0;34m,\u001b[0m \u001b[0;34m**\u001b[0m\u001b[0mkwargs\u001b[0m\u001b[0;34m)\u001b[0m\u001b[0;34m\u001b[0m\u001b[0;34m\u001b[0m\u001b[0m\n\u001b[0m\u001b[1;32m     61\u001b[0m \u001b[0;34m\u001b[0m\u001b[0m\n\u001b[1;32m     62\u001b[0m \u001b[0;34m\u001b[0m\u001b[0m\n",
      "\u001b[0;32m~/miniconda3/envs/kbqa/lib/python3.7/site-packages/requests/sessions.py\u001b[0m in \u001b[0;36mrequest\u001b[0;34m(self, method, url, params, data, headers, cookies, files, auth, timeout, allow_redirects, proxies, hooks, stream, verify, cert, json)\u001b[0m\n\u001b[1;32m    531\u001b[0m         }\n\u001b[1;32m    532\u001b[0m         \u001b[0msend_kwargs\u001b[0m\u001b[0;34m.\u001b[0m\u001b[0mupdate\u001b[0m\u001b[0;34m(\u001b[0m\u001b[0msettings\u001b[0m\u001b[0;34m)\u001b[0m\u001b[0;34m\u001b[0m\u001b[0;34m\u001b[0m\u001b[0m\n\u001b[0;32m--> 533\u001b[0;31m         \u001b[0mresp\u001b[0m \u001b[0;34m=\u001b[0m \u001b[0mself\u001b[0m\u001b[0;34m.\u001b[0m\u001b[0msend\u001b[0m\u001b[0;34m(\u001b[0m\u001b[0mprep\u001b[0m\u001b[0;34m,\u001b[0m \u001b[0;34m**\u001b[0m\u001b[0msend_kwargs\u001b[0m\u001b[0;34m)\u001b[0m\u001b[0;34m\u001b[0m\u001b[0;34m\u001b[0m\u001b[0m\n\u001b[0m\u001b[1;32m    534\u001b[0m \u001b[0;34m\u001b[0m\u001b[0m\n\u001b[1;32m    535\u001b[0m         \u001b[0;32mreturn\u001b[0m \u001b[0mresp\u001b[0m\u001b[0;34m\u001b[0m\u001b[0;34m\u001b[0m\u001b[0m\n",
      "\u001b[0;32m~/miniconda3/envs/kbqa/lib/python3.7/site-packages/requests/sessions.py\u001b[0m in \u001b[0;36msend\u001b[0;34m(self, request, **kwargs)\u001b[0m\n\u001b[1;32m    684\u001b[0m \u001b[0;34m\u001b[0m\u001b[0m\n\u001b[1;32m    685\u001b[0m         \u001b[0;32mif\u001b[0m \u001b[0;32mnot\u001b[0m \u001b[0mstream\u001b[0m\u001b[0;34m:\u001b[0m\u001b[0;34m\u001b[0m\u001b[0;34m\u001b[0m\u001b[0m\n\u001b[0;32m--> 686\u001b[0;31m             \u001b[0mr\u001b[0m\u001b[0;34m.\u001b[0m\u001b[0mcontent\u001b[0m\u001b[0;34m\u001b[0m\u001b[0;34m\u001b[0m\u001b[0m\n\u001b[0m\u001b[1;32m    687\u001b[0m \u001b[0;34m\u001b[0m\u001b[0m\n\u001b[1;32m    688\u001b[0m         \u001b[0;32mreturn\u001b[0m \u001b[0mr\u001b[0m\u001b[0;34m\u001b[0m\u001b[0;34m\u001b[0m\u001b[0m\n",
      "\u001b[0;32m~/miniconda3/envs/kbqa/lib/python3.7/site-packages/requests/models.py\u001b[0m in \u001b[0;36mcontent\u001b[0;34m(self)\u001b[0m\n\u001b[1;32m    826\u001b[0m                 \u001b[0mself\u001b[0m\u001b[0;34m.\u001b[0m\u001b[0m_content\u001b[0m \u001b[0;34m=\u001b[0m \u001b[0;32mNone\u001b[0m\u001b[0;34m\u001b[0m\u001b[0;34m\u001b[0m\u001b[0m\n\u001b[1;32m    827\u001b[0m             \u001b[0;32melse\u001b[0m\u001b[0;34m:\u001b[0m\u001b[0;34m\u001b[0m\u001b[0;34m\u001b[0m\u001b[0m\n\u001b[0;32m--> 828\u001b[0;31m                 \u001b[0mself\u001b[0m\u001b[0;34m.\u001b[0m\u001b[0m_content\u001b[0m \u001b[0;34m=\u001b[0m \u001b[0;34mb''\u001b[0m\u001b[0;34m.\u001b[0m\u001b[0mjoin\u001b[0m\u001b[0;34m(\u001b[0m\u001b[0mself\u001b[0m\u001b[0;34m.\u001b[0m\u001b[0miter_content\u001b[0m\u001b[0;34m(\u001b[0m\u001b[0mCONTENT_CHUNK_SIZE\u001b[0m\u001b[0;34m)\u001b[0m\u001b[0;34m)\u001b[0m \u001b[0;32mor\u001b[0m \u001b[0;34mb''\u001b[0m\u001b[0;34m\u001b[0m\u001b[0;34m\u001b[0m\u001b[0m\n\u001b[0m\u001b[1;32m    829\u001b[0m \u001b[0;34m\u001b[0m\u001b[0m\n\u001b[1;32m    830\u001b[0m         \u001b[0mself\u001b[0m\u001b[0;34m.\u001b[0m\u001b[0m_content_consumed\u001b[0m \u001b[0;34m=\u001b[0m \u001b[0;32mTrue\u001b[0m\u001b[0;34m\u001b[0m\u001b[0;34m\u001b[0m\u001b[0m\n",
      "\u001b[0;32m~/miniconda3/envs/kbqa/lib/python3.7/site-packages/requests/models.py\u001b[0m in \u001b[0;36mgenerate\u001b[0;34m()\u001b[0m\n\u001b[1;32m    748\u001b[0m             \u001b[0;32mif\u001b[0m \u001b[0mhasattr\u001b[0m\u001b[0;34m(\u001b[0m\u001b[0mself\u001b[0m\u001b[0;34m.\u001b[0m\u001b[0mraw\u001b[0m\u001b[0;34m,\u001b[0m \u001b[0;34m'stream'\u001b[0m\u001b[0;34m)\u001b[0m\u001b[0;34m:\u001b[0m\u001b[0;34m\u001b[0m\u001b[0;34m\u001b[0m\u001b[0m\n\u001b[1;32m    749\u001b[0m                 \u001b[0;32mtry\u001b[0m\u001b[0;34m:\u001b[0m\u001b[0;34m\u001b[0m\u001b[0;34m\u001b[0m\u001b[0m\n\u001b[0;32m--> 750\u001b[0;31m                     \u001b[0;32mfor\u001b[0m \u001b[0mchunk\u001b[0m \u001b[0;32min\u001b[0m \u001b[0mself\u001b[0m\u001b[0;34m.\u001b[0m\u001b[0mraw\u001b[0m\u001b[0;34m.\u001b[0m\u001b[0mstream\u001b[0m\u001b[0;34m(\u001b[0m\u001b[0mchunk_size\u001b[0m\u001b[0;34m,\u001b[0m \u001b[0mdecode_content\u001b[0m\u001b[0;34m=\u001b[0m\u001b[0;32mTrue\u001b[0m\u001b[0;34m)\u001b[0m\u001b[0;34m:\u001b[0m\u001b[0;34m\u001b[0m\u001b[0;34m\u001b[0m\u001b[0m\n\u001b[0m\u001b[1;32m    751\u001b[0m                         \u001b[0;32myield\u001b[0m \u001b[0mchunk\u001b[0m\u001b[0;34m\u001b[0m\u001b[0;34m\u001b[0m\u001b[0m\n\u001b[1;32m    752\u001b[0m                 \u001b[0;32mexcept\u001b[0m \u001b[0mProtocolError\u001b[0m \u001b[0;32mas\u001b[0m \u001b[0me\u001b[0m\u001b[0;34m:\u001b[0m\u001b[0;34m\u001b[0m\u001b[0;34m\u001b[0m\u001b[0m\n",
      "\u001b[0;32m~/miniconda3/envs/kbqa/lib/python3.7/site-packages/urllib3/response.py\u001b[0m in \u001b[0;36mstream\u001b[0;34m(self, amt, decode_content)\u001b[0m\n\u001b[1;32m    488\u001b[0m         \"\"\"\n\u001b[1;32m    489\u001b[0m         \u001b[0;32mif\u001b[0m \u001b[0mself\u001b[0m\u001b[0;34m.\u001b[0m\u001b[0mchunked\u001b[0m \u001b[0;32mand\u001b[0m \u001b[0mself\u001b[0m\u001b[0;34m.\u001b[0m\u001b[0msupports_chunked_reads\u001b[0m\u001b[0;34m(\u001b[0m\u001b[0;34m)\u001b[0m\u001b[0;34m:\u001b[0m\u001b[0;34m\u001b[0m\u001b[0;34m\u001b[0m\u001b[0m\n\u001b[0;32m--> 490\u001b[0;31m             \u001b[0;32mfor\u001b[0m \u001b[0mline\u001b[0m \u001b[0;32min\u001b[0m \u001b[0mself\u001b[0m\u001b[0;34m.\u001b[0m\u001b[0mread_chunked\u001b[0m\u001b[0;34m(\u001b[0m\u001b[0mamt\u001b[0m\u001b[0;34m,\u001b[0m \u001b[0mdecode_content\u001b[0m\u001b[0;34m=\u001b[0m\u001b[0mdecode_content\u001b[0m\u001b[0;34m)\u001b[0m\u001b[0;34m:\u001b[0m\u001b[0;34m\u001b[0m\u001b[0;34m\u001b[0m\u001b[0m\n\u001b[0m\u001b[1;32m    491\u001b[0m                 \u001b[0;32myield\u001b[0m \u001b[0mline\u001b[0m\u001b[0;34m\u001b[0m\u001b[0;34m\u001b[0m\u001b[0m\n\u001b[1;32m    492\u001b[0m         \u001b[0;32melse\u001b[0m\u001b[0;34m:\u001b[0m\u001b[0;34m\u001b[0m\u001b[0;34m\u001b[0m\u001b[0m\n",
      "\u001b[0;32m~/miniconda3/envs/kbqa/lib/python3.7/site-packages/urllib3/response.py\u001b[0m in \u001b[0;36mread_chunked\u001b[0;34m(self, amt, decode_content)\u001b[0m\n\u001b[1;32m    664\u001b[0m \u001b[0;34m\u001b[0m\u001b[0m\n\u001b[1;32m    665\u001b[0m             \u001b[0;32mwhile\u001b[0m \u001b[0;32mTrue\u001b[0m\u001b[0;34m:\u001b[0m\u001b[0;34m\u001b[0m\u001b[0;34m\u001b[0m\u001b[0m\n\u001b[0;32m--> 666\u001b[0;31m                 \u001b[0mself\u001b[0m\u001b[0;34m.\u001b[0m\u001b[0m_update_chunk_length\u001b[0m\u001b[0;34m(\u001b[0m\u001b[0;34m)\u001b[0m\u001b[0;34m\u001b[0m\u001b[0;34m\u001b[0m\u001b[0m\n\u001b[0m\u001b[1;32m    667\u001b[0m                 \u001b[0;32mif\u001b[0m \u001b[0mself\u001b[0m\u001b[0;34m.\u001b[0m\u001b[0mchunk_left\u001b[0m \u001b[0;34m==\u001b[0m \u001b[0;36m0\u001b[0m\u001b[0;34m:\u001b[0m\u001b[0;34m\u001b[0m\u001b[0;34m\u001b[0m\u001b[0m\n\u001b[1;32m    668\u001b[0m                     \u001b[0;32mbreak\u001b[0m\u001b[0;34m\u001b[0m\u001b[0;34m\u001b[0m\u001b[0m\n",
      "\u001b[0;32m~/miniconda3/envs/kbqa/lib/python3.7/site-packages/urllib3/response.py\u001b[0m in \u001b[0;36m_update_chunk_length\u001b[0;34m(self)\u001b[0m\n\u001b[1;32m    596\u001b[0m         \u001b[0;32mif\u001b[0m \u001b[0mself\u001b[0m\u001b[0;34m.\u001b[0m\u001b[0mchunk_left\u001b[0m \u001b[0;32mis\u001b[0m \u001b[0;32mnot\u001b[0m \u001b[0;32mNone\u001b[0m\u001b[0;34m:\u001b[0m\u001b[0;34m\u001b[0m\u001b[0;34m\u001b[0m\u001b[0m\n\u001b[1;32m    597\u001b[0m             \u001b[0;32mreturn\u001b[0m\u001b[0;34m\u001b[0m\u001b[0;34m\u001b[0m\u001b[0m\n\u001b[0;32m--> 598\u001b[0;31m         \u001b[0mline\u001b[0m \u001b[0;34m=\u001b[0m \u001b[0mself\u001b[0m\u001b[0;34m.\u001b[0m\u001b[0m_fp\u001b[0m\u001b[0;34m.\u001b[0m\u001b[0mfp\u001b[0m\u001b[0;34m.\u001b[0m\u001b[0mreadline\u001b[0m\u001b[0;34m(\u001b[0m\u001b[0;34m)\u001b[0m\u001b[0;34m\u001b[0m\u001b[0;34m\u001b[0m\u001b[0m\n\u001b[0m\u001b[1;32m    599\u001b[0m         \u001b[0mline\u001b[0m \u001b[0;34m=\u001b[0m \u001b[0mline\u001b[0m\u001b[0;34m.\u001b[0m\u001b[0msplit\u001b[0m\u001b[0;34m(\u001b[0m\u001b[0;34mb';'\u001b[0m\u001b[0;34m,\u001b[0m \u001b[0;36m1\u001b[0m\u001b[0;34m)\u001b[0m\u001b[0;34m[\u001b[0m\u001b[0;36m0\u001b[0m\u001b[0;34m]\u001b[0m\u001b[0;34m\u001b[0m\u001b[0;34m\u001b[0m\u001b[0m\n\u001b[1;32m    600\u001b[0m         \u001b[0;32mtry\u001b[0m\u001b[0;34m:\u001b[0m\u001b[0;34m\u001b[0m\u001b[0;34m\u001b[0m\u001b[0m\n",
      "\u001b[0;32m~/miniconda3/envs/kbqa/lib/python3.7/socket.py\u001b[0m in \u001b[0;36mreadinto\u001b[0;34m(self, b)\u001b[0m\n\u001b[1;32m    587\u001b[0m         \u001b[0;32mwhile\u001b[0m \u001b[0;32mTrue\u001b[0m\u001b[0;34m:\u001b[0m\u001b[0;34m\u001b[0m\u001b[0;34m\u001b[0m\u001b[0m\n\u001b[1;32m    588\u001b[0m             \u001b[0;32mtry\u001b[0m\u001b[0;34m:\u001b[0m\u001b[0;34m\u001b[0m\u001b[0;34m\u001b[0m\u001b[0m\n\u001b[0;32m--> 589\u001b[0;31m                 \u001b[0;32mreturn\u001b[0m \u001b[0mself\u001b[0m\u001b[0;34m.\u001b[0m\u001b[0m_sock\u001b[0m\u001b[0;34m.\u001b[0m\u001b[0mrecv_into\u001b[0m\u001b[0;34m(\u001b[0m\u001b[0mb\u001b[0m\u001b[0;34m)\u001b[0m\u001b[0;34m\u001b[0m\u001b[0;34m\u001b[0m\u001b[0m\n\u001b[0m\u001b[1;32m    590\u001b[0m             \u001b[0;32mexcept\u001b[0m \u001b[0mtimeout\u001b[0m\u001b[0;34m:\u001b[0m\u001b[0;34m\u001b[0m\u001b[0;34m\u001b[0m\u001b[0m\n\u001b[1;32m    591\u001b[0m                 \u001b[0mself\u001b[0m\u001b[0;34m.\u001b[0m\u001b[0m_timeout_occurred\u001b[0m \u001b[0;34m=\u001b[0m \u001b[0;32mTrue\u001b[0m\u001b[0;34m\u001b[0m\u001b[0;34m\u001b[0m\u001b[0m\n",
      "\u001b[0;32m~/miniconda3/envs/kbqa/lib/python3.7/site-packages/urllib3/contrib/pyopenssl.py\u001b[0m in \u001b[0;36mrecv_into\u001b[0;34m(self, *args, **kwargs)\u001b[0m\n\u001b[1;32m    295\u001b[0m     \u001b[0;32mdef\u001b[0m \u001b[0mrecv_into\u001b[0m\u001b[0;34m(\u001b[0m\u001b[0mself\u001b[0m\u001b[0;34m,\u001b[0m \u001b[0;34m*\u001b[0m\u001b[0margs\u001b[0m\u001b[0;34m,\u001b[0m \u001b[0;34m**\u001b[0m\u001b[0mkwargs\u001b[0m\u001b[0;34m)\u001b[0m\u001b[0;34m:\u001b[0m\u001b[0;34m\u001b[0m\u001b[0;34m\u001b[0m\u001b[0m\n\u001b[1;32m    296\u001b[0m         \u001b[0;32mtry\u001b[0m\u001b[0;34m:\u001b[0m\u001b[0;34m\u001b[0m\u001b[0;34m\u001b[0m\u001b[0m\n\u001b[0;32m--> 297\u001b[0;31m             \u001b[0;32mreturn\u001b[0m \u001b[0mself\u001b[0m\u001b[0;34m.\u001b[0m\u001b[0mconnection\u001b[0m\u001b[0;34m.\u001b[0m\u001b[0mrecv_into\u001b[0m\u001b[0;34m(\u001b[0m\u001b[0;34m*\u001b[0m\u001b[0margs\u001b[0m\u001b[0;34m,\u001b[0m \u001b[0;34m**\u001b[0m\u001b[0mkwargs\u001b[0m\u001b[0;34m)\u001b[0m\u001b[0;34m\u001b[0m\u001b[0;34m\u001b[0m\u001b[0m\n\u001b[0m\u001b[1;32m    298\u001b[0m         \u001b[0;32mexcept\u001b[0m \u001b[0mOpenSSL\u001b[0m\u001b[0;34m.\u001b[0m\u001b[0mSSL\u001b[0m\u001b[0;34m.\u001b[0m\u001b[0mSysCallError\u001b[0m \u001b[0;32mas\u001b[0m \u001b[0me\u001b[0m\u001b[0;34m:\u001b[0m\u001b[0;34m\u001b[0m\u001b[0;34m\u001b[0m\u001b[0m\n\u001b[1;32m    299\u001b[0m             \u001b[0;32mif\u001b[0m \u001b[0mself\u001b[0m\u001b[0;34m.\u001b[0m\u001b[0msuppress_ragged_eofs\u001b[0m \u001b[0;32mand\u001b[0m \u001b[0me\u001b[0m\u001b[0;34m.\u001b[0m\u001b[0margs\u001b[0m \u001b[0;34m==\u001b[0m \u001b[0;34m(\u001b[0m\u001b[0;34m-\u001b[0m\u001b[0;36m1\u001b[0m\u001b[0;34m,\u001b[0m \u001b[0;34m'Unexpected EOF'\u001b[0m\u001b[0;34m)\u001b[0m\u001b[0;34m:\u001b[0m\u001b[0;34m\u001b[0m\u001b[0;34m\u001b[0m\u001b[0m\n",
      "\u001b[0;32m~/miniconda3/envs/kbqa/lib/python3.7/site-packages/OpenSSL/SSL.py\u001b[0m in \u001b[0;36mrecv_into\u001b[0;34m(self, buffer, nbytes, flags)\u001b[0m\n\u001b[1;32m   1819\u001b[0m             \u001b[0mresult\u001b[0m \u001b[0;34m=\u001b[0m \u001b[0m_lib\u001b[0m\u001b[0;34m.\u001b[0m\u001b[0mSSL_peek\u001b[0m\u001b[0;34m(\u001b[0m\u001b[0mself\u001b[0m\u001b[0;34m.\u001b[0m\u001b[0m_ssl\u001b[0m\u001b[0;34m,\u001b[0m \u001b[0mbuf\u001b[0m\u001b[0;34m,\u001b[0m \u001b[0mnbytes\u001b[0m\u001b[0;34m)\u001b[0m\u001b[0;34m\u001b[0m\u001b[0;34m\u001b[0m\u001b[0m\n\u001b[1;32m   1820\u001b[0m         \u001b[0;32melse\u001b[0m\u001b[0;34m:\u001b[0m\u001b[0;34m\u001b[0m\u001b[0;34m\u001b[0m\u001b[0m\n\u001b[0;32m-> 1821\u001b[0;31m             \u001b[0mresult\u001b[0m \u001b[0;34m=\u001b[0m \u001b[0m_lib\u001b[0m\u001b[0;34m.\u001b[0m\u001b[0mSSL_read\u001b[0m\u001b[0;34m(\u001b[0m\u001b[0mself\u001b[0m\u001b[0;34m.\u001b[0m\u001b[0m_ssl\u001b[0m\u001b[0;34m,\u001b[0m \u001b[0mbuf\u001b[0m\u001b[0;34m,\u001b[0m \u001b[0mnbytes\u001b[0m\u001b[0;34m)\u001b[0m\u001b[0;34m\u001b[0m\u001b[0;34m\u001b[0m\u001b[0m\n\u001b[0m\u001b[1;32m   1822\u001b[0m         \u001b[0mself\u001b[0m\u001b[0;34m.\u001b[0m\u001b[0m_raise_ssl_error\u001b[0m\u001b[0;34m(\u001b[0m\u001b[0mself\u001b[0m\u001b[0;34m.\u001b[0m\u001b[0m_ssl\u001b[0m\u001b[0;34m,\u001b[0m \u001b[0mresult\u001b[0m\u001b[0;34m)\u001b[0m\u001b[0;34m\u001b[0m\u001b[0;34m\u001b[0m\u001b[0m\n\u001b[1;32m   1823\u001b[0m \u001b[0;34m\u001b[0m\u001b[0m\n",
      "\u001b[0;31mKeyboardInterrupt\u001b[0m: "
     ]
    }
   ],
   "source": [
    "for i in tqdm(range(123)):\n",
    "    begin = i * 10\n",
    "    end = (i + 1) * 10\n",
    "    uris = ' '.join(['wd:' + qid for qid in entities_set[begin:end]])\n",
    "    query = f'''\n",
    "    CONSTRUCT {{\n",
    "      ?x wdt:P131 ?e1 .\n",
    "      ?e1 wdt:P131 ?e2 .\n",
    "      ?e2 wdt:P131 ?e3 .\n",
    "    }}\n",
    "    WHERE {{\n",
    "      VALUES ?x {{ {uris} }}\n",
    "      ?x wdt:P131 ?e1 .\n",
    "      OPTIONAL {{ ?e1 wdt:P131 ?e2 }} .\n",
    "      OPTIONAL {{ ?e2 wdt:P131 ?e3 }} .\n",
    "    }}\n",
    "    '''\n",
    "    resp = requests.post('https://query.wikidata.org/sparql', data={'query': query}, headers={'Accept': 'text/turtle'})\n",
    "    with open(f'/Volumes/Seagate/wikidata_dump/geo/{i}.ttl', 'w') as ouf:\n",
    "        ouf.write(resp.text)"
   ]
  },
  {
   "cell_type": "markdown",
   "metadata": {},
   "source": [
    "#### Labels and aliases"
   ]
  },
  {
   "cell_type": "code",
   "execution_count": 158,
   "metadata": {
    "ExecuteTime": {
     "end_time": "2020-04-02T12:54:36.916309Z",
     "start_time": "2020-04-02T12:44:29.344910Z"
    }
   },
   "outputs": [
    {
     "data": {
      "application/vnd.jupyter.widget-view+json": {
       "model_id": "c1323dc17ca245fd8201ac628154bf55",
       "version_major": 2,
       "version_minor": 0
      },
      "text/plain": [
       "HBox(children=(IntProgress(value=0, max=4115), HTML(value='')))"
      ]
     },
     "metadata": {},
     "output_type": "display_data"
    }
   ],
   "source": [
    "for i in tqdm(range(4115)):\n",
    "    if os.stat(f'/Volumes/Seagate/wikidata_dump/als/{i}.ttl').st_size == 0:\n",
    "        sleep(1)\n",
    "        begin = i * 1000\n",
    "        end = (i + 1) * 1000\n",
    "        uris = ' '.join(['wd:' + qid for qid in all_entities[begin:end]])\n",
    "        query = f'''\n",
    "        CONSTRUCT {{\n",
    "          ?e0 skos:altLabel ?label .\n",
    "        }}\n",
    "        WHERE {{\n",
    "          VALUES ?e0 {{ {uris} }} .\n",
    "          ?e0 skos:altLabel ?label .\n",
    "          FILTER (lang(?label) = \"ru\") .\n",
    "        }}\n",
    "        '''\n",
    "        resp = requests.post('https://query.wikidata.org/sparql', data={'query': query}, headers={'Accept': 'text/turtle'})\n",
    "        with open(f'/Volumes/Seagate/wikidata_dump/als/{i}.ttl', 'w') as ouf:\n",
    "            ouf.write(resp.text)"
   ]
  },
  {
   "cell_type": "code",
   "execution_count": 160,
   "metadata": {
    "ExecuteTime": {
     "end_time": "2020-04-02T22:27:43.577355Z",
     "start_time": "2020-04-02T22:27:43.329552Z"
    }
   },
   "outputs": [
    {
     "data": {
      "application/vnd.jupyter.widget-view+json": {
       "model_id": "9108b897fe804e1ea181a5bc9f9e6291",
       "version_major": 2,
       "version_minor": 0
      },
      "text/plain": [
       "HBox(children=(IntProgress(value=0, max=2435), HTML(value='')))"
      ]
     },
     "metadata": {},
     "output_type": "display_data"
    },
    {
     "data": {
      "text/plain": [
       "0"
      ]
     },
     "execution_count": 160,
     "metadata": {},
     "output_type": "execute_result"
    }
   ],
   "source": [
    "cnt = 0\n",
    "for i in tqdm(range(4115)):\n",
    "    if os.stat(f'/Volumes/Seagate/wikidata_dump/als/{i}.ttl').st_size < 2000:\n",
    "#         print(i, os.stat(f'/Volumes/Seagate/wikidata_dump/als/{i}.ttl').st_size)\n",
    "        cnt += 1\n",
    "cnt"
   ]
  },
  {
   "cell_type": "code",
   "execution_count": null,
   "metadata": {},
   "outputs": [],
   "source": []
  },
  {
   "cell_type": "code",
   "execution_count": 141,
   "metadata": {
    "ExecuteTime": {
     "end_time": "2020-04-01T23:51:59.485975Z",
     "start_time": "2020-04-01T23:51:59.475335Z"
    }
   },
   "outputs": [
    {
     "data": {
      "text/plain": [
       "61815"
      ]
     },
     "execution_count": 141,
     "metadata": {},
     "output_type": "execute_result"
    }
   ],
   "source": [
    "os.stat(f'/Volumes/Seagate/wikidata_dump/lbl/1011.ttl').st_size"
   ]
  },
  {
   "cell_type": "code",
   "execution_count": null,
   "metadata": {},
   "outputs": [],
   "source": []
  },
  {
   "cell_type": "code",
   "execution_count": null,
   "metadata": {},
   "outputs": [],
   "source": []
  },
  {
   "cell_type": "code",
   "execution_count": null,
   "metadata": {},
   "outputs": [],
   "source": []
  },
  {
   "cell_type": "code",
   "execution_count": null,
   "metadata": {},
   "outputs": [],
   "source": []
  },
  {
   "cell_type": "code",
   "execution_count": null,
   "metadata": {},
   "outputs": [],
   "source": []
  },
  {
   "cell_type": "code",
   "execution_count": 511,
   "metadata": {
    "ExecuteTime": {
     "end_time": "2020-03-10T00:33:21.845140Z",
     "start_time": "2020-03-10T00:33:21.827602Z"
    }
   },
   "outputs": [],
   "source": [
    "uris = ' '.join(['wd:' + qid for qid in good_entities[:1000]])"
   ]
  },
  {
   "cell_type": "code",
   "execution_count": 512,
   "metadata": {
    "ExecuteTime": {
     "end_time": "2020-03-10T00:33:22.738316Z",
     "start_time": "2020-03-10T00:33:22.723590Z"
    }
   },
   "outputs": [],
   "source": [
    "query = f'''\n",
    "    CONSTRUCT {{\n",
    "      ?x ?p ?y .\n",
    "      ?y ?p2 ?z .\n",
    "      ?z wikibase:quantityAmount ?t .\n",
    "    }}\n",
    "    WHERE {{\n",
    "      VALUES ?x {{ {uris} }}\n",
    "      ?x ?p ?y .\n",
    "      FILTER strstarts(str(?p), \"http://www.wikidata.org/prop/P\") .\n",
    "      ?y ?p2 ?z .\n",
    "      FILTER strstarts(str(?p2), str(p:)) .\n",
    "      OPTIONAL {{ ?z wikibase:quantityAmount ?t }} .\n",
    "    }}\n",
    "'''"
   ]
  },
  {
   "cell_type": "code",
   "execution_count": 510,
   "metadata": {
    "ExecuteTime": {
     "end_time": "2020-03-10T00:30:40.077271Z",
     "start_time": "2020-03-10T00:30:40.072403Z"
    },
    "collapsed": true
   },
   "outputs": [
    {
     "name": "stdout",
     "output_type": "stream",
     "text": [
      "\n",
      "CONSTRUCT {\n",
      "  ?e0 ?p1 ?e1 .\n",
      "}\n",
      "WHERE {\n",
      "  VALUES ?e0 { wd:Q1 wd:Q2 wd:Q3 wd:Q4 wd:Q5 wd:Q8 wd:Q13 wd:Q15 wd:Q16 wd:Q17 wd:Q18 wd:Q19 wd:Q20 wd:Q21 wd:Q22 wd:Q23 wd:Q24 wd:Q25 wd:Q26 wd:Q27 wd:Q28 wd:Q29 wd:Q30 wd:Q31 wd:Q32 wd:Q33 wd:Q34 wd:Q35 wd:Q36 wd:Q37 wd:Q38 wd:Q39 wd:Q40 wd:Q41 wd:Q42 wd:Q43 wd:Q44 wd:Q45 wd:Q46 wd:Q48 wd:Q49 wd:Q51 wd:Q52 wd:Q53 wd:Q54 wd:Q55 wd:Q57 wd:Q58 wd:Q59 wd:Q60 wd:Q61 wd:Q62 wd:Q64 wd:Q65 wd:Q66 wd:Q67 wd:Q68 wd:Q69 wd:Q70 wd:Q71 wd:Q72 wd:Q73 wd:Q74 wd:Q75 wd:Q76 wd:Q77 wd:Q78 wd:Q79 wd:Q80 wd:Q81 wd:Q82 wd:Q83 wd:Q84 wd:Q85 wd:Q86 wd:Q87 wd:Q88 wd:Q89 wd:Q90 wd:Q91 wd:Q94 wd:Q95 wd:Q96 wd:Q97 wd:Q98 wd:Q99 wd:Q100 wd:Q101 wd:Q103 wd:Q105 wd:Q107 wd:Q108 wd:Q109 wd:Q110 wd:Q111 wd:Q112 wd:Q113 wd:Q114 wd:Q115 wd:Q116 } .\n",
      "  ?e0 ?p1 ?e1 .\n",
      "  FILTER strstarts(str(?p1), str(wdt:)) .\n",
      "}\n",
      "\n"
     ]
    }
   ],
   "source": [
    "print(query)"
   ]
  },
  {
   "cell_type": "code",
   "execution_count": 513,
   "metadata": {
    "ExecuteTime": {
     "end_time": "2020-03-10T00:33:52.302835Z",
     "start_time": "2020-03-10T00:33:34.025359Z"
    }
   },
   "outputs": [],
   "source": [
    "resp = requests.post('https://query.wikidata.org/sparql', data={'query': query}, headers={'Accept': 'text/turtle'})"
   ]
  },
  {
   "cell_type": "code",
   "execution_count": 514,
   "metadata": {
    "ExecuteTime": {
     "end_time": "2020-03-10T00:34:12.022512Z",
     "start_time": "2020-03-10T00:34:11.481653Z"
    }
   },
   "outputs": [],
   "source": [
    "with open('graph.ttl', 'w') as ouf:\n",
    "    ouf.write(resp.text)"
   ]
  },
  {
   "cell_type": "code",
   "execution_count": null,
   "metadata": {},
   "outputs": [],
   "source": []
  },
  {
   "cell_type": "code",
   "execution_count": null,
   "metadata": {},
   "outputs": [],
   "source": []
  },
  {
   "cell_type": "code",
   "execution_count": null,
   "metadata": {},
   "outputs": [],
   "source": []
  },
  {
   "cell_type": "code",
   "execution_count": null,
   "metadata": {},
   "outputs": [],
   "source": []
  },
  {
   "cell_type": "code",
   "execution_count": null,
   "metadata": {},
   "outputs": [],
   "source": []
  },
  {
   "cell_type": "code",
   "execution_count": null,
   "metadata": {},
   "outputs": [],
   "source": []
  },
  {
   "cell_type": "code",
   "execution_count": 278,
   "metadata": {
    "ExecuteTime": {
     "end_time": "2020-03-06T11:47:19.253065Z",
     "start_time": "2020-03-06T11:47:19.235095Z"
    }
   },
   "outputs": [],
   "source": [
    "sparql = SPARQLWrapper('https://query.wikidata.org/sparql')\n",
    "sparql.method = POST"
   ]
  },
  {
   "cell_type": "code",
   "execution_count": 493,
   "metadata": {
    "ExecuteTime": {
     "end_time": "2020-03-09T22:15:25.608947Z",
     "start_time": "2020-03-09T22:15:25.589364Z"
    }
   },
   "outputs": [],
   "source": [
    "uris = ' '.join(['wd:' + qid for qid in good_entities[-1000:]])"
   ]
  },
  {
   "cell_type": "code",
   "execution_count": 328,
   "metadata": {
    "ExecuteTime": {
     "end_time": "2020-03-06T13:20:41.341187Z",
     "start_time": "2020-03-06T13:20:41.311042Z"
    }
   },
   "outputs": [],
   "source": [
    "# query = f'''\n",
    "# CONSTRUCT {{\n",
    "#   ?e ?p1 ?o .\n",
    "#   ?s ?p2 ?e .\n",
    "# }}\n",
    "# WHERE {{\n",
    "#   VALUES ?e {{ {uris} }} .\n",
    "#   {{ ?e ?p1 ?o . }}\n",
    "#   UNION\n",
    "#   {{ ?s ?p2 ?e . }}\n",
    "# }}\n",
    "# '''\n",
    "\n",
    "query = f'''\n",
    "CONSTRUCT {{\n",
    "  ?e0 ?p1 ?e1 .\n",
    "  ?e1 ?p2 ?e2 .\n",
    "  ?e2 wikibase:quantityAmount ?e3 .\n",
    "}}\n",
    "WHERE {{\n",
    "  VALUES ?e0 {{ {uris} }} .\n",
    "  ?e0 ?p1 ?e1 .\n",
    "  ?e1 ?p2 ?e2 .\n",
    "  OPTIONAL {{ ?e2 wikibase:quantityAmount ?e3 }} .\n",
    "}}\n",
    "'''"
   ]
  },
  {
   "cell_type": "code",
   "execution_count": 329,
   "metadata": {
    "ExecuteTime": {
     "end_time": "2020-03-06T13:20:42.129902Z",
     "start_time": "2020-03-06T13:20:42.102049Z"
    }
   },
   "outputs": [
    {
     "name": "stdout",
     "output_type": "stream",
     "text": [
      "\n",
      "CONSTRUCT {\n",
      "  ?e0 ?p1 ?e1 .\n",
      "  ?e1 ?p2 ?e2 .\n",
      "  ?e2 wikibase:quantityAmount ?e3 .\n",
      "}\n",
      "WHERE {\n",
      "  VALUES ?e0 { wd:Q1 wd:Q2 wd:Q3 wd:Q4 wd:Q5 wd:Q8 wd:Q13 wd:Q15 wd:Q16 wd:Q17 wd:Q18 wd:Q19 wd:Q20 wd:Q21 wd:Q22 wd:Q23 wd:Q24 wd:Q25 wd:Q26 wd:Q27 wd:Q28 wd:Q29 wd:Q30 wd:Q31 wd:Q32 wd:Q33 wd:Q34 wd:Q35 wd:Q36 wd:Q37 wd:Q38 wd:Q39 wd:Q40 wd:Q41 wd:Q42 wd:Q43 wd:Q44 wd:Q45 wd:Q46 wd:Q48 wd:Q49 wd:Q51 wd:Q52 wd:Q53 wd:Q54 wd:Q55 wd:Q57 wd:Q58 wd:Q59 wd:Q60 wd:Q61 wd:Q62 wd:Q64 wd:Q65 wd:Q66 wd:Q67 wd:Q68 wd:Q69 wd:Q70 wd:Q71 wd:Q72 wd:Q73 wd:Q74 wd:Q75 wd:Q76 wd:Q77 wd:Q78 wd:Q79 wd:Q80 wd:Q81 wd:Q82 wd:Q83 wd:Q84 wd:Q85 wd:Q86 wd:Q87 wd:Q88 wd:Q89 wd:Q90 wd:Q91 wd:Q94 wd:Q95 wd:Q96 wd:Q97 wd:Q98 wd:Q99 wd:Q100 wd:Q101 wd:Q103 wd:Q105 wd:Q107 wd:Q108 wd:Q109 wd:Q110 wd:Q111 wd:Q112 wd:Q113 wd:Q114 wd:Q115 wd:Q116 } .\n",
      "  ?e0 ?p1 ?e1 .\n",
      "  ?e1 ?p2 ?e2 .\n",
      "  OPTIONAL { ?e2 wikibase:quantityAmount ?e3 } .\n",
      "}\n",
      "\n"
     ]
    }
   ],
   "source": [
    "print(query)"
   ]
  },
  {
   "cell_type": "code",
   "execution_count": 330,
   "metadata": {
    "ExecuteTime": {
     "end_time": "2020-03-06T13:20:48.077207Z",
     "start_time": "2020-03-06T13:20:48.045174Z"
    }
   },
   "outputs": [],
   "source": [
    "sparql.setQuery(query)"
   ]
  },
  {
   "cell_type": "code",
   "execution_count": 292,
   "metadata": {
    "ExecuteTime": {
     "end_time": "2020-03-06T11:58:34.845734Z",
     "start_time": "2020-03-06T11:58:33.736538Z"
    }
   },
   "outputs": [],
   "source": [
    "result_graph = sparql.query()"
   ]
  },
  {
   "cell_type": "code",
   "execution_count": 284,
   "metadata": {
    "ExecuteTime": {
     "end_time": "2020-03-06T11:50:39.497261Z",
     "start_time": "2020-03-06T11:49:45.822990Z"
    }
   },
   "outputs": [],
   "source": [
    "with open('xml_graph.xml', 'wb') as ouf:\n",
    "    for sm in result_graph:\n",
    "        ouf.write(sm)"
   ]
  },
  {
   "cell_type": "code",
   "execution_count": 281,
   "metadata": {
    "ExecuteTime": {
     "end_time": "2020-03-06T11:47:33.279395Z",
     "start_time": "2020-03-06T11:47:33.259604Z"
    }
   },
   "outputs": [
    {
     "data": {
      "text/plain": [
       "SPARQLWrapper.Wrapper.QueryResult"
      ]
     },
     "execution_count": 281,
     "metadata": {},
     "output_type": "execute_result"
    }
   ],
   "source": [
    "type(result_graph)"
   ]
  },
  {
   "cell_type": "code",
   "execution_count": 293,
   "metadata": {
    "ExecuteTime": {
     "end_time": "2020-03-06T12:02:11.788954Z",
     "start_time": "2020-03-06T11:58:40.446896Z"
    }
   },
   "outputs": [
    {
     "ename": "KeyboardInterrupt",
     "evalue": "",
     "output_type": "error",
     "traceback": [
      "\u001b[0;31m---------------------------------------------------------------------------\u001b[0m",
      "\u001b[0;31mKeyboardInterrupt\u001b[0m                         Traceback (most recent call last)",
      "\u001b[0;32m<ipython-input-293-dafe1151f881>\u001b[0m in \u001b[0;36m<module>\u001b[0;34m\u001b[0m\n\u001b[0;32m----> 1\u001b[0;31m \u001b[0mgraph\u001b[0m \u001b[0;34m=\u001b[0m \u001b[0mresult_graph\u001b[0m\u001b[0;34m.\u001b[0m\u001b[0mconvert\u001b[0m\u001b[0;34m(\u001b[0m\u001b[0;34m)\u001b[0m\u001b[0;34m\u001b[0m\u001b[0;34m\u001b[0m\u001b[0m\n\u001b[0m",
      "\u001b[0;32m~/miniconda3/envs/kbqa/lib/python3.7/site-packages/SPARQLWrapper/Wrapper.py\u001b[0m in \u001b[0;36mconvert\u001b[0;34m(self)\u001b[0m\n\u001b[1;32m   1330\u001b[0m             \u001b[0;32melif\u001b[0m \u001b[0m_content_type_in_list\u001b[0m\u001b[0;34m(\u001b[0m\u001b[0mct\u001b[0m\u001b[0;34m,\u001b[0m \u001b[0m_RDF_XML\u001b[0m\u001b[0;34m)\u001b[0m\u001b[0;34m:\u001b[0m\u001b[0;34m\u001b[0m\u001b[0;34m\u001b[0m\u001b[0m\n\u001b[1;32m   1331\u001b[0m                 \u001b[0m_validate_format\u001b[0m\u001b[0;34m(\u001b[0m\u001b[0;34m\"RDF/XML\"\u001b[0m\u001b[0;34m,\u001b[0m \u001b[0;34m[\u001b[0m\u001b[0mRDF\u001b[0m\u001b[0;34m,\u001b[0m \u001b[0mXML\u001b[0m\u001b[0;34m,\u001b[0m \u001b[0mRDFXML\u001b[0m\u001b[0;34m]\u001b[0m\u001b[0;34m,\u001b[0m \u001b[0mct\u001b[0m\u001b[0;34m,\u001b[0m \u001b[0mself\u001b[0m\u001b[0;34m.\u001b[0m\u001b[0mrequestedFormat\u001b[0m\u001b[0;34m)\u001b[0m\u001b[0;34m\u001b[0m\u001b[0;34m\u001b[0m\u001b[0m\n\u001b[0;32m-> 1332\u001b[0;31m                 \u001b[0;32mreturn\u001b[0m \u001b[0mself\u001b[0m\u001b[0;34m.\u001b[0m\u001b[0m_convertRDF\u001b[0m\u001b[0;34m(\u001b[0m\u001b[0;34m)\u001b[0m\u001b[0;34m\u001b[0m\u001b[0;34m\u001b[0m\u001b[0m\n\u001b[0m\u001b[1;32m   1333\u001b[0m             \u001b[0;32melif\u001b[0m \u001b[0m_content_type_in_list\u001b[0m\u001b[0;34m(\u001b[0m\u001b[0mct\u001b[0m\u001b[0;34m,\u001b[0m \u001b[0m_RDF_N3\u001b[0m\u001b[0;34m)\u001b[0m\u001b[0;34m:\u001b[0m\u001b[0;34m\u001b[0m\u001b[0;34m\u001b[0m\u001b[0m\n\u001b[1;32m   1334\u001b[0m                 \u001b[0m_validate_format\u001b[0m\u001b[0;34m(\u001b[0m\u001b[0;34m\"N3\"\u001b[0m\u001b[0;34m,\u001b[0m \u001b[0;34m[\u001b[0m\u001b[0mN3\u001b[0m\u001b[0;34m,\u001b[0m \u001b[0mTURTLE\u001b[0m\u001b[0;34m]\u001b[0m\u001b[0;34m,\u001b[0m \u001b[0mct\u001b[0m\u001b[0;34m,\u001b[0m \u001b[0mself\u001b[0m\u001b[0;34m.\u001b[0m\u001b[0mrequestedFormat\u001b[0m\u001b[0;34m)\u001b[0m\u001b[0;34m\u001b[0m\u001b[0;34m\u001b[0m\u001b[0m\n",
      "\u001b[0;32m~/miniconda3/envs/kbqa/lib/python3.7/site-packages/SPARQLWrapper/Wrapper.py\u001b[0m in \u001b[0;36m_convertRDF\u001b[0;34m(self)\u001b[0m\n\u001b[1;32m   1227\u001b[0m         \u001b[0;31m# (DEPRECATED) this is a strange hack. If the publicID is not set, rdflib (or the underlying xml parser) makes a funny\u001b[0m\u001b[0;34m\u001b[0m\u001b[0;34m\u001b[0m\u001b[0;34m\u001b[0m\u001b[0m\n\u001b[1;32m   1228\u001b[0m         \u001b[0;31m# (DEPRECATED) (and, as far as I could see, meaningless) error message...\u001b[0m\u001b[0;34m\u001b[0m\u001b[0;34m\u001b[0m\u001b[0;34m\u001b[0m\u001b[0m\n\u001b[0;32m-> 1229\u001b[0;31m         \u001b[0mretval\u001b[0m\u001b[0;34m.\u001b[0m\u001b[0mload\u001b[0m\u001b[0;34m(\u001b[0m\u001b[0mself\u001b[0m\u001b[0;34m.\u001b[0m\u001b[0mresponse\u001b[0m\u001b[0;34m)\u001b[0m \u001b[0;31m# (DEPRECATED) publicID=' ')\u001b[0m\u001b[0;34m\u001b[0m\u001b[0;34m\u001b[0m\u001b[0m\n\u001b[0m\u001b[1;32m   1230\u001b[0m         \u001b[0;32mreturn\u001b[0m \u001b[0mretval\u001b[0m\u001b[0;34m\u001b[0m\u001b[0;34m\u001b[0m\u001b[0m\n\u001b[1;32m   1231\u001b[0m \u001b[0;34m\u001b[0m\u001b[0m\n",
      "\u001b[0;32m~/miniconda3/envs/kbqa/lib/python3.7/site-packages/rdflib/graph.py\u001b[0m in \u001b[0;36mload\u001b[0;34m(self, source, publicID, format)\u001b[0m\n\u001b[1;32m   1048\u001b[0m \u001b[0;34m\u001b[0m\u001b[0m\n\u001b[1;32m   1049\u001b[0m     \u001b[0;32mdef\u001b[0m \u001b[0mload\u001b[0m\u001b[0;34m(\u001b[0m\u001b[0mself\u001b[0m\u001b[0;34m,\u001b[0m \u001b[0msource\u001b[0m\u001b[0;34m,\u001b[0m \u001b[0mpublicID\u001b[0m\u001b[0;34m=\u001b[0m\u001b[0;32mNone\u001b[0m\u001b[0;34m,\u001b[0m \u001b[0mformat\u001b[0m\u001b[0;34m=\u001b[0m\u001b[0;34m\"xml\"\u001b[0m\u001b[0;34m)\u001b[0m\u001b[0;34m:\u001b[0m\u001b[0;34m\u001b[0m\u001b[0;34m\u001b[0m\u001b[0m\n\u001b[0;32m-> 1050\u001b[0;31m         \u001b[0mself\u001b[0m\u001b[0;34m.\u001b[0m\u001b[0mparse\u001b[0m\u001b[0;34m(\u001b[0m\u001b[0msource\u001b[0m\u001b[0;34m,\u001b[0m \u001b[0mpublicID\u001b[0m\u001b[0;34m,\u001b[0m \u001b[0mformat\u001b[0m\u001b[0;34m)\u001b[0m\u001b[0;34m\u001b[0m\u001b[0;34m\u001b[0m\u001b[0m\n\u001b[0m\u001b[1;32m   1051\u001b[0m \u001b[0;34m\u001b[0m\u001b[0m\n\u001b[1;32m   1052\u001b[0m     def query(self, query_object, processor='sparql',\n",
      "\u001b[0;32m~/miniconda3/envs/kbqa/lib/python3.7/site-packages/rdflib/graph.py\u001b[0m in \u001b[0;36mparse\u001b[0;34m(self, source, publicID, format, location, file, data, **args)\u001b[0m\n\u001b[1;32m   1494\u001b[0m         \u001b[0mcontext\u001b[0m \u001b[0;34m=\u001b[0m \u001b[0mGraph\u001b[0m\u001b[0;34m(\u001b[0m\u001b[0mstore\u001b[0m\u001b[0;34m=\u001b[0m\u001b[0mself\u001b[0m\u001b[0;34m.\u001b[0m\u001b[0mstore\u001b[0m\u001b[0;34m,\u001b[0m \u001b[0midentifier\u001b[0m\u001b[0;34m=\u001b[0m\u001b[0mg_id\u001b[0m\u001b[0;34m)\u001b[0m\u001b[0;34m\u001b[0m\u001b[0;34m\u001b[0m\u001b[0m\n\u001b[1;32m   1495\u001b[0m         \u001b[0mcontext\u001b[0m\u001b[0;34m.\u001b[0m\u001b[0mremove\u001b[0m\u001b[0;34m(\u001b[0m\u001b[0;34m(\u001b[0m\u001b[0;32mNone\u001b[0m\u001b[0;34m,\u001b[0m \u001b[0;32mNone\u001b[0m\u001b[0;34m,\u001b[0m \u001b[0;32mNone\u001b[0m\u001b[0;34m)\u001b[0m\u001b[0;34m)\u001b[0m \u001b[0;31m# hmm ?\u001b[0m\u001b[0;34m\u001b[0m\u001b[0;34m\u001b[0m\u001b[0m\n\u001b[0;32m-> 1496\u001b[0;31m         \u001b[0mcontext\u001b[0m\u001b[0;34m.\u001b[0m\u001b[0mparse\u001b[0m\u001b[0;34m(\u001b[0m\u001b[0msource\u001b[0m\u001b[0;34m,\u001b[0m \u001b[0mpublicID\u001b[0m\u001b[0;34m=\u001b[0m\u001b[0mpublicID\u001b[0m\u001b[0;34m,\u001b[0m \u001b[0mformat\u001b[0m\u001b[0;34m=\u001b[0m\u001b[0mformat\u001b[0m\u001b[0;34m,\u001b[0m \u001b[0;34m**\u001b[0m\u001b[0margs\u001b[0m\u001b[0;34m)\u001b[0m\u001b[0;34m\u001b[0m\u001b[0;34m\u001b[0m\u001b[0m\n\u001b[0m\u001b[1;32m   1497\u001b[0m         \u001b[0;32mreturn\u001b[0m \u001b[0mcontext\u001b[0m\u001b[0;34m\u001b[0m\u001b[0;34m\u001b[0m\u001b[0m\n\u001b[1;32m   1498\u001b[0m \u001b[0;34m\u001b[0m\u001b[0m\n",
      "\u001b[0;32m~/miniconda3/envs/kbqa/lib/python3.7/site-packages/rdflib/graph.py\u001b[0m in \u001b[0;36mparse\u001b[0;34m(self, source, publicID, format, location, file, data, **args)\u001b[0m\n\u001b[1;32m   1041\u001b[0m         \u001b[0mparser\u001b[0m \u001b[0;34m=\u001b[0m \u001b[0mplugin\u001b[0m\u001b[0;34m.\u001b[0m\u001b[0mget\u001b[0m\u001b[0;34m(\u001b[0m\u001b[0mformat\u001b[0m\u001b[0;34m,\u001b[0m \u001b[0mParser\u001b[0m\u001b[0;34m)\u001b[0m\u001b[0;34m(\u001b[0m\u001b[0;34m)\u001b[0m\u001b[0;34m\u001b[0m\u001b[0;34m\u001b[0m\u001b[0m\n\u001b[1;32m   1042\u001b[0m         \u001b[0;32mtry\u001b[0m\u001b[0;34m:\u001b[0m\u001b[0;34m\u001b[0m\u001b[0;34m\u001b[0m\u001b[0m\n\u001b[0;32m-> 1043\u001b[0;31m             \u001b[0mparser\u001b[0m\u001b[0;34m.\u001b[0m\u001b[0mparse\u001b[0m\u001b[0;34m(\u001b[0m\u001b[0msource\u001b[0m\u001b[0;34m,\u001b[0m \u001b[0mself\u001b[0m\u001b[0;34m,\u001b[0m \u001b[0;34m**\u001b[0m\u001b[0margs\u001b[0m\u001b[0;34m)\u001b[0m\u001b[0;34m\u001b[0m\u001b[0;34m\u001b[0m\u001b[0m\n\u001b[0m\u001b[1;32m   1044\u001b[0m         \u001b[0;32mfinally\u001b[0m\u001b[0;34m:\u001b[0m\u001b[0;34m\u001b[0m\u001b[0;34m\u001b[0m\u001b[0m\n\u001b[1;32m   1045\u001b[0m             \u001b[0;32mif\u001b[0m \u001b[0msource\u001b[0m\u001b[0;34m.\u001b[0m\u001b[0mauto_close\u001b[0m\u001b[0;34m:\u001b[0m\u001b[0;34m\u001b[0m\u001b[0;34m\u001b[0m\u001b[0m\n",
      "\u001b[0;32m~/miniconda3/envs/kbqa/lib/python3.7/site-packages/rdflib/plugins/parsers/rdfxml.py\u001b[0m in \u001b[0;36mparse\u001b[0;34m(self, source, sink, **args)\u001b[0m\n\u001b[1;32m    576\u001b[0m         \u001b[0;31m# content_handler.reset()\u001b[0m\u001b[0;34m\u001b[0m\u001b[0;34m\u001b[0m\u001b[0;34m\u001b[0m\u001b[0m\n\u001b[1;32m    577\u001b[0m         \u001b[0;31m# self._parser.reset()\u001b[0m\u001b[0;34m\u001b[0m\u001b[0;34m\u001b[0m\u001b[0;34m\u001b[0m\u001b[0m\n\u001b[0;32m--> 578\u001b[0;31m         \u001b[0mself\u001b[0m\u001b[0;34m.\u001b[0m\u001b[0m_parser\u001b[0m\u001b[0;34m.\u001b[0m\u001b[0mparse\u001b[0m\u001b[0;34m(\u001b[0m\u001b[0msource\u001b[0m\u001b[0;34m)\u001b[0m\u001b[0;34m\u001b[0m\u001b[0;34m\u001b[0m\u001b[0m\n\u001b[0m",
      "\u001b[0;32m~/miniconda3/envs/kbqa/lib/python3.7/xml/sax/expatreader.py\u001b[0m in \u001b[0;36mparse\u001b[0;34m(self, source)\u001b[0m\n\u001b[1;32m    109\u001b[0m             \u001b[0mself\u001b[0m\u001b[0;34m.\u001b[0m\u001b[0mreset\u001b[0m\u001b[0;34m(\u001b[0m\u001b[0;34m)\u001b[0m\u001b[0;34m\u001b[0m\u001b[0;34m\u001b[0m\u001b[0m\n\u001b[1;32m    110\u001b[0m             \u001b[0mself\u001b[0m\u001b[0;34m.\u001b[0m\u001b[0m_cont_handler\u001b[0m\u001b[0;34m.\u001b[0m\u001b[0msetDocumentLocator\u001b[0m\u001b[0;34m(\u001b[0m\u001b[0mExpatLocator\u001b[0m\u001b[0;34m(\u001b[0m\u001b[0mself\u001b[0m\u001b[0;34m)\u001b[0m\u001b[0;34m)\u001b[0m\u001b[0;34m\u001b[0m\u001b[0;34m\u001b[0m\u001b[0m\n\u001b[0;32m--> 111\u001b[0;31m             \u001b[0mxmlreader\u001b[0m\u001b[0;34m.\u001b[0m\u001b[0mIncrementalParser\u001b[0m\u001b[0;34m.\u001b[0m\u001b[0mparse\u001b[0m\u001b[0;34m(\u001b[0m\u001b[0mself\u001b[0m\u001b[0;34m,\u001b[0m \u001b[0msource\u001b[0m\u001b[0;34m)\u001b[0m\u001b[0;34m\u001b[0m\u001b[0;34m\u001b[0m\u001b[0m\n\u001b[0m\u001b[1;32m    112\u001b[0m         \u001b[0;32mexcept\u001b[0m\u001b[0;34m:\u001b[0m\u001b[0;34m\u001b[0m\u001b[0;34m\u001b[0m\u001b[0m\n\u001b[1;32m    113\u001b[0m             \u001b[0;31m# bpo-30264: Close the source on error to not leak resources:\u001b[0m\u001b[0;34m\u001b[0m\u001b[0;34m\u001b[0m\u001b[0;34m\u001b[0m\u001b[0m\n",
      "\u001b[0;32m~/miniconda3/envs/kbqa/lib/python3.7/xml/sax/xmlreader.py\u001b[0m in \u001b[0;36mparse\u001b[0;34m(self, source)\u001b[0m\n\u001b[1;32m    123\u001b[0m         \u001b[0mbuffer\u001b[0m \u001b[0;34m=\u001b[0m \u001b[0mfile\u001b[0m\u001b[0;34m.\u001b[0m\u001b[0mread\u001b[0m\u001b[0;34m(\u001b[0m\u001b[0mself\u001b[0m\u001b[0;34m.\u001b[0m\u001b[0m_bufsize\u001b[0m\u001b[0;34m)\u001b[0m\u001b[0;34m\u001b[0m\u001b[0;34m\u001b[0m\u001b[0m\n\u001b[1;32m    124\u001b[0m         \u001b[0;32mwhile\u001b[0m \u001b[0mbuffer\u001b[0m\u001b[0;34m:\u001b[0m\u001b[0;34m\u001b[0m\u001b[0;34m\u001b[0m\u001b[0m\n\u001b[0;32m--> 125\u001b[0;31m             \u001b[0mself\u001b[0m\u001b[0;34m.\u001b[0m\u001b[0mfeed\u001b[0m\u001b[0;34m(\u001b[0m\u001b[0mbuffer\u001b[0m\u001b[0;34m)\u001b[0m\u001b[0;34m\u001b[0m\u001b[0;34m\u001b[0m\u001b[0m\n\u001b[0m\u001b[1;32m    126\u001b[0m             \u001b[0mbuffer\u001b[0m \u001b[0;34m=\u001b[0m \u001b[0mfile\u001b[0m\u001b[0;34m.\u001b[0m\u001b[0mread\u001b[0m\u001b[0;34m(\u001b[0m\u001b[0mself\u001b[0m\u001b[0;34m.\u001b[0m\u001b[0m_bufsize\u001b[0m\u001b[0;34m)\u001b[0m\u001b[0;34m\u001b[0m\u001b[0;34m\u001b[0m\u001b[0m\n\u001b[1;32m    127\u001b[0m         \u001b[0mself\u001b[0m\u001b[0;34m.\u001b[0m\u001b[0mclose\u001b[0m\u001b[0;34m(\u001b[0m\u001b[0;34m)\u001b[0m\u001b[0;34m\u001b[0m\u001b[0;34m\u001b[0m\u001b[0m\n",
      "\u001b[0;32m~/miniconda3/envs/kbqa/lib/python3.7/xml/sax/expatreader.py\u001b[0m in \u001b[0;36mfeed\u001b[0;34m(self, data, isFinal)\u001b[0m\n\u001b[1;32m    215\u001b[0m             \u001b[0;31m# document. When feeding chunks, they are not normally final -\u001b[0m\u001b[0;34m\u001b[0m\u001b[0;34m\u001b[0m\u001b[0;34m\u001b[0m\u001b[0m\n\u001b[1;32m    216\u001b[0m             \u001b[0;31m# except when invoked from close.\u001b[0m\u001b[0;34m\u001b[0m\u001b[0;34m\u001b[0m\u001b[0;34m\u001b[0m\u001b[0m\n\u001b[0;32m--> 217\u001b[0;31m             \u001b[0mself\u001b[0m\u001b[0;34m.\u001b[0m\u001b[0m_parser\u001b[0m\u001b[0;34m.\u001b[0m\u001b[0mParse\u001b[0m\u001b[0;34m(\u001b[0m\u001b[0mdata\u001b[0m\u001b[0;34m,\u001b[0m \u001b[0misFinal\u001b[0m\u001b[0;34m)\u001b[0m\u001b[0;34m\u001b[0m\u001b[0;34m\u001b[0m\u001b[0m\n\u001b[0m\u001b[1;32m    218\u001b[0m         \u001b[0;32mexcept\u001b[0m \u001b[0mexpat\u001b[0m\u001b[0;34m.\u001b[0m\u001b[0merror\u001b[0m \u001b[0;32mas\u001b[0m \u001b[0me\u001b[0m\u001b[0;34m:\u001b[0m\u001b[0;34m\u001b[0m\u001b[0;34m\u001b[0m\u001b[0m\n\u001b[1;32m    219\u001b[0m             \u001b[0mexc\u001b[0m \u001b[0;34m=\u001b[0m \u001b[0mSAXParseException\u001b[0m\u001b[0;34m(\u001b[0m\u001b[0mexpat\u001b[0m\u001b[0;34m.\u001b[0m\u001b[0mErrorString\u001b[0m\u001b[0;34m(\u001b[0m\u001b[0me\u001b[0m\u001b[0;34m.\u001b[0m\u001b[0mcode\u001b[0m\u001b[0;34m)\u001b[0m\u001b[0;34m,\u001b[0m \u001b[0me\u001b[0m\u001b[0;34m,\u001b[0m \u001b[0mself\u001b[0m\u001b[0;34m)\u001b[0m\u001b[0;34m\u001b[0m\u001b[0;34m\u001b[0m\u001b[0m\n",
      "\u001b[0;32m/opt/concourse/worker/volumes/live/313743eb-3595-4b53-4518-f77d2fd60714/volume/python_1553722001805/work/Modules/pyexpat.c\u001b[0m in \u001b[0;36mStartElement\u001b[0;34m()\u001b[0m\n",
      "\u001b[0;32m~/miniconda3/envs/kbqa/lib/python3.7/xml/sax/expatreader.py\u001b[0m in \u001b[0;36mstart_element_ns\u001b[0;34m(self, name, attrs)\u001b[0m\n\u001b[1;32m    368\u001b[0m \u001b[0;34m\u001b[0m\u001b[0m\n\u001b[1;32m    369\u001b[0m         self._cont_handler.startElementNS(pair, None,\n\u001b[0;32m--> 370\u001b[0;31m                                           AttributesNSImpl(newattrs, qnames))\n\u001b[0m\u001b[1;32m    371\u001b[0m \u001b[0;34m\u001b[0m\u001b[0m\n\u001b[1;32m    372\u001b[0m     \u001b[0;32mdef\u001b[0m \u001b[0mend_element_ns\u001b[0m\u001b[0;34m(\u001b[0m\u001b[0mself\u001b[0m\u001b[0;34m,\u001b[0m \u001b[0mname\u001b[0m\u001b[0;34m)\u001b[0m\u001b[0;34m:\u001b[0m\u001b[0;34m\u001b[0m\u001b[0;34m\u001b[0m\u001b[0m\n",
      "\u001b[0;32m~/miniconda3/envs/kbqa/lib/python3.7/site-packages/rdflib/plugins/parsers/rdfxml.py\u001b[0m in \u001b[0;36mstartElementNS\u001b[0;34m(self, name, qname, attrs)\u001b[0m\n\u001b[1;32m    155\u001b[0m                 \u001b[0mlanguage\u001b[0m \u001b[0;34m=\u001b[0m \u001b[0mparent\u001b[0m\u001b[0;34m.\u001b[0m\u001b[0mlanguage\u001b[0m\u001b[0;34m\u001b[0m\u001b[0;34m\u001b[0m\u001b[0m\n\u001b[1;32m    156\u001b[0m         \u001b[0mcurrent\u001b[0m\u001b[0;34m.\u001b[0m\u001b[0mlanguage\u001b[0m \u001b[0;34m=\u001b[0m \u001b[0mlanguage\u001b[0m\u001b[0;34m\u001b[0m\u001b[0;34m\u001b[0m\u001b[0m\n\u001b[0;32m--> 157\u001b[0;31m         \u001b[0mcurrent\u001b[0m\u001b[0;34m.\u001b[0m\u001b[0mstart\u001b[0m\u001b[0;34m(\u001b[0m\u001b[0mname\u001b[0m\u001b[0;34m,\u001b[0m \u001b[0mqname\u001b[0m\u001b[0;34m,\u001b[0m \u001b[0mattrs\u001b[0m\u001b[0;34m)\u001b[0m\u001b[0;34m\u001b[0m\u001b[0;34m\u001b[0m\u001b[0m\n\u001b[0m\u001b[1;32m    158\u001b[0m \u001b[0;34m\u001b[0m\u001b[0m\n\u001b[1;32m    159\u001b[0m     \u001b[0;32mdef\u001b[0m \u001b[0mendElementNS\u001b[0m\u001b[0;34m(\u001b[0m\u001b[0mself\u001b[0m\u001b[0;34m,\u001b[0m \u001b[0mname\u001b[0m\u001b[0;34m,\u001b[0m \u001b[0mqname\u001b[0m\u001b[0;34m)\u001b[0m\u001b[0;34m:\u001b[0m\u001b[0;34m\u001b[0m\u001b[0;34m\u001b[0m\u001b[0m\n",
      "\u001b[0;32m~/miniconda3/envs/kbqa/lib/python3.7/site-packages/rdflib/plugins/parsers/rdfxml.py\u001b[0m in \u001b[0;36mnode_element_start\u001b[0;34m(self, name, qname, attrs)\u001b[0m\n\u001b[1;32m    243\u001b[0m \u001b[0;34m\u001b[0m\u001b[0m\n\u001b[1;32m    244\u001b[0m     \u001b[0;32mdef\u001b[0m \u001b[0mnode_element_start\u001b[0m\u001b[0;34m(\u001b[0m\u001b[0mself\u001b[0m\u001b[0;34m,\u001b[0m \u001b[0mname\u001b[0m\u001b[0;34m,\u001b[0m \u001b[0mqname\u001b[0m\u001b[0;34m,\u001b[0m \u001b[0mattrs\u001b[0m\u001b[0;34m)\u001b[0m\u001b[0;34m:\u001b[0m\u001b[0;34m\u001b[0m\u001b[0;34m\u001b[0m\u001b[0m\n\u001b[0;32m--> 245\u001b[0;31m         \u001b[0mname\u001b[0m\u001b[0;34m,\u001b[0m \u001b[0matts\u001b[0m \u001b[0;34m=\u001b[0m \u001b[0mself\u001b[0m\u001b[0;34m.\u001b[0m\u001b[0mconvert\u001b[0m\u001b[0;34m(\u001b[0m\u001b[0mname\u001b[0m\u001b[0;34m,\u001b[0m \u001b[0mqname\u001b[0m\u001b[0;34m,\u001b[0m \u001b[0mattrs\u001b[0m\u001b[0;34m)\u001b[0m\u001b[0;34m\u001b[0m\u001b[0;34m\u001b[0m\u001b[0m\n\u001b[0m\u001b[1;32m    246\u001b[0m         \u001b[0mcurrent\u001b[0m \u001b[0;34m=\u001b[0m \u001b[0mself\u001b[0m\u001b[0;34m.\u001b[0m\u001b[0mcurrent\u001b[0m\u001b[0;34m\u001b[0m\u001b[0;34m\u001b[0m\u001b[0m\n\u001b[1;32m    247\u001b[0m         \u001b[0mabsolutize\u001b[0m \u001b[0;34m=\u001b[0m \u001b[0mself\u001b[0m\u001b[0;34m.\u001b[0m\u001b[0mabsolutize\u001b[0m\u001b[0;34m\u001b[0m\u001b[0;34m\u001b[0m\u001b[0m\n",
      "\u001b[0;32m~/miniconda3/envs/kbqa/lib/python3.7/site-packages/rdflib/plugins/parsers/rdfxml.py\u001b[0m in \u001b[0;36mconvert\u001b[0;34m(self, name, qname, attrs)\u001b[0m\n\u001b[1;32m    227\u001b[0m                 \u001b[0matts\u001b[0m\u001b[0;34m[\u001b[0m\u001b[0mRDFNS\u001b[0m\u001b[0;34m[\u001b[0m\u001b[0matt\u001b[0m\u001b[0;34m]\u001b[0m\u001b[0;34m]\u001b[0m \u001b[0;34m=\u001b[0m \u001b[0mv\u001b[0m\u001b[0;34m\u001b[0m\u001b[0;34m\u001b[0m\u001b[0m\n\u001b[1;32m    228\u001b[0m             \u001b[0;32melse\u001b[0m\u001b[0;34m:\u001b[0m\u001b[0;34m\u001b[0m\u001b[0;34m\u001b[0m\u001b[0m\n\u001b[0;32m--> 229\u001b[0;31m                 \u001b[0matts\u001b[0m\u001b[0;34m[\u001b[0m\u001b[0mURIRef\u001b[0m\u001b[0;34m(\u001b[0m\u001b[0matt\u001b[0m\u001b[0;34m)\u001b[0m\u001b[0;34m]\u001b[0m \u001b[0;34m=\u001b[0m \u001b[0mv\u001b[0m\u001b[0;34m\u001b[0m\u001b[0;34m\u001b[0m\u001b[0m\n\u001b[0m\u001b[1;32m    230\u001b[0m         \u001b[0;32mreturn\u001b[0m \u001b[0mname\u001b[0m\u001b[0;34m,\u001b[0m \u001b[0matts\u001b[0m\u001b[0;34m\u001b[0m\u001b[0;34m\u001b[0m\u001b[0m\n\u001b[1;32m    231\u001b[0m \u001b[0;34m\u001b[0m\u001b[0m\n",
      "\u001b[0;32m~/miniconda3/envs/kbqa/lib/python3.7/site-packages/rdflib/term.py\u001b[0m in \u001b[0;36m__new__\u001b[0;34m(cls, value, base)\u001b[0m\n\u001b[1;32m    221\u001b[0m                     \u001b[0mvalue\u001b[0m \u001b[0;34m+=\u001b[0m \u001b[0;34m\"#\"\u001b[0m\u001b[0;34m\u001b[0m\u001b[0;34m\u001b[0m\u001b[0m\n\u001b[1;32m    222\u001b[0m \u001b[0;34m\u001b[0m\u001b[0m\n\u001b[0;32m--> 223\u001b[0;31m         \u001b[0;32mif\u001b[0m \u001b[0;32mnot\u001b[0m \u001b[0m_is_valid_uri\u001b[0m\u001b[0;34m(\u001b[0m\u001b[0mvalue\u001b[0m\u001b[0;34m)\u001b[0m\u001b[0;34m:\u001b[0m\u001b[0;34m\u001b[0m\u001b[0;34m\u001b[0m\u001b[0m\n\u001b[0m\u001b[1;32m    224\u001b[0m             \u001b[0mlogger\u001b[0m\u001b[0;34m.\u001b[0m\u001b[0mwarning\u001b[0m\u001b[0;34m(\u001b[0m\u001b[0;34m'%s does not look like a valid URI, trying to serialize this will break.'\u001b[0m\u001b[0;34m%\u001b[0m\u001b[0mvalue\u001b[0m\u001b[0;34m)\u001b[0m\u001b[0;34m\u001b[0m\u001b[0;34m\u001b[0m\u001b[0m\n\u001b[1;32m    225\u001b[0m \u001b[0;34m\u001b[0m\u001b[0m\n",
      "\u001b[0;32m~/miniconda3/envs/kbqa/lib/python3.7/site-packages/rdflib/term.py\u001b[0m in \u001b[0;36m_is_valid_uri\u001b[0;34m(uri)\u001b[0m\n\u001b[1;32m     73\u001b[0m \u001b[0;34m\u001b[0m\u001b[0m\n\u001b[1;32m     74\u001b[0m \u001b[0;32mdef\u001b[0m \u001b[0m_is_valid_uri\u001b[0m\u001b[0;34m(\u001b[0m\u001b[0muri\u001b[0m\u001b[0;34m)\u001b[0m\u001b[0;34m:\u001b[0m\u001b[0;34m\u001b[0m\u001b[0;34m\u001b[0m\u001b[0m\n\u001b[0;32m---> 75\u001b[0;31m     \u001b[0;32mfor\u001b[0m \u001b[0mc\u001b[0m \u001b[0;32min\u001b[0m \u001b[0m_invalid_uri_chars\u001b[0m\u001b[0;34m:\u001b[0m\u001b[0;34m\u001b[0m\u001b[0;34m\u001b[0m\u001b[0m\n\u001b[0m\u001b[1;32m     76\u001b[0m         \u001b[0;32mif\u001b[0m \u001b[0mc\u001b[0m \u001b[0;32min\u001b[0m \u001b[0muri\u001b[0m\u001b[0;34m:\u001b[0m \u001b[0;32mreturn\u001b[0m \u001b[0;32mFalse\u001b[0m\u001b[0;34m\u001b[0m\u001b[0;34m\u001b[0m\u001b[0m\n\u001b[1;32m     77\u001b[0m     \u001b[0;32mreturn\u001b[0m \u001b[0;32mTrue\u001b[0m\u001b[0;34m\u001b[0m\u001b[0;34m\u001b[0m\u001b[0m\n",
      "\u001b[0;31mKeyboardInterrupt\u001b[0m: "
     ]
    }
   ],
   "source": [
    "graph = result_graph.convert()"
   ]
  },
  {
   "cell_type": "code",
   "execution_count": 142,
   "metadata": {
    "ExecuteTime": {
     "end_time": "2020-03-05T23:43:03.695747Z",
     "start_time": "2020-03-05T23:43:02.401953Z"
    }
   },
   "outputs": [],
   "source": [
    "with open('graph.ttl', 'bw') as ouf:\n",
    "    ouf.write(result_graph.serialize(format='turtle'))"
   ]
  },
  {
   "cell_type": "code",
   "execution_count": 104,
   "metadata": {
    "ExecuteTime": {
     "end_time": "2020-03-29T01:38:07.077395Z",
     "start_time": "2020-03-29T01:38:06.995413Z"
    }
   },
   "outputs": [],
   "source": [
    "g = Graph()"
   ]
  },
  {
   "cell_type": "code",
   "execution_count": 105,
   "metadata": {
    "ExecuteTime": {
     "end_time": "2020-03-29T01:38:10.931318Z",
     "start_time": "2020-03-29T01:38:09.701031Z"
    }
   },
   "outputs": [],
   "source": [
    "with open('simple_graph_sub.ttl', 'r') as inf:\n",
    "    g.parse(inf, format='turtle')"
   ]
  },
  {
   "cell_type": "code",
   "execution_count": 317,
   "metadata": {
    "ExecuteTime": {
     "end_time": "2020-03-06T12:33:07.489560Z",
     "start_time": "2020-03-06T12:33:07.248345Z"
    }
   },
   "outputs": [],
   "source": [
    "g.serialize('simple_graph_sub.nt', format='nt')"
   ]
  },
  {
   "cell_type": "code",
   "execution_count": 318,
   "metadata": {
    "ExecuteTime": {
     "end_time": "2020-03-06T12:34:42.050603Z",
     "start_time": "2020-03-06T12:34:41.814860Z"
    }
   },
   "outputs": [],
   "source": [
    "with open('simple_graph.nt', 'r') as inf:\n",
    "    sg = [line.strip() for line in inf]\n",
    "with open('simple_graph_sub.nt', 'r') as inf:\n",
    "    sgs = [line.strip() for line in inf]"
   ]
  },
  {
   "cell_type": "code",
   "execution_count": 321,
   "metadata": {
    "ExecuteTime": {
     "end_time": "2020-03-06T12:34:55.827337Z",
     "start_time": "2020-03-06T12:34:55.800304Z"
    }
   },
   "outputs": [],
   "source": [
    "sg.sort()\n",
    "sgs.sort()"
   ]
  },
  {
   "cell_type": "code",
   "execution_count": 322,
   "metadata": {
    "ExecuteTime": {
     "end_time": "2020-03-06T12:35:27.731673Z",
     "start_time": "2020-03-06T12:35:27.203364Z"
    },
    "scrolled": true
   },
   "outputs": [
    {
     "name": "stdout",
     "output_type": "stream",
     "text": [
      "15231\n",
      "<http://www.wikidata.org/entity/statement/Q2-6657d0b5-4aa4-b465-12ed-d1b8a04ef658> <http://www.wikidata.org/prop/statement/P576> _:fd86c57b67bd34ace991911307ac97aabb8 .\n",
      "<http://www.wikidata.org/entity/statement/Q2-6657d0b5-4aa4-b465-12ed-d1b8a04ef658> <http://www.wikidata.org/prop/statement/P576> _:ff7bfe3933b72466a8785b14d83208d65b8 .\n",
      "15232\n",
      "<http://www.wikidata.org/entity/statement/Q2-66aa9cb5-4f00-64d4-8d20-7f7d1c89dbf1> <http://wikiba.se/ontology#rank> <http://wikiba.se/ontology#PreferredRank> .\n",
      "<http://www.wikidata.org/entity/statement/Q2-6657d0b5-4aa4-b465-12ed-d1b8a04ef658> <http://www.wikidata.org/prop/statement/P576> _:ffecc0fa21e8c412babe38e9c87a502ceb8 .\n",
      "15233\n",
      "<http://www.wikidata.org/entity/statement/Q2-66aa9cb5-4f00-64d4-8d20-7f7d1c89dbf1> <http://www.w3.org/1999/02/22-rdf-syntax-ns#type> <http://wikiba.se/ontology#BestRank> .\n",
      "<http://www.wikidata.org/entity/statement/Q2-66aa9cb5-4f00-64d4-8d20-7f7d1c89dbf1> <http://wikiba.se/ontology#rank> <http://wikiba.se/ontology#PreferredRank> .\n",
      "15234\n",
      "<http://www.wikidata.org/entity/statement/Q2-66aa9cb5-4f00-64d4-8d20-7f7d1c89dbf1> <http://www.w3.org/ns/prov#wasDerivedFrom> <http://www.wikidata.org/reference/f7c05d4201b78f52663974a8bf7090558eb80ed4> .\n",
      "<http://www.wikidata.org/entity/statement/Q2-66aa9cb5-4f00-64d4-8d20-7f7d1c89dbf1> <http://www.w3.org/1999/02/22-rdf-syntax-ns#type> <http://wikiba.se/ontology#BestRank> .\n",
      "15235\n",
      "<http://www.wikidata.org/entity/statement/Q2-66aa9cb5-4f00-64d4-8d20-7f7d1c89dbf1> <http://www.wikidata.org/prop/qualifier/P518> <http://www.wikidata.org/entity/Q2796622> .\n",
      "<http://www.wikidata.org/entity/statement/Q2-66aa9cb5-4f00-64d4-8d20-7f7d1c89dbf1> <http://www.w3.org/ns/prov#wasDerivedFrom> <http://www.wikidata.org/reference/f7c05d4201b78f52663974a8bf7090558eb80ed4> .\n",
      "15236\n",
      "<http://www.wikidata.org/entity/statement/Q2-66aa9cb5-4f00-64d4-8d20-7f7d1c89dbf1> <http://www.wikidata.org/prop/qualifier/P805> <http://www.wikidata.org/entity/Q1155470> .\n",
      "<http://www.wikidata.org/entity/statement/Q2-66aa9cb5-4f00-64d4-8d20-7f7d1c89dbf1> <http://www.wikidata.org/prop/qualifier/P518> <http://www.wikidata.org/entity/Q2796622> .\n",
      "15237\n",
      "<http://www.wikidata.org/entity/statement/Q2-66aa9cb5-4f00-64d4-8d20-7f7d1c89dbf1> <http://www.wikidata.org/prop/statement/P2120> \"6371.0\"^^<http://www.w3.org/2001/XMLSchema#decimal> .\n",
      "<http://www.wikidata.org/entity/statement/Q2-66aa9cb5-4f00-64d4-8d20-7f7d1c89dbf1> <http://www.wikidata.org/prop/qualifier/P805> <http://www.wikidata.org/entity/Q1155470> .\n",
      "15238\n",
      "<http://www.wikidata.org/entity/statement/Q2-66aa9cb5-4f00-64d4-8d20-7f7d1c89dbf1> <http://www.wikidata.org/prop/statement/value-normalized/P2120> <http://www.wikidata.org/value/56b1cc81d446a4b4168fbfc74d0d224e> .\n",
      "<http://www.wikidata.org/entity/statement/Q2-66aa9cb5-4f00-64d4-8d20-7f7d1c89dbf1> <http://www.wikidata.org/prop/statement/P2120> \"6371.0\"^^<http://www.w3.org/2001/XMLSchema#decimal> .\n",
      "15239\n",
      "<http://www.wikidata.org/entity/statement/Q2-66aa9cb5-4f00-64d4-8d20-7f7d1c89dbf1> <http://www.wikidata.org/prop/statement/value/P2120> <http://www.wikidata.org/value/c540cb15ce2ed2cd33875af0adc484ee> .\n",
      "<http://www.wikidata.org/entity/statement/Q2-66aa9cb5-4f00-64d4-8d20-7f7d1c89dbf1> <http://www.wikidata.org/prop/statement/value-normalized/P2120> <http://www.wikidata.org/value/56b1cc81d446a4b4168fbfc74d0d224e> .\n",
      "15240\n",
      "<http://www.wikidata.org/entity/statement/Q2-684286ec-46d6-6709-5691-acd8ea5fdfee> <http://wikiba.se/ontology#rank> <http://wikiba.se/ontology#NormalRank> .\n",
      "<http://www.wikidata.org/entity/statement/Q2-66aa9cb5-4f00-64d4-8d20-7f7d1c89dbf1> <http://www.wikidata.org/prop/statement/value/P2120> <http://www.wikidata.org/value/c540cb15ce2ed2cd33875af0adc484ee> .\n",
      "15241\n",
      "<http://www.wikidata.org/entity/statement/Q2-684286ec-46d6-6709-5691-acd8ea5fdfee> <http://www.w3.org/1999/02/22-rdf-syntax-ns#type> <http://wikiba.se/ontology#BestRank> .\n",
      "<http://www.wikidata.org/entity/statement/Q2-684286ec-46d6-6709-5691-acd8ea5fdfee> <http://wikiba.se/ontology#rank> <http://wikiba.se/ontology#NormalRank> .\n",
      "15242\n",
      "<http://www.wikidata.org/entity/statement/Q2-684286ec-46d6-6709-5691-acd8ea5fdfee> <http://www.w3.org/ns/prov#wasDerivedFrom> <http://www.wikidata.org/reference/e4d22adfe59527af45a264e7b784c536a47862a3> .\n",
      "<http://www.wikidata.org/entity/statement/Q2-684286ec-46d6-6709-5691-acd8ea5fdfee> <http://www.w3.org/1999/02/22-rdf-syntax-ns#type> <http://wikiba.se/ontology#BestRank> .\n",
      "15243\n",
      "<http://www.wikidata.org/entity/statement/Q2-684286ec-46d6-6709-5691-acd8ea5fdfee> <http://www.wikidata.org/prop/statement/P2234> \"1083210000000.0\"^^<http://www.w3.org/2001/XMLSchema#decimal> .\n",
      "<http://www.wikidata.org/entity/statement/Q2-684286ec-46d6-6709-5691-acd8ea5fdfee> <http://www.w3.org/ns/prov#wasDerivedFrom> <http://www.wikidata.org/reference/e4d22adfe59527af45a264e7b784c536a47862a3> .\n",
      "15244\n",
      "<http://www.wikidata.org/entity/statement/Q2-684286ec-46d6-6709-5691-acd8ea5fdfee> <http://www.wikidata.org/prop/statement/value-normalized/P2234> <http://www.wikidata.org/value/fa5c7347f87ecfd017c2f7e4d286c332> .\n",
      "<http://www.wikidata.org/entity/statement/Q2-684286ec-46d6-6709-5691-acd8ea5fdfee> <http://www.wikidata.org/prop/statement/P2234> \"1083210000000.0\"^^<http://www.w3.org/2001/XMLSchema#decimal> .\n",
      "15245\n",
      "<http://www.wikidata.org/entity/statement/Q2-684286ec-46d6-6709-5691-acd8ea5fdfee> <http://www.wikidata.org/prop/statement/value/P2234> <http://www.wikidata.org/value/f23de9b3468d7e05bee9054c32b70eac> .\n",
      "<http://www.wikidata.org/entity/statement/Q2-684286ec-46d6-6709-5691-acd8ea5fdfee> <http://www.wikidata.org/prop/statement/value-normalized/P2234> <http://www.wikidata.org/value/fa5c7347f87ecfd017c2f7e4d286c332> .\n",
      "15246\n",
      "<http://www.wikidata.org/entity/statement/Q2-6D14D860-319D-4961-B9CF-E4A4F8D03838> <http://wikiba.se/ontology#rank> <http://wikiba.se/ontology#NormalRank> .\n",
      "<http://www.wikidata.org/entity/statement/Q2-684286ec-46d6-6709-5691-acd8ea5fdfee> <http://www.wikidata.org/prop/statement/value/P2234> <http://www.wikidata.org/value/f23de9b3468d7e05bee9054c32b70eac> .\n",
      "15247\n",
      "<http://www.wikidata.org/entity/statement/Q2-6D14D860-319D-4961-B9CF-E4A4F8D03838> <http://www.w3.org/1999/02/22-rdf-syntax-ns#type> <http://wikiba.se/ontology#BestRank> .\n",
      "<http://www.wikidata.org/entity/statement/Q2-6D14D860-319D-4961-B9CF-E4A4F8D03838> <http://wikiba.se/ontology#rank> <http://wikiba.se/ontology#NormalRank> .\n",
      "15248\n",
      "<http://www.wikidata.org/entity/statement/Q2-6D14D860-319D-4961-B9CF-E4A4F8D03838> <http://www.wikidata.org/prop/statement/P1096> \"0.01671123\"^^<http://www.w3.org/2001/XMLSchema#decimal> .\n",
      "<http://www.wikidata.org/entity/statement/Q2-6D14D860-319D-4961-B9CF-E4A4F8D03838> <http://www.w3.org/1999/02/22-rdf-syntax-ns#type> <http://wikiba.se/ontology#BestRank> .\n",
      "15249\n",
      "<http://www.wikidata.org/entity/statement/Q2-6D14D860-319D-4961-B9CF-E4A4F8D03838> <http://www.wikidata.org/prop/statement/value/P1096> <http://www.wikidata.org/value/40ddc1df0094681718a786f2aaf55cf7> .\n",
      "<http://www.wikidata.org/entity/statement/Q2-6D14D860-319D-4961-B9CF-E4A4F8D03838> <http://www.wikidata.org/prop/statement/P1096> \"0.01671123\"^^<http://www.w3.org/2001/XMLSchema#decimal> .\n",
      "15250\n",
      "<http://www.wikidata.org/entity/statement/Q2-6d3a613f-4d81-dddd-ba7c-6c76d5d09adf> <http://wikiba.se/ontology#hasViolationForConstraint> <http://www.wikidata.org/entity/statement/P1082-E8CBFFC0-0655-46D1-B292-FECE461E8253> .\n",
      "<http://www.wikidata.org/entity/statement/Q2-6D14D860-319D-4961-B9CF-E4A4F8D03838> <http://www.wikidata.org/prop/statement/value/P1096> <http://www.wikidata.org/value/40ddc1df0094681718a786f2aaf55cf7> .\n",
      "15251\n",
      "<http://www.wikidata.org/entity/statement/Q2-6d3a613f-4d81-dddd-ba7c-6c76d5d09adf> <http://wikiba.se/ontology#rank> <http://wikiba.se/ontology#NormalRank> .\n",
      "<http://www.wikidata.org/entity/statement/Q2-6d3a613f-4d81-dddd-ba7c-6c76d5d09adf> <http://wikiba.se/ontology#hasViolationForConstraint> <http://www.wikidata.org/entity/statement/P1082-E8CBFFC0-0655-46D1-B292-FECE461E8253> .\n",
      "15252\n",
      "<http://www.wikidata.org/entity/statement/Q2-6d3a613f-4d81-dddd-ba7c-6c76d5d09adf> <http://www.w3.org/ns/prov#wasDerivedFrom> <http://www.wikidata.org/reference/2ff8cacaba2120f20f430505cf8970ff728f2b03> .\n",
      "<http://www.wikidata.org/entity/statement/Q2-6d3a613f-4d81-dddd-ba7c-6c76d5d09adf> <http://wikiba.se/ontology#rank> <http://wikiba.se/ontology#NormalRank> .\n",
      "15253\n",
      "<http://www.wikidata.org/entity/statement/Q2-6d3a613f-4d81-dddd-ba7c-6c76d5d09adf> <http://www.wikidata.org/prop/qualifier/P585> \"2013-12-31T00:00:00+00:00\"^^<http://www.w3.org/2001/XMLSchema#dateTime> .\n",
      "<http://www.wikidata.org/entity/statement/Q2-6d3a613f-4d81-dddd-ba7c-6c76d5d09adf> <http://www.w3.org/ns/prov#wasDerivedFrom> <http://www.wikidata.org/reference/2ff8cacaba2120f20f430505cf8970ff728f2b03> .\n",
      "15254\n",
      "<http://www.wikidata.org/entity/statement/Q2-6d3a613f-4d81-dddd-ba7c-6c76d5d09adf> <http://www.wikidata.org/prop/qualifier/value/P585> <http://www.wikidata.org/value/b39a424172b92d34931e5de1b42e235b> .\n",
      "<http://www.wikidata.org/entity/statement/Q2-6d3a613f-4d81-dddd-ba7c-6c76d5d09adf> <http://www.wikidata.org/prop/qualifier/P585> \"2013-12-31T00:00:00+00:00\"^^<http://www.w3.org/2001/XMLSchema#dateTime> .\n",
      "15255\n",
      "<http://www.wikidata.org/entity/statement/Q2-6d3a613f-4d81-dddd-ba7c-6c76d5d09adf> <http://www.wikidata.org/prop/statement/P1082> \"7202951000.0\"^^<http://www.w3.org/2001/XMLSchema#decimal> .\n",
      "<http://www.wikidata.org/entity/statement/Q2-6d3a613f-4d81-dddd-ba7c-6c76d5d09adf> <http://www.wikidata.org/prop/qualifier/value/P585> <http://www.wikidata.org/value/b39a424172b92d34931e5de1b42e235b> .\n",
      "15256\n",
      "<http://www.wikidata.org/entity/statement/Q2-6d3a613f-4d81-dddd-ba7c-6c76d5d09adf> <http://www.wikidata.org/prop/statement/value/P1082> <http://www.wikidata.org/value/95f6c59c32de8a53e05e29ddb4c99b20> .\n",
      "<http://www.wikidata.org/entity/statement/Q2-6d3a613f-4d81-dddd-ba7c-6c76d5d09adf> <http://www.wikidata.org/prop/statement/P1082> \"7202951000.0\"^^<http://www.w3.org/2001/XMLSchema#decimal> .\n",
      "15257\n",
      "<http://www.wikidata.org/entity/statement/Q2-6d5df9db-43aa-2136-7b3e-4a24fe889f66> <http://wikiba.se/ontology#hasViolationForConstraint> <http://www.wikidata.org/entity/statement/P1082-E8CBFFC0-0655-46D1-B292-FECE461E8253> .\n",
      "<http://www.wikidata.org/entity/statement/Q2-6d3a613f-4d81-dddd-ba7c-6c76d5d09adf> <http://www.wikidata.org/prop/statement/value/P1082> <http://www.wikidata.org/value/95f6c59c32de8a53e05e29ddb4c99b20> .\n",
      "15258\n",
      "<http://www.wikidata.org/entity/statement/Q2-6d5df9db-43aa-2136-7b3e-4a24fe889f66> <http://wikiba.se/ontology#rank> <http://wikiba.se/ontology#NormalRank> .\n",
      "<http://www.wikidata.org/entity/statement/Q2-6d5df9db-43aa-2136-7b3e-4a24fe889f66> <http://wikiba.se/ontology#hasViolationForConstraint> <http://www.wikidata.org/entity/statement/P1082-E8CBFFC0-0655-46D1-B292-FECE461E8253> .\n",
      "15259\n",
      "<http://www.wikidata.org/entity/statement/Q2-6d5df9db-43aa-2136-7b3e-4a24fe889f66> <http://www.wikidata.org/prop/qualifier/P585> \"2005-01-01T00:00:00+00:00\"^^<http://www.w3.org/2001/XMLSchema#dateTime> .\n",
      "<http://www.wikidata.org/entity/statement/Q2-6d5df9db-43aa-2136-7b3e-4a24fe889f66> <http://wikiba.se/ontology#rank> <http://wikiba.se/ontology#NormalRank> .\n",
      "15260\n",
      "<http://www.wikidata.org/entity/statement/Q2-6d5df9db-43aa-2136-7b3e-4a24fe889f66> <http://www.wikidata.org/prop/qualifier/value/P585> <http://www.wikidata.org/value/1787cce2e37eae1c7c8cef5bef90f0ba> .\n",
      "<http://www.wikidata.org/entity/statement/Q2-6d5df9db-43aa-2136-7b3e-4a24fe889f66> <http://www.wikidata.org/prop/qualifier/P585> \"2005-01-01T00:00:00+00:00\"^^<http://www.w3.org/2001/XMLSchema#dateTime> .\n",
      "15261\n",
      "<http://www.wikidata.org/entity/statement/Q2-6d5df9db-43aa-2136-7b3e-4a24fe889f66> <http://www.wikidata.org/prop/statement/P1082> \"6343628000.0\"^^<http://www.w3.org/2001/XMLSchema#decimal> .\n",
      "<http://www.wikidata.org/entity/statement/Q2-6d5df9db-43aa-2136-7b3e-4a24fe889f66> <http://www.wikidata.org/prop/qualifier/value/P585> <http://www.wikidata.org/value/1787cce2e37eae1c7c8cef5bef90f0ba> .\n",
      "15262\n",
      "<http://www.wikidata.org/entity/statement/Q2-6d5df9db-43aa-2136-7b3e-4a24fe889f66> <http://www.wikidata.org/prop/statement/value/P1082> <http://www.wikidata.org/value/ddd784cdc2c1526d4233d9636c803607> .\n",
      "<http://www.wikidata.org/entity/statement/Q2-6d5df9db-43aa-2136-7b3e-4a24fe889f66> <http://www.wikidata.org/prop/statement/P1082> \"6343628000.0\"^^<http://www.w3.org/2001/XMLSchema#decimal> .\n",
      "15263\n",
      "<http://www.wikidata.org/entity/statement/Q2-6d825fc6-4c0b-257b-e3b0-856106955faf> <http://wikiba.se/ontology#rank> <http://wikiba.se/ontology#NormalRank> .\n",
      "<http://www.wikidata.org/entity/statement/Q2-6d5df9db-43aa-2136-7b3e-4a24fe889f66> <http://www.wikidata.org/prop/statement/value/P1082> <http://www.wikidata.org/value/ddd784cdc2c1526d4233d9636c803607> .\n",
      "15264\n",
      "<http://www.wikidata.org/entity/statement/Q2-6d825fc6-4c0b-257b-e3b0-856106955faf> <http://www.w3.org/ns/prov#wasDerivedFrom> <http://www.wikidata.org/reference/855a8ce970b8c3f51fe63866fbf562e8aa2c4d0b> .\n",
      "<http://www.wikidata.org/entity/statement/Q2-6d825fc6-4c0b-257b-e3b0-856106955faf> <http://wikiba.se/ontology#rank> <http://wikiba.se/ontology#NormalRank> .\n",
      "15265\n",
      "<http://www.wikidata.org/entity/statement/Q2-6d825fc6-4c0b-257b-e3b0-856106955faf> <http://www.wikidata.org/prop/qualifier/P2044> \"-10540.0\"^^<http://www.w3.org/2001/XMLSchema#decimal> .\n",
      "<http://www.wikidata.org/entity/statement/Q2-6d825fc6-4c0b-257b-e3b0-856106955faf> <http://www.w3.org/ns/prov#wasDerivedFrom> <http://www.wikidata.org/reference/855a8ce970b8c3f51fe63866fbf562e8aa2c4d0b> .\n",
      "15266\n",
      "<http://www.wikidata.org/entity/statement/Q2-6d825fc6-4c0b-257b-e3b0-856106955faf> <http://www.wikidata.org/prop/qualifier/P582> \"1952-01-01T00:00:00+00:00\"^^<http://www.w3.org/2001/XMLSchema#dateTime> .\n",
      "<http://www.wikidata.org/entity/statement/Q2-6d825fc6-4c0b-257b-e3b0-856106955faf> <http://www.wikidata.org/prop/qualifier/P2044> \"-10540.0\"^^<http://www.w3.org/2001/XMLSchema#decimal> .\n",
      "15267\n",
      "<http://www.wikidata.org/entity/statement/Q2-6d825fc6-4c0b-257b-e3b0-856106955faf> <http://www.wikidata.org/prop/qualifier/value-normalized/P2044> <http://www.wikidata.org/value/4bccd3e2b7b428fb3878f69bd51b6d7d> .\n",
      "<http://www.wikidata.org/entity/statement/Q2-6d825fc6-4c0b-257b-e3b0-856106955faf> <http://www.wikidata.org/prop/qualifier/P582> \"1952-01-01T00:00:00+00:00\"^^<http://www.w3.org/2001/XMLSchema#dateTime> .\n",
      "15268\n",
      "<http://www.wikidata.org/entity/statement/Q2-6d825fc6-4c0b-257b-e3b0-856106955faf> <http://www.wikidata.org/prop/qualifier/value/P2044> <http://www.wikidata.org/value/4bccd3e2b7b428fb3878f69bd51b6d7d> .\n",
      "<http://www.wikidata.org/entity/statement/Q2-6d825fc6-4c0b-257b-e3b0-856106955faf> <http://www.wikidata.org/prop/qualifier/value-normalized/P2044> <http://www.wikidata.org/value/4bccd3e2b7b428fb3878f69bd51b6d7d> .\n",
      "15269\n",
      "<http://www.wikidata.org/entity/statement/Q2-6d825fc6-4c0b-257b-e3b0-856106955faf> <http://www.wikidata.org/prop/qualifier/value/P582> <http://www.wikidata.org/value/2ce603358ee51010bf305c79de30684a> .\n",
      "<http://www.wikidata.org/entity/statement/Q2-6d825fc6-4c0b-257b-e3b0-856106955faf> <http://www.wikidata.org/prop/qualifier/value/P2044> <http://www.wikidata.org/value/4bccd3e2b7b428fb3878f69bd51b6d7d> .\n",
      "15270\n",
      "<http://www.wikidata.org/entity/statement/Q2-6d825fc6-4c0b-257b-e3b0-856106955faf> <http://www.wikidata.org/prop/statement/P1589> <http://www.wikidata.org/entity/Q1491734> .\n",
      "<http://www.wikidata.org/entity/statement/Q2-6d825fc6-4c0b-257b-e3b0-856106955faf> <http://www.wikidata.org/prop/qualifier/value/P582> <http://www.wikidata.org/value/2ce603358ee51010bf305c79de30684a> .\n",
      "15271\n",
      "<http://www.wikidata.org/entity/statement/Q2-6dc8e044-4136-d7ad-ffad-65abb7d13dc6> <http://wikiba.se/ontology#rank> <http://wikiba.se/ontology#NormalRank> .\n",
      "<http://www.wikidata.org/entity/statement/Q2-6d825fc6-4c0b-257b-e3b0-856106955faf> <http://www.wikidata.org/prop/statement/P1589> <http://www.wikidata.org/entity/Q1491734> .\n",
      "15272\n",
      "<http://www.wikidata.org/entity/statement/Q2-6dc8e044-4136-d7ad-ffad-65abb7d13dc6> <http://www.w3.org/1999/02/22-rdf-syntax-ns#type> <http://wikiba.se/ontology#BestRank> .\n",
      "<http://www.wikidata.org/entity/statement/Q2-6dc8e044-4136-d7ad-ffad-65abb7d13dc6> <http://wikiba.se/ontology#rank> <http://wikiba.se/ontology#NormalRank> .\n",
      "15273\n",
      "<http://www.wikidata.org/entity/statement/Q2-6dc8e044-4136-d7ad-ffad-65abb7d13dc6> <http://www.wikidata.org/prop/qualifier/P407> <http://www.wikidata.org/entity/Q1321> .\n",
      "<http://www.wikidata.org/entity/statement/Q2-6dc8e044-4136-d7ad-ffad-65abb7d13dc6> <http://www.w3.org/1999/02/22-rdf-syntax-ns#type> <http://wikiba.se/ontology#BestRank> .\n",
      "15274\n",
      "<http://www.wikidata.org/entity/statement/Q2-6dc8e044-4136-d7ad-ffad-65abb7d13dc6> <http://www.wikidata.org/prop/statement/P998> \"World/Espa\\u00F1ol/Ciencia_y_tecnolog\\u00EDa/Astronom\\u00EDa/Sistema_Solar/Planetas/Tierra/\" .\n",
      "<http://www.wikidata.org/entity/statement/Q2-6dc8e044-4136-d7ad-ffad-65abb7d13dc6> <http://www.wikidata.org/prop/qualifier/P407> <http://www.wikidata.org/entity/Q1321> .\n",
      "15275\n",
      "<http://www.wikidata.org/entity/statement/Q2-70B8ED8C-10C3-4639-810A-7128412AE543> <http://wikiba.se/ontology#rank> <http://wikiba.se/ontology#NormalRank> .\n",
      "<http://www.wikidata.org/entity/statement/Q2-6dc8e044-4136-d7ad-ffad-65abb7d13dc6> <http://www.wikidata.org/prop/statement/P998> \"World/Espa\\u00F1ol/Ciencia_y_tecnolog\\u00EDa/Astronom\\u00EDa/Sistema_Solar/Planetas/Tierra/\" .\n",
      "15276\n",
      "<http://www.wikidata.org/entity/statement/Q2-70B8ED8C-10C3-4639-810A-7128412AE543> <http://www.w3.org/1999/02/22-rdf-syntax-ns#type> <http://wikiba.se/ontology#BestRank> .\n",
      "<http://www.wikidata.org/entity/statement/Q2-70B8ED8C-10C3-4639-810A-7128412AE543> <http://wikiba.se/ontology#rank> <http://wikiba.se/ontology#NormalRank> .\n",
      "15277\n",
      "<http://www.wikidata.org/entity/statement/Q2-70B8ED8C-10C3-4639-810A-7128412AE543> <http://www.wikidata.org/prop/statement/P1417> \"place/Earth\" .\n",
      "<http://www.wikidata.org/entity/statement/Q2-70B8ED8C-10C3-4639-810A-7128412AE543> <http://www.w3.org/1999/02/22-rdf-syntax-ns#type> <http://wikiba.se/ontology#BestRank> .\n",
      "15278\n",
      "<http://www.wikidata.org/entity/statement/Q2-71057f36-4ad6-6d15-1cee-0ba0cf8507aa> <http://wikiba.se/ontology#rank> <http://wikiba.se/ontology#DeprecatedRank> .\n",
      "<http://www.wikidata.org/entity/statement/Q2-70B8ED8C-10C3-4639-810A-7128412AE543> <http://www.wikidata.org/prop/statement/P1417> \"place/Earth\" .\n",
      "15279\n",
      "<http://www.wikidata.org/entity/statement/Q2-71057f36-4ad6-6d15-1cee-0ba0cf8507aa> <http://www.wikidata.org/prop/qualifier/P585> \"2010-01-01T00:00:00+00:00\"^^<http://www.w3.org/2001/XMLSchema#dateTime> .\n",
      "<http://www.wikidata.org/entity/statement/Q2-71057f36-4ad6-6d15-1cee-0ba0cf8507aa> <http://wikiba.se/ontology#rank> <http://wikiba.se/ontology#DeprecatedRank> .\n",
      "15280\n",
      "<http://www.wikidata.org/entity/statement/Q2-71057f36-4ad6-6d15-1cee-0ba0cf8507aa> <http://www.wikidata.org/prop/qualifier/value/P585> <http://www.wikidata.org/value/e4feaf84dff082bd6fbae53c881faff6> .\n",
      "<http://www.wikidata.org/entity/statement/Q2-71057f36-4ad6-6d15-1cee-0ba0cf8507aa> <http://www.wikidata.org/prop/qualifier/P585> \"2010-01-01T00:00:00+00:00\"^^<http://www.w3.org/2001/XMLSchema#dateTime> .\n",
      "15281\n",
      "<http://www.wikidata.org/entity/statement/Q2-71057f36-4ad6-6d15-1cee-0ba0cf8507aa> <http://www.wikidata.org/prop/statement/P1082> \"6800000000.0\"^^<http://www.w3.org/2001/XMLSchema#decimal> .\n",
      "<http://www.wikidata.org/entity/statement/Q2-71057f36-4ad6-6d15-1cee-0ba0cf8507aa> <http://www.wikidata.org/prop/qualifier/value/P585> <http://www.wikidata.org/value/e4feaf84dff082bd6fbae53c881faff6> .\n",
      "15282\n",
      "<http://www.wikidata.org/entity/statement/Q2-71057f36-4ad6-6d15-1cee-0ba0cf8507aa> <http://www.wikidata.org/prop/statement/value/P1082> <http://www.wikidata.org/value/30536eb31b841fe9ae0721f7118b4bb1> .\n",
      "<http://www.wikidata.org/entity/statement/Q2-71057f36-4ad6-6d15-1cee-0ba0cf8507aa> <http://www.wikidata.org/prop/statement/P1082> \"6800000000.0\"^^<http://www.w3.org/2001/XMLSchema#decimal> .\n",
      "15283\n",
      "<http://www.wikidata.org/entity/statement/Q2-711c9b27-412e-2b1b-6e5b-6a51f2c17bfb> <http://wikiba.se/ontology#rank> <http://wikiba.se/ontology#NormalRank> .\n",
      "<http://www.wikidata.org/entity/statement/Q2-71057f36-4ad6-6d15-1cee-0ba0cf8507aa> <http://www.wikidata.org/prop/statement/value/P1082> <http://www.wikidata.org/value/30536eb31b841fe9ae0721f7118b4bb1> .\n",
      "15284\n",
      "<http://www.wikidata.org/entity/statement/Q2-711c9b27-412e-2b1b-6e5b-6a51f2c17bfb> <http://www.w3.org/1999/02/22-rdf-syntax-ns#type> <http://wikiba.se/ontology#BestRank> .\n",
      "<http://www.wikidata.org/entity/statement/Q2-711c9b27-412e-2b1b-6e5b-6a51f2c17bfb> <http://wikiba.se/ontology#rank> <http://wikiba.se/ontology#NormalRank> .\n",
      "15285\n",
      "<http://www.wikidata.org/entity/statement/Q2-711c9b27-412e-2b1b-6e5b-6a51f2c17bfb> <http://www.wikidata.org/prop/qualifier/P407> <http://www.wikidata.org/entity/Q13955> .\n",
      "<http://www.wikidata.org/entity/statement/Q2-711c9b27-412e-2b1b-6e5b-6a51f2c17bfb> <http://www.w3.org/1999/02/22-rdf-syntax-ns#type> <http://wikiba.se/ontology#BestRank> .\n",
      "15286\n",
      "<http://www.wikidata.org/entity/statement/Q2-711c9b27-412e-2b1b-6e5b-6a51f2c17bfb> <http://www.wikidata.org/prop/statement/P443> <http://commons.wikimedia.org/wiki/Special:FilePath/Ar-%D8%A7%D9%84%D8%A3%D8%B1%D8%B6.ogg> .\n",
      "<http://www.wikidata.org/entity/statement/Q2-711c9b27-412e-2b1b-6e5b-6a51f2c17bfb> <http://www.wikidata.org/prop/qualifier/P407> <http://www.wikidata.org/entity/Q13955> .\n",
      "15287\n",
      "<http://www.wikidata.org/entity/statement/Q2-7249a23b-4d90-0a1d-d7c7-699cc68cfaca> <http://wikiba.se/ontology#rank> <http://wikiba.se/ontology#NormalRank> .\n",
      "<http://www.wikidata.org/entity/statement/Q2-711c9b27-412e-2b1b-6e5b-6a51f2c17bfb> <http://www.wikidata.org/prop/statement/P443> <http://commons.wikimedia.org/wiki/Special:FilePath/Ar-%D8%A7%D9%84%D8%A3%D8%B1%D8%B6.ogg> .\n",
      "15288\n",
      "<http://www.wikidata.org/entity/statement/Q2-7249a23b-4d90-0a1d-d7c7-699cc68cfaca> <http://www.w3.org/1999/02/22-rdf-syntax-ns#type> <http://wikiba.se/ontology#BestRank> .\n",
      "<http://www.wikidata.org/entity/statement/Q2-7249a23b-4d90-0a1d-d7c7-699cc68cfaca> <http://wikiba.se/ontology#rank> <http://wikiba.se/ontology#NormalRank> .\n",
      "15289\n",
      "<http://www.wikidata.org/entity/statement/Q2-7249a23b-4d90-0a1d-d7c7-699cc68cfaca> <http://www.wikidata.org/prop/statement/P691> \"ph117167\" .\n",
      "<http://www.wikidata.org/entity/statement/Q2-7249a23b-4d90-0a1d-d7c7-699cc68cfaca> <http://www.w3.org/1999/02/22-rdf-syntax-ns#type> <http://wikiba.se/ontology#BestRank> .\n",
      "15290\n",
      "<http://www.wikidata.org/entity/statement/Q2-73650BD0-76FD-4E47-8818-E9838F149887> <http://wikiba.se/ontology#rank> <http://wikiba.se/ontology#NormalRank> .\n",
      "<http://www.wikidata.org/entity/statement/Q2-7249a23b-4d90-0a1d-d7c7-699cc68cfaca> <http://www.wikidata.org/prop/statement/P691> \"ph117167\" .\n",
      "15291\n",
      "<http://www.wikidata.org/entity/statement/Q2-73650BD0-76FD-4E47-8818-E9838F149887> <http://www.w3.org/1999/02/22-rdf-syntax-ns#type> <http://wikiba.se/ontology#BestRank> .\n",
      "<http://www.wikidata.org/entity/statement/Q2-73650BD0-76FD-4E47-8818-E9838F149887> <http://wikiba.se/ontology#rank> <http://wikiba.se/ontology#NormalRank> .\n",
      "15292\n",
      "<http://www.wikidata.org/entity/statement/Q2-73650BD0-76FD-4E47-8818-E9838F149887> <http://www.wikidata.org/prop/statement/P4427> \"24817\" .\n",
      "<http://www.wikidata.org/entity/statement/Q2-73650BD0-76FD-4E47-8818-E9838F149887> <http://www.w3.org/1999/02/22-rdf-syntax-ns#type> <http://wikiba.se/ontology#BestRank> .\n",
      "15293\n",
      "<http://www.wikidata.org/entity/statement/Q2-74db9720-4e8e-ecd6-1eb1-e7cfe7d11187> <http://wikiba.se/ontology#hasViolationForConstraint> <http://www.wikidata.org/entity/statement/P1082-E8CBFFC0-0655-46D1-B292-FECE461E8253> .\n",
      "<http://www.wikidata.org/entity/statement/Q2-73650BD0-76FD-4E47-8818-E9838F149887> <http://www.wikidata.org/prop/statement/P4427> \"24817\" .\n",
      "15294\n",
      "<http://www.wikidata.org/entity/statement/Q2-74db9720-4e8e-ecd6-1eb1-e7cfe7d11187> <http://wikiba.se/ontology#rank> <http://wikiba.se/ontology#NormalRank> .\n",
      "<http://www.wikidata.org/entity/statement/Q2-74db9720-4e8e-ecd6-1eb1-e7cfe7d11187> <http://wikiba.se/ontology#hasViolationForConstraint> <http://www.wikidata.org/entity/statement/P1082-E8CBFFC0-0655-46D1-B292-FECE461E8253> .\n",
      "15295\n",
      "<http://www.wikidata.org/entity/statement/Q2-74db9720-4e8e-ecd6-1eb1-e7cfe7d11187> <http://www.w3.org/ns/prov#wasDerivedFrom> <http://www.wikidata.org/reference/b18a9540da6043e769c92521aea06140db349486> .\n",
      "<http://www.wikidata.org/entity/statement/Q2-74db9720-4e8e-ecd6-1eb1-e7cfe7d11187> <http://wikiba.se/ontology#rank> <http://wikiba.se/ontology#NormalRank> .\n",
      "15296\n",
      "<http://www.wikidata.org/entity/statement/Q2-74db9720-4e8e-ecd6-1eb1-e7cfe7d11187> <http://www.wikidata.org/prop/qualifier/P585> \"0001-01-01T00:00:00+00:00\"^^<http://www.w3.org/2001/XMLSchema#dateTime> .\n",
      "<http://www.wikidata.org/entity/statement/Q2-74db9720-4e8e-ecd6-1eb1-e7cfe7d11187> <http://www.w3.org/ns/prov#wasDerivedFrom> <http://www.wikidata.org/reference/b18a9540da6043e769c92521aea06140db349486> .\n",
      "15297\n",
      "<http://www.wikidata.org/entity/statement/Q2-74db9720-4e8e-ecd6-1eb1-e7cfe7d11187> <http://www.wikidata.org/prop/qualifier/value/P585> <http://www.wikidata.org/value/a8a129433d2ca577278dd823bc198c17> .\n",
      "<http://www.wikidata.org/entity/statement/Q2-74db9720-4e8e-ecd6-1eb1-e7cfe7d11187> <http://www.wikidata.org/prop/qualifier/P585> \"0001-01-01T00:00:00+00:00\"^^<http://www.w3.org/2001/XMLSchema#dateTime> .\n",
      "15298\n",
      "<http://www.wikidata.org/entity/statement/Q2-74db9720-4e8e-ecd6-1eb1-e7cfe7d11187> <http://www.wikidata.org/prop/statement/P1082> \"285000000.0\"^^<http://www.w3.org/2001/XMLSchema#decimal> .\n",
      "<http://www.wikidata.org/entity/statement/Q2-74db9720-4e8e-ecd6-1eb1-e7cfe7d11187> <http://www.wikidata.org/prop/qualifier/value/P585> <http://www.wikidata.org/value/a8a129433d2ca577278dd823bc198c17> .\n",
      "15299\n",
      "<http://www.wikidata.org/entity/statement/Q2-74db9720-4e8e-ecd6-1eb1-e7cfe7d11187> <http://www.wikidata.org/prop/statement/value/P1082> <http://www.wikidata.org/value/5fc0769d284fa8ff362a03c6bf427dc9> .\n",
      "<http://www.wikidata.org/entity/statement/Q2-74db9720-4e8e-ecd6-1eb1-e7cfe7d11187> <http://www.wikidata.org/prop/statement/P1082> \"285000000.0\"^^<http://www.w3.org/2001/XMLSchema#decimal> .\n",
      "15300\n",
      "<http://www.wikidata.org/entity/statement/Q2-7516f6df-4408-5559-a821-84bace07bee6> <http://wikiba.se/ontology#hasViolationForConstraint> <http://www.wikidata.org/entity/statement/P1082-E8CBFFC0-0655-46D1-B292-FECE461E8253> .\n",
      "<http://www.wikidata.org/entity/statement/Q2-74db9720-4e8e-ecd6-1eb1-e7cfe7d11187> <http://www.wikidata.org/prop/statement/value/P1082> <http://www.wikidata.org/value/5fc0769d284fa8ff362a03c6bf427dc9> .\n",
      "15301\n",
      "<http://www.wikidata.org/entity/statement/Q2-7516f6df-4408-5559-a821-84bace07bee6> <http://wikiba.se/ontology#rank> <http://wikiba.se/ontology#NormalRank> .\n",
      "<http://www.wikidata.org/entity/statement/Q2-7516f6df-4408-5559-a821-84bace07bee6> <http://wikiba.se/ontology#hasViolationForConstraint> <http://www.wikidata.org/entity/statement/P1082-E8CBFFC0-0655-46D1-B292-FECE461E8253> .\n",
      "15302\n",
      "<http://www.wikidata.org/entity/statement/Q2-7516f6df-4408-5559-a821-84bace07bee6> <http://www.wikidata.org/prop/qualifier/P585> \"1810-01-01T00:00:00+00:00\"^^<http://www.w3.org/2001/XMLSchema#dateTime> .\n",
      "<http://www.wikidata.org/entity/statement/Q2-7516f6df-4408-5559-a821-84bace07bee6> <http://wikiba.se/ontology#rank> <http://wikiba.se/ontology#NormalRank> .\n",
      "15303\n",
      "<http://www.wikidata.org/entity/statement/Q2-7516f6df-4408-5559-a821-84bace07bee6> <http://www.wikidata.org/prop/qualifier/value/P585> <http://www.wikidata.org/value/ca7308e6dde5f906964a19700031c64d> .\n",
      "<http://www.wikidata.org/entity/statement/Q2-7516f6df-4408-5559-a821-84bace07bee6> <http://www.wikidata.org/prop/qualifier/P585> \"1810-01-01T00:00:00+00:00\"^^<http://www.w3.org/2001/XMLSchema#dateTime> .\n",
      "15304\n",
      "<http://www.wikidata.org/entity/statement/Q2-7516f6df-4408-5559-a821-84bace07bee6> <http://www.wikidata.org/prop/statement/P1082> \"1000000000.0\"^^<http://www.w3.org/2001/XMLSchema#decimal> .\n",
      "<http://www.wikidata.org/entity/statement/Q2-7516f6df-4408-5559-a821-84bace07bee6> <http://www.wikidata.org/prop/qualifier/value/P585> <http://www.wikidata.org/value/ca7308e6dde5f906964a19700031c64d> .\n",
      "15305\n",
      "<http://www.wikidata.org/entity/statement/Q2-7516f6df-4408-5559-a821-84bace07bee6> <http://www.wikidata.org/prop/statement/value/P1082> <http://www.wikidata.org/value/bac5f6118f8f1deb542963ef010d70a5> .\n",
      "<http://www.wikidata.org/entity/statement/Q2-7516f6df-4408-5559-a821-84bace07bee6> <http://www.wikidata.org/prop/statement/P1082> \"1000000000.0\"^^<http://www.w3.org/2001/XMLSchema#decimal> .\n",
      "15306\n",
      "<http://www.wikidata.org/entity/statement/Q2-766c11d4-45d2-5b59-aa26-a8e23a9fea9f> <http://wikiba.se/ontology#rank> <http://wikiba.se/ontology#NormalRank> .\n",
      "<http://www.wikidata.org/entity/statement/Q2-7516f6df-4408-5559-a821-84bace07bee6> <http://www.wikidata.org/prop/statement/value/P1082> <http://www.wikidata.org/value/bac5f6118f8f1deb542963ef010d70a5> .\n",
      "15307\n",
      "<http://www.wikidata.org/entity/statement/Q2-766c11d4-45d2-5b59-aa26-a8e23a9fea9f> <http://www.w3.org/1999/02/22-rdf-syntax-ns#type> <http://wikiba.se/ontology#BestRank> .\n",
      "<http://www.wikidata.org/entity/statement/Q2-766c11d4-45d2-5b59-aa26-a8e23a9fea9f> <http://wikiba.se/ontology#rank> <http://wikiba.se/ontology#NormalRank> .\n",
      "15308\n",
      "<http://www.wikidata.org/entity/statement/Q2-766c11d4-45d2-5b59-aa26-a8e23a9fea9f> <http://www.wikidata.org/prop/statement/P527> <http://www.wikidata.org/entity/Q1349417> .\n",
      "<http://www.wikidata.org/entity/statement/Q2-766c11d4-45d2-5b59-aa26-a8e23a9fea9f> <http://www.w3.org/1999/02/22-rdf-syntax-ns#type> <http://wikiba.se/ontology#BestRank> .\n",
      "15309\n",
      "<http://www.wikidata.org/entity/statement/Q2-7678779f-46d3-0ed6-3d00-db8f2257107e> <http://wikiba.se/ontology#rank> <http://wikiba.se/ontology#NormalRank> .\n",
      "<http://www.wikidata.org/entity/statement/Q2-766c11d4-45d2-5b59-aa26-a8e23a9fea9f> <http://www.wikidata.org/prop/statement/P527> <http://www.wikidata.org/entity/Q1349417> .\n",
      "15310\n",
      "<http://www.wikidata.org/entity/statement/Q2-7678779f-46d3-0ed6-3d00-db8f2257107e> <http://www.w3.org/1999/02/22-rdf-syntax-ns#type> <http://wikiba.se/ontology#BestRank> .\n",
      "<http://www.wikidata.org/entity/statement/Q2-7678779f-46d3-0ed6-3d00-db8f2257107e> <http://wikiba.se/ontology#rank> <http://wikiba.se/ontology#NormalRank> .\n",
      "15311\n",
      "<http://www.wikidata.org/entity/statement/Q2-7678779f-46d3-0ed6-3d00-db8f2257107e> <http://www.wikidata.org/prop/statement/P460> <http://www.wikidata.org/entity/Q16502> .\n",
      "<http://www.wikidata.org/entity/statement/Q2-7678779f-46d3-0ed6-3d00-db8f2257107e> <http://www.w3.org/1999/02/22-rdf-syntax-ns#type> <http://wikiba.se/ontology#BestRank> .\n",
      "15312\n",
      "<http://www.wikidata.org/entity/statement/Q2-76B9644B-61D8-4585-8000-99347CB9CFB2> <http://wikiba.se/ontology#rank> <http://wikiba.se/ontology#NormalRank> .\n",
      "<http://www.wikidata.org/entity/statement/Q2-7678779f-46d3-0ed6-3d00-db8f2257107e> <http://www.wikidata.org/prop/statement/P460> <http://www.wikidata.org/entity/Q16502> .\n",
      "15313\n",
      "<http://www.wikidata.org/entity/statement/Q2-76B9644B-61D8-4585-8000-99347CB9CFB2> <http://www.w3.org/1999/02/22-rdf-syntax-ns#type> <http://wikiba.se/ontology#BestRank> .\n",
      "<http://www.wikidata.org/entity/statement/Q2-76B9644B-61D8-4585-8000-99347CB9CFB2> <http://wikiba.se/ontology#rank> <http://wikiba.se/ontology#NormalRank> .\n",
      "15314\n",
      "<http://www.wikidata.org/entity/statement/Q2-76B9644B-61D8-4585-8000-99347CB9CFB2> <http://www.w3.org/ns/prov#wasDerivedFrom> <http://www.wikidata.org/reference/8bc722e6797143f2ba971ee5fedaeb0a331268e6> .\n",
      "<http://www.wikidata.org/entity/statement/Q2-76B9644B-61D8-4585-8000-99347CB9CFB2> <http://www.w3.org/1999/02/22-rdf-syntax-ns#type> <http://wikiba.se/ontology#BestRank> .\n",
      "15315\n",
      "<http://www.wikidata.org/entity/statement/Q2-76B9644B-61D8-4585-8000-99347CB9CFB2> <http://www.wikidata.org/prop/statement/P2959> <http://www.wikidata.org/entity/Q22828183> .\n",
      "<http://www.wikidata.org/entity/statement/Q2-76B9644B-61D8-4585-8000-99347CB9CFB2> <http://www.w3.org/ns/prov#wasDerivedFrom> <http://www.wikidata.org/reference/8bc722e6797143f2ba971ee5fedaeb0a331268e6> .\n",
      "15316\n",
      "<http://www.wikidata.org/entity/statement/Q2-76d05b53-4b04-70d9-a0a3-5a835dd8073b> <http://wikiba.se/ontology#rank> <http://wikiba.se/ontology#NormalRank> .\n",
      "<http://www.wikidata.org/entity/statement/Q2-76B9644B-61D8-4585-8000-99347CB9CFB2> <http://www.wikidata.org/prop/statement/P2959> <http://www.wikidata.org/entity/Q22828183> .\n",
      "15317\n",
      "<http://www.wikidata.org/entity/statement/Q2-76d05b53-4b04-70d9-a0a3-5a835dd8073b> <http://www.w3.org/1999/02/22-rdf-syntax-ns#type> <http://wikiba.se/ontology#BestRank> .\n",
      "<http://www.wikidata.org/entity/statement/Q2-76d05b53-4b04-70d9-a0a3-5a835dd8073b> <http://wikiba.se/ontology#rank> <http://wikiba.se/ontology#NormalRank> .\n",
      "15318\n",
      "<http://www.wikidata.org/entity/statement/Q2-76d05b53-4b04-70d9-a0a3-5a835dd8073b> <http://www.wikidata.org/prop/statement/P1549> \"Terrestre\"@it .\n",
      "<http://www.wikidata.org/entity/statement/Q2-76d05b53-4b04-70d9-a0a3-5a835dd8073b> <http://www.w3.org/1999/02/22-rdf-syntax-ns#type> <http://wikiba.se/ontology#BestRank> .\n",
      "15319\n",
      "<http://www.wikidata.org/entity/statement/Q2-77577842-4f1f-0ecb-80d6-d45eb7e5e8f1> <http://wikiba.se/ontology#hasViolationForConstraint> <http://www.wikidata.org/entity/statement/P1082-E8CBFFC0-0655-46D1-B292-FECE461E8253> .\n",
      "<http://www.wikidata.org/entity/statement/Q2-76d05b53-4b04-70d9-a0a3-5a835dd8073b> <http://www.wikidata.org/prop/statement/P1549> \"Terrestre\"@it .\n",
      "15320\n",
      "<http://www.wikidata.org/entity/statement/Q2-77577842-4f1f-0ecb-80d6-d45eb7e5e8f1> <http://wikiba.se/ontology#rank> <http://wikiba.se/ontology#NormalRank> .\n",
      "<http://www.wikidata.org/entity/statement/Q2-77577842-4f1f-0ecb-80d6-d45eb7e5e8f1> <http://wikiba.se/ontology#hasViolationForConstraint> <http://www.wikidata.org/entity/statement/P1082-E8CBFFC0-0655-46D1-B292-FECE461E8253> .\n",
      "15321\n",
      "<http://www.wikidata.org/entity/statement/Q2-77577842-4f1f-0ecb-80d6-d45eb7e5e8f1> <http://www.wikidata.org/prop/qualifier/P585> \"1970-01-01T00:00:00+00:00\"^^<http://www.w3.org/2001/XMLSchema#dateTime> .\n",
      "<http://www.wikidata.org/entity/statement/Q2-77577842-4f1f-0ecb-80d6-d45eb7e5e8f1> <http://wikiba.se/ontology#rank> <http://wikiba.se/ontology#NormalRank> .\n",
      "15322\n",
      "<http://www.wikidata.org/entity/statement/Q2-77577842-4f1f-0ecb-80d6-d45eb7e5e8f1> <http://www.wikidata.org/prop/qualifier/value/P585> <http://www.wikidata.org/value/83c52cb30077d8a1d6291a0fda65690f> .\n",
      "<http://www.wikidata.org/entity/statement/Q2-77577842-4f1f-0ecb-80d6-d45eb7e5e8f1> <http://www.wikidata.org/prop/qualifier/P585> \"1970-01-01T00:00:00+00:00\"^^<http://www.w3.org/2001/XMLSchema#dateTime> .\n",
      "15323\n",
      "<http://www.wikidata.org/entity/statement/Q2-77577842-4f1f-0ecb-80d6-d45eb7e5e8f1> <http://www.wikidata.org/prop/statement/P1082> \"3692492000.0\"^^<http://www.w3.org/2001/XMLSchema#decimal> .\n",
      "<http://www.wikidata.org/entity/statement/Q2-77577842-4f1f-0ecb-80d6-d45eb7e5e8f1> <http://www.wikidata.org/prop/qualifier/value/P585> <http://www.wikidata.org/value/83c52cb30077d8a1d6291a0fda65690f> .\n",
      "15324\n",
      "<http://www.wikidata.org/entity/statement/Q2-77577842-4f1f-0ecb-80d6-d45eb7e5e8f1> <http://www.wikidata.org/prop/statement/value/P1082> <http://www.wikidata.org/value/025a999171be46295d3e3e02eefe636f> .\n",
      "<http://www.wikidata.org/entity/statement/Q2-77577842-4f1f-0ecb-80d6-d45eb7e5e8f1> <http://www.wikidata.org/prop/statement/P1082> \"3692492000.0\"^^<http://www.w3.org/2001/XMLSchema#decimal> .\n",
      "15325\n",
      "<http://www.wikidata.org/entity/statement/Q2-77ae03b0-4438-a717-adf5-6b2e7d5b2dc5> <http://wikiba.se/ontology#rank> <http://wikiba.se/ontology#NormalRank> .\n",
      "<http://www.wikidata.org/entity/statement/Q2-77577842-4f1f-0ecb-80d6-d45eb7e5e8f1> <http://www.wikidata.org/prop/statement/value/P1082> <http://www.wikidata.org/value/025a999171be46295d3e3e02eefe636f> .\n",
      "15326\n",
      "<http://www.wikidata.org/entity/statement/Q2-77ae03b0-4438-a717-adf5-6b2e7d5b2dc5> <http://www.w3.org/1999/02/22-rdf-syntax-ns#type> <http://wikiba.se/ontology#BestRank> .\n",
      "<http://www.wikidata.org/entity/statement/Q2-77ae03b0-4438-a717-adf5-6b2e7d5b2dc5> <http://wikiba.se/ontology#rank> <http://wikiba.se/ontology#NormalRank> .\n",
      "15327\n",
      "<http://www.wikidata.org/entity/statement/Q2-77ae03b0-4438-a717-adf5-6b2e7d5b2dc5> <http://www.wikidata.org/prop/statement/P398> <http://www.wikidata.org/entity/Q25426699> .\n",
      "<http://www.wikidata.org/entity/statement/Q2-77ae03b0-4438-a717-adf5-6b2e7d5b2dc5> <http://www.w3.org/1999/02/22-rdf-syntax-ns#type> <http://wikiba.se/ontology#BestRank> .\n",
      "15328\n",
      "<http://www.wikidata.org/entity/statement/Q2-78e244f1-4a4c-351c-78b7-338e26cfbd1e> <http://wikiba.se/ontology#hasViolationForConstraint> <http://www.wikidata.org/entity/statement/P3847-202C5583-59D6-4DC3-AC24-34210B469F67> .\n",
      "<http://www.wikidata.org/entity/statement/Q2-77ae03b0-4438-a717-adf5-6b2e7d5b2dc5> <http://www.wikidata.org/prop/statement/P398> <http://www.wikidata.org/entity/Q25426699> .\n",
      "15329\n",
      "<http://www.wikidata.org/entity/statement/Q2-78e244f1-4a4c-351c-78b7-338e26cfbd1e> <http://wikiba.se/ontology#rank> <http://wikiba.se/ontology#NormalRank> .\n",
      "<http://www.wikidata.org/entity/statement/Q2-78e244f1-4a4c-351c-78b7-338e26cfbd1e> <http://wikiba.se/ontology#hasViolationForConstraint> <http://www.wikidata.org/entity/statement/P3847-202C5583-59D6-4DC3-AC24-34210B469F67> .\n",
      "15330\n",
      "<http://www.wikidata.org/entity/statement/Q2-78e244f1-4a4c-351c-78b7-338e26cfbd1e> <http://www.w3.org/1999/02/22-rdf-syntax-ns#type> <http://wikiba.se/ontology#BestRank> .\n",
      "<http://www.wikidata.org/entity/statement/Q2-78e244f1-4a4c-351c-78b7-338e26cfbd1e> <http://wikiba.se/ontology#rank> <http://wikiba.se/ontology#NormalRank> .\n",
      "15331\n",
      "<http://www.wikidata.org/entity/statement/Q2-78e244f1-4a4c-351c-78b7-338e26cfbd1e> <http://www.wikidata.org/prop/statement/P3847> \"earth\" .\n",
      "<http://www.wikidata.org/entity/statement/Q2-78e244f1-4a4c-351c-78b7-338e26cfbd1e> <http://www.w3.org/1999/02/22-rdf-syntax-ns#type> <http://wikiba.se/ontology#BestRank> .\n",
      "15332\n",
      "<http://www.wikidata.org/entity/statement/Q2-7BE579AD-F21C-4000-9AB7-191AF2F2B8D4> <http://wikiba.se/ontology#rank> <http://wikiba.se/ontology#NormalRank> .\n",
      "<http://www.wikidata.org/entity/statement/Q2-78e244f1-4a4c-351c-78b7-338e26cfbd1e> <http://www.wikidata.org/prop/statement/P3847> \"earth\" .\n",
      "15333\n",
      "<http://www.wikidata.org/entity/statement/Q2-7BE579AD-F21C-4000-9AB7-191AF2F2B8D4> <http://www.w3.org/1999/02/22-rdf-syntax-ns#type> <http://wikiba.se/ontology#BestRank> .\n",
      "<http://www.wikidata.org/entity/statement/Q2-7BE579AD-F21C-4000-9AB7-191AF2F2B8D4> <http://wikiba.se/ontology#rank> <http://wikiba.se/ontology#NormalRank> .\n",
      "15334\n",
      "<http://www.wikidata.org/entity/statement/Q2-7BE579AD-F21C-4000-9AB7-191AF2F2B8D4> <http://www.w3.org/ns/prov#wasDerivedFrom> <http://www.wikidata.org/reference/51a723411de71ce6477a7fcbd6518f3d2f8aad24> .\n",
      "<http://www.wikidata.org/entity/statement/Q2-7BE579AD-F21C-4000-9AB7-191AF2F2B8D4> <http://www.w3.org/1999/02/22-rdf-syntax-ns#type> <http://wikiba.se/ontology#BestRank> .\n",
      "15335\n",
      "<http://www.wikidata.org/entity/statement/Q2-7BE579AD-F21C-4000-9AB7-191AF2F2B8D4> <http://www.wikidata.org/prop/statement/P398> <http://www.wikidata.org/entity/Q3270674> .\n",
      "<http://www.wikidata.org/entity/statement/Q2-7BE579AD-F21C-4000-9AB7-191AF2F2B8D4> <http://www.w3.org/ns/prov#wasDerivedFrom> <http://www.wikidata.org/reference/51a723411de71ce6477a7fcbd6518f3d2f8aad24> .\n",
      "15336\n",
      "<http://www.wikidata.org/entity/statement/Q2-7ab8ab7d-4a97-30e2-694f-b00ddc7bd7d8> <http://wikiba.se/ontology#rank> <http://wikiba.se/ontology#NormalRank> .\n",
      "<http://www.wikidata.org/entity/statement/Q2-7BE579AD-F21C-4000-9AB7-191AF2F2B8D4> <http://www.wikidata.org/prop/statement/P398> <http://www.wikidata.org/entity/Q3270674> .\n",
      "15337\n",
      "<http://www.wikidata.org/entity/statement/Q2-7ab8ab7d-4a97-30e2-694f-b00ddc7bd7d8> <http://www.w3.org/1999/02/22-rdf-syntax-ns#type> <http://wikiba.se/ontology#BestRank> .\n",
      "<http://www.wikidata.org/entity/statement/Q2-7ab8ab7d-4a97-30e2-694f-b00ddc7bd7d8> <http://wikiba.se/ontology#rank> <http://wikiba.se/ontology#NormalRank> .\n",
      "15338\n",
      "<http://www.wikidata.org/entity/statement/Q2-7ab8ab7d-4a97-30e2-694f-b00ddc7bd7d8> <http://www.wikidata.org/prop/statement/P1549> \"Terano\"@eo .\n",
      "<http://www.wikidata.org/entity/statement/Q2-7ab8ab7d-4a97-30e2-694f-b00ddc7bd7d8> <http://www.w3.org/1999/02/22-rdf-syntax-ns#type> <http://wikiba.se/ontology#BestRank> .\n",
      "15339\n",
      "<http://www.wikidata.org/entity/statement/Q2-7b2a6c0f-46c1-7c58-55be-060daa9be93e> <http://wikiba.se/ontology#hasViolationForConstraint> <http://www.wikidata.org/entity/statement/P1082-E8CBFFC0-0655-46D1-B292-FECE461E8253> .\n",
      "<http://www.wikidata.org/entity/statement/Q2-7ab8ab7d-4a97-30e2-694f-b00ddc7bd7d8> <http://www.wikidata.org/prop/statement/P1549> \"Terano\"@eo .\n",
      "15340\n",
      "<http://www.wikidata.org/entity/statement/Q2-7b2a6c0f-46c1-7c58-55be-060daa9be93e> <http://wikiba.se/ontology#rank> <http://wikiba.se/ontology#NormalRank> .\n",
      "<http://www.wikidata.org/entity/statement/Q2-7b2a6c0f-46c1-7c58-55be-060daa9be93e> <http://wikiba.se/ontology#hasViolationForConstraint> <http://www.wikidata.org/entity/statement/P1082-E8CBFFC0-0655-46D1-B292-FECE461E8253> .\n",
      "15341\n",
      "<http://www.wikidata.org/entity/statement/Q2-7b2a6c0f-46c1-7c58-55be-060daa9be93e> <http://www.wikidata.org/prop/qualifier/P585> \"1975-01-01T00:00:00+00:00\"^^<http://www.w3.org/2001/XMLSchema#dateTime> .\n",
      "<http://www.wikidata.org/entity/statement/Q2-7b2a6c0f-46c1-7c58-55be-060daa9be93e> <http://wikiba.se/ontology#rank> <http://wikiba.se/ontology#NormalRank> .\n",
      "15342\n",
      "<http://www.wikidata.org/entity/statement/Q2-7b2a6c0f-46c1-7c58-55be-060daa9be93e> <http://www.wikidata.org/prop/qualifier/value/P585> <http://www.wikidata.org/value/77eebe770e61b3eb3ce1fd5ad04bf75f> .\n",
      "<http://www.wikidata.org/entity/statement/Q2-7b2a6c0f-46c1-7c58-55be-060daa9be93e> <http://www.wikidata.org/prop/qualifier/P585> \"1975-01-01T00:00:00+00:00\"^^<http://www.w3.org/2001/XMLSchema#dateTime> .\n",
      "15343\n",
      "<http://www.wikidata.org/entity/statement/Q2-7b2a6c0f-46c1-7c58-55be-060daa9be93e> <http://www.wikidata.org/prop/statement/P1082> \"4068109000.0\"^^<http://www.w3.org/2001/XMLSchema#decimal> .\n",
      "<http://www.wikidata.org/entity/statement/Q2-7b2a6c0f-46c1-7c58-55be-060daa9be93e> <http://www.wikidata.org/prop/qualifier/value/P585> <http://www.wikidata.org/value/77eebe770e61b3eb3ce1fd5ad04bf75f> .\n",
      "15344\n",
      "<http://www.wikidata.org/entity/statement/Q2-7b2a6c0f-46c1-7c58-55be-060daa9be93e> <http://www.wikidata.org/prop/statement/value/P1082> <http://www.wikidata.org/value/0417a1b9887d02f022f9b2511c10ecca> .\n",
      "<http://www.wikidata.org/entity/statement/Q2-7b2a6c0f-46c1-7c58-55be-060daa9be93e> <http://www.wikidata.org/prop/statement/P1082> \"4068109000.0\"^^<http://www.w3.org/2001/XMLSchema#decimal> .\n",
      "15345\n",
      "<http://www.wikidata.org/entity/statement/Q2-7c05b6ca-4536-36c8-9847-199d4c310bdc> <http://wikiba.se/ontology#hasViolationForConstraint> <http://www.wikidata.org/entity/statement/P1082-E8CBFFC0-0655-46D1-B292-FECE461E8253> .\n",
      "<http://www.wikidata.org/entity/statement/Q2-7b2a6c0f-46c1-7c58-55be-060daa9be93e> <http://www.wikidata.org/prop/statement/value/P1082> <http://www.wikidata.org/value/0417a1b9887d02f022f9b2511c10ecca> .\n",
      "15346\n",
      "<http://www.wikidata.org/entity/statement/Q2-7c05b6ca-4536-36c8-9847-199d4c310bdc> <http://wikiba.se/ontology#rank> <http://wikiba.se/ontology#NormalRank> .\n",
      "<http://www.wikidata.org/entity/statement/Q2-7c05b6ca-4536-36c8-9847-199d4c310bdc> <http://wikiba.se/ontology#hasViolationForConstraint> <http://www.wikidata.org/entity/statement/P1082-E8CBFFC0-0655-46D1-B292-FECE461E8253> .\n",
      "15347\n",
      "<http://www.wikidata.org/entity/statement/Q2-7c05b6ca-4536-36c8-9847-199d4c310bdc> <http://www.w3.org/ns/prov#wasDerivedFrom> <http://www.wikidata.org/reference/b18a9540da6043e769c92521aea06140db349486> .\n",
      "<http://www.wikidata.org/entity/statement/Q2-7c05b6ca-4536-36c8-9847-199d4c310bdc> <http://wikiba.se/ontology#rank> <http://wikiba.se/ontology#NormalRank> .\n",
      "15348\n",
      "<http://www.wikidata.org/entity/statement/Q2-7c05b6ca-4536-36c8-9847-199d4c310bdc> <http://www.wikidata.org/prop/qualifier/P585> \"-1000-01-01T00:00:00Z\"^^<http://www.w3.org/2001/XMLSchema#dateTime> .\n",
      "<http://www.wikidata.org/entity/statement/Q2-7c05b6ca-4536-36c8-9847-199d4c310bdc> <http://www.w3.org/ns/prov#wasDerivedFrom> <http://www.wikidata.org/reference/b18a9540da6043e769c92521aea06140db349486> .\n",
      "15349\n",
      "<http://www.wikidata.org/entity/statement/Q2-7c05b6ca-4536-36c8-9847-199d4c310bdc> <http://www.wikidata.org/prop/qualifier/value/P585> <http://www.wikidata.org/value/22a1f07bde98bcc03a31eef83fa07e71> .\n",
      "<http://www.wikidata.org/entity/statement/Q2-7c05b6ca-4536-36c8-9847-199d4c310bdc> <http://www.wikidata.org/prop/qualifier/P585> \"-1000-01-01T00:00:00Z\"^^<http://www.w3.org/2001/XMLSchema#dateTime> .\n",
      "15350\n",
      "<http://www.wikidata.org/entity/statement/Q2-7c05b6ca-4536-36c8-9847-199d4c310bdc> <http://www.wikidata.org/prop/statement/P1082> \"50000000.0\"^^<http://www.w3.org/2001/XMLSchema#decimal> .\n",
      "<http://www.wikidata.org/entity/statement/Q2-7c05b6ca-4536-36c8-9847-199d4c310bdc> <http://www.wikidata.org/prop/qualifier/value/P585> <http://www.wikidata.org/value/22a1f07bde98bcc03a31eef83fa07e71> .\n",
      "15351\n",
      "<http://www.wikidata.org/entity/statement/Q2-7c05b6ca-4536-36c8-9847-199d4c310bdc> <http://www.wikidata.org/prop/statement/value/P1082> <http://www.wikidata.org/value/e7f73abba19ce89da4889e4fdcbb6035> .\n",
      "<http://www.wikidata.org/entity/statement/Q2-7c05b6ca-4536-36c8-9847-199d4c310bdc> <http://www.wikidata.org/prop/statement/P1082> \"50000000.0\"^^<http://www.w3.org/2001/XMLSchema#decimal> .\n",
      "15352\n",
      "<http://www.wikidata.org/entity/statement/Q2-7ecde8fd-411e-5bb4-abeb-265207f0553e> <http://wikiba.se/ontology#rank> <http://wikiba.se/ontology#NormalRank> .\n",
      "<http://www.wikidata.org/entity/statement/Q2-7c05b6ca-4536-36c8-9847-199d4c310bdc> <http://www.wikidata.org/prop/statement/value/P1082> <http://www.wikidata.org/value/e7f73abba19ce89da4889e4fdcbb6035> .\n",
      "15353\n",
      "<http://www.wikidata.org/entity/statement/Q2-7ecde8fd-411e-5bb4-abeb-265207f0553e> <http://www.w3.org/1999/02/22-rdf-syntax-ns#type> <http://wikiba.se/ontology#BestRank> .\n",
      "<http://www.wikidata.org/entity/statement/Q2-7ecde8fd-411e-5bb4-abeb-265207f0553e> <http://wikiba.se/ontology#rank> <http://wikiba.se/ontology#NormalRank> .\n",
      "15354\n",
      "<http://www.wikidata.org/entity/statement/Q2-7ecde8fd-411e-5bb4-abeb-265207f0553e> <http://www.wikidata.org/prop/statement/P527> <http://www.wikidata.org/entity/Q83169> .\n",
      "<http://www.wikidata.org/entity/statement/Q2-7ecde8fd-411e-5bb4-abeb-265207f0553e> <http://www.w3.org/1999/02/22-rdf-syntax-ns#type> <http://wikiba.se/ontology#BestRank> .\n",
      "15355\n",
      "<http://www.wikidata.org/entity/statement/Q2-808EA9FE-2644-4033-B900-91F6465F7F6F> <http://wikiba.se/ontology#rank> <http://wikiba.se/ontology#NormalRank> .\n",
      "<http://www.wikidata.org/entity/statement/Q2-7ecde8fd-411e-5bb4-abeb-265207f0553e> <http://www.wikidata.org/prop/statement/P527> <http://www.wikidata.org/entity/Q83169> .\n",
      "15356\n",
      "<http://www.wikidata.org/entity/statement/Q2-808EA9FE-2644-4033-B900-91F6465F7F6F> <http://www.w3.org/1999/02/22-rdf-syntax-ns#type> <http://wikiba.se/ontology#BestRank> .\n",
      "<http://www.wikidata.org/entity/statement/Q2-808EA9FE-2644-4033-B900-91F6465F7F6F> <http://wikiba.se/ontology#rank> <http://wikiba.se/ontology#NormalRank> .\n",
      "15357\n",
      "<http://www.wikidata.org/entity/statement/Q2-808EA9FE-2644-4033-B900-91F6465F7F6F> <http://www.w3.org/ns/prov#wasDerivedFrom> <http://www.wikidata.org/reference/5b888131d331e8521e8d74d66cd5285efd92cd07> .\n",
      "<http://www.wikidata.org/entity/statement/Q2-808EA9FE-2644-4033-B900-91F6465F7F6F> <http://www.w3.org/1999/02/22-rdf-syntax-ns#type> <http://wikiba.se/ontology#BestRank> .\n",
      "15358\n",
      "<http://www.wikidata.org/entity/statement/Q2-808EA9FE-2644-4033-B900-91F6465F7F6F> <http://www.wikidata.org/prop/qualifier/P459> <http://www.wikidata.org/entity/Q47005776> .\n",
      "<http://www.wikidata.org/entity/statement/Q2-808EA9FE-2644-4033-B900-91F6465F7F6F> <http://www.w3.org/ns/prov#wasDerivedFrom> <http://www.wikidata.org/reference/5b888131d331e8521e8d74d66cd5285efd92cd07> .\n",
      "15359\n",
      "<http://www.wikidata.org/entity/statement/Q2-808EA9FE-2644-4033-B900-91F6465F7F6F> <http://www.wikidata.org/prop/qualifier/P585> \"2001-01-01T00:00:00+00:00\"^^<http://www.w3.org/2001/XMLSchema#dateTime> .\n",
      "<http://www.wikidata.org/entity/statement/Q2-808EA9FE-2644-4033-B900-91F6465F7F6F> <http://www.wikidata.org/prop/qualifier/P459> <http://www.wikidata.org/entity/Q47005776> .\n",
      "15360\n",
      "<http://www.wikidata.org/entity/statement/Q2-808EA9FE-2644-4033-B900-91F6465F7F6F> <http://www.wikidata.org/prop/qualifier/value/P585> <http://www.wikidata.org/value/216f4f19c804fc50c737da9ae87494a9> .\n",
      "<http://www.wikidata.org/entity/statement/Q2-808EA9FE-2644-4033-B900-91F6465F7F6F> <http://www.wikidata.org/prop/qualifier/P585> \"2001-01-01T00:00:00+00:00\"^^<http://www.w3.org/2001/XMLSchema#dateTime> .\n",
      "15361\n",
      "<http://www.wikidata.org/entity/statement/Q2-808EA9FE-2644-4033-B900-91F6465F7F6F> <http://www.wikidata.org/prop/statement/P2573> \"371000000.0\"^^<http://www.w3.org/2001/XMLSchema#decimal> .\n",
      "<http://www.wikidata.org/entity/statement/Q2-808EA9FE-2644-4033-B900-91F6465F7F6F> <http://www.wikidata.org/prop/qualifier/value/P585> <http://www.wikidata.org/value/216f4f19c804fc50c737da9ae87494a9> .\n",
      "15362\n",
      "<http://www.wikidata.org/entity/statement/Q2-808EA9FE-2644-4033-B900-91F6465F7F6F> <http://www.wikidata.org/prop/statement/value/P2573> <http://www.wikidata.org/value/7f3f416d606c22f503352efa83d6fcda> .\n",
      "<http://www.wikidata.org/entity/statement/Q2-808EA9FE-2644-4033-B900-91F6465F7F6F> <http://www.wikidata.org/prop/statement/P2573> \"371000000.0\"^^<http://www.w3.org/2001/XMLSchema#decimal> .\n",
      "15363\n",
      "<http://www.wikidata.org/entity/statement/Q2-830fb3a5-462a-388b-06e4-b2d0f020a77f> <http://wikiba.se/ontology#rank> <http://wikiba.se/ontology#NormalRank> .\n",
      "<http://www.wikidata.org/entity/statement/Q2-808EA9FE-2644-4033-B900-91F6465F7F6F> <http://www.wikidata.org/prop/statement/value/P2573> <http://www.wikidata.org/value/7f3f416d606c22f503352efa83d6fcda> .\n",
      "15364\n",
      "<http://www.wikidata.org/entity/statement/Q2-830fb3a5-462a-388b-06e4-b2d0f020a77f> <http://www.w3.org/1999/02/22-rdf-syntax-ns#type> <http://wikiba.se/ontology#BestRank> .\n",
      "<http://www.wikidata.org/entity/statement/Q2-830fb3a5-462a-388b-06e4-b2d0f020a77f> <http://wikiba.se/ontology#rank> <http://wikiba.se/ontology#NormalRank> .\n",
      "15365\n",
      "<http://www.wikidata.org/entity/statement/Q2-830fb3a5-462a-388b-06e4-b2d0f020a77f> <http://www.wikidata.org/prop/statement/P1549> \"Terrien\"@fr .\n",
      "<http://www.wikidata.org/entity/statement/Q2-830fb3a5-462a-388b-06e4-b2d0f020a77f> <http://www.w3.org/1999/02/22-rdf-syntax-ns#type> <http://wikiba.se/ontology#BestRank> .\n",
      "15366\n",
      "<http://www.wikidata.org/entity/statement/Q2-8475DD7F-E269-4843-9D9E-F3CF7D5F8BB2> <http://wikiba.se/ontology#rank> <http://wikiba.se/ontology#NormalRank> .\n",
      "<http://www.wikidata.org/entity/statement/Q2-830fb3a5-462a-388b-06e4-b2d0f020a77f> <http://www.wikidata.org/prop/statement/P1549> \"Terrien\"@fr .\n",
      "15367\n",
      "<http://www.wikidata.org/entity/statement/Q2-8475DD7F-E269-4843-9D9E-F3CF7D5F8BB2> <http://www.w3.org/1999/02/22-rdf-syntax-ns#type> <http://wikiba.se/ontology#BestRank> .\n",
      "<http://www.wikidata.org/entity/statement/Q2-8475DD7F-E269-4843-9D9E-F3CF7D5F8BB2> <http://wikiba.se/ontology#rank> <http://wikiba.se/ontology#NormalRank> .\n",
      "15368\n",
      "<http://www.wikidata.org/entity/statement/Q2-8475DD7F-E269-4843-9D9E-F3CF7D5F8BB2> <http://www.wikidata.org/prop/statement/P1051> \"499\" .\n",
      "<http://www.wikidata.org/entity/statement/Q2-8475DD7F-E269-4843-9D9E-F3CF7D5F8BB2> <http://www.w3.org/1999/02/22-rdf-syntax-ns#type> <http://wikiba.se/ontology#BestRank> .\n",
      "15369\n",
      "<http://www.wikidata.org/entity/statement/Q2-84E72735-69A5-4F22-840A-C2D43E19E163> <http://wikiba.se/ontology#hasViolationForConstraint> <http://www.wikidata.org/entity/statement/P3222-588770FC-3BF7-449C-B20C-189D5AC86E1F> .\n",
      "<http://www.wikidata.org/entity/statement/Q2-8475DD7F-E269-4843-9D9E-F3CF7D5F8BB2> <http://www.wikidata.org/prop/statement/P1051> \"499\" .\n",
      "15370\n",
      "<http://www.wikidata.org/entity/statement/Q2-84E72735-69A5-4F22-840A-C2D43E19E163> <http://wikiba.se/ontology#rank> <http://wikiba.se/ontology#NormalRank> .\n",
      "<http://www.wikidata.org/entity/statement/Q2-84E72735-69A5-4F22-840A-C2D43E19E163> <http://wikiba.se/ontology#hasViolationForConstraint> <http://www.wikidata.org/entity/statement/P3222-588770FC-3BF7-449C-B20C-189D5AC86E1F> .\n",
      "15371\n",
      "<http://www.wikidata.org/entity/statement/Q2-84E72735-69A5-4F22-840A-C2D43E19E163> <http://www.w3.org/1999/02/22-rdf-syntax-ns#type> <http://wikiba.se/ontology#BestRank> .\n",
      "<http://www.wikidata.org/entity/statement/Q2-84E72735-69A5-4F22-840A-C2D43E19E163> <http://wikiba.se/ontology#rank> <http://wikiba.se/ontology#NormalRank> .\n",
      "15372\n",
      "<http://www.wikidata.org/entity/statement/Q2-84E72735-69A5-4F22-840A-C2D43E19E163> <http://www.wikidata.org/prop/statement/P3222> \"tellus\" .\n",
      "<http://www.wikidata.org/entity/statement/Q2-84E72735-69A5-4F22-840A-C2D43E19E163> <http://www.w3.org/1999/02/22-rdf-syntax-ns#type> <http://wikiba.se/ontology#BestRank> .\n",
      "15373\n",
      "<http://www.wikidata.org/entity/statement/Q2-84e95448-46e0-22f2-0f8d-84f91105b534> <http://wikiba.se/ontology#rank> <http://wikiba.se/ontology#NormalRank> .\n",
      "<http://www.wikidata.org/entity/statement/Q2-84E72735-69A5-4F22-840A-C2D43E19E163> <http://www.wikidata.org/prop/statement/P3222> \"tellus\" .\n",
      "15374\n",
      "<http://www.wikidata.org/entity/statement/Q2-84e95448-46e0-22f2-0f8d-84f91105b534> <http://www.w3.org/1999/02/22-rdf-syntax-ns#type> <http://wikiba.se/ontology#BestRank> .\n",
      "<http://www.wikidata.org/entity/statement/Q2-84e95448-46e0-22f2-0f8d-84f91105b534> <http://wikiba.se/ontology#rank> <http://wikiba.se/ontology#NormalRank> .\n",
      "15375\n",
      "<http://www.wikidata.org/entity/statement/Q2-84e95448-46e0-22f2-0f8d-84f91105b534> <http://www.wikidata.org/prop/statement/P2579> <http://www.wikidata.org/entity/Q8008> .\n",
      "<http://www.wikidata.org/entity/statement/Q2-84e95448-46e0-22f2-0f8d-84f91105b534> <http://www.w3.org/1999/02/22-rdf-syntax-ns#type> <http://wikiba.se/ontology#BestRank> .\n",
      "15376\n",
      "<http://www.wikidata.org/entity/statement/Q2-84fbc70d-43a2-f73d-fa36-8b3866e64121> <http://wikiba.se/ontology#hasViolationForConstraint> <http://www.wikidata.org/entity/statement/P1667-702DED4E-2A33-4255-974B-E91109B4BF99> .\n",
      "<http://www.wikidata.org/entity/statement/Q2-84e95448-46e0-22f2-0f8d-84f91105b534> <http://www.wikidata.org/prop/statement/P2579> <http://www.wikidata.org/entity/Q8008> .\n",
      "15377\n",
      "<http://www.wikidata.org/entity/statement/Q2-84fbc70d-43a2-f73d-fa36-8b3866e64121> <http://wikiba.se/ontology#rank> <http://wikiba.se/ontology#NormalRank> .\n",
      "<http://www.wikidata.org/entity/statement/Q2-84fbc70d-43a2-f73d-fa36-8b3866e64121> <http://wikiba.se/ontology#hasViolationForConstraint> <http://www.wikidata.org/entity/statement/P1667-702DED4E-2A33-4255-974B-E91109B4BF99> .\n",
      "15378\n",
      "<http://www.wikidata.org/entity/statement/Q2-84fbc70d-43a2-f73d-fa36-8b3866e64121> <http://www.w3.org/1999/02/22-rdf-syntax-ns#type> <http://wikiba.se/ontology#BestRank> .\n",
      "<http://www.wikidata.org/entity/statement/Q2-84fbc70d-43a2-f73d-fa36-8b3866e64121> <http://wikiba.se/ontology#rank> <http://wikiba.se/ontology#NormalRank> .\n",
      "15379\n",
      "<http://www.wikidata.org/entity/statement/Q2-84fbc70d-43a2-f73d-fa36-8b3866e64121> <http://www.wikidata.org/prop/statement/P1667> \"7030638\" .\n",
      "<http://www.wikidata.org/entity/statement/Q2-84fbc70d-43a2-f73d-fa36-8b3866e64121> <http://www.w3.org/1999/02/22-rdf-syntax-ns#type> <http://wikiba.se/ontology#BestRank> .\n",
      "15380\n",
      "<http://www.wikidata.org/entity/statement/Q2-84fbc70d-43a2-f73d-fa36-8b3866e64121> <http://www.wikidata.org/prop/statement/value-normalized/P1667> <http://vocab.getty.edu/tgn/7030638> .\n",
      "<http://www.wikidata.org/entity/statement/Q2-84fbc70d-43a2-f73d-fa36-8b3866e64121> <http://www.wikidata.org/prop/statement/P1667> \"7030638\" .\n",
      "15381\n",
      "<http://www.wikidata.org/entity/statement/Q2-8734b7f3-476a-da53-17a8-40585f765ec5> <http://wikiba.se/ontology#rank> <http://wikiba.se/ontology#NormalRank> .\n",
      "<http://www.wikidata.org/entity/statement/Q2-84fbc70d-43a2-f73d-fa36-8b3866e64121> <http://www.wikidata.org/prop/statement/value-normalized/P1667> <http://vocab.getty.edu/tgn/7030638> .\n",
      "15382\n",
      "<http://www.wikidata.org/entity/statement/Q2-8734b7f3-476a-da53-17a8-40585f765ec5> <http://www.w3.org/1999/02/22-rdf-syntax-ns#type> <http://wikiba.se/ontology#BestRank> .\n",
      "<http://www.wikidata.org/entity/statement/Q2-8734b7f3-476a-da53-17a8-40585f765ec5> <http://wikiba.se/ontology#rank> <http://wikiba.se/ontology#NormalRank> .\n",
      "15383\n",
      "<http://www.wikidata.org/entity/statement/Q2-8734b7f3-476a-da53-17a8-40585f765ec5> <http://www.wikidata.org/prop/statement/P2581> \"00029424n\" .\n",
      "<http://www.wikidata.org/entity/statement/Q2-8734b7f3-476a-da53-17a8-40585f765ec5> <http://www.w3.org/1999/02/22-rdf-syntax-ns#type> <http://wikiba.se/ontology#BestRank> .\n",
      "15384\n",
      "<http://www.wikidata.org/entity/statement/Q2-8734b7f3-476a-da53-17a8-40585f765ec5> <http://www.wikidata.org/prop/statement/value-normalized/P2581> <http://babelnet.org/rdf/s00029424n> .\n",
      "<http://www.wikidata.org/entity/statement/Q2-8734b7f3-476a-da53-17a8-40585f765ec5> <http://www.wikidata.org/prop/statement/P2581> \"00029424n\" .\n",
      "15385\n",
      "<http://www.wikidata.org/entity/statement/Q2-89c840cf-424e-495a-495b-1fdab89121c7> <http://wikiba.se/ontology#rank> <http://wikiba.se/ontology#NormalRank> .\n",
      "<http://www.wikidata.org/entity/statement/Q2-8734b7f3-476a-da53-17a8-40585f765ec5> <http://www.wikidata.org/prop/statement/value-normalized/P2581> <http://babelnet.org/rdf/s00029424n> .\n",
      "15386\n",
      "<http://www.wikidata.org/entity/statement/Q2-89c840cf-424e-495a-495b-1fdab89121c7> <http://www.w3.org/1999/02/22-rdf-syntax-ns#type> <http://wikiba.se/ontology#BestRank> .\n",
      "<http://www.wikidata.org/entity/statement/Q2-89c840cf-424e-495a-495b-1fdab89121c7> <http://wikiba.se/ontology#rank> <http://wikiba.se/ontology#NormalRank> .\n",
      "15387\n",
      "<http://www.wikidata.org/entity/statement/Q2-89c840cf-424e-495a-495b-1fdab89121c7> <http://www.w3.org/ns/prov#wasDerivedFrom> <http://www.wikidata.org/reference/b1658860ff3995e4fdea00dd93f3ce72c9662583> .\n",
      "<http://www.wikidata.org/entity/statement/Q2-89c840cf-424e-495a-495b-1fdab89121c7> <http://www.w3.org/1999/02/22-rdf-syntax-ns#type> <http://wikiba.se/ontology#BestRank> .\n",
      "15388\n",
      "<http://www.wikidata.org/entity/statement/Q2-89c840cf-424e-495a-495b-1fdab89121c7> <http://www.wikidata.org/prop/statement/P2146> \"365.256363004\"^^<http://www.w3.org/2001/XMLSchema#decimal> .\n",
      "<http://www.wikidata.org/entity/statement/Q2-89c840cf-424e-495a-495b-1fdab89121c7> <http://www.w3.org/ns/prov#wasDerivedFrom> <http://www.wikidata.org/reference/b1658860ff3995e4fdea00dd93f3ce72c9662583> .\n",
      "15389\n",
      "<http://www.wikidata.org/entity/statement/Q2-89c840cf-424e-495a-495b-1fdab89121c7> <http://www.wikidata.org/prop/statement/value-normalized/P2146> <http://www.wikidata.org/value/ef26accab698aaecfee820ea95389a47> .\n",
      "<http://www.wikidata.org/entity/statement/Q2-89c840cf-424e-495a-495b-1fdab89121c7> <http://www.wikidata.org/prop/statement/P2146> \"365.256363004\"^^<http://www.w3.org/2001/XMLSchema#decimal> .\n",
      "15390\n",
      "<http://www.wikidata.org/entity/statement/Q2-89c840cf-424e-495a-495b-1fdab89121c7> <http://www.wikidata.org/prop/statement/value/P2146> <http://www.wikidata.org/value/48f4b4540764a063a34ced0cab100994> .\n",
      "<http://www.wikidata.org/entity/statement/Q2-89c840cf-424e-495a-495b-1fdab89121c7> <http://www.wikidata.org/prop/statement/value-normalized/P2146> <http://www.wikidata.org/value/ef26accab698aaecfee820ea95389a47> .\n",
      "15391\n",
      "<http://www.wikidata.org/entity/statement/Q2-8C2BDEE4-8074-44C5-B766-96D38AC11574> <http://wikiba.se/ontology#hasViolationForConstraint> <http://www.wikidata.org/entity/statement/P7422-6A533D60-FD55-49B8-91FE-31302EACD8AD> .\n",
      "<http://www.wikidata.org/entity/statement/Q2-89c840cf-424e-495a-495b-1fdab89121c7> <http://www.wikidata.org/prop/statement/value/P2146> <http://www.wikidata.org/value/48f4b4540764a063a34ced0cab100994> .\n",
      "15392\n",
      "<http://www.wikidata.org/entity/statement/Q2-8C2BDEE4-8074-44C5-B766-96D38AC11574> <http://wikiba.se/ontology#hasViolationForConstraint> <http://www.wikidata.org/entity/statement/P7422-84CB32DD-85CF-4F5E-9A20-371E818E4E71> .\n",
      "<http://www.wikidata.org/entity/statement/Q2-8C2BDEE4-8074-44C5-B766-96D38AC11574> <http://wikiba.se/ontology#hasViolationForConstraint> <http://www.wikidata.org/entity/statement/P7422-6A533D60-FD55-49B8-91FE-31302EACD8AD> .\n",
      "15393\n",
      "<http://www.wikidata.org/entity/statement/Q2-8C2BDEE4-8074-44C5-B766-96D38AC11574> <http://wikiba.se/ontology#hasViolationForConstraint> <http://www.wikidata.org/entity/statement/P7422-9f1fca71-4d68-f554-8d3d-c923c58ce727> .\n",
      "<http://www.wikidata.org/entity/statement/Q2-8C2BDEE4-8074-44C5-B766-96D38AC11574> <http://wikiba.se/ontology#hasViolationForConstraint> <http://www.wikidata.org/entity/statement/P7422-84CB32DD-85CF-4F5E-9A20-371E818E4E71> .\n",
      "15394\n",
      "<http://www.wikidata.org/entity/statement/Q2-8C2BDEE4-8074-44C5-B766-96D38AC11574> <http://wikiba.se/ontology#rank> <http://wikiba.se/ontology#NormalRank> .\n",
      "<http://www.wikidata.org/entity/statement/Q2-8C2BDEE4-8074-44C5-B766-96D38AC11574> <http://wikiba.se/ontology#hasViolationForConstraint> <http://www.wikidata.org/entity/statement/P7422-9f1fca71-4d68-f554-8d3d-c923c58ce727> .\n",
      "15395\n",
      "<http://www.wikidata.org/entity/statement/Q2-8C2BDEE4-8074-44C5-B766-96D38AC11574> <http://www.w3.org/1999/02/22-rdf-syntax-ns#type> <http://wikiba.se/ontology#BestRank> .\n",
      "<http://www.wikidata.org/entity/statement/Q2-8C2BDEE4-8074-44C5-B766-96D38AC11574> <http://wikiba.se/ontology#rank> <http://wikiba.se/ontology#NormalRank> .\n",
      "15396\n",
      "<http://www.wikidata.org/entity/statement/Q2-8C2BDEE4-8074-44C5-B766-96D38AC11574> <http://www.wikidata.org/prop/qualifier/P276> <http://www.wikidata.org/entity/Q211014> .\n",
      "<http://www.wikidata.org/entity/statement/Q2-8C2BDEE4-8074-44C5-B766-96D38AC11574> <http://www.w3.org/1999/02/22-rdf-syntax-ns#type> <http://wikiba.se/ontology#BestRank> .\n",
      "15397\n",
      "<http://www.wikidata.org/entity/statement/Q2-8C2BDEE4-8074-44C5-B766-96D38AC11574> <http://www.wikidata.org/prop/qualifier/P585> \"1983-07-21T00:00:00+00:00\"^^<http://www.w3.org/2001/XMLSchema#dateTime> .\n",
      "<http://www.wikidata.org/entity/statement/Q2-8C2BDEE4-8074-44C5-B766-96D38AC11574> <http://www.wikidata.org/prop/qualifier/P276> <http://www.wikidata.org/entity/Q211014> .\n",
      "15398\n",
      "<http://www.wikidata.org/entity/statement/Q2-8C2BDEE4-8074-44C5-B766-96D38AC11574> <http://www.wikidata.org/prop/qualifier/value/P585> <http://www.wikidata.org/value/f727c7b39565431ed3c1ab7c625733df> .\n",
      "<http://www.wikidata.org/entity/statement/Q2-8C2BDEE4-8074-44C5-B766-96D38AC11574> <http://www.wikidata.org/prop/qualifier/P585> \"1983-07-21T00:00:00+00:00\"^^<http://www.w3.org/2001/XMLSchema#dateTime> .\n",
      "15399\n",
      "<http://www.wikidata.org/entity/statement/Q2-8C2BDEE4-8074-44C5-B766-96D38AC11574> <http://www.wikidata.org/prop/statement/P7422> \"-89.2\"^^<http://www.w3.org/2001/XMLSchema#decimal> .\n",
      "<http://www.wikidata.org/entity/statement/Q2-8C2BDEE4-8074-44C5-B766-96D38AC11574> <http://www.wikidata.org/prop/qualifier/value/P585> <http://www.wikidata.org/value/f727c7b39565431ed3c1ab7c625733df> .\n",
      "15400\n",
      "<http://www.wikidata.org/entity/statement/Q2-8C2BDEE4-8074-44C5-B766-96D38AC11574> <http://www.wikidata.org/prop/statement/value/P7422> <http://www.wikidata.org/value/c67d9264188bedacc3a5bfb47a9e35b5> .\n",
      "<http://www.wikidata.org/entity/statement/Q2-8C2BDEE4-8074-44C5-B766-96D38AC11574> <http://www.wikidata.org/prop/statement/P7422> \"-89.2\"^^<http://www.w3.org/2001/XMLSchema#decimal> .\n",
      "15401\n",
      "<http://www.wikidata.org/entity/statement/Q2-8ad14afb-4ffe-6639-b375-fa36f2db7906> <http://wikiba.se/ontology#rank> <http://wikiba.se/ontology#NormalRank> .\n",
      "<http://www.wikidata.org/entity/statement/Q2-8C2BDEE4-8074-44C5-B766-96D38AC11574> <http://www.wikidata.org/prop/statement/value/P7422> <http://www.wikidata.org/value/c67d9264188bedacc3a5bfb47a9e35b5> .\n",
      "15402\n",
      "<http://www.wikidata.org/entity/statement/Q2-8ad14afb-4ffe-6639-b375-fa36f2db7906> <http://www.w3.org/1999/02/22-rdf-syntax-ns#type> <http://wikiba.se/ontology#BestRank> .\n",
      "<http://www.wikidata.org/entity/statement/Q2-8ad14afb-4ffe-6639-b375-fa36f2db7906> <http://wikiba.se/ontology#rank> <http://wikiba.se/ontology#NormalRank> .\n",
      "15403\n",
      "<http://www.wikidata.org/entity/statement/Q2-8ad14afb-4ffe-6639-b375-fa36f2db7906> <http://www.wikidata.org/prop/statement/P1617> \"dd8bc764-62f3-4f5f-837d-09aa2580f7b9\" .\n",
      "<http://www.wikidata.org/entity/statement/Q2-8ad14afb-4ffe-6639-b375-fa36f2db7906> <http://www.w3.org/1999/02/22-rdf-syntax-ns#type> <http://wikiba.se/ontology#BestRank> .\n",
      "15404\n",
      "<http://www.wikidata.org/entity/statement/Q2-8ad14afb-4ffe-6639-b375-fa36f2db7906> <http://www.wikidata.org/prop/statement/value-normalized/P1617> <http://www.bbc.co.uk/things/dd8bc764-62f3-4f5f-837d-09aa2580f7b9#id> .\n",
      "<http://www.wikidata.org/entity/statement/Q2-8ad14afb-4ffe-6639-b375-fa36f2db7906> <http://www.wikidata.org/prop/statement/P1617> \"dd8bc764-62f3-4f5f-837d-09aa2580f7b9\" .\n",
      "15405\n",
      "<http://www.wikidata.org/entity/statement/Q2-8b1920f2-4eda-f89b-9e98-2cc435377a3c> <http://wikiba.se/ontology#hasViolationForConstraint> <http://www.wikidata.org/entity/statement/P2243-6C6A4C38-31DF-4523-A6F1-8A2D42D815B3> .\n",
      "<http://www.wikidata.org/entity/statement/Q2-8ad14afb-4ffe-6639-b375-fa36f2db7906> <http://www.wikidata.org/prop/statement/value-normalized/P1617> <http://www.bbc.co.uk/things/dd8bc764-62f3-4f5f-837d-09aa2580f7b9#id> .\n",
      "15406\n",
      "<http://www.wikidata.org/entity/statement/Q2-8b1920f2-4eda-f89b-9e98-2cc435377a3c> <http://wikiba.se/ontology#rank> <http://wikiba.se/ontology#NormalRank> .\n",
      "<http://www.wikidata.org/entity/statement/Q2-8b1920f2-4eda-f89b-9e98-2cc435377a3c> <http://wikiba.se/ontology#hasViolationForConstraint> <http://www.wikidata.org/entity/statement/P2243-6C6A4C38-31DF-4523-A6F1-8A2D42D815B3> .\n",
      "15407\n",
      "<http://www.wikidata.org/entity/statement/Q2-8b1920f2-4eda-f89b-9e98-2cc435377a3c> <http://www.w3.org/1999/02/22-rdf-syntax-ns#type> <http://wikiba.se/ontology#BestRank> .\n",
      "<http://www.wikidata.org/entity/statement/Q2-8b1920f2-4eda-f89b-9e98-2cc435377a3c> <http://wikiba.se/ontology#rank> <http://wikiba.se/ontology#NormalRank> .\n",
      "15408\n",
      "<http://www.wikidata.org/entity/statement/Q2-8b1920f2-4eda-f89b-9e98-2cc435377a3c> <http://www.wikidata.org/prop/qualifier/P2210> <http://www.wikidata.org/entity/Q525> .\n",
      "<http://www.wikidata.org/entity/statement/Q2-8b1920f2-4eda-f89b-9e98-2cc435377a3c> <http://www.w3.org/1999/02/22-rdf-syntax-ns#type> <http://wikiba.se/ontology#BestRank> .\n",
      "15409\n",
      "<http://www.wikidata.org/entity/statement/Q2-8b1920f2-4eda-f89b-9e98-2cc435377a3c> <http://www.wikidata.org/prop/statement/P2243> \"151930000.0\"^^<http://www.w3.org/2001/XMLSchema#decimal> .\n",
      "<http://www.wikidata.org/entity/statement/Q2-8b1920f2-4eda-f89b-9e98-2cc435377a3c> <http://www.wikidata.org/prop/qualifier/P2210> <http://www.wikidata.org/entity/Q525> .\n",
      "15410\n",
      "<http://www.wikidata.org/entity/statement/Q2-8b1920f2-4eda-f89b-9e98-2cc435377a3c> <http://www.wikidata.org/prop/statement/value-normalized/P2243> <http://www.wikidata.org/value/a69da4fc9a8ce37a07f8112c7820f0f6> .\n",
      "<http://www.wikidata.org/entity/statement/Q2-8b1920f2-4eda-f89b-9e98-2cc435377a3c> <http://www.wikidata.org/prop/statement/P2243> \"151930000.0\"^^<http://www.w3.org/2001/XMLSchema#decimal> .\n",
      "15411\n",
      "<http://www.wikidata.org/entity/statement/Q2-8b1920f2-4eda-f89b-9e98-2cc435377a3c> <http://www.wikidata.org/prop/statement/value/P2243> <http://www.wikidata.org/value/0596bd36a326849ab90a36c83f45a696> .\n",
      "<http://www.wikidata.org/entity/statement/Q2-8b1920f2-4eda-f89b-9e98-2cc435377a3c> <http://www.wikidata.org/prop/statement/value-normalized/P2243> <http://www.wikidata.org/value/a69da4fc9a8ce37a07f8112c7820f0f6> .\n",
      "15412\n",
      "<http://www.wikidata.org/entity/statement/Q2-8c36fa6d-483b-fe28-53e8-e97602e8cb68> <http://wikiba.se/ontology#rank> <http://wikiba.se/ontology#NormalRank> .\n",
      "<http://www.wikidata.org/entity/statement/Q2-8b1920f2-4eda-f89b-9e98-2cc435377a3c> <http://www.wikidata.org/prop/statement/value/P2243> <http://www.wikidata.org/value/0596bd36a326849ab90a36c83f45a696> .\n",
      "15413\n",
      "<http://www.wikidata.org/entity/statement/Q2-8c36fa6d-483b-fe28-53e8-e97602e8cb68> <http://www.w3.org/1999/02/22-rdf-syntax-ns#type> <http://wikiba.se/ontology#BestRank> .\n",
      "<http://www.wikidata.org/entity/statement/Q2-8c36fa6d-483b-fe28-53e8-e97602e8cb68> <http://wikiba.se/ontology#rank> <http://wikiba.se/ontology#NormalRank> .\n",
      "15414\n",
      "<http://www.wikidata.org/entity/statement/Q2-8c36fa6d-483b-fe28-53e8-e97602e8cb68> <http://www.wikidata.org/prop/statement/P1889> <http://www.wikidata.org/entity/Q11081619> .\n",
      "<http://www.wikidata.org/entity/statement/Q2-8c36fa6d-483b-fe28-53e8-e97602e8cb68> <http://www.w3.org/1999/02/22-rdf-syntax-ns#type> <http://wikiba.se/ontology#BestRank> .\n",
      "15415\n",
      "<http://www.wikidata.org/entity/statement/Q2-90D2D7A6-63CC-4A8D-AF46-81C666A92A0D> <http://wikiba.se/ontology#rank> <http://wikiba.se/ontology#NormalRank> .\n",
      "<http://www.wikidata.org/entity/statement/Q2-8c36fa6d-483b-fe28-53e8-e97602e8cb68> <http://www.wikidata.org/prop/statement/P1889> <http://www.wikidata.org/entity/Q11081619> .\n",
      "15416\n",
      "<http://www.wikidata.org/entity/statement/Q2-90D2D7A6-63CC-4A8D-AF46-81C666A92A0D> <http://www.w3.org/1999/02/22-rdf-syntax-ns#type> <http://wikiba.se/ontology#BestRank> .\n",
      "<http://www.wikidata.org/entity/statement/Q2-90D2D7A6-63CC-4A8D-AF46-81C666A92A0D> <http://wikiba.se/ontology#rank> <http://wikiba.se/ontology#NormalRank> .\n",
      "15417\n",
      "<http://www.wikidata.org/entity/statement/Q2-90D2D7A6-63CC-4A8D-AF46-81C666A92A0D> <http://www.w3.org/ns/prov#wasDerivedFrom> <http://www.wikidata.org/reference/5b888131d331e8521e8d74d66cd5285efd92cd07> .\n",
      "<http://www.wikidata.org/entity/statement/Q2-90D2D7A6-63CC-4A8D-AF46-81C666A92A0D> <http://www.w3.org/1999/02/22-rdf-syntax-ns#type> <http://wikiba.se/ontology#BestRank> .\n",
      "15418\n",
      "<http://www.wikidata.org/entity/statement/Q2-90D2D7A6-63CC-4A8D-AF46-81C666A92A0D> <http://www.wikidata.org/prop/qualifier/P459> <http://www.wikidata.org/entity/Q47005776> .\n",
      "<http://www.wikidata.org/entity/statement/Q2-90D2D7A6-63CC-4A8D-AF46-81C666A92A0D> <http://www.w3.org/ns/prov#wasDerivedFrom> <http://www.wikidata.org/reference/5b888131d331e8521e8d74d66cd5285efd92cd07> .\n",
      "15419\n",
      "<http://www.wikidata.org/entity/statement/Q2-90D2D7A6-63CC-4A8D-AF46-81C666A92A0D> <http://www.wikidata.org/prop/qualifier/P585> \"2007-01-01T00:00:00+00:00\"^^<http://www.w3.org/2001/XMLSchema#dateTime> .\n",
      "<http://www.wikidata.org/entity/statement/Q2-90D2D7A6-63CC-4A8D-AF46-81C666A92A0D> <http://www.wikidata.org/prop/qualifier/P459> <http://www.wikidata.org/entity/Q47005776> .\n",
      "15420\n",
      "<http://www.wikidata.org/entity/statement/Q2-90D2D7A6-63CC-4A8D-AF46-81C666A92A0D> <http://www.wikidata.org/prop/qualifier/value/P585> <http://www.wikidata.org/value/b6f8d289941f9afde049f133cea9611b> .\n",
      "<http://www.wikidata.org/entity/statement/Q2-90D2D7A6-63CC-4A8D-AF46-81C666A92A0D> <http://www.wikidata.org/prop/qualifier/P585> \"2007-01-01T00:00:00+00:00\"^^<http://www.w3.org/2001/XMLSchema#dateTime> .\n",
      "15421\n",
      "<http://www.wikidata.org/entity/statement/Q2-90D2D7A6-63CC-4A8D-AF46-81C666A92A0D> <http://www.wikidata.org/prop/statement/P2573> \"305000000.0\"^^<http://www.w3.org/2001/XMLSchema#decimal> .\n",
      "<http://www.wikidata.org/entity/statement/Q2-90D2D7A6-63CC-4A8D-AF46-81C666A92A0D> <http://www.wikidata.org/prop/qualifier/value/P585> <http://www.wikidata.org/value/b6f8d289941f9afde049f133cea9611b> .\n",
      "15422\n",
      "<http://www.wikidata.org/entity/statement/Q2-90D2D7A6-63CC-4A8D-AF46-81C666A92A0D> <http://www.wikidata.org/prop/statement/value/P2573> <http://www.wikidata.org/value/f16907dcd8c2e3f96818c4d4eb408ae5> .\n",
      "<http://www.wikidata.org/entity/statement/Q2-90D2D7A6-63CC-4A8D-AF46-81C666A92A0D> <http://www.wikidata.org/prop/statement/P2573> \"305000000.0\"^^<http://www.w3.org/2001/XMLSchema#decimal> .\n",
      "15423\n",
      "<http://www.wikidata.org/entity/statement/Q2-9247E209-94F0-4512-824D-129F1A6B25F4> <http://wikiba.se/ontology#rank> <http://wikiba.se/ontology#NormalRank> .\n",
      "<http://www.wikidata.org/entity/statement/Q2-90D2D7A6-63CC-4A8D-AF46-81C666A92A0D> <http://www.wikidata.org/prop/statement/value/P2573> <http://www.wikidata.org/value/f16907dcd8c2e3f96818c4d4eb408ae5> .\n",
      "15424\n",
      "<http://www.wikidata.org/entity/statement/Q2-9247E209-94F0-4512-824D-129F1A6B25F4> <http://www.w3.org/1999/02/22-rdf-syntax-ns#type> <http://wikiba.se/ontology#BestRank> .\n",
      "<http://www.wikidata.org/entity/statement/Q2-9247E209-94F0-4512-824D-129F1A6B25F4> <http://wikiba.se/ontology#rank> <http://wikiba.se/ontology#NormalRank> .\n",
      "15425\n",
      "<http://www.wikidata.org/entity/statement/Q2-9247E209-94F0-4512-824D-129F1A6B25F4> <http://www.wikidata.org/prop/statement/P7827> \"Tierra\" .\n",
      "<http://www.wikidata.org/entity/statement/Q2-9247E209-94F0-4512-824D-129F1A6B25F4> <http://www.w3.org/1999/02/22-rdf-syntax-ns#type> <http://wikiba.se/ontology#BestRank> .\n",
      "15426\n",
      "<http://www.wikidata.org/entity/statement/Q2-92D3997F-4618-46E6-A16C-6F8BD4B07B22> <http://wikiba.se/ontology#rank> <http://wikiba.se/ontology#NormalRank> .\n",
      "<http://www.wikidata.org/entity/statement/Q2-9247E209-94F0-4512-824D-129F1A6B25F4> <http://www.wikidata.org/prop/statement/P7827> \"Tierra\" .\n",
      "15427\n",
      "<http://www.wikidata.org/entity/statement/Q2-92D3997F-4618-46E6-A16C-6F8BD4B07B22> <http://www.w3.org/1999/02/22-rdf-syntax-ns#type> <http://wikiba.se/ontology#BestRank> .\n",
      "<http://www.wikidata.org/entity/statement/Q2-92D3997F-4618-46E6-A16C-6F8BD4B07B22> <http://wikiba.se/ontology#rank> <http://wikiba.se/ontology#NormalRank> .\n",
      "15428\n",
      "<http://www.wikidata.org/entity/statement/Q2-92D3997F-4618-46E6-A16C-6F8BD4B07B22> <http://www.wikidata.org/prop/statement/P3417> \"Earth-planet\" .\n",
      "<http://www.wikidata.org/entity/statement/Q2-92D3997F-4618-46E6-A16C-6F8BD4B07B22> <http://www.w3.org/1999/02/22-rdf-syntax-ns#type> <http://wikiba.se/ontology#BestRank> .\n",
      "15429\n",
      "<http://www.wikidata.org/entity/statement/Q2-93B8407D-3845-4310-BCF6-562920AFA860> <http://wikiba.se/ontology#rank> <http://wikiba.se/ontology#NormalRank> .\n",
      "<http://www.wikidata.org/entity/statement/Q2-92D3997F-4618-46E6-A16C-6F8BD4B07B22> <http://www.wikidata.org/prop/statement/P3417> \"Earth-planet\" .\n",
      "15430\n",
      "<http://www.wikidata.org/entity/statement/Q2-93B8407D-3845-4310-BCF6-562920AFA860> <http://www.w3.org/1999/02/22-rdf-syntax-ns#type> <http://wikiba.se/ontology#BestRank> .\n",
      "<http://www.wikidata.org/entity/statement/Q2-93B8407D-3845-4310-BCF6-562920AFA860> <http://wikiba.se/ontology#rank> <http://wikiba.se/ontology#NormalRank> .\n",
      "15431\n",
      "<http://www.wikidata.org/entity/statement/Q2-93B8407D-3845-4310-BCF6-562920AFA860> <http://www.wikidata.org/prop/statement/P6573> \"Erde\" .\n",
      "<http://www.wikidata.org/entity/statement/Q2-93B8407D-3845-4310-BCF6-562920AFA860> <http://www.w3.org/1999/02/22-rdf-syntax-ns#type> <http://wikiba.se/ontology#BestRank> .\n",
      "15432\n",
      "<http://www.wikidata.org/entity/statement/Q2-98b45585-4da8-0126-2dff-26f20f11a36b> <http://wikiba.se/ontology#hasViolationForConstraint> <http://www.wikidata.org/entity/statement/P6591-180972CD-C56F-407D-9A33-57CCB82E2F47> .\n",
      "<http://www.wikidata.org/entity/statement/Q2-93B8407D-3845-4310-BCF6-562920AFA860> <http://www.wikidata.org/prop/statement/P6573> \"Erde\" .\n",
      "15433\n",
      "<http://www.wikidata.org/entity/statement/Q2-98b45585-4da8-0126-2dff-26f20f11a36b> <http://wikiba.se/ontology#hasViolationForConstraint> <http://www.wikidata.org/entity/statement/P6591-4b753210-444b-4c88-e7da-c019e3905ae4> .\n",
      "<http://www.wikidata.org/entity/statement/Q2-98b45585-4da8-0126-2dff-26f20f11a36b> <http://wikiba.se/ontology#hasViolationForConstraint> <http://www.wikidata.org/entity/statement/P6591-180972CD-C56F-407D-9A33-57CCB82E2F47> .\n",
      "15434\n",
      "<http://www.wikidata.org/entity/statement/Q2-98b45585-4da8-0126-2dff-26f20f11a36b> <http://wikiba.se/ontology#hasViolationForConstraint> <http://www.wikidata.org/entity/statement/P6591-A2666172-5A3C-4550-9618-CCBF47B5238D> .\n",
      "<http://www.wikidata.org/entity/statement/Q2-98b45585-4da8-0126-2dff-26f20f11a36b> <http://wikiba.se/ontology#hasViolationForConstraint> <http://www.wikidata.org/entity/statement/P6591-4b753210-444b-4c88-e7da-c019e3905ae4> .\n",
      "15435\n",
      "<http://www.wikidata.org/entity/statement/Q2-98b45585-4da8-0126-2dff-26f20f11a36b> <http://wikiba.se/ontology#rank> <http://wikiba.se/ontology#NormalRank> .\n",
      "<http://www.wikidata.org/entity/statement/Q2-98b45585-4da8-0126-2dff-26f20f11a36b> <http://wikiba.se/ontology#hasViolationForConstraint> <http://www.wikidata.org/entity/statement/P6591-A2666172-5A3C-4550-9618-CCBF47B5238D> .\n",
      "15436\n",
      "<http://www.wikidata.org/entity/statement/Q2-98b45585-4da8-0126-2dff-26f20f11a36b> <http://www.w3.org/1999/02/22-rdf-syntax-ns#type> <http://wikiba.se/ontology#BestRank> .\n",
      "<http://www.wikidata.org/entity/statement/Q2-98b45585-4da8-0126-2dff-26f20f11a36b> <http://wikiba.se/ontology#rank> <http://wikiba.se/ontology#NormalRank> .\n",
      "15437\n",
      "<http://www.wikidata.org/entity/statement/Q2-98b45585-4da8-0126-2dff-26f20f11a36b> <http://www.wikidata.org/prop/qualifier/P276> <http://www.wikidata.org/entity/Q242111> .\n",
      "<http://www.wikidata.org/entity/statement/Q2-98b45585-4da8-0126-2dff-26f20f11a36b> <http://www.w3.org/1999/02/22-rdf-syntax-ns#type> <http://wikiba.se/ontology#BestRank> .\n",
      "15438\n",
      "<http://www.wikidata.org/entity/statement/Q2-98b45585-4da8-0126-2dff-26f20f11a36b> <http://www.wikidata.org/prop/qualifier/P585> \"1913-07-10T00:00:00+00:00\"^^<http://www.w3.org/2001/XMLSchema#dateTime> .\n",
      "<http://www.wikidata.org/entity/statement/Q2-98b45585-4da8-0126-2dff-26f20f11a36b> <http://www.wikidata.org/prop/qualifier/P276> <http://www.wikidata.org/entity/Q242111> .\n",
      "15439\n",
      "<http://www.wikidata.org/entity/statement/Q2-98b45585-4da8-0126-2dff-26f20f11a36b> <http://www.wikidata.org/prop/qualifier/value/P585> <http://www.wikidata.org/value/1b906dbb5a6aa24a98a7a4a77da02328> .\n",
      "<http://www.wikidata.org/entity/statement/Q2-98b45585-4da8-0126-2dff-26f20f11a36b> <http://www.wikidata.org/prop/qualifier/P585> \"1913-07-10T00:00:00+00:00\"^^<http://www.w3.org/2001/XMLSchema#dateTime> .\n",
      "15440\n",
      "<http://www.wikidata.org/entity/statement/Q2-98b45585-4da8-0126-2dff-26f20f11a36b> <http://www.wikidata.org/prop/statement/P6591> \"134.06\"^^<http://www.w3.org/2001/XMLSchema#decimal> .\n",
      "<http://www.wikidata.org/entity/statement/Q2-98b45585-4da8-0126-2dff-26f20f11a36b> <http://www.wikidata.org/prop/qualifier/value/P585> <http://www.wikidata.org/value/1b906dbb5a6aa24a98a7a4a77da02328> .\n",
      "15441\n",
      "<http://www.wikidata.org/entity/statement/Q2-98b45585-4da8-0126-2dff-26f20f11a36b> <http://www.wikidata.org/prop/statement/value/P6591> <http://www.wikidata.org/value/3bb1a6db0dab8b9ffe4fcac726d850c8> .\n",
      "<http://www.wikidata.org/entity/statement/Q2-98b45585-4da8-0126-2dff-26f20f11a36b> <http://www.wikidata.org/prop/statement/P6591> \"134.06\"^^<http://www.w3.org/2001/XMLSchema#decimal> .\n",
      "15442\n",
      "<http://www.wikidata.org/entity/statement/Q2-98cc8189-448c-b242-7e22-89f0b8289c4b> <http://wikiba.se/ontology#hasViolationForConstraint> <http://www.wikidata.org/entity/statement/P1082-E8CBFFC0-0655-46D1-B292-FECE461E8253> .\n",
      "<http://www.wikidata.org/entity/statement/Q2-98b45585-4da8-0126-2dff-26f20f11a36b> <http://www.wikidata.org/prop/statement/value/P6591> <http://www.wikidata.org/value/3bb1a6db0dab8b9ffe4fcac726d850c8> .\n",
      "15443\n",
      "<http://www.wikidata.org/entity/statement/Q2-98cc8189-448c-b242-7e22-89f0b8289c4b> <http://wikiba.se/ontology#rank> <http://wikiba.se/ontology#NormalRank> .\n",
      "<http://www.wikidata.org/entity/statement/Q2-98cc8189-448c-b242-7e22-89f0b8289c4b> <http://wikiba.se/ontology#hasViolationForConstraint> <http://www.wikidata.org/entity/statement/P1082-E8CBFFC0-0655-46D1-B292-FECE461E8253> .\n",
      "15444\n",
      "<http://www.wikidata.org/entity/statement/Q2-98cc8189-448c-b242-7e22-89f0b8289c4b> <http://www.wikidata.org/prop/qualifier/P585> \"1927-01-01T00:00:00+00:00\"^^<http://www.w3.org/2001/XMLSchema#dateTime> .\n",
      "<http://www.wikidata.org/entity/statement/Q2-98cc8189-448c-b242-7e22-89f0b8289c4b> <http://wikiba.se/ontology#rank> <http://wikiba.se/ontology#NormalRank> .\n",
      "15445\n",
      "<http://www.wikidata.org/entity/statement/Q2-98cc8189-448c-b242-7e22-89f0b8289c4b> <http://www.wikidata.org/prop/qualifier/value/P585> <http://www.wikidata.org/value/9a39f53c183e95ed1f588e7d9d67ace0> .\n",
      "<http://www.wikidata.org/entity/statement/Q2-98cc8189-448c-b242-7e22-89f0b8289c4b> <http://www.wikidata.org/prop/qualifier/P585> \"1927-01-01T00:00:00+00:00\"^^<http://www.w3.org/2001/XMLSchema#dateTime> .\n",
      "15446\n",
      "<http://www.wikidata.org/entity/statement/Q2-98cc8189-448c-b242-7e22-89f0b8289c4b> <http://www.wikidata.org/prop/statement/P1082> \"2000000000.0\"^^<http://www.w3.org/2001/XMLSchema#decimal> .\n",
      "<http://www.wikidata.org/entity/statement/Q2-98cc8189-448c-b242-7e22-89f0b8289c4b> <http://www.wikidata.org/prop/qualifier/value/P585> <http://www.wikidata.org/value/9a39f53c183e95ed1f588e7d9d67ace0> .\n",
      "15447\n",
      "<http://www.wikidata.org/entity/statement/Q2-98cc8189-448c-b242-7e22-89f0b8289c4b> <http://www.wikidata.org/prop/statement/value/P1082> <http://www.wikidata.org/value/53b0fbd521757ccf1170ae041078a018> .\n",
      "<http://www.wikidata.org/entity/statement/Q2-98cc8189-448c-b242-7e22-89f0b8289c4b> <http://www.wikidata.org/prop/statement/P1082> \"2000000000.0\"^^<http://www.w3.org/2001/XMLSchema#decimal> .\n",
      "15448\n",
      "<http://www.wikidata.org/entity/statement/Q2-99197fc2-4756-e59b-59bf-eeeff2f0b701> <http://wikiba.se/ontology#rank> <http://wikiba.se/ontology#NormalRank> .\n",
      "<http://www.wikidata.org/entity/statement/Q2-98cc8189-448c-b242-7e22-89f0b8289c4b> <http://www.wikidata.org/prop/statement/value/P1082> <http://www.wikidata.org/value/53b0fbd521757ccf1170ae041078a018> .\n",
      "15449\n",
      "<http://www.wikidata.org/entity/statement/Q2-99197fc2-4756-e59b-59bf-eeeff2f0b701> <http://www.w3.org/1999/02/22-rdf-syntax-ns#type> <http://wikiba.se/ontology#BestRank> .\n",
      "<http://www.wikidata.org/entity/statement/Q2-99197fc2-4756-e59b-59bf-eeeff2f0b701> <http://wikiba.se/ontology#rank> <http://wikiba.se/ontology#NormalRank> .\n",
      "15450\n",
      "<http://www.wikidata.org/entity/statement/Q2-99197fc2-4756-e59b-59bf-eeeff2f0b701> <http://www.wikidata.org/prop/qualifier/P407> <http://www.wikidata.org/entity/Q7737> .\n",
      "<http://www.wikidata.org/entity/statement/Q2-99197fc2-4756-e59b-59bf-eeeff2f0b701> <http://www.w3.org/1999/02/22-rdf-syntax-ns#type> <http://wikiba.se/ontology#BestRank> .\n",
      "15451\n",
      "<http://www.wikidata.org/entity/statement/Q2-99197fc2-4756-e59b-59bf-eeeff2f0b701> <http://www.wikidata.org/prop/statement/P443> <http://commons.wikimedia.org/wiki/Special:FilePath/Ru-%D0%B7%D0%B5%D0%BC%D0%BB%D1%8F.ogg> .\n",
      "<http://www.wikidata.org/entity/statement/Q2-99197fc2-4756-e59b-59bf-eeeff2f0b701> <http://www.wikidata.org/prop/qualifier/P407> <http://www.wikidata.org/entity/Q7737> .\n",
      "15452\n",
      "<http://www.wikidata.org/entity/statement/Q2-9965f58a-4290-970b-984c-57be47a59e7b> <http://wikiba.se/ontology#hasViolationForConstraint> <http://www.wikidata.org/entity/statement/P1082-E8CBFFC0-0655-46D1-B292-FECE461E8253> .\n",
      "<http://www.wikidata.org/entity/statement/Q2-99197fc2-4756-e59b-59bf-eeeff2f0b701> <http://www.wikidata.org/prop/statement/P443> <http://commons.wikimedia.org/wiki/Special:FilePath/Ru-%D0%B7%D0%B5%D0%BC%D0%BB%D1%8F.ogg> .\n",
      "15453\n",
      "<http://www.wikidata.org/entity/statement/Q2-9965f58a-4290-970b-984c-57be47a59e7b> <http://wikiba.se/ontology#rank> <http://wikiba.se/ontology#NormalRank> .\n",
      "<http://www.wikidata.org/entity/statement/Q2-9965f58a-4290-970b-984c-57be47a59e7b> <http://wikiba.se/ontology#hasViolationForConstraint> <http://www.wikidata.org/entity/statement/P1082-E8CBFFC0-0655-46D1-B292-FECE461E8253> .\n",
      "15454\n",
      "<http://www.wikidata.org/entity/statement/Q2-9965f58a-4290-970b-984c-57be47a59e7b> <http://www.w3.org/ns/prov#wasDerivedFrom> <http://www.wikidata.org/reference/14e8b1a68b3a036f4f050bf50b60ecba1933cd24> .\n",
      "<http://www.wikidata.org/entity/statement/Q2-9965f58a-4290-970b-984c-57be47a59e7b> <http://wikiba.se/ontology#rank> <http://wikiba.se/ontology#NormalRank> .\n",
      "15455\n",
      "<http://www.wikidata.org/entity/statement/Q2-9965f58a-4290-970b-984c-57be47a59e7b> <http://www.wikidata.org/prop/qualifier/P585> \"2015-08-12T00:00:00+00:00\"^^<http://www.w3.org/2001/XMLSchema#dateTime> .\n",
      "<http://www.wikidata.org/entity/statement/Q2-9965f58a-4290-970b-984c-57be47a59e7b> <http://www.w3.org/ns/prov#wasDerivedFrom> <http://www.wikidata.org/reference/14e8b1a68b3a036f4f050bf50b60ecba1933cd24> .\n",
      "15456\n",
      "<http://www.wikidata.org/entity/statement/Q2-9965f58a-4290-970b-984c-57be47a59e7b> <http://www.wikidata.org/prop/qualifier/value/P585> <http://www.wikidata.org/value/0cb1fe029d07f2ceb93df16cd23d83a0> .\n",
      "<http://www.wikidata.org/entity/statement/Q2-9965f58a-4290-970b-984c-57be47a59e7b> <http://www.wikidata.org/prop/qualifier/P585> \"2015-08-12T00:00:00+00:00\"^^<http://www.w3.org/2001/XMLSchema#dateTime> .\n",
      "15457\n",
      "<http://www.wikidata.org/entity/statement/Q2-9965f58a-4290-970b-984c-57be47a59e7b> <http://www.wikidata.org/prop/statement/P1082> \"7359044782.0\"^^<http://www.w3.org/2001/XMLSchema#decimal> .\n",
      "<http://www.wikidata.org/entity/statement/Q2-9965f58a-4290-970b-984c-57be47a59e7b> <http://www.wikidata.org/prop/qualifier/value/P585> <http://www.wikidata.org/value/0cb1fe029d07f2ceb93df16cd23d83a0> .\n",
      "15458\n",
      "<http://www.wikidata.org/entity/statement/Q2-9965f58a-4290-970b-984c-57be47a59e7b> <http://www.wikidata.org/prop/statement/value/P1082> <http://www.wikidata.org/value/3b3e832007907f6c9935726e3bab405c> .\n",
      "<http://www.wikidata.org/entity/statement/Q2-9965f58a-4290-970b-984c-57be47a59e7b> <http://www.wikidata.org/prop/statement/P1082> \"7359044782.0\"^^<http://www.w3.org/2001/XMLSchema#decimal> .\n",
      "15459\n",
      "<http://www.wikidata.org/entity/statement/Q2-99E3A258-4457-4B77-8885-DD8D2C445A37> <http://wikiba.se/ontology#rank> <http://wikiba.se/ontology#NormalRank> .\n",
      "<http://www.wikidata.org/entity/statement/Q2-9965f58a-4290-970b-984c-57be47a59e7b> <http://www.wikidata.org/prop/statement/value/P1082> <http://www.wikidata.org/value/3b3e832007907f6c9935726e3bab405c> .\n",
      "15460\n",
      "<http://www.wikidata.org/entity/statement/Q2-99E3A258-4457-4B77-8885-DD8D2C445A37> <http://www.w3.org/1999/02/22-rdf-syntax-ns#type> <http://wikiba.se/ontology#BestRank> .\n",
      "<http://www.wikidata.org/entity/statement/Q2-99E3A258-4457-4B77-8885-DD8D2C445A37> <http://wikiba.se/ontology#rank> <http://wikiba.se/ontology#NormalRank> .\n",
      "15461\n",
      "<http://www.wikidata.org/entity/statement/Q2-99E3A258-4457-4B77-8885-DD8D2C445A37> <http://www.w3.org/ns/prov#wasDerivedFrom> <http://www.wikidata.org/reference/5b888131d331e8521e8d74d66cd5285efd92cd07> .\n",
      "<http://www.wikidata.org/entity/statement/Q2-99E3A258-4457-4B77-8885-DD8D2C445A37> <http://www.w3.org/1999/02/22-rdf-syntax-ns#type> <http://wikiba.se/ontology#BestRank> .\n",
      "15462\n",
      "<http://www.wikidata.org/entity/statement/Q2-99E3A258-4457-4B77-8885-DD8D2C445A37> <http://www.wikidata.org/prop/qualifier/P459> <http://www.wikidata.org/entity/Q47005776> .\n",
      "<http://www.wikidata.org/entity/statement/Q2-99E3A258-4457-4B77-8885-DD8D2C445A37> <http://www.w3.org/ns/prov#wasDerivedFrom> <http://www.wikidata.org/reference/5b888131d331e8521e8d74d66cd5285efd92cd07> .\n",
      "15463\n",
      "<http://www.wikidata.org/entity/statement/Q2-99E3A258-4457-4B77-8885-DD8D2C445A37> <http://www.wikidata.org/prop/qualifier/P585> \"2006-01-01T00:00:00+00:00\"^^<http://www.w3.org/2001/XMLSchema#dateTime> .\n",
      "<http://www.wikidata.org/entity/statement/Q2-99E3A258-4457-4B77-8885-DD8D2C445A37> <http://www.wikidata.org/prop/qualifier/P459> <http://www.wikidata.org/entity/Q47005776> .\n",
      "15464\n",
      "<http://www.wikidata.org/entity/statement/Q2-99E3A258-4457-4B77-8885-DD8D2C445A37> <http://www.wikidata.org/prop/qualifier/value/P585> <http://www.wikidata.org/value/7dd12dc57400f2b2445ce9d0cb9a33f9> .\n",
      "<http://www.wikidata.org/entity/statement/Q2-99E3A258-4457-4B77-8885-DD8D2C445A37> <http://www.wikidata.org/prop/qualifier/P585> \"2006-01-01T00:00:00+00:00\"^^<http://www.w3.org/2001/XMLSchema#dateTime> .\n",
      "15465\n",
      "<http://www.wikidata.org/entity/statement/Q2-99E3A258-4457-4B77-8885-DD8D2C445A37> <http://www.wikidata.org/prop/statement/P2573> \"324000000.0\"^^<http://www.w3.org/2001/XMLSchema#decimal> .\n",
      "<http://www.wikidata.org/entity/statement/Q2-99E3A258-4457-4B77-8885-DD8D2C445A37> <http://www.wikidata.org/prop/qualifier/value/P585> <http://www.wikidata.org/value/7dd12dc57400f2b2445ce9d0cb9a33f9> .\n",
      "15466\n",
      "<http://www.wikidata.org/entity/statement/Q2-99E3A258-4457-4B77-8885-DD8D2C445A37> <http://www.wikidata.org/prop/statement/value/P2573> <http://www.wikidata.org/value/6fc5033a6e6b1bfba48a1b9700164edf> .\n",
      "<http://www.wikidata.org/entity/statement/Q2-99E3A258-4457-4B77-8885-DD8D2C445A37> <http://www.wikidata.org/prop/statement/P2573> \"324000000.0\"^^<http://www.w3.org/2001/XMLSchema#decimal> .\n",
      "15467\n",
      "<http://www.wikidata.org/entity/statement/Q2-99c3984a-4d61-fea3-36f0-812e24e18238> <http://wikiba.se/ontology#rank> <http://wikiba.se/ontology#NormalRank> .\n",
      "<http://www.wikidata.org/entity/statement/Q2-99E3A258-4457-4B77-8885-DD8D2C445A37> <http://www.wikidata.org/prop/statement/value/P2573> <http://www.wikidata.org/value/6fc5033a6e6b1bfba48a1b9700164edf> .\n",
      "15468\n",
      "<http://www.wikidata.org/entity/statement/Q2-99c3984a-4d61-fea3-36f0-812e24e18238> <http://www.w3.org/1999/02/22-rdf-syntax-ns#type> <http://wikiba.se/ontology#BestRank> .\n",
      "<http://www.wikidata.org/entity/statement/Q2-99c3984a-4d61-fea3-36f0-812e24e18238> <http://wikiba.se/ontology#rank> <http://wikiba.se/ontology#NormalRank> .\n",
      "15469\n",
      "<http://www.wikidata.org/entity/statement/Q2-99c3984a-4d61-fea3-36f0-812e24e18238> <http://www.wikidata.org/prop/qualifier/P407> <http://www.wikidata.org/entity/Q1860> .\n",
      "<http://www.wikidata.org/entity/statement/Q2-99c3984a-4d61-fea3-36f0-812e24e18238> <http://www.w3.org/1999/02/22-rdf-syntax-ns#type> <http://wikiba.se/ontology#BestRank> .\n",
      "15470\n",
      "<http://www.wikidata.org/entity/statement/Q2-99c3984a-4d61-fea3-36f0-812e24e18238> <http://www.wikidata.org/prop/statement/P998> \"Science/Astronomy/Solar_System/Planets/Earth/\" .\n",
      "<http://www.wikidata.org/entity/statement/Q2-99c3984a-4d61-fea3-36f0-812e24e18238> <http://www.wikidata.org/prop/qualifier/P407> <http://www.wikidata.org/entity/Q1860> .\n",
      "15471\n",
      "<http://www.wikidata.org/entity/statement/Q2-9B40A8AA-E593-4A82-9B3D-C05A523F0B70> <http://wikiba.se/ontology#hasViolationForConstraint> <http://www.wikidata.org/entity/statement/P1082-E8CBFFC0-0655-46D1-B292-FECE461E8253> .\n",
      "<http://www.wikidata.org/entity/statement/Q2-99c3984a-4d61-fea3-36f0-812e24e18238> <http://www.wikidata.org/prop/statement/P998> \"Science/Astronomy/Solar_System/Planets/Earth/\" .\n",
      "15472\n",
      "<http://www.wikidata.org/entity/statement/Q2-9B40A8AA-E593-4A82-9B3D-C05A523F0B70> <http://wikiba.se/ontology#rank> <http://wikiba.se/ontology#NormalRank> .\n",
      "<http://www.wikidata.org/entity/statement/Q2-9B40A8AA-E593-4A82-9B3D-C05A523F0B70> <http://wikiba.se/ontology#hasViolationForConstraint> <http://www.wikidata.org/entity/statement/P1082-E8CBFFC0-0655-46D1-B292-FECE461E8253> .\n",
      "15473\n",
      "<http://www.wikidata.org/entity/statement/Q2-9B40A8AA-E593-4A82-9B3D-C05A523F0B70> <http://www.wikidata.org/prop/qualifier/P585> \"1893-01-01T00:00:00+00:00\"^^<http://www.w3.org/2001/XMLSchema#dateTime> .\n",
      "<http://www.wikidata.org/entity/statement/Q2-9B40A8AA-E593-4A82-9B3D-C05A523F0B70> <http://wikiba.se/ontology#rank> <http://wikiba.se/ontology#NormalRank> .\n",
      "15474\n",
      "<http://www.wikidata.org/entity/statement/Q2-9B40A8AA-E593-4A82-9B3D-C05A523F0B70> <http://www.wikidata.org/prop/qualifier/value/P585> <http://www.wikidata.org/value/243b269ba51953efcbb66a5742ed2cbd> .\n",
      "<http://www.wikidata.org/entity/statement/Q2-9B40A8AA-E593-4A82-9B3D-C05A523F0B70> <http://www.wikidata.org/prop/qualifier/P585> \"1893-01-01T00:00:00+00:00\"^^<http://www.w3.org/2001/XMLSchema#dateTime> .\n",
      "15475\n",
      "<http://www.wikidata.org/entity/statement/Q2-9B40A8AA-E593-4A82-9B3D-C05A523F0B70> <http://www.wikidata.org/prop/statement/P1082> \"1500000000.0\"^^<http://www.w3.org/2001/XMLSchema#decimal> .\n",
      "<http://www.wikidata.org/entity/statement/Q2-9B40A8AA-E593-4A82-9B3D-C05A523F0B70> <http://www.wikidata.org/prop/qualifier/value/P585> <http://www.wikidata.org/value/243b269ba51953efcbb66a5742ed2cbd> .\n",
      "15476\n",
      "<http://www.wikidata.org/entity/statement/Q2-9B40A8AA-E593-4A82-9B3D-C05A523F0B70> <http://www.wikidata.org/prop/statement/value/P1082> <http://www.wikidata.org/value/5a6c5ea6d6a97578b7425b05ea9d8b98> .\n",
      "<http://www.wikidata.org/entity/statement/Q2-9B40A8AA-E593-4A82-9B3D-C05A523F0B70> <http://www.wikidata.org/prop/statement/P1082> \"1500000000.0\"^^<http://www.w3.org/2001/XMLSchema#decimal> .\n",
      "15477\n",
      "<http://www.wikidata.org/entity/statement/Q2-9CA99E96-F7D2-4E27-B169-BE96B4CB079F> <http://wikiba.se/ontology#rank> <http://wikiba.se/ontology#NormalRank> .\n",
      "<http://www.wikidata.org/entity/statement/Q2-9B40A8AA-E593-4A82-9B3D-C05A523F0B70> <http://www.wikidata.org/prop/statement/value/P1082> <http://www.wikidata.org/value/5a6c5ea6d6a97578b7425b05ea9d8b98> .\n",
      "15478\n",
      "<http://www.wikidata.org/entity/statement/Q2-9CA99E96-F7D2-4E27-B169-BE96B4CB079F> <http://www.w3.org/1999/02/22-rdf-syntax-ns#type> <http://wikiba.se/ontology#BestRank> .\n",
      "<http://www.wikidata.org/entity/statement/Q2-9CA99E96-F7D2-4E27-B169-BE96B4CB079F> <http://wikiba.se/ontology#rank> <http://wikiba.se/ontology#NormalRank> .\n",
      "15479\n",
      "<http://www.wikidata.org/entity/statement/Q2-9CA99E96-F7D2-4E27-B169-BE96B4CB079F> <http://www.wikidata.org/prop/statement/P7818> \"Terre\" .\n",
      "<http://www.wikidata.org/entity/statement/Q2-9CA99E96-F7D2-4E27-B169-BE96B4CB079F> <http://www.w3.org/1999/02/22-rdf-syntax-ns#type> <http://wikiba.se/ontology#BestRank> .\n",
      "15480\n",
      "<http://www.wikidata.org/entity/statement/Q2-9a40deba-482f-2eed-35e7-e19e5dad1420> <http://wikiba.se/ontology#hasViolationForConstraint> <http://www.wikidata.org/entity/statement/P1082-E8CBFFC0-0655-46D1-B292-FECE461E8253> .\n",
      "<http://www.wikidata.org/entity/statement/Q2-9CA99E96-F7D2-4E27-B169-BE96B4CB079F> <http://www.wikidata.org/prop/statement/P7818> \"Terre\" .\n",
      "15481\n",
      "<http://www.wikidata.org/entity/statement/Q2-9a40deba-482f-2eed-35e7-e19e5dad1420> <http://wikiba.se/ontology#rank> <http://wikiba.se/ontology#NormalRank> .\n",
      "<http://www.wikidata.org/entity/statement/Q2-9a40deba-482f-2eed-35e7-e19e5dad1420> <http://wikiba.se/ontology#hasViolationForConstraint> <http://www.wikidata.org/entity/statement/P1082-E8CBFFC0-0655-46D1-B292-FECE461E8253> .\n",
      "15482\n",
      "<http://www.wikidata.org/entity/statement/Q2-9a40deba-482f-2eed-35e7-e19e5dad1420> <http://www.wikidata.org/prop/qualifier/P585> \"1965-01-01T00:00:00+00:00\"^^<http://www.w3.org/2001/XMLSchema#dateTime> .\n",
      "<http://www.wikidata.org/entity/statement/Q2-9a40deba-482f-2eed-35e7-e19e5dad1420> <http://wikiba.se/ontology#rank> <http://wikiba.se/ontology#NormalRank> .\n",
      "15483\n",
      "<http://www.wikidata.org/entity/statement/Q2-9a40deba-482f-2eed-35e7-e19e5dad1420> <http://www.wikidata.org/prop/qualifier/value/P585> <http://www.wikidata.org/value/06986fec91fc8d27b02341c7cbd6fe1d> .\n",
      "<http://www.wikidata.org/entity/statement/Q2-9a40deba-482f-2eed-35e7-e19e5dad1420> <http://www.wikidata.org/prop/qualifier/P585> \"1965-01-01T00:00:00+00:00\"^^<http://www.w3.org/2001/XMLSchema#dateTime> .\n",
      "15484\n",
      "<http://www.wikidata.org/entity/statement/Q2-9a40deba-482f-2eed-35e7-e19e5dad1420> <http://www.wikidata.org/prop/statement/P1082> \"3334874000.0\"^^<http://www.w3.org/2001/XMLSchema#decimal> .\n",
      "<http://www.wikidata.org/entity/statement/Q2-9a40deba-482f-2eed-35e7-e19e5dad1420> <http://www.wikidata.org/prop/qualifier/value/P585> <http://www.wikidata.org/value/06986fec91fc8d27b02341c7cbd6fe1d> .\n",
      "15485\n",
      "<http://www.wikidata.org/entity/statement/Q2-9a40deba-482f-2eed-35e7-e19e5dad1420> <http://www.wikidata.org/prop/statement/value/P1082> <http://www.wikidata.org/value/fc4746b58bf912e0a834c8579b0b4938> .\n",
      "<http://www.wikidata.org/entity/statement/Q2-9a40deba-482f-2eed-35e7-e19e5dad1420> <http://www.wikidata.org/prop/statement/P1082> \"3334874000.0\"^^<http://www.w3.org/2001/XMLSchema#decimal> .\n",
      "15486\n",
      "<http://www.wikidata.org/entity/statement/Q2-9ab60ae8-4703-5135-247e-9d69d4ccad59> <http://wikiba.se/ontology#rank> <http://wikiba.se/ontology#NormalRank> .\n",
      "<http://www.wikidata.org/entity/statement/Q2-9a40deba-482f-2eed-35e7-e19e5dad1420> <http://www.wikidata.org/prop/statement/value/P1082> <http://www.wikidata.org/value/fc4746b58bf912e0a834c8579b0b4938> .\n",
      "15487\n",
      "<http://www.wikidata.org/entity/statement/Q2-9ab60ae8-4703-5135-247e-9d69d4ccad59> <http://www.w3.org/1999/02/22-rdf-syntax-ns#type> <http://wikiba.se/ontology#BestRank> .\n",
      "<http://www.wikidata.org/entity/statement/Q2-9ab60ae8-4703-5135-247e-9d69d4ccad59> <http://wikiba.se/ontology#rank> <http://wikiba.se/ontology#NormalRank> .\n",
      "15488\n",
      "<http://www.wikidata.org/entity/statement/Q2-9ab60ae8-4703-5135-247e-9d69d4ccad59> <http://www.wikidata.org/prop/statement/P1549> \"\\u0623\\u064E\\u0631\\u0652\\u0636\\u0650\\u064A\\u0651\"@ar .\n",
      "<http://www.wikidata.org/entity/statement/Q2-9ab60ae8-4703-5135-247e-9d69d4ccad59> <http://www.w3.org/1999/02/22-rdf-syntax-ns#type> <http://wikiba.se/ontology#BestRank> .\n",
      "15489\n",
      "<http://www.wikidata.org/entity/statement/Q2-9bbb058a-48ab-0a81-e88e-82bba6b2abe5> <http://wikiba.se/ontology#rank> <http://wikiba.se/ontology#PreferredRank> .\n",
      "<http://www.wikidata.org/entity/statement/Q2-9ab60ae8-4703-5135-247e-9d69d4ccad59> <http://www.wikidata.org/prop/statement/P1549> \"\\u0623\\u064E\\u0631\\u0652\\u0636\\u0650\\u064A\\u0651\"@ar .\n",
      "15490\n",
      "<http://www.wikidata.org/entity/statement/Q2-9bbb058a-48ab-0a81-e88e-82bba6b2abe5> <http://www.w3.org/1999/02/22-rdf-syntax-ns#type> <http://wikiba.se/ontology#BestRank> .\n",
      "<http://www.wikidata.org/entity/statement/Q2-9bbb058a-48ab-0a81-e88e-82bba6b2abe5> <http://wikiba.se/ontology#rank> <http://wikiba.se/ontology#PreferredRank> .\n",
      "15491\n",
      "<http://www.wikidata.org/entity/statement/Q2-9bbb058a-48ab-0a81-e88e-82bba6b2abe5> <http://www.w3.org/ns/prov#wasDerivedFrom> <http://www.wikidata.org/reference/b1c1ada0ce9e910249001fded34b1774150a4005> .\n",
      "<http://www.wikidata.org/entity/statement/Q2-9bbb058a-48ab-0a81-e88e-82bba6b2abe5> <http://www.w3.org/1999/02/22-rdf-syntax-ns#type> <http://wikiba.se/ontology#BestRank> .\n",
      "15492\n",
      "<http://www.wikidata.org/entity/statement/Q2-9bbb058a-48ab-0a81-e88e-82bba6b2abe5> <http://www.wikidata.org/prop/qualifier/P2044> \"-10994.0\"^^<http://www.w3.org/2001/XMLSchema#decimal> .\n",
      "<http://www.wikidata.org/entity/statement/Q2-9bbb058a-48ab-0a81-e88e-82bba6b2abe5> <http://www.w3.org/ns/prov#wasDerivedFrom> <http://www.wikidata.org/reference/b1c1ada0ce9e910249001fded34b1774150a4005> .\n",
      "15493\n",
      "<http://www.wikidata.org/entity/statement/Q2-9bbb058a-48ab-0a81-e88e-82bba6b2abe5> <http://www.wikidata.org/prop/qualifier/value-normalized/P2044> <http://www.wikidata.org/value/12f92fe9c19471904d4c854ef559736f> .\n",
      "<http://www.wikidata.org/entity/statement/Q2-9bbb058a-48ab-0a81-e88e-82bba6b2abe5> <http://www.wikidata.org/prop/qualifier/P2044> \"-10994.0\"^^<http://www.w3.org/2001/XMLSchema#decimal> .\n",
      "15494\n",
      "<http://www.wikidata.org/entity/statement/Q2-9bbb058a-48ab-0a81-e88e-82bba6b2abe5> <http://www.wikidata.org/prop/qualifier/value/P2044> <http://www.wikidata.org/value/12f92fe9c19471904d4c854ef559736f> .\n",
      "<http://www.wikidata.org/entity/statement/Q2-9bbb058a-48ab-0a81-e88e-82bba6b2abe5> <http://www.wikidata.org/prop/qualifier/value-normalized/P2044> <http://www.wikidata.org/value/12f92fe9c19471904d4c854ef559736f> .\n",
      "15495\n",
      "<http://www.wikidata.org/entity/statement/Q2-9bbb058a-48ab-0a81-e88e-82bba6b2abe5> <http://www.wikidata.org/prop/statement/P1589> <http://www.wikidata.org/entity/Q459173> .\n",
      "<http://www.wikidata.org/entity/statement/Q2-9bbb058a-48ab-0a81-e88e-82bba6b2abe5> <http://www.wikidata.org/prop/qualifier/value/P2044> <http://www.wikidata.org/value/12f92fe9c19471904d4c854ef559736f> .\n",
      "15496\n",
      "<http://www.wikidata.org/entity/statement/Q2-9d35afbc-4d7a-82ef-f412-3aa7a64ff80e> <http://wikiba.se/ontology#rank> <http://wikiba.se/ontology#NormalRank> .\n",
      "<http://www.wikidata.org/entity/statement/Q2-9bbb058a-48ab-0a81-e88e-82bba6b2abe5> <http://www.wikidata.org/prop/statement/P1589> <http://www.wikidata.org/entity/Q459173> .\n",
      "15497\n",
      "<http://www.wikidata.org/entity/statement/Q2-9d35afbc-4d7a-82ef-f412-3aa7a64ff80e> <http://www.w3.org/1999/02/22-rdf-syntax-ns#type> <http://wikiba.se/ontology#BestRank> .\n",
      "<http://www.wikidata.org/entity/statement/Q2-9d35afbc-4d7a-82ef-f412-3aa7a64ff80e> <http://wikiba.se/ontology#rank> <http://wikiba.se/ontology#NormalRank> .\n",
      "15498\n",
      "<http://www.wikidata.org/entity/statement/Q2-9d35afbc-4d7a-82ef-f412-3aa7a64ff80e> <http://www.wikidata.org/prop/statement/P527> <http://www.wikidata.org/entity/Q5107> .\n",
      "<http://www.wikidata.org/entity/statement/Q2-9d35afbc-4d7a-82ef-f412-3aa7a64ff80e> <http://www.w3.org/1999/02/22-rdf-syntax-ns#type> <http://wikiba.se/ontology#BestRank> .\n",
      "15499\n",
      "<http://www.wikidata.org/entity/statement/Q2-9da5f657-47f9-2ba7-4fb5-80f2236dc279> <http://wikiba.se/ontology#rank> <http://wikiba.se/ontology#NormalRank> .\n",
      "<http://www.wikidata.org/entity/statement/Q2-9d35afbc-4d7a-82ef-f412-3aa7a64ff80e> <http://www.wikidata.org/prop/statement/P527> <http://www.wikidata.org/entity/Q5107> .\n",
      "15500\n",
      "<http://www.wikidata.org/entity/statement/Q2-9da5f657-47f9-2ba7-4fb5-80f2236dc279> <http://www.w3.org/1999/02/22-rdf-syntax-ns#type> <http://wikiba.se/ontology#BestRank> .\n",
      "<http://www.wikidata.org/entity/statement/Q2-9da5f657-47f9-2ba7-4fb5-80f2236dc279> <http://wikiba.se/ontology#rank> <http://wikiba.se/ontology#NormalRank> .\n",
      "15501\n",
      "<http://www.wikidata.org/entity/statement/Q2-9da5f657-47f9-2ba7-4fb5-80f2236dc279> <http://www.w3.org/ns/prov#wasDerivedFrom> <http://www.wikidata.org/reference/81ae5bf22cca75b65632591db7f7e88c13f9022b> .\n",
      "<http://www.wikidata.org/entity/statement/Q2-9da5f657-47f9-2ba7-4fb5-80f2236dc279> <http://www.w3.org/1999/02/22-rdf-syntax-ns#type> <http://wikiba.se/ontology#BestRank> .\n",
      "15502\n",
      "<http://www.wikidata.org/entity/statement/Q2-9da5f657-47f9-2ba7-4fb5-80f2236dc279> <http://www.wikidata.org/prop/statement/P2067> \"5972.37\"^^<http://www.w3.org/2001/XMLSchema#decimal> .\n",
      "<http://www.wikidata.org/entity/statement/Q2-9da5f657-47f9-2ba7-4fb5-80f2236dc279> <http://www.w3.org/ns/prov#wasDerivedFrom> <http://www.wikidata.org/reference/81ae5bf22cca75b65632591db7f7e88c13f9022b> .\n",
      "15503\n",
      "<http://www.wikidata.org/entity/statement/Q2-9da5f657-47f9-2ba7-4fb5-80f2236dc279> <http://www.wikidata.org/prop/statement/value-normalized/P2067> <http://www.wikidata.org/value/e057aff7a5d3ca01bef029a409c9dcc4> .\n",
      "<http://www.wikidata.org/entity/statement/Q2-9da5f657-47f9-2ba7-4fb5-80f2236dc279> <http://www.wikidata.org/prop/statement/P2067> \"5972.37\"^^<http://www.w3.org/2001/XMLSchema#decimal> .\n",
      "15504\n",
      "<http://www.wikidata.org/entity/statement/Q2-9da5f657-47f9-2ba7-4fb5-80f2236dc279> <http://www.wikidata.org/prop/statement/value/P2067> <http://www.wikidata.org/value/209b8705f568802b4e096ae5f39341da> .\n",
      "<http://www.wikidata.org/entity/statement/Q2-9da5f657-47f9-2ba7-4fb5-80f2236dc279> <http://www.wikidata.org/prop/statement/value-normalized/P2067> <http://www.wikidata.org/value/e057aff7a5d3ca01bef029a409c9dcc4> .\n",
      "15505\n",
      "<http://www.wikidata.org/entity/statement/Q2-9dae4001-43c7-c2fb-743f-4f2296484637> <http://wikiba.se/ontology#rank> <http://wikiba.se/ontology#NormalRank> .\n",
      "<http://www.wikidata.org/entity/statement/Q2-9da5f657-47f9-2ba7-4fb5-80f2236dc279> <http://www.wikidata.org/prop/statement/value/P2067> <http://www.wikidata.org/value/209b8705f568802b4e096ae5f39341da> .\n",
      "15506\n",
      "<http://www.wikidata.org/entity/statement/Q2-9dae4001-43c7-c2fb-743f-4f2296484637> <http://www.w3.org/1999/02/22-rdf-syntax-ns#type> <http://wikiba.se/ontology#BestRank> .\n",
      "<http://www.wikidata.org/entity/statement/Q2-9dae4001-43c7-c2fb-743f-4f2296484637> <http://wikiba.se/ontology#rank> <http://wikiba.se/ontology#NormalRank> .\n",
      "15507\n",
      "<http://www.wikidata.org/entity/statement/Q2-9dae4001-43c7-c2fb-743f-4f2296484637> <http://www.w3.org/ns/prov#wasDerivedFrom> <http://www.wikidata.org/reference/ffff25d1c0c290f706f39ad2297844f11b49acb7> .\n",
      "<http://www.wikidata.org/entity/statement/Q2-9dae4001-43c7-c2fb-743f-4f2296484637> <http://www.w3.org/1999/02/22-rdf-syntax-ns#type> <http://wikiba.se/ontology#BestRank> .\n",
      "15508\n",
      "<http://www.wikidata.org/entity/statement/Q2-9dae4001-43c7-c2fb-743f-4f2296484637> <http://www.wikidata.org/prop/qualifier/P180> <http://www.wikidata.org/entity/Q15> .\n",
      "<http://www.wikidata.org/entity/statement/Q2-9dae4001-43c7-c2fb-743f-4f2296484637> <http://www.w3.org/ns/prov#wasDerivedFrom> <http://www.wikidata.org/reference/ffff25d1c0c290f706f39ad2297844f11b49acb7> .\n",
      "15509\n",
      "<http://www.wikidata.org/entity/statement/Q2-9dae4001-43c7-c2fb-743f-4f2296484637> <http://www.wikidata.org/prop/statement/P487> \"\\U0001F30D\" .\n",
      "<http://www.wikidata.org/entity/statement/Q2-9dae4001-43c7-c2fb-743f-4f2296484637> <http://www.wikidata.org/prop/qualifier/P180> <http://www.wikidata.org/entity/Q15> .\n",
      "15510\n",
      "<http://www.wikidata.org/entity/statement/Q2-9ea9e6e0-4e38-b712-9137-7cdf6128dfbb> <http://wikiba.se/ontology#rank> <http://wikiba.se/ontology#NormalRank> .\n",
      "<http://www.wikidata.org/entity/statement/Q2-9dae4001-43c7-c2fb-743f-4f2296484637> <http://www.wikidata.org/prop/statement/P487> \"\\U0001F30D\" .\n",
      "15511\n",
      "<http://www.wikidata.org/entity/statement/Q2-9ea9e6e0-4e38-b712-9137-7cdf6128dfbb> <http://www.w3.org/1999/02/22-rdf-syntax-ns#type> <http://wikiba.se/ontology#BestRank> .\n",
      "<http://www.wikidata.org/entity/statement/Q2-9ea9e6e0-4e38-b712-9137-7cdf6128dfbb> <http://wikiba.se/ontology#rank> <http://wikiba.se/ontology#NormalRank> .\n",
      "15512\n",
      "<http://www.wikidata.org/entity/statement/Q2-9ea9e6e0-4e38-b712-9137-7cdf6128dfbb> <http://www.wikidata.org/prop/statement/P461> <http://www.wikidata.org/entity/Q527> .\n",
      "<http://www.wikidata.org/entity/statement/Q2-9ea9e6e0-4e38-b712-9137-7cdf6128dfbb> <http://www.w3.org/1999/02/22-rdf-syntax-ns#type> <http://wikiba.se/ontology#BestRank> .\n",
      "15513\n",
      "<http://www.wikidata.org/entity/statement/Q2-A2F13BF8-F646-4E85-872E-35669E653281> <http://wikiba.se/ontology#rank> <http://wikiba.se/ontology#NormalRank> .\n",
      "<http://www.wikidata.org/entity/statement/Q2-9ea9e6e0-4e38-b712-9137-7cdf6128dfbb> <http://www.wikidata.org/prop/statement/P461> <http://www.wikidata.org/entity/Q527> .\n",
      "15514\n",
      "<http://www.wikidata.org/entity/statement/Q2-A2F13BF8-F646-4E85-872E-35669E653281> <http://www.w3.org/1999/02/22-rdf-syntax-ns#type> <http://wikiba.se/ontology#BestRank> .\n",
      "<http://www.wikidata.org/entity/statement/Q2-A2F13BF8-F646-4E85-872E-35669E653281> <http://wikiba.se/ontology#rank> <http://wikiba.se/ontology#NormalRank> .\n",
      "15515\n",
      "<http://www.wikidata.org/entity/statement/Q2-A2F13BF8-F646-4E85-872E-35669E653281> <http://www.wikidata.org/prop/qualifier/P4390> <http://www.wikidata.org/entity/Q39893449> .\n",
      "<http://www.wikidata.org/entity/statement/Q2-A2F13BF8-F646-4E85-872E-35669E653281> <http://www.w3.org/1999/02/22-rdf-syntax-ns#type> <http://wikiba.se/ontology#BestRank> .\n",
      "15516\n",
      "<http://www.wikidata.org/entity/statement/Q2-A2F13BF8-F646-4E85-872E-35669E653281> <http://www.wikidata.org/prop/statement/P4342> \"Jorden\" .\n",
      "<http://www.wikidata.org/entity/statement/Q2-A2F13BF8-F646-4E85-872E-35669E653281> <http://www.wikidata.org/prop/qualifier/P4390> <http://www.wikidata.org/entity/Q39893449> .\n",
      "15517\n",
      "<http://www.wikidata.org/entity/statement/Q2-A3FFA146-2EDC-4404-AEBC-A7308D2A48A1> <http://wikiba.se/ontology#rank> <http://wikiba.se/ontology#NormalRank> .\n",
      "<http://www.wikidata.org/entity/statement/Q2-A2F13BF8-F646-4E85-872E-35669E653281> <http://www.wikidata.org/prop/statement/P4342> \"Jorden\" .\n",
      "15518\n",
      "<http://www.wikidata.org/entity/statement/Q2-A3FFA146-2EDC-4404-AEBC-A7308D2A48A1> <http://www.w3.org/1999/02/22-rdf-syntax-ns#type> <http://wikiba.se/ontology#BestRank> .\n",
      "<http://www.wikidata.org/entity/statement/Q2-A3FFA146-2EDC-4404-AEBC-A7308D2A48A1> <http://wikiba.se/ontology#rank> <http://wikiba.se/ontology#NormalRank> .\n",
      "15519\n",
      "<http://www.wikidata.org/entity/statement/Q2-A3FFA146-2EDC-4404-AEBC-A7308D2A48A1> <http://www.w3.org/ns/prov#wasDerivedFrom> <http://www.wikidata.org/reference/6044cf56c5e78ae3c2c300ef3453362f04632f81> .\n",
      "<http://www.wikidata.org/entity/statement/Q2-A3FFA146-2EDC-4404-AEBC-A7308D2A48A1> <http://www.w3.org/1999/02/22-rdf-syntax-ns#type> <http://wikiba.se/ontology#BestRank> .\n",
      "15520\n",
      "<http://www.wikidata.org/entity/statement/Q2-A3FFA146-2EDC-4404-AEBC-A7308D2A48A1> <http://www.wikidata.org/prop/qualifier/P459> <http://www.wikidata.org/entity/Q47005776> .\n",
      "<http://www.wikidata.org/entity/statement/Q2-A3FFA146-2EDC-4404-AEBC-A7308D2A48A1> <http://www.w3.org/ns/prov#wasDerivedFrom> <http://www.wikidata.org/reference/6044cf56c5e78ae3c2c300ef3453362f04632f81> .\n",
      "15521\n",
      "<http://www.wikidata.org/entity/statement/Q2-A3FFA146-2EDC-4404-AEBC-A7308D2A48A1> <http://www.wikidata.org/prop/qualifier/P585> \"2014-01-01T00:00:00+00:00\"^^<http://www.w3.org/2001/XMLSchema#dateTime> .\n",
      "<http://www.wikidata.org/entity/statement/Q2-A3FFA146-2EDC-4404-AEBC-A7308D2A48A1> <http://www.wikidata.org/prop/qualifier/P459> <http://www.wikidata.org/entity/Q47005776> .\n",
      "15522\n",
      "<http://www.wikidata.org/entity/statement/Q2-A3FFA146-2EDC-4404-AEBC-A7308D2A48A1> <http://www.wikidata.org/prop/qualifier/value/P585> <http://www.wikidata.org/value/c91277cf69500270615dc91eeba92a40> .\n",
      "<http://www.wikidata.org/entity/statement/Q2-A3FFA146-2EDC-4404-AEBC-A7308D2A48A1> <http://www.wikidata.org/prop/qualifier/P585> \"2014-01-01T00:00:00+00:00\"^^<http://www.w3.org/2001/XMLSchema#dateTime> .\n",
      "15523\n",
      "<http://www.wikidata.org/entity/statement/Q2-A3FFA146-2EDC-4404-AEBC-A7308D2A48A1> <http://www.wikidata.org/prop/statement/P2573> \"263000000.0\"^^<http://www.w3.org/2001/XMLSchema#decimal> .\n",
      "<http://www.wikidata.org/entity/statement/Q2-A3FFA146-2EDC-4404-AEBC-A7308D2A48A1> <http://www.wikidata.org/prop/qualifier/value/P585> <http://www.wikidata.org/value/c91277cf69500270615dc91eeba92a40> .\n",
      "15524\n",
      "<http://www.wikidata.org/entity/statement/Q2-A3FFA146-2EDC-4404-AEBC-A7308D2A48A1> <http://www.wikidata.org/prop/statement/value/P2573> <http://www.wikidata.org/value/1f87c1fa2deb0caef3df51f9af67253d> .\n",
      "<http://www.wikidata.org/entity/statement/Q2-A3FFA146-2EDC-4404-AEBC-A7308D2A48A1> <http://www.wikidata.org/prop/statement/P2573> \"263000000.0\"^^<http://www.w3.org/2001/XMLSchema#decimal> .\n",
      "15525\n",
      "<http://www.wikidata.org/entity/statement/Q2-A75D1743-4138-4AD7-8D7F-0A1888DF6831> <http://wikiba.se/ontology#rank> <http://wikiba.se/ontology#NormalRank> .\n",
      "<http://www.wikidata.org/entity/statement/Q2-A3FFA146-2EDC-4404-AEBC-A7308D2A48A1> <http://www.wikidata.org/prop/statement/value/P2573> <http://www.wikidata.org/value/1f87c1fa2deb0caef3df51f9af67253d> .\n",
      "15526\n",
      "<http://www.wikidata.org/entity/statement/Q2-A75D1743-4138-4AD7-8D7F-0A1888DF6831> <http://www.w3.org/1999/02/22-rdf-syntax-ns#type> <http://wikiba.se/ontology#BestRank> .\n",
      "<http://www.wikidata.org/entity/statement/Q2-A75D1743-4138-4AD7-8D7F-0A1888DF6831> <http://wikiba.se/ontology#rank> <http://wikiba.se/ontology#NormalRank> .\n",
      "15527\n",
      "<http://www.wikidata.org/entity/statement/Q2-A75D1743-4138-4AD7-8D7F-0A1888DF6831> <http://www.w3.org/ns/prov#wasDerivedFrom> <http://www.wikidata.org/reference/b4b9574f1aeb4c447b890315f5478691e8377069> .\n",
      "<http://www.wikidata.org/entity/statement/Q2-A75D1743-4138-4AD7-8D7F-0A1888DF6831> <http://www.w3.org/1999/02/22-rdf-syntax-ns#type> <http://wikiba.se/ontology#BestRank> .\n",
      "15528\n",
      "<http://www.wikidata.org/entity/statement/Q2-A75D1743-4138-4AD7-8D7F-0A1888DF6831> <http://www.wikidata.org/prop/qualifier/P407> <http://www.wikidata.org/entity/Q1321> .\n",
      "<http://www.wikidata.org/entity/statement/Q2-A75D1743-4138-4AD7-8D7F-0A1888DF6831> <http://www.w3.org/ns/prov#wasDerivedFrom> <http://www.wikidata.org/reference/b4b9574f1aeb4c447b890315f5478691e8377069> .\n",
      "15529\n",
      "<http://www.wikidata.org/entity/statement/Q2-A75D1743-4138-4AD7-8D7F-0A1888DF6831> <http://www.wikidata.org/prop/statement/P989> <http://commons.wikimedia.org/wiki/Special:FilePath/Es-tierra%201of4-article.ogg> .\n",
      "<http://www.wikidata.org/entity/statement/Q2-A75D1743-4138-4AD7-8D7F-0A1888DF6831> <http://www.wikidata.org/prop/qualifier/P407> <http://www.wikidata.org/entity/Q1321> .\n",
      "15530\n",
      "<http://www.wikidata.org/entity/statement/Q2-AB79D65F-8727-4CC3-AA4D-E0DC1BBFCE6C> <http://wikiba.se/ontology#rank> <http://wikiba.se/ontology#NormalRank> .\n",
      "<http://www.wikidata.org/entity/statement/Q2-A75D1743-4138-4AD7-8D7F-0A1888DF6831> <http://www.wikidata.org/prop/statement/P989> <http://commons.wikimedia.org/wiki/Special:FilePath/Es-tierra%201of4-article.ogg> .\n",
      "15531\n",
      "<http://www.wikidata.org/entity/statement/Q2-AB79D65F-8727-4CC3-AA4D-E0DC1BBFCE6C> <http://www.w3.org/1999/02/22-rdf-syntax-ns#type> <http://wikiba.se/ontology#BestRank> .\n",
      "<http://www.wikidata.org/entity/statement/Q2-AB79D65F-8727-4CC3-AA4D-E0DC1BBFCE6C> <http://wikiba.se/ontology#rank> <http://wikiba.se/ontology#NormalRank> .\n",
      "15532\n",
      "<http://www.wikidata.org/entity/statement/Q2-AB79D65F-8727-4CC3-AA4D-E0DC1BBFCE6C> <http://www.w3.org/ns/prov#wasDerivedFrom> <http://www.wikidata.org/reference/5d6992bb916bd015f0c42659d6fdbab71dff8a92> .\n",
      "<http://www.wikidata.org/entity/statement/Q2-AB79D65F-8727-4CC3-AA4D-E0DC1BBFCE6C> <http://www.w3.org/1999/02/22-rdf-syntax-ns#type> <http://wikiba.se/ontology#BestRank> .\n",
      "15533\n",
      "<http://www.wikidata.org/entity/statement/Q2-AB79D65F-8727-4CC3-AA4D-E0DC1BBFCE6C> <http://www.wikidata.org/prop/statement/P5076> \"RD-05-01501\" .\n",
      "<http://www.wikidata.org/entity/statement/Q2-AB79D65F-8727-4CC3-AA4D-E0DC1BBFCE6C> <http://www.w3.org/ns/prov#wasDerivedFrom> <http://www.wikidata.org/reference/5d6992bb916bd015f0c42659d6fdbab71dff8a92> .\n",
      "15534\n",
      "<http://www.wikidata.org/entity/statement/Q2-AE45A2B1-E730-4026-A88F-FC7E306E6BCC> <http://wikiba.se/ontology#rank> <http://wikiba.se/ontology#NormalRank> .\n",
      "<http://www.wikidata.org/entity/statement/Q2-AB79D65F-8727-4CC3-AA4D-E0DC1BBFCE6C> <http://www.wikidata.org/prop/statement/P5076> \"RD-05-01501\" .\n",
      "15535\n",
      "<http://www.wikidata.org/entity/statement/Q2-AE45A2B1-E730-4026-A88F-FC7E306E6BCC> <http://www.w3.org/1999/02/22-rdf-syntax-ns#type> <http://wikiba.se/ontology#BestRank> .\n",
      "<http://www.wikidata.org/entity/statement/Q2-AE45A2B1-E730-4026-A88F-FC7E306E6BCC> <http://wikiba.se/ontology#rank> <http://wikiba.se/ontology#NormalRank> .\n",
      "15536\n",
      "<http://www.wikidata.org/entity/statement/Q2-AE45A2B1-E730-4026-A88F-FC7E306E6BCC> <http://www.wikidata.org/prop/statement/P5357> \"terra\" .\n",
      "<http://www.wikidata.org/entity/statement/Q2-AE45A2B1-E730-4026-A88F-FC7E306E6BCC> <http://www.w3.org/1999/02/22-rdf-syntax-ns#type> <http://wikiba.se/ontology#BestRank> .\n",
      "15537\n",
      "<http://www.wikidata.org/entity/statement/Q2-AFA3FFD1-C80B-419C-9E9E-C6F61D9FBEB5> <http://wikiba.se/ontology#rank> <http://wikiba.se/ontology#NormalRank> .\n",
      "<http://www.wikidata.org/entity/statement/Q2-AE45A2B1-E730-4026-A88F-FC7E306E6BCC> <http://www.wikidata.org/prop/statement/P5357> \"terra\" .\n",
      "15538\n",
      "<http://www.wikidata.org/entity/statement/Q2-AFA3FFD1-C80B-419C-9E9E-C6F61D9FBEB5> <http://www.w3.org/1999/02/22-rdf-syntax-ns#type> <http://wikiba.se/ontology#BestRank> .\n",
      "<http://www.wikidata.org/entity/statement/Q2-AFA3FFD1-C80B-419C-9E9E-C6F61D9FBEB5> <http://wikiba.se/ontology#rank> <http://wikiba.se/ontology#NormalRank> .\n",
      "15539\n",
      "<http://www.wikidata.org/entity/statement/Q2-AFA3FFD1-C80B-419C-9E9E-C6F61D9FBEB5> <http://www.w3.org/ns/prov#wasDerivedFrom> <http://www.wikidata.org/reference/5b888131d331e8521e8d74d66cd5285efd92cd07> .\n",
      "<http://www.wikidata.org/entity/statement/Q2-AFA3FFD1-C80B-419C-9E9E-C6F61D9FBEB5> <http://www.w3.org/1999/02/22-rdf-syntax-ns#type> <http://wikiba.se/ontology#BestRank> .\n",
      "15540\n",
      "<http://www.wikidata.org/entity/statement/Q2-AFA3FFD1-C80B-419C-9E9E-C6F61D9FBEB5> <http://www.wikidata.org/prop/qualifier/P459> <http://www.wikidata.org/entity/Q47005776> .\n",
      "<http://www.wikidata.org/entity/statement/Q2-AFA3FFD1-C80B-419C-9E9E-C6F61D9FBEB5> <http://www.w3.org/ns/prov#wasDerivedFrom> <http://www.wikidata.org/reference/5b888131d331e8521e8d74d66cd5285efd92cd07> .\n",
      "15541\n",
      "<http://www.wikidata.org/entity/statement/Q2-AFA3FFD1-C80B-419C-9E9E-C6F61D9FBEB5> <http://www.wikidata.org/prop/qualifier/P585> \"2004-01-01T00:00:00+00:00\"^^<http://www.w3.org/2001/XMLSchema#dateTime> .\n",
      "<http://www.wikidata.org/entity/statement/Q2-AFA3FFD1-C80B-419C-9E9E-C6F61D9FBEB5> <http://www.wikidata.org/prop/qualifier/P459> <http://www.wikidata.org/entity/Q47005776> .\n",
      "15542\n",
      "<http://www.wikidata.org/entity/statement/Q2-AFA3FFD1-C80B-419C-9E9E-C6F61D9FBEB5> <http://www.wikidata.org/prop/qualifier/value/P585> <http://www.wikidata.org/value/849f00455434dc418fb4287a4f2b7638> .\n",
      "<http://www.wikidata.org/entity/statement/Q2-AFA3FFD1-C80B-419C-9E9E-C6F61D9FBEB5> <http://www.wikidata.org/prop/qualifier/P585> \"2004-01-01T00:00:00+00:00\"^^<http://www.w3.org/2001/XMLSchema#dateTime> .\n",
      "15543\n",
      "<http://www.wikidata.org/entity/statement/Q2-AFA3FFD1-C80B-419C-9E9E-C6F61D9FBEB5> <http://www.wikidata.org/prop/statement/P2573> \"336000000.0\"^^<http://www.w3.org/2001/XMLSchema#decimal> .\n",
      "<http://www.wikidata.org/entity/statement/Q2-AFA3FFD1-C80B-419C-9E9E-C6F61D9FBEB5> <http://www.wikidata.org/prop/qualifier/value/P585> <http://www.wikidata.org/value/849f00455434dc418fb4287a4f2b7638> .\n",
      "15544\n",
      "<http://www.wikidata.org/entity/statement/Q2-AFA3FFD1-C80B-419C-9E9E-C6F61D9FBEB5> <http://www.wikidata.org/prop/statement/value/P2573> <http://www.wikidata.org/value/ee2ed2546412fab940f2aa5df079d544> .\n",
      "<http://www.wikidata.org/entity/statement/Q2-AFA3FFD1-C80B-419C-9E9E-C6F61D9FBEB5> <http://www.wikidata.org/prop/statement/P2573> \"336000000.0\"^^<http://www.w3.org/2001/XMLSchema#decimal> .\n",
      "15545\n",
      "<http://www.wikidata.org/entity/statement/Q2-B0F3D26B-9ECD-4109-8682-60B66BEA7B76> <http://wikiba.se/ontology#rank> <http://wikiba.se/ontology#NormalRank> .\n",
      "<http://www.wikidata.org/entity/statement/Q2-AFA3FFD1-C80B-419C-9E9E-C6F61D9FBEB5> <http://www.wikidata.org/prop/statement/value/P2573> <http://www.wikidata.org/value/ee2ed2546412fab940f2aa5df079d544> .\n",
      "15546\n",
      "<http://www.wikidata.org/entity/statement/Q2-B0F3D26B-9ECD-4109-8682-60B66BEA7B76> <http://www.w3.org/1999/02/22-rdf-syntax-ns#type> <http://wikiba.se/ontology#BestRank> .\n",
      "<http://www.wikidata.org/entity/statement/Q2-B0F3D26B-9ECD-4109-8682-60B66BEA7B76> <http://wikiba.se/ontology#rank> <http://wikiba.se/ontology#NormalRank> .\n",
      "15547\n",
      "<http://www.wikidata.org/entity/statement/Q2-B0F3D26B-9ECD-4109-8682-60B66BEA7B76> <http://www.w3.org/ns/prov#wasDerivedFrom> <http://www.wikidata.org/reference/fcb9e6e9a29e2f1c8a4ff4c950dcf11ac6667a52> .\n",
      "<http://www.wikidata.org/entity/statement/Q2-B0F3D26B-9ECD-4109-8682-60B66BEA7B76> <http://www.w3.org/1999/02/22-rdf-syntax-ns#type> <http://wikiba.se/ontology#BestRank> .\n",
      "15548\n",
      "<http://www.wikidata.org/entity/statement/Q2-B0F3D26B-9ECD-4109-8682-60B66BEA7B76> <http://www.wikidata.org/prop/statement/P398> <http://www.wikidata.org/entity/Q2513> .\n",
      "<http://www.wikidata.org/entity/statement/Q2-B0F3D26B-9ECD-4109-8682-60B66BEA7B76> <http://www.w3.org/ns/prov#wasDerivedFrom> <http://www.wikidata.org/reference/fcb9e6e9a29e2f1c8a4ff4c950dcf11ac6667a52> .\n",
      "15549\n",
      "<http://www.wikidata.org/entity/statement/Q2-B17DDC6B-2CE0-4518-ACD4-A4C1AFF5CE54> <http://wikiba.se/ontology#rank> <http://wikiba.se/ontology#NormalRank> .\n",
      "<http://www.wikidata.org/entity/statement/Q2-B0F3D26B-9ECD-4109-8682-60B66BEA7B76> <http://www.wikidata.org/prop/statement/P398> <http://www.wikidata.org/entity/Q2513> .\n",
      "15550\n",
      "<http://www.wikidata.org/entity/statement/Q2-B17DDC6B-2CE0-4518-ACD4-A4C1AFF5CE54> <http://www.w3.org/1999/02/22-rdf-syntax-ns#type> <http://wikiba.se/ontology#BestRank> .\n",
      "<http://www.wikidata.org/entity/statement/Q2-B17DDC6B-2CE0-4518-ACD4-A4C1AFF5CE54> <http://wikiba.se/ontology#rank> <http://wikiba.se/ontology#NormalRank> .\n",
      "15551\n",
      "<http://www.wikidata.org/entity/statement/Q2-B17DDC6B-2CE0-4518-ACD4-A4C1AFF5CE54> <http://www.wikidata.org/prop/statement/P2579> <http://www.wikidata.org/entity/Q1069> .\n",
      "<http://www.wikidata.org/entity/statement/Q2-B17DDC6B-2CE0-4518-ACD4-A4C1AFF5CE54> <http://www.w3.org/1999/02/22-rdf-syntax-ns#type> <http://wikiba.se/ontology#BestRank> .\n",
      "15552\n",
      "<http://www.wikidata.org/entity/statement/Q2-B2785FBD-C698-4897-B622-D3861D13DFD2> <http://wikiba.se/ontology#rank> <http://wikiba.se/ontology#NormalRank> .\n",
      "<http://www.wikidata.org/entity/statement/Q2-B17DDC6B-2CE0-4518-ACD4-A4C1AFF5CE54> <http://www.wikidata.org/prop/statement/P2579> <http://www.wikidata.org/entity/Q1069> .\n",
      "15553\n",
      "<http://www.wikidata.org/entity/statement/Q2-B2785FBD-C698-4897-B622-D3861D13DFD2> <http://www.w3.org/1999/02/22-rdf-syntax-ns#type> <http://wikiba.se/ontology#BestRank> .\n",
      "<http://www.wikidata.org/entity/statement/Q2-B2785FBD-C698-4897-B622-D3861D13DFD2> <http://wikiba.se/ontology#rank> <http://wikiba.se/ontology#NormalRank> .\n",
      "15554\n",
      "<http://www.wikidata.org/entity/statement/Q2-B2785FBD-C698-4897-B622-D3861D13DFD2> <http://www.w3.org/ns/prov#wasDerivedFrom> <http://www.wikidata.org/reference/5b888131d331e8521e8d74d66cd5285efd92cd07> .\n",
      "<http://www.wikidata.org/entity/statement/Q2-B2785FBD-C698-4897-B622-D3861D13DFD2> <http://www.w3.org/1999/02/22-rdf-syntax-ns#type> <http://wikiba.se/ontology#BestRank> .\n",
      "15555\n",
      "<http://www.wikidata.org/entity/statement/Q2-B2785FBD-C698-4897-B622-D3861D13DFD2> <http://www.wikidata.org/prop/qualifier/P459> <http://www.wikidata.org/entity/Q47005776> .\n",
      "<http://www.wikidata.org/entity/statement/Q2-B2785FBD-C698-4897-B622-D3861D13DFD2> <http://www.w3.org/ns/prov#wasDerivedFrom> <http://www.wikidata.org/reference/5b888131d331e8521e8d74d66cd5285efd92cd07> .\n",
      "15556\n",
      "<http://www.wikidata.org/entity/statement/Q2-B2785FBD-C698-4897-B622-D3861D13DFD2> <http://www.wikidata.org/prop/qualifier/P585> \"2005-01-01T00:00:00+00:00\"^^<http://www.w3.org/2001/XMLSchema#dateTime> .\n",
      "<http://www.wikidata.org/entity/statement/Q2-B2785FBD-C698-4897-B622-D3861D13DFD2> <http://www.wikidata.org/prop/qualifier/P459> <http://www.wikidata.org/entity/Q47005776> .\n",
      "15557\n",
      "<http://www.wikidata.org/entity/statement/Q2-B2785FBD-C698-4897-B622-D3861D13DFD2> <http://www.wikidata.org/prop/qualifier/value/P585> <http://www.wikidata.org/value/1787cce2e37eae1c7c8cef5bef90f0ba> .\n",
      "<http://www.wikidata.org/entity/statement/Q2-B2785FBD-C698-4897-B622-D3861D13DFD2> <http://www.wikidata.org/prop/qualifier/P585> \"2005-01-01T00:00:00+00:00\"^^<http://www.w3.org/2001/XMLSchema#dateTime> .\n",
      "15558\n",
      "<http://www.wikidata.org/entity/statement/Q2-B2785FBD-C698-4897-B622-D3861D13DFD2> <http://www.wikidata.org/prop/statement/P2573> \"333000000.0\"^^<http://www.w3.org/2001/XMLSchema#decimal> .\n",
      "<http://www.wikidata.org/entity/statement/Q2-B2785FBD-C698-4897-B622-D3861D13DFD2> <http://www.wikidata.org/prop/qualifier/value/P585> <http://www.wikidata.org/value/1787cce2e37eae1c7c8cef5bef90f0ba> .\n",
      "15559\n",
      "<http://www.wikidata.org/entity/statement/Q2-B2785FBD-C698-4897-B622-D3861D13DFD2> <http://www.wikidata.org/prop/statement/value/P2573> <http://www.wikidata.org/value/cbc4b26422274f9cb7683d8ea2995481> .\n",
      "<http://www.wikidata.org/entity/statement/Q2-B2785FBD-C698-4897-B622-D3861D13DFD2> <http://www.wikidata.org/prop/statement/P2573> \"333000000.0\"^^<http://www.w3.org/2001/XMLSchema#decimal> .\n",
      "15560\n",
      "<http://www.wikidata.org/entity/statement/Q2-B89BC240-2DE8-43A5-A6C1-2A04F7E96868> <http://wikiba.se/ontology#rank> <http://wikiba.se/ontology#NormalRank> .\n",
      "<http://www.wikidata.org/entity/statement/Q2-B2785FBD-C698-4897-B622-D3861D13DFD2> <http://www.wikidata.org/prop/statement/value/P2573> <http://www.wikidata.org/value/cbc4b26422274f9cb7683d8ea2995481> .\n",
      "15561\n",
      "<http://www.wikidata.org/entity/statement/Q2-B89BC240-2DE8-43A5-A6C1-2A04F7E96868> <http://www.w3.org/1999/02/22-rdf-syntax-ns#type> <http://wikiba.se/ontology#BestRank> .\n",
      "<http://www.wikidata.org/entity/statement/Q2-B89BC240-2DE8-43A5-A6C1-2A04F7E96868> <http://wikiba.se/ontology#rank> <http://wikiba.se/ontology#NormalRank> .\n",
      "15562\n",
      "<http://www.wikidata.org/entity/statement/Q2-B89BC240-2DE8-43A5-A6C1-2A04F7E96868> <http://www.w3.org/ns/prov#wasDerivedFrom> <http://www.wikidata.org/reference/5b888131d331e8521e8d74d66cd5285efd92cd07> .\n",
      "<http://www.wikidata.org/entity/statement/Q2-B89BC240-2DE8-43A5-A6C1-2A04F7E96868> <http://www.w3.org/1999/02/22-rdf-syntax-ns#type> <http://wikiba.se/ontology#BestRank> .\n",
      "15563\n",
      "<http://www.wikidata.org/entity/statement/Q2-B89BC240-2DE8-43A5-A6C1-2A04F7E96868> <http://www.wikidata.org/prop/qualifier/P459> <http://www.wikidata.org/entity/Q47005776> .\n",
      "<http://www.wikidata.org/entity/statement/Q2-B89BC240-2DE8-43A5-A6C1-2A04F7E96868> <http://www.w3.org/ns/prov#wasDerivedFrom> <http://www.wikidata.org/reference/5b888131d331e8521e8d74d66cd5285efd92cd07> .\n",
      "15564\n",
      "<http://www.wikidata.org/entity/statement/Q2-B89BC240-2DE8-43A5-A6C1-2A04F7E96868> <http://www.wikidata.org/prop/qualifier/P585> \"2011-01-01T00:00:00+00:00\"^^<http://www.w3.org/2001/XMLSchema#dateTime> .\n",
      "<http://www.wikidata.org/entity/statement/Q2-B89BC240-2DE8-43A5-A6C1-2A04F7E96868> <http://www.wikidata.org/prop/qualifier/P459> <http://www.wikidata.org/entity/Q47005776> .\n",
      "15565\n",
      "<http://www.wikidata.org/entity/statement/Q2-B89BC240-2DE8-43A5-A6C1-2A04F7E96868> <http://www.wikidata.org/prop/qualifier/value/P585> <http://www.wikidata.org/value/dafb9cf711b15afe91ec0aa7158e57a6> .\n",
      "<http://www.wikidata.org/entity/statement/Q2-B89BC240-2DE8-43A5-A6C1-2A04F7E96868> <http://www.wikidata.org/prop/qualifier/P585> \"2011-01-01T00:00:00+00:00\"^^<http://www.w3.org/2001/XMLSchema#dateTime> .\n",
      "15566\n",
      "<http://www.wikidata.org/entity/statement/Q2-B89BC240-2DE8-43A5-A6C1-2A04F7E96868> <http://www.wikidata.org/prop/statement/P2573> \"274000000.0\"^^<http://www.w3.org/2001/XMLSchema#decimal> .\n",
      "<http://www.wikidata.org/entity/statement/Q2-B89BC240-2DE8-43A5-A6C1-2A04F7E96868> <http://www.wikidata.org/prop/qualifier/value/P585> <http://www.wikidata.org/value/dafb9cf711b15afe91ec0aa7158e57a6> .\n",
      "15567\n",
      "<http://www.wikidata.org/entity/statement/Q2-B89BC240-2DE8-43A5-A6C1-2A04F7E96868> <http://www.wikidata.org/prop/statement/value/P2573> <http://www.wikidata.org/value/4350e1fcf53ee52526e22d80049190f1> .\n",
      "<http://www.wikidata.org/entity/statement/Q2-B89BC240-2DE8-43A5-A6C1-2A04F7E96868> <http://www.wikidata.org/prop/statement/P2573> \"274000000.0\"^^<http://www.w3.org/2001/XMLSchema#decimal> .\n",
      "15568\n",
      "<http://www.wikidata.org/entity/statement/Q2-B8ABD969-8B56-453E-813E-BA837EBD2BA5> <http://wikiba.se/ontology#rank> <http://wikiba.se/ontology#NormalRank> .\n",
      "<http://www.wikidata.org/entity/statement/Q2-B89BC240-2DE8-43A5-A6C1-2A04F7E96868> <http://www.wikidata.org/prop/statement/value/P2573> <http://www.wikidata.org/value/4350e1fcf53ee52526e22d80049190f1> .\n",
      "15569\n",
      "<http://www.wikidata.org/entity/statement/Q2-B8ABD969-8B56-453E-813E-BA837EBD2BA5> <http://www.w3.org/1999/02/22-rdf-syntax-ns#type> <http://wikiba.se/ontology#BestRank> .\n",
      "<http://www.wikidata.org/entity/statement/Q2-B8ABD969-8B56-453E-813E-BA837EBD2BA5> <http://wikiba.se/ontology#rank> <http://wikiba.se/ontology#NormalRank> .\n",
      "15570\n",
      "<http://www.wikidata.org/entity/statement/Q2-B8ABD969-8B56-453E-813E-BA837EBD2BA5> <http://www.w3.org/ns/prov#wasDerivedFrom> <http://www.wikidata.org/reference/5b888131d331e8521e8d74d66cd5285efd92cd07> .\n",
      "<http://www.wikidata.org/entity/statement/Q2-B8ABD969-8B56-453E-813E-BA837EBD2BA5> <http://www.w3.org/1999/02/22-rdf-syntax-ns#type> <http://wikiba.se/ontology#BestRank> .\n",
      "15571\n",
      "<http://www.wikidata.org/entity/statement/Q2-B8ABD969-8B56-453E-813E-BA837EBD2BA5> <http://www.wikidata.org/prop/qualifier/P585> \"2013-01-01T00:00:00+00:00\"^^<http://www.w3.org/2001/XMLSchema#dateTime> .\n",
      "<http://www.wikidata.org/entity/statement/Q2-B8ABD969-8B56-453E-813E-BA837EBD2BA5> <http://www.w3.org/ns/prov#wasDerivedFrom> <http://www.wikidata.org/reference/5b888131d331e8521e8d74d66cd5285efd92cd07> .\n",
      "15572\n",
      "<http://www.wikidata.org/entity/statement/Q2-B8ABD969-8B56-453E-813E-BA837EBD2BA5> <http://www.wikidata.org/prop/qualifier/value/P585> <http://www.wikidata.org/value/e8f0787e44ff9dd43e5b4af2e7fe2b10> .\n",
      "<http://www.wikidata.org/entity/statement/Q2-B8ABD969-8B56-453E-813E-BA837EBD2BA5> <http://www.wikidata.org/prop/qualifier/P585> \"2013-01-01T00:00:00+00:00\"^^<http://www.w3.org/2001/XMLSchema#dateTime> .\n",
      "15573\n",
      "<http://www.wikidata.org/entity/statement/Q2-B8ABD969-8B56-453E-813E-BA837EBD2BA5> <http://www.wikidata.org/prop/statement/P2573> \"265000000.0\"^^<http://www.w3.org/2001/XMLSchema#decimal> .\n",
      "<http://www.wikidata.org/entity/statement/Q2-B8ABD969-8B56-453E-813E-BA837EBD2BA5> <http://www.wikidata.org/prop/qualifier/value/P585> <http://www.wikidata.org/value/e8f0787e44ff9dd43e5b4af2e7fe2b10> .\n",
      "15574\n",
      "<http://www.wikidata.org/entity/statement/Q2-B8ABD969-8B56-453E-813E-BA837EBD2BA5> <http://www.wikidata.org/prop/statement/value/P2573> <http://www.wikidata.org/value/955070cc2dfb9aaebb393958dec56c6d> .\n",
      "<http://www.wikidata.org/entity/statement/Q2-B8ABD969-8B56-453E-813E-BA837EBD2BA5> <http://www.wikidata.org/prop/statement/P2573> \"265000000.0\"^^<http://www.w3.org/2001/XMLSchema#decimal> .\n",
      "15575\n",
      "<http://www.wikidata.org/entity/statement/Q2-B9D096F6-776B-41DC-AE1D-895C2638C64D> <http://wikiba.se/ontology#rank> <http://wikiba.se/ontology#NormalRank> .\n",
      "<http://www.wikidata.org/entity/statement/Q2-B8ABD969-8B56-453E-813E-BA837EBD2BA5> <http://www.wikidata.org/prop/statement/value/P2573> <http://www.wikidata.org/value/955070cc2dfb9aaebb393958dec56c6d> .\n",
      "15576\n",
      "<http://www.wikidata.org/entity/statement/Q2-B9D096F6-776B-41DC-AE1D-895C2638C64D> <http://www.w3.org/1999/02/22-rdf-syntax-ns#type> <http://wikiba.se/ontology#BestRank> .\n",
      "<http://www.wikidata.org/entity/statement/Q2-B9D096F6-776B-41DC-AE1D-895C2638C64D> <http://wikiba.se/ontology#rank> <http://wikiba.se/ontology#NormalRank> .\n",
      "15577\n",
      "<http://www.wikidata.org/entity/statement/Q2-B9D096F6-776B-41DC-AE1D-895C2638C64D> <http://www.w3.org/ns/prov#wasDerivedFrom> <http://www.wikidata.org/reference/5b888131d331e8521e8d74d66cd5285efd92cd07> .\n",
      "<http://www.wikidata.org/entity/statement/Q2-B9D096F6-776B-41DC-AE1D-895C2638C64D> <http://www.w3.org/1999/02/22-rdf-syntax-ns#type> <http://wikiba.se/ontology#BestRank> .\n",
      "15578\n",
      "<http://www.wikidata.org/entity/statement/Q2-B9D096F6-776B-41DC-AE1D-895C2638C64D> <http://www.wikidata.org/prop/qualifier/P459> <http://www.wikidata.org/entity/Q47005776> .\n",
      "<http://www.wikidata.org/entity/statement/Q2-B9D096F6-776B-41DC-AE1D-895C2638C64D> <http://www.w3.org/ns/prov#wasDerivedFrom> <http://www.wikidata.org/reference/5b888131d331e8521e8d74d66cd5285efd92cd07> .\n",
      "15579\n",
      "<http://www.wikidata.org/entity/statement/Q2-B9D096F6-776B-41DC-AE1D-895C2638C64D> <http://www.wikidata.org/prop/qualifier/P585> \"2012-01-01T00:00:00+00:00\"^^<http://www.w3.org/2001/XMLSchema#dateTime> .\n",
      "<http://www.wikidata.org/entity/statement/Q2-B9D096F6-776B-41DC-AE1D-895C2638C64D> <http://www.wikidata.org/prop/qualifier/P459> <http://www.wikidata.org/entity/Q47005776> .\n",
      "15580\n",
      "<http://www.wikidata.org/entity/statement/Q2-B9D096F6-776B-41DC-AE1D-895C2638C64D> <http://www.wikidata.org/prop/qualifier/value/P585> <http://www.wikidata.org/value/bac6eb51cc0ffa931059db82b8dccc6b> .\n",
      "<http://www.wikidata.org/entity/statement/Q2-B9D096F6-776B-41DC-AE1D-895C2638C64D> <http://www.wikidata.org/prop/qualifier/P585> \"2012-01-01T00:00:00+00:00\"^^<http://www.w3.org/2001/XMLSchema#dateTime> .\n",
      "15581\n",
      "<http://www.wikidata.org/entity/statement/Q2-B9D096F6-776B-41DC-AE1D-895C2638C64D> <http://www.wikidata.org/prop/statement/P2573> \"266000000.0\"^^<http://www.w3.org/2001/XMLSchema#decimal> .\n",
      "<http://www.wikidata.org/entity/statement/Q2-B9D096F6-776B-41DC-AE1D-895C2638C64D> <http://www.wikidata.org/prop/qualifier/value/P585> <http://www.wikidata.org/value/bac6eb51cc0ffa931059db82b8dccc6b> .\n",
      "15582\n",
      "<http://www.wikidata.org/entity/statement/Q2-B9D096F6-776B-41DC-AE1D-895C2638C64D> <http://www.wikidata.org/prop/statement/value/P2573> <http://www.wikidata.org/value/27b609f55010c2a70fc396c15fa6ea2c> .\n",
      "<http://www.wikidata.org/entity/statement/Q2-B9D096F6-776B-41DC-AE1D-895C2638C64D> <http://www.wikidata.org/prop/statement/P2573> \"266000000.0\"^^<http://www.w3.org/2001/XMLSchema#decimal> .\n",
      "15583\n",
      "<http://www.wikidata.org/entity/statement/Q2-BA7AC7EF-F39C-4C2E-B6EB-88AE57DD202B> <http://wikiba.se/ontology#hasViolationForConstraint> <http://www.wikidata.org/entity/statement/P3630-D15CCA34-5D99-486F-BA63-E2B2B5EA647B> .\n",
      "<http://www.wikidata.org/entity/statement/Q2-B9D096F6-776B-41DC-AE1D-895C2638C64D> <http://www.wikidata.org/prop/statement/value/P2573> <http://www.wikidata.org/value/27b609f55010c2a70fc396c15fa6ea2c> .\n",
      "15584\n",
      "<http://www.wikidata.org/entity/statement/Q2-BA7AC7EF-F39C-4C2E-B6EB-88AE57DD202B> <http://wikiba.se/ontology#rank> <http://wikiba.se/ontology#NormalRank> .\n",
      "<http://www.wikidata.org/entity/statement/Q2-BA7AC7EF-F39C-4C2E-B6EB-88AE57DD202B> <http://wikiba.se/ontology#hasViolationForConstraint> <http://www.wikidata.org/entity/statement/P3630-D15CCA34-5D99-486F-BA63-E2B2B5EA647B> .\n",
      "15585\n",
      "<http://www.wikidata.org/entity/statement/Q2-BA7AC7EF-F39C-4C2E-B6EB-88AE57DD202B> <http://www.w3.org/1999/02/22-rdf-syntax-ns#type> <http://wikiba.se/ontology#BestRank> .\n",
      "<http://www.wikidata.org/entity/statement/Q2-BA7AC7EF-F39C-4C2E-B6EB-88AE57DD202B> <http://wikiba.se/ontology#rank> <http://wikiba.se/ontology#NormalRank> .\n",
      "15586\n",
      "<http://www.wikidata.org/entity/statement/Q2-BA7AC7EF-F39C-4C2E-B6EB-88AE57DD202B> <http://www.wikidata.org/prop/statement/P3630> \"91733\" .\n",
      "<http://www.wikidata.org/entity/statement/Q2-BA7AC7EF-F39C-4C2E-B6EB-88AE57DD202B> <http://www.w3.org/1999/02/22-rdf-syntax-ns#type> <http://wikiba.se/ontology#BestRank> .\n",
      "15587\n",
      "<http://www.wikidata.org/entity/statement/Q2-BDBA0B1D-1D02-4182-951E-051D8E2BA6DA> <http://wikiba.se/ontology#rank> <http://wikiba.se/ontology#NormalRank> .\n",
      "<http://www.wikidata.org/entity/statement/Q2-BA7AC7EF-F39C-4C2E-B6EB-88AE57DD202B> <http://www.wikidata.org/prop/statement/P3630> \"91733\" .\n",
      "15588\n",
      "<http://www.wikidata.org/entity/statement/Q2-BDBA0B1D-1D02-4182-951E-051D8E2BA6DA> <http://www.w3.org/1999/02/22-rdf-syntax-ns#type> <http://wikiba.se/ontology#BestRank> .\n",
      "<http://www.wikidata.org/entity/statement/Q2-BDBA0B1D-1D02-4182-951E-051D8E2BA6DA> <http://wikiba.se/ontology#rank> <http://wikiba.se/ontology#NormalRank> .\n",
      "15589\n",
      "<http://www.wikidata.org/entity/statement/Q2-BDBA0B1D-1D02-4182-951E-051D8E2BA6DA> <http://www.w3.org/ns/prov#wasDerivedFrom> <http://www.wikidata.org/reference/5b888131d331e8521e8d74d66cd5285efd92cd07> .\n",
      "<http://www.wikidata.org/entity/statement/Q2-BDBA0B1D-1D02-4182-951E-051D8E2BA6DA> <http://www.w3.org/1999/02/22-rdf-syntax-ns#type> <http://wikiba.se/ontology#BestRank> .\n",
      "15590\n",
      "<http://www.wikidata.org/entity/statement/Q2-BDBA0B1D-1D02-4182-951E-051D8E2BA6DA> <http://www.wikidata.org/prop/qualifier/P459> <http://www.wikidata.org/entity/Q47005776> .\n",
      "<http://www.wikidata.org/entity/statement/Q2-BDBA0B1D-1D02-4182-951E-051D8E2BA6DA> <http://www.w3.org/ns/prov#wasDerivedFrom> <http://www.wikidata.org/reference/5b888131d331e8521e8d74d66cd5285efd92cd07> .\n",
      "15591\n",
      "<http://www.wikidata.org/entity/statement/Q2-BDBA0B1D-1D02-4182-951E-051D8E2BA6DA> <http://www.wikidata.org/prop/qualifier/P585> \"2008-01-01T00:00:00+00:00\"^^<http://www.w3.org/2001/XMLSchema#dateTime> .\n",
      "<http://www.wikidata.org/entity/statement/Q2-BDBA0B1D-1D02-4182-951E-051D8E2BA6DA> <http://www.wikidata.org/prop/qualifier/P459> <http://www.wikidata.org/entity/Q47005776> .\n",
      "15592\n",
      "<http://www.wikidata.org/entity/statement/Q2-BDBA0B1D-1D02-4182-951E-051D8E2BA6DA> <http://www.wikidata.org/prop/qualifier/value/P585> <http://www.wikidata.org/value/e24308ab8fb993eab7558ece4fc50c9c> .\n",
      "<http://www.wikidata.org/entity/statement/Q2-BDBA0B1D-1D02-4182-951E-051D8E2BA6DA> <http://www.wikidata.org/prop/qualifier/P585> \"2008-01-01T00:00:00+00:00\"^^<http://www.w3.org/2001/XMLSchema#dateTime> .\n",
      "15593\n",
      "<http://www.wikidata.org/entity/statement/Q2-BDBA0B1D-1D02-4182-951E-051D8E2BA6DA> <http://www.wikidata.org/prop/statement/P2573> \"294000000.0\"^^<http://www.w3.org/2001/XMLSchema#decimal> .\n",
      "<http://www.wikidata.org/entity/statement/Q2-BDBA0B1D-1D02-4182-951E-051D8E2BA6DA> <http://www.wikidata.org/prop/qualifier/value/P585> <http://www.wikidata.org/value/e24308ab8fb993eab7558ece4fc50c9c> .\n",
      "15594\n",
      "<http://www.wikidata.org/entity/statement/Q2-BDBA0B1D-1D02-4182-951E-051D8E2BA6DA> <http://www.wikidata.org/prop/statement/value/P2573> <http://www.wikidata.org/value/046b47a0e186b2d1371ce0ebc7e5b901> .\n",
      "<http://www.wikidata.org/entity/statement/Q2-BDBA0B1D-1D02-4182-951E-051D8E2BA6DA> <http://www.wikidata.org/prop/statement/P2573> \"294000000.0\"^^<http://www.w3.org/2001/XMLSchema#decimal> .\n",
      "15595\n",
      "<http://www.wikidata.org/entity/statement/Q2-BDBB493E-004F-444D-91DF-F1B0641BE230> <http://wikiba.se/ontology#rank> <http://wikiba.se/ontology#NormalRank> .\n",
      "<http://www.wikidata.org/entity/statement/Q2-BDBA0B1D-1D02-4182-951E-051D8E2BA6DA> <http://www.wikidata.org/prop/statement/value/P2573> <http://www.wikidata.org/value/046b47a0e186b2d1371ce0ebc7e5b901> .\n",
      "15596\n",
      "<http://www.wikidata.org/entity/statement/Q2-BDBB493E-004F-444D-91DF-F1B0641BE230> <http://www.w3.org/1999/02/22-rdf-syntax-ns#type> <http://wikiba.se/ontology#BestRank> .\n",
      "<http://www.wikidata.org/entity/statement/Q2-BDBB493E-004F-444D-91DF-F1B0641BE230> <http://wikiba.se/ontology#rank> <http://wikiba.se/ontology#NormalRank> .\n",
      "15597\n",
      "<http://www.wikidata.org/entity/statement/Q2-BDBB493E-004F-444D-91DF-F1B0641BE230> <http://www.w3.org/ns/prov#wasDerivedFrom> <http://www.wikidata.org/reference/88694a0f4d1486770c269f7db16a1982f74da69d> .\n",
      "<http://www.wikidata.org/entity/statement/Q2-BDBB493E-004F-444D-91DF-F1B0641BE230> <http://www.w3.org/1999/02/22-rdf-syntax-ns#type> <http://wikiba.se/ontology#BestRank> .\n",
      "15598\n",
      "<http://www.wikidata.org/entity/statement/Q2-BDBB493E-004F-444D-91DF-F1B0641BE230> <http://www.wikidata.org/prop/statement/P1566> \"6295630\" .\n",
      "<http://www.wikidata.org/entity/statement/Q2-BDBB493E-004F-444D-91DF-F1B0641BE230> <http://www.w3.org/ns/prov#wasDerivedFrom> <http://www.wikidata.org/reference/88694a0f4d1486770c269f7db16a1982f74da69d> .\n",
      "15599\n",
      "<http://www.wikidata.org/entity/statement/Q2-BDBB493E-004F-444D-91DF-F1B0641BE230> <http://www.wikidata.org/prop/statement/value-normalized/P1566> <http://sws.geonames.org/6295630> .\n",
      "<http://www.wikidata.org/entity/statement/Q2-BDBB493E-004F-444D-91DF-F1B0641BE230> <http://www.wikidata.org/prop/statement/P1566> \"6295630\" .\n",
      "15600\n",
      "<http://www.wikidata.org/entity/statement/Q2-BEC8F85C-3DBA-4A26-B472-7E6ACC70F2BD> <http://wikiba.se/ontology#rank> <http://wikiba.se/ontology#NormalRank> .\n",
      "<http://www.wikidata.org/entity/statement/Q2-BDBB493E-004F-444D-91DF-F1B0641BE230> <http://www.wikidata.org/prop/statement/value-normalized/P1566> <http://sws.geonames.org/6295630> .\n",
      "15601\n",
      "<http://www.wikidata.org/entity/statement/Q2-BEC8F85C-3DBA-4A26-B472-7E6ACC70F2BD> <http://www.w3.org/1999/02/22-rdf-syntax-ns#type> <http://wikiba.se/ontology#BestRank> .\n",
      "<http://www.wikidata.org/entity/statement/Q2-BEC8F85C-3DBA-4A26-B472-7E6ACC70F2BD> <http://wikiba.se/ontology#rank> <http://wikiba.se/ontology#NormalRank> .\n",
      "15602\n",
      "<http://www.wikidata.org/entity/statement/Q2-BEC8F85C-3DBA-4A26-B472-7E6ACC70F2BD> <http://www.wikidata.org/prop/statement/P3569> \"aarde-weer-en-klimaat/aarde\" .\n",
      "<http://www.wikidata.org/entity/statement/Q2-BEC8F85C-3DBA-4A26-B472-7E6ACC70F2BD> <http://www.w3.org/1999/02/22-rdf-syntax-ns#type> <http://wikiba.se/ontology#BestRank> .\n",
      "15603\n",
      "<http://www.wikidata.org/entity/statement/Q2-C111B680-D414-43DD-ADDB-9B94B65C880D> <http://wikiba.se/ontology#rank> <http://wikiba.se/ontology#NormalRank> .\n",
      "<http://www.wikidata.org/entity/statement/Q2-BEC8F85C-3DBA-4A26-B472-7E6ACC70F2BD> <http://www.wikidata.org/prop/statement/P3569> \"aarde-weer-en-klimaat/aarde\" .\n",
      "15604\n",
      "<http://www.wikidata.org/entity/statement/Q2-C111B680-D414-43DD-ADDB-9B94B65C880D> <http://www.w3.org/1999/02/22-rdf-syntax-ns#type> <http://wikiba.se/ontology#BestRank> .\n",
      "<http://www.wikidata.org/entity/statement/Q2-C111B680-D414-43DD-ADDB-9B94B65C880D> <http://wikiba.se/ontology#rank> <http://wikiba.se/ontology#NormalRank> .\n",
      "15605\n",
      "<http://www.wikidata.org/entity/statement/Q2-C111B680-D414-43DD-ADDB-9B94B65C880D> <http://www.w3.org/ns/prov#wasDerivedFrom> <http://www.wikidata.org/reference/5b888131d331e8521e8d74d66cd5285efd92cd07> .\n",
      "<http://www.wikidata.org/entity/statement/Q2-C111B680-D414-43DD-ADDB-9B94B65C880D> <http://www.w3.org/1999/02/22-rdf-syntax-ns#type> <http://wikiba.se/ontology#BestRank> .\n",
      "15606\n",
      "<http://www.wikidata.org/entity/statement/Q2-C111B680-D414-43DD-ADDB-9B94B65C880D> <http://www.wikidata.org/prop/qualifier/P459> <http://www.wikidata.org/entity/Q47005776> .\n",
      "<http://www.wikidata.org/entity/statement/Q2-C111B680-D414-43DD-ADDB-9B94B65C880D> <http://www.w3.org/ns/prov#wasDerivedFrom> <http://www.wikidata.org/reference/5b888131d331e8521e8d74d66cd5285efd92cd07> .\n",
      "15607\n",
      "<http://www.wikidata.org/entity/statement/Q2-C111B680-D414-43DD-ADDB-9B94B65C880D> <http://www.wikidata.org/prop/qualifier/P585> \"2002-01-01T00:00:00+00:00\"^^<http://www.w3.org/2001/XMLSchema#dateTime> .\n",
      "<http://www.wikidata.org/entity/statement/Q2-C111B680-D414-43DD-ADDB-9B94B65C880D> <http://www.wikidata.org/prop/qualifier/P459> <http://www.wikidata.org/entity/Q47005776> .\n",
      "15608\n",
      "<http://www.wikidata.org/entity/statement/Q2-C111B680-D414-43DD-ADDB-9B94B65C880D> <http://www.wikidata.org/prop/qualifier/value/P585> <http://www.wikidata.org/value/f3a5d5bdf98dbcbdda1fb1e0860cbf97> .\n",
      "<http://www.wikidata.org/entity/statement/Q2-C111B680-D414-43DD-ADDB-9B94B65C880D> <http://www.wikidata.org/prop/qualifier/P585> \"2002-01-01T00:00:00+00:00\"^^<http://www.w3.org/2001/XMLSchema#dateTime> .\n",
      "15609\n",
      "<http://www.wikidata.org/entity/statement/Q2-C111B680-D414-43DD-ADDB-9B94B65C880D> <http://www.wikidata.org/prop/statement/P2573> \"360000000.0\"^^<http://www.w3.org/2001/XMLSchema#decimal> .\n",
      "<http://www.wikidata.org/entity/statement/Q2-C111B680-D414-43DD-ADDB-9B94B65C880D> <http://www.wikidata.org/prop/qualifier/value/P585> <http://www.wikidata.org/value/f3a5d5bdf98dbcbdda1fb1e0860cbf97> .\n",
      "15610\n",
      "<http://www.wikidata.org/entity/statement/Q2-C111B680-D414-43DD-ADDB-9B94B65C880D> <http://www.wikidata.org/prop/statement/value/P2573> <http://www.wikidata.org/value/272f6607b1d42bc567950910792baf20> .\n",
      "<http://www.wikidata.org/entity/statement/Q2-C111B680-D414-43DD-ADDB-9B94B65C880D> <http://www.wikidata.org/prop/statement/P2573> \"360000000.0\"^^<http://www.w3.org/2001/XMLSchema#decimal> .\n",
      "15611\n",
      "<http://www.wikidata.org/entity/statement/Q2-C1BAC266-CF5A-474D-A2F6-668BF51F037E> <http://wikiba.se/ontology#rank> <http://wikiba.se/ontology#NormalRank> .\n",
      "<http://www.wikidata.org/entity/statement/Q2-C111B680-D414-43DD-ADDB-9B94B65C880D> <http://www.wikidata.org/prop/statement/value/P2573> <http://www.wikidata.org/value/272f6607b1d42bc567950910792baf20> .\n",
      "15612\n",
      "<http://www.wikidata.org/entity/statement/Q2-C1BAC266-CF5A-474D-A2F6-668BF51F037E> <http://www.w3.org/1999/02/22-rdf-syntax-ns#type> <http://wikiba.se/ontology#BestRank> .\n",
      "<http://www.wikidata.org/entity/statement/Q2-C1BAC266-CF5A-474D-A2F6-668BF51F037E> <http://wikiba.se/ontology#rank> <http://wikiba.se/ontology#NormalRank> .\n",
      "15613\n",
      "<http://www.wikidata.org/entity/statement/Q2-C1BAC266-CF5A-474D-A2F6-668BF51F037E> <http://www.wikidata.org/prop/statement/P5008> <http://www.wikidata.org/entity/Q5460604> .\n",
      "<http://www.wikidata.org/entity/statement/Q2-C1BAC266-CF5A-474D-A2F6-668BF51F037E> <http://www.w3.org/1999/02/22-rdf-syntax-ns#type> <http://wikiba.se/ontology#BestRank> .\n",
      "15614\n",
      "<http://www.wikidata.org/entity/statement/Q2-C3AE779C-EA76-41FA-8DDE-3894BF96EC5A> <http://wikiba.se/ontology#rank> <http://wikiba.se/ontology#NormalRank> .\n",
      "<http://www.wikidata.org/entity/statement/Q2-C1BAC266-CF5A-474D-A2F6-668BF51F037E> <http://www.wikidata.org/prop/statement/P5008> <http://www.wikidata.org/entity/Q5460604> .\n",
      "15615\n",
      "<http://www.wikidata.org/entity/statement/Q2-C3AE779C-EA76-41FA-8DDE-3894BF96EC5A> <http://www.w3.org/1999/02/22-rdf-syntax-ns#type> <http://wikiba.se/ontology#BestRank> .\n",
      "<http://www.wikidata.org/entity/statement/Q2-C3AE779C-EA76-41FA-8DDE-3894BF96EC5A> <http://wikiba.se/ontology#rank> <http://wikiba.se/ontology#NormalRank> .\n",
      "15616\n",
      "<http://www.wikidata.org/entity/statement/Q2-C3AE779C-EA76-41FA-8DDE-3894BF96EC5A> <http://www.wikidata.org/prop/statement/P7033> \"scot/1917\" .\n",
      "<http://www.wikidata.org/entity/statement/Q2-C3AE779C-EA76-41FA-8DDE-3894BF96EC5A> <http://www.w3.org/1999/02/22-rdf-syntax-ns#type> <http://wikiba.se/ontology#BestRank> .\n",
      "15617\n",
      "<http://www.wikidata.org/entity/statement/Q2-C3AE779C-EA76-41FA-8DDE-3894BF96EC5A> <http://www.wikidata.org/prop/statement/value-normalized/P7033> <http://vocabulary.curriculum.edu.au/scot/1917.rdf> .\n",
      "<http://www.wikidata.org/entity/statement/Q2-C3AE779C-EA76-41FA-8DDE-3894BF96EC5A> <http://www.wikidata.org/prop/statement/P7033> \"scot/1917\" .\n",
      "15618\n",
      "<http://www.wikidata.org/entity/statement/Q2-C94C8A62-0F3D-4836-BDB4-44E5E69B68DC> <http://wikiba.se/ontology#rank> <http://wikiba.se/ontology#NormalRank> .\n",
      "<http://www.wikidata.org/entity/statement/Q2-C3AE779C-EA76-41FA-8DDE-3894BF96EC5A> <http://www.wikidata.org/prop/statement/value-normalized/P7033> <http://vocabulary.curriculum.edu.au/scot/1917.rdf> .\n",
      "15619\n",
      "<http://www.wikidata.org/entity/statement/Q2-C94C8A62-0F3D-4836-BDB4-44E5E69B68DC> <http://www.w3.org/1999/02/22-rdf-syntax-ns#type> <http://wikiba.se/ontology#BestRank> .\n",
      "<http://www.wikidata.org/entity/statement/Q2-C94C8A62-0F3D-4836-BDB4-44E5E69B68DC> <http://wikiba.se/ontology#rank> <http://wikiba.se/ontology#NormalRank> .\n",
      "15620\n",
      "<http://www.wikidata.org/entity/statement/Q2-C94C8A62-0F3D-4836-BDB4-44E5E69B68DC> <http://www.wikidata.org/prop/qualifier/P407> <http://www.wikidata.org/entity/Q188> .\n",
      "<http://www.wikidata.org/entity/statement/Q2-C94C8A62-0F3D-4836-BDB4-44E5E69B68DC> <http://www.w3.org/1999/02/22-rdf-syntax-ns#type> <http://wikiba.se/ontology#BestRank> .\n",
      "15621\n",
      "<http://www.wikidata.org/entity/statement/Q2-C94C8A62-0F3D-4836-BDB4-44E5E69B68DC> <http://www.wikidata.org/prop/statement/P443> <http://commons.wikimedia.org/wiki/Special:FilePath/LL-Q188%20%28deu%29-Sebastian%20Wallroth-Erde.wav> .\n",
      "<http://www.wikidata.org/entity/statement/Q2-C94C8A62-0F3D-4836-BDB4-44E5E69B68DC> <http://www.wikidata.org/prop/qualifier/P407> <http://www.wikidata.org/entity/Q188> .\n",
      "15622\n",
      "<http://www.wikidata.org/entity/statement/Q2-CEF190CE-0E39-4E69-BF5E-7AA5A90C3C70> <http://wikiba.se/ontology#rank> <http://wikiba.se/ontology#NormalRank> .\n",
      "<http://www.wikidata.org/entity/statement/Q2-C94C8A62-0F3D-4836-BDB4-44E5E69B68DC> <http://www.wikidata.org/prop/statement/P443> <http://commons.wikimedia.org/wiki/Special:FilePath/LL-Q188%20%28deu%29-Sebastian%20Wallroth-Erde.wav> .\n",
      "15623\n",
      "<http://www.wikidata.org/entity/statement/Q2-CEF190CE-0E39-4E69-BF5E-7AA5A90C3C70> <http://www.w3.org/1999/02/22-rdf-syntax-ns#type> <http://wikiba.se/ontology#BestRank> .\n",
      "<http://www.wikidata.org/entity/statement/Q2-CEF190CE-0E39-4E69-BF5E-7AA5A90C3C70> <http://wikiba.se/ontology#rank> <http://wikiba.se/ontology#NormalRank> .\n",
      "15624\n",
      "<http://www.wikidata.org/entity/statement/Q2-CEF190CE-0E39-4E69-BF5E-7AA5A90C3C70> <http://www.w3.org/ns/prov#wasDerivedFrom> <http://www.wikidata.org/reference/5b888131d331e8521e8d74d66cd5285efd92cd07> .\n",
      "<http://www.wikidata.org/entity/statement/Q2-CEF190CE-0E39-4E69-BF5E-7AA5A90C3C70> <http://www.w3.org/1999/02/22-rdf-syntax-ns#type> <http://wikiba.se/ontology#BestRank> .\n",
      "15625\n",
      "<http://www.wikidata.org/entity/statement/Q2-CEF190CE-0E39-4E69-BF5E-7AA5A90C3C70> <http://www.wikidata.org/prop/qualifier/P459> <http://www.wikidata.org/entity/Q47005776> .\n",
      "<http://www.wikidata.org/entity/statement/Q2-CEF190CE-0E39-4E69-BF5E-7AA5A90C3C70> <http://www.w3.org/ns/prov#wasDerivedFrom> <http://www.wikidata.org/reference/5b888131d331e8521e8d74d66cd5285efd92cd07> .\n",
      "15626\n",
      "<http://www.wikidata.org/entity/statement/Q2-CEF190CE-0E39-4E69-BF5E-7AA5A90C3C70> <http://www.wikidata.org/prop/qualifier/P585> \"2000-01-01T00:00:00+00:00\"^^<http://www.w3.org/2001/XMLSchema#dateTime> .\n",
      "<http://www.wikidata.org/entity/statement/Q2-CEF190CE-0E39-4E69-BF5E-7AA5A90C3C70> <http://www.wikidata.org/prop/qualifier/P459> <http://www.wikidata.org/entity/Q47005776> .\n",
      "15627\n",
      "<http://www.wikidata.org/entity/statement/Q2-CEF190CE-0E39-4E69-BF5E-7AA5A90C3C70> <http://www.wikidata.org/prop/qualifier/value/P585> <http://www.wikidata.org/value/23876297dbcb491380c182a907ab8974> .\n",
      "<http://www.wikidata.org/entity/statement/Q2-CEF190CE-0E39-4E69-BF5E-7AA5A90C3C70> <http://www.wikidata.org/prop/qualifier/P585> \"2000-01-01T00:00:00+00:00\"^^<http://www.w3.org/2001/XMLSchema#dateTime> .\n",
      "15628\n",
      "<http://www.wikidata.org/entity/statement/Q2-CEF190CE-0E39-4E69-BF5E-7AA5A90C3C70> <http://www.wikidata.org/prop/statement/P2573> \"374000000.0\"^^<http://www.w3.org/2001/XMLSchema#decimal> .\n",
      "<http://www.wikidata.org/entity/statement/Q2-CEF190CE-0E39-4E69-BF5E-7AA5A90C3C70> <http://www.wikidata.org/prop/qualifier/value/P585> <http://www.wikidata.org/value/23876297dbcb491380c182a907ab8974> .\n",
      "15629\n",
      "<http://www.wikidata.org/entity/statement/Q2-CEF190CE-0E39-4E69-BF5E-7AA5A90C3C70> <http://www.wikidata.org/prop/statement/value/P2573> <http://www.wikidata.org/value/dbae63464cd461c984b3495b5060e186> .\n",
      "<http://www.wikidata.org/entity/statement/Q2-CEF190CE-0E39-4E69-BF5E-7AA5A90C3C70> <http://www.wikidata.org/prop/statement/P2573> \"374000000.0\"^^<http://www.w3.org/2001/XMLSchema#decimal> .\n",
      "15630\n",
      "<http://www.wikidata.org/entity/statement/Q2-CF2134ED-B270-4D8F-8BFC-3A7B87699E65> <http://wikiba.se/ontology#rank> <http://wikiba.se/ontology#PreferredRank> .\n",
      "<http://www.wikidata.org/entity/statement/Q2-CEF190CE-0E39-4E69-BF5E-7AA5A90C3C70> <http://www.wikidata.org/prop/statement/value/P2573> <http://www.wikidata.org/value/dbae63464cd461c984b3495b5060e186> .\n",
      "15631\n",
      "<http://www.wikidata.org/entity/statement/Q2-CF2134ED-B270-4D8F-8BFC-3A7B87699E65> <http://www.w3.org/1999/02/22-rdf-syntax-ns#type> <http://wikiba.se/ontology#BestRank> .\n",
      "<http://www.wikidata.org/entity/statement/Q2-CF2134ED-B270-4D8F-8BFC-3A7B87699E65> <http://wikiba.se/ontology#rank> <http://wikiba.se/ontology#PreferredRank> .\n",
      "15632\n",
      "<http://www.wikidata.org/entity/statement/Q2-CF2134ED-B270-4D8F-8BFC-3A7B87699E65> <http://www.wikidata.org/prop/qualifier/P2096> \"D\\u00FCnya'n\\u0131n Apollo 17'den g\\u00F6r\\u00FCn\\u00FC\\u015F\\u00FC\"@tr .\n",
      "<http://www.wikidata.org/entity/statement/Q2-CF2134ED-B270-4D8F-8BFC-3A7B87699E65> <http://www.w3.org/1999/02/22-rdf-syntax-ns#type> <http://wikiba.se/ontology#BestRank> .\n",
      "15633\n",
      "<http://www.wikidata.org/entity/statement/Q2-CF2134ED-B270-4D8F-8BFC-3A7B87699E65> <http://www.wikidata.org/prop/qualifier/P2096> \"Sininen marmorikuula, kuuluisa kuva Maasta vuodelta 1972.\"@fi .\n",
      "<http://www.wikidata.org/entity/statement/Q2-CF2134ED-B270-4D8F-8BFC-3A7B87699E65> <http://www.wikidata.org/prop/qualifier/P2096> \"D\\u00FCnya'n\\u0131n Apollo 17'den g\\u00F6r\\u00FCn\\u00FC\\u015F\\u00FC\"@tr .\n",
      "15634\n",
      "<http://www.wikidata.org/entity/statement/Q2-CF2134ED-B270-4D8F-8BFC-3A7B87699E65> <http://www.wikidata.org/prop/qualifier/P585> \"1972-12-07T00:00:00+00:00\"^^<http://www.w3.org/2001/XMLSchema#dateTime> .\n",
      "<http://www.wikidata.org/entity/statement/Q2-CF2134ED-B270-4D8F-8BFC-3A7B87699E65> <http://www.wikidata.org/prop/qualifier/P2096> \"Sininen marmorikuula, kuuluisa kuva Maasta vuodelta 1972.\"@fi .\n",
      "15635\n",
      "<http://www.wikidata.org/entity/statement/Q2-CF2134ED-B270-4D8F-8BFC-3A7B87699E65> <http://www.wikidata.org/prop/qualifier/value/P585> <http://www.wikidata.org/value/112111766a0d49958e81e76188457a6d> .\n",
      "<http://www.wikidata.org/entity/statement/Q2-CF2134ED-B270-4D8F-8BFC-3A7B87699E65> <http://www.wikidata.org/prop/qualifier/P585> \"1972-12-07T00:00:00+00:00\"^^<http://www.w3.org/2001/XMLSchema#dateTime> .\n",
      "15636\n",
      "<http://www.wikidata.org/entity/statement/Q2-CF2134ED-B270-4D8F-8BFC-3A7B87699E65> <http://www.wikidata.org/prop/statement/P18> <http://commons.wikimedia.org/wiki/Special:FilePath/The%20Earth%20seen%20from%20Apollo%2017.jpg> .\n",
      "<http://www.wikidata.org/entity/statement/Q2-CF2134ED-B270-4D8F-8BFC-3A7B87699E65> <http://www.wikidata.org/prop/qualifier/value/P585> <http://www.wikidata.org/value/112111766a0d49958e81e76188457a6d> .\n",
      "15637\n",
      "<http://www.wikidata.org/entity/statement/Q2-D3E1AA8B-ED92-41B0-B2F8-94EE9D17B965> <http://wikiba.se/ontology#rank> <http://wikiba.se/ontology#NormalRank> .\n",
      "<http://www.wikidata.org/entity/statement/Q2-CF2134ED-B270-4D8F-8BFC-3A7B87699E65> <http://www.wikidata.org/prop/statement/P18> <http://commons.wikimedia.org/wiki/Special:FilePath/The%20Earth%20seen%20from%20Apollo%2017.jpg> .\n",
      "15638\n",
      "<http://www.wikidata.org/entity/statement/Q2-D3E1AA8B-ED92-41B0-B2F8-94EE9D17B965> <http://www.w3.org/1999/02/22-rdf-syntax-ns#type> <http://wikiba.se/ontology#BestRank> .\n",
      "<http://www.wikidata.org/entity/statement/Q2-D3E1AA8B-ED92-41B0-B2F8-94EE9D17B965> <http://wikiba.se/ontology#rank> <http://wikiba.se/ontology#NormalRank> .\n",
      "15639\n",
      "<http://www.wikidata.org/entity/statement/Q2-D3E1AA8B-ED92-41B0-B2F8-94EE9D17B965> <http://www.wikidata.org/prop/statement/P4466> \"439\" .\n",
      "<http://www.wikidata.org/entity/statement/Q2-D3E1AA8B-ED92-41B0-B2F8-94EE9D17B965> <http://www.w3.org/1999/02/22-rdf-syntax-ns#type> <http://wikiba.se/ontology#BestRank> .\n",
      "15640\n",
      "<http://www.wikidata.org/entity/statement/Q2-D3E1AA8B-ED92-41B0-B2F8-94EE9D17B965> <http://www.wikidata.org/prop/statement/value-normalized/P4466> <http://astrothesaurus.org/uat/439> .\n",
      "<http://www.wikidata.org/entity/statement/Q2-D3E1AA8B-ED92-41B0-B2F8-94EE9D17B965> <http://www.wikidata.org/prop/statement/P4466> \"439\" .\n",
      "15641\n",
      "<http://www.wikidata.org/entity/statement/Q2-D4B13C83-ABBE-470E-B8A9-B23364D7106B> <http://wikiba.se/ontology#rank> <http://wikiba.se/ontology#NormalRank> .\n",
      "<http://www.wikidata.org/entity/statement/Q2-D3E1AA8B-ED92-41B0-B2F8-94EE9D17B965> <http://www.wikidata.org/prop/statement/value-normalized/P4466> <http://astrothesaurus.org/uat/439> .\n",
      "15642\n",
      "<http://www.wikidata.org/entity/statement/Q2-D4B13C83-ABBE-470E-B8A9-B23364D7106B> <http://www.w3.org/1999/02/22-rdf-syntax-ns#type> <http://wikiba.se/ontology#BestRank> .\n",
      "<http://www.wikidata.org/entity/statement/Q2-D4B13C83-ABBE-470E-B8A9-B23364D7106B> <http://wikiba.se/ontology#rank> <http://wikiba.se/ontology#NormalRank> .\n",
      "15643\n",
      "<http://www.wikidata.org/entity/statement/Q2-D4B13C83-ABBE-470E-B8A9-B23364D7106B> <http://www.w3.org/ns/prov#wasDerivedFrom> <http://www.wikidata.org/reference/2e15736475caad547cbbc56f2070c54df5655235> .\n",
      "<http://www.wikidata.org/entity/statement/Q2-D4B13C83-ABBE-470E-B8A9-B23364D7106B> <http://www.w3.org/1999/02/22-rdf-syntax-ns#type> <http://wikiba.se/ontology#BestRank> .\n",
      "15644\n",
      "<http://www.wikidata.org/entity/statement/Q2-D4B13C83-ABBE-470E-B8A9-B23364D7106B> <http://www.wikidata.org/prop/statement/P2956> \"399\" .\n",
      "<http://www.wikidata.org/entity/statement/Q2-D4B13C83-ABBE-470E-B8A9-B23364D7106B> <http://www.w3.org/ns/prov#wasDerivedFrom> <http://www.wikidata.org/reference/2e15736475caad547cbbc56f2070c54df5655235> .\n",
      "15645\n",
      "<http://www.wikidata.org/entity/statement/Q2-D63E61A3-374A-4EA1-A03B-E4CE11130768> <http://wikiba.se/ontology#rank> <http://wikiba.se/ontology#NormalRank> .\n",
      "<http://www.wikidata.org/entity/statement/Q2-D4B13C83-ABBE-470E-B8A9-B23364D7106B> <http://www.wikidata.org/prop/statement/P2956> \"399\" .\n",
      "15646\n",
      "<http://www.wikidata.org/entity/statement/Q2-D63E61A3-374A-4EA1-A03B-E4CE11130768> <http://www.w3.org/1999/02/22-rdf-syntax-ns#type> <http://wikiba.se/ontology#BestRank> .\n",
      "<http://www.wikidata.org/entity/statement/Q2-D63E61A3-374A-4EA1-A03B-E4CE11130768> <http://wikiba.se/ontology#rank> <http://wikiba.se/ontology#NormalRank> .\n",
      "15647\n",
      "<http://www.wikidata.org/entity/statement/Q2-D63E61A3-374A-4EA1-A03B-E4CE11130768> <http://www.w3.org/ns/prov#wasDerivedFrom> <http://www.wikidata.org/reference/9a24f7c0208b05d6be97077d855671d1dfdbc0dd> .\n",
      "<http://www.wikidata.org/entity/statement/Q2-D63E61A3-374A-4EA1-A03B-E4CE11130768> <http://www.w3.org/1999/02/22-rdf-syntax-ns#type> <http://wikiba.se/ontology#BestRank> .\n",
      "15648\n",
      "<http://www.wikidata.org/entity/statement/Q2-D63E61A3-374A-4EA1-A03B-E4CE11130768> <http://www.wikidata.org/prop/statement/P214> \"6270149919445006650001\" .\n",
      "<http://www.wikidata.org/entity/statement/Q2-D63E61A3-374A-4EA1-A03B-E4CE11130768> <http://www.w3.org/ns/prov#wasDerivedFrom> <http://www.wikidata.org/reference/9a24f7c0208b05d6be97077d855671d1dfdbc0dd> .\n",
      "15649\n",
      "<http://www.wikidata.org/entity/statement/Q2-D63E61A3-374A-4EA1-A03B-E4CE11130768> <http://www.wikidata.org/prop/statement/value-normalized/P214> <http://viaf.org/viaf/6270149919445006650001> .\n",
      "<http://www.wikidata.org/entity/statement/Q2-D63E61A3-374A-4EA1-A03B-E4CE11130768> <http://www.wikidata.org/prop/statement/P214> \"6270149919445006650001\" .\n",
      "15650\n",
      "<http://www.wikidata.org/entity/statement/Q2-D7880494-5EB3-4548-85B3-DB6DCC792781> <http://wikiba.se/ontology#rank> <http://wikiba.se/ontology#NormalRank> .\n",
      "<http://www.wikidata.org/entity/statement/Q2-D63E61A3-374A-4EA1-A03B-E4CE11130768> <http://www.wikidata.org/prop/statement/value-normalized/P214> <http://viaf.org/viaf/6270149919445006650001> .\n",
      "15651\n",
      "<http://www.wikidata.org/entity/statement/Q2-D7880494-5EB3-4548-85B3-DB6DCC792781> <http://www.w3.org/1999/02/22-rdf-syntax-ns#type> <http://wikiba.se/ontology#BestRank> .\n",
      "<http://www.wikidata.org/entity/statement/Q2-D7880494-5EB3-4548-85B3-DB6DCC792781> <http://wikiba.se/ontology#rank> <http://wikiba.se/ontology#NormalRank> .\n",
      "15652\n",
      "<http://www.wikidata.org/entity/statement/Q2-D7880494-5EB3-4548-85B3-DB6DCC792781> <http://www.wikidata.org/prop/qualifier/P805> <http://www.wikidata.org/entity/Q24206696> .\n",
      "<http://www.wikidata.org/entity/statement/Q2-D7880494-5EB3-4548-85B3-DB6DCC792781> <http://www.w3.org/1999/02/22-rdf-syntax-ns#type> <http://wikiba.se/ontology#BestRank> .\n",
      "15653\n",
      "<http://www.wikidata.org/entity/statement/Q2-D7880494-5EB3-4548-85B3-DB6DCC792781> <http://www.wikidata.org/prop/statement/P1343> <http://www.wikidata.org/entity/Q4173137> .\n",
      "<http://www.wikidata.org/entity/statement/Q2-D7880494-5EB3-4548-85B3-DB6DCC792781> <http://www.wikidata.org/prop/qualifier/P805> <http://www.wikidata.org/entity/Q24206696> .\n",
      "15654\n",
      "<http://www.wikidata.org/entity/statement/Q2-DC2FBD5C-2B92-4120-9CBE-58E87F1C0A31> <http://wikiba.se/ontology#rank> <http://wikiba.se/ontology#NormalRank> .\n",
      "<http://www.wikidata.org/entity/statement/Q2-D7880494-5EB3-4548-85B3-DB6DCC792781> <http://www.wikidata.org/prop/statement/P1343> <http://www.wikidata.org/entity/Q4173137> .\n",
      "15655\n",
      "<http://www.wikidata.org/entity/statement/Q2-DC2FBD5C-2B92-4120-9CBE-58E87F1C0A31> <http://www.w3.org/1999/02/22-rdf-syntax-ns#type> <http://wikiba.se/ontology#BestRank> .\n",
      "<http://www.wikidata.org/entity/statement/Q2-DC2FBD5C-2B92-4120-9CBE-58E87F1C0A31> <http://wikiba.se/ontology#rank> <http://wikiba.se/ontology#NormalRank> .\n",
      "15656\n",
      "<http://www.wikidata.org/entity/statement/Q2-DC2FBD5C-2B92-4120-9CBE-58E87F1C0A31> <http://www.wikidata.org/prop/statement/P5125> <http://www.wikidata.org/entity/Q28231576> .\n",
      "<http://www.wikidata.org/entity/statement/Q2-DC2FBD5C-2B92-4120-9CBE-58E87F1C0A31> <http://www.w3.org/1999/02/22-rdf-syntax-ns#type> <http://wikiba.se/ontology#BestRank> .\n",
      "15657\n",
      "<http://www.wikidata.org/entity/statement/Q2-DD2BEBC9-B028-402D-B756-AFEEEBDE5652> <http://wikiba.se/ontology#rank> <http://wikiba.se/ontology#NormalRank> .\n",
      "<http://www.wikidata.org/entity/statement/Q2-DC2FBD5C-2B92-4120-9CBE-58E87F1C0A31> <http://www.wikidata.org/prop/statement/P5125> <http://www.wikidata.org/entity/Q28231576> .\n",
      "15658\n",
      "<http://www.wikidata.org/entity/statement/Q2-DD2BEBC9-B028-402D-B756-AFEEEBDE5652> <http://www.w3.org/1999/02/22-rdf-syntax-ns#type> <http://wikiba.se/ontology#BestRank> .\n",
      "<http://www.wikidata.org/entity/statement/Q2-DD2BEBC9-B028-402D-B756-AFEEEBDE5652> <http://wikiba.se/ontology#rank> <http://wikiba.se/ontology#NormalRank> .\n",
      "15659\n",
      "<http://www.wikidata.org/entity/statement/Q2-DD2BEBC9-B028-402D-B756-AFEEEBDE5652> <http://www.w3.org/ns/prov#wasDerivedFrom> <http://www.wikidata.org/reference/5b888131d331e8521e8d74d66cd5285efd92cd07> .\n",
      "<http://www.wikidata.org/entity/statement/Q2-DD2BEBC9-B028-402D-B756-AFEEEBDE5652> <http://www.w3.org/1999/02/22-rdf-syntax-ns#type> <http://wikiba.se/ontology#BestRank> .\n",
      "15660\n",
      "<http://www.wikidata.org/entity/statement/Q2-DD2BEBC9-B028-402D-B756-AFEEEBDE5652> <http://www.wikidata.org/prop/qualifier/P459> <http://www.wikidata.org/entity/Q47005776> .\n",
      "<http://www.wikidata.org/entity/statement/Q2-DD2BEBC9-B028-402D-B756-AFEEEBDE5652> <http://www.w3.org/ns/prov#wasDerivedFrom> <http://www.wikidata.org/reference/5b888131d331e8521e8d74d66cd5285efd92cd07> .\n",
      "15661\n",
      "<http://www.wikidata.org/entity/statement/Q2-DD2BEBC9-B028-402D-B756-AFEEEBDE5652> <http://www.wikidata.org/prop/qualifier/P585> \"2010-01-01T00:00:00+00:00\"^^<http://www.w3.org/2001/XMLSchema#dateTime> .\n",
      "<http://www.wikidata.org/entity/statement/Q2-DD2BEBC9-B028-402D-B756-AFEEEBDE5652> <http://www.wikidata.org/prop/qualifier/P459> <http://www.wikidata.org/entity/Q47005776> .\n",
      "15662\n",
      "<http://www.wikidata.org/entity/statement/Q2-DD2BEBC9-B028-402D-B756-AFEEEBDE5652> <http://www.wikidata.org/prop/qualifier/value/P585> <http://www.wikidata.org/value/e4feaf84dff082bd6fbae53c881faff6> .\n",
      "<http://www.wikidata.org/entity/statement/Q2-DD2BEBC9-B028-402D-B756-AFEEEBDE5652> <http://www.wikidata.org/prop/qualifier/P585> \"2010-01-01T00:00:00+00:00\"^^<http://www.w3.org/2001/XMLSchema#dateTime> .\n",
      "15663\n",
      "<http://www.wikidata.org/entity/statement/Q2-DD2BEBC9-B028-402D-B756-AFEEEBDE5652> <http://www.wikidata.org/prop/statement/P2573> \"281000000.0\"^^<http://www.w3.org/2001/XMLSchema#decimal> .\n",
      "<http://www.wikidata.org/entity/statement/Q2-DD2BEBC9-B028-402D-B756-AFEEEBDE5652> <http://www.wikidata.org/prop/qualifier/value/P585> <http://www.wikidata.org/value/e4feaf84dff082bd6fbae53c881faff6> .\n",
      "15664\n",
      "<http://www.wikidata.org/entity/statement/Q2-DD2BEBC9-B028-402D-B756-AFEEEBDE5652> <http://www.wikidata.org/prop/statement/value/P2573> <http://www.wikidata.org/value/e5da3c8368f4e2201d5c84bf1fea18b1> .\n",
      "<http://www.wikidata.org/entity/statement/Q2-DD2BEBC9-B028-402D-B756-AFEEEBDE5652> <http://www.wikidata.org/prop/statement/P2573> \"281000000.0\"^^<http://www.w3.org/2001/XMLSchema#decimal> .\n",
      "15665\n",
      "<http://www.wikidata.org/entity/statement/Q2-DE1320BA-4E21-4370-A4FB-052F303FD881> <http://wikiba.se/ontology#rank> <http://wikiba.se/ontology#NormalRank> .\n",
      "<http://www.wikidata.org/entity/statement/Q2-DD2BEBC9-B028-402D-B756-AFEEEBDE5652> <http://www.wikidata.org/prop/statement/value/P2573> <http://www.wikidata.org/value/e5da3c8368f4e2201d5c84bf1fea18b1> .\n",
      "15666\n",
      "<http://www.wikidata.org/entity/statement/Q2-DE1320BA-4E21-4370-A4FB-052F303FD881> <http://www.w3.org/1999/02/22-rdf-syntax-ns#type> <http://wikiba.se/ontology#BestRank> .\n",
      "<http://www.wikidata.org/entity/statement/Q2-DE1320BA-4E21-4370-A4FB-052F303FD881> <http://wikiba.se/ontology#rank> <http://wikiba.se/ontology#NormalRank> .\n",
      "15667\n",
      "<http://www.wikidata.org/entity/statement/Q2-DE1320BA-4E21-4370-A4FB-052F303FD881> <http://www.wikidata.org/prop/statement/P3219> \"terre-vue-d-ensemble\" .\n",
      "<http://www.wikidata.org/entity/statement/Q2-DE1320BA-4E21-4370-A4FB-052F303FD881> <http://www.w3.org/1999/02/22-rdf-syntax-ns#type> <http://wikiba.se/ontology#BestRank> .\n",
      "15668\n",
      "<http://www.wikidata.org/entity/statement/Q2-DFD1FBC2-D4DE-4BAA-9618-BF9FD9F76595> <http://wikiba.se/ontology#rank> <http://wikiba.se/ontology#NormalRank> .\n",
      "<http://www.wikidata.org/entity/statement/Q2-DE1320BA-4E21-4370-A4FB-052F303FD881> <http://www.wikidata.org/prop/statement/P3219> \"terre-vue-d-ensemble\" .\n",
      "15669\n",
      "<http://www.wikidata.org/entity/statement/Q2-DFD1FBC2-D4DE-4BAA-9618-BF9FD9F76595> <http://www.w3.org/1999/02/22-rdf-syntax-ns#type> <http://wikiba.se/ontology#BestRank> .\n",
      "<http://www.wikidata.org/entity/statement/Q2-DFD1FBC2-D4DE-4BAA-9618-BF9FD9F76595> <http://wikiba.se/ontology#rank> <http://wikiba.se/ontology#NormalRank> .\n",
      "15670\n",
      "<http://www.wikidata.org/entity/statement/Q2-DFD1FBC2-D4DE-4BAA-9618-BF9FD9F76595> <http://www.wikidata.org/prop/statement/P7829> \"Earth\" .\n",
      "<http://www.wikidata.org/entity/statement/Q2-DFD1FBC2-D4DE-4BAA-9618-BF9FD9F76595> <http://www.w3.org/1999/02/22-rdf-syntax-ns#type> <http://wikiba.se/ontology#BestRank> .\n",
      "15671\n",
      "<http://www.wikidata.org/entity/statement/Q2-E28A80E1-EFF8-49FA-B2A6-56AEA1EC87AC> <http://wikiba.se/ontology#hasViolationForConstraint> <http://www.wikidata.org/entity/statement/P1225-EADAFC4F-D9A3-4B1E-A13C-5A4697587B6E> .\n",
      "<http://www.wikidata.org/entity/statement/Q2-DFD1FBC2-D4DE-4BAA-9618-BF9FD9F76595> <http://www.wikidata.org/prop/statement/P7829> \"Earth\" .\n",
      "15672\n",
      "<http://www.wikidata.org/entity/statement/Q2-E28A80E1-EFF8-49FA-B2A6-56AEA1EC87AC> <http://wikiba.se/ontology#rank> <http://wikiba.se/ontology#NormalRank> .\n",
      "<http://www.wikidata.org/entity/statement/Q2-E28A80E1-EFF8-49FA-B2A6-56AEA1EC87AC> <http://wikiba.se/ontology#hasViolationForConstraint> <http://www.wikidata.org/entity/statement/P1225-EADAFC4F-D9A3-4B1E-A13C-5A4697587B6E> .\n",
      "15673\n",
      "<http://www.wikidata.org/entity/statement/Q2-E28A80E1-EFF8-49FA-B2A6-56AEA1EC87AC> <http://www.w3.org/1999/02/22-rdf-syntax-ns#type> <http://wikiba.se/ontology#BestRank> .\n",
      "<http://www.wikidata.org/entity/statement/Q2-E28A80E1-EFF8-49FA-B2A6-56AEA1EC87AC> <http://wikiba.se/ontology#rank> <http://wikiba.se/ontology#NormalRank> .\n",
      "15674\n",
      "<http://www.wikidata.org/entity/statement/Q2-E28A80E1-EFF8-49FA-B2A6-56AEA1EC87AC> <http://www.wikidata.org/prop/statement/P1225> \"10046628\" .\n",
      "<http://www.wikidata.org/entity/statement/Q2-E28A80E1-EFF8-49FA-B2A6-56AEA1EC87AC> <http://www.w3.org/1999/02/22-rdf-syntax-ns#type> <http://wikiba.se/ontology#BestRank> .\n",
      "15675\n",
      "<http://www.wikidata.org/entity/statement/Q2-E71EB7EC-AB70-4182-851B-7DA696337B60> <http://wikiba.se/ontology#rank> <http://wikiba.se/ontology#NormalRank> .\n",
      "<http://www.wikidata.org/entity/statement/Q2-E28A80E1-EFF8-49FA-B2A6-56AEA1EC87AC> <http://www.wikidata.org/prop/statement/P1225> \"10046628\" .\n",
      "15676\n",
      "<http://www.wikidata.org/entity/statement/Q2-E71EB7EC-AB70-4182-851B-7DA696337B60> <http://www.w3.org/1999/02/22-rdf-syntax-ns#type> <http://wikiba.se/ontology#BestRank> .\n",
      "<http://www.wikidata.org/entity/statement/Q2-E71EB7EC-AB70-4182-851B-7DA696337B60> <http://wikiba.se/ontology#rank> <http://wikiba.se/ontology#NormalRank> .\n",
      "15677\n",
      "<http://www.wikidata.org/entity/statement/Q2-E71EB7EC-AB70-4182-851B-7DA696337B60> <http://www.w3.org/ns/prov#wasDerivedFrom> <http://www.wikidata.org/reference/5b888131d331e8521e8d74d66cd5285efd92cd07> .\n",
      "<http://www.wikidata.org/entity/statement/Q2-E71EB7EC-AB70-4182-851B-7DA696337B60> <http://www.w3.org/1999/02/22-rdf-syntax-ns#type> <http://wikiba.se/ontology#BestRank> .\n",
      "15678\n",
      "<http://www.wikidata.org/entity/statement/Q2-E71EB7EC-AB70-4182-851B-7DA696337B60> <http://www.wikidata.org/prop/qualifier/P459> <http://www.wikidata.org/entity/Q47005776> .\n",
      "<http://www.wikidata.org/entity/statement/Q2-E71EB7EC-AB70-4182-851B-7DA696337B60> <http://www.w3.org/ns/prov#wasDerivedFrom> <http://www.wikidata.org/reference/5b888131d331e8521e8d74d66cd5285efd92cd07> .\n",
      "15679\n",
      "<http://www.wikidata.org/entity/statement/Q2-E71EB7EC-AB70-4182-851B-7DA696337B60> <http://www.wikidata.org/prop/qualifier/P585> \"1999-01-01T00:00:00+00:00\"^^<http://www.w3.org/2001/XMLSchema#dateTime> .\n",
      "<http://www.wikidata.org/entity/statement/Q2-E71EB7EC-AB70-4182-851B-7DA696337B60> <http://www.wikidata.org/prop/qualifier/P459> <http://www.wikidata.org/entity/Q47005776> .\n",
      "15680\n",
      "<http://www.wikidata.org/entity/statement/Q2-E71EB7EC-AB70-4182-851B-7DA696337B60> <http://www.wikidata.org/prop/qualifier/value/P585> <http://www.wikidata.org/value/6507b37009e074036cb6279ec2e50f73> .\n",
      "<http://www.wikidata.org/entity/statement/Q2-E71EB7EC-AB70-4182-851B-7DA696337B60> <http://www.wikidata.org/prop/qualifier/P585> \"1999-01-01T00:00:00+00:00\"^^<http://www.w3.org/2001/XMLSchema#dateTime> .\n",
      "15681\n",
      "<http://www.wikidata.org/entity/statement/Q2-E71EB7EC-AB70-4182-851B-7DA696337B60> <http://www.wikidata.org/prop/statement/P2573> \"379000000.0\"^^<http://www.w3.org/2001/XMLSchema#decimal> .\n",
      "<http://www.wikidata.org/entity/statement/Q2-E71EB7EC-AB70-4182-851B-7DA696337B60> <http://www.wikidata.org/prop/qualifier/value/P585> <http://www.wikidata.org/value/6507b37009e074036cb6279ec2e50f73> .\n",
      "15682\n",
      "<http://www.wikidata.org/entity/statement/Q2-E71EB7EC-AB70-4182-851B-7DA696337B60> <http://www.wikidata.org/prop/statement/value/P2573> <http://www.wikidata.org/value/105e0172b23c2c1744292d62f068cf18> .\n",
      "<http://www.wikidata.org/entity/statement/Q2-E71EB7EC-AB70-4182-851B-7DA696337B60> <http://www.wikidata.org/prop/statement/P2573> \"379000000.0\"^^<http://www.w3.org/2001/XMLSchema#decimal> .\n",
      "15683\n",
      "<http://www.wikidata.org/entity/statement/Q2-F06108E7-4A3A-443A-A913-21AF4946281A> <http://wikiba.se/ontology#rank> <http://wikiba.se/ontology#NormalRank> .\n",
      "<http://www.wikidata.org/entity/statement/Q2-E71EB7EC-AB70-4182-851B-7DA696337B60> <http://www.wikidata.org/prop/statement/value/P2573> <http://www.wikidata.org/value/105e0172b23c2c1744292d62f068cf18> .\n",
      "15684\n",
      "<http://www.wikidata.org/entity/statement/Q2-F06108E7-4A3A-443A-A913-21AF4946281A> <http://www.w3.org/1999/02/22-rdf-syntax-ns#type> <http://wikiba.se/ontology#BestRank> .\n",
      "<http://www.wikidata.org/entity/statement/Q2-F06108E7-4A3A-443A-A913-21AF4946281A> <http://wikiba.se/ontology#rank> <http://wikiba.se/ontology#NormalRank> .\n",
      "15685\n",
      "<http://www.wikidata.org/entity/statement/Q2-F06108E7-4A3A-443A-A913-21AF4946281A> <http://www.wikidata.org/prop/statement/P3827> \"earth\" .\n",
      "<http://www.wikidata.org/entity/statement/Q2-F06108E7-4A3A-443A-A913-21AF4946281A> <http://www.w3.org/1999/02/22-rdf-syntax-ns#type> <http://wikiba.se/ontology#BestRank> .\n",
      "15686\n",
      "<http://www.wikidata.org/entity/statement/Q2-F0E59974-533A-461C-86FC-A11112E308CE> <http://wikiba.se/ontology#hasViolationForConstraint> <http://www.wikidata.org/entity/statement/P1225-EADAFC4F-D9A3-4B1E-A13C-5A4697587B6E> .\n",
      "<http://www.wikidata.org/entity/statement/Q2-F06108E7-4A3A-443A-A913-21AF4946281A> <http://www.wikidata.org/prop/statement/P3827> \"earth\" .\n",
      "15687\n",
      "<http://www.wikidata.org/entity/statement/Q2-F0E59974-533A-461C-86FC-A11112E308CE> <http://wikiba.se/ontology#rank> <http://wikiba.se/ontology#NormalRank> .\n",
      "<http://www.wikidata.org/entity/statement/Q2-F0E59974-533A-461C-86FC-A11112E308CE> <http://wikiba.se/ontology#hasViolationForConstraint> <http://www.wikidata.org/entity/statement/P1225-EADAFC4F-D9A3-4B1E-A13C-5A4697587B6E> .\n",
      "15688\n",
      "<http://www.wikidata.org/entity/statement/Q2-F0E59974-533A-461C-86FC-A11112E308CE> <http://www.w3.org/1999/02/22-rdf-syntax-ns#type> <http://wikiba.se/ontology#BestRank> .\n",
      "<http://www.wikidata.org/entity/statement/Q2-F0E59974-533A-461C-86FC-A11112E308CE> <http://wikiba.se/ontology#rank> <http://wikiba.se/ontology#NormalRank> .\n",
      "15689\n",
      "<http://www.wikidata.org/entity/statement/Q2-F0E59974-533A-461C-86FC-A11112E308CE> <http://www.wikidata.org/prop/statement/P1225> \"10637787\" .\n",
      "<http://www.wikidata.org/entity/statement/Q2-F0E59974-533A-461C-86FC-A11112E308CE> <http://www.w3.org/1999/02/22-rdf-syntax-ns#type> <http://wikiba.se/ontology#BestRank> .\n",
      "15690\n",
      "<http://www.wikidata.org/entity/statement/Q2-F909BD1C-D34D-423F-9ED2-3493663321AF> <http://wikiba.se/ontology#rank> <http://wikiba.se/ontology#NormalRank> .\n",
      "<http://www.wikidata.org/entity/statement/Q2-F0E59974-533A-461C-86FC-A11112E308CE> <http://www.wikidata.org/prop/statement/P1225> \"10637787\" .\n",
      "15691\n",
      "<http://www.wikidata.org/entity/statement/Q2-F909BD1C-D34D-423F-9ED2-3493663321AF> <http://www.w3.org/1999/02/22-rdf-syntax-ns#type> <http://wikiba.se/ontology#BestRank> .\n",
      "<http://www.wikidata.org/entity/statement/Q2-F909BD1C-D34D-423F-9ED2-3493663321AF> <http://wikiba.se/ontology#rank> <http://wikiba.se/ontology#NormalRank> .\n",
      "15692\n",
      "<http://www.wikidata.org/entity/statement/Q2-F909BD1C-D34D-423F-9ED2-3493663321AF> <http://www.w3.org/ns/prov#wasDerivedFrom> <http://www.wikidata.org/reference/2b00cb481cddcac7623114367489b5c194901c4a> .\n",
      "<http://www.wikidata.org/entity/statement/Q2-F909BD1C-D34D-423F-9ED2-3493663321AF> <http://www.w3.org/1999/02/22-rdf-syntax-ns#type> <http://wikiba.se/ontology#BestRank> .\n",
      "15693\n",
      "<http://www.wikidata.org/entity/statement/Q2-F909BD1C-D34D-423F-9ED2-3493663321AF> <http://www.wikidata.org/prop/statement/P646> \"/m/02j71\" .\n",
      "<http://www.wikidata.org/entity/statement/Q2-F909BD1C-D34D-423F-9ED2-3493663321AF> <http://www.w3.org/ns/prov#wasDerivedFrom> <http://www.wikidata.org/reference/2b00cb481cddcac7623114367489b5c194901c4a> .\n",
      "15694\n",
      "<http://www.wikidata.org/entity/statement/Q2-F909BD1C-D34D-423F-9ED2-3493663321AF> <http://www.wikidata.org/prop/statement/value-normalized/P646> <http://g.co/kg/m/02j71> .\n",
      "<http://www.wikidata.org/entity/statement/Q2-F909BD1C-D34D-423F-9ED2-3493663321AF> <http://www.wikidata.org/prop/statement/P646> \"/m/02j71\" .\n",
      "15695\n",
      "<http://www.wikidata.org/entity/statement/Q2-FC807BB8-FD05-4748-8114-FBF44E4B73DF> <http://wikiba.se/ontology#hasViolationForConstraint> <http://www.wikidata.org/entity/statement/P5573-18E6B829-3F02-4E8D-9069-DF41E290BCB9> .\n",
      "<http://www.wikidata.org/entity/statement/Q2-F909BD1C-D34D-423F-9ED2-3493663321AF> <http://www.wikidata.org/prop/statement/value-normalized/P646> <http://g.co/kg/m/02j71> .\n",
      "15696\n",
      "<http://www.wikidata.org/entity/statement/Q2-FC807BB8-FD05-4748-8114-FBF44E4B73DF> <http://wikiba.se/ontology#hasViolationForConstraint> <http://www.wikidata.org/entity/statement/P5573-27171242-F46D-43A6-A107-623B2D1F6F1B> .\n",
      "<http://www.wikidata.org/entity/statement/Q2-FC807BB8-FD05-4748-8114-FBF44E4B73DF> <http://wikiba.se/ontology#hasViolationForConstraint> <http://www.wikidata.org/entity/statement/P5573-18E6B829-3F02-4E8D-9069-DF41E290BCB9> .\n",
      "15697\n",
      "<http://www.wikidata.org/entity/statement/Q2-FC807BB8-FD05-4748-8114-FBF44E4B73DF> <http://wikiba.se/ontology#rank> <http://wikiba.se/ontology#NormalRank> .\n",
      "<http://www.wikidata.org/entity/statement/Q2-FC807BB8-FD05-4748-8114-FBF44E4B73DF> <http://wikiba.se/ontology#hasViolationForConstraint> <http://www.wikidata.org/entity/statement/P5573-27171242-F46D-43A6-A107-623B2D1F6F1B> .\n",
      "15698\n",
      "<http://www.wikidata.org/entity/statement/Q2-FC807BB8-FD05-4748-8114-FBF44E4B73DF> <http://www.w3.org/1999/02/22-rdf-syntax-ns#type> <http://wikiba.se/ontology#BestRank> .\n",
      "<http://www.wikidata.org/entity/statement/Q2-FC807BB8-FD05-4748-8114-FBF44E4B73DF> <http://wikiba.se/ontology#rank> <http://wikiba.se/ontology#NormalRank> .\n",
      "15699\n",
      "<http://www.wikidata.org/entity/statement/Q2-FC807BB8-FD05-4748-8114-FBF44E4B73DF> <http://www.w3.org/ns/prov#wasDerivedFrom> <http://www.wikidata.org/reference/21494d78c86d729112257391ca4131a84f73b44b> .\n",
      "<http://www.wikidata.org/entity/statement/Q2-FC807BB8-FD05-4748-8114-FBF44E4B73DF> <http://www.w3.org/1999/02/22-rdf-syntax-ns#type> <http://wikiba.se/ontology#BestRank> .\n",
      "15700\n",
      "<http://www.wikidata.org/entity/statement/Q2-FC807BB8-FD05-4748-8114-FBF44E4B73DF> <http://www.wikidata.org/prop/statement/P5573> \"3070\" .\n",
      "<http://www.wikidata.org/entity/statement/Q2-FC807BB8-FD05-4748-8114-FBF44E4B73DF> <http://www.w3.org/ns/prov#wasDerivedFrom> <http://www.wikidata.org/reference/21494d78c86d729112257391ca4131a84f73b44b> .\n",
      "15701\n",
      "<http://www.wikidata.org/entity/statement/Q2-a2b48f1f-426d-91b3-1e0e-1d3c7b236bd0> <http://wikiba.se/ontology#rank> <http://wikiba.se/ontology#NormalRank> .\n",
      "<http://www.wikidata.org/entity/statement/Q2-FC807BB8-FD05-4748-8114-FBF44E4B73DF> <http://www.wikidata.org/prop/statement/P5573> \"3070\" .\n",
      "15702\n",
      "<http://www.wikidata.org/entity/statement/Q2-a2b48f1f-426d-91b3-1e0e-1d3c7b236bd0> <http://www.w3.org/1999/02/22-rdf-syntax-ns#type> <http://wikiba.se/ontology#BestRank> .\n",
      "<http://www.wikidata.org/entity/statement/Q2-a2b48f1f-426d-91b3-1e0e-1d3c7b236bd0> <http://wikiba.se/ontology#rank> <http://wikiba.se/ontology#NormalRank> .\n",
      "15703\n",
      "<http://www.wikidata.org/entity/statement/Q2-a2b48f1f-426d-91b3-1e0e-1d3c7b236bd0> <http://www.wikidata.org/prop/qualifier/P2044> \"8848.0\"^^<http://www.w3.org/2001/XMLSchema#decimal> .\n",
      "<http://www.wikidata.org/entity/statement/Q2-a2b48f1f-426d-91b3-1e0e-1d3c7b236bd0> <http://www.w3.org/1999/02/22-rdf-syntax-ns#type> <http://wikiba.se/ontology#BestRank> .\n",
      "15704\n",
      "<http://www.wikidata.org/entity/statement/Q2-a2b48f1f-426d-91b3-1e0e-1d3c7b236bd0> <http://www.wikidata.org/prop/qualifier/P459> <http://www.wikidata.org/entity/Q125465> .\n",
      "<http://www.wikidata.org/entity/statement/Q2-a2b48f1f-426d-91b3-1e0e-1d3c7b236bd0> <http://www.wikidata.org/prop/qualifier/P2044> \"8848.0\"^^<http://www.w3.org/2001/XMLSchema#decimal> .\n",
      "15705\n",
      "<http://www.wikidata.org/entity/statement/Q2-a2b48f1f-426d-91b3-1e0e-1d3c7b236bd0> <http://www.wikidata.org/prop/qualifier/value-normalized/P2044> <http://www.wikidata.org/value/facc3c2da17f20e1a1f10b3246b429b7> .\n",
      "<http://www.wikidata.org/entity/statement/Q2-a2b48f1f-426d-91b3-1e0e-1d3c7b236bd0> <http://www.wikidata.org/prop/qualifier/P459> <http://www.wikidata.org/entity/Q125465> .\n",
      "15706\n",
      "<http://www.wikidata.org/entity/statement/Q2-a2b48f1f-426d-91b3-1e0e-1d3c7b236bd0> <http://www.wikidata.org/prop/qualifier/value/P2044> <http://www.wikidata.org/value/facc3c2da17f20e1a1f10b3246b429b7> .\n",
      "<http://www.wikidata.org/entity/statement/Q2-a2b48f1f-426d-91b3-1e0e-1d3c7b236bd0> <http://www.wikidata.org/prop/qualifier/value-normalized/P2044> <http://www.wikidata.org/value/facc3c2da17f20e1a1f10b3246b429b7> .\n",
      "15707\n",
      "<http://www.wikidata.org/entity/statement/Q2-a2b48f1f-426d-91b3-1e0e-1d3c7b236bd0> <http://www.wikidata.org/prop/statement/P610> <http://www.wikidata.org/entity/Q513> .\n",
      "<http://www.wikidata.org/entity/statement/Q2-a2b48f1f-426d-91b3-1e0e-1d3c7b236bd0> <http://www.wikidata.org/prop/qualifier/value/P2044> <http://www.wikidata.org/value/facc3c2da17f20e1a1f10b3246b429b7> .\n",
      "15708\n",
      "<http://www.wikidata.org/entity/statement/Q2-a3137978-421b-0d12-35d5-850d82207b96> <http://wikiba.se/ontology#hasViolationForConstraint> <http://www.wikidata.org/entity/statement/P1082-E8CBFFC0-0655-46D1-B292-FECE461E8253> .\n",
      "<http://www.wikidata.org/entity/statement/Q2-a2b48f1f-426d-91b3-1e0e-1d3c7b236bd0> <http://www.wikidata.org/prop/statement/P610> <http://www.wikidata.org/entity/Q513> .\n",
      "15709\n",
      "<http://www.wikidata.org/entity/statement/Q2-a3137978-421b-0d12-35d5-850d82207b96> <http://wikiba.se/ontology#rank> <http://wikiba.se/ontology#NormalRank> .\n",
      "<http://www.wikidata.org/entity/statement/Q2-a3137978-421b-0d12-35d5-850d82207b96> <http://wikiba.se/ontology#hasViolationForConstraint> <http://www.wikidata.org/entity/statement/P1082-E8CBFFC0-0655-46D1-B292-FECE461E8253> .\n",
      "15710\n",
      "<http://www.wikidata.org/entity/statement/Q2-a3137978-421b-0d12-35d5-850d82207b96> <http://www.wikidata.org/prop/qualifier/P585> \"1980-01-01T00:00:00+00:00\"^^<http://www.w3.org/2001/XMLSchema#dateTime> .\n",
      "<http://www.wikidata.org/entity/statement/Q2-a3137978-421b-0d12-35d5-850d82207b96> <http://wikiba.se/ontology#rank> <http://wikiba.se/ontology#NormalRank> .\n",
      "15711\n",
      "<http://www.wikidata.org/entity/statement/Q2-a3137978-421b-0d12-35d5-850d82207b96> <http://www.wikidata.org/prop/qualifier/value/P585> <http://www.wikidata.org/value/34d17d07cc2d00a6b3ee30c989d96f66> .\n",
      "<http://www.wikidata.org/entity/statement/Q2-a3137978-421b-0d12-35d5-850d82207b96> <http://www.wikidata.org/prop/qualifier/P585> \"1980-01-01T00:00:00+00:00\"^^<http://www.w3.org/2001/XMLSchema#dateTime> .\n",
      "15712\n",
      "<http://www.wikidata.org/entity/statement/Q2-a3137978-421b-0d12-35d5-850d82207b96> <http://www.wikidata.org/prop/statement/P1082> \"4434682000.0\"^^<http://www.w3.org/2001/XMLSchema#decimal> .\n",
      "<http://www.wikidata.org/entity/statement/Q2-a3137978-421b-0d12-35d5-850d82207b96> <http://www.wikidata.org/prop/qualifier/value/P585> <http://www.wikidata.org/value/34d17d07cc2d00a6b3ee30c989d96f66> .\n",
      "15713\n",
      "<http://www.wikidata.org/entity/statement/Q2-a3137978-421b-0d12-35d5-850d82207b96> <http://www.wikidata.org/prop/statement/value/P1082> <http://www.wikidata.org/value/3ab4ab053c61b1302649a62131ee9215> .\n",
      "<http://www.wikidata.org/entity/statement/Q2-a3137978-421b-0d12-35d5-850d82207b96> <http://www.wikidata.org/prop/statement/P1082> \"4434682000.0\"^^<http://www.w3.org/2001/XMLSchema#decimal> .\n",
      "15714\n",
      "<http://www.wikidata.org/entity/statement/Q2-a4565287-4f3e-894e-5e1b-8ddb1e655243> <http://wikiba.se/ontology#hasViolationForConstraint> <http://www.wikidata.org/entity/statement/P1082-E8CBFFC0-0655-46D1-B292-FECE461E8253> .\n",
      "<http://www.wikidata.org/entity/statement/Q2-a3137978-421b-0d12-35d5-850d82207b96> <http://www.wikidata.org/prop/statement/value/P1082> <http://www.wikidata.org/value/3ab4ab053c61b1302649a62131ee9215> .\n",
      "15715\n",
      "<http://www.wikidata.org/entity/statement/Q2-a4565287-4f3e-894e-5e1b-8ddb1e655243> <http://wikiba.se/ontology#rank> <http://wikiba.se/ontology#NormalRank> .\n",
      "<http://www.wikidata.org/entity/statement/Q2-a4565287-4f3e-894e-5e1b-8ddb1e655243> <http://wikiba.se/ontology#hasViolationForConstraint> <http://www.wikidata.org/entity/statement/P1082-E8CBFFC0-0655-46D1-B292-FECE461E8253> .\n",
      "15716\n",
      "<http://www.wikidata.org/entity/statement/Q2-a4565287-4f3e-894e-5e1b-8ddb1e655243> <http://www.wikidata.org/prop/qualifier/P585> \"1900-01-01T00:00:00+00:00\"^^<http://www.w3.org/2001/XMLSchema#dateTime> .\n",
      "<http://www.wikidata.org/entity/statement/Q2-a4565287-4f3e-894e-5e1b-8ddb1e655243> <http://wikiba.se/ontology#rank> <http://wikiba.se/ontology#NormalRank> .\n",
      "15717\n",
      "<http://www.wikidata.org/entity/statement/Q2-a4565287-4f3e-894e-5e1b-8ddb1e655243> <http://www.wikidata.org/prop/qualifier/value/P585> <http://www.wikidata.org/value/65a9758048d9dbf31886f78dce46dbf6> .\n",
      "<http://www.wikidata.org/entity/statement/Q2-a4565287-4f3e-894e-5e1b-8ddb1e655243> <http://www.wikidata.org/prop/qualifier/P585> \"1900-01-01T00:00:00+00:00\"^^<http://www.w3.org/2001/XMLSchema#dateTime> .\n",
      "15718\n",
      "<http://www.wikidata.org/entity/statement/Q2-a4565287-4f3e-894e-5e1b-8ddb1e655243> <http://www.wikidata.org/prop/statement/P1082> \"1650000000.0\"^^<http://www.w3.org/2001/XMLSchema#decimal> .\n",
      "<http://www.wikidata.org/entity/statement/Q2-a4565287-4f3e-894e-5e1b-8ddb1e655243> <http://www.wikidata.org/prop/qualifier/value/P585> <http://www.wikidata.org/value/65a9758048d9dbf31886f78dce46dbf6> .\n",
      "15719\n",
      "<http://www.wikidata.org/entity/statement/Q2-a4565287-4f3e-894e-5e1b-8ddb1e655243> <http://www.wikidata.org/prop/statement/value/P1082> <http://www.wikidata.org/value/62a1cf9a319e8e0390b5a7ad84de19b2> .\n",
      "<http://www.wikidata.org/entity/statement/Q2-a4565287-4f3e-894e-5e1b-8ddb1e655243> <http://www.wikidata.org/prop/statement/P1082> \"1650000000.0\"^^<http://www.w3.org/2001/XMLSchema#decimal> .\n",
      "15720\n",
      "<http://www.wikidata.org/entity/statement/Q2-a45d9333-452e-b292-9501-08601097424a> <http://wikiba.se/ontology#hasViolationForConstraint> <http://www.wikidata.org/entity/statement/P1082-E8CBFFC0-0655-46D1-B292-FECE461E8253> .\n",
      "<http://www.wikidata.org/entity/statement/Q2-a4565287-4f3e-894e-5e1b-8ddb1e655243> <http://www.wikidata.org/prop/statement/value/P1082> <http://www.wikidata.org/value/62a1cf9a319e8e0390b5a7ad84de19b2> .\n",
      "15721\n",
      "<http://www.wikidata.org/entity/statement/Q2-a45d9333-452e-b292-9501-08601097424a> <http://wikiba.se/ontology#rank> <http://wikiba.se/ontology#NormalRank> .\n",
      "<http://www.wikidata.org/entity/statement/Q2-a45d9333-452e-b292-9501-08601097424a> <http://wikiba.se/ontology#hasViolationForConstraint> <http://www.wikidata.org/entity/statement/P1082-E8CBFFC0-0655-46D1-B292-FECE461E8253> .\n",
      "15722\n",
      "<http://www.wikidata.org/entity/statement/Q2-a45d9333-452e-b292-9501-08601097424a> <http://www.wikidata.org/prop/qualifier/P585> \"1950-01-01T00:00:00+00:00\"^^<http://www.w3.org/2001/XMLSchema#dateTime> .\n",
      "<http://www.wikidata.org/entity/statement/Q2-a45d9333-452e-b292-9501-08601097424a> <http://wikiba.se/ontology#rank> <http://wikiba.se/ontology#NormalRank> .\n",
      "15723\n",
      "<http://www.wikidata.org/entity/statement/Q2-a45d9333-452e-b292-9501-08601097424a> <http://www.wikidata.org/prop/qualifier/value/P585> <http://www.wikidata.org/value/b4fa61f72799e8827abcd9f3598ae24f> .\n",
      "<http://www.wikidata.org/entity/statement/Q2-a45d9333-452e-b292-9501-08601097424a> <http://www.wikidata.org/prop/qualifier/P585> \"1950-01-01T00:00:00+00:00\"^^<http://www.w3.org/2001/XMLSchema#dateTime> .\n",
      "15724\n",
      "<http://www.wikidata.org/entity/statement/Q2-a45d9333-452e-b292-9501-08601097424a> <http://www.wikidata.org/prop/statement/P1082> \"2518629000.0\"^^<http://www.w3.org/2001/XMLSchema#decimal> .\n",
      "<http://www.wikidata.org/entity/statement/Q2-a45d9333-452e-b292-9501-08601097424a> <http://www.wikidata.org/prop/qualifier/value/P585> <http://www.wikidata.org/value/b4fa61f72799e8827abcd9f3598ae24f> .\n",
      "15725\n",
      "<http://www.wikidata.org/entity/statement/Q2-a45d9333-452e-b292-9501-08601097424a> <http://www.wikidata.org/prop/statement/value/P1082> <http://www.wikidata.org/value/0ac84fa5571ff353a85ee25f984d6495> .\n",
      "<http://www.wikidata.org/entity/statement/Q2-a45d9333-452e-b292-9501-08601097424a> <http://www.wikidata.org/prop/statement/P1082> \"2518629000.0\"^^<http://www.w3.org/2001/XMLSchema#decimal> .\n",
      "15726\n",
      "<http://www.wikidata.org/entity/statement/Q2-a4778389-40a8-179f-8d1a-194e3c18cf66> <http://wikiba.se/ontology#rank> <http://wikiba.se/ontology#NormalRank> .\n",
      "<http://www.wikidata.org/entity/statement/Q2-a45d9333-452e-b292-9501-08601097424a> <http://www.wikidata.org/prop/statement/value/P1082> <http://www.wikidata.org/value/0ac84fa5571ff353a85ee25f984d6495> .\n",
      "15727\n",
      "<http://www.wikidata.org/entity/statement/Q2-a4778389-40a8-179f-8d1a-194e3c18cf66> <http://www.w3.org/1999/02/22-rdf-syntax-ns#type> <http://wikiba.se/ontology#BestRank> .\n",
      "<http://www.wikidata.org/entity/statement/Q2-a4778389-40a8-179f-8d1a-194e3c18cf66> <http://wikiba.se/ontology#rank> <http://wikiba.se/ontology#NormalRank> .\n",
      "15728\n",
      "<http://www.wikidata.org/entity/statement/Q2-a4778389-40a8-179f-8d1a-194e3c18cf66> <http://www.wikidata.org/prop/qualifier/P407> <http://www.wikidata.org/entity/Q1450506> .\n",
      "<http://www.wikidata.org/entity/statement/Q2-a4778389-40a8-179f-8d1a-194e3c18cf66> <http://www.w3.org/1999/02/22-rdf-syntax-ns#type> <http://wikiba.se/ontology#BestRank> .\n",
      "15729\n",
      "<http://www.wikidata.org/entity/statement/Q2-a4778389-40a8-179f-8d1a-194e3c18cf66> <http://www.wikidata.org/prop/statement/P443> <http://commons.wikimedia.org/wiki/Special:FilePath/Fr-terre-ca-Montr%C3%A9al.ogg> .\n",
      "<http://www.wikidata.org/entity/statement/Q2-a4778389-40a8-179f-8d1a-194e3c18cf66> <http://www.wikidata.org/prop/qualifier/P407> <http://www.wikidata.org/entity/Q1450506> .\n",
      "15730\n",
      "<http://www.wikidata.org/entity/statement/Q2-a6c04236-4651-f8cf-9ec0-faf372164e7e> <http://wikiba.se/ontology#rank> <http://wikiba.se/ontology#NormalRank> .\n",
      "<http://www.wikidata.org/entity/statement/Q2-a4778389-40a8-179f-8d1a-194e3c18cf66> <http://www.wikidata.org/prop/statement/P443> <http://commons.wikimedia.org/wiki/Special:FilePath/Fr-terre-ca-Montr%C3%A9al.ogg> .\n",
      "15731\n",
      "<http://www.wikidata.org/entity/statement/Q2-a6c04236-4651-f8cf-9ec0-faf372164e7e> <http://www.w3.org/1999/02/22-rdf-syntax-ns#type> <http://wikiba.se/ontology#BestRank> .\n",
      "<http://www.wikidata.org/entity/statement/Q2-a6c04236-4651-f8cf-9ec0-faf372164e7e> <http://wikiba.se/ontology#rank> <http://wikiba.se/ontology#NormalRank> .\n",
      "15732\n",
      "<http://www.wikidata.org/entity/statement/Q2-a6c04236-4651-f8cf-9ec0-faf372164e7e> <http://www.wikidata.org/prop/statement/P2233> \"1.0\"^^<http://www.w3.org/2001/XMLSchema#decimal> .\n",
      "<http://www.wikidata.org/entity/statement/Q2-a6c04236-4651-f8cf-9ec0-faf372164e7e> <http://www.w3.org/1999/02/22-rdf-syntax-ns#type> <http://wikiba.se/ontology#BestRank> .\n",
      "15733\n",
      "<http://www.wikidata.org/entity/statement/Q2-a6c04236-4651-f8cf-9ec0-faf372164e7e> <http://www.wikidata.org/prop/statement/value-normalized/P2233> <http://www.wikidata.org/value/b0dc39e9c081dd398ab0ff77a78fd79a> .\n",
      "<http://www.wikidata.org/entity/statement/Q2-a6c04236-4651-f8cf-9ec0-faf372164e7e> <http://www.wikidata.org/prop/statement/P2233> \"1.0\"^^<http://www.w3.org/2001/XMLSchema#decimal> .\n",
      "15734\n",
      "<http://www.wikidata.org/entity/statement/Q2-a6c04236-4651-f8cf-9ec0-faf372164e7e> <http://www.wikidata.org/prop/statement/value/P2233> <http://www.wikidata.org/value/ff296d21c7bb89b1d5ff8cf62e43e951> .\n",
      "<http://www.wikidata.org/entity/statement/Q2-a6c04236-4651-f8cf-9ec0-faf372164e7e> <http://www.wikidata.org/prop/statement/value-normalized/P2233> <http://www.wikidata.org/value/b0dc39e9c081dd398ab0ff77a78fd79a> .\n",
      "15735\n",
      "<http://www.wikidata.org/entity/statement/Q2-a7c3d357-44b5-b43c-574a-1c15e04b0146> <http://wikiba.se/ontology#hasViolationForConstraint> <http://www.wikidata.org/entity/statement/P163-64CA8FE5-7AFA-435E-8900-B806FAA8DFC6> .\n",
      "<http://www.wikidata.org/entity/statement/Q2-a6c04236-4651-f8cf-9ec0-faf372164e7e> <http://www.wikidata.org/prop/statement/value/P2233> <http://www.wikidata.org/value/ff296d21c7bb89b1d5ff8cf62e43e951> .\n",
      "15736\n",
      "<http://www.wikidata.org/entity/statement/Q2-a7c3d357-44b5-b43c-574a-1c15e04b0146> <http://wikiba.se/ontology#rank> <http://wikiba.se/ontology#NormalRank> .\n",
      "<http://www.wikidata.org/entity/statement/Q2-a7c3d357-44b5-b43c-574a-1c15e04b0146> <http://wikiba.se/ontology#hasViolationForConstraint> <http://www.wikidata.org/entity/statement/P163-64CA8FE5-7AFA-435E-8900-B806FAA8DFC6> .\n",
      "15737\n",
      "<http://www.wikidata.org/entity/statement/Q2-a7c3d357-44b5-b43c-574a-1c15e04b0146> <http://www.w3.org/1999/02/22-rdf-syntax-ns#type> <http://wikiba.se/ontology#BestRank> .\n",
      "<http://www.wikidata.org/entity/statement/Q2-a7c3d357-44b5-b43c-574a-1c15e04b0146> <http://wikiba.se/ontology#rank> <http://wikiba.se/ontology#NormalRank> .\n",
      "15738\n",
      "<http://www.wikidata.org/entity/statement/Q2-a7c3d357-44b5-b43c-574a-1c15e04b0146> <http://www.wikidata.org/prop/statement/P163> <http://www.wikidata.org/entity/Q2293672> .\n",
      "<http://www.wikidata.org/entity/statement/Q2-a7c3d357-44b5-b43c-574a-1c15e04b0146> <http://www.w3.org/1999/02/22-rdf-syntax-ns#type> <http://wikiba.se/ontology#BestRank> .\n",
      "15739\n",
      "<http://www.wikidata.org/entity/statement/Q2-a874feee-4482-bb7b-74f5-204f52992e38> <http://wikiba.se/ontology#rank> <http://wikiba.se/ontology#NormalRank> .\n",
      "<http://www.wikidata.org/entity/statement/Q2-a7c3d357-44b5-b43c-574a-1c15e04b0146> <http://www.wikidata.org/prop/statement/P163> <http://www.wikidata.org/entity/Q2293672> .\n",
      "15740\n",
      "<http://www.wikidata.org/entity/statement/Q2-a874feee-4482-bb7b-74f5-204f52992e38> <http://www.w3.org/1999/02/22-rdf-syntax-ns#type> <http://wikiba.se/ontology#BestRank> .\n",
      "<http://www.wikidata.org/entity/statement/Q2-a874feee-4482-bb7b-74f5-204f52992e38> <http://wikiba.se/ontology#rank> <http://wikiba.se/ontology#NormalRank> .\n",
      "15741\n",
      "<http://www.wikidata.org/entity/statement/Q2-a874feee-4482-bb7b-74f5-204f52992e38> <http://www.wikidata.org/prop/qualifier/P805> <http://www.wikidata.org/entity/Q934> .\n",
      "<http://www.wikidata.org/entity/statement/Q2-a874feee-4482-bb7b-74f5-204f52992e38> <http://www.w3.org/1999/02/22-rdf-syntax-ns#type> <http://wikiba.se/ontology#BestRank> .\n",
      "15742\n",
      "<http://www.wikidata.org/entity/statement/Q2-a874feee-4482-bb7b-74f5-204f52992e38> <http://www.wikidata.org/prop/statement/P1332> \"Point(0.0 90.0)\"^^<http://www.opengis.net/ont/geosparql#wktLiteral> .\n",
      "<http://www.wikidata.org/entity/statement/Q2-a874feee-4482-bb7b-74f5-204f52992e38> <http://www.wikidata.org/prop/qualifier/P805> <http://www.wikidata.org/entity/Q934> .\n",
      "15743\n",
      "<http://www.wikidata.org/entity/statement/Q2-a874feee-4482-bb7b-74f5-204f52992e38> <http://www.wikidata.org/prop/statement/value/P1332> <http://www.wikidata.org/value/4a9c3e9b1f2de7c6036deb34b1b13dc1> .\n",
      "<http://www.wikidata.org/entity/statement/Q2-a874feee-4482-bb7b-74f5-204f52992e38> <http://www.wikidata.org/prop/statement/P1332> \"Point(0.0 90.0)\"^^<http://www.opengis.net/ont/geosparql#wktLiteral> .\n",
      "15744\n",
      "<http://www.wikidata.org/entity/statement/Q2-ab29c85c-4a5d-c860-92af-0e873fae5415> <http://wikiba.se/ontology#rank> <http://wikiba.se/ontology#NormalRank> .\n",
      "<http://www.wikidata.org/entity/statement/Q2-a874feee-4482-bb7b-74f5-204f52992e38> <http://www.wikidata.org/prop/statement/value/P1332> <http://www.wikidata.org/value/4a9c3e9b1f2de7c6036deb34b1b13dc1> .\n",
      "15745\n",
      "<http://www.wikidata.org/entity/statement/Q2-ab29c85c-4a5d-c860-92af-0e873fae5415> <http://www.w3.org/1999/02/22-rdf-syntax-ns#type> <http://wikiba.se/ontology#BestRank> .\n",
      "<http://www.wikidata.org/entity/statement/Q2-ab29c85c-4a5d-c860-92af-0e873fae5415> <http://wikiba.se/ontology#rank> <http://wikiba.se/ontology#NormalRank> .\n",
      "15746\n",
      "<http://www.wikidata.org/entity/statement/Q2-ab29c85c-4a5d-c860-92af-0e873fae5415> <http://www.wikidata.org/prop/qualifier/P805> <http://www.wikidata.org/entity/Q23538> .\n",
      "<http://www.wikidata.org/entity/statement/Q2-ab29c85c-4a5d-c860-92af-0e873fae5415> <http://www.w3.org/1999/02/22-rdf-syntax-ns#type> <http://wikiba.se/ontology#BestRank> .\n",
      "15747\n",
      "<http://www.wikidata.org/entity/statement/Q2-ab29c85c-4a5d-c860-92af-0e873fae5415> <http://www.wikidata.org/prop/statement/P2547> \"40075.0\"^^<http://www.w3.org/2001/XMLSchema#decimal> .\n",
      "<http://www.wikidata.org/entity/statement/Q2-ab29c85c-4a5d-c860-92af-0e873fae5415> <http://www.wikidata.org/prop/qualifier/P805> <http://www.wikidata.org/entity/Q23538> .\n",
      "15748\n"
     ]
    },
    {
     "name": "stdout",
     "output_type": "stream",
     "text": [
      "<http://www.wikidata.org/entity/statement/Q2-ab29c85c-4a5d-c860-92af-0e873fae5415> <http://www.wikidata.org/prop/statement/value-normalized/P2547> <http://www.wikidata.org/value/b6cb7cf5bfc4b4aab5b107da559ab1e5> .\n",
      "<http://www.wikidata.org/entity/statement/Q2-ab29c85c-4a5d-c860-92af-0e873fae5415> <http://www.wikidata.org/prop/statement/P2547> \"40075.0\"^^<http://www.w3.org/2001/XMLSchema#decimal> .\n",
      "15749\n",
      "<http://www.wikidata.org/entity/statement/Q2-ab29c85c-4a5d-c860-92af-0e873fae5415> <http://www.wikidata.org/prop/statement/value/P2547> <http://www.wikidata.org/value/120f5644590b876f229f66ca0a42be6f> .\n",
      "<http://www.wikidata.org/entity/statement/Q2-ab29c85c-4a5d-c860-92af-0e873fae5415> <http://www.wikidata.org/prop/statement/value-normalized/P2547> <http://www.wikidata.org/value/b6cb7cf5bfc4b4aab5b107da559ab1e5> .\n",
      "15750\n",
      "<http://www.wikidata.org/entity/statement/Q2-ad156c0b-4db2-71d8-1314-b7f09ffea658> <http://wikiba.se/ontology#rank> <http://wikiba.se/ontology#NormalRank> .\n",
      "<http://www.wikidata.org/entity/statement/Q2-ab29c85c-4a5d-c860-92af-0e873fae5415> <http://www.wikidata.org/prop/statement/value/P2547> <http://www.wikidata.org/value/120f5644590b876f229f66ca0a42be6f> .\n",
      "15751\n",
      "<http://www.wikidata.org/entity/statement/Q2-ad156c0b-4db2-71d8-1314-b7f09ffea658> <http://www.wikidata.org/prop/statement/P18> <http://commons.wikimedia.org/wiki/Special:FilePath/Jordens%20inre.jpg> .\n",
      "<http://www.wikidata.org/entity/statement/Q2-ad156c0b-4db2-71d8-1314-b7f09ffea658> <http://wikiba.se/ontology#rank> <http://wikiba.se/ontology#NormalRank> .\n",
      "15752\n",
      "<http://www.wikidata.org/entity/statement/Q2-b02bff92-4d76-8061-2c4d-80cf54fff952> <http://wikiba.se/ontology#rank> <http://wikiba.se/ontology#NormalRank> .\n",
      "<http://www.wikidata.org/entity/statement/Q2-ad156c0b-4db2-71d8-1314-b7f09ffea658> <http://www.wikidata.org/prop/statement/P18> <http://commons.wikimedia.org/wiki/Special:FilePath/Jordens%20inre.jpg> .\n",
      "15753\n",
      "<http://www.wikidata.org/entity/statement/Q2-b02bff92-4d76-8061-2c4d-80cf54fff952> <http://www.w3.org/1999/02/22-rdf-syntax-ns#type> <http://wikiba.se/ontology#BestRank> .\n",
      "<http://www.wikidata.org/entity/statement/Q2-b02bff92-4d76-8061-2c4d-80cf54fff952> <http://wikiba.se/ontology#rank> <http://wikiba.se/ontology#NormalRank> .\n",
      "15754\n",
      "<http://www.wikidata.org/entity/statement/Q2-b02bff92-4d76-8061-2c4d-80cf54fff952> <http://www.w3.org/ns/prov#wasDerivedFrom> <http://www.wikidata.org/reference/6e3e6d7943eacc5027023003bed68c3401726a60> .\n",
      "<http://www.wikidata.org/entity/statement/Q2-b02bff92-4d76-8061-2c4d-80cf54fff952> <http://www.w3.org/1999/02/22-rdf-syntax-ns#type> <http://wikiba.se/ontology#BestRank> .\n",
      "15755\n",
      "<http://www.wikidata.org/entity/statement/Q2-b02bff92-4d76-8061-2c4d-80cf54fff952> <http://www.wikidata.org/prop/qualifier/P180> <http://www.wikidata.org/entity/Q828> .\n",
      "<http://www.wikidata.org/entity/statement/Q2-b02bff92-4d76-8061-2c4d-80cf54fff952> <http://www.w3.org/ns/prov#wasDerivedFrom> <http://www.wikidata.org/reference/6e3e6d7943eacc5027023003bed68c3401726a60> .\n",
      "15756\n",
      "<http://www.wikidata.org/entity/statement/Q2-b02bff92-4d76-8061-2c4d-80cf54fff952> <http://www.wikidata.org/prop/statement/P487> \"\\U0001F30E\" .\n",
      "<http://www.wikidata.org/entity/statement/Q2-b02bff92-4d76-8061-2c4d-80cf54fff952> <http://www.wikidata.org/prop/qualifier/P180> <http://www.wikidata.org/entity/Q828> .\n",
      "15757\n",
      "<http://www.wikidata.org/entity/statement/Q2-b045b7af-4938-e789-d7f5-794eaa21aa52> <http://wikiba.se/ontology#hasViolationForConstraint> <http://www.wikidata.org/entity/statement/P706-91C636DD-3BC4-4345-B07C-DE08E06A2373> .\n",
      "<http://www.wikidata.org/entity/statement/Q2-b02bff92-4d76-8061-2c4d-80cf54fff952> <http://www.wikidata.org/prop/statement/P487> \"\\U0001F30E\" .\n",
      "15758\n",
      "<http://www.wikidata.org/entity/statement/Q2-b045b7af-4938-e789-d7f5-794eaa21aa52> <http://wikiba.se/ontology#rank> <http://wikiba.se/ontology#NormalRank> .\n",
      "<http://www.wikidata.org/entity/statement/Q2-b045b7af-4938-e789-d7f5-794eaa21aa52> <http://wikiba.se/ontology#hasViolationForConstraint> <http://www.wikidata.org/entity/statement/P706-91C636DD-3BC4-4345-B07C-DE08E06A2373> .\n",
      "15759\n",
      "<http://www.wikidata.org/entity/statement/Q2-b045b7af-4938-e789-d7f5-794eaa21aa52> <http://www.w3.org/1999/02/22-rdf-syntax-ns#type> <http://wikiba.se/ontology#BestRank> .\n",
      "<http://www.wikidata.org/entity/statement/Q2-b045b7af-4938-e789-d7f5-794eaa21aa52> <http://wikiba.se/ontology#rank> <http://wikiba.se/ontology#NormalRank> .\n",
      "15760\n",
      "<http://www.wikidata.org/entity/statement/Q2-b045b7af-4938-e789-d7f5-794eaa21aa52> <http://www.wikidata.org/prop/qualifier/P642> <http://www.wikidata.org/entity/Q544> .\n",
      "<http://www.wikidata.org/entity/statement/Q2-b045b7af-4938-e789-d7f5-794eaa21aa52> <http://www.w3.org/1999/02/22-rdf-syntax-ns#type> <http://wikiba.se/ontology#BestRank> .\n",
      "15761\n",
      "<http://www.wikidata.org/entity/statement/Q2-b045b7af-4938-e789-d7f5-794eaa21aa52> <http://www.wikidata.org/prop/statement/P706> <http://www.wikidata.org/entity/Q215913> .\n",
      "<http://www.wikidata.org/entity/statement/Q2-b045b7af-4938-e789-d7f5-794eaa21aa52> <http://www.wikidata.org/prop/qualifier/P642> <http://www.wikidata.org/entity/Q544> .\n",
      "15762\n",
      "<http://www.wikidata.org/entity/statement/Q2-b1689ca7-4a00-cb4f-40ae-b5237a68d6c5> <http://wikiba.se/ontology#rank> <http://wikiba.se/ontology#NormalRank> .\n",
      "<http://www.wikidata.org/entity/statement/Q2-b045b7af-4938-e789-d7f5-794eaa21aa52> <http://www.wikidata.org/prop/statement/P706> <http://www.wikidata.org/entity/Q215913> .\n",
      "15763\n",
      "<http://www.wikidata.org/entity/statement/Q2-b1689ca7-4a00-cb4f-40ae-b5237a68d6c5> <http://www.w3.org/1999/02/22-rdf-syntax-ns#type> <http://wikiba.se/ontology#BestRank> .\n",
      "<http://www.wikidata.org/entity/statement/Q2-b1689ca7-4a00-cb4f-40ae-b5237a68d6c5> <http://wikiba.se/ontology#rank> <http://wikiba.se/ontology#NormalRank> .\n",
      "15764\n",
      "<http://www.wikidata.org/entity/statement/Q2-b1689ca7-4a00-cb4f-40ae-b5237a68d6c5> <http://www.wikidata.org/prop/statement/P949> \"003982849\" .\n",
      "<http://www.wikidata.org/entity/statement/Q2-b1689ca7-4a00-cb4f-40ae-b5237a68d6c5> <http://www.w3.org/1999/02/22-rdf-syntax-ns#type> <http://wikiba.se/ontology#BestRank> .\n",
      "15765\n",
      "<http://www.wikidata.org/entity/statement/Q2-b1c71dd0-4c30-2fa5-9c82-e8e1d2ff5e80> <http://wikiba.se/ontology#rank> <http://wikiba.se/ontology#NormalRank> .\n",
      "<http://www.wikidata.org/entity/statement/Q2-b1689ca7-4a00-cb4f-40ae-b5237a68d6c5> <http://www.wikidata.org/prop/statement/P949> \"003982849\" .\n",
      "15766\n",
      "<http://www.wikidata.org/entity/statement/Q2-b1c71dd0-4c30-2fa5-9c82-e8e1d2ff5e80> <http://www.w3.org/1999/02/22-rdf-syntax-ns#type> <http://wikiba.se/ontology#BestRank> .\n",
      "<http://www.wikidata.org/entity/statement/Q2-b1c71dd0-4c30-2fa5-9c82-e8e1d2ff5e80> <http://wikiba.se/ontology#rank> <http://wikiba.se/ontology#NormalRank> .\n",
      "15767\n",
      "<http://www.wikidata.org/entity/statement/Q2-b1c71dd0-4c30-2fa5-9c82-e8e1d2ff5e80> <http://www.wikidata.org/prop/statement/P527> <http://www.wikidata.org/entity/Q3230> .\n",
      "<http://www.wikidata.org/entity/statement/Q2-b1c71dd0-4c30-2fa5-9c82-e8e1d2ff5e80> <http://www.w3.org/1999/02/22-rdf-syntax-ns#type> <http://wikiba.se/ontology#BestRank> .\n",
      "15768\n",
      "<http://www.wikidata.org/entity/statement/Q2-b5ad93f1-401c-7946-f29a-6830c0a9b5cd> <http://wikiba.se/ontology#rank> <http://wikiba.se/ontology#NormalRank> .\n",
      "<http://www.wikidata.org/entity/statement/Q2-b1c71dd0-4c30-2fa5-9c82-e8e1d2ff5e80> <http://www.wikidata.org/prop/statement/P527> <http://www.wikidata.org/entity/Q3230> .\n",
      "15769\n",
      "<http://www.wikidata.org/entity/statement/Q2-b5ad93f1-401c-7946-f29a-6830c0a9b5cd> <http://www.w3.org/1999/02/22-rdf-syntax-ns#type> <http://wikiba.se/ontology#BestRank> .\n",
      "<http://www.wikidata.org/entity/statement/Q2-b5ad93f1-401c-7946-f29a-6830c0a9b5cd> <http://wikiba.se/ontology#rank> <http://wikiba.se/ontology#NormalRank> .\n",
      "15770\n",
      "<http://www.wikidata.org/entity/statement/Q2-b5ad93f1-401c-7946-f29a-6830c0a9b5cd> <http://www.wikidata.org/prop/statement/P527> <http://www.wikidata.org/entity/Q101949> .\n",
      "<http://www.wikidata.org/entity/statement/Q2-b5ad93f1-401c-7946-f29a-6830c0a9b5cd> <http://www.w3.org/1999/02/22-rdf-syntax-ns#type> <http://wikiba.se/ontology#BestRank> .\n",
      "15771\n",
      "<http://www.wikidata.org/entity/statement/Q2-b65176c6-4b30-285a-75d9-2fd9f057903a> <http://wikiba.se/ontology#rank> <http://wikiba.se/ontology#NormalRank> .\n",
      "<http://www.wikidata.org/entity/statement/Q2-b5ad93f1-401c-7946-f29a-6830c0a9b5cd> <http://www.wikidata.org/prop/statement/P527> <http://www.wikidata.org/entity/Q101949> .\n",
      "15772\n",
      "<http://www.wikidata.org/entity/statement/Q2-b65176c6-4b30-285a-75d9-2fd9f057903a> <http://www.w3.org/1999/02/22-rdf-syntax-ns#type> <http://wikiba.se/ontology#BestRank> .\n",
      "<http://www.wikidata.org/entity/statement/Q2-b65176c6-4b30-285a-75d9-2fd9f057903a> <http://wikiba.se/ontology#rank> <http://wikiba.se/ontology#NormalRank> .\n",
      "15773\n",
      "<http://www.wikidata.org/entity/statement/Q2-b65176c6-4b30-285a-75d9-2fd9f057903a> <http://www.wikidata.org/prop/statement/P527> <http://www.wikidata.org/entity/Q15316> .\n",
      "<http://www.wikidata.org/entity/statement/Q2-b65176c6-4b30-285a-75d9-2fd9f057903a> <http://www.w3.org/1999/02/22-rdf-syntax-ns#type> <http://wikiba.se/ontology#BestRank> .\n",
      "15774\n",
      "<http://www.wikidata.org/entity/statement/Q2-b95cf5d4-4a15-8f8e-cf09-593230ff8553> <http://wikiba.se/ontology#rank> <http://wikiba.se/ontology#DeprecatedRank> .\n",
      "<http://www.wikidata.org/entity/statement/Q2-b65176c6-4b30-285a-75d9-2fd9f057903a> <http://www.wikidata.org/prop/statement/P527> <http://www.wikidata.org/entity/Q15316> .\n",
      "15775\n",
      "<http://www.wikidata.org/entity/statement/Q2-b95cf5d4-4a15-8f8e-cf09-593230ff8553> <http://www.w3.org/ns/prov#wasDerivedFrom> <http://www.wikidata.org/reference/9e0eccc0fbb99542e259266e836ddcb9ff803780> .\n",
      "<http://www.wikidata.org/entity/statement/Q2-b95cf5d4-4a15-8f8e-cf09-593230ff8553> <http://wikiba.se/ontology#rank> <http://wikiba.se/ontology#DeprecatedRank> .\n",
      "15776\n",
      "<http://www.wikidata.org/entity/statement/Q2-b95cf5d4-4a15-8f8e-cf09-593230ff8553> <http://www.wikidata.org/prop/qualifier/P1310> <http://www.wikidata.org/entity/Q1069> .\n",
      "<http://www.wikidata.org/entity/statement/Q2-b95cf5d4-4a15-8f8e-cf09-593230ff8553> <http://www.w3.org/ns/prov#wasDerivedFrom> <http://www.wikidata.org/reference/9e0eccc0fbb99542e259266e836ddcb9ff803780> .\n",
      "15777\n",
      "<http://www.wikidata.org/entity/statement/Q2-b95cf5d4-4a15-8f8e-cf09-593230ff8553> <http://www.wikidata.org/prop/qualifier/P3680> <http://www.wikidata.org/entity/Q130352> .\n",
      "<http://www.wikidata.org/entity/statement/Q2-b95cf5d4-4a15-8f8e-cf09-593230ff8553> <http://www.wikidata.org/prop/qualifier/P1310> <http://www.wikidata.org/entity/Q1069> .\n",
      "15778\n",
      "<http://www.wikidata.org/entity/statement/Q2-b95cf5d4-4a15-8f8e-cf09-593230ff8553> <http://www.wikidata.org/prop/statement/P170> <http://www.wikidata.org/entity/Q825> .\n",
      "<http://www.wikidata.org/entity/statement/Q2-b95cf5d4-4a15-8f8e-cf09-593230ff8553> <http://www.wikidata.org/prop/qualifier/P3680> <http://www.wikidata.org/entity/Q130352> .\n",
      "15779\n",
      "<http://www.wikidata.org/entity/statement/Q2-babc77de-47da-f5a5-ac17-9ede3cab0017> <http://wikiba.se/ontology#rank> <http://wikiba.se/ontology#NormalRank> .\n",
      "<http://www.wikidata.org/entity/statement/Q2-b95cf5d4-4a15-8f8e-cf09-593230ff8553> <http://www.wikidata.org/prop/statement/P170> <http://www.wikidata.org/entity/Q825> .\n",
      "15780\n",
      "<http://www.wikidata.org/entity/statement/Q2-babc77de-47da-f5a5-ac17-9ede3cab0017> <http://www.w3.org/1999/02/22-rdf-syntax-ns#type> <http://wikiba.se/ontology#BestRank> .\n",
      "<http://www.wikidata.org/entity/statement/Q2-babc77de-47da-f5a5-ac17-9ede3cab0017> <http://wikiba.se/ontology#rank> <http://wikiba.se/ontology#NormalRank> .\n",
      "15781\n",
      "<http://www.wikidata.org/entity/statement/Q2-babc77de-47da-f5a5-ac17-9ede3cab0017> <http://www.wikidata.org/prop/statement/P4613> \"15977\" .\n",
      "<http://www.wikidata.org/entity/statement/Q2-babc77de-47da-f5a5-ac17-9ede3cab0017> <http://www.w3.org/1999/02/22-rdf-syntax-ns#type> <http://wikiba.se/ontology#BestRank> .\n",
      "15782\n",
      "<http://www.wikidata.org/entity/statement/Q2-bb786a2a-4b34-e387-23d3-a25ae199b256> <http://wikiba.se/ontology#hasViolationForConstraint> <http://www.wikidata.org/entity/statement/P1082-E8CBFFC0-0655-46D1-B292-FECE461E8253> .\n",
      "<http://www.wikidata.org/entity/statement/Q2-babc77de-47da-f5a5-ac17-9ede3cab0017> <http://www.wikidata.org/prop/statement/P4613> \"15977\" .\n",
      "15783\n",
      "<http://www.wikidata.org/entity/statement/Q2-bb786a2a-4b34-e387-23d3-a25ae199b256> <http://wikiba.se/ontology#rank> <http://wikiba.se/ontology#NormalRank> .\n",
      "<http://www.wikidata.org/entity/statement/Q2-bb786a2a-4b34-e387-23d3-a25ae199b256> <http://wikiba.se/ontology#hasViolationForConstraint> <http://www.wikidata.org/entity/statement/P1082-E8CBFFC0-0655-46D1-B292-FECE461E8253> .\n",
      "15784\n",
      "<http://www.wikidata.org/entity/statement/Q2-bb786a2a-4b34-e387-23d3-a25ae199b256> <http://www.w3.org/ns/prov#wasDerivedFrom> <http://www.wikidata.org/reference/03b8d8c1fc8086cf7954562ed406c71399660ab6> .\n",
      "<http://www.wikidata.org/entity/statement/Q2-bb786a2a-4b34-e387-23d3-a25ae199b256> <http://wikiba.se/ontology#rank> <http://wikiba.se/ontology#NormalRank> .\n",
      "15785\n",
      "<http://www.wikidata.org/entity/statement/Q2-bb786a2a-4b34-e387-23d3-a25ae199b256> <http://www.wikidata.org/prop/qualifier/P585> \"2016-11-12T00:00:00+00:00\"^^<http://www.w3.org/2001/XMLSchema#dateTime> .\n",
      "<http://www.wikidata.org/entity/statement/Q2-bb786a2a-4b34-e387-23d3-a25ae199b256> <http://www.w3.org/ns/prov#wasDerivedFrom> <http://www.wikidata.org/reference/03b8d8c1fc8086cf7954562ed406c71399660ab6> .\n",
      "15786\n",
      "<http://www.wikidata.org/entity/statement/Q2-bb786a2a-4b34-e387-23d3-a25ae199b256> <http://www.wikidata.org/prop/qualifier/value/P585> <http://www.wikidata.org/value/8b08185694f2c33ad4ea3276d5584289> .\n",
      "<http://www.wikidata.org/entity/statement/Q2-bb786a2a-4b34-e387-23d3-a25ae199b256> <http://www.wikidata.org/prop/qualifier/P585> \"2016-11-12T00:00:00+00:00\"^^<http://www.w3.org/2001/XMLSchema#dateTime> .\n",
      "15787\n",
      "<http://www.wikidata.org/entity/statement/Q2-bb786a2a-4b34-e387-23d3-a25ae199b256> <http://www.wikidata.org/prop/statement/P1082> \"7463786469.0\"^^<http://www.w3.org/2001/XMLSchema#decimal> .\n",
      "<http://www.wikidata.org/entity/statement/Q2-bb786a2a-4b34-e387-23d3-a25ae199b256> <http://www.wikidata.org/prop/qualifier/value/P585> <http://www.wikidata.org/value/8b08185694f2c33ad4ea3276d5584289> .\n",
      "15788\n",
      "<http://www.wikidata.org/entity/statement/Q2-bb786a2a-4b34-e387-23d3-a25ae199b256> <http://www.wikidata.org/prop/statement/value/P1082> <http://www.wikidata.org/value/ee2ff68c3911e00e9b0f77da971e1b04> .\n",
      "<http://www.wikidata.org/entity/statement/Q2-bb786a2a-4b34-e387-23d3-a25ae199b256> <http://www.wikidata.org/prop/statement/P1082> \"7463786469.0\"^^<http://www.w3.org/2001/XMLSchema#decimal> .\n",
      "15789\n",
      "<http://www.wikidata.org/entity/statement/Q2-bd987d2b-4361-6058-443c-05b1cdba7709> <http://wikiba.se/ontology#rank> <http://wikiba.se/ontology#NormalRank> .\n",
      "<http://www.wikidata.org/entity/statement/Q2-bb786a2a-4b34-e387-23d3-a25ae199b256> <http://www.wikidata.org/prop/statement/value/P1082> <http://www.wikidata.org/value/ee2ff68c3911e00e9b0f77da971e1b04> .\n",
      "15790\n",
      "<http://www.wikidata.org/entity/statement/Q2-bd987d2b-4361-6058-443c-05b1cdba7709> <http://www.w3.org/1999/02/22-rdf-syntax-ns#type> <http://wikiba.se/ontology#BestRank> .\n",
      "<http://www.wikidata.org/entity/statement/Q2-bd987d2b-4361-6058-443c-05b1cdba7709> <http://wikiba.se/ontology#rank> <http://wikiba.se/ontology#NormalRank> .\n",
      "15791\n",
      "<http://www.wikidata.org/entity/statement/Q2-bd987d2b-4361-6058-443c-05b1cdba7709> <http://www.wikidata.org/prop/qualifier/P805> <http://www.wikidata.org/entity/Q24732074> .\n",
      "<http://www.wikidata.org/entity/statement/Q2-bd987d2b-4361-6058-443c-05b1cdba7709> <http://www.w3.org/1999/02/22-rdf-syntax-ns#type> <http://wikiba.se/ontology#BestRank> .\n",
      "15792\n",
      "<http://www.wikidata.org/entity/statement/Q2-bd987d2b-4361-6058-443c-05b1cdba7709> <http://www.wikidata.org/prop/statement/P1343> <http://www.wikidata.org/entity/Q19180675> .\n",
      "<http://www.wikidata.org/entity/statement/Q2-bd987d2b-4361-6058-443c-05b1cdba7709> <http://www.wikidata.org/prop/qualifier/P805> <http://www.wikidata.org/entity/Q24732074> .\n",
      "15793\n",
      "<http://www.wikidata.org/entity/statement/Q2-be190bbb-495e-99f3-3ac6-0802ab68cb6a> <http://wikiba.se/ontology#rank> <http://wikiba.se/ontology#NormalRank> .\n",
      "<http://www.wikidata.org/entity/statement/Q2-bd987d2b-4361-6058-443c-05b1cdba7709> <http://www.wikidata.org/prop/statement/P1343> <http://www.wikidata.org/entity/Q19180675> .\n",
      "15794\n",
      "<http://www.wikidata.org/entity/statement/Q2-be190bbb-495e-99f3-3ac6-0802ab68cb6a> <http://www.w3.org/1999/02/22-rdf-syntax-ns#type> <http://wikiba.se/ontology#BestRank> .\n",
      "<http://www.wikidata.org/entity/statement/Q2-be190bbb-495e-99f3-3ac6-0802ab68cb6a> <http://wikiba.se/ontology#rank> <http://wikiba.se/ontology#NormalRank> .\n",
      "15795\n",
      "<http://www.wikidata.org/entity/statement/Q2-be190bbb-495e-99f3-3ac6-0802ab68cb6a> <http://www.wikidata.org/prop/qualifier/P518> <http://www.wikidata.org/entity/Q146786> .\n",
      "<http://www.wikidata.org/entity/statement/Q2-be190bbb-495e-99f3-3ac6-0802ab68cb6a> <http://www.w3.org/1999/02/22-rdf-syntax-ns#type> <http://wikiba.se/ontology#BestRank> .\n",
      "15796\n",
      "<http://www.wikidata.org/entity/statement/Q2-be190bbb-495e-99f3-3ac6-0802ab68cb6a> <http://www.wikidata.org/prop/statement/P1549> \"\\u0437\\u0435\\u043C\\u043B\\u044F\\u043D\\u0435\"@ru .\n",
      "<http://www.wikidata.org/entity/statement/Q2-be190bbb-495e-99f3-3ac6-0802ab68cb6a> <http://www.wikidata.org/prop/qualifier/P518> <http://www.wikidata.org/entity/Q146786> .\n",
      "15797\n",
      "<http://www.wikidata.org/entity/statement/Q2-bfc95ee0-4774-d111-90f8-8d2ba527a016> <http://wikiba.se/ontology#rank> <http://wikiba.se/ontology#NormalRank> .\n",
      "<http://www.wikidata.org/entity/statement/Q2-be190bbb-495e-99f3-3ac6-0802ab68cb6a> <http://www.wikidata.org/prop/statement/P1549> \"\\u0437\\u0435\\u043C\\u043B\\u044F\\u043D\\u0435\"@ru .\n",
      "15798\n",
      "<http://www.wikidata.org/entity/statement/Q2-bfc95ee0-4774-d111-90f8-8d2ba527a016> <http://www.w3.org/1999/02/22-rdf-syntax-ns#type> <http://wikiba.se/ontology#BestRank> .\n",
      "<http://www.wikidata.org/entity/statement/Q2-bfc95ee0-4774-d111-90f8-8d2ba527a016> <http://wikiba.se/ontology#rank> <http://wikiba.se/ontology#NormalRank> .\n",
      "15799\n",
      "<http://www.wikidata.org/entity/statement/Q2-bfc95ee0-4774-d111-90f8-8d2ba527a016> <http://www.wikidata.org/prop/statement/P5555> <http://commons.wikimedia.org/wiki/Special:FilePath/Jordens%20inre.svg> .\n",
      "<http://www.wikidata.org/entity/statement/Q2-bfc95ee0-4774-d111-90f8-8d2ba527a016> <http://www.w3.org/1999/02/22-rdf-syntax-ns#type> <http://wikiba.se/ontology#BestRank> .\n",
      "15800\n",
      "<http://www.wikidata.org/entity/statement/Q2-c063fb1e-42fc-57ef-3043-e7eec62ccfd3> <http://wikiba.se/ontology#hasViolationForConstraint> <http://www.wikidata.org/entity/statement/P487-54831AE7-5A96-4147-A087-14CB7D1BF6D4> .\n",
      "<http://www.wikidata.org/entity/statement/Q2-bfc95ee0-4774-d111-90f8-8d2ba527a016> <http://www.wikidata.org/prop/statement/P5555> <http://commons.wikimedia.org/wiki/Special:FilePath/Jordens%20inre.svg> .\n",
      "15801\n",
      "<http://www.wikidata.org/entity/statement/Q2-c063fb1e-42fc-57ef-3043-e7eec62ccfd3> <http://wikiba.se/ontology#rank> <http://wikiba.se/ontology#NormalRank> .\n",
      "<http://www.wikidata.org/entity/statement/Q2-c063fb1e-42fc-57ef-3043-e7eec62ccfd3> <http://wikiba.se/ontology#hasViolationForConstraint> <http://www.wikidata.org/entity/statement/P487-54831AE7-5A96-4147-A087-14CB7D1BF6D4> .\n",
      "15802\n",
      "<http://www.wikidata.org/entity/statement/Q2-c063fb1e-42fc-57ef-3043-e7eec62ccfd3> <http://www.w3.org/1999/02/22-rdf-syntax-ns#type> <http://wikiba.se/ontology#BestRank> .\n",
      "<http://www.wikidata.org/entity/statement/Q2-c063fb1e-42fc-57ef-3043-e7eec62ccfd3> <http://wikiba.se/ontology#rank> <http://wikiba.se/ontology#NormalRank> .\n",
      "15803\n",
      "<http://www.wikidata.org/entity/statement/Q2-c063fb1e-42fc-57ef-3043-e7eec62ccfd3> <http://www.w3.org/ns/prov#wasDerivedFrom> <http://www.wikidata.org/reference/b176b3b2a6ce4d55304974eda7b78a3623023ef2> .\n",
      "<http://www.wikidata.org/entity/statement/Q2-c063fb1e-42fc-57ef-3043-e7eec62ccfd3> <http://www.w3.org/1999/02/22-rdf-syntax-ns#type> <http://wikiba.se/ontology#BestRank> .\n",
      "15804\n",
      "<http://www.wikidata.org/entity/statement/Q2-c063fb1e-42fc-57ef-3043-e7eec62ccfd3> <http://www.wikidata.org/prop/statement/P487> \"\\u2641\" .\n",
      "<http://www.wikidata.org/entity/statement/Q2-c063fb1e-42fc-57ef-3043-e7eec62ccfd3> <http://www.w3.org/ns/prov#wasDerivedFrom> <http://www.wikidata.org/reference/b176b3b2a6ce4d55304974eda7b78a3623023ef2> .\n",
      "15805\n",
      "<http://www.wikidata.org/entity/statement/Q2-c0df2d1f-4e78-f05a-48a7-1b4b38ad7c29> <http://wikiba.se/ontology#hasViolationForConstraint> <http://www.wikidata.org/entity/statement/P1082-E8CBFFC0-0655-46D1-B292-FECE461E8253> .\n",
      "<http://www.wikidata.org/entity/statement/Q2-c063fb1e-42fc-57ef-3043-e7eec62ccfd3> <http://www.wikidata.org/prop/statement/P487> \"\\u2641\" .\n",
      "15806\n",
      "<http://www.wikidata.org/entity/statement/Q2-c0df2d1f-4e78-f05a-48a7-1b4b38ad7c29> <http://wikiba.se/ontology#rank> <http://wikiba.se/ontology#NormalRank> .\n",
      "<http://www.wikidata.org/entity/statement/Q2-c0df2d1f-4e78-f05a-48a7-1b4b38ad7c29> <http://wikiba.se/ontology#hasViolationForConstraint> <http://www.wikidata.org/entity/statement/P1082-E8CBFFC0-0655-46D1-B292-FECE461E8253> .\n",
      "15807\n",
      "<http://www.wikidata.org/entity/statement/Q2-c0df2d1f-4e78-f05a-48a7-1b4b38ad7c29> <http://www.w3.org/ns/prov#wasDerivedFrom> <http://www.wikidata.org/reference/fde7691db807a0bf1d953a4e24679940d73f2c29> .\n",
      "<http://www.wikidata.org/entity/statement/Q2-c0df2d1f-4e78-f05a-48a7-1b4b38ad7c29> <http://wikiba.se/ontology#rank> <http://wikiba.se/ontology#NormalRank> .\n",
      "15808\n",
      "<http://www.wikidata.org/entity/statement/Q2-c0df2d1f-4e78-f05a-48a7-1b4b38ad7c29> <http://www.wikidata.org/prop/qualifier/P585> \"2011-10-31T00:00:00+00:00\"^^<http://www.w3.org/2001/XMLSchema#dateTime> .\n",
      "<http://www.wikidata.org/entity/statement/Q2-c0df2d1f-4e78-f05a-48a7-1b4b38ad7c29> <http://www.w3.org/ns/prov#wasDerivedFrom> <http://www.wikidata.org/reference/fde7691db807a0bf1d953a4e24679940d73f2c29> .\n",
      "15809\n",
      "<http://www.wikidata.org/entity/statement/Q2-c0df2d1f-4e78-f05a-48a7-1b4b38ad7c29> <http://www.wikidata.org/prop/qualifier/value/P585> <http://www.wikidata.org/value/87296b511ac05bc992566aa070b2140b> .\n",
      "<http://www.wikidata.org/entity/statement/Q2-c0df2d1f-4e78-f05a-48a7-1b4b38ad7c29> <http://www.wikidata.org/prop/qualifier/P585> \"2011-10-31T00:00:00+00:00\"^^<http://www.w3.org/2001/XMLSchema#dateTime> .\n",
      "15810\n",
      "<http://www.wikidata.org/entity/statement/Q2-c0df2d1f-4e78-f05a-48a7-1b4b38ad7c29> <http://www.wikidata.org/prop/statement/P1082> \"7000000000.0\"^^<http://www.w3.org/2001/XMLSchema#decimal> .\n",
      "<http://www.wikidata.org/entity/statement/Q2-c0df2d1f-4e78-f05a-48a7-1b4b38ad7c29> <http://www.wikidata.org/prop/qualifier/value/P585> <http://www.wikidata.org/value/87296b511ac05bc992566aa070b2140b> .\n",
      "15811\n",
      "<http://www.wikidata.org/entity/statement/Q2-c0df2d1f-4e78-f05a-48a7-1b4b38ad7c29> <http://www.wikidata.org/prop/statement/value/P1082> <http://www.wikidata.org/value/90b03eb7afa3e1f58c124086daf99cb5> .\n",
      "<http://www.wikidata.org/entity/statement/Q2-c0df2d1f-4e78-f05a-48a7-1b4b38ad7c29> <http://www.wikidata.org/prop/statement/P1082> \"7000000000.0\"^^<http://www.w3.org/2001/XMLSchema#decimal> .\n",
      "15812\n",
      "<http://www.wikidata.org/entity/statement/Q2-c237a3ee-4c5d-dbec-3a4c-6ba7c0798e96> <http://wikiba.se/ontology#hasViolationForConstraint> <http://www.wikidata.org/entity/statement/P3847-202C5583-59D6-4DC3-AC24-34210B469F67> .\n",
      "<http://www.wikidata.org/entity/statement/Q2-c0df2d1f-4e78-f05a-48a7-1b4b38ad7c29> <http://www.wikidata.org/prop/statement/value/P1082> <http://www.wikidata.org/value/90b03eb7afa3e1f58c124086daf99cb5> .\n",
      "15813\n",
      "<http://www.wikidata.org/entity/statement/Q2-c237a3ee-4c5d-dbec-3a4c-6ba7c0798e96> <http://wikiba.se/ontology#rank> <http://wikiba.se/ontology#NormalRank> .\n",
      "<http://www.wikidata.org/entity/statement/Q2-c237a3ee-4c5d-dbec-3a4c-6ba7c0798e96> <http://wikiba.se/ontology#hasViolationForConstraint> <http://www.wikidata.org/entity/statement/P3847-202C5583-59D6-4DC3-AC24-34210B469F67> .\n",
      "15814\n",
      "<http://www.wikidata.org/entity/statement/Q2-c237a3ee-4c5d-dbec-3a4c-6ba7c0798e96> <http://www.w3.org/1999/02/22-rdf-syntax-ns#type> <http://wikiba.se/ontology#BestRank> .\n",
      "<http://www.wikidata.org/entity/statement/Q2-c237a3ee-4c5d-dbec-3a4c-6ba7c0798e96> <http://wikiba.se/ontology#rank> <http://wikiba.se/ontology#NormalRank> .\n",
      "15815\n",
      "<http://www.wikidata.org/entity/statement/Q2-c237a3ee-4c5d-dbec-3a4c-6ba7c0798e96> <http://www.wikidata.org/prop/statement/P3847> \"place:earth\" .\n",
      "<http://www.wikidata.org/entity/statement/Q2-c237a3ee-4c5d-dbec-3a4c-6ba7c0798e96> <http://www.w3.org/1999/02/22-rdf-syntax-ns#type> <http://wikiba.se/ontology#BestRank> .\n",
      "15816\n",
      "<http://www.wikidata.org/entity/statement/Q2-c640cb10-42c6-f796-307a-a2dc4395e9dc> <http://wikiba.se/ontology#rank> <http://wikiba.se/ontology#NormalRank> .\n",
      "<http://www.wikidata.org/entity/statement/Q2-c237a3ee-4c5d-dbec-3a4c-6ba7c0798e96> <http://www.wikidata.org/prop/statement/P3847> \"place:earth\" .\n",
      "15817\n",
      "<http://www.wikidata.org/entity/statement/Q2-c640cb10-42c6-f796-307a-a2dc4395e9dc> <http://www.w3.org/1999/02/22-rdf-syntax-ns#type> <http://wikiba.se/ontology#BestRank> .\n",
      "<http://www.wikidata.org/entity/statement/Q2-c640cb10-42c6-f796-307a-a2dc4395e9dc> <http://wikiba.se/ontology#rank> <http://wikiba.se/ontology#NormalRank> .\n",
      "15818\n",
      "<http://www.wikidata.org/entity/statement/Q2-c640cb10-42c6-f796-307a-a2dc4395e9dc> <http://www.wikidata.org/prop/statement/P6900> \"\\u5730\\u7403\" .\n",
      "<http://www.wikidata.org/entity/statement/Q2-c640cb10-42c6-f796-307a-a2dc4395e9dc> <http://www.w3.org/1999/02/22-rdf-syntax-ns#type> <http://wikiba.se/ontology#BestRank> .\n",
      "15819\n",
      "<http://www.wikidata.org/entity/statement/Q2-c819e056-4174-0bd3-3803-a8a8b8e0b569> <http://wikiba.se/ontology#rank> <http://wikiba.se/ontology#NormalRank> .\n",
      "<http://www.wikidata.org/entity/statement/Q2-c640cb10-42c6-f796-307a-a2dc4395e9dc> <http://www.wikidata.org/prop/statement/P6900> \"\\u5730\\u7403\" .\n",
      "15820\n",
      "<http://www.wikidata.org/entity/statement/Q2-c819e056-4174-0bd3-3803-a8a8b8e0b569> <http://www.w3.org/1999/02/22-rdf-syntax-ns#type> <http://wikiba.se/ontology#BestRank> .\n",
      "<http://www.wikidata.org/entity/statement/Q2-c819e056-4174-0bd3-3803-a8a8b8e0b569> <http://wikiba.se/ontology#rank> <http://wikiba.se/ontology#NormalRank> .\n",
      "15821\n",
      "<http://www.wikidata.org/entity/statement/Q2-c819e056-4174-0bd3-3803-a8a8b8e0b569> <http://www.wikidata.org/prop/statement/P2924> \"2381210\" .\n",
      "<http://www.wikidata.org/entity/statement/Q2-c819e056-4174-0bd3-3803-a8a8b8e0b569> <http://www.w3.org/1999/02/22-rdf-syntax-ns#type> <http://wikiba.se/ontology#BestRank> .\n",
      "15822\n",
      "<http://www.wikidata.org/entity/statement/Q2-cae68193-496a-abf6-a75e-6365bac000e2> <http://wikiba.se/ontology#hasViolationForConstraint> <http://www.wikidata.org/entity/statement/P1082-E8CBFFC0-0655-46D1-B292-FECE461E8253> .\n",
      "<http://www.wikidata.org/entity/statement/Q2-c819e056-4174-0bd3-3803-a8a8b8e0b569> <http://www.wikidata.org/prop/statement/P2924> \"2381210\" .\n",
      "15823\n",
      "<http://www.wikidata.org/entity/statement/Q2-cae68193-496a-abf6-a75e-6365bac000e2> <http://wikiba.se/ontology#rank> <http://wikiba.se/ontology#NormalRank> .\n",
      "<http://www.wikidata.org/entity/statement/Q2-cae68193-496a-abf6-a75e-6365bac000e2> <http://wikiba.se/ontology#hasViolationForConstraint> <http://www.wikidata.org/entity/statement/P1082-E8CBFFC0-0655-46D1-B292-FECE461E8253> .\n",
      "15824\n",
      "<http://www.wikidata.org/entity/statement/Q2-cae68193-496a-abf6-a75e-6365bac000e2> <http://www.w3.org/ns/prov#wasDerivedFrom> <http://www.wikidata.org/reference/1211f6cbce414f09683a99b4fe36fdc51a760f03> .\n",
      "<http://www.wikidata.org/entity/statement/Q2-cae68193-496a-abf6-a75e-6365bac000e2> <http://wikiba.se/ontology#rank> <http://wikiba.se/ontology#NormalRank> .\n",
      "15825\n",
      "<http://www.wikidata.org/entity/statement/Q2-cae68193-496a-abf6-a75e-6365bac000e2> <http://www.wikidata.org/prop/qualifier/P585> \"1999-10-12T00:00:00+00:00\"^^<http://www.w3.org/2001/XMLSchema#dateTime> .\n",
      "<http://www.wikidata.org/entity/statement/Q2-cae68193-496a-abf6-a75e-6365bac000e2> <http://www.w3.org/ns/prov#wasDerivedFrom> <http://www.wikidata.org/reference/1211f6cbce414f09683a99b4fe36fdc51a760f03> .\n",
      "15826\n",
      "<http://www.wikidata.org/entity/statement/Q2-cae68193-496a-abf6-a75e-6365bac000e2> <http://www.wikidata.org/prop/qualifier/value/P585> <http://www.wikidata.org/value/8e3fd8ebfd4354b138846ac14bef198b> .\n",
      "<http://www.wikidata.org/entity/statement/Q2-cae68193-496a-abf6-a75e-6365bac000e2> <http://www.wikidata.org/prop/qualifier/P585> \"1999-10-12T00:00:00+00:00\"^^<http://www.w3.org/2001/XMLSchema#dateTime> .\n",
      "15827\n",
      "<http://www.wikidata.org/entity/statement/Q2-cae68193-496a-abf6-a75e-6365bac000e2> <http://www.wikidata.org/prop/statement/P1082> \"6000000000.0\"^^<http://www.w3.org/2001/XMLSchema#decimal> .\n",
      "<http://www.wikidata.org/entity/statement/Q2-cae68193-496a-abf6-a75e-6365bac000e2> <http://www.wikidata.org/prop/qualifier/value/P585> <http://www.wikidata.org/value/8e3fd8ebfd4354b138846ac14bef198b> .\n",
      "15828\n",
      "<http://www.wikidata.org/entity/statement/Q2-cae68193-496a-abf6-a75e-6365bac000e2> <http://www.wikidata.org/prop/statement/value/P1082> <http://www.wikidata.org/value/267b4fbc2a3a4498cab6e2a46642a79c> .\n",
      "<http://www.wikidata.org/entity/statement/Q2-cae68193-496a-abf6-a75e-6365bac000e2> <http://www.wikidata.org/prop/statement/P1082> \"6000000000.0\"^^<http://www.w3.org/2001/XMLSchema#decimal> .\n",
      "15829\n",
      "<http://www.wikidata.org/entity/statement/Q2-cb06624c-4871-9105-7ea9-24de77e5debf> <http://wikiba.se/ontology#rank> <http://wikiba.se/ontology#NormalRank> .\n",
      "<http://www.wikidata.org/entity/statement/Q2-cae68193-496a-abf6-a75e-6365bac000e2> <http://www.wikidata.org/prop/statement/value/P1082> <http://www.wikidata.org/value/267b4fbc2a3a4498cab6e2a46642a79c> .\n",
      "15830\n",
      "<http://www.wikidata.org/entity/statement/Q2-cb06624c-4871-9105-7ea9-24de77e5debf> <http://www.w3.org/1999/02/22-rdf-syntax-ns#type> <http://wikiba.se/ontology#BestRank> .\n",
      "<http://www.wikidata.org/entity/statement/Q2-cb06624c-4871-9105-7ea9-24de77e5debf> <http://wikiba.se/ontology#rank> <http://wikiba.se/ontology#NormalRank> .\n",
      "15831\n",
      "<http://www.wikidata.org/entity/statement/Q2-cb06624c-4871-9105-7ea9-24de77e5debf> <http://www.wikidata.org/prop/statement/P2184> <http://www.wikidata.org/entity/Q156312> .\n",
      "<http://www.wikidata.org/entity/statement/Q2-cb06624c-4871-9105-7ea9-24de77e5debf> <http://www.w3.org/1999/02/22-rdf-syntax-ns#type> <http://wikiba.se/ontology#BestRank> .\n",
      "15832\n",
      "<http://www.wikidata.org/entity/statement/Q2-cb414e7c-40b8-896a-df29-9c7a6d9857c6> <http://wikiba.se/ontology#rank> <http://wikiba.se/ontology#NormalRank> .\n",
      "<http://www.wikidata.org/entity/statement/Q2-cb06624c-4871-9105-7ea9-24de77e5debf> <http://www.wikidata.org/prop/statement/P2184> <http://www.wikidata.org/entity/Q156312> .\n",
      "15833\n",
      "<http://www.wikidata.org/entity/statement/Q2-cb414e7c-40b8-896a-df29-9c7a6d9857c6> <http://www.w3.org/1999/02/22-rdf-syntax-ns#type> <http://wikiba.se/ontology#BestRank> .\n",
      "<http://www.wikidata.org/entity/statement/Q2-cb414e7c-40b8-896a-df29-9c7a6d9857c6> <http://wikiba.se/ontology#rank> <http://wikiba.se/ontology#NormalRank> .\n",
      "15834\n",
      "<http://www.wikidata.org/entity/statement/Q2-cb414e7c-40b8-896a-df29-9c7a6d9857c6> <http://www.w3.org/ns/prov#wasDerivedFrom> <http://www.wikidata.org/reference/d257d124d1f225623e6a44039f6e9e0f187c7329> .\n",
      "<http://www.wikidata.org/entity/statement/Q2-cb414e7c-40b8-896a-df29-9c7a6d9857c6> <http://www.w3.org/1999/02/22-rdf-syntax-ns#type> <http://wikiba.se/ontology#BestRank> .\n",
      "15835\n",
      "<http://www.wikidata.org/entity/statement/Q2-cb414e7c-40b8-896a-df29-9c7a6d9857c6> <http://www.wikidata.org/prop/statement/P2069> \"78400000000000000000000.0\"^^<http://www.w3.org/2001/XMLSchema#decimal> .\n",
      "<http://www.wikidata.org/entity/statement/Q2-cb414e7c-40b8-896a-df29-9c7a6d9857c6> <http://www.w3.org/ns/prov#wasDerivedFrom> <http://www.wikidata.org/reference/d257d124d1f225623e6a44039f6e9e0f187c7329> .\n",
      "15836\n",
      "<http://www.wikidata.org/entity/statement/Q2-cb414e7c-40b8-896a-df29-9c7a6d9857c6> <http://www.wikidata.org/prop/statement/value-normalized/P2069> <http://www.wikidata.org/value/0d7103b82899510b57134f6c7c313be8> .\n",
      "<http://www.wikidata.org/entity/statement/Q2-cb414e7c-40b8-896a-df29-9c7a6d9857c6> <http://www.wikidata.org/prop/statement/P2069> \"78400000000000000000000.0\"^^<http://www.w3.org/2001/XMLSchema#decimal> .\n",
      "15837\n",
      "<http://www.wikidata.org/entity/statement/Q2-cb414e7c-40b8-896a-df29-9c7a6d9857c6> <http://www.wikidata.org/prop/statement/value/P2069> <http://www.wikidata.org/value/0d7103b82899510b57134f6c7c313be8> .\n",
      "<http://www.wikidata.org/entity/statement/Q2-cb414e7c-40b8-896a-df29-9c7a6d9857c6> <http://www.wikidata.org/prop/statement/value-normalized/P2069> <http://www.wikidata.org/value/0d7103b82899510b57134f6c7c313be8> .\n",
      "15838\n",
      "<http://www.wikidata.org/entity/statement/Q2-ce98f9b4-4dc9-c435-0e08-f542ea795d8c> <http://wikiba.se/ontology#hasViolationForConstraint> <http://www.wikidata.org/entity/statement/P1082-E8CBFFC0-0655-46D1-B292-FECE461E8253> .\n",
      "<http://www.wikidata.org/entity/statement/Q2-cb414e7c-40b8-896a-df29-9c7a6d9857c6> <http://www.wikidata.org/prop/statement/value/P2069> <http://www.wikidata.org/value/0d7103b82899510b57134f6c7c313be8> .\n",
      "15839\n",
      "<http://www.wikidata.org/entity/statement/Q2-ce98f9b4-4dc9-c435-0e08-f542ea795d8c> <http://wikiba.se/ontology#rank> <http://wikiba.se/ontology#PreferredRank> .\n",
      "<http://www.wikidata.org/entity/statement/Q2-ce98f9b4-4dc9-c435-0e08-f542ea795d8c> <http://wikiba.se/ontology#hasViolationForConstraint> <http://www.wikidata.org/entity/statement/P1082-E8CBFFC0-0655-46D1-B292-FECE461E8253> .\n",
      "15840\n",
      "<http://www.wikidata.org/entity/statement/Q2-ce98f9b4-4dc9-c435-0e08-f542ea795d8c> <http://www.w3.org/1999/02/22-rdf-syntax-ns#type> <http://wikiba.se/ontology#BestRank> .\n",
      "<http://www.wikidata.org/entity/statement/Q2-ce98f9b4-4dc9-c435-0e08-f542ea795d8c> <http://wikiba.se/ontology#rank> <http://wikiba.se/ontology#PreferredRank> .\n",
      "15841\n",
      "<http://www.wikidata.org/entity/statement/Q2-ce98f9b4-4dc9-c435-0e08-f542ea795d8c> <http://www.wikidata.org/prop/qualifier/P585> \"2018-10-11T00:00:00+00:00\"^^<http://www.w3.org/2001/XMLSchema#dateTime> .\n",
      "<http://www.wikidata.org/entity/statement/Q2-ce98f9b4-4dc9-c435-0e08-f542ea795d8c> <http://www.w3.org/1999/02/22-rdf-syntax-ns#type> <http://wikiba.se/ontology#BestRank> .\n",
      "15842\n",
      "<http://www.wikidata.org/entity/statement/Q2-ce98f9b4-4dc9-c435-0e08-f542ea795d8c> <http://www.wikidata.org/prop/qualifier/value/P585> <http://www.wikidata.org/value/fa7dd2ee71476f7334938049e7cadef1> .\n",
      "<http://www.wikidata.org/entity/statement/Q2-ce98f9b4-4dc9-c435-0e08-f542ea795d8c> <http://www.wikidata.org/prop/qualifier/P585> \"2018-10-11T00:00:00+00:00\"^^<http://www.w3.org/2001/XMLSchema#dateTime> .\n",
      "15843\n",
      "<http://www.wikidata.org/entity/statement/Q2-ce98f9b4-4dc9-c435-0e08-f542ea795d8c> <http://www.wikidata.org/prop/statement/P1082> \"7655957369.0\"^^<http://www.w3.org/2001/XMLSchema#decimal> .\n",
      "<http://www.wikidata.org/entity/statement/Q2-ce98f9b4-4dc9-c435-0e08-f542ea795d8c> <http://www.wikidata.org/prop/qualifier/value/P585> <http://www.wikidata.org/value/fa7dd2ee71476f7334938049e7cadef1> .\n",
      "15844\n",
      "<http://www.wikidata.org/entity/statement/Q2-ce98f9b4-4dc9-c435-0e08-f542ea795d8c> <http://www.wikidata.org/prop/statement/value/P1082> <http://www.wikidata.org/value/8f25ad6a39fcda321782ff836a6daea1> .\n",
      "<http://www.wikidata.org/entity/statement/Q2-ce98f9b4-4dc9-c435-0e08-f542ea795d8c> <http://www.wikidata.org/prop/statement/P1082> \"7655957369.0\"^^<http://www.w3.org/2001/XMLSchema#decimal> .\n",
      "15845\n",
      "<http://www.wikidata.org/entity/statement/Q2-d0a1bcaa-4c67-5e75-cade-f9609f0fb70d> <http://wikiba.se/ontology#hasViolationForConstraint> <http://www.wikidata.org/entity/statement/P1082-E8CBFFC0-0655-46D1-B292-FECE461E8253> .\n",
      "<http://www.wikidata.org/entity/statement/Q2-ce98f9b4-4dc9-c435-0e08-f542ea795d8c> <http://www.wikidata.org/prop/statement/value/P1082> <http://www.wikidata.org/value/8f25ad6a39fcda321782ff836a6daea1> .\n",
      "15846\n",
      "<http://www.wikidata.org/entity/statement/Q2-d0a1bcaa-4c67-5e75-cade-f9609f0fb70d> <http://wikiba.se/ontology#rank> <http://wikiba.se/ontology#NormalRank> .\n",
      "<http://www.wikidata.org/entity/statement/Q2-d0a1bcaa-4c67-5e75-cade-f9609f0fb70d> <http://wikiba.se/ontology#hasViolationForConstraint> <http://www.wikidata.org/entity/statement/P1082-E8CBFFC0-0655-46D1-B292-FECE461E8253> .\n",
      "15847\n",
      "<http://www.wikidata.org/entity/statement/Q2-d0a1bcaa-4c67-5e75-cade-f9609f0fb70d> <http://www.w3.org/ns/prov#wasDerivedFrom> <http://www.wikidata.org/reference/8f78b4de55a1ea4a02dedcf762da8fb4bb52b100> .\n",
      "<http://www.wikidata.org/entity/statement/Q2-d0a1bcaa-4c67-5e75-cade-f9609f0fb70d> <http://wikiba.se/ontology#rank> <http://wikiba.se/ontology#NormalRank> .\n",
      "15848\n",
      "<http://www.wikidata.org/entity/statement/Q2-d0a1bcaa-4c67-5e75-cade-f9609f0fb70d> <http://www.wikidata.org/prop/qualifier/P585> \"2016-01-05T00:00:00+00:00\"^^<http://www.w3.org/2001/XMLSchema#dateTime> .\n",
      "<http://www.wikidata.org/entity/statement/Q2-d0a1bcaa-4c67-5e75-cade-f9609f0fb70d> <http://www.w3.org/ns/prov#wasDerivedFrom> <http://www.wikidata.org/reference/8f78b4de55a1ea4a02dedcf762da8fb4bb52b100> .\n",
      "15849\n",
      "<http://www.wikidata.org/entity/statement/Q2-d0a1bcaa-4c67-5e75-cade-f9609f0fb70d> <http://www.wikidata.org/prop/qualifier/value/P585> <http://www.wikidata.org/value/a6f0aaac3ea13a33cb4bbc8f3c464a38> .\n",
      "<http://www.wikidata.org/entity/statement/Q2-d0a1bcaa-4c67-5e75-cade-f9609f0fb70d> <http://www.wikidata.org/prop/qualifier/P585> \"2016-01-05T00:00:00+00:00\"^^<http://www.w3.org/2001/XMLSchema#dateTime> .\n",
      "15850\n",
      "<http://www.wikidata.org/entity/statement/Q2-d0a1bcaa-4c67-5e75-cade-f9609f0fb70d> <http://www.wikidata.org/prop/statement/P1082> \"7392793000.0\"^^<http://www.w3.org/2001/XMLSchema#decimal> .\n",
      "<http://www.wikidata.org/entity/statement/Q2-d0a1bcaa-4c67-5e75-cade-f9609f0fb70d> <http://www.wikidata.org/prop/qualifier/value/P585> <http://www.wikidata.org/value/a6f0aaac3ea13a33cb4bbc8f3c464a38> .\n",
      "15851\n",
      "<http://www.wikidata.org/entity/statement/Q2-d0a1bcaa-4c67-5e75-cade-f9609f0fb70d> <http://www.wikidata.org/prop/statement/value/P1082> <http://www.wikidata.org/value/9a789cbfb6e82240986c16fe30f513ee> .\n",
      "<http://www.wikidata.org/entity/statement/Q2-d0a1bcaa-4c67-5e75-cade-f9609f0fb70d> <http://www.wikidata.org/prop/statement/P1082> \"7392793000.0\"^^<http://www.w3.org/2001/XMLSchema#decimal> .\n",
      "15852\n",
      "<http://www.wikidata.org/entity/statement/Q2-d0f440d7-4085-f3b3-265a-a0993babe987> <http://wikiba.se/ontology#rank> <http://wikiba.se/ontology#NormalRank> .\n",
      "<http://www.wikidata.org/entity/statement/Q2-d0a1bcaa-4c67-5e75-cade-f9609f0fb70d> <http://www.wikidata.org/prop/statement/value/P1082> <http://www.wikidata.org/value/9a789cbfb6e82240986c16fe30f513ee> .\n",
      "15853\n",
      "<http://www.wikidata.org/entity/statement/Q2-d0f440d7-4085-f3b3-265a-a0993babe987> <http://www.w3.org/1999/02/22-rdf-syntax-ns#type> <http://wikiba.se/ontology#BestRank> .\n",
      "<http://www.wikidata.org/entity/statement/Q2-d0f440d7-4085-f3b3-265a-a0993babe987> <http://wikiba.se/ontology#rank> <http://wikiba.se/ontology#NormalRank> .\n",
      "15854\n",
      "<http://www.wikidata.org/entity/statement/Q2-d0f440d7-4085-f3b3-265a-a0993babe987> <http://www.wikidata.org/prop/statement/P2547> \"24901.0\"^^<http://www.w3.org/2001/XMLSchema#decimal> .\n",
      "<http://www.wikidata.org/entity/statement/Q2-d0f440d7-4085-f3b3-265a-a0993babe987> <http://www.w3.org/1999/02/22-rdf-syntax-ns#type> <http://wikiba.se/ontology#BestRank> .\n",
      "15855\n",
      "<http://www.wikidata.org/entity/statement/Q2-d0f440d7-4085-f3b3-265a-a0993babe987> <http://www.wikidata.org/prop/statement/value-normalized/P2547> <http://www.wikidata.org/value/a0b067101ec652c16bf21e27cbc31942> .\n",
      "<http://www.wikidata.org/entity/statement/Q2-d0f440d7-4085-f3b3-265a-a0993babe987> <http://www.wikidata.org/prop/statement/P2547> \"24901.0\"^^<http://www.w3.org/2001/XMLSchema#decimal> .\n",
      "15856\n",
      "<http://www.wikidata.org/entity/statement/Q2-d0f440d7-4085-f3b3-265a-a0993babe987> <http://www.wikidata.org/prop/statement/value/P2547> <http://www.wikidata.org/value/c9eb7475358165eef276db206ca080ef> .\n",
      "<http://www.wikidata.org/entity/statement/Q2-d0f440d7-4085-f3b3-265a-a0993babe987> <http://www.wikidata.org/prop/statement/value-normalized/P2547> <http://www.wikidata.org/value/a0b067101ec652c16bf21e27cbc31942> .\n",
      "15857\n",
      "<http://www.wikidata.org/entity/statement/Q2-d13944cd-4fa9-bf6c-9def-f0e09cfeea7d> <http://wikiba.se/ontology#hasViolationForConstraint> <http://www.wikidata.org/entity/statement/P2583-8fd305c3-4eaa-c1f1-c788-319e72580631> .\n",
      "<http://www.wikidata.org/entity/statement/Q2-d0f440d7-4085-f3b3-265a-a0993babe987> <http://www.wikidata.org/prop/statement/value/P2547> <http://www.wikidata.org/value/c9eb7475358165eef276db206ca080ef> .\n",
      "15858\n",
      "<http://www.wikidata.org/entity/statement/Q2-d13944cd-4fa9-bf6c-9def-f0e09cfeea7d> <http://wikiba.se/ontology#hasViolationForConstraint> <http://www.wikidata.org/entity/statement/P2583-d7f417e3-4d14-8484-45cf-cb539d9d9aad> .\n",
      "<http://www.wikidata.org/entity/statement/Q2-d13944cd-4fa9-bf6c-9def-f0e09cfeea7d> <http://wikiba.se/ontology#hasViolationForConstraint> <http://www.wikidata.org/entity/statement/P2583-8fd305c3-4eaa-c1f1-c788-319e72580631> .\n",
      "15859\n",
      "<http://www.wikidata.org/entity/statement/Q2-d13944cd-4fa9-bf6c-9def-f0e09cfeea7d> <http://wikiba.se/ontology#rank> <http://wikiba.se/ontology#NormalRank> .\n",
      "<http://www.wikidata.org/entity/statement/Q2-d13944cd-4fa9-bf6c-9def-f0e09cfeea7d> <http://wikiba.se/ontology#hasViolationForConstraint> <http://www.wikidata.org/entity/statement/P2583-d7f417e3-4d14-8484-45cf-cb539d9d9aad> .\n",
      "15860\n",
      "<http://www.wikidata.org/entity/statement/Q2-d13944cd-4fa9-bf6c-9def-f0e09cfeea7d> <http://www.w3.org/1999/02/22-rdf-syntax-ns#type> <http://wikiba.se/ontology#BestRank> .\n",
      "<http://www.wikidata.org/entity/statement/Q2-d13944cd-4fa9-bf6c-9def-f0e09cfeea7d> <http://wikiba.se/ontology#rank> <http://wikiba.se/ontology#NormalRank> .\n",
      "15861\n",
      "<http://www.wikidata.org/entity/statement/Q2-d13944cd-4fa9-bf6c-9def-f0e09cfeea7d> <http://www.wikidata.org/prop/statement/P2583> \"0.0\"^^<http://www.w3.org/2001/XMLSchema#decimal> .\n",
      "<http://www.wikidata.org/entity/statement/Q2-d13944cd-4fa9-bf6c-9def-f0e09cfeea7d> <http://www.w3.org/1999/02/22-rdf-syntax-ns#type> <http://wikiba.se/ontology#BestRank> .\n",
      "15862\n",
      "<http://www.wikidata.org/entity/statement/Q2-d13944cd-4fa9-bf6c-9def-f0e09cfeea7d> <http://www.wikidata.org/prop/statement/value-normalized/P2583> <http://www.wikidata.org/value/2815aaae8088d5b30771db46e3698569> .\n",
      "<http://www.wikidata.org/entity/statement/Q2-d13944cd-4fa9-bf6c-9def-f0e09cfeea7d> <http://www.wikidata.org/prop/statement/P2583> \"0.0\"^^<http://www.w3.org/2001/XMLSchema#decimal> .\n",
      "15863\n",
      "<http://www.wikidata.org/entity/statement/Q2-d13944cd-4fa9-bf6c-9def-f0e09cfeea7d> <http://www.wikidata.org/prop/statement/value/P2583> <http://www.wikidata.org/value/989314e7e41b971660c2db3123cf567b> .\n",
      "<http://www.wikidata.org/entity/statement/Q2-d13944cd-4fa9-bf6c-9def-f0e09cfeea7d> <http://www.wikidata.org/prop/statement/value-normalized/P2583> <http://www.wikidata.org/value/2815aaae8088d5b30771db46e3698569> .\n",
      "15864\n",
      "<http://www.wikidata.org/entity/statement/Q2-d245ce5b-4074-5d5b-3d5b-a28cf832873e> <http://wikiba.se/ontology#rank> <http://wikiba.se/ontology#NormalRank> .\n",
      "<http://www.wikidata.org/entity/statement/Q2-d13944cd-4fa9-bf6c-9def-f0e09cfeea7d> <http://www.wikidata.org/prop/statement/value/P2583> <http://www.wikidata.org/value/989314e7e41b971660c2db3123cf567b> .\n",
      "15865\n",
      "<http://www.wikidata.org/entity/statement/Q2-d245ce5b-4074-5d5b-3d5b-a28cf832873e> <http://www.wikidata.org/prop/qualifier/P18> <http://commons.wikimedia.org/wiki/Special:FilePath/Abu%20Reyhan%20Biruni-Earth%20Circumference.svg> .\n",
      "<http://www.wikidata.org/entity/statement/Q2-d245ce5b-4074-5d5b-3d5b-a28cf832873e> <http://wikiba.se/ontology#rank> <http://wikiba.se/ontology#NormalRank> .\n",
      "15866\n",
      "<http://www.wikidata.org/entity/statement/Q2-d245ce5b-4074-5d5b-3d5b-a28cf832873e> <http://www.wikidata.org/prop/qualifier/P3680> <http://www.wikidata.org/entity/Q11826> .\n",
      "<http://www.wikidata.org/entity/statement/Q2-d245ce5b-4074-5d5b-3d5b-a28cf832873e> <http://www.wikidata.org/prop/qualifier/P18> <http://commons.wikimedia.org/wiki/Special:FilePath/Abu%20Reyhan%20Biruni-Earth%20Circumference.svg> .\n",
      "15867\n",
      "<http://www.wikidata.org/entity/statement/Q2-d245ce5b-4074-5d5b-3d5b-a28cf832873e> <http://www.wikidata.org/prop/qualifier/P585> \"1000-01-01T00:00:00+00:00\"^^<http://www.w3.org/2001/XMLSchema#dateTime> .\n",
      "<http://www.wikidata.org/entity/statement/Q2-d245ce5b-4074-5d5b-3d5b-a28cf832873e> <http://www.wikidata.org/prop/qualifier/P3680> <http://www.wikidata.org/entity/Q11826> .\n",
      "15868\n",
      "<http://www.wikidata.org/entity/statement/Q2-d245ce5b-4074-5d5b-3d5b-a28cf832873e> <http://www.wikidata.org/prop/qualifier/value/P585> <http://www.wikidata.org/value/0a73be3ebc563eec344424e146b90cad> .\n",
      "<http://www.wikidata.org/entity/statement/Q2-d245ce5b-4074-5d5b-3d5b-a28cf832873e> <http://www.wikidata.org/prop/qualifier/P585> \"1000-01-01T00:00:00+00:00\"^^<http://www.w3.org/2001/XMLSchema#dateTime> .\n",
      "15869\n",
      "<http://www.wikidata.org/entity/statement/Q2-d245ce5b-4074-5d5b-3d5b-a28cf832873e> <http://www.wikidata.org/prop/statement/P2120> \"6339.9\"^^<http://www.w3.org/2001/XMLSchema#decimal> .\n",
      "<http://www.wikidata.org/entity/statement/Q2-d245ce5b-4074-5d5b-3d5b-a28cf832873e> <http://www.wikidata.org/prop/qualifier/value/P585> <http://www.wikidata.org/value/0a73be3ebc563eec344424e146b90cad> .\n",
      "15870\n",
      "<http://www.wikidata.org/entity/statement/Q2-d245ce5b-4074-5d5b-3d5b-a28cf832873e> <http://www.wikidata.org/prop/statement/value-normalized/P2120> <http://www.wikidata.org/value/819ed0ec36b809d28397c8e0810c5b0c> .\n",
      "<http://www.wikidata.org/entity/statement/Q2-d245ce5b-4074-5d5b-3d5b-a28cf832873e> <http://www.wikidata.org/prop/statement/P2120> \"6339.9\"^^<http://www.w3.org/2001/XMLSchema#decimal> .\n",
      "15871\n",
      "<http://www.wikidata.org/entity/statement/Q2-d245ce5b-4074-5d5b-3d5b-a28cf832873e> <http://www.wikidata.org/prop/statement/value/P2120> <http://www.wikidata.org/value/51a426c94555f6dfaeac6038df23fcbd> .\n",
      "<http://www.wikidata.org/entity/statement/Q2-d245ce5b-4074-5d5b-3d5b-a28cf832873e> <http://www.wikidata.org/prop/statement/value-normalized/P2120> <http://www.wikidata.org/value/819ed0ec36b809d28397c8e0810c5b0c> .\n",
      "15872\n",
      "<http://www.wikidata.org/entity/statement/Q2-d25ebd40-4717-6f3b-d7fc-0fdb8f5607b1> <http://wikiba.se/ontology#rank> <http://wikiba.se/ontology#NormalRank> .\n",
      "<http://www.wikidata.org/entity/statement/Q2-d245ce5b-4074-5d5b-3d5b-a28cf832873e> <http://www.wikidata.org/prop/statement/value/P2120> <http://www.wikidata.org/value/51a426c94555f6dfaeac6038df23fcbd> .\n",
      "15873\n",
      "<http://www.wikidata.org/entity/statement/Q2-d25ebd40-4717-6f3b-d7fc-0fdb8f5607b1> <http://www.w3.org/1999/02/22-rdf-syntax-ns#type> <http://wikiba.se/ontology#BestRank> .\n",
      "<http://www.wikidata.org/entity/statement/Q2-d25ebd40-4717-6f3b-d7fc-0fdb8f5607b1> <http://wikiba.se/ontology#rank> <http://wikiba.se/ontology#NormalRank> .\n",
      "15874\n",
      "<http://www.wikidata.org/entity/statement/Q2-d25ebd40-4717-6f3b-d7fc-0fdb8f5607b1> <http://www.wikidata.org/prop/qualifier/P805> <http://www.wikidata.org/entity/Q24206689> .\n",
      "<http://www.wikidata.org/entity/statement/Q2-d25ebd40-4717-6f3b-d7fc-0fdb8f5607b1> <http://www.w3.org/1999/02/22-rdf-syntax-ns#type> <http://wikiba.se/ontology#BestRank> .\n",
      "15875\n",
      "<http://www.wikidata.org/entity/statement/Q2-d25ebd40-4717-6f3b-d7fc-0fdb8f5607b1> <http://www.wikidata.org/prop/statement/P1343> <http://www.wikidata.org/entity/Q602358> .\n",
      "<http://www.wikidata.org/entity/statement/Q2-d25ebd40-4717-6f3b-d7fc-0fdb8f5607b1> <http://www.wikidata.org/prop/qualifier/P805> <http://www.wikidata.org/entity/Q24206689> .\n",
      "15876\n",
      "<http://www.wikidata.org/entity/statement/Q2-d2efbdb6-4527-0b1f-c30f-fb8f5ebb158d> <http://wikiba.se/ontology#rank> <http://wikiba.se/ontology#NormalRank> .\n",
      "<http://www.wikidata.org/entity/statement/Q2-d25ebd40-4717-6f3b-d7fc-0fdb8f5607b1> <http://www.wikidata.org/prop/statement/P1343> <http://www.wikidata.org/entity/Q602358> .\n",
      "15877\n",
      "<http://www.wikidata.org/entity/statement/Q2-d2efbdb6-4527-0b1f-c30f-fb8f5ebb158d> <http://www.w3.org/1999/02/22-rdf-syntax-ns#type> <http://wikiba.se/ontology#BestRank> .\n",
      "<http://www.wikidata.org/entity/statement/Q2-d2efbdb6-4527-0b1f-c30f-fb8f5ebb158d> <http://wikiba.se/ontology#rank> <http://wikiba.se/ontology#NormalRank> .\n",
      "15878\n",
      "<http://www.wikidata.org/entity/statement/Q2-d2efbdb6-4527-0b1f-c30f-fb8f5ebb158d> <http://www.wikidata.org/prop/statement/P1889> <http://www.wikidata.org/entity/Q36133> .\n",
      "<http://www.wikidata.org/entity/statement/Q2-d2efbdb6-4527-0b1f-c30f-fb8f5ebb158d> <http://www.w3.org/1999/02/22-rdf-syntax-ns#type> <http://wikiba.se/ontology#BestRank> .\n",
      "15879\n",
      "<http://www.wikidata.org/entity/statement/Q2-d3757546-4e82-bf86-3eb2-4fe8ee034898> <http://wikiba.se/ontology#rank> <http://wikiba.se/ontology#NormalRank> .\n",
      "<http://www.wikidata.org/entity/statement/Q2-d2efbdb6-4527-0b1f-c30f-fb8f5ebb158d> <http://www.wikidata.org/prop/statement/P1889> <http://www.wikidata.org/entity/Q36133> .\n",
      "15880\n",
      "<http://www.wikidata.org/entity/statement/Q2-d3757546-4e82-bf86-3eb2-4fe8ee034898> <http://www.w3.org/1999/02/22-rdf-syntax-ns#type> <http://wikiba.se/ontology#BestRank> .\n",
      "<http://www.wikidata.org/entity/statement/Q2-d3757546-4e82-bf86-3eb2-4fe8ee034898> <http://wikiba.se/ontology#rank> <http://wikiba.se/ontology#NormalRank> .\n",
      "15881\n",
      "<http://www.wikidata.org/entity/statement/Q2-d3757546-4e82-bf86-3eb2-4fe8ee034898> <http://www.wikidata.org/prop/statement/P1296> \"0145903\" .\n",
      "<http://www.wikidata.org/entity/statement/Q2-d3757546-4e82-bf86-3eb2-4fe8ee034898> <http://www.w3.org/1999/02/22-rdf-syntax-ns#type> <http://wikiba.se/ontology#BestRank> .\n",
      "15882\n",
      "<http://www.wikidata.org/entity/statement/Q2-d437f0ed-4f15-1f43-a6ab-45c0a304163a> <http://wikiba.se/ontology#rank> <http://wikiba.se/ontology#NormalRank> .\n",
      "<http://www.wikidata.org/entity/statement/Q2-d3757546-4e82-bf86-3eb2-4fe8ee034898> <http://www.wikidata.org/prop/statement/P1296> \"0145903\" .\n",
      "15883\n",
      "<http://www.wikidata.org/entity/statement/Q2-d437f0ed-4f15-1f43-a6ab-45c0a304163a> <http://www.wikidata.org/prop/statement/P4896> <http://commons.wikimedia.org/wiki/Special:FilePath/Earth.stl> .\n",
      "<http://www.wikidata.org/entity/statement/Q2-d437f0ed-4f15-1f43-a6ab-45c0a304163a> <http://wikiba.se/ontology#rank> <http://wikiba.se/ontology#NormalRank> .\n",
      "15884\n",
      "<http://www.wikidata.org/entity/statement/Q2-d7286e03-4d5a-f727-b7ad-91aaa162cb01> <http://wikiba.se/ontology#hasViolationForConstraint> <http://www.wikidata.org/entity/statement/P1082-E8CBFFC0-0655-46D1-B292-FECE461E8253> .\n",
      "<http://www.wikidata.org/entity/statement/Q2-d437f0ed-4f15-1f43-a6ab-45c0a304163a> <http://www.wikidata.org/prop/statement/P4896> <http://commons.wikimedia.org/wiki/Special:FilePath/Earth.stl> .\n",
      "15885\n",
      "<http://www.wikidata.org/entity/statement/Q2-d7286e03-4d5a-f727-b7ad-91aaa162cb01> <http://wikiba.se/ontology#rank> <http://wikiba.se/ontology#NormalRank> .\n",
      "<http://www.wikidata.org/entity/statement/Q2-d7286e03-4d5a-f727-b7ad-91aaa162cb01> <http://wikiba.se/ontology#hasViolationForConstraint> <http://www.wikidata.org/entity/statement/P1082-E8CBFFC0-0655-46D1-B292-FECE461E8253> .\n",
      "15886\n",
      "<http://www.wikidata.org/entity/statement/Q2-d7286e03-4d5a-f727-b7ad-91aaa162cb01> <http://www.wikidata.org/prop/qualifier/P585> \"1850-01-01T00:00:00+00:00\"^^<http://www.w3.org/2001/XMLSchema#dateTime> .\n",
      "<http://www.wikidata.org/entity/statement/Q2-d7286e03-4d5a-f727-b7ad-91aaa162cb01> <http://wikiba.se/ontology#rank> <http://wikiba.se/ontology#NormalRank> .\n",
      "15887\n",
      "<http://www.wikidata.org/entity/statement/Q2-d7286e03-4d5a-f727-b7ad-91aaa162cb01> <http://www.wikidata.org/prop/qualifier/value/P585> <http://www.wikidata.org/value/20410820faf8dfdc1abd0a7f4d9df65e> .\n",
      "<http://www.wikidata.org/entity/statement/Q2-d7286e03-4d5a-f727-b7ad-91aaa162cb01> <http://www.wikidata.org/prop/qualifier/P585> \"1850-01-01T00:00:00+00:00\"^^<http://www.w3.org/2001/XMLSchema#dateTime> .\n",
      "15888\n",
      "<http://www.wikidata.org/entity/statement/Q2-d7286e03-4d5a-f727-b7ad-91aaa162cb01> <http://www.wikidata.org/prop/statement/P1082> \"1262000000.0\"^^<http://www.w3.org/2001/XMLSchema#decimal> .\n",
      "<http://www.wikidata.org/entity/statement/Q2-d7286e03-4d5a-f727-b7ad-91aaa162cb01> <http://www.wikidata.org/prop/qualifier/value/P585> <http://www.wikidata.org/value/20410820faf8dfdc1abd0a7f4d9df65e> .\n",
      "15889\n",
      "<http://www.wikidata.org/entity/statement/Q2-d7286e03-4d5a-f727-b7ad-91aaa162cb01> <http://www.wikidata.org/prop/statement/value/P1082> <http://www.wikidata.org/value/dea1ff62b9482ed25527d56a5705890a> .\n",
      "<http://www.wikidata.org/entity/statement/Q2-d7286e03-4d5a-f727-b7ad-91aaa162cb01> <http://www.wikidata.org/prop/statement/P1082> \"1262000000.0\"^^<http://www.w3.org/2001/XMLSchema#decimal> .\n",
      "15890\n",
      "<http://www.wikidata.org/entity/statement/Q2-d8b77faa-4991-9ac3-6c1b-b1323d4a49cd> <http://wikiba.se/ontology#rank> <http://wikiba.se/ontology#NormalRank> .\n",
      "<http://www.wikidata.org/entity/statement/Q2-d7286e03-4d5a-f727-b7ad-91aaa162cb01> <http://www.wikidata.org/prop/statement/value/P1082> <http://www.wikidata.org/value/dea1ff62b9482ed25527d56a5705890a> .\n",
      "15891\n",
      "<http://www.wikidata.org/entity/statement/Q2-d8b77faa-4991-9ac3-6c1b-b1323d4a49cd> <http://www.w3.org/1999/02/22-rdf-syntax-ns#type> <http://wikiba.se/ontology#BestRank> .\n",
      "<http://www.wikidata.org/entity/statement/Q2-d8b77faa-4991-9ac3-6c1b-b1323d4a49cd> <http://wikiba.se/ontology#rank> <http://wikiba.se/ontology#NormalRank> .\n",
      "15892\n",
      "<http://www.wikidata.org/entity/statement/Q2-d8b77faa-4991-9ac3-6c1b-b1323d4a49cd> <http://www.wikidata.org/prop/statement/P4839> \"Entity[\\\"Planet\\\", \\\"Earth\\\"]\" .\n",
      "<http://www.wikidata.org/entity/statement/Q2-d8b77faa-4991-9ac3-6c1b-b1323d4a49cd> <http://www.w3.org/1999/02/22-rdf-syntax-ns#type> <http://wikiba.se/ontology#BestRank> .\n",
      "15893\n",
      "<http://www.wikidata.org/entity/statement/Q2-d92e61da-4d5c-eaa8-4434-a4db5d17b995> <http://wikiba.se/ontology#hasViolationForConstraint> <http://www.wikidata.org/entity/statement/P1082-E8CBFFC0-0655-46D1-B292-FECE461E8253> .\n",
      "<http://www.wikidata.org/entity/statement/Q2-d8b77faa-4991-9ac3-6c1b-b1323d4a49cd> <http://www.wikidata.org/prop/statement/P4839> \"Entity[\\\"Planet\\\", \\\"Earth\\\"]\" .\n",
      "15894\n",
      "<http://www.wikidata.org/entity/statement/Q2-d92e61da-4d5c-eaa8-4434-a4db5d17b995> <http://wikiba.se/ontology#rank> <http://wikiba.se/ontology#NormalRank> .\n",
      "<http://www.wikidata.org/entity/statement/Q2-d92e61da-4d5c-eaa8-4434-a4db5d17b995> <http://wikiba.se/ontology#hasViolationForConstraint> <http://www.wikidata.org/entity/statement/P1082-E8CBFFC0-0655-46D1-B292-FECE461E8253> .\n",
      "15895\n",
      "<http://www.wikidata.org/entity/statement/Q2-d92e61da-4d5c-eaa8-4434-a4db5d17b995> <http://www.wikidata.org/prop/qualifier/P585> \"2017-09-05T00:00:00+00:00\"^^<http://www.w3.org/2001/XMLSchema#dateTime> .\n",
      "<http://www.wikidata.org/entity/statement/Q2-d92e61da-4d5c-eaa8-4434-a4db5d17b995> <http://wikiba.se/ontology#rank> <http://wikiba.se/ontology#NormalRank> .\n",
      "15896\n",
      "<http://www.wikidata.org/entity/statement/Q2-d92e61da-4d5c-eaa8-4434-a4db5d17b995> <http://www.wikidata.org/prop/qualifier/value/P585> <http://www.wikidata.org/value/cc97c2c0c6ad5c3e281d9d31654f6ec2> .\n",
      "<http://www.wikidata.org/entity/statement/Q2-d92e61da-4d5c-eaa8-4434-a4db5d17b995> <http://www.wikidata.org/prop/qualifier/P585> \"2017-09-05T00:00:00+00:00\"^^<http://www.w3.org/2001/XMLSchema#dateTime> .\n",
      "15897\n",
      "<http://www.wikidata.org/entity/statement/Q2-d92e61da-4d5c-eaa8-4434-a4db5d17b995> <http://www.wikidata.org/prop/statement/P1082> \"7530103737.0\"^^<http://www.w3.org/2001/XMLSchema#decimal> .\n",
      "<http://www.wikidata.org/entity/statement/Q2-d92e61da-4d5c-eaa8-4434-a4db5d17b995> <http://www.wikidata.org/prop/qualifier/value/P585> <http://www.wikidata.org/value/cc97c2c0c6ad5c3e281d9d31654f6ec2> .\n",
      "15898\n",
      "<http://www.wikidata.org/entity/statement/Q2-d92e61da-4d5c-eaa8-4434-a4db5d17b995> <http://www.wikidata.org/prop/statement/value/P1082> <http://www.wikidata.org/value/0bc04d9c5c97633e25b88d955cae0f09> .\n",
      "<http://www.wikidata.org/entity/statement/Q2-d92e61da-4d5c-eaa8-4434-a4db5d17b995> <http://www.wikidata.org/prop/statement/P1082> \"7530103737.0\"^^<http://www.w3.org/2001/XMLSchema#decimal> .\n",
      "15899\n",
      "<http://www.wikidata.org/entity/statement/Q2-db006893-4528-e1d2-5da6-5c9a9f9cbb2f> <http://wikiba.se/ontology#rank> <http://wikiba.se/ontology#NormalRank> .\n",
      "<http://www.wikidata.org/entity/statement/Q2-d92e61da-4d5c-eaa8-4434-a4db5d17b995> <http://www.wikidata.org/prop/statement/value/P1082> <http://www.wikidata.org/value/0bc04d9c5c97633e25b88d955cae0f09> .\n",
      "15900\n",
      "<http://www.wikidata.org/entity/statement/Q2-db006893-4528-e1d2-5da6-5c9a9f9cbb2f> <http://www.w3.org/1999/02/22-rdf-syntax-ns#type> <http://wikiba.se/ontology#BestRank> .\n",
      "<http://www.wikidata.org/entity/statement/Q2-db006893-4528-e1d2-5da6-5c9a9f9cbb2f> <http://wikiba.se/ontology#rank> <http://wikiba.se/ontology#NormalRank> .\n",
      "15901\n",
      "<http://www.wikidata.org/entity/statement/Q2-db006893-4528-e1d2-5da6-5c9a9f9cbb2f> <http://www.wikidata.org/prop/qualifier/P580> \"1986-02-20T00:00:00+00:00\"^^<http://www.w3.org/2001/XMLSchema#dateTime> .\n",
      "<http://www.wikidata.org/entity/statement/Q2-db006893-4528-e1d2-5da6-5c9a9f9cbb2f> <http://www.w3.org/1999/02/22-rdf-syntax-ns#type> <http://wikiba.se/ontology#BestRank> .\n",
      "15902\n",
      "<http://www.wikidata.org/entity/statement/Q2-db006893-4528-e1d2-5da6-5c9a9f9cbb2f> <http://www.wikidata.org/prop/qualifier/P582> \"2001-03-23T00:00:00+00:00\"^^<http://www.w3.org/2001/XMLSchema#dateTime> .\n",
      "<http://www.wikidata.org/entity/statement/Q2-db006893-4528-e1d2-5da6-5c9a9f9cbb2f> <http://www.wikidata.org/prop/qualifier/P580> \"1986-02-20T00:00:00+00:00\"^^<http://www.w3.org/2001/XMLSchema#dateTime> .\n",
      "15903\n",
      "<http://www.wikidata.org/entity/statement/Q2-db006893-4528-e1d2-5da6-5c9a9f9cbb2f> <http://www.wikidata.org/prop/qualifier/value/P580> <http://www.wikidata.org/value/e7903e7afd15552dc9f16fe24c67d2fa> .\n",
      "<http://www.wikidata.org/entity/statement/Q2-db006893-4528-e1d2-5da6-5c9a9f9cbb2f> <http://www.wikidata.org/prop/qualifier/P582> \"2001-03-23T00:00:00+00:00\"^^<http://www.w3.org/2001/XMLSchema#dateTime> .\n",
      "15904\n",
      "<http://www.wikidata.org/entity/statement/Q2-db006893-4528-e1d2-5da6-5c9a9f9cbb2f> <http://www.wikidata.org/prop/qualifier/value/P582> <http://www.wikidata.org/value/7314bd34a02f9de8bf73efb1dde485dc> .\n",
      "<http://www.wikidata.org/entity/statement/Q2-db006893-4528-e1d2-5da6-5c9a9f9cbb2f> <http://www.wikidata.org/prop/qualifier/value/P580> <http://www.wikidata.org/value/e7903e7afd15552dc9f16fe24c67d2fa> .\n",
      "15905\n",
      "<http://www.wikidata.org/entity/statement/Q2-db006893-4528-e1d2-5da6-5c9a9f9cbb2f> <http://www.wikidata.org/prop/statement/P398> <http://www.wikidata.org/entity/Q48604> .\n",
      "<http://www.wikidata.org/entity/statement/Q2-db006893-4528-e1d2-5da6-5c9a9f9cbb2f> <http://www.wikidata.org/prop/qualifier/value/P582> <http://www.wikidata.org/value/7314bd34a02f9de8bf73efb1dde485dc> .\n",
      "15906\n",
      "<http://www.wikidata.org/entity/statement/Q2-db7a4736-430d-d53f-a1c9-ff5f0b1dee29> <http://wikiba.se/ontology#rank> <http://wikiba.se/ontology#NormalRank> .\n",
      "<http://www.wikidata.org/entity/statement/Q2-db006893-4528-e1d2-5da6-5c9a9f9cbb2f> <http://www.wikidata.org/prop/statement/P398> <http://www.wikidata.org/entity/Q48604> .\n",
      "15907\n",
      "<http://www.wikidata.org/entity/statement/Q2-db7a4736-430d-d53f-a1c9-ff5f0b1dee29> <http://www.w3.org/1999/02/22-rdf-syntax-ns#type> <http://wikiba.se/ontology#BestRank> .\n",
      "<http://www.wikidata.org/entity/statement/Q2-db7a4736-430d-d53f-a1c9-ff5f0b1dee29> <http://wikiba.se/ontology#rank> <http://wikiba.se/ontology#NormalRank> .\n",
      "15908\n",
      "<http://www.wikidata.org/entity/statement/Q2-db7a4736-430d-d53f-a1c9-ff5f0b1dee29> <http://www.wikidata.org/prop/statement/P1549> \"Earthling\"@en .\n",
      "<http://www.wikidata.org/entity/statement/Q2-db7a4736-430d-d53f-a1c9-ff5f0b1dee29> <http://www.w3.org/1999/02/22-rdf-syntax-ns#type> <http://wikiba.se/ontology#BestRank> .\n",
      "15909\n",
      "<http://www.wikidata.org/entity/statement/Q2-e055dd8f-4e6f-36ea-819d-5c4de88b57a0> <http://wikiba.se/ontology#rank> <http://wikiba.se/ontology#DeprecatedRank> .\n",
      "<http://www.wikidata.org/entity/statement/Q2-db7a4736-430d-d53f-a1c9-ff5f0b1dee29> <http://www.wikidata.org/prop/statement/P1549> \"Earthling\"@en .\n",
      "15910\n",
      "<http://www.wikidata.org/entity/statement/Q2-e055dd8f-4e6f-36ea-819d-5c4de88b57a0> <http://www.wikidata.org/prop/qualifier/P3680> <http://www.wikidata.org/entity/Q277155> .\n",
      "<http://www.wikidata.org/entity/statement/Q2-e055dd8f-4e6f-36ea-819d-5c4de88b57a0> <http://wikiba.se/ontology#rank> <http://wikiba.se/ontology#DeprecatedRank> .\n",
      "15911\n",
      "<http://www.wikidata.org/entity/statement/Q2-e055dd8f-4e6f-36ea-819d-5c4de88b57a0> <http://www.wikidata.org/prop/statement/P1419> <http://www.wikidata.org/entity/Q238231> .\n",
      "<http://www.wikidata.org/entity/statement/Q2-e055dd8f-4e6f-36ea-819d-5c4de88b57a0> <http://www.wikidata.org/prop/qualifier/P3680> <http://www.wikidata.org/entity/Q277155> .\n",
      "15912\n",
      "<http://www.wikidata.org/entity/statement/Q2-e2828e9c-40ac-0437-83b0-2615fb8ef507> <http://wikiba.se/ontology#rank> <http://wikiba.se/ontology#NormalRank> .\n",
      "<http://www.wikidata.org/entity/statement/Q2-e055dd8f-4e6f-36ea-819d-5c4de88b57a0> <http://www.wikidata.org/prop/statement/P1419> <http://www.wikidata.org/entity/Q238231> .\n",
      "15913\n",
      "<http://www.wikidata.org/entity/statement/Q2-e2828e9c-40ac-0437-83b0-2615fb8ef507> <http://www.w3.org/1999/02/22-rdf-syntax-ns#type> <http://wikiba.se/ontology#BestRank> .\n",
      "<http://www.wikidata.org/entity/statement/Q2-e2828e9c-40ac-0437-83b0-2615fb8ef507> <http://wikiba.se/ontology#rank> <http://wikiba.se/ontology#NormalRank> .\n",
      "15914\n",
      "<http://www.wikidata.org/entity/statement/Q2-e2828e9c-40ac-0437-83b0-2615fb8ef507> <http://www.wikidata.org/prop/statement/P1557> <http://www.wikidata.org/entity/Q898312> .\n",
      "<http://www.wikidata.org/entity/statement/Q2-e2828e9c-40ac-0437-83b0-2615fb8ef507> <http://www.w3.org/1999/02/22-rdf-syntax-ns#type> <http://wikiba.se/ontology#BestRank> .\n",
      "15915\n",
      "<http://www.wikidata.org/entity/statement/Q2-e4664595-4beb-1cc7-88b6-3f3e157b9213> <http://wikiba.se/ontology#hasViolationForConstraint> <http://www.wikidata.org/entity/statement/P1082-E8CBFFC0-0655-46D1-B292-FECE461E8253> .\n",
      "<http://www.wikidata.org/entity/statement/Q2-e2828e9c-40ac-0437-83b0-2615fb8ef507> <http://www.wikidata.org/prop/statement/P1557> <http://www.wikidata.org/entity/Q898312> .\n",
      "15916\n",
      "<http://www.wikidata.org/entity/statement/Q2-e4664595-4beb-1cc7-88b6-3f3e157b9213> <http://wikiba.se/ontology#rank> <http://wikiba.se/ontology#NormalRank> .\n",
      "<http://www.wikidata.org/entity/statement/Q2-e4664595-4beb-1cc7-88b6-3f3e157b9213> <http://wikiba.se/ontology#hasViolationForConstraint> <http://www.wikidata.org/entity/statement/P1082-E8CBFFC0-0655-46D1-B292-FECE461E8253> .\n",
      "15917\n",
      "<http://www.wikidata.org/entity/statement/Q2-e4664595-4beb-1cc7-88b6-3f3e157b9213> <http://www.wikidata.org/prop/qualifier/P585> \"2018-09-26T00:00:00+00:00\"^^<http://www.w3.org/2001/XMLSchema#dateTime> .\n",
      "<http://www.wikidata.org/entity/statement/Q2-e4664595-4beb-1cc7-88b6-3f3e157b9213> <http://wikiba.se/ontology#rank> <http://wikiba.se/ontology#NormalRank> .\n",
      "15918\n",
      "<http://www.wikidata.org/entity/statement/Q2-e4664595-4beb-1cc7-88b6-3f3e157b9213> <http://www.wikidata.org/prop/qualifier/value/P585> <http://www.wikidata.org/value/e1c430f49774545ae276e5ada7df6300> .\n",
      "<http://www.wikidata.org/entity/statement/Q2-e4664595-4beb-1cc7-88b6-3f3e157b9213> <http://www.wikidata.org/prop/qualifier/P585> \"2018-09-26T00:00:00+00:00\"^^<http://www.w3.org/2001/XMLSchema#dateTime> .\n",
      "15919\n",
      "<http://www.wikidata.org/entity/statement/Q2-e4664595-4beb-1cc7-88b6-3f3e157b9213> <http://www.wikidata.org/prop/statement/P1082> \"7652516839.0\"^^<http://www.w3.org/2001/XMLSchema#decimal> .\n",
      "<http://www.wikidata.org/entity/statement/Q2-e4664595-4beb-1cc7-88b6-3f3e157b9213> <http://www.wikidata.org/prop/qualifier/value/P585> <http://www.wikidata.org/value/e1c430f49774545ae276e5ada7df6300> .\n",
      "15920\n",
      "<http://www.wikidata.org/entity/statement/Q2-e4664595-4beb-1cc7-88b6-3f3e157b9213> <http://www.wikidata.org/prop/statement/value/P1082> <http://www.wikidata.org/value/3350d500d5d6cc5dfbe9e81fb015db1d> .\n",
      "<http://www.wikidata.org/entity/statement/Q2-e4664595-4beb-1cc7-88b6-3f3e157b9213> <http://www.wikidata.org/prop/statement/P1082> \"7652516839.0\"^^<http://www.w3.org/2001/XMLSchema#decimal> .\n",
      "15921\n",
      "<http://www.wikidata.org/entity/statement/Q2-e7589cdd-4cad-ffbb-014b-ee86a1c76bba> <http://wikiba.se/ontology#rank> <http://wikiba.se/ontology#NormalRank> .\n",
      "<http://www.wikidata.org/entity/statement/Q2-e4664595-4beb-1cc7-88b6-3f3e157b9213> <http://www.wikidata.org/prop/statement/value/P1082> <http://www.wikidata.org/value/3350d500d5d6cc5dfbe9e81fb015db1d> .\n",
      "15922\n",
      "<http://www.wikidata.org/entity/statement/Q2-e7589cdd-4cad-ffbb-014b-ee86a1c76bba> <http://www.w3.org/1999/02/22-rdf-syntax-ns#type> <http://wikiba.se/ontology#BestRank> .\n",
      "<http://www.wikidata.org/entity/statement/Q2-e7589cdd-4cad-ffbb-014b-ee86a1c76bba> <http://wikiba.se/ontology#rank> <http://wikiba.se/ontology#NormalRank> .\n",
      "15923\n",
      "<http://www.wikidata.org/entity/statement/Q2-e7589cdd-4cad-ffbb-014b-ee86a1c76bba> <http://www.wikidata.org/prop/statement/P1096> \"0.016710219\"^^<http://www.w3.org/2001/XMLSchema#decimal> .\n",
      "<http://www.wikidata.org/entity/statement/Q2-e7589cdd-4cad-ffbb-014b-ee86a1c76bba> <http://www.w3.org/1999/02/22-rdf-syntax-ns#type> <http://wikiba.se/ontology#BestRank> .\n",
      "15924\n",
      "<http://www.wikidata.org/entity/statement/Q2-e7589cdd-4cad-ffbb-014b-ee86a1c76bba> <http://www.wikidata.org/prop/statement/value/P1096> <http://www.wikidata.org/value/8f2b1d815b2050b651e1ed1373ca6911> .\n",
      "<http://www.wikidata.org/entity/statement/Q2-e7589cdd-4cad-ffbb-014b-ee86a1c76bba> <http://www.wikidata.org/prop/statement/P1096> \"0.016710219\"^^<http://www.w3.org/2001/XMLSchema#decimal> .\n",
      "15925\n",
      "<http://www.wikidata.org/entity/statement/Q2-e8ba1188-4aec-9e37-a75e-f79466c1913e> <http://wikiba.se/ontology#hasViolationForConstraint> <http://www.wikidata.org/entity/statement/P1480-90D3389B-D13D-45D7-8A8D-ED188D541A00> .\n",
      "<http://www.wikidata.org/entity/statement/Q2-e7589cdd-4cad-ffbb-014b-ee86a1c76bba> <http://www.wikidata.org/prop/statement/value/P1096> <http://www.wikidata.org/value/8f2b1d815b2050b651e1ed1373ca6911> .\n",
      "15926\n",
      "<http://www.wikidata.org/entity/statement/Q2-e8ba1188-4aec-9e37-a75e-f79466c1913e> <http://wikiba.se/ontology#rank> <http://wikiba.se/ontology#NormalRank> .\n",
      "<http://www.wikidata.org/entity/statement/Q2-e8ba1188-4aec-9e37-a75e-f79466c1913e> <http://wikiba.se/ontology#hasViolationForConstraint> <http://www.wikidata.org/entity/statement/P1480-90D3389B-D13D-45D7-8A8D-ED188D541A00> .\n",
      "15927\n",
      "<http://www.wikidata.org/entity/statement/Q2-e8ba1188-4aec-9e37-a75e-f79466c1913e> <http://www.wikidata.org/prop/qualifier/P1480> <http://www.wikidata.org/entity/Q27058> .\n",
      "<http://www.wikidata.org/entity/statement/Q2-e8ba1188-4aec-9e37-a75e-f79466c1913e> <http://wikiba.se/ontology#rank> <http://wikiba.se/ontology#NormalRank> .\n",
      "15928\n",
      "<http://www.wikidata.org/entity/statement/Q2-e8ba1188-4aec-9e37-a75e-f79466c1913e> <http://www.wikidata.org/prop/statement/P1419> <http://www.wikidata.org/entity/Q3241540> .\n",
      "<http://www.wikidata.org/entity/statement/Q2-e8ba1188-4aec-9e37-a75e-f79466c1913e> <http://www.wikidata.org/prop/qualifier/P1480> <http://www.wikidata.org/entity/Q27058> .\n",
      "15929\n",
      "<http://www.wikidata.org/entity/statement/Q2-e91f0851-4856-5c58-5ee6-b96985465ee8> <http://wikiba.se/ontology#hasViolationForConstraint> <http://www.wikidata.org/entity/statement/P6591-180972CD-C56F-407D-9A33-57CCB82E2F47> .\n",
      "<http://www.wikidata.org/entity/statement/Q2-e8ba1188-4aec-9e37-a75e-f79466c1913e> <http://www.wikidata.org/prop/statement/P1419> <http://www.wikidata.org/entity/Q3241540> .\n",
      "15930\n",
      "<http://www.wikidata.org/entity/statement/Q2-e91f0851-4856-5c58-5ee6-b96985465ee8> <http://wikiba.se/ontology#hasViolationForConstraint> <http://www.wikidata.org/entity/statement/P6591-A2666172-5A3C-4550-9618-CCBF47B5238D> .\n",
      "<http://www.wikidata.org/entity/statement/Q2-e91f0851-4856-5c58-5ee6-b96985465ee8> <http://wikiba.se/ontology#hasViolationForConstraint> <http://www.wikidata.org/entity/statement/P6591-180972CD-C56F-407D-9A33-57CCB82E2F47> .\n",
      "15931\n",
      "<http://www.wikidata.org/entity/statement/Q2-e91f0851-4856-5c58-5ee6-b96985465ee8> <http://wikiba.se/ontology#rank> <http://wikiba.se/ontology#NormalRank> .\n",
      "<http://www.wikidata.org/entity/statement/Q2-e91f0851-4856-5c58-5ee6-b96985465ee8> <http://wikiba.se/ontology#hasViolationForConstraint> <http://www.wikidata.org/entity/statement/P6591-A2666172-5A3C-4550-9618-CCBF47B5238D> .\n",
      "15932\n",
      "<http://www.wikidata.org/entity/statement/Q2-e91f0851-4856-5c58-5ee6-b96985465ee8> <http://www.w3.org/1999/02/22-rdf-syntax-ns#type> <http://wikiba.se/ontology#BestRank> .\n",
      "<http://www.wikidata.org/entity/statement/Q2-e91f0851-4856-5c58-5ee6-b96985465ee8> <http://wikiba.se/ontology#rank> <http://wikiba.se/ontology#NormalRank> .\n",
      "15933\n",
      "<http://www.wikidata.org/entity/statement/Q2-e91f0851-4856-5c58-5ee6-b96985465ee8> <http://www.w3.org/ns/prov#wasDerivedFrom> <http://www.wikidata.org/reference/2fa311e42bc5edae361317bca2691411dce4fbdd> .\n",
      "<http://www.wikidata.org/entity/statement/Q2-e91f0851-4856-5c58-5ee6-b96985465ee8> <http://www.w3.org/1999/02/22-rdf-syntax-ns#type> <http://wikiba.se/ontology#BestRank> .\n",
      "15934\n",
      "<http://www.wikidata.org/entity/statement/Q2-e91f0851-4856-5c58-5ee6-b96985465ee8> <http://www.wikidata.org/prop/qualifier/P276> <http://www.wikidata.org/entity/Q242111> .\n",
      "<http://www.wikidata.org/entity/statement/Q2-e91f0851-4856-5c58-5ee6-b96985465ee8> <http://www.w3.org/ns/prov#wasDerivedFrom> <http://www.wikidata.org/reference/2fa311e42bc5edae361317bca2691411dce4fbdd> .\n",
      "15935\n",
      "<http://www.wikidata.org/entity/statement/Q2-e91f0851-4856-5c58-5ee6-b96985465ee8> <http://www.wikidata.org/prop/qualifier/P585> \"1913-07-10T00:00:00+00:00\"^^<http://www.w3.org/2001/XMLSchema#dateTime> .\n",
      "<http://www.wikidata.org/entity/statement/Q2-e91f0851-4856-5c58-5ee6-b96985465ee8> <http://www.wikidata.org/prop/qualifier/P276> <http://www.wikidata.org/entity/Q242111> .\n",
      "15936\n",
      "<http://www.wikidata.org/entity/statement/Q2-e91f0851-4856-5c58-5ee6-b96985465ee8> <http://www.wikidata.org/prop/qualifier/value/P585> <http://www.wikidata.org/value/1b906dbb5a6aa24a98a7a4a77da02328> .\n",
      "<http://www.wikidata.org/entity/statement/Q2-e91f0851-4856-5c58-5ee6-b96985465ee8> <http://www.wikidata.org/prop/qualifier/P585> \"1913-07-10T00:00:00+00:00\"^^<http://www.w3.org/2001/XMLSchema#dateTime> .\n",
      "15937\n",
      "<http://www.wikidata.org/entity/statement/Q2-e91f0851-4856-5c58-5ee6-b96985465ee8> <http://www.wikidata.org/prop/statement/P6591> \"56.7\"^^<http://www.w3.org/2001/XMLSchema#decimal> .\n",
      "<http://www.wikidata.org/entity/statement/Q2-e91f0851-4856-5c58-5ee6-b96985465ee8> <http://www.wikidata.org/prop/qualifier/value/P585> <http://www.wikidata.org/value/1b906dbb5a6aa24a98a7a4a77da02328> .\n",
      "15938\n",
      "<http://www.wikidata.org/entity/statement/Q2-e91f0851-4856-5c58-5ee6-b96985465ee8> <http://www.wikidata.org/prop/statement/value/P6591> <http://www.wikidata.org/value/086ed2de3cccd4cb60c3e10ecedf7d62> .\n",
      "<http://www.wikidata.org/entity/statement/Q2-e91f0851-4856-5c58-5ee6-b96985465ee8> <http://www.wikidata.org/prop/statement/P6591> \"56.7\"^^<http://www.w3.org/2001/XMLSchema#decimal> .\n",
      "15939\n",
      "<http://www.wikidata.org/entity/statement/Q2-e9e99743-40fe-90ab-415e-a83e134579c9> <http://wikiba.se/ontology#rank> <http://wikiba.se/ontology#NormalRank> .\n",
      "<http://www.wikidata.org/entity/statement/Q2-e91f0851-4856-5c58-5ee6-b96985465ee8> <http://www.wikidata.org/prop/statement/value/P6591> <http://www.wikidata.org/value/086ed2de3cccd4cb60c3e10ecedf7d62> .\n",
      "15940\n",
      "<http://www.wikidata.org/entity/statement/Q2-e9e99743-40fe-90ab-415e-a83e134579c9> <http://www.w3.org/1999/02/22-rdf-syntax-ns#type> <http://wikiba.se/ontology#BestRank> .\n",
      "<http://www.wikidata.org/entity/statement/Q2-e9e99743-40fe-90ab-415e-a83e134579c9> <http://wikiba.se/ontology#rank> <http://wikiba.se/ontology#NormalRank> .\n",
      "15941\n",
      "<http://www.wikidata.org/entity/statement/Q2-e9e99743-40fe-90ab-415e-a83e134579c9> <http://www.wikidata.org/prop/statement/P1549> \"Ziemianin\"@pl .\n",
      "<http://www.wikidata.org/entity/statement/Q2-e9e99743-40fe-90ab-415e-a83e134579c9> <http://www.w3.org/1999/02/22-rdf-syntax-ns#type> <http://wikiba.se/ontology#BestRank> .\n",
      "15942\n",
      "<http://www.wikidata.org/entity/statement/Q2-ea1ad758-4ea4-5240-7f46-fd26d5c32e09> <http://wikiba.se/ontology#rank> <http://wikiba.se/ontology#NormalRank> .\n",
      "<http://www.wikidata.org/entity/statement/Q2-e9e99743-40fe-90ab-415e-a83e134579c9> <http://www.wikidata.org/prop/statement/P1549> \"Ziemianin\"@pl .\n",
      "15943\n",
      "<http://www.wikidata.org/entity/statement/Q2-ea1ad758-4ea4-5240-7f46-fd26d5c32e09> <http://www.w3.org/1999/02/22-rdf-syntax-ns#type> <http://wikiba.se/ontology#BestRank> .\n",
      "<http://www.wikidata.org/entity/statement/Q2-ea1ad758-4ea4-5240-7f46-fd26d5c32e09> <http://wikiba.se/ontology#rank> <http://wikiba.se/ontology#NormalRank> .\n",
      "15944\n",
      "<http://www.wikidata.org/entity/statement/Q2-ea1ad758-4ea4-5240-7f46-fd26d5c32e09> <http://www.wikidata.org/prop/statement/P2386> \"12742.0\"^^<http://www.w3.org/2001/XMLSchema#decimal> .\n",
      "<http://www.wikidata.org/entity/statement/Q2-ea1ad758-4ea4-5240-7f46-fd26d5c32e09> <http://www.w3.org/1999/02/22-rdf-syntax-ns#type> <http://wikiba.se/ontology#BestRank> .\n",
      "15945\n",
      "<http://www.wikidata.org/entity/statement/Q2-ea1ad758-4ea4-5240-7f46-fd26d5c32e09> <http://www.wikidata.org/prop/statement/value-normalized/P2386> <http://www.wikidata.org/value/24d043e7d0857052841e429cec9bfe45> .\n",
      "<http://www.wikidata.org/entity/statement/Q2-ea1ad758-4ea4-5240-7f46-fd26d5c32e09> <http://www.wikidata.org/prop/statement/P2386> \"12742.0\"^^<http://www.w3.org/2001/XMLSchema#decimal> .\n",
      "15946\n",
      "<http://www.wikidata.org/entity/statement/Q2-ea1ad758-4ea4-5240-7f46-fd26d5c32e09> <http://www.wikidata.org/prop/statement/value/P2386> <http://www.wikidata.org/value/390f6d3e68189b0b7912e68f7a46c0b0> .\n",
      "<http://www.wikidata.org/entity/statement/Q2-ea1ad758-4ea4-5240-7f46-fd26d5c32e09> <http://www.wikidata.org/prop/statement/value-normalized/P2386> <http://www.wikidata.org/value/24d043e7d0857052841e429cec9bfe45> .\n",
      "15947\n",
      "<http://www.wikidata.org/entity/statement/Q2-eb0d60f4-426a-da75-1117-6beff5d853b0> <http://wikiba.se/ontology#rank> <http://wikiba.se/ontology#PreferredRank> .\n",
      "<http://www.wikidata.org/entity/statement/Q2-ea1ad758-4ea4-5240-7f46-fd26d5c32e09> <http://www.wikidata.org/prop/statement/value/P2386> <http://www.wikidata.org/value/390f6d3e68189b0b7912e68f7a46c0b0> .\n",
      "15948\n",
      "<http://www.wikidata.org/entity/statement/Q2-eb0d60f4-426a-da75-1117-6beff5d853b0> <http://www.w3.org/1999/02/22-rdf-syntax-ns#type> <http://wikiba.se/ontology#BestRank> .\n",
      "<http://www.wikidata.org/entity/statement/Q2-eb0d60f4-426a-da75-1117-6beff5d853b0> <http://wikiba.se/ontology#rank> <http://wikiba.se/ontology#PreferredRank> .\n",
      "15949\n",
      "<http://www.wikidata.org/entity/statement/Q2-eb0d60f4-426a-da75-1117-6beff5d853b0> <http://www.w3.org/1999/02/22-rdf-syntax-ns#type> <http://www.wikidata.org/prop/novalue/P1334> .\n",
      "<http://www.wikidata.org/entity/statement/Q2-eb0d60f4-426a-da75-1117-6beff5d853b0> <http://www.w3.org/1999/02/22-rdf-syntax-ns#type> <http://wikiba.se/ontology#BestRank> .\n",
      "15950\n",
      "<http://www.wikidata.org/entity/statement/Q2-ec52951f-4508-11ea-f384-b0c9c44a7eaf> <http://wikiba.se/ontology#rank> <http://wikiba.se/ontology#NormalRank> .\n",
      "<http://www.wikidata.org/entity/statement/Q2-eb0d60f4-426a-da75-1117-6beff5d853b0> <http://www.w3.org/1999/02/22-rdf-syntax-ns#type> <http://www.wikidata.org/prop/novalue/P1334> .\n",
      "15951\n",
      "<http://www.wikidata.org/entity/statement/Q2-ec52951f-4508-11ea-f384-b0c9c44a7eaf> <http://www.w3.org/1999/02/22-rdf-syntax-ns#type> <http://wikiba.se/ontology#BestRank> .\n",
      "<http://www.wikidata.org/entity/statement/Q2-ec52951f-4508-11ea-f384-b0c9c44a7eaf> <http://wikiba.se/ontology#rank> <http://wikiba.se/ontology#NormalRank> .\n",
      "15952\n",
      "<http://www.wikidata.org/entity/statement/Q2-ec52951f-4508-11ea-f384-b0c9c44a7eaf> <http://www.wikidata.org/prop/qualifier/P518> <http://www.wikidata.org/entity/Q1775415> .\n",
      "<http://www.wikidata.org/entity/statement/Q2-ec52951f-4508-11ea-f384-b0c9c44a7eaf> <http://www.w3.org/1999/02/22-rdf-syntax-ns#type> <http://wikiba.se/ontology#BestRank> .\n",
      "15953\n",
      "<http://www.wikidata.org/entity/statement/Q2-ec52951f-4508-11ea-f384-b0c9c44a7eaf> <http://www.wikidata.org/prop/statement/P1549> \"\\u0437\\u0435\\u043C\\u043B\\u044F\\u043D\\u043A\\u0430\"@ru .\n",
      "<http://www.wikidata.org/entity/statement/Q2-ec52951f-4508-11ea-f384-b0c9c44a7eaf> <http://www.wikidata.org/prop/qualifier/P518> <http://www.wikidata.org/entity/Q1775415> .\n",
      "15954\n",
      "<http://www.wikidata.org/entity/statement/Q2-ecbec999-4e84-48ea-be87-41e36baeb459> <http://wikiba.se/ontology#hasViolationForConstraint> <http://www.wikidata.org/entity/statement/P1082-E8CBFFC0-0655-46D1-B292-FECE461E8253> .\n",
      "<http://www.wikidata.org/entity/statement/Q2-ec52951f-4508-11ea-f384-b0c9c44a7eaf> <http://www.wikidata.org/prop/statement/P1549> \"\\u0437\\u0435\\u043C\\u043B\\u044F\\u043D\\u043A\\u0430\"@ru .\n",
      "15955\n",
      "<http://www.wikidata.org/entity/statement/Q2-ecbec999-4e84-48ea-be87-41e36baeb459> <http://wikiba.se/ontology#rank> <http://wikiba.se/ontology#NormalRank> .\n",
      "<http://www.wikidata.org/entity/statement/Q2-ecbec999-4e84-48ea-be87-41e36baeb459> <http://wikiba.se/ontology#hasViolationForConstraint> <http://www.wikidata.org/entity/statement/P1082-E8CBFFC0-0655-46D1-B292-FECE461E8253> .\n",
      "15956\n",
      "<http://www.wikidata.org/entity/statement/Q2-ecbec999-4e84-48ea-be87-41e36baeb459> <http://www.w3.org/ns/prov#wasDerivedFrom> <http://www.wikidata.org/reference/b18a9540da6043e769c92521aea06140db349486> .\n",
      "<http://www.wikidata.org/entity/statement/Q2-ecbec999-4e84-48ea-be87-41e36baeb459> <http://wikiba.se/ontology#rank> <http://wikiba.se/ontology#NormalRank> .\n",
      "15957\n",
      "<http://www.wikidata.org/entity/statement/Q2-ecbec999-4e84-48ea-be87-41e36baeb459> <http://www.wikidata.org/prop/qualifier/P585> \"-0500-01-01T00:00:00Z\"^^<http://www.w3.org/2001/XMLSchema#dateTime> .\n",
      "<http://www.wikidata.org/entity/statement/Q2-ecbec999-4e84-48ea-be87-41e36baeb459> <http://www.w3.org/ns/prov#wasDerivedFrom> <http://www.wikidata.org/reference/b18a9540da6043e769c92521aea06140db349486> .\n",
      "15958\n",
      "<http://www.wikidata.org/entity/statement/Q2-ecbec999-4e84-48ea-be87-41e36baeb459> <http://www.wikidata.org/prop/qualifier/value/P585> <http://www.wikidata.org/value/f109fb547c382d370888b199c155e4d6> .\n",
      "<http://www.wikidata.org/entity/statement/Q2-ecbec999-4e84-48ea-be87-41e36baeb459> <http://www.wikidata.org/prop/qualifier/P585> \"-0500-01-01T00:00:00Z\"^^<http://www.w3.org/2001/XMLSchema#dateTime> .\n",
      "15959\n",
      "<http://www.wikidata.org/entity/statement/Q2-ecbec999-4e84-48ea-be87-41e36baeb459> <http://www.wikidata.org/prop/statement/P1082> \"100000000.0\"^^<http://www.w3.org/2001/XMLSchema#decimal> .\n",
      "<http://www.wikidata.org/entity/statement/Q2-ecbec999-4e84-48ea-be87-41e36baeb459> <http://www.wikidata.org/prop/qualifier/value/P585> <http://www.wikidata.org/value/f109fb547c382d370888b199c155e4d6> .\n",
      "15960\n",
      "<http://www.wikidata.org/entity/statement/Q2-ecbec999-4e84-48ea-be87-41e36baeb459> <http://www.wikidata.org/prop/statement/value/P1082> <http://www.wikidata.org/value/f366da1081ad5780b759316e36e8c558> .\n",
      "<http://www.wikidata.org/entity/statement/Q2-ecbec999-4e84-48ea-be87-41e36baeb459> <http://www.wikidata.org/prop/statement/P1082> \"100000000.0\"^^<http://www.w3.org/2001/XMLSchema#decimal> .\n",
      "15961\n",
      "<http://www.wikidata.org/entity/statement/Q2-ef7b8f27-4234-382b-c0cc-8be75de4de3d> <http://wikiba.se/ontology#hasViolationForConstraint> <http://www.wikidata.org/entity/statement/P5905-83E752D6-0F48-43BD-BF9D-8EB90964AE52> .\n",
      "<http://www.wikidata.org/entity/statement/Q2-ecbec999-4e84-48ea-be87-41e36baeb459> <http://www.wikidata.org/prop/statement/value/P1082> <http://www.wikidata.org/value/f366da1081ad5780b759316e36e8c558> .\n",
      "15962\n",
      "<http://www.wikidata.org/entity/statement/Q2-ef7b8f27-4234-382b-c0cc-8be75de4de3d> <http://wikiba.se/ontology#rank> <http://wikiba.se/ontology#NormalRank> .\n",
      "<http://www.wikidata.org/entity/statement/Q2-ef7b8f27-4234-382b-c0cc-8be75de4de3d> <http://wikiba.se/ontology#hasViolationForConstraint> <http://www.wikidata.org/entity/statement/P5905-83E752D6-0F48-43BD-BF9D-8EB90964AE52> .\n",
      "15963\n",
      "<http://www.wikidata.org/entity/statement/Q2-ef7b8f27-4234-382b-c0cc-8be75de4de3d> <http://www.w3.org/1999/02/22-rdf-syntax-ns#type> <http://wikiba.se/ontology#BestRank> .\n",
      "<http://www.wikidata.org/entity/statement/Q2-ef7b8f27-4234-382b-c0cc-8be75de4de3d> <http://wikiba.se/ontology#rank> <http://wikiba.se/ontology#NormalRank> .\n",
      "15964\n",
      "<http://www.wikidata.org/entity/statement/Q2-ef7b8f27-4234-382b-c0cc-8be75de4de3d> <http://www.wikidata.org/prop/statement/P5905> \"4020-57183\" .\n",
      "<http://www.wikidata.org/entity/statement/Q2-ef7b8f27-4234-382b-c0cc-8be75de4de3d> <http://www.w3.org/1999/02/22-rdf-syntax-ns#type> <http://wikiba.se/ontology#BestRank> .\n",
      "15965\n",
      "<http://www.wikidata.org/entity/statement/Q2-f20509fa-48f0-23aa-f384-9f7093befc8c> <http://wikiba.se/ontology#hasViolationForConstraint> <http://www.wikidata.org/entity/statement/P1082-E8CBFFC0-0655-46D1-B292-FECE461E8253> .\n",
      "<http://www.wikidata.org/entity/statement/Q2-ef7b8f27-4234-382b-c0cc-8be75de4de3d> <http://www.wikidata.org/prop/statement/P5905> \"4020-57183\" .\n",
      "15966\n",
      "<http://www.wikidata.org/entity/statement/Q2-f20509fa-48f0-23aa-f384-9f7093befc8c> <http://wikiba.se/ontology#rank> <http://wikiba.se/ontology#NormalRank> .\n",
      "<http://www.wikidata.org/entity/statement/Q2-f20509fa-48f0-23aa-f384-9f7093befc8c> <http://wikiba.se/ontology#hasViolationForConstraint> <http://www.wikidata.org/entity/statement/P1082-E8CBFFC0-0655-46D1-B292-FECE461E8253> .\n",
      "15967\n",
      "<http://www.wikidata.org/entity/statement/Q2-f20509fa-48f0-23aa-f384-9f7093befc8c> <http://www.wikidata.org/prop/qualifier/P585> \"2000-01-01T00:00:00+00:00\"^^<http://www.w3.org/2001/XMLSchema#dateTime> .\n",
      "<http://www.wikidata.org/entity/statement/Q2-f20509fa-48f0-23aa-f384-9f7093befc8c> <http://wikiba.se/ontology#rank> <http://wikiba.se/ontology#NormalRank> .\n",
      "15968\n",
      "<http://www.wikidata.org/entity/statement/Q2-f20509fa-48f0-23aa-f384-9f7093befc8c> <http://www.wikidata.org/prop/qualifier/value/P585> <http://www.wikidata.org/value/23876297dbcb491380c182a907ab8974> .\n",
      "<http://www.wikidata.org/entity/statement/Q2-f20509fa-48f0-23aa-f384-9f7093befc8c> <http://www.wikidata.org/prop/qualifier/P585> \"2000-01-01T00:00:00+00:00\"^^<http://www.w3.org/2001/XMLSchema#dateTime> .\n",
      "15969\n",
      "<http://www.wikidata.org/entity/statement/Q2-f20509fa-48f0-23aa-f384-9f7093befc8c> <http://www.wikidata.org/prop/statement/P1082> \"6070581000.0\"^^<http://www.w3.org/2001/XMLSchema#decimal> .\n",
      "<http://www.wikidata.org/entity/statement/Q2-f20509fa-48f0-23aa-f384-9f7093befc8c> <http://www.wikidata.org/prop/qualifier/value/P585> <http://www.wikidata.org/value/23876297dbcb491380c182a907ab8974> .\n",
      "15970\n",
      "<http://www.wikidata.org/entity/statement/Q2-f20509fa-48f0-23aa-f384-9f7093befc8c> <http://www.wikidata.org/prop/statement/value/P1082> <http://www.wikidata.org/value/4e7ee14787f19a7472402b4b4eea9804> .\n",
      "<http://www.wikidata.org/entity/statement/Q2-f20509fa-48f0-23aa-f384-9f7093befc8c> <http://www.wikidata.org/prop/statement/P1082> \"6070581000.0\"^^<http://www.w3.org/2001/XMLSchema#decimal> .\n",
      "15971\n",
      "<http://www.wikidata.org/entity/statement/Q2-f433bdb1-4e5c-a58b-d97e-feda14052a3c> <http://wikiba.se/ontology#rank> <http://wikiba.se/ontology#NormalRank> .\n",
      "<http://www.wikidata.org/entity/statement/Q2-f20509fa-48f0-23aa-f384-9f7093befc8c> <http://www.wikidata.org/prop/statement/value/P1082> <http://www.wikidata.org/value/4e7ee14787f19a7472402b4b4eea9804> .\n",
      "15972\n",
      "<http://www.wikidata.org/entity/statement/Q2-f433bdb1-4e5c-a58b-d97e-feda14052a3c> <http://www.w3.org/1999/02/22-rdf-syntax-ns#type> <http://wikiba.se/ontology#BestRank> .\n",
      "<http://www.wikidata.org/entity/statement/Q2-f433bdb1-4e5c-a58b-d97e-feda14052a3c> <http://wikiba.se/ontology#rank> <http://wikiba.se/ontology#NormalRank> .\n",
      "15973\n",
      "<http://www.wikidata.org/entity/statement/Q2-f433bdb1-4e5c-a58b-d97e-feda14052a3c> <http://www.wikidata.org/prop/statement/P1552> <http://www.wikidata.org/entity/Q846030> .\n",
      "<http://www.wikidata.org/entity/statement/Q2-f433bdb1-4e5c-a58b-d97e-feda14052a3c> <http://www.w3.org/1999/02/22-rdf-syntax-ns#type> <http://wikiba.se/ontology#BestRank> .\n",
      "15974\n",
      "<http://www.wikidata.org/entity/statement/Q2-f6ee30dd-4293-3628-a045-737393d80857> <http://wikiba.se/ontology#rank> <http://wikiba.se/ontology#NormalRank> .\n",
      "<http://www.wikidata.org/entity/statement/Q2-f433bdb1-4e5c-a58b-d97e-feda14052a3c> <http://www.wikidata.org/prop/statement/P1552> <http://www.wikidata.org/entity/Q846030> .\n",
      "15975\n",
      "<http://www.wikidata.org/entity/statement/Q2-f6ee30dd-4293-3628-a045-737393d80857> <http://www.w3.org/1999/02/22-rdf-syntax-ns#type> <http://wikiba.se/ontology#BestRank> .\n",
      "<http://www.wikidata.org/entity/statement/Q2-f6ee30dd-4293-3628-a045-737393d80857> <http://wikiba.se/ontology#rank> <http://wikiba.se/ontology#NormalRank> .\n",
      "15976\n",
      "<http://www.wikidata.org/entity/statement/Q2-f6ee30dd-4293-3628-a045-737393d80857> <http://www.wikidata.org/prop/statement/P7314> \"yer\" .\n",
      "<http://www.wikidata.org/entity/statement/Q2-f6ee30dd-4293-3628-a045-737393d80857> <http://www.w3.org/1999/02/22-rdf-syntax-ns#type> <http://wikiba.se/ontology#BestRank> .\n",
      "15977\n",
      "<http://www.wikidata.org/entity/statement/Q2-f719794b-49ac-377f-b180-e9eb5c0f9d3a> <http://wikiba.se/ontology#rank> <http://wikiba.se/ontology#NormalRank> .\n",
      "<http://www.wikidata.org/entity/statement/Q2-f6ee30dd-4293-3628-a045-737393d80857> <http://www.wikidata.org/prop/statement/P7314> \"yer\" .\n",
      "15978\n",
      "<http://www.wikidata.org/entity/statement/Q2-f719794b-49ac-377f-b180-e9eb5c0f9d3a> <http://www.w3.org/1999/02/22-rdf-syntax-ns#type> <http://wikiba.se/ontology#BestRank> .\n",
      "<http://www.wikidata.org/entity/statement/Q2-f719794b-49ac-377f-b180-e9eb5c0f9d3a> <http://wikiba.se/ontology#rank> <http://wikiba.se/ontology#NormalRank> .\n",
      "15979\n",
      "<http://www.wikidata.org/entity/statement/Q2-f719794b-49ac-377f-b180-e9eb5c0f9d3a> <http://www.wikidata.org/prop/qualifier/P407> <http://www.wikidata.org/entity/Q1860> .\n",
      "<http://www.wikidata.org/entity/statement/Q2-f719794b-49ac-377f-b180-e9eb5c0f9d3a> <http://www.w3.org/1999/02/22-rdf-syntax-ns#type> <http://wikiba.se/ontology#BestRank> .\n",
      "15980\n",
      "<http://www.wikidata.org/entity/statement/Q2-f719794b-49ac-377f-b180-e9eb5c0f9d3a> <http://www.wikidata.org/prop/statement/P443> <http://commons.wikimedia.org/wiki/Special:FilePath/En-Earth.ogg> .\n",
      "<http://www.wikidata.org/entity/statement/Q2-f719794b-49ac-377f-b180-e9eb5c0f9d3a> <http://www.wikidata.org/prop/qualifier/P407> <http://www.wikidata.org/entity/Q1860> .\n",
      "15981\n",
      "<http://www.wikidata.org/entity/statement/Q2-f9ae59a9-41c3-b355-7a2e-592caac83dac> <http://wikiba.se/ontology#rank> <http://wikiba.se/ontology#NormalRank> .\n",
      "<http://www.wikidata.org/entity/statement/Q2-f719794b-49ac-377f-b180-e9eb5c0f9d3a> <http://www.wikidata.org/prop/statement/P443> <http://commons.wikimedia.org/wiki/Special:FilePath/En-Earth.ogg> .\n",
      "15982\n",
      "<http://www.wikidata.org/entity/statement/Q2-f9ae59a9-41c3-b355-7a2e-592caac83dac> <http://www.w3.org/1999/02/22-rdf-syntax-ns#type> <http://wikiba.se/ontology#BestRank> .\n",
      "<http://www.wikidata.org/entity/statement/Q2-f9ae59a9-41c3-b355-7a2e-592caac83dac> <http://wikiba.se/ontology#rank> <http://wikiba.se/ontology#NormalRank> .\n",
      "15983\n",
      "<http://www.wikidata.org/entity/statement/Q2-f9ae59a9-41c3-b355-7a2e-592caac83dac> <http://www.wikidata.org/prop/statement/P6766> \"0\" .\n",
      "<http://www.wikidata.org/entity/statement/Q2-f9ae59a9-41c3-b355-7a2e-592caac83dac> <http://www.w3.org/1999/02/22-rdf-syntax-ns#type> <http://wikiba.se/ontology#BestRank> .\n",
      "15984\n",
      "<http://www.wikidata.org/entity/statement/Q2-f9f9d111-499d-8e87-90f3-1acf030a0991> <http://wikiba.se/ontology#rank> <http://wikiba.se/ontology#NormalRank> .\n",
      "<http://www.wikidata.org/entity/statement/Q2-f9ae59a9-41c3-b355-7a2e-592caac83dac> <http://www.wikidata.org/prop/statement/P6766> \"0\" .\n",
      "15985\n",
      "<http://www.wikidata.org/entity/statement/Q2-f9f9d111-499d-8e87-90f3-1acf030a0991> <http://www.w3.org/1999/02/22-rdf-syntax-ns#type> <http://wikiba.se/ontology#BestRank> .\n",
      "<http://www.wikidata.org/entity/statement/Q2-f9f9d111-499d-8e87-90f3-1acf030a0991> <http://wikiba.se/ontology#rank> <http://wikiba.se/ontology#NormalRank> .\n",
      "15986\n",
      "<http://www.wikidata.org/entity/statement/Q2-f9f9d111-499d-8e87-90f3-1acf030a0991> <http://www.wikidata.org/prop/statement/P1549> \"\\u0E0A\\u0E32\\u0E27\\u0E42\\u0E25\\u0E01\"@th .\n",
      "<http://www.wikidata.org/entity/statement/Q2-f9f9d111-499d-8e87-90f3-1acf030a0991> <http://www.w3.org/1999/02/22-rdf-syntax-ns#type> <http://wikiba.se/ontology#BestRank> .\n",
      "15987\n",
      "<http://www.wikidata.org/entity/statement/Q2-fa54ea32-4ece-3b08-999f-5ac16839fcd2> <http://wikiba.se/ontology#rank> <http://wikiba.se/ontology#NormalRank> .\n",
      "<http://www.wikidata.org/entity/statement/Q2-f9f9d111-499d-8e87-90f3-1acf030a0991> <http://www.wikidata.org/prop/statement/P1549> \"\\u0E0A\\u0E32\\u0E27\\u0E42\\u0E25\\u0E01\"@th .\n",
      "15988\n",
      "<http://www.wikidata.org/entity/statement/Q2-fa54ea32-4ece-3b08-999f-5ac16839fcd2> <http://www.w3.org/1999/02/22-rdf-syntax-ns#type> <http://wikiba.se/ontology#BestRank> .\n",
      "<http://www.wikidata.org/entity/statement/Q2-fa54ea32-4ece-3b08-999f-5ac16839fcd2> <http://wikiba.se/ontology#rank> <http://wikiba.se/ontology#NormalRank> .\n",
      "15989\n",
      "<http://www.wikidata.org/entity/statement/Q2-fa54ea32-4ece-3b08-999f-5ac16839fcd2> <http://www.wikidata.org/prop/statement/P1814> \"\\u3061\\u304D\\u3085\\u3046\" .\n",
      "<http://www.wikidata.org/entity/statement/Q2-fa54ea32-4ece-3b08-999f-5ac16839fcd2> <http://www.w3.org/1999/02/22-rdf-syntax-ns#type> <http://wikiba.se/ontology#BestRank> .\n",
      "15990\n",
      "<http://www.wikidata.org/entity/statement/Q2-facaa6d1-4f06-1427-8791-4e6ae3ee7f0a> <http://wikiba.se/ontology#rank> <http://wikiba.se/ontology#NormalRank> .\n",
      "<http://www.wikidata.org/entity/statement/Q2-fa54ea32-4ece-3b08-999f-5ac16839fcd2> <http://www.wikidata.org/prop/statement/P1814> \"\\u3061\\u304D\\u3085\\u3046\" .\n",
      "15991\n",
      "<http://www.wikidata.org/entity/statement/Q2-facaa6d1-4f06-1427-8791-4e6ae3ee7f0a> <http://www.w3.org/1999/02/22-rdf-syntax-ns#type> <http://wikiba.se/ontology#BestRank> .\n",
      "<http://www.wikidata.org/entity/statement/Q2-facaa6d1-4f06-1427-8791-4e6ae3ee7f0a> <http://wikiba.se/ontology#rank> <http://wikiba.se/ontology#NormalRank> .\n",
      "15992\n",
      "<http://www.wikidata.org/entity/statement/Q2-facaa6d1-4f06-1427-8791-4e6ae3ee7f0a> <http://www.wikidata.org/prop/statement/P1036> \"525\" .\n",
      "<http://www.wikidata.org/entity/statement/Q2-facaa6d1-4f06-1427-8791-4e6ae3ee7f0a> <http://www.w3.org/1999/02/22-rdf-syntax-ns#type> <http://wikiba.se/ontology#BestRank> .\n",
      "15993\n",
      "<http://www.wikidata.org/entity/statement/Q2-fb5e3ebc-47fe-0a80-b078-b2cd2c7f3afc> <http://wikiba.se/ontology#hasViolationForConstraint> <http://www.wikidata.org/entity/statement/P1082-E8CBFFC0-0655-46D1-B292-FECE461E8253> .\n",
      "<http://www.wikidata.org/entity/statement/Q2-facaa6d1-4f06-1427-8791-4e6ae3ee7f0a> <http://www.wikidata.org/prop/statement/P1036> \"525\" .\n",
      "15994\n",
      "<http://www.wikidata.org/entity/statement/Q2-fb5e3ebc-47fe-0a80-b078-b2cd2c7f3afc> <http://wikiba.se/ontology#rank> <http://wikiba.se/ontology#NormalRank> .\n",
      "<http://www.wikidata.org/entity/statement/Q2-fb5e3ebc-47fe-0a80-b078-b2cd2c7f3afc> <http://wikiba.se/ontology#hasViolationForConstraint> <http://www.wikidata.org/entity/statement/P1082-E8CBFFC0-0655-46D1-B292-FECE461E8253> .\n",
      "15995\n",
      "<http://www.wikidata.org/entity/statement/Q2-fb5e3ebc-47fe-0a80-b078-b2cd2c7f3afc> <http://www.wikidata.org/prop/qualifier/P585> \"1750-01-01T00:00:00+00:00\"^^<http://www.w3.org/2001/XMLSchema#dateTime> .\n",
      "<http://www.wikidata.org/entity/statement/Q2-fb5e3ebc-47fe-0a80-b078-b2cd2c7f3afc> <http://wikiba.se/ontology#rank> <http://wikiba.se/ontology#NormalRank> .\n",
      "15996\n",
      "<http://www.wikidata.org/entity/statement/Q2-fb5e3ebc-47fe-0a80-b078-b2cd2c7f3afc> <http://www.wikidata.org/prop/qualifier/value/P585> <http://www.wikidata.org/value/3d5eebab5b34e138104b9e980c86c131> .\n",
      "<http://www.wikidata.org/entity/statement/Q2-fb5e3ebc-47fe-0a80-b078-b2cd2c7f3afc> <http://www.wikidata.org/prop/qualifier/P585> \"1750-01-01T00:00:00+00:00\"^^<http://www.w3.org/2001/XMLSchema#dateTime> .\n",
      "15997\n",
      "<http://www.wikidata.org/entity/statement/Q2-fb5e3ebc-47fe-0a80-b078-b2cd2c7f3afc> <http://www.wikidata.org/prop/statement/P1082> \"791000000.0\"^^<http://www.w3.org/2001/XMLSchema#decimal> .\n",
      "<http://www.wikidata.org/entity/statement/Q2-fb5e3ebc-47fe-0a80-b078-b2cd2c7f3afc> <http://www.wikidata.org/prop/qualifier/value/P585> <http://www.wikidata.org/value/3d5eebab5b34e138104b9e980c86c131> .\n",
      "15998\n",
      "<http://www.wikidata.org/entity/statement/Q2-fb5e3ebc-47fe-0a80-b078-b2cd2c7f3afc> <http://www.wikidata.org/prop/statement/value/P1082> <http://www.wikidata.org/value/5e4812bd107909072beb66fbf24089d0> .\n",
      "<http://www.wikidata.org/entity/statement/Q2-fb5e3ebc-47fe-0a80-b078-b2cd2c7f3afc> <http://www.wikidata.org/prop/statement/P1082> \"791000000.0\"^^<http://www.w3.org/2001/XMLSchema#decimal> .\n",
      "15999\n",
      "<http://www.wikidata.org/entity/statement/Q2-fdcbb035-4902-c5f1-61e4-1f80e4841b8e> <http://wikiba.se/ontology#rank> <http://wikiba.se/ontology#NormalRank> .\n",
      "<http://www.wikidata.org/entity/statement/Q2-fb5e3ebc-47fe-0a80-b078-b2cd2c7f3afc> <http://www.wikidata.org/prop/statement/value/P1082> <http://www.wikidata.org/value/5e4812bd107909072beb66fbf24089d0> .\n",
      "16000\n",
      "<http://www.wikidata.org/entity/statement/Q2-fdcbb035-4902-c5f1-61e4-1f80e4841b8e> <http://www.w3.org/1999/02/22-rdf-syntax-ns#type> <http://wikiba.se/ontology#BestRank> .\n",
      "<http://www.wikidata.org/entity/statement/Q2-fdcbb035-4902-c5f1-61e4-1f80e4841b8e> <http://wikiba.se/ontology#rank> <http://wikiba.se/ontology#NormalRank> .\n",
      "16001\n",
      "<http://www.wikidata.org/entity/statement/Q2-fdcbb035-4902-c5f1-61e4-1f80e4841b8e> <http://www.wikidata.org/prop/statement/P5019> \"erde\" .\n",
      "<http://www.wikidata.org/entity/statement/Q2-fdcbb035-4902-c5f1-61e4-1f80e4841b8e> <http://www.w3.org/1999/02/22-rdf-syntax-ns#type> <http://wikiba.se/ontology#BestRank> .\n",
      "16002\n",
      "<http://www.wikidata.org/entity/statement/Q2-fe7e0e70-41a2-1771-ffbf-24840f14fca4> <http://wikiba.se/ontology#rank> <http://wikiba.se/ontology#NormalRank> .\n",
      "<http://www.wikidata.org/entity/statement/Q2-fdcbb035-4902-c5f1-61e4-1f80e4841b8e> <http://www.wikidata.org/prop/statement/P5019> \"erde\" .\n",
      "16003\n",
      "<http://www.wikidata.org/entity/statement/Q2-fe7e0e70-41a2-1771-ffbf-24840f14fca4> <http://www.w3.org/1999/02/22-rdf-syntax-ns#type> <http://wikiba.se/ontology#BestRank> .\n",
      "<http://www.wikidata.org/entity/statement/Q2-fe7e0e70-41a2-1771-ffbf-24840f14fca4> <http://wikiba.se/ontology#rank> <http://wikiba.se/ontology#NormalRank> .\n",
      "16004\n",
      "<http://www.wikidata.org/entity/statement/Q2-fe7e0e70-41a2-1771-ffbf-24840f14fca4> <http://www.wikidata.org/prop/statement/P2233> \"149598023.0\"^^<http://www.w3.org/2001/XMLSchema#decimal> .\n",
      "<http://www.wikidata.org/entity/statement/Q2-fe7e0e70-41a2-1771-ffbf-24840f14fca4> <http://www.w3.org/1999/02/22-rdf-syntax-ns#type> <http://wikiba.se/ontology#BestRank> .\n",
      "16005\n",
      "<http://www.wikidata.org/entity/statement/Q2-fe7e0e70-41a2-1771-ffbf-24840f14fca4> <http://www.wikidata.org/prop/statement/value-normalized/P2233> <http://www.wikidata.org/value/e3833617375d20d5f3e6fcb01c16ae4c> .\n",
      "<http://www.wikidata.org/entity/statement/Q2-fe7e0e70-41a2-1771-ffbf-24840f14fca4> <http://www.wikidata.org/prop/statement/P2233> \"149598023.0\"^^<http://www.w3.org/2001/XMLSchema#decimal> .\n",
      "16006\n",
      "<http://www.wikidata.org/entity/statement/Q2-fe7e0e70-41a2-1771-ffbf-24840f14fca4> <http://www.wikidata.org/prop/statement/value/P2233> <http://www.wikidata.org/value/bd68c3be29f18577f88f49556bd65bb4> .\n",
      "<http://www.wikidata.org/entity/statement/Q2-fe7e0e70-41a2-1771-ffbf-24840f14fca4> <http://www.wikidata.org/prop/statement/value-normalized/P2233> <http://www.wikidata.org/value/e3833617375d20d5f3e6fcb01c16ae4c> .\n",
      "16007\n",
      "<http://www.wikidata.org/entity/statement/Q2-ffa6547f-4285-b2de-44bd-3342e07cba4f> <http://wikiba.se/ontology#rank> <http://wikiba.se/ontology#NormalRank> .\n",
      "<http://www.wikidata.org/entity/statement/Q2-fe7e0e70-41a2-1771-ffbf-24840f14fca4> <http://www.wikidata.org/prop/statement/value/P2233> <http://www.wikidata.org/value/bd68c3be29f18577f88f49556bd65bb4> .\n",
      "16008\n",
      "<http://www.wikidata.org/entity/statement/Q2-ffa6547f-4285-b2de-44bd-3342e07cba4f> <http://www.w3.org/1999/02/22-rdf-syntax-ns#type> <http://wikiba.se/ontology#BestRank> .\n",
      "<http://www.wikidata.org/entity/statement/Q2-ffa6547f-4285-b2de-44bd-3342e07cba4f> <http://wikiba.se/ontology#rank> <http://wikiba.se/ontology#NormalRank> .\n",
      "16009\n",
      "<http://www.wikidata.org/entity/statement/Q2-ffa6547f-4285-b2de-44bd-3342e07cba4f> <http://www.wikidata.org/prop/statement/P1036> \"550\" .\n",
      "<http://www.wikidata.org/entity/statement/Q2-ffa6547f-4285-b2de-44bd-3342e07cba4f> <http://www.w3.org/1999/02/22-rdf-syntax-ns#type> <http://wikiba.se/ontology#BestRank> .\n",
      "16010\n",
      "<http://www.wikidata.org/entity/statement/q2-02C18380-2488-4169-851A-70D6345C0593> <http://wikiba.se/ontology#rank> <http://wikiba.se/ontology#NormalRank> .\n",
      "<http://www.wikidata.org/entity/statement/Q2-ffa6547f-4285-b2de-44bd-3342e07cba4f> <http://www.wikidata.org/prop/statement/P1036> \"550\" .\n",
      "16011\n",
      "<http://www.wikidata.org/entity/statement/q2-02C18380-2488-4169-851A-70D6345C0593> <http://www.w3.org/1999/02/22-rdf-syntax-ns#type> <http://wikiba.se/ontology#BestRank> .\n",
      "<http://www.wikidata.org/entity/statement/q2-02C18380-2488-4169-851A-70D6345C0593> <http://wikiba.se/ontology#rank> <http://wikiba.se/ontology#NormalRank> .\n",
      "16012\n",
      "<http://www.wikidata.org/entity/statement/q2-02C18380-2488-4169-851A-70D6345C0593> <http://www.w3.org/ns/prov#wasDerivedFrom> <http://www.wikidata.org/reference/a235ba3d92daf43853b23688674b7ab464b4eea8> .\n",
      "<http://www.wikidata.org/entity/statement/q2-02C18380-2488-4169-851A-70D6345C0593> <http://www.w3.org/1999/02/22-rdf-syntax-ns#type> <http://wikiba.se/ontology#BestRank> .\n",
      "16013\n",
      "<http://www.wikidata.org/entity/statement/q2-02C18380-2488-4169-851A-70D6345C0593> <http://www.wikidata.org/prop/statement/P508> \"5175\" .\n",
      "<http://www.wikidata.org/entity/statement/q2-02C18380-2488-4169-851A-70D6345C0593> <http://www.w3.org/ns/prov#wasDerivedFrom> <http://www.wikidata.org/reference/a235ba3d92daf43853b23688674b7ab464b4eea8> .\n",
      "16014\n",
      "<http://www.wikidata.org/entity/statement/q2-02C18380-2488-4169-851A-70D6345C0593> <http://www.wikidata.org/prop/statement/value-normalized/P508> <http://purl.org/bncf/tid/5175> .\n",
      "<http://www.wikidata.org/entity/statement/q2-02C18380-2488-4169-851A-70D6345C0593> <http://www.wikidata.org/prop/statement/P508> \"5175\" .\n",
      "16015\n",
      "<http://www.wikidata.org/entity/statement/q2-03594614-958A-45FB-8979-BA175F8F6574> <http://wikiba.se/ontology#rank> <http://wikiba.se/ontology#NormalRank> .\n",
      "<http://www.wikidata.org/entity/statement/q2-02C18380-2488-4169-851A-70D6345C0593> <http://www.wikidata.org/prop/statement/value-normalized/P508> <http://purl.org/bncf/tid/5175> .\n",
      "16016\n",
      "<http://www.wikidata.org/entity/statement/q2-03594614-958A-45FB-8979-BA175F8F6574> <http://www.w3.org/1999/02/22-rdf-syntax-ns#type> <http://wikiba.se/ontology#BestRank> .\n",
      "<http://www.wikidata.org/entity/statement/q2-03594614-958A-45FB-8979-BA175F8F6574> <http://wikiba.se/ontology#rank> <http://wikiba.se/ontology#NormalRank> .\n",
      "16017\n",
      "<http://www.wikidata.org/entity/statement/q2-03594614-958A-45FB-8979-BA175F8F6574> <http://www.wikidata.org/prop/statement/P397> <http://www.wikidata.org/entity/Q525> .\n",
      "<http://www.wikidata.org/entity/statement/q2-03594614-958A-45FB-8979-BA175F8F6574> <http://www.w3.org/1999/02/22-rdf-syntax-ns#type> <http://wikiba.se/ontology#BestRank> .\n",
      "16018\n",
      "<http://www.wikidata.org/entity/statement/q2-6AA0B3FA-5A4C-4C2C-BF45-86542CF7285B> <http://wikiba.se/ontology#rank> <http://wikiba.se/ontology#NormalRank> .\n",
      "<http://www.wikidata.org/entity/statement/q2-03594614-958A-45FB-8979-BA175F8F6574> <http://www.wikidata.org/prop/statement/P397> <http://www.wikidata.org/entity/Q525> .\n",
      "16019\n",
      "<http://www.wikidata.org/entity/statement/q2-6AA0B3FA-5A4C-4C2C-BF45-86542CF7285B> <http://www.w3.org/1999/02/22-rdf-syntax-ns#type> <http://wikiba.se/ontology#BestRank> .\n",
      "<http://www.wikidata.org/entity/statement/q2-6AA0B3FA-5A4C-4C2C-BF45-86542CF7285B> <http://wikiba.se/ontology#rank> <http://wikiba.se/ontology#NormalRank> .\n",
      "16020\n",
      "<http://www.wikidata.org/entity/statement/q2-6AA0B3FA-5A4C-4C2C-BF45-86542CF7285B> <http://www.w3.org/ns/prov#wasDerivedFrom> <http://www.wikidata.org/reference/fa278ebfc458360e5aed63d5058cca83c46134f1> .\n",
      "<http://www.wikidata.org/entity/statement/q2-6AA0B3FA-5A4C-4C2C-BF45-86542CF7285B> <http://www.w3.org/1999/02/22-rdf-syntax-ns#type> <http://wikiba.se/ontology#BestRank> .\n",
      "16021\n",
      "<http://www.wikidata.org/entity/statement/q2-6AA0B3FA-5A4C-4C2C-BF45-86542CF7285B> <http://www.wikidata.org/prop/statement/P367> <http://commons.wikimedia.org/wiki/Special:FilePath/Earth%20symbol.svg> .\n",
      "<http://www.wikidata.org/entity/statement/q2-6AA0B3FA-5A4C-4C2C-BF45-86542CF7285B> <http://www.w3.org/ns/prov#wasDerivedFrom> <http://www.wikidata.org/reference/fa278ebfc458360e5aed63d5058cca83c46134f1> .\n",
      "16022\n",
      "<http://www.wikidata.org/entity/statement/q2-92E1BBEA-5747-4AE0-B478-F2EA89E26537> <http://wikiba.se/ontology#rank> <http://wikiba.se/ontology#NormalRank> .\n",
      "<http://www.wikidata.org/entity/statement/q2-6AA0B3FA-5A4C-4C2C-BF45-86542CF7285B> <http://www.wikidata.org/prop/statement/P367> <http://commons.wikimedia.org/wiki/Special:FilePath/Earth%20symbol.svg> .\n",
      "16023\n",
      "<http://www.wikidata.org/entity/statement/q2-92E1BBEA-5747-4AE0-B478-F2EA89E26537> <http://www.w3.org/1999/02/22-rdf-syntax-ns#type> <http://wikiba.se/ontology#BestRank> .\n",
      "<http://www.wikidata.org/entity/statement/q2-92E1BBEA-5747-4AE0-B478-F2EA89E26537> <http://wikiba.se/ontology#rank> <http://wikiba.se/ontology#NormalRank> .\n",
      "16024\n",
      "<http://www.wikidata.org/entity/statement/q2-92E1BBEA-5747-4AE0-B478-F2EA89E26537> <http://www.wikidata.org/prop/statement/P373> \"Earth\" .\n",
      "<http://www.wikidata.org/entity/statement/q2-92E1BBEA-5747-4AE0-B478-F2EA89E26537> <http://www.w3.org/1999/02/22-rdf-syntax-ns#type> <http://wikiba.se/ontology#BestRank> .\n",
      "16025\n",
      "<http://www.wikidata.org/entity/statement/q2-A14029DF-851B-43DC-A616-FB4279F602D5> <http://wikiba.se/ontology#rank> <http://wikiba.se/ontology#NormalRank> .\n",
      "<http://www.wikidata.org/entity/statement/q2-92E1BBEA-5747-4AE0-B478-F2EA89E26537> <http://www.wikidata.org/prop/statement/P373> \"Earth\" .\n",
      "16026\n",
      "<http://www.wikidata.org/entity/statement/q2-A14029DF-851B-43DC-A616-FB4279F602D5> <http://www.w3.org/1999/02/22-rdf-syntax-ns#type> <http://wikiba.se/ontology#BestRank> .\n",
      "<http://www.wikidata.org/entity/statement/q2-A14029DF-851B-43DC-A616-FB4279F602D5> <http://wikiba.se/ontology#rank> <http://wikiba.se/ontology#NormalRank> .\n",
      "16027\n",
      "<http://www.wikidata.org/entity/statement/q2-A14029DF-851B-43DC-A616-FB4279F602D5> <http://www.wikidata.org/prop/statement/P398> <http://www.wikidata.org/entity/Q405> .\n",
      "<http://www.wikidata.org/entity/statement/q2-A14029DF-851B-43DC-A616-FB4279F602D5> <http://www.w3.org/1999/02/22-rdf-syntax-ns#type> <http://wikiba.se/ontology#BestRank> .\n",
      "16028\n",
      "<http://www.wikidata.org/entity/statement/q2-b865c818-4572-5613-28e8-54ab1c07d7af> <http://wikiba.se/ontology#hasViolationForConstraint> <http://www.wikidata.org/entity/statement/P610-54b7259c-43ec-24f5-9489-465d6c182732> .\n",
      "<http://www.wikidata.org/entity/statement/q2-A14029DF-851B-43DC-A616-FB4279F602D5> <http://www.wikidata.org/prop/statement/P398> <http://www.wikidata.org/entity/Q405> .\n",
      "16029\n",
      "<http://www.wikidata.org/entity/statement/q2-b865c818-4572-5613-28e8-54ab1c07d7af> <http://wikiba.se/ontology#rank> <http://wikiba.se/ontology#NormalRank> .\n",
      "<http://www.wikidata.org/entity/statement/q2-b865c818-4572-5613-28e8-54ab1c07d7af> <http://wikiba.se/ontology#hasViolationForConstraint> <http://www.wikidata.org/entity/statement/P610-54b7259c-43ec-24f5-9489-465d6c182732> .\n",
      "16030\n",
      "<http://www.wikidata.org/entity/statement/q2-b865c818-4572-5613-28e8-54ab1c07d7af> <http://www.w3.org/1999/02/22-rdf-syntax-ns#type> <http://wikiba.se/ontology#BestRank> .\n",
      "<http://www.wikidata.org/entity/statement/q2-b865c818-4572-5613-28e8-54ab1c07d7af> <http://wikiba.se/ontology#rank> <http://wikiba.se/ontology#NormalRank> .\n",
      "16031\n",
      "<http://www.wikidata.org/entity/statement/q2-b865c818-4572-5613-28e8-54ab1c07d7af> <http://www.w3.org/ns/prov#wasDerivedFrom> <http://www.wikidata.org/reference/36029a2aab4ae894d1bccd5e799a1ffc8e85b90c> .\n",
      "<http://www.wikidata.org/entity/statement/q2-b865c818-4572-5613-28e8-54ab1c07d7af> <http://www.w3.org/1999/02/22-rdf-syntax-ns#type> <http://wikiba.se/ontology#BestRank> .\n",
      "16032\n",
      "<http://www.wikidata.org/entity/statement/q2-b865c818-4572-5613-28e8-54ab1c07d7af> <http://www.wikidata.org/prop/qualifier/P2043> \"6384.41598\"^^<http://www.w3.org/2001/XMLSchema#decimal> .\n",
      "<http://www.wikidata.org/entity/statement/q2-b865c818-4572-5613-28e8-54ab1c07d7af> <http://www.w3.org/ns/prov#wasDerivedFrom> <http://www.wikidata.org/reference/36029a2aab4ae894d1bccd5e799a1ffc8e85b90c> .\n",
      "16033\n",
      "<http://www.wikidata.org/entity/statement/q2-b865c818-4572-5613-28e8-54ab1c07d7af> <http://www.wikidata.org/prop/qualifier/P459> <http://www.wikidata.org/entity/Q590232> .\n",
      "<http://www.wikidata.org/entity/statement/q2-b865c818-4572-5613-28e8-54ab1c07d7af> <http://www.wikidata.org/prop/qualifier/P2043> \"6384.41598\"^^<http://www.w3.org/2001/XMLSchema#decimal> .\n",
      "16034\n",
      "<http://www.wikidata.org/entity/statement/q2-b865c818-4572-5613-28e8-54ab1c07d7af> <http://www.wikidata.org/prop/qualifier/value-normalized/P2043> <http://www.wikidata.org/value/6feb42fc00da984e6dd68cd356ad6866> .\n",
      "<http://www.wikidata.org/entity/statement/q2-b865c818-4572-5613-28e8-54ab1c07d7af> <http://www.wikidata.org/prop/qualifier/P459> <http://www.wikidata.org/entity/Q590232> .\n",
      "16035\n",
      "<http://www.wikidata.org/entity/statement/q2-b865c818-4572-5613-28e8-54ab1c07d7af> <http://www.wikidata.org/prop/qualifier/value/P2043> <http://www.wikidata.org/value/95c1112260ba4d21933a981ab1e9592c> .\n",
      "<http://www.wikidata.org/entity/statement/q2-b865c818-4572-5613-28e8-54ab1c07d7af> <http://www.wikidata.org/prop/qualifier/value-normalized/P2043> <http://www.wikidata.org/value/6feb42fc00da984e6dd68cd356ad6866> .\n",
      "16036\n",
      "<http://www.wikidata.org/entity/statement/q2-b865c818-4572-5613-28e8-54ab1c07d7af> <http://www.wikidata.org/prop/statement/P610> <http://www.wikidata.org/entity/Q14081> .\n",
      "<http://www.wikidata.org/entity/statement/q2-b865c818-4572-5613-28e8-54ab1c07d7af> <http://www.wikidata.org/prop/qualifier/value/P2043> <http://www.wikidata.org/value/95c1112260ba4d21933a981ab1e9592c> .\n",
      "16037\n",
      "<http://www.wikidata.org/prop/novalue/P1334> <http://www.w3.org/1999/02/22-rdf-syntax-ns#type> <http://www.w3.org/2002/07/owl#Class> .\n",
      "<http://www.wikidata.org/entity/statement/q2-b865c818-4572-5613-28e8-54ab1c07d7af> <http://www.wikidata.org/prop/statement/P610> <http://www.wikidata.org/entity/Q14081> .\n",
      "16038\n",
      "<http://www.wikidata.org/prop/novalue/P1334> <http://www.w3.org/2002/07/owl#complementOf> _:fd86c57b67bd34ace991911307ac97aabb2 .\n",
      "<http://www.wikidata.org/prop/novalue/P1334> <http://www.w3.org/1999/02/22-rdf-syntax-ns#type> <http://www.w3.org/2002/07/owl#Class> .\n",
      "16039\n",
      "<http://www.wikidata.org/prop/novalue/P1334> <http://www.w3.org/2002/07/owl#complementOf> _:fd86c57b67bd34ace991911307ac97aabb4 .\n",
      "<http://www.wikidata.org/prop/novalue/P1334> <http://www.w3.org/2002/07/owl#complementOf> _:ff7bfe3933b72466a8785b14d83208d65b2 .\n",
      "16040\n",
      "<http://www.wikidata.org/prop/novalue/P1334> <http://www.w3.org/2002/07/owl#complementOf> _:fd86c57b67bd34ace991911307ac97aabb6 .\n",
      "<http://www.wikidata.org/prop/novalue/P1334> <http://www.w3.org/2002/07/owl#complementOf> _:ff7bfe3933b72466a8785b14d83208d65b4 .\n",
      "16041\n",
      "<http://www.wikidata.org/prop/novalue/P1334> <http://www.w3.org/2002/07/owl#complementOf> _:fd86c57b67bd34ace991911307ac97aabb7 .\n",
      "<http://www.wikidata.org/prop/novalue/P1334> <http://www.w3.org/2002/07/owl#complementOf> _:ff7bfe3933b72466a8785b14d83208d65b6 .\n",
      "16042\n",
      "<http://www.wikidata.org/prop/novalue/P1335> <http://www.w3.org/1999/02/22-rdf-syntax-ns#type> <http://www.w3.org/2002/07/owl#Class> .\n",
      "<http://www.wikidata.org/prop/novalue/P1334> <http://www.w3.org/2002/07/owl#complementOf> _:ff7bfe3933b72466a8785b14d83208d65b7 .\n",
      "16043\n",
      "<http://www.wikidata.org/prop/novalue/P1335> <http://www.w3.org/2002/07/owl#complementOf> _:fd86c57b67bd34ace991911307ac97aabb1 .\n",
      "<http://www.wikidata.org/prop/novalue/P1334> <http://www.w3.org/2002/07/owl#complementOf> _:ffecc0fa21e8c412babe38e9c87a502ceb2 .\n",
      "16044\n",
      "<http://www.wikidata.org/prop/novalue/P1335> <http://www.w3.org/2002/07/owl#complementOf> _:fd86c57b67bd34ace991911307ac97aabb3 .\n",
      "<http://www.wikidata.org/prop/novalue/P1334> <http://www.w3.org/2002/07/owl#complementOf> _:ffecc0fa21e8c412babe38e9c87a502ceb4 .\n",
      "16045\n",
      "<http://www.wikidata.org/prop/novalue/P1335> <http://www.w3.org/2002/07/owl#complementOf> _:fd86c57b67bd34ace991911307ac97aabb5 .\n",
      "<http://www.wikidata.org/prop/novalue/P1334> <http://www.w3.org/2002/07/owl#complementOf> _:ffecc0fa21e8c412babe38e9c87a502ceb6 .\n",
      "16046\n",
      "<http://www.wikidata.org/value/025a999171be46295d3e3e02eefe636f> <http://wikiba.se/ontology#quantityAmount> \"3692492000.0\"^^<http://www.w3.org/2001/XMLSchema#decimal> .\n",
      "<http://www.wikidata.org/prop/novalue/P1334> <http://www.w3.org/2002/07/owl#complementOf> _:ffecc0fa21e8c412babe38e9c87a502ceb7 .\n",
      "16047\n",
      "<http://www.wikidata.org/value/0417a1b9887d02f022f9b2511c10ecca> <http://wikiba.se/ontology#quantityAmount> \"4068109000.0\"^^<http://www.w3.org/2001/XMLSchema#decimal> .\n",
      "<http://www.wikidata.org/prop/novalue/P1335> <http://www.w3.org/1999/02/22-rdf-syntax-ns#type> <http://www.w3.org/2002/07/owl#Class> .\n",
      "16048\n",
      "<http://www.wikidata.org/value/046b47a0e186b2d1371ce0ebc7e5b901> <http://wikiba.se/ontology#quantityAmount> \"294000000.0\"^^<http://www.w3.org/2001/XMLSchema#decimal> .\n",
      "<http://www.wikidata.org/prop/novalue/P1335> <http://www.w3.org/2002/07/owl#complementOf> _:ff7bfe3933b72466a8785b14d83208d65b1 .\n",
      "16049\n",
      "<http://www.wikidata.org/value/0596bd36a326849ab90a36c83f45a696> <http://wikiba.se/ontology#quantityAmount> \"151930000.0\"^^<http://www.w3.org/2001/XMLSchema#decimal> .\n",
      "<http://www.wikidata.org/prop/novalue/P1335> <http://www.w3.org/2002/07/owl#complementOf> _:ff7bfe3933b72466a8785b14d83208d65b3 .\n",
      "16050\n",
      "<http://www.wikidata.org/value/07c8821ca26fa2367b5b42ad0a4c4a53> <http://wikiba.se/ontology#quantityAmount> \"0.0033528\"^^<http://www.w3.org/2001/XMLSchema#decimal> .\n",
      "<http://www.wikidata.org/prop/novalue/P1335> <http://www.w3.org/2002/07/owl#complementOf> _:ff7bfe3933b72466a8785b14d83208d65b5 .\n",
      "16051\n",
      "<http://www.wikidata.org/value/080dd1f58c5ee494ef709d533bc6a900> <http://wikiba.se/ontology#quantityAmount> \"1.9933026650579555328527279826011683771272222735835232878552048\"^^<http://www.w3.org/2001/XMLSchema#decimal> .\n",
      "<http://www.wikidata.org/prop/novalue/P1335> <http://www.w3.org/2002/07/owl#complementOf> _:ffecc0fa21e8c412babe38e9c87a502ceb1 .\n",
      "16052\n",
      "<http://www.wikidata.org/value/086ed2de3cccd4cb60c3e10ecedf7d62> <http://wikiba.se/ontology#quantityAmount> \"56.7\"^^<http://www.w3.org/2001/XMLSchema#decimal> .\n",
      "<http://www.wikidata.org/prop/novalue/P1335> <http://www.w3.org/2002/07/owl#complementOf> _:ffecc0fa21e8c412babe38e9c87a502ceb3 .\n",
      "16053\n",
      "<http://www.wikidata.org/value/0ac84fa5571ff353a85ee25f984d6495> <http://wikiba.se/ontology#quantityAmount> \"2518629000.0\"^^<http://www.w3.org/2001/XMLSchema#decimal> .\n",
      "<http://www.wikidata.org/prop/novalue/P1335> <http://www.w3.org/2002/07/owl#complementOf> _:ffecc0fa21e8c412babe38e9c87a502ceb5 .\n",
      "16054\n",
      "<http://www.wikidata.org/value/0bc04d9c5c97633e25b88d955cae0f09> <http://wikiba.se/ontology#quantityAmount> \"7530103737.0\"^^<http://www.w3.org/2001/XMLSchema#decimal> .\n",
      "<http://www.wikidata.org/value/025a999171be46295d3e3e02eefe636f> <http://wikiba.se/ontology#quantityAmount> \"3692492000.0\"^^<http://www.w3.org/2001/XMLSchema#decimal> .\n",
      "16055\n",
      "<http://www.wikidata.org/value/0d7103b82899510b57134f6c7c313be8> <http://wikiba.se/ontology#quantityAmount> \"78400000000000000000000.0\"^^<http://www.w3.org/2001/XMLSchema#decimal> .\n",
      "<http://www.wikidata.org/value/0417a1b9887d02f022f9b2511c10ecca> <http://wikiba.se/ontology#quantityAmount> \"4068109000.0\"^^<http://www.w3.org/2001/XMLSchema#decimal> .\n",
      "16056\n",
      "<http://www.wikidata.org/value/0f14e79aab467ba6d925c99d29e8da4a> <http://wikiba.se/ontology#quantityAmount> \"510072000000000.0\"^^<http://www.w3.org/2001/XMLSchema#decimal> .\n",
      "<http://www.wikidata.org/value/046b47a0e186b2d1371ce0ebc7e5b901> <http://wikiba.se/ontology#quantityAmount> \"294000000.0\"^^<http://www.w3.org/2001/XMLSchema#decimal> .\n",
      "16057\n",
      "<http://www.wikidata.org/value/105e0172b23c2c1744292d62f068cf18> <http://wikiba.se/ontology#quantityAmount> \"379000000.0\"^^<http://www.w3.org/2001/XMLSchema#decimal> .\n",
      "<http://www.wikidata.org/value/0596bd36a326849ab90a36c83f45a696> <http://wikiba.se/ontology#quantityAmount> \"151930000.0\"^^<http://www.w3.org/2001/XMLSchema#decimal> .\n",
      "16058\n",
      "<http://www.wikidata.org/value/120f5644590b876f229f66ca0a42be6f> <http://wikiba.se/ontology#quantityAmount> \"40075.0\"^^<http://www.w3.org/2001/XMLSchema#decimal> .\n",
      "<http://www.wikidata.org/value/07c8821ca26fa2367b5b42ad0a4c4a53> <http://wikiba.se/ontology#quantityAmount> \"0.0033528\"^^<http://www.w3.org/2001/XMLSchema#decimal> .\n",
      "16059\n",
      "<http://www.wikidata.org/value/12eebed3112e5704b85997866051930f> <http://wikiba.se/ontology#quantityAmount> \"6378.137\"^^<http://www.w3.org/2001/XMLSchema#decimal> .\n",
      "<http://www.wikidata.org/value/080dd1f58c5ee494ef709d533bc6a900> <http://wikiba.se/ontology#quantityAmount> \"1.9933026650579555328527279826011683771272222735835232878552048\"^^<http://www.w3.org/2001/XMLSchema#decimal> .\n",
      "16060\n",
      "<http://www.wikidata.org/value/12f92fe9c19471904d4c854ef559736f> <http://wikiba.se/ontology#quantityAmount> \"-10994.0\"^^<http://www.w3.org/2001/XMLSchema#decimal> .\n",
      "<http://www.wikidata.org/value/086ed2de3cccd4cb60c3e10ecedf7d62> <http://wikiba.se/ontology#quantityAmount> \"56.7\"^^<http://www.w3.org/2001/XMLSchema#decimal> .\n",
      "16061\n",
      "<http://www.wikidata.org/value/15fb326d8b088ac4ff11b50191569e17> <http://wikiba.se/ontology#quantityAmount> \"400000000.0\"^^<http://www.w3.org/2001/XMLSchema#decimal> .\n",
      "<http://www.wikidata.org/value/0ac84fa5571ff353a85ee25f984d6495> <http://wikiba.se/ontology#quantityAmount> \"2518629000.0\"^^<http://www.w3.org/2001/XMLSchema#decimal> .\n",
      "16062\n",
      "<http://www.wikidata.org/value/17facf425e6db9ee49351681b569b9f1> <http://wikiba.se/ontology#quantityAmount> \"114.20783\"^^<http://www.w3.org/2001/XMLSchema#decimal> .\n",
      "<http://www.wikidata.org/value/0bc04d9c5c97633e25b88d955cae0f09> <http://wikiba.se/ontology#quantityAmount> \"7530103737.0\"^^<http://www.w3.org/2001/XMLSchema#decimal> .\n",
      "16063\n",
      "<http://www.wikidata.org/value/189e6c914b915c3e50c77f5bc3ee6d08> <http://wikiba.se/ontology#quantityAmount> \"343000000.0\"^^<http://www.w3.org/2001/XMLSchema#decimal> .\n",
      "<http://www.wikidata.org/value/0d7103b82899510b57134f6c7c313be8> <http://wikiba.se/ontology#quantityAmount> \"78400000000000000000000.0\"^^<http://www.w3.org/2001/XMLSchema#decimal> .\n",
      "16064\n",
      "<http://www.wikidata.org/value/1f87c1fa2deb0caef3df51f9af67253d> <http://wikiba.se/ontology#quantityAmount> \"263000000.0\"^^<http://www.w3.org/2001/XMLSchema#decimal> .\n",
      "<http://www.wikidata.org/value/0f14e79aab467ba6d925c99d29e8da4a> <http://wikiba.se/ontology#quantityAmount> \"510072000000000.0\"^^<http://www.w3.org/2001/XMLSchema#decimal> .\n",
      "16065\n",
      "<http://www.wikidata.org/value/209b8705f568802b4e096ae5f39341da> <http://wikiba.se/ontology#quantityAmount> \"5972.37\"^^<http://www.w3.org/2001/XMLSchema#decimal> .\n",
      "<http://www.wikidata.org/value/105e0172b23c2c1744292d62f068cf18> <http://wikiba.se/ontology#quantityAmount> \"379000000.0\"^^<http://www.w3.org/2001/XMLSchema#decimal> .\n",
      "16066\n",
      "<http://www.wikidata.org/value/20f446072b22027a99d61f0bad452c20> <http://wikiba.se/ontology#quantityAmount> \"264000000.0\"^^<http://www.w3.org/2001/XMLSchema#decimal> .\n",
      "<http://www.wikidata.org/value/120f5644590b876f229f66ca0a42be6f> <http://wikiba.se/ontology#quantityAmount> \"40075.0\"^^<http://www.w3.org/2001/XMLSchema#decimal> .\n",
      "16067\n",
      "<http://www.wikidata.org/value/24d043e7d0857052841e429cec9bfe45> <http://wikiba.se/ontology#quantityAmount> \"12742000.0\"^^<http://www.w3.org/2001/XMLSchema#decimal> .\n",
      "<http://www.wikidata.org/value/12eebed3112e5704b85997866051930f> <http://wikiba.se/ontology#quantityAmount> \"6378.137\"^^<http://www.w3.org/2001/XMLSchema#decimal> .\n",
      "16068\n",
      "<http://www.wikidata.org/value/267b4fbc2a3a4498cab6e2a46642a79c> <http://wikiba.se/ontology#quantityAmount> \"6000000000.0\"^^<http://www.w3.org/2001/XMLSchema#decimal> .\n",
      "<http://www.wikidata.org/value/12f92fe9c19471904d4c854ef559736f> <http://wikiba.se/ontology#quantityAmount> \"-10994.0\"^^<http://www.w3.org/2001/XMLSchema#decimal> .\n",
      "16069\n",
      "<http://www.wikidata.org/value/272f6607b1d42bc567950910792baf20> <http://wikiba.se/ontology#quantityAmount> \"360000000.0\"^^<http://www.w3.org/2001/XMLSchema#decimal> .\n",
      "<http://www.wikidata.org/value/15fb326d8b088ac4ff11b50191569e17> <http://wikiba.se/ontology#quantityAmount> \"400000000.0\"^^<http://www.w3.org/2001/XMLSchema#decimal> .\n",
      "16070\n",
      "<http://www.wikidata.org/value/27b609f55010c2a70fc396c15fa6ea2c> <http://wikiba.se/ontology#quantityAmount> \"266000000.0\"^^<http://www.w3.org/2001/XMLSchema#decimal> .\n",
      "<http://www.wikidata.org/value/17facf425e6db9ee49351681b569b9f1> <http://wikiba.se/ontology#quantityAmount> \"114.20783\"^^<http://www.w3.org/2001/XMLSchema#decimal> .\n",
      "16071\n",
      "<http://www.wikidata.org/value/2815aaae8088d5b30771db46e3698569> <http://wikiba.se/ontology#quantityAmount> \"0.0\"^^<http://www.w3.org/2001/XMLSchema#decimal> .\n",
      "<http://www.wikidata.org/value/189e6c914b915c3e50c77f5bc3ee6d08> <http://wikiba.se/ontology#quantityAmount> \"343000000.0\"^^<http://www.w3.org/2001/XMLSchema#decimal> .\n",
      "16072\n",
      "<http://www.wikidata.org/value/2895cb85bad20bf53ca649ce7b53bd85> <http://wikiba.se/ontology#quantityAmount> \"5674380000.0\"^^<http://www.w3.org/2001/XMLSchema#decimal> .\n",
      "<http://www.wikidata.org/value/1f87c1fa2deb0caef3df51f9af67253d> <http://wikiba.se/ontology#quantityAmount> \"263000000.0\"^^<http://www.w3.org/2001/XMLSchema#decimal> .\n",
      "16073\n",
      "<http://www.wikidata.org/value/30536eb31b841fe9ae0721f7118b4bb1> <http://wikiba.se/ontology#quantityAmount> \"6800000000.0\"^^<http://www.w3.org/2001/XMLSchema#decimal> .\n",
      "<http://www.wikidata.org/value/209b8705f568802b4e096ae5f39341da> <http://wikiba.se/ontology#quantityAmount> \"5972.37\"^^<http://www.w3.org/2001/XMLSchema#decimal> .\n",
      "16074\n",
      "<http://www.wikidata.org/value/3350d500d5d6cc5dfbe9e81fb015db1d> <http://wikiba.se/ontology#quantityAmount> \"7652516839.0\"^^<http://www.w3.org/2001/XMLSchema#decimal> .\n",
      "<http://www.wikidata.org/value/20f446072b22027a99d61f0bad452c20> <http://wikiba.se/ontology#quantityAmount> \"264000000.0\"^^<http://www.w3.org/2001/XMLSchema#decimal> .\n",
      "16075\n",
      "<http://www.wikidata.org/value/390f6d3e68189b0b7912e68f7a46c0b0> <http://wikiba.se/ontology#quantityAmount> \"12742.0\"^^<http://www.w3.org/2001/XMLSchema#decimal> .\n",
      "<http://www.wikidata.org/value/24d043e7d0857052841e429cec9bfe45> <http://wikiba.se/ontology#quantityAmount> \"12742000.0\"^^<http://www.w3.org/2001/XMLSchema#decimal> .\n",
      "16076\n",
      "<http://www.wikidata.org/value/3ab4ab053c61b1302649a62131ee9215> <http://wikiba.se/ontology#quantityAmount> \"4434682000.0\"^^<http://www.w3.org/2001/XMLSchema#decimal> .\n",
      "<http://www.wikidata.org/value/267b4fbc2a3a4498cab6e2a46642a79c> <http://wikiba.se/ontology#quantityAmount> \"6000000000.0\"^^<http://www.w3.org/2001/XMLSchema#decimal> .\n",
      "16077\n",
      "<http://www.wikidata.org/value/3b3e832007907f6c9935726e3bab405c> <http://wikiba.se/ontology#quantityAmount> \"7359044782.0\"^^<http://www.w3.org/2001/XMLSchema#decimal> .\n",
      "<http://www.wikidata.org/value/272f6607b1d42bc567950910792baf20> <http://wikiba.se/ontology#quantityAmount> \"360000000.0\"^^<http://www.w3.org/2001/XMLSchema#decimal> .\n",
      "16078\n",
      "<http://www.wikidata.org/value/3bb1a6db0dab8b9ffe4fcac726d850c8> <http://wikiba.se/ontology#quantityAmount> \"134.06\"^^<http://www.w3.org/2001/XMLSchema#decimal> .\n",
      "<http://www.wikidata.org/value/27b609f55010c2a70fc396c15fa6ea2c> <http://wikiba.se/ontology#quantityAmount> \"266000000.0\"^^<http://www.w3.org/2001/XMLSchema#decimal> .\n",
      "16079\n",
      "<http://www.wikidata.org/value/3d0c1cfad7e75a44afeee685bae1b20d> <http://wikiba.se/ontology#quantityAmount> \"5000000000.0\"^^<http://www.w3.org/2001/XMLSchema#decimal> .\n",
      "<http://www.wikidata.org/value/2815aaae8088d5b30771db46e3698569> <http://wikiba.se/ontology#quantityAmount> \"0.0\"^^<http://www.w3.org/2001/XMLSchema#decimal> .\n",
      "16080\n",
      "<http://www.wikidata.org/value/3f102b45f22ed0fd5ead88e664c45994> <http://wikiba.se/ontology#quantityAmount> \"7.155\"^^<http://www.w3.org/2001/XMLSchema#decimal> .\n",
      "<http://www.wikidata.org/value/2895cb85bad20bf53ca649ce7b53bd85> <http://wikiba.se/ontology#quantityAmount> \"5674380000.0\"^^<http://www.w3.org/2001/XMLSchema#decimal> .\n",
      "16081\n",
      "<http://www.wikidata.org/value/40ddc1df0094681718a786f2aaf55cf7> <http://wikiba.se/ontology#quantityAmount> \"0.01671123\"^^<http://www.w3.org/2001/XMLSchema#decimal> .\n",
      "<http://www.wikidata.org/value/30536eb31b841fe9ae0721f7118b4bb1> <http://wikiba.se/ontology#quantityAmount> \"6800000000.0\"^^<http://www.w3.org/2001/XMLSchema#decimal> .\n",
      "16082\n",
      "<http://www.wikidata.org/value/4350e1fcf53ee52526e22d80049190f1> <http://wikiba.se/ontology#quantityAmount> \"274000000.0\"^^<http://www.w3.org/2001/XMLSchema#decimal> .\n",
      "<http://www.wikidata.org/value/3350d500d5d6cc5dfbe9e81fb015db1d> <http://wikiba.se/ontology#quantityAmount> \"7652516839.0\"^^<http://www.w3.org/2001/XMLSchema#decimal> .\n",
      "16083\n",
      "<http://www.wikidata.org/value/45b1d17411397692dcb313e134bd79ce> <http://wikiba.se/ontology#quantityAmount> \"9.807\"^^<http://www.w3.org/2001/XMLSchema#decimal> .\n",
      "<http://www.wikidata.org/value/390f6d3e68189b0b7912e68f7a46c0b0> <http://wikiba.se/ontology#quantityAmount> \"12742.0\"^^<http://www.w3.org/2001/XMLSchema#decimal> .\n",
      "16084\n",
      "<http://www.wikidata.org/value/48f4b4540764a063a34ced0cab100994> <http://wikiba.se/ontology#quantityAmount> \"365.256363004\"^^<http://www.w3.org/2001/XMLSchema#decimal> .\n",
      "<http://www.wikidata.org/value/3ab4ab053c61b1302649a62131ee9215> <http://wikiba.se/ontology#quantityAmount> \"4434682000.0\"^^<http://www.w3.org/2001/XMLSchema#decimal> .\n",
      "16085\n",
      "<http://www.wikidata.org/value/4a7acd85cd1f5169f5e1ed172099d56e> <http://wikiba.se/ontology#quantityAmount> \"149598261000.0\"^^<http://www.w3.org/2001/XMLSchema#decimal> .\n",
      "<http://www.wikidata.org/value/3b3e832007907f6c9935726e3bab405c> <http://wikiba.se/ontology#quantityAmount> \"7359044782.0\"^^<http://www.w3.org/2001/XMLSchema#decimal> .\n",
      "16086\n",
      "<http://www.wikidata.org/value/4bccd3e2b7b428fb3878f69bd51b6d7d> <http://wikiba.se/ontology#quantityAmount> \"-10540.0\"^^<http://www.w3.org/2001/XMLSchema#decimal> .\n",
      "<http://www.wikidata.org/value/3bb1a6db0dab8b9ffe4fcac726d850c8> <http://wikiba.se/ontology#quantityAmount> \"134.06\"^^<http://www.w3.org/2001/XMLSchema#decimal> .\n",
      "16087\n",
      "<http://www.wikidata.org/value/4e7ee14787f19a7472402b4b4eea9804> <http://wikiba.se/ontology#quantityAmount> \"6070581000.0\"^^<http://www.w3.org/2001/XMLSchema#decimal> .\n",
      "<http://www.wikidata.org/value/3d0c1cfad7e75a44afeee685bae1b20d> <http://wikiba.se/ontology#quantityAmount> \"5000000000.0\"^^<http://www.w3.org/2001/XMLSchema#decimal> .\n",
      "16088\n",
      "<http://www.wikidata.org/value/51a426c94555f6dfaeac6038df23fcbd> <http://wikiba.se/ontology#quantityAmount> \"6339.9\"^^<http://www.w3.org/2001/XMLSchema#decimal> .\n",
      "<http://www.wikidata.org/value/3f102b45f22ed0fd5ead88e664c45994> <http://wikiba.se/ontology#quantityAmount> \"7.155\"^^<http://www.w3.org/2001/XMLSchema#decimal> .\n",
      "16089\n",
      "<http://www.wikidata.org/value/53b0fbd521757ccf1170ae041078a018> <http://wikiba.se/ontology#quantityAmount> \"2000000000.0\"^^<http://www.w3.org/2001/XMLSchema#decimal> .\n",
      "<http://www.wikidata.org/value/40ddc1df0094681718a786f2aaf55cf7> <http://wikiba.se/ontology#quantityAmount> \"0.01671123\"^^<http://www.w3.org/2001/XMLSchema#decimal> .\n",
      "16090\n",
      "<http://www.wikidata.org/value/56b1cc81d446a4b4168fbfc74d0d224e> <http://wikiba.se/ontology#quantityAmount> \"6371000.0\"^^<http://www.w3.org/2001/XMLSchema#decimal> .\n",
      "<http://www.wikidata.org/value/4350e1fcf53ee52526e22d80049190f1> <http://wikiba.se/ontology#quantityAmount> \"274000000.0\"^^<http://www.w3.org/2001/XMLSchema#decimal> .\n",
      "16091\n",
      "<http://www.wikidata.org/value/5780fe8e74f97874ccecb6f941dfbc27> <http://wikiba.se/ontology#quantityAmount> \"510072000.0\"^^<http://www.w3.org/2001/XMLSchema#decimal> .\n",
      "<http://www.wikidata.org/value/45b1d17411397692dcb313e134bd79ce> <http://wikiba.se/ontology#quantityAmount> \"9.807\"^^<http://www.w3.org/2001/XMLSchema#decimal> .\n",
      "16092\n",
      "<http://www.wikidata.org/value/591040d56fd1733870d0b708425f56a1> <http://wikiba.se/ontology#quantityAmount> \"4830979000.0\"^^<http://www.w3.org/2001/XMLSchema#decimal> .\n",
      "<http://www.wikidata.org/value/48f4b4540764a063a34ced0cab100994> <http://wikiba.se/ontology#quantityAmount> \"365.256363004\"^^<http://www.w3.org/2001/XMLSchema#decimal> .\n",
      "16093\n",
      "<http://www.wikidata.org/value/59595255df53be227e36c61b27deef70> <http://wikiba.se/ontology#quantityAmount> \"-10950.0\"^^<http://www.w3.org/2001/XMLSchema#decimal> .\n",
      "<http://www.wikidata.org/value/4a7acd85cd1f5169f5e1ed172099d56e> <http://wikiba.se/ontology#quantityAmount> \"149598261000.0\"^^<http://www.w3.org/2001/XMLSchema#decimal> .\n",
      "16094\n",
      "<http://www.wikidata.org/value/5a6c5ea6d6a97578b7425b05ea9d8b98> <http://wikiba.se/ontology#quantityAmount> \"1500000000.0\"^^<http://www.w3.org/2001/XMLSchema#decimal> .\n",
      "<http://www.wikidata.org/value/4bccd3e2b7b428fb3878f69bd51b6d7d> <http://wikiba.se/ontology#quantityAmount> \"-10540.0\"^^<http://www.w3.org/2001/XMLSchema#decimal> .\n",
      "16095\n",
      "<http://www.wikidata.org/value/5e4812bd107909072beb66fbf24089d0> <http://wikiba.se/ontology#quantityAmount> \"791000000.0\"^^<http://www.w3.org/2001/XMLSchema#decimal> .\n",
      "<http://www.wikidata.org/value/4e7ee14787f19a7472402b4b4eea9804> <http://wikiba.se/ontology#quantityAmount> \"6070581000.0\"^^<http://www.w3.org/2001/XMLSchema#decimal> .\n",
      "16096\n",
      "<http://www.wikidata.org/value/5fc0769d284fa8ff362a03c6bf427dc9> <http://wikiba.se/ontology#quantityAmount> \"285000000.0\"^^<http://www.w3.org/2001/XMLSchema#decimal> .\n",
      "<http://www.wikidata.org/value/51a426c94555f6dfaeac6038df23fcbd> <http://wikiba.se/ontology#quantityAmount> \"6339.9\"^^<http://www.w3.org/2001/XMLSchema#decimal> .\n",
      "16097\n",
      "<http://www.wikidata.org/value/60201ffcc2571bb072402dc4275b7114> <http://wikiba.se/ontology#quantityAmount> \"7000000000.0\"^^<http://www.w3.org/2001/XMLSchema#decimal> .\n",
      "<http://www.wikidata.org/value/53b0fbd521757ccf1170ae041078a018> <http://wikiba.se/ontology#quantityAmount> \"2000000000.0\"^^<http://www.w3.org/2001/XMLSchema#decimal> .\n",
      "16098\n",
      "<http://www.wikidata.org/value/62a1cf9a319e8e0390b5a7ad84de19b2> <http://wikiba.se/ontology#quantityAmount> \"1650000000.0\"^^<http://www.w3.org/2001/XMLSchema#decimal> .\n",
      "<http://www.wikidata.org/value/56b1cc81d446a4b4168fbfc74d0d224e> <http://wikiba.se/ontology#quantityAmount> \"6371000.0\"^^<http://www.w3.org/2001/XMLSchema#decimal> .\n",
      "16099\n",
      "<http://www.wikidata.org/value/67ae98b18b68fc8eaf62ea462a983e5d> <http://wikiba.se/ontology#quantityAmount> \"147095000.0\"^^<http://www.w3.org/2001/XMLSchema#decimal> .\n",
      "<http://www.wikidata.org/value/5780fe8e74f97874ccecb6f941dfbc27> <http://wikiba.se/ontology#quantityAmount> \"510072000.0\"^^<http://www.w3.org/2001/XMLSchema#decimal> .\n",
      "16100\n",
      "<http://www.wikidata.org/value/6fc5033a6e6b1bfba48a1b9700164edf> <http://wikiba.se/ontology#quantityAmount> \"324000000.0\"^^<http://www.w3.org/2001/XMLSchema#decimal> .\n",
      "<http://www.wikidata.org/value/591040d56fd1733870d0b708425f56a1> <http://wikiba.se/ontology#quantityAmount> \"4830979000.0\"^^<http://www.w3.org/2001/XMLSchema#decimal> .\n",
      "16101\n",
      "<http://www.wikidata.org/value/6feb42fc00da984e6dd68cd356ad6866> <http://wikiba.se/ontology#quantityAmount> \"6384415.98\"^^<http://www.w3.org/2001/XMLSchema#decimal> .\n",
      "<http://www.wikidata.org/value/59595255df53be227e36c61b27deef70> <http://wikiba.se/ontology#quantityAmount> \"-10950.0\"^^<http://www.w3.org/2001/XMLSchema#decimal> .\n",
      "16102\n",
      "<http://www.wikidata.org/value/712bd996a82256df77efd11b39fc006a> <http://wikiba.se/ontology#quantityAmount> \"7475406776.0\"^^<http://www.w3.org/2001/XMLSchema#decimal> .\n",
      "<http://www.wikidata.org/value/5a6c5ea6d6a97578b7425b05ea9d8b98> <http://wikiba.se/ontology#quantityAmount> \"1500000000.0\"^^<http://www.w3.org/2001/XMLSchema#decimal> .\n",
      "16103\n",
      "<http://www.wikidata.org/value/7c20777731a3ecc4c09667e1a3ab772a> <http://wikiba.se/ontology#quantityAmount> \"358.617\"^^<http://www.w3.org/2001/XMLSchema#decimal> .\n",
      "<http://www.wikidata.org/value/5e4812bd107909072beb66fbf24089d0> <http://wikiba.se/ontology#quantityAmount> \"791000000.0\"^^<http://www.w3.org/2001/XMLSchema#decimal> .\n",
      "16104\n",
      "<http://www.wikidata.org/value/7cbf07e313274ea6e0722d4cc28d7bf4> <http://wikiba.se/ontology#quantityAmount> \"6.0866500632978122028543868744062696497393053897203266882114816\"^^<http://www.w3.org/2001/XMLSchema#decimal> .\n",
      "<http://www.wikidata.org/value/5fc0769d284fa8ff362a03c6bf427dc9> <http://wikiba.se/ontology#quantityAmount> \"285000000.0\"^^<http://www.w3.org/2001/XMLSchema#decimal> .\n",
      "16105\n",
      "<http://www.wikidata.org/value/7f3f416d606c22f503352efa83d6fcda> <http://wikiba.se/ontology#quantityAmount> \"371000000.0\"^^<http://www.w3.org/2001/XMLSchema#decimal> .\n",
      "<http://www.wikidata.org/value/60201ffcc2571bb072402dc4275b7114> <http://wikiba.se/ontology#quantityAmount> \"7000000000.0\"^^<http://www.w3.org/2001/XMLSchema#decimal> .\n",
      "16106\n",
      "<http://www.wikidata.org/value/8126a9a4db19219f75ad6fd12a2041db> <http://wikiba.se/ontology#quantityAmount> \"147095000000.0\"^^<http://www.w3.org/2001/XMLSchema#decimal> .\n",
      "<http://www.wikidata.org/value/62a1cf9a319e8e0390b5a7ad84de19b2> <http://wikiba.se/ontology#quantityAmount> \"1650000000.0\"^^<http://www.w3.org/2001/XMLSchema#decimal> .\n",
      "16107\n",
      "<http://www.wikidata.org/value/819ed0ec36b809d28397c8e0810c5b0c> <http://wikiba.se/ontology#quantityAmount> \"6339900.0\"^^<http://www.w3.org/2001/XMLSchema#decimal> .\n",
      "<http://www.wikidata.org/value/67ae98b18b68fc8eaf62ea462a983e5d> <http://wikiba.se/ontology#quantityAmount> \"147095000.0\"^^<http://www.w3.org/2001/XMLSchema#decimal> .\n",
      "16108\n",
      "<http://www.wikidata.org/value/882d795f5aa34833fdef13a723ce1247> <http://wikiba.se/ontology#quantityAmount> \"348.73936\"^^<http://www.w3.org/2001/XMLSchema#decimal> .\n",
      "<http://www.wikidata.org/value/6fc5033a6e6b1bfba48a1b9700164edf> <http://wikiba.se/ontology#quantityAmount> \"324000000.0\"^^<http://www.w3.org/2001/XMLSchema#decimal> .\n",
      "16109\n",
      "<http://www.wikidata.org/value/8d838391edc9ebbfea8f85778665dde7> <http://wikiba.se/ontology#quantityAmount> \"6378137.0\"^^<http://www.w3.org/2001/XMLSchema#decimal> .\n",
      "<http://www.wikidata.org/value/6feb42fc00da984e6dd68cd356ad6866> <http://wikiba.se/ontology#quantityAmount> \"6384415.98\"^^<http://www.w3.org/2001/XMLSchema#decimal> .\n",
      "16110\n",
      "<http://www.wikidata.org/value/8f25ad6a39fcda321782ff836a6daea1> <http://wikiba.se/ontology#quantityAmount> \"7655957369.0\"^^<http://www.w3.org/2001/XMLSchema#decimal> .\n",
      "<http://www.wikidata.org/value/712bd996a82256df77efd11b39fc006a> <http://wikiba.se/ontology#quantityAmount> \"7475406776.0\"^^<http://www.w3.org/2001/XMLSchema#decimal> .\n",
      "16111\n",
      "<http://www.wikidata.org/value/8f2b1d815b2050b651e1ed1373ca6911> <http://wikiba.se/ontology#quantityAmount> \"0.016710219\"^^<http://www.w3.org/2001/XMLSchema#decimal> .\n",
      "<http://www.wikidata.org/value/7c20777731a3ecc4c09667e1a3ab772a> <http://wikiba.se/ontology#quantityAmount> \"358.617\"^^<http://www.w3.org/2001/XMLSchema#decimal> .\n",
      "16112\n",
      "<http://www.wikidata.org/value/90b03eb7afa3e1f58c124086daf99cb5> <http://wikiba.se/ontology#quantityAmount> \"7000000000.0\"^^<http://www.w3.org/2001/XMLSchema#decimal> .\n",
      "<http://www.wikidata.org/value/7cbf07e313274ea6e0722d4cc28d7bf4> <http://wikiba.se/ontology#quantityAmount> \"6.0866500632978122028543868744062696497393053897203266882114816\"^^<http://www.w3.org/2001/XMLSchema#decimal> .\n",
      "16113\n",
      "<http://www.wikidata.org/value/955070cc2dfb9aaebb393958dec56c6d> <http://wikiba.se/ontology#quantityAmount> \"265000000.0\"^^<http://www.w3.org/2001/XMLSchema#decimal> .\n",
      "<http://www.wikidata.org/value/7f3f416d606c22f503352efa83d6fcda> <http://wikiba.se/ontology#quantityAmount> \"371000000.0\"^^<http://www.w3.org/2001/XMLSchema#decimal> .\n",
      "16114\n",
      "<http://www.wikidata.org/value/95c1112260ba4d21933a981ab1e9592c> <http://wikiba.se/ontology#quantityAmount> \"6384.41598\"^^<http://www.w3.org/2001/XMLSchema#decimal> .\n",
      "<http://www.wikidata.org/value/8126a9a4db19219f75ad6fd12a2041db> <http://wikiba.se/ontology#quantityAmount> \"147095000000.0\"^^<http://www.w3.org/2001/XMLSchema#decimal> .\n",
      "16115\n",
      "<http://www.wikidata.org/value/95f6c59c32de8a53e05e29ddb4c99b20> <http://wikiba.se/ontology#quantityAmount> \"7202951000.0\"^^<http://www.w3.org/2001/XMLSchema#decimal> .\n",
      "<http://www.wikidata.org/value/819ed0ec36b809d28397c8e0810c5b0c> <http://wikiba.se/ontology#quantityAmount> \"6339900.0\"^^<http://www.w3.org/2001/XMLSchema#decimal> .\n",
      "16116\n",
      "<http://www.wikidata.org/value/989314e7e41b971660c2db3123cf567b> <http://wikiba.se/ontology#quantityAmount> \"0.0\"^^<http://www.w3.org/2001/XMLSchema#decimal> .\n",
      "<http://www.wikidata.org/value/882d795f5aa34833fdef13a723ce1247> <http://wikiba.se/ontology#quantityAmount> \"348.73936\"^^<http://www.w3.org/2001/XMLSchema#decimal> .\n",
      "16117\n",
      "<http://www.wikidata.org/value/9a789cbfb6e82240986c16fe30f513ee> <http://wikiba.se/ontology#quantityAmount> \"7392793000.0\"^^<http://www.w3.org/2001/XMLSchema#decimal> .\n",
      "<http://www.wikidata.org/value/8d838391edc9ebbfea8f85778665dde7> <http://wikiba.se/ontology#quantityAmount> \"6378137.0\"^^<http://www.w3.org/2001/XMLSchema#decimal> .\n",
      "16118\n",
      "<http://www.wikidata.org/value/a0b067101ec652c16bf21e27cbc31942> <http://wikiba.se/ontology#quantityAmount> \"40074274.944\"^^<http://www.w3.org/2001/XMLSchema#decimal> .\n",
      "<http://www.wikidata.org/value/8f25ad6a39fcda321782ff836a6daea1> <http://wikiba.se/ontology#quantityAmount> \"7655957369.0\"^^<http://www.w3.org/2001/XMLSchema#decimal> .\n",
      "16119\n",
      "<http://www.wikidata.org/value/a27d8809aff8b9d1b58924b5bdcc7e58> <http://wikiba.se/ontology#quantityAmount> \"7000000.0\"^^<http://www.w3.org/2001/XMLSchema#decimal> .\n",
      "<http://www.wikidata.org/value/8f2b1d815b2050b651e1ed1373ca6911> <http://wikiba.se/ontology#quantityAmount> \"0.016710219\"^^<http://www.w3.org/2001/XMLSchema#decimal> .\n",
      "16120\n",
      "<http://www.wikidata.org/value/a3d91bed8dd21a9974006f00ff6a79c6> <http://wikiba.se/ontology#quantityAmount> \"0.1248783079801942812288900744853602396468374836251604563768\"^^<http://www.w3.org/2001/XMLSchema#decimal> .\n",
      "<http://www.wikidata.org/value/90b03eb7afa3e1f58c124086daf99cb5> <http://wikiba.se/ontology#quantityAmount> \"7000000000.0\"^^<http://www.w3.org/2001/XMLSchema#decimal> .\n",
      "16121\n",
      "<http://www.wikidata.org/value/a69da4fc9a8ce37a07f8112c7820f0f6> <http://wikiba.se/ontology#quantityAmount> \"151930000000.0\"^^<http://www.w3.org/2001/XMLSchema#decimal> .\n",
      "<http://www.wikidata.org/value/955070cc2dfb9aaebb393958dec56c6d> <http://wikiba.se/ontology#quantityAmount> \"265000000.0\"^^<http://www.w3.org/2001/XMLSchema#decimal> .\n",
      "16122\n",
      "<http://www.wikidata.org/value/acddc867ab14f07f8380db67e2ffdfdc> <http://wikiba.se/ontology#quantityAmount> \"3021475000.0\"^^<http://www.w3.org/2001/XMLSchema#decimal> .\n",
      "<http://www.wikidata.org/value/95c1112260ba4d21933a981ab1e9592c> <http://wikiba.se/ontology#quantityAmount> \"6384.41598\"^^<http://www.w3.org/2001/XMLSchema#decimal> .\n",
      "16123\n",
      "<http://www.wikidata.org/value/b0dc39e9c081dd398ab0ff77a78fd79a> <http://wikiba.se/ontology#quantityAmount> \"149597870691.0\"^^<http://www.w3.org/2001/XMLSchema#decimal> .\n",
      "<http://www.wikidata.org/value/95f6c59c32de8a53e05e29ddb4c99b20> <http://wikiba.se/ontology#quantityAmount> \"7202951000.0\"^^<http://www.w3.org/2001/XMLSchema#decimal> .\n",
      "16124\n",
      "<http://www.wikidata.org/value/b4fa676fd9c82bad707600a47f4b3d2c> <http://wikiba.se/ontology#quantityAmount> \"5263593000.0\"^^<http://www.w3.org/2001/XMLSchema#decimal> .\n",
      "<http://www.wikidata.org/value/989314e7e41b971660c2db3123cf567b> <http://wikiba.se/ontology#quantityAmount> \"0.0\"^^<http://www.w3.org/2001/XMLSchema#decimal> .\n",
      "16125\n",
      "<http://www.wikidata.org/value/b6cb7cf5bfc4b4aab5b107da559ab1e5> <http://wikiba.se/ontology#quantityAmount> \"40075000.0\"^^<http://www.w3.org/2001/XMLSchema#decimal> .\n",
      "<http://www.wikidata.org/value/9a789cbfb6e82240986c16fe30f513ee> <http://wikiba.se/ontology#quantityAmount> \"7392793000.0\"^^<http://www.w3.org/2001/XMLSchema#decimal> .\n",
      "16126\n",
      "<http://www.wikidata.org/value/bac5f6118f8f1deb542963ef010d70a5> <http://wikiba.se/ontology#quantityAmount> \"1000000000.0\"^^<http://www.w3.org/2001/XMLSchema#decimal> .\n",
      "<http://www.wikidata.org/value/a0b067101ec652c16bf21e27cbc31942> <http://wikiba.se/ontology#quantityAmount> \"40074274.944\"^^<http://www.w3.org/2001/XMLSchema#decimal> .\n",
      "16127\n",
      "<http://www.wikidata.org/value/bd68c3be29f18577f88f49556bd65bb4> <http://wikiba.se/ontology#quantityAmount> \"149598023.0\"^^<http://www.w3.org/2001/XMLSchema#decimal> .\n",
      "<http://www.wikidata.org/value/a27d8809aff8b9d1b58924b5bdcc7e58> <http://wikiba.se/ontology#quantityAmount> \"7000000.0\"^^<http://www.w3.org/2001/XMLSchema#decimal> .\n",
      "16128\n",
      "<http://www.wikidata.org/value/c540cb15ce2ed2cd33875af0adc484ee> <http://wikiba.se/ontology#quantityAmount> \"6371.0\"^^<http://www.w3.org/2001/XMLSchema#decimal> .\n",
      "<http://www.wikidata.org/value/a3d91bed8dd21a9974006f00ff6a79c6> <http://wikiba.se/ontology#quantityAmount> \"0.1248783079801942812288900744853602396468374836251604563768\"^^<http://www.w3.org/2001/XMLSchema#decimal> .\n",
      "16129\n",
      "<http://www.wikidata.org/value/c67d9264188bedacc3a5bfb47a9e35b5> <http://wikiba.se/ontology#quantityAmount> \"-89.2\"^^<http://www.w3.org/2001/XMLSchema#decimal> .\n",
      "<http://www.wikidata.org/value/a69da4fc9a8ce37a07f8112c7820f0f6> <http://wikiba.se/ontology#quantityAmount> \"151930000000.0\"^^<http://www.w3.org/2001/XMLSchema#decimal> .\n",
      "16130\n",
      "<http://www.wikidata.org/value/c9eb7475358165eef276db206ca080ef> <http://wikiba.se/ontology#quantityAmount> \"24901.0\"^^<http://www.w3.org/2001/XMLSchema#decimal> .\n",
      "<http://www.wikidata.org/value/acddc867ab14f07f8380db67e2ffdfdc> <http://wikiba.se/ontology#quantityAmount> \"3021475000.0\"^^<http://www.w3.org/2001/XMLSchema#decimal> .\n",
      "16131\n",
      "<http://www.wikidata.org/value/ca89e34d4fd4a8b2142297cda254fc69> <http://wikiba.se/ontology#quantityAmount> \"2755823000.0\"^^<http://www.w3.org/2001/XMLSchema#decimal> .\n",
      "<http://www.wikidata.org/value/b0dc39e9c081dd398ab0ff77a78fd79a> <http://wikiba.se/ontology#quantityAmount> \"149597870691.0\"^^<http://www.w3.org/2001/XMLSchema#decimal> .\n",
      "16132\n",
      "<http://www.wikidata.org/value/cbc4b26422274f9cb7683d8ea2995481> <http://wikiba.se/ontology#quantityAmount> \"333000000.0\"^^<http://www.w3.org/2001/XMLSchema#decimal> .\n",
      "<http://www.wikidata.org/value/b4fa676fd9c82bad707600a47f4b3d2c> <http://wikiba.se/ontology#quantityAmount> \"5263593000.0\"^^<http://www.w3.org/2001/XMLSchema#decimal> .\n",
      "16133\n",
      "<http://www.wikidata.org/value/d0766181abe69b89c587c1c13588f99c> <http://wikiba.se/ontology#quantityAmount> \"4000000000.0\"^^<http://www.w3.org/2001/XMLSchema#decimal> .\n",
      "<http://www.wikidata.org/value/b6cb7cf5bfc4b4aab5b107da559ab1e5> <http://wikiba.se/ontology#quantityAmount> \"40075000.0\"^^<http://www.w3.org/2001/XMLSchema#decimal> .\n",
      "16134\n",
      "<http://www.wikidata.org/value/d3953c93bc7d504a5a7ae5ed8103a2d9> <http://wikiba.se/ontology#quantityAmount> \"291000000.0\"^^<http://www.w3.org/2001/XMLSchema#decimal> .\n",
      "<http://www.wikidata.org/value/bac5f6118f8f1deb542963ef010d70a5> <http://wikiba.se/ontology#quantityAmount> \"1000000000.0\"^^<http://www.w3.org/2001/XMLSchema#decimal> .\n",
      "16135\n",
      "<http://www.wikidata.org/value/db057e757cc2bf0aedbe726a339af315> <http://wikiba.se/ontology#quantityAmount> \"1.00000261\"^^<http://www.w3.org/2001/XMLSchema#decimal> .\n",
      "<http://www.wikidata.org/value/bd68c3be29f18577f88f49556bd65bb4> <http://wikiba.se/ontology#quantityAmount> \"149598023.0\"^^<http://www.w3.org/2001/XMLSchema#decimal> .\n",
      "16136\n",
      "<http://www.wikidata.org/value/dbae63464cd461c984b3495b5060e186> <http://wikiba.se/ontology#quantityAmount> \"374000000.0\"^^<http://www.w3.org/2001/XMLSchema#decimal> .\n",
      "<http://www.wikidata.org/value/c540cb15ce2ed2cd33875af0adc484ee> <http://wikiba.se/ontology#quantityAmount> \"6371.0\"^^<http://www.w3.org/2001/XMLSchema#decimal> .\n",
      "16137\n",
      "<http://www.wikidata.org/value/ddd784cdc2c1526d4233d9636c803607> <http://wikiba.se/ontology#quantityAmount> \"6343628000.0\"^^<http://www.w3.org/2001/XMLSchema#decimal> .\n",
      "<http://www.wikidata.org/value/c67d9264188bedacc3a5bfb47a9e35b5> <http://wikiba.se/ontology#quantityAmount> \"-89.2\"^^<http://www.w3.org/2001/XMLSchema#decimal> .\n",
      "16138\n",
      "<http://www.wikidata.org/value/dea1ff62b9482ed25527d56a5705890a> <http://wikiba.se/ontology#quantityAmount> \"1262000000.0\"^^<http://www.w3.org/2001/XMLSchema#decimal> .\n",
      "<http://www.wikidata.org/value/c9eb7475358165eef276db206ca080ef> <http://wikiba.se/ontology#quantityAmount> \"24901.0\"^^<http://www.w3.org/2001/XMLSchema#decimal> .\n",
      "16139\n",
      "<http://www.wikidata.org/value/e057aff7a5d3ca01bef029a409c9dcc4> <http://wikiba.se/ontology#quantityAmount> \"5972370000000000000000000.0\"^^<http://www.w3.org/2001/XMLSchema#decimal> .\n",
      "<http://www.wikidata.org/value/ca89e34d4fd4a8b2142297cda254fc69> <http://wikiba.se/ontology#quantityAmount> \"2755823000.0\"^^<http://www.w3.org/2001/XMLSchema#decimal> .\n",
      "16140\n",
      "<http://www.wikidata.org/value/e3833617375d20d5f3e6fcb01c16ae4c> <http://wikiba.se/ontology#quantityAmount> \"149598023000.0\"^^<http://www.w3.org/2001/XMLSchema#decimal> .\n",
      "<http://www.wikidata.org/value/cbc4b26422274f9cb7683d8ea2995481> <http://wikiba.se/ontology#quantityAmount> \"333000000.0\"^^<http://www.w3.org/2001/XMLSchema#decimal> .\n"
     ]
    },
    {
     "name": "stdout",
     "output_type": "stream",
     "text": [
      "16141\n",
      "<http://www.wikidata.org/value/e5da3c8368f4e2201d5c84bf1fea18b1> <http://wikiba.se/ontology#quantityAmount> \"281000000.0\"^^<http://www.w3.org/2001/XMLSchema#decimal> .\n",
      "<http://www.wikidata.org/value/d0766181abe69b89c587c1c13588f99c> <http://wikiba.se/ontology#quantityAmount> \"4000000000.0\"^^<http://www.w3.org/2001/XMLSchema#decimal> .\n",
      "16142\n",
      "<http://www.wikidata.org/value/e7f73abba19ce89da4889e4fdcbb6035> <http://wikiba.se/ontology#quantityAmount> \"50000000.0\"^^<http://www.w3.org/2001/XMLSchema#decimal> .\n",
      "<http://www.wikidata.org/value/d3953c93bc7d504a5a7ae5ed8103a2d9> <http://wikiba.se/ontology#quantityAmount> \"291000000.0\"^^<http://www.w3.org/2001/XMLSchema#decimal> .\n",
      "16143\n",
      "<http://www.wikidata.org/value/ee2ed2546412fab940f2aa5df079d544> <http://wikiba.se/ontology#quantityAmount> \"336000000.0\"^^<http://www.w3.org/2001/XMLSchema#decimal> .\n",
      "<http://www.wikidata.org/value/db057e757cc2bf0aedbe726a339af315> <http://wikiba.se/ontology#quantityAmount> \"1.00000261\"^^<http://www.w3.org/2001/XMLSchema#decimal> .\n",
      "16144\n",
      "<http://www.wikidata.org/value/ee2ff68c3911e00e9b0f77da971e1b04> <http://wikiba.se/ontology#quantityAmount> \"7463786469.0\"^^<http://www.w3.org/2001/XMLSchema#decimal> .\n",
      "<http://www.wikidata.org/value/dbae63464cd461c984b3495b5060e186> <http://wikiba.se/ontology#quantityAmount> \"374000000.0\"^^<http://www.w3.org/2001/XMLSchema#decimal> .\n",
      "16145\n",
      "<http://www.wikidata.org/value/ef26accab698aaecfee820ea95389a47> <http://wikiba.se/ontology#quantityAmount> \"31558149.7635456\"^^<http://www.w3.org/2001/XMLSchema#decimal> .\n",
      "<http://www.wikidata.org/value/ddd784cdc2c1526d4233d9636c803607> <http://wikiba.se/ontology#quantityAmount> \"6343628000.0\"^^<http://www.w3.org/2001/XMLSchema#decimal> .\n",
      "16146\n",
      "<http://www.wikidata.org/value/f16907dcd8c2e3f96818c4d4eb408ae5> <http://wikiba.se/ontology#quantityAmount> \"305000000.0\"^^<http://www.w3.org/2001/XMLSchema#decimal> .\n",
      "<http://www.wikidata.org/value/dea1ff62b9482ed25527d56a5705890a> <http://wikiba.se/ontology#quantityAmount> \"1262000000.0\"^^<http://www.w3.org/2001/XMLSchema#decimal> .\n",
      "16147\n",
      "<http://www.wikidata.org/value/f1eedf7c8bcf8f1c4c577bd5efe8b0ef> <http://wikiba.se/ontology#quantityAmount> \"7510021269.0\"^^<http://www.w3.org/2001/XMLSchema#decimal> .\n",
      "<http://www.wikidata.org/value/e057aff7a5d3ca01bef029a409c9dcc4> <http://wikiba.se/ontology#quantityAmount> \"5972370000000000000000000.0\"^^<http://www.w3.org/2001/XMLSchema#decimal> .\n",
      "16148\n",
      "<http://www.wikidata.org/value/f23de9b3468d7e05bee9054c32b70eac> <http://wikiba.se/ontology#quantityAmount> \"1083210000000.0\"^^<http://www.w3.org/2001/XMLSchema#decimal> .\n",
      "<http://www.wikidata.org/value/e3833617375d20d5f3e6fcb01c16ae4c> <http://wikiba.se/ontology#quantityAmount> \"149598023000.0\"^^<http://www.w3.org/2001/XMLSchema#decimal> .\n",
      "16149\n",
      "<http://www.wikidata.org/value/f366da1081ad5780b759316e36e8c558> <http://wikiba.se/ontology#quantityAmount> \"100000000.0\"^^<http://www.w3.org/2001/XMLSchema#decimal> .\n",
      "<http://www.wikidata.org/value/e5da3c8368f4e2201d5c84bf1fea18b1> <http://wikiba.se/ontology#quantityAmount> \"281000000.0\"^^<http://www.w3.org/2001/XMLSchema#decimal> .\n",
      "16150\n",
      "<http://www.wikidata.org/value/fa5c7347f87ecfd017c2f7e4d286c332> <http://wikiba.se/ontology#quantityAmount> \"1083210000000000000000.0\"^^<http://www.w3.org/2001/XMLSchema#decimal> .\n",
      "<http://www.wikidata.org/value/e7f73abba19ce89da4889e4fdcbb6035> <http://wikiba.se/ontology#quantityAmount> \"50000000.0\"^^<http://www.w3.org/2001/XMLSchema#decimal> .\n",
      "16151\n",
      "<http://www.wikidata.org/value/facc3c2da17f20e1a1f10b3246b429b7> <http://wikiba.se/ontology#quantityAmount> \"8848.0\"^^<http://www.w3.org/2001/XMLSchema#decimal> .\n",
      "<http://www.wikidata.org/value/ee2ed2546412fab940f2aa5df079d544> <http://wikiba.se/ontology#quantityAmount> \"336000000.0\"^^<http://www.w3.org/2001/XMLSchema#decimal> .\n",
      "16152\n",
      "<http://www.wikidata.org/value/faf64a41522edbd44b049b027789fec0> <http://wikiba.se/ontology#quantityAmount> \"6.25904740362450489887643212323080825456742388053167957854352\"^^<http://www.w3.org/2001/XMLSchema#decimal> .\n",
      "<http://www.wikidata.org/value/ee2ff68c3911e00e9b0f77da971e1b04> <http://wikiba.se/ontology#quantityAmount> \"7463786469.0\"^^<http://www.w3.org/2001/XMLSchema#decimal> .\n",
      "16153\n",
      "<http://www.wikidata.org/value/fc4746b58bf912e0a834c8579b0b4938> <http://wikiba.se/ontology#quantityAmount> \"3334874000.0\"^^<http://www.w3.org/2001/XMLSchema#decimal> .\n",
      "<http://www.wikidata.org/value/ef26accab698aaecfee820ea95389a47> <http://wikiba.se/ontology#quantityAmount> \"31558149.7635456\"^^<http://www.w3.org/2001/XMLSchema#decimal> .\n",
      "16154\n",
      "<http://www.wikidata.org/value/ff296d21c7bb89b1d5ff8cf62e43e951> <http://wikiba.se/ontology#quantityAmount> \"1.0\"^^<http://www.w3.org/2001/XMLSchema#decimal> .\n",
      "<http://www.wikidata.org/value/f16907dcd8c2e3f96818c4d4eb408ae5> <http://wikiba.se/ontology#quantityAmount> \"305000000.0\"^^<http://www.w3.org/2001/XMLSchema#decimal> .\n"
     ]
    },
    {
     "ename": "IndexError",
     "evalue": "list index out of range",
     "output_type": "error",
     "traceback": [
      "\u001b[0;31m---------------------------------------------------------------------------\u001b[0m",
      "\u001b[0;31mIndexError\u001b[0m                                Traceback (most recent call last)",
      "\u001b[0;32m<ipython-input-322-3b28a4318b75>\u001b[0m in \u001b[0;36m<module>\u001b[0;34m\u001b[0m\n\u001b[1;32m      1\u001b[0m \u001b[0;32mfor\u001b[0m \u001b[0mi\u001b[0m \u001b[0;32min\u001b[0m \u001b[0mrange\u001b[0m\u001b[0;34m(\u001b[0m\u001b[0mlen\u001b[0m\u001b[0;34m(\u001b[0m\u001b[0msgs\u001b[0m\u001b[0;34m)\u001b[0m\u001b[0;34m)\u001b[0m\u001b[0;34m:\u001b[0m\u001b[0;34m\u001b[0m\u001b[0;34m\u001b[0m\u001b[0m\n\u001b[0;32m----> 2\u001b[0;31m     \u001b[0;32mif\u001b[0m \u001b[0msg\u001b[0m\u001b[0;34m[\u001b[0m\u001b[0mi\u001b[0m\u001b[0;34m]\u001b[0m \u001b[0;34m!=\u001b[0m \u001b[0msgs\u001b[0m\u001b[0;34m[\u001b[0m\u001b[0mi\u001b[0m\u001b[0;34m]\u001b[0m\u001b[0;34m:\u001b[0m\u001b[0;34m\u001b[0m\u001b[0;34m\u001b[0m\u001b[0m\n\u001b[0m\u001b[1;32m      3\u001b[0m         \u001b[0mprint\u001b[0m\u001b[0;34m(\u001b[0m\u001b[0mi\u001b[0m\u001b[0;34m)\u001b[0m\u001b[0;34m\u001b[0m\u001b[0;34m\u001b[0m\u001b[0m\n\u001b[1;32m      4\u001b[0m         \u001b[0mprint\u001b[0m\u001b[0;34m(\u001b[0m\u001b[0msg\u001b[0m\u001b[0;34m[\u001b[0m\u001b[0mi\u001b[0m\u001b[0;34m]\u001b[0m\u001b[0;34m)\u001b[0m\u001b[0;34m\u001b[0m\u001b[0;34m\u001b[0m\u001b[0m\n\u001b[1;32m      5\u001b[0m         \u001b[0mprint\u001b[0m\u001b[0;34m(\u001b[0m\u001b[0msgs\u001b[0m\u001b[0;34m[\u001b[0m\u001b[0mi\u001b[0m\u001b[0;34m]\u001b[0m\u001b[0;34m)\u001b[0m\u001b[0;34m\u001b[0m\u001b[0;34m\u001b[0m\u001b[0m\n",
      "\u001b[0;31mIndexError\u001b[0m: list index out of range"
     ]
    }
   ],
   "source": [
    "for i in range(len(sgs)):\n",
    "    if sg[i] != sgs[i]:\n",
    "        print(i)\n",
    "        print(sg[i])\n",
    "        print(sgs[i])"
   ]
  },
  {
   "cell_type": "code",
   "execution_count": 326,
   "metadata": {
    "ExecuteTime": {
     "end_time": "2020-03-06T12:40:04.894131Z",
     "start_time": "2020-03-06T12:40:04.816036Z"
    }
   },
   "outputs": [
    {
     "name": "stdout",
     "output_type": "stream",
     "text": [
      "(None, rdflib.term.Literal('額菲爾士峰', lang='zh'))\n",
      "(None, rdflib.term.Literal('चोमोलोङ्मा', lang='sa'))\n",
      "(None, rdflib.term.Literal('Gunung Everest', lang='id'))\n",
      "(None, rdflib.term.Literal('Τσομολάνγκμα (Φενγκ)', lang='el'))\n",
      "(None, rdflib.term.Literal('Chomolungma', lang='fr'))\n",
      "(None, rdflib.term.Literal('إفرست', lang='ar'))\n",
      "(None, rdflib.term.Literal('사가르마타', lang='ko'))\n",
      "(None, rdflib.term.Literal('额菲尔士峰', lang='zh-hans'))\n",
      "(None, rdflib.term.Literal('聖母峰', lang='zh'))\n",
      "(None, rdflib.term.Literal('Sagarmatha', lang='de'))\n",
      "(None, rdflib.term.Literal('Սագարմաթա', lang='hy'))\n",
      "(None, rdflib.term.Literal('ఎవరెస్టు', lang='te'))\n",
      "(None, rdflib.term.Literal('Monte Everest', lang='it'))\n",
      "(None, rdflib.term.Literal('Сагарматха', lang='uk'))\n",
      "(None, rdflib.term.Literal('Sagarmatha', lang='id'))\n",
      "(None, rdflib.term.Literal('Mt. Everest', lang='de'))\n",
      "(None, rdflib.term.Literal('देवगिरि शिखरम', lang='sa'))\n",
      "(None, rdflib.term.Literal('monte Everest', lang='gl'))\n",
      "(None, rdflib.term.Literal('초모랑마', lang='ko'))\n",
      "(None, rdflib.term.Literal('Zhumulangma', lang='ca'))\n",
      "(None, rdflib.term.Literal('Сагарматха', lang='ru'))\n",
      "(None, rdflib.term.Literal('珠穆朗玛', lang='zh-cn'))\n",
      "(None, rdflib.term.Literal('Everest', lang='fy'))\n",
      "(None, rdflib.term.Literal('珠峰', lang='zh-hans'))\n",
      "(None, rdflib.term.Literal('Ĉomolangma', lang='eo'))\n",
      "(None, rdflib.term.Literal('Mount Qomolangma', lang='en'))\n",
      "(None, rdflib.term.Literal('đỉnh Chomolungma', lang='vi'))\n",
      "(None, rdflib.term.Literal('珠穆朗玛', lang='zh-hans'))\n",
      "(None, rdflib.term.Literal('Sagarmāthā', lang='ca'))\n",
      "(None, rdflib.term.Literal('Everest', lang='bs'))\n",
      "(None, rdflib.term.Literal('Еверест', lang='sr'))\n",
      "(None, rdflib.term.Literal('Sagarmatha', lang='hu'))\n",
      "(None, rdflib.term.Literal('এভারেস্ট', lang='bn'))\n",
      "(None, rdflib.term.Literal('Everest', lang='de'))\n",
      "(None, rdflib.term.Literal('Чомолангма', lang='sr'))\n",
      "(None, rdflib.term.Literal('Chomolungma', lang='vi'))\n",
      "(None, rdflib.term.Literal('Châu Mục Lãng Mã Phong', lang='vi'))\n",
      "(None, rdflib.term.Literal('планина Чомолубутангма', lang='sr'))\n",
      "(None, rdflib.term.Literal('monte Everest', lang='es'))\n",
      "(None, rdflib.term.Literal('Zhumulangma', lang='en'))\n",
      "(None, rdflib.term.Literal('सगरमाथा', lang='hi'))\n",
      "(None, rdflib.term.Literal('Sagarmāthā', lang='en'))\n",
      "(None, rdflib.term.Literal('Sagarmatha', lang='en'))\n",
      "(None, rdflib.term.Literal('Mt. Everest', lang='en'))\n",
      "(None, rdflib.term.Literal('Chomolungma', lang='gl'))\n",
      "(None, rdflib.term.Literal('珠穆朗玛峰', lang='zh'))\n",
      "(None, rdflib.term.Literal('Ջոմոլունգմա', lang='hy'))\n",
      "(None, rdflib.term.Literal('núi Chomolungma', lang='vi'))\n",
      "(None, rdflib.term.Literal('mont Everest', lang='fr'))\n",
      "(None, rdflib.term.Literal('Everest', lang='en'))\n",
      "(None, rdflib.term.Literal('チョモランマ', lang='ja'))\n",
      "(None, rdflib.term.Literal('Everest', lang='tr'))\n",
      "(None, rdflib.term.Literal('Sagarmatha', lang='ca'))\n",
      "(None, rdflib.term.Literal('ମାଉଣ୍ଟ ଏଭରେଷ୍ଟ', lang='or'))\n",
      "(None, rdflib.term.Literal('ჯომოლუნგმა', lang='ka'))\n",
      "(None, rdflib.term.Literal('Sagarmatha', lang='fr'))\n",
      "(None, rdflib.term.Literal('đỉnh Everest', lang='vi'))\n",
      "(None, rdflib.term.Literal('珠穆朗玛', lang='zh'))\n",
      "(None, rdflib.term.Literal('Qomolangma', lang='en'))\n",
      "(None, rdflib.term.Literal('Sagarmāthā', lang='en-gb'))\n",
      "(None, rdflib.term.Literal('Chomolungma', lang='es'))\n",
      "(None, rdflib.term.Literal('Σαργκαρμάθα', lang='el'))\n",
      "(None, rdflib.term.Literal('Everest', lang='pt-br'))\n",
      "(None, rdflib.term.Literal('Everesto', lang='eo'))\n",
      "(None, rdflib.term.Literal('Qomolangma', lang='hu'))\n",
      "(None, rdflib.term.Literal('Everestas', lang='lt'))\n",
      "(None, rdflib.term.Literal('Thánh Mẫu Phong', lang='vi'))\n",
      "(None, rdflib.term.Literal('Qomolangma', lang='id'))\n",
      "(None, rdflib.term.Literal('ಎವರೆಸ್ಟ್', lang='kn'))\n",
      "(None, rdflib.term.Literal('Zhumulangma', lang='it'))\n",
      "(None, rdflib.term.Literal('额菲尔士峰', lang='zh'))\n",
      "(None, rdflib.term.Literal('Sagarmāthā', lang='de'))\n",
      "(None, rdflib.term.Literal('Everest', lang='cs'))\n",
      "(None, rdflib.term.Literal('ଏଭରେଷ୍ଟ', lang='or'))\n",
      "(None, rdflib.term.Literal('Эверест', lang='ru'))\n",
      "(None, rdflib.term.Literal('성모봉', lang='ko-kp'))\n",
      "(None, rdflib.term.Literal('Everest', lang='nl'))\n",
      "(None, rdflib.term.Literal('Qomolangma', lang='gl'))\n",
      "(None, rdflib.term.Literal('núi Everest', lang='vi'))\n",
      "(None, rdflib.term.Literal('Chomolungma', lang='en-gb'))\n",
      "(None, rdflib.term.Literal('Everest', lang='en-gb'))\n",
      "(None, rdflib.term.Literal('Chomolungma', lang='it'))\n",
      "(None, rdflib.term.Literal('聖母峰', lang='zh-hant'))\n",
      "(None, rdflib.term.Literal('Džomolangma', lang='cs'))\n",
      "(None, rdflib.term.Literal('圣母峰', lang='zh-cn'))\n",
      "(None, rdflib.term.Literal('Sagarmata', lang='gl'))\n",
      "(None, rdflib.term.Literal('Everest', lang='ilo'))\n",
      "(None, rdflib.term.Literal('Чомолунгма', lang='sr'))\n",
      "(None, rdflib.term.Literal('额菲尔士峰', lang='zh-cn'))\n",
      "(None, rdflib.term.Literal('Qomolangma Feng', lang='ca'))\n",
      "(None, rdflib.term.Literal('ချိုမိုလန်းမားတောင်', lang='my'))\n",
      "(None, rdflib.term.Literal('珠峰', lang='zh-cn'))\n",
      "(None, rdflib.term.Literal('Sagarmāthā', lang='tr'))\n",
      "(None, rdflib.term.Literal('Chomolungma', lang='ca'))\n",
      "(None, rdflib.term.Literal('Τσομολούνγκμα', lang='el'))\n",
      "(None, rdflib.term.Literal('Маунт Еверест', lang='sr'))\n",
      "(None, rdflib.term.Literal('Ζουμουλάνγκμα', lang='el'))\n",
      "(None, rdflib.term.Literal('Chomolungma', lang='eu'))\n",
      "(None, rdflib.term.Literal('주무랑마봉', lang='ko'))\n",
      "(None, rdflib.term.Literal('Chomolungma', lang='en'))\n",
      "(None, rdflib.term.Literal('Mount Sagarmatha', lang='en'))\n",
      "(None, rdflib.term.Literal('Mt. Qomolangma', lang='tr'))\n",
      "(None, rdflib.term.Literal('планина Сагармата', lang='sr'))\n",
      "(None, rdflib.term.Literal('Chomolangma', lang='ca'))\n",
      "(None, rdflib.term.Literal('Czomolungma', lang='pl'))\n",
      "(None, rdflib.term.Literal('Bjeshka Everest', lang='sq'))\n",
      "(None, rdflib.term.Literal('Everest', lang='sl'))\n",
      "(None, rdflib.term.Literal('ဧဝရက်တောင်', lang='my'))\n",
      "(None, rdflib.term.Literal('планина Еверест', lang='sr'))\n",
      "(None, rdflib.term.Literal('एवरेस्ट् शिखरम्', lang='sa'))\n",
      "(None, rdflib.term.Literal('Chomolungma', lang='de'))\n",
      "(None, rdflib.term.Literal('Шэнмуфэн', lang='ru'))\n",
      "(None, rdflib.term.Literal('Sagarmāthā', lang='es'))\n",
      "(None, rdflib.term.Literal('Sagarmāthā', lang='eu'))\n",
      "(None, rdflib.term.Literal('Сагармата', lang='sr'))\n",
      "(None, rdflib.term.Literal('Everest', lang='hr'))\n",
      "(None, rdflib.term.Literal('聖母峰', lang='zh-tw'))\n",
      "(None, rdflib.term.Literal('सगरमाथा', lang='bho'))\n",
      "(None, rdflib.term.Literal('Комолангма', lang='sr'))\n",
      "(None, rdflib.term.Literal('Qomolangma Feng', lang='es'))\n",
      "(None, rdflib.term.Literal('Sagarmatha', lang='tr'))\n",
      "(None, rdflib.term.Literal('額菲爾士峰', lang='yue'))\n",
      "(None, rdflib.term.Literal('Qomolangma', lang='de'))\n",
      "(None, rdflib.term.Literal('Sagaramāthā', lang='it'))\n",
      "(None, rdflib.term.Literal('Everest', lang='pt'))\n",
      "(None, rdflib.term.Literal('Czumulungma', lang='pl'))\n",
      "(None, rdflib.term.Literal('エベレスト山', lang='ja'))\n",
      "(None, rdflib.term.Literal('Чомолубутангма', lang='sr'))\n",
      "(None, rdflib.term.Literal('Qomolangma', lang='ca'))\n",
      "(None, rdflib.term.Literal('Everest', lang='sq'))\n",
      "(None, rdflib.term.Literal('Čumulangma', lang='cs'))\n",
      "(None, rdflib.term.Literal('주무랑마펑', lang='ko'))\n",
      "(None, rdflib.term.Literal('Qomolangma Feng', lang='en'))\n",
      "(None, rdflib.term.Literal('Sagarmátha', lang='cs'))\n",
      "(None, rdflib.term.Literal('Džomulungma', lang='lv'))\n",
      "(None, rdflib.term.Literal('Everest', lang='en-ca'))\n",
      "(None, rdflib.term.Literal('Sagarmatha', lang='es'))\n",
      "(None, rdflib.term.Literal('планина Комолангма', lang='sr'))\n",
      "(None, rdflib.term.Literal('Џумулангма', lang='sr'))\n",
      "(None, rdflib.term.Literal('Mount Everest', lang='hu'))\n",
      "(None, rdflib.term.Literal('Еверест', lang='uk'))\n",
      "(None, rdflib.term.Literal('성모봉', lang='ko'))\n",
      "(None, rdflib.term.Literal('Chomolangma', lang='en'))\n",
      "(None, rdflib.term.Literal('圣母峰', lang='zh-hans'))\n",
      "(None, rdflib.term.Literal('Qomolangma', lang='en-gb'))\n",
      "(None, rdflib.term.Literal('Mount Chomolubutangma', lang='en'))\n"
     ]
    }
   ],
   "source": [
    "qr = g.query('''\n",
    "SELECT ?p ?x\n",
    "WHERE {\n",
    "    wd:Q513 skos:altLabel ?x\n",
    "}''')\n",
    "for row in qr:\n",
    "    print(row)"
   ]
  },
  {
   "cell_type": "code",
   "execution_count": null,
   "metadata": {},
   "outputs": [],
   "source": []
  },
  {
   "cell_type": "code",
   "execution_count": 294,
   "metadata": {
    "ExecuteTime": {
     "end_time": "2020-03-06T12:23:43.412839Z",
     "start_time": "2020-03-06T12:23:43.304236Z"
    }
   },
   "outputs": [],
   "source": [
    "query = '''\n",
    "CONSTRUCT {\n",
    "  ?e0 ?p1 ?e1 .\n",
    "  ?e1 ?p2 ?e2 .\n",
    "  ?e2 wikibase:quantityAmount ?e3 .\n",
    "}\n",
    "WHERE {\n",
    "  VALUES ?e0 { wd:Q2  } .\n",
    "  ?e0 ?p1 ?e1 .\n",
    "  ?e1 ?p2 ?e2 .\n",
    "  OPTIONAL { ?e2 wikibase:quantityAmount ?e3 } .\n",
    "}'''"
   ]
  },
  {
   "cell_type": "code",
   "execution_count": 331,
   "metadata": {
    "ExecuteTime": {
     "end_time": "2020-03-06T13:22:06.856293Z",
     "start_time": "2020-03-06T13:21:05.833347Z"
    }
   },
   "outputs": [],
   "source": [
    "resp = requests.post('https://query.wikidata.org/sparql', data={'query': query}, headers={'Accept': 'text/turtle'})"
   ]
  },
  {
   "cell_type": "code",
   "execution_count": 333,
   "metadata": {
    "ExecuteTime": {
     "end_time": "2020-03-06T13:24:31.759670Z",
     "start_time": "2020-03-06T13:24:31.752088Z"
    }
   },
   "outputs": [
    {
     "data": {
      "text/plain": [
       "200"
      ]
     },
     "execution_count": 333,
     "metadata": {},
     "output_type": "execute_result"
    }
   ],
   "source": []
  },
  {
   "cell_type": "code",
   "execution_count": 334,
   "metadata": {
    "ExecuteTime": {
     "end_time": "2020-03-06T13:24:42.804642Z",
     "start_time": "2020-03-06T13:24:42.494451Z"
    }
   },
   "outputs": [],
   "source": [
    "with open('graph_100.ttl', 'w') as ouf:\n",
    "    ouf.write(resp.text)"
   ]
  },
  {
   "cell_type": "code",
   "execution_count": null,
   "metadata": {},
   "outputs": [],
   "source": []
  },
  {
   "cell_type": "code",
   "execution_count": null,
   "metadata": {},
   "outputs": [],
   "source": []
  },
  {
   "cell_type": "code",
   "execution_count": null,
   "metadata": {},
   "outputs": [],
   "source": []
  },
  {
   "cell_type": "code",
   "execution_count": 100,
   "metadata": {
    "ExecuteTime": {
     "end_time": "2020-03-29T00:18:23.080203Z",
     "start_time": "2020-03-29T00:18:23.076330Z"
    }
   },
   "outputs": [],
   "source": [
    "qq = 'Q52284968'"
   ]
  },
  {
   "cell_type": "code",
   "execution_count": 101,
   "metadata": {
    "ExecuteTime": {
     "end_time": "2020-03-29T00:18:23.521335Z",
     "start_time": "2020-03-29T00:18:23.454700Z"
    }
   },
   "outputs": [
    {
     "data": {
      "text/plain": [
       "False"
      ]
     },
     "execution_count": 101,
     "metadata": {},
     "output_type": "execute_result"
    }
   ],
   "source": [
    "qq in good_entities"
   ]
  },
  {
   "cell_type": "code",
   "execution_count": 102,
   "metadata": {
    "ExecuteTime": {
     "end_time": "2020-03-29T00:18:23.976557Z",
     "start_time": "2020-03-29T00:18:23.888300Z"
    }
   },
   "outputs": [
    {
     "data": {
      "text/plain": [
       "False"
      ]
     },
     "execution_count": 102,
     "metadata": {},
     "output_type": "execute_result"
    }
   ],
   "source": [
    "qq in bad_entities"
   ]
  },
  {
   "cell_type": "code",
   "execution_count": null,
   "metadata": {},
   "outputs": [],
   "source": [
    "Q1459443\n",
    "Q428808"
   ]
  },
  {
   "cell_type": "code",
   "execution_count": 218,
   "metadata": {
    "ExecuteTime": {
     "end_time": "2020-04-08T14:37:08.662000Z",
     "start_time": "2020-04-08T14:37:08.494048Z"
    }
   },
   "outputs": [
    {
     "data": {
      "application/vnd.jupyter.widget-view+json": {
       "model_id": "b9f9dc6e5547484e8661349b881d2572",
       "version_major": 2,
       "version_minor": 0
      },
      "text/plain": [
       "HBox(children=(IntProgress(value=0, max=1681), HTML(value='')))"
      ]
     },
     "metadata": {},
     "output_type": "display_data"
    }
   ],
   "source": [
    "for i in tqdm(range(1681)):\n",
    "    begin = i * 1000\n",
    "    end = (i + 1) * 1000\n",
    "    if 'Q428808' in good_entities[begin:end]:\n",
    "        print(i)\n",
    "        break"
   ]
  },
  {
   "cell_type": "code",
   "execution_count": 201,
   "metadata": {
    "ExecuteTime": {
     "end_time": "2020-04-08T13:25:38.391508Z",
     "start_time": "2020-04-08T13:25:38.210705Z"
    }
   },
   "outputs": [],
   "source": [
    "interest_uris = json_read('interest_uris.json')"
   ]
  },
  {
   "cell_type": "code",
   "execution_count": 207,
   "metadata": {
    "ExecuteTime": {
     "end_time": "2020-04-08T13:29:46.526477Z",
     "start_time": "2020-04-08T13:29:46.011903Z"
    }
   },
   "outputs": [
    {
     "name": "stdout",
     "output_type": "stream",
     "text": [
      "not good: http://www.wikidata.org/entity/Q15642621\n"
     ]
    }
   ],
   "source": [
    "interest_pchs = []\n",
    "for uri in interest_uris:\n",
    "    qid = uri.split('/')[-1]\n",
    "    good = False\n",
    "    for i in range(1681):\n",
    "        begin = i * 1000\n",
    "        end = (i + 1) * 1000\n",
    "        if qid in good_entities[begin:end]:\n",
    "            interest_pchs.append(i)\n",
    "            good = True\n",
    "            break\n",
    "    if not good:\n",
    "        print(f'not good: {uri}')\n",
    "interest_pchs = list(set(interest_pchs))"
   ]
  },
  {
   "cell_type": "code",
   "execution_count": 212,
   "metadata": {
    "ExecuteTime": {
     "end_time": "2020-04-08T14:17:54.299789Z",
     "start_time": "2020-04-08T14:17:54.263307Z"
    }
   },
   "outputs": [
    {
     "name": "stdout",
     "output_type": "stream",
     "text": [
      "8 , 104 , 120 , 269 , 55 , 118 , 19 , 41 , "
     ]
    }
   ],
   "source": [
    "for uri in [\"http://www.wikidata.org/entity/Q9960\",\n",
    "    \"http://www.wikidata.org/entity/Q170576\", \n",
    "    \"http://www.wikidata.org/entity/Q201985\", \n",
    "    \"http://www.wikidata.org/entity/Q565692\",\n",
    "    \"http://www.wikidata.org/entity/Q79037\",\n",
    "    \"http://www.wikidata.org/entity/Q197736\",\n",
    "    \"http://www.wikidata.org/entity/Q25322\",\n",
    "    \"http://www.wikidata.org/entity/Q1490\",\n",
    "    \"http://www.wikidata.org/entity/Q57965\"]:\n",
    "    qid = uri.split('/')[-1]\n",
    "    good = False\n",
    "    for i in range(1681):\n",
    "        begin = i * 1000\n",
    "        end = (i + 1) * 1000\n",
    "        if qid in good_entities[begin:end]:\n",
    "            if i not in interest_pchs:\n",
    "                print(i, ',', end=' ')\n",
    "            good = True\n",
    "            break\n",
    "    if not good:\n",
    "        print(f'not good: {uri}')"
   ]
  },
  {
   "cell_type": "code",
   "execution_count": 209,
   "metadata": {
    "ExecuteTime": {
     "end_time": "2020-04-08T13:30:52.486896Z",
     "start_time": "2020-04-08T13:30:52.468232Z"
    }
   },
   "outputs": [],
   "source": [
    "json_dump(interest_pchs, 'interest_pchs.json')"
   ]
  },
  {
   "cell_type": "code",
   "execution_count": null,
   "metadata": {},
   "outputs": [],
   "source": [
    "for i in tqdm(range(168)):\n",
    "    begin = i * 1000\n",
    "    end = (i + 1) * 1000\n",
    "    if 'Q1027891' in good_entities[begin:end]:\n",
    "        print(i)\n",
    "        break"
   ]
  },
  {
   "cell_type": "code",
   "execution_count": 41,
   "metadata": {
    "ExecuteTime": {
     "end_time": "2020-03-28T15:23:00.993875Z",
     "start_time": "2020-03-28T15:22:18.802132Z"
    }
   },
   "outputs": [],
   "source": [
    "query = f'''\n",
    "    CONSTRUCT {{\n",
    "      ?x wdt:P279 ?y .\n",
    "    }}\n",
    "    WHERE {{\n",
    "      ?x wdt:P279 ?y .\n",
    "    }}\n",
    "'''\n",
    "resp = requests.post('https://query.wikidata.org/sparql', data={'query': query}, headers={'Accept': 'text/turtle'})"
   ]
  },
  {
   "cell_type": "code",
   "execution_count": null,
   "metadata": {},
   "outputs": [],
   "source": []
  },
  {
   "cell_type": "code",
   "execution_count": 42,
   "metadata": {
    "ExecuteTime": {
     "end_time": "2020-03-28T15:23:31.806078Z",
     "start_time": "2020-03-28T15:23:31.331923Z"
    }
   },
   "outputs": [],
   "source": [
    "with open(f'/Volumes/Seagate/wikidata_dump/wdt/_.ttl', 'w') as ouf:\n",
    "    ouf.write(resp.text)"
   ]
  },
  {
   "cell_type": "code",
   "execution_count": 72,
   "metadata": {
    "ExecuteTime": {
     "end_time": "2020-03-28T18:08:21.906963Z",
     "start_time": "2020-03-28T18:08:21.806639Z"
    }
   },
   "outputs": [],
   "source": [
    "missed = []\n",
    "for i in range(2435):\n",
    "    if os.stat(f'/Volumes/Seagate/wikidata_dump/wdt_ext/{i}.ttl').st_size == 0:\n",
    "        missed.append(i)"
   ]
  },
  {
   "cell_type": "code",
   "execution_count": 73,
   "metadata": {
    "ExecuteTime": {
     "end_time": "2020-03-28T18:08:22.301215Z",
     "start_time": "2020-03-28T18:08:22.296269Z"
    }
   },
   "outputs": [
    {
     "name": "stdout",
     "output_type": "stream",
     "text": [
      "[1448, 1450, 1452]\n"
     ]
    }
   ],
   "source": [
    "print(missed)"
   ]
  },
  {
   "cell_type": "code",
   "execution_count": 69,
   "metadata": {
    "ExecuteTime": {
     "end_time": "2020-03-28T18:07:22.514014Z",
     "start_time": "2020-03-28T18:07:22.386116Z"
    }
   },
   "outputs": [
    {
     "name": "stdout",
     "output_type": "stream",
     "text": [
      "[]\n"
     ]
    }
   ],
   "source": [
    "missed_upd = []\n",
    "for i in range(1680):\n",
    "    if os.stat(f'/Volumes/Seagate/wikidata_dump/wdt/{i}.ttl').st_size == 0:\n",
    "        missed_upd.append(i)\n",
    "print(missed_upd)"
   ]
  },
  {
   "cell_type": "code",
   "execution_count": 76,
   "metadata": {
    "ExecuteTime": {
     "end_time": "2020-03-28T20:20:18.564980Z",
     "start_time": "2020-03-28T20:20:16.588666Z"
    }
   },
   "outputs": [
    {
     "data": {
      "application/vnd.jupyter.widget-view+json": {
       "model_id": "3afb5b74361f46c89f33fcd0eb338427",
       "version_major": 2,
       "version_minor": 0
      },
      "text/plain": [
       "HBox(children=(IntProgress(value=0, max=1), HTML(value='')))"
      ]
     },
     "metadata": {},
     "output_type": "display_data"
    }
   ],
   "source": [
    "for i in tqdm(range(2410, 2411)):\n",
    "    begin = i * 1000\n",
    "    end = (i + 1) * 1000\n",
    "    uris = ' '.join(['wd:' + qid for qid in bad_entities[begin:end]])\n",
    "    query = f'''\n",
    "    CONSTRUCT {{\n",
    "      ?e0 ?p1 ?e1 .\n",
    "    }}\n",
    "    WHERE {{\n",
    "      VALUES ?e0 {{ {uris} }} .\n",
    "      ?e0 ?p1 ?e1 .\n",
    "      FILTER strstarts(str(?p1), str(wdt:)) .\n",
    "    }}\n",
    "    '''\n",
    "    resp = requests.post('https://query.wikidata.org/sparql', data={'query': query}, headers={'Accept': 'text/turtle'})\n",
    "    with open(f'/Volumes/Seagate/wikidata_dump/wdt_ext/{i}.ttl', 'w') as ouf:\n",
    "        ouf.write(resp.text)"
   ]
  },
  {
   "cell_type": "code",
   "execution_count": 136,
   "metadata": {
    "ExecuteTime": {
     "end_time": "2020-04-01T23:05:53.098237Z",
     "start_time": "2020-04-01T23:05:53.091748Z"
    }
   },
   "outputs": [
    {
     "data": {
      "text/plain": [
       "1944"
      ]
     },
     "execution_count": 136,
     "metadata": {},
     "output_type": "execute_result"
    }
   ],
   "source": [
    "os.stat(f'/Volumes/Seagate/wikidata_dump/lbl/747.ttl').st_size"
   ]
  },
  {
   "cell_type": "code",
   "execution_count": null,
   "metadata": {},
   "outputs": [],
   "source": []
  }
 ],
 "metadata": {
  "kernelspec": {
   "display_name": "Python [conda env:kbqa]",
   "language": "python",
   "name": "conda-env-kbqa-py"
  },
  "language_info": {
   "codemirror_mode": {
    "name": "ipython",
    "version": 3
   },
   "file_extension": ".py",
   "mimetype": "text/x-python",
   "name": "python",
   "nbconvert_exporter": "python",
   "pygments_lexer": "ipython3",
   "version": "3.7.3"
  }
 },
 "nbformat": 4,
 "nbformat_minor": 2
}
