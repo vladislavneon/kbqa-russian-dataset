{
 "cells": [
  {
   "cell_type": "code",
   "execution_count": 12,
   "metadata": {
    "ExecuteTime": {
     "end_time": "2020-04-02T13:28:37.953714Z",
     "start_time": "2020-04-02T13:28:37.617018Z"
    }
   },
   "outputs": [],
   "source": [
    "%config IPCompleter.greedy=True\n",
    "from rdflib import Graph\n",
    "from tqdm import tqdm_notebook as tqdm"
   ]
  },
  {
   "cell_type": "markdown",
   "metadata": {},
   "source": [
    "### Load endpoint"
   ]
  },
  {
   "cell_type": "code",
   "execution_count": 13,
   "metadata": {
    "ExecuteTime": {
     "end_time": "2020-04-02T13:28:39.011821Z",
     "start_time": "2020-04-02T13:28:39.000815Z"
    }
   },
   "outputs": [],
   "source": [
    "rdf_path = '/Volumes/Seagate/wikidata_dump'"
   ]
  },
  {
   "cell_type": "code",
   "execution_count": 21,
   "metadata": {
    "ExecuteTime": {
     "end_time": "2020-04-02T13:30:57.741410Z",
     "start_time": "2020-04-02T13:30:57.734585Z"
    }
   },
   "outputs": [],
   "source": [
    "endpoint_graph = Graph()"
   ]
  },
  {
   "cell_type": "code",
   "execution_count": 22,
   "metadata": {
    "ExecuteTime": {
     "end_time": "2020-04-02T13:30:57.984924Z",
     "start_time": "2020-04-02T13:30:57.958853Z"
    }
   },
   "outputs": [],
   "source": [
    "with open(f'{rdf_path}/test_len.ttl', 'r') as inf:\n",
    "    endpoint_graph.parse(inf, format='turtle')"
   ]
  },
  {
   "cell_type": "code",
   "execution_count": 16,
   "metadata": {
    "ExecuteTime": {
     "end_time": "2020-04-02T13:29:08.063745Z",
     "start_time": "2020-04-02T13:29:08.021484Z"
    }
   },
   "outputs": [],
   "source": [
    "qr = endpoint_graph.query('''\n",
    "select ?x ?p ?y\n",
    "where { ?x ?p ?y . }\n",
    "limit 100\n",
    "''')"
   ]
  },
  {
   "cell_type": "code",
   "execution_count": 17,
   "metadata": {
    "ExecuteTime": {
     "end_time": "2020-04-02T13:29:08.722605Z",
     "start_time": "2020-04-02T13:29:08.655346Z"
    }
   },
   "outputs": [
    {
     "name": "stdout",
     "output_type": "stream",
     "text": [
      "(rdflib.term.URIRef('http://www.wikidata.org/entity/Q162518'), rdflib.term.URIRef('http://www.wikidata.org/prop/direct/P373'), rdflib.term.Literal('How the West Was Won (film)'))\n",
      "(rdflib.term.URIRef('http://www.wikidata.org/entity/Q162802'), rdflib.term.URIRef('http://www.wikidata.org/prop/direct/P373'), rdflib.term.Literal('Agavoideae'))\n",
      "(rdflib.term.URIRef('http://www.wikidata.org/entity/Q161661'), rdflib.term.URIRef('http://www.wikidata.org/prop/direct/P1939'), rdflib.term.Literal('221441'))\n",
      "(rdflib.term.URIRef('http://www.wikidata.org/entity/Q161694'), rdflib.term.URIRef('http://www.wikidata.org/prop/direct/P421'), rdflib.term.URIRef('http://www.wikidata.org/entity/Q6723'))\n",
      "(rdflib.term.URIRef('http://www.wikidata.org/entity/Q162634'), rdflib.term.URIRef('http://www.wikidata.org/prop/direct/P21'), rdflib.term.URIRef('http://www.wikidata.org/entity/Q6581097'))\n",
      "(rdflib.term.URIRef('http://www.wikidata.org/entity/Q162005'), rdflib.term.URIRef('http://www.wikidata.org/prop/direct/P373'), rdflib.term.Literal('Paul Allen'))\n",
      "(rdflib.term.URIRef('http://www.wikidata.org/entity/Q161880'), rdflib.term.URIRef('http://www.wikidata.org/prop/direct/P3417'), rdflib.term.Literal('Audi-A3'))\n",
      "(rdflib.term.URIRef('http://www.wikidata.org/entity/Q162403'), rdflib.term.URIRef('http://www.wikidata.org/prop/direct/P5037'), rdflib.term.Literal('urn:lsid:ipni.org:names:790898-1'))\n",
      "(rdflib.term.URIRef('http://www.wikidata.org/entity/Q161345'), rdflib.term.URIRef('http://www.wikidata.org/prop/direct/P571'), rdflib.term.Literal('1967-01-01T00:00:00+00:00', datatype=rdflib.term.URIRef('http://www.w3.org/2001/XMLSchema#dateTime')))\n",
      "(rdflib.term.URIRef('http://www.wikidata.org/entity/Q162444'), rdflib.term.URIRef('http://www.wikidata.org/prop/direct/P6597'), rdflib.term.Literal('14960'))\n",
      "(rdflib.term.URIRef('http://www.wikidata.org/entity/Q161497'), rdflib.term.URIRef('http://www.wikidata.org/prop/direct/P2975'), rdflib.term.URIRef('http://www.wikidata.org/entity/Q22112213'))\n",
      "(rdflib.term.URIRef('http://www.wikidata.org/entity/Q161548'), rdflib.term.URIRef('http://www.wikidata.org/prop/direct/P1070'), rdflib.term.Literal('kew-2821191'))\n",
      "(rdflib.term.URIRef('http://www.wikidata.org/entity/Q162095'), rdflib.term.URIRef('http://www.wikidata.org/prop/direct/P1132'), rdflib.term.Literal('10.0', datatype=rdflib.term.URIRef('http://www.w3.org/2001/XMLSchema#decimal')))\n",
      "(rdflib.term.URIRef('http://www.wikidata.org/entity/Q162104'), rdflib.term.URIRef('http://www.wikidata.org/prop/direct/P960'), rdflib.term.Literal('40004323'))\n",
      "(rdflib.term.URIRef('http://www.wikidata.org/entity/Q161966'), rdflib.term.URIRef('http://www.wikidata.org/prop/direct/P3501'), rdflib.term.URIRef('http://www.wikidata.org/entity/Q730757'))\n",
      "(rdflib.term.URIRef('http://www.wikidata.org/entity/Q162612'), rdflib.term.URIRef('http://www.wikidata.org/prop/direct/P31'), rdflib.term.URIRef('http://www.wikidata.org/entity/Q1149652'))\n",
      "(rdflib.term.URIRef('http://www.wikidata.org/entity/Q161572'), rdflib.term.URIRef('http://www.wikidata.org/prop/direct/P683'), rdflib.term.Literal('27961'))\n",
      "(rdflib.term.URIRef('http://www.wikidata.org/entity/Q162672'), rdflib.term.URIRef('http://www.wikidata.org/prop/direct/P161'), rdflib.term.URIRef('http://www.wikidata.org/entity/Q270079'))\n",
      "(rdflib.term.URIRef('http://www.wikidata.org/entity/Q162102'), rdflib.term.URIRef('http://www.wikidata.org/prop/direct/P27'), rdflib.term.URIRef('http://www.wikidata.org/entity/Q170174'))\n",
      "(rdflib.term.URIRef('http://www.wikidata.org/entity/Q162771'), rdflib.term.URIRef('http://www.wikidata.org/prop/direct/P2046'), rdflib.term.Literal('43.48', datatype=rdflib.term.URIRef('http://www.w3.org/2001/XMLSchema#decimal')))\n",
      "(rdflib.term.URIRef('http://www.wikidata.org/entity/Q161590'), rdflib.term.URIRef('http://www.wikidata.org/prop/direct/P570'), rdflib.term.Literal('1939-01-02T00:00:00+00:00', datatype=rdflib.term.URIRef('http://www.w3.org/2001/XMLSchema#dateTime')))\n",
      "(rdflib.term.URIRef('http://www.wikidata.org/entity/Q161662'), rdflib.term.URIRef('http://www.wikidata.org/prop/direct/P638'), rdflib.term.Literal('2HVJ'))\n",
      "(rdflib.term.URIRef('http://www.wikidata.org/entity/Q161909'), rdflib.term.URIRef('http://www.wikidata.org/prop/direct/P94'), rdflib.term.URIRef('http://commons.wikimedia.org/wiki/Special:FilePath/POL%20I%C5%82owa%20COA.svg'))\n",
      "(rdflib.term.URIRef('http://www.wikidata.org/entity/Q162543'), rdflib.term.URIRef('http://www.wikidata.org/prop/direct/P20'), rdflib.term.URIRef('http://www.wikidata.org/entity/Q33962'))\n",
      "(rdflib.term.URIRef('http://www.wikidata.org/entity/Q161775'), rdflib.term.URIRef('http://www.wikidata.org/prop/direct/P244'), rdflib.term.Literal('n82233888'))\n",
      "(rdflib.term.URIRef('http://www.wikidata.org/entity/Q161927'), rdflib.term.URIRef('http://www.wikidata.org/prop/direct/P1417'), rdflib.term.Literal('plant/Piper-cubeba'))\n",
      "(rdflib.term.URIRef('http://www.wikidata.org/entity/Q161801'), rdflib.term.URIRef('http://www.wikidata.org/prop/direct/P1417'), rdflib.term.Literal('science/sudden-infant-death-syndrome'))\n",
      "(rdflib.term.URIRef('http://www.wikidata.org/entity/Q162806'), rdflib.term.URIRef('http://www.wikidata.org/prop/direct/P1350'), rdflib.term.Literal('491.0', datatype=rdflib.term.URIRef('http://www.w3.org/2001/XMLSchema#decimal')))\n",
      "(rdflib.term.URIRef('http://www.wikidata.org/entity/Q162814'), rdflib.term.URIRef('http://www.wikidata.org/prop/direct/P20'), rdflib.term.URIRef('http://www.wikidata.org/entity/Q956'))\n",
      "(rdflib.term.URIRef('http://www.wikidata.org/entity/Q161678'), rdflib.term.URIRef('http://www.wikidata.org/prop/direct/P161'), rdflib.term.URIRef('http://www.wikidata.org/entity/Q38119'))\n",
      "(rdflib.term.URIRef('http://www.wikidata.org/entity/Q162062'), rdflib.term.URIRef('http://www.wikidata.org/prop/direct/P1343'), rdflib.term.URIRef('http://www.wikidata.org/entity/Q4173137'))\n",
      "(rdflib.term.URIRef('http://www.wikidata.org/entity/Q162891'), rdflib.term.URIRef('http://www.wikidata.org/prop/direct/P2752'), rdflib.term.Literal('019ed34b-8140-42ca-9bd7-6422ac1d19d3'))\n",
      "(rdflib.term.URIRef('http://www.wikidata.org/entity/Q162919'), rdflib.term.URIRef('http://www.wikidata.org/prop/direct/P1296'), rdflib.term.Literal('0218855'))\n",
      "(rdflib.term.URIRef('http://www.wikidata.org/entity/Q162650'), rdflib.term.URIRef('http://www.wikidata.org/prop/direct/P905'), rdflib.term.Literal('118420'))\n",
      "(rdflib.term.URIRef('http://www.wikidata.org/entity/Q161406'), rdflib.term.URIRef('http://www.wikidata.org/prop/direct/P4122'), rdflib.term.Literal('Cotinus_coggygria'))\n",
      "(rdflib.term.URIRef('http://www.wikidata.org/entity/Q161736'), rdflib.term.URIRef('http://www.wikidata.org/prop/direct/P1343'), rdflib.term.URIRef('http://www.wikidata.org/entity/Q602358'))\n",
      "(rdflib.term.URIRef('http://www.wikidata.org/entity/Q162371'), rdflib.term.URIRef('http://www.wikidata.org/prop/direct/P674'), rdflib.term.URIRef('http://www.wikidata.org/entity/Q12764336'))\n",
      "(rdflib.term.URIRef('http://www.wikidata.org/entity/Q161657'), rdflib.term.URIRef('http://www.wikidata.org/prop/direct/P646'), rdflib.term.Literal('/m/0gm453'))\n",
      "(rdflib.term.URIRef('http://www.wikidata.org/entity/Q161473'), rdflib.term.URIRef('http://www.wikidata.org/prop/direct/P960'), rdflib.term.Literal('703725'))\n",
      "(rdflib.term.URIRef('http://www.wikidata.org/entity/Q161729'), rdflib.term.URIRef('http://www.wikidata.org/prop/direct/P1830'), rdflib.term.URIRef('http://www.wikidata.org/entity/Q15867424'))\n",
      "(rdflib.term.URIRef('http://www.wikidata.org/entity/Q162048'), rdflib.term.URIRef('http://www.wikidata.org/prop/direct/P1939'), rdflib.term.Literal('1005725'))\n",
      "(rdflib.term.URIRef('http://www.wikidata.org/entity/Q161400'), rdflib.term.URIRef('http://www.wikidata.org/prop/direct/P2047'), rdflib.term.Literal('94.0', datatype=rdflib.term.URIRef('http://www.w3.org/2001/XMLSchema#decimal')))\n",
      "(rdflib.term.URIRef('http://www.wikidata.org/entity/Q162805'), rdflib.term.URIRef('http://www.wikidata.org/prop/direct/P935'), rdflib.term.Literal('Malva alcea'))\n",
      "(rdflib.term.URIRef('http://www.wikidata.org/entity/Q162311'), rdflib.term.URIRef('http://www.wikidata.org/prop/direct/P31'), rdflib.term.URIRef('http://www.wikidata.org/entity/Q16521'))\n",
      "(rdflib.term.URIRef('http://www.wikidata.org/entity/Q162108'), rdflib.term.URIRef('http://www.wikidata.org/prop/direct/P1672'), rdflib.term.URIRef('http://www.wikidata.org/entity/Q52063543'))\n",
      "(rdflib.term.URIRef('http://www.wikidata.org/entity/Q161436'), rdflib.term.URIRef('http://www.wikidata.org/prop/direct/P960'), rdflib.term.Literal('7800880'))\n",
      "(rdflib.term.URIRef('http://www.wikidata.org/entity/Q161735'), rdflib.term.URIRef('http://www.wikidata.org/prop/direct/P960'), rdflib.term.Literal('25509480'))\n",
      "(rdflib.term.URIRef('http://www.wikidata.org/entity/Q161308'), rdflib.term.URIRef('http://www.wikidata.org/prop/direct/P225'), rdflib.term.Literal('Securigera'))\n",
      "(rdflib.term.URIRef('http://www.wikidata.org/entity/Q162429'), rdflib.term.URIRef('http://www.wikidata.org/prop/direct/P2541'), rdflib.term.URIRef('http://www.wikidata.org/entity/Q159'))\n",
      "(rdflib.term.URIRef('http://www.wikidata.org/entity/Q161733'), rdflib.term.URIRef('http://www.wikidata.org/prop/direct/P5748'), rdflib.term.Literal('86.41'))\n",
      "(rdflib.term.URIRef('http://www.wikidata.org/entity/Q162744'), rdflib.term.URIRef('http://www.wikidata.org/prop/direct/P214'), rdflib.term.Literal('135624153'))\n",
      "(rdflib.term.URIRef('http://www.wikidata.org/entity/Q162119'), rdflib.term.URIRef('http://www.wikidata.org/prop/direct/P31'), rdflib.term.URIRef('http://www.wikidata.org/entity/Q1795024'))\n",
      "(rdflib.term.URIRef('http://www.wikidata.org/entity/Q161648'), rdflib.term.URIRef('http://www.wikidata.org/prop/direct/P3105'), rdflib.term.Literal('81455'))\n",
      "(rdflib.term.URIRef('http://www.wikidata.org/entity/Q162834'), rdflib.term.URIRef('http://www.wikidata.org/prop/direct/P6366'), rdflib.term.Literal('2780240676'))\n",
      "(rdflib.term.URIRef('http://www.wikidata.org/entity/Q161575'), rdflib.term.URIRef('http://www.wikidata.org/prop/direct/P421'), rdflib.term.URIRef('http://www.wikidata.org/entity/Q6655'))\n",
      "(rdflib.term.URIRef('http://www.wikidata.org/entity/Q161717'), rdflib.term.URIRef('http://www.wikidata.org/prop/direct/P838'), rdflib.term.Literal('38804'))\n",
      "(rdflib.term.URIRef('http://www.wikidata.org/entity/Q162005'), rdflib.term.URIRef('http://www.wikidata.org/prop/direct/P5034'), rdflib.term.Literal('KAC201111331'))\n",
      "(rdflib.term.URIRef('http://www.wikidata.org/entity/Q162877'), rdflib.term.URIRef('http://www.wikidata.org/prop/direct/P17'), rdflib.term.URIRef('http://www.wikidata.org/entity/Q39'))\n",
      "(rdflib.term.URIRef('http://www.wikidata.org/entity/Q162793'), rdflib.term.URIRef('http://www.wikidata.org/prop/direct/P1343'), rdflib.term.URIRef('http://www.wikidata.org/entity/Q67311526'))\n",
      "(rdflib.term.URIRef('http://www.wikidata.org/entity/Q161473'), rdflib.term.URIRef('http://www.wikidata.org/prop/direct/P225'), rdflib.term.Literal('Mesembryanthemum crystallinum'))\n",
      "(rdflib.term.URIRef('http://www.wikidata.org/entity/Q162628'), rdflib.term.URIRef('http://www.wikidata.org/prop/direct/P1549'), rdflib.term.Literal('Kopšinjan', lang='hsb'))\n",
      "(rdflib.term.URIRef('http://www.wikidata.org/entity/Q161817'), rdflib.term.URIRef('http://www.wikidata.org/prop/direct/P31'), rdflib.term.URIRef('http://www.wikidata.org/entity/Q5'))\n",
      "(rdflib.term.URIRef('http://www.wikidata.org/entity/Q161905'), rdflib.term.URIRef('http://www.wikidata.org/prop/direct/P910'), rdflib.term.URIRef('http://www.wikidata.org/entity/Q9546692'))\n",
      "(rdflib.term.URIRef('http://www.wikidata.org/entity/Q161361'), rdflib.term.URIRef('http://www.wikidata.org/prop/direct/P6864'), rdflib.term.Literal('8001'))\n",
      "(rdflib.term.URIRef('http://www.wikidata.org/entity/Q161524'), rdflib.term.URIRef('http://www.wikidata.org/prop/direct/P18'), rdflib.term.URIRef('http://commons.wikimedia.org/wiki/Special:FilePath/An%20African%20shaman%20or%20medicine%20man%20dressed%20in%20ritual%20mask%20and%20Wellcome%20V0016256.jpg'))\n",
      "(rdflib.term.URIRef('http://www.wikidata.org/entity/Q162271'), rdflib.term.URIRef('http://www.wikidata.org/prop/direct/P1772'), rdflib.term.Literal('BREL2'))\n",
      "(rdflib.term.URIRef('http://www.wikidata.org/entity/Q162269'), rdflib.term.URIRef('http://www.wikidata.org/prop/direct/P906'), rdflib.term.Literal('183500'))\n",
      "(rdflib.term.URIRef('http://www.wikidata.org/entity/Q162672'), rdflib.term.URIRef('http://www.wikidata.org/prop/direct/P905'), rdflib.term.Literal('28821'))\n",
      "(rdflib.term.URIRef('http://www.wikidata.org/entity/Q161841'), rdflib.term.URIRef('http://www.wikidata.org/prop/direct/P1816'), rdflib.term.Literal('mp01757'))\n",
      "(rdflib.term.URIRef('http://www.wikidata.org/entity/Q161584'), rdflib.term.URIRef('http://www.wikidata.org/prop/direct/P171'), rdflib.term.URIRef('http://www.wikidata.org/entity/Q156047'))\n",
      "(rdflib.term.URIRef('http://www.wikidata.org/entity/Q161861'), rdflib.term.URIRef('http://www.wikidata.org/prop/direct/P735'), rdflib.term.URIRef('http://www.wikidata.org/entity/Q18595908'))\n",
      "(rdflib.term.URIRef('http://www.wikidata.org/entity/Q162486'), rdflib.term.URIRef('http://www.wikidata.org/prop/direct/P685'), rdflib.term.Literal('269006'))\n",
      "(rdflib.term.URIRef('http://www.wikidata.org/entity/Q161339'), rdflib.term.URIRef('http://www.wikidata.org/prop/direct/P2775'), rdflib.term.Literal('65724'))\n",
      "(rdflib.term.URIRef('http://www.wikidata.org/entity/Q162092'), rdflib.term.URIRef('http://www.wikidata.org/prop/direct/P21'), rdflib.term.URIRef('http://www.wikidata.org/entity/Q6581097'))\n",
      "(rdflib.term.URIRef('http://www.wikidata.org/entity/Q162919'), rdflib.term.URIRef('http://www.wikidata.org/prop/direct/P1343'), rdflib.term.URIRef('http://www.wikidata.org/entity/Q19180675'))\n",
      "(rdflib.term.URIRef('http://www.wikidata.org/entity/Q161419'), rdflib.term.URIRef('http://www.wikidata.org/prop/direct/P40'), rdflib.term.URIRef('http://www.wikidata.org/entity/Q12647143'))\n",
      "(rdflib.term.URIRef('http://www.wikidata.org/entity/Q161305'), rdflib.term.URIRef('http://www.wikidata.org/prop/direct/P1843'), rdflib.term.Literal('myší ocásek', lang='cs'))\n",
      "(rdflib.term.URIRef('http://www.wikidata.org/entity/Q161361'), rdflib.term.URIRef('http://www.wikidata.org/prop/direct/P105'), rdflib.term.URIRef('http://www.wikidata.org/entity/Q7432'))\n",
      "(rdflib.term.URIRef('http://www.wikidata.org/entity/Q162543'), rdflib.term.URIRef('http://www.wikidata.org/prop/direct/P268'), rdflib.term.Literal('135549796'))\n",
      "(rdflib.term.URIRef('http://www.wikidata.org/entity/Q162530'), rdflib.term.URIRef('http://www.wikidata.org/prop/direct/P1220'), rdflib.term.Literal('83129'))\n",
      "(rdflib.term.URIRef('http://www.wikidata.org/entity/Q162102'), rdflib.term.URIRef('http://www.wikidata.org/prop/direct/P7935'), rdflib.term.Literal('Benedictus_VIII'))\n",
      "(rdflib.term.URIRef('http://www.wikidata.org/entity/Q161310'), rdflib.term.URIRef('http://www.wikidata.org/prop/direct/P6864'), rdflib.term.Literal('7986'))\n",
      "(rdflib.term.URIRef('http://www.wikidata.org/entity/Q161672'), rdflib.term.URIRef('http://www.wikidata.org/prop/direct/P7818'), rdflib.term.Literal('Patrice_Lumumba'))\n",
      "(rdflib.term.URIRef('http://www.wikidata.org/entity/Q162912'), rdflib.term.URIRef('http://www.wikidata.org/prop/direct/P910'), rdflib.term.URIRef('http://www.wikidata.org/entity/Q26259027'))\n",
      "(rdflib.term.URIRef('http://www.wikidata.org/entity/Q161595'), rdflib.term.URIRef('http://www.wikidata.org/prop/direct/P281'), rdflib.term.Literal('41-400 — 41-412'))\n",
      "(rdflib.term.URIRef('http://www.wikidata.org/entity/Q161344'), rdflib.term.URIRef('http://www.wikidata.org/prop/direct/P960'), rdflib.term.Literal('4100261'))\n",
      "(rdflib.term.URIRef('http://www.wikidata.org/entity/Q162302'), rdflib.term.URIRef('http://www.wikidata.org/prop/direct/P3373'), rdflib.term.URIRef('http://www.wikidata.org/entity/Q375467'))\n",
      "(rdflib.term.URIRef('http://www.wikidata.org/entity/Q162736'), rdflib.term.URIRef('http://www.wikidata.org/prop/direct/P279'), rdflib.term.URIRef('http://www.wikidata.org/entity/Q3058537'))\n",
      "(rdflib.term.URIRef('http://www.wikidata.org/entity/Q162822'), rdflib.term.URIRef('http://www.wikidata.org/prop/direct/P5953'), rdflib.term.Literal('3791'))\n",
      "(rdflib.term.URIRef('http://www.wikidata.org/entity/Q161735'), rdflib.term.URIRef('http://www.wikidata.org/prop/direct/P5055'), rdflib.term.Literal('10665330'))\n",
      "(rdflib.term.URIRef('http://www.wikidata.org/entity/Q161740'), rdflib.term.URIRef('http://www.wikidata.org/prop/direct/P1986'), rdflib.term.Literal('papa-gregorio-x'))\n",
      "(rdflib.term.URIRef('http://www.wikidata.org/entity/Q162722'), rdflib.term.URIRef('http://www.wikidata.org/prop/direct/P3025'), rdflib.term.URIRef('http://www.wikidata.org/entity/Q26214163'))\n",
      "(rdflib.term.URIRef('http://www.wikidata.org/entity/Q162802'), rdflib.term.URIRef('http://www.wikidata.org/prop/direct/P2924'), rdflib.term.Literal('1850646'))\n",
      "(rdflib.term.URIRef('http://www.wikidata.org/entity/Q162399'), rdflib.term.URIRef('http://www.wikidata.org/prop/direct/P838'), rdflib.term.Literal('42669'))\n",
      "(rdflib.term.URIRef('http://www.wikidata.org/entity/Q161565'), rdflib.term.URIRef('http://www.wikidata.org/prop/direct/P830'), rdflib.term.Literal('1082273'))\n",
      "(rdflib.term.URIRef('http://www.wikidata.org/entity/Q162717'), rdflib.term.URIRef('http://www.wikidata.org/prop/direct/P646'), rdflib.term.Literal('/m/0bn6z_'))\n",
      "(rdflib.term.URIRef('http://www.wikidata.org/entity/Q161549'), rdflib.term.URIRef('http://www.wikidata.org/prop/direct/P4293'), rdflib.term.Literal('co/007935'))\n",
      "(rdflib.term.URIRef('http://www.wikidata.org/entity/Q161978'), rdflib.term.URIRef('http://www.wikidata.org/prop/direct/P6766'), rdflib.term.Literal('101858827'))\n",
      "(rdflib.term.URIRef('http://www.wikidata.org/entity/Q161866'), rdflib.term.URIRef('http://www.wikidata.org/prop/direct/P569'), rdflib.term.Literal('1367-04-03T00:00:00+00:00', datatype=rdflib.term.URIRef('http://www.w3.org/2001/XMLSchema#dateTime')))\n",
      "(rdflib.term.URIRef('http://www.wikidata.org/entity/Q161520'), rdflib.term.URIRef('http://www.wikidata.org/prop/direct/P2975'), rdflib.term.URIRef('http://www.wikidata.org/entity/Q159722'))\n"
     ]
    }
   ],
   "source": [
    "for row in qr:\n",
    "    print(row)"
   ]
  },
  {
   "cell_type": "code",
   "execution_count": 23,
   "metadata": {
    "ExecuteTime": {
     "end_time": "2020-04-02T13:30:59.498248Z",
     "start_time": "2020-04-02T13:30:59.489678Z"
    }
   },
   "outputs": [
    {
     "data": {
      "text/plain": [
       "89"
      ]
     },
     "execution_count": 23,
     "metadata": {},
     "output_type": "execute_result"
    }
   ],
   "source": [
    "len(endpoint_graph)"
   ]
  },
  {
   "cell_type": "code",
   "execution_count": 8,
   "metadata": {
    "ExecuteTime": {
     "end_time": "2020-03-28T13:32:15.231134Z",
     "start_time": "2020-03-28T13:32:14.814866Z"
    }
   },
   "outputs": [],
   "source": [
    "geg = endpoint_graph.all_nodes()"
   ]
  },
  {
   "cell_type": "code",
   "execution_count": 11,
   "metadata": {
    "ExecuteTime": {
     "end_time": "2020-03-28T13:33:40.914242Z",
     "start_time": "2020-03-28T13:33:40.904862Z"
    }
   },
   "outputs": [
    {
     "data": {
      "text/plain": [
       "33762"
      ]
     },
     "execution_count": 11,
     "metadata": {},
     "output_type": "execute_result"
    }
   ],
   "source": [
    "len(geg)"
   ]
  },
  {
   "cell_type": "code",
   "execution_count": null,
   "metadata": {},
   "outputs": [],
   "source": []
  }
 ],
 "metadata": {
  "kernelspec": {
   "display_name": "Python [conda env:kbqa]",
   "language": "python",
   "name": "conda-env-kbqa-py"
  },
  "language_info": {
   "codemirror_mode": {
    "name": "ipython",
    "version": 3
   },
   "file_extension": ".py",
   "mimetype": "text/x-python",
   "name": "python",
   "nbconvert_exporter": "python",
   "pygments_lexer": "ipython3",
   "version": "3.7.3"
  }
 },
 "nbformat": 4,
 "nbformat_minor": 2
}
