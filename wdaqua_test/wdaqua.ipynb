{
 "cells": [
  {
   "cell_type": "code",
   "execution_count": 35,
   "metadata": {
    "ExecuteTime": {
     "end_time": "2020-04-09T14:33:29.876720Z",
     "start_time": "2020-04-09T14:33:29.859666Z"
    }
   },
   "outputs": [],
   "source": [
    "%config IPCompleter.greedy=True\n",
    "import json\n",
    "import requests\n",
    "from tqdm import tqdm_notebook as tqdm"
   ]
  },
  {
   "cell_type": "code",
   "execution_count": 2,
   "metadata": {
    "ExecuteTime": {
     "end_time": "2020-04-09T14:10:07.435297Z",
     "start_time": "2020-04-09T14:10:07.425540Z"
    }
   },
   "outputs": [],
   "source": [
    "def json_read(filename):\n",
    "    with open(filename, 'r') as inf:\n",
    "        res = json.load(inf)\n",
    "    return res\n",
    "\n",
    "def json_dump(obj, filename, ea=False, indent=4):\n",
    "    with open(filename, 'w') as ouf:\n",
    "        json.dump(obj, ouf, ensure_ascii=ea, indent=indent)"
   ]
  },
  {
   "cell_type": "markdown",
   "metadata": {},
   "source": [
    "### Evaluate wd-aqua"
   ]
  },
  {
   "cell_type": "code",
   "execution_count": 117,
   "metadata": {
    "ExecuteTime": {
     "end_time": "2020-04-10T18:09:04.677569Z",
     "start_time": "2020-04-10T18:09:04.620291Z"
    }
   },
   "outputs": [],
   "source": [
    "dataset = json_read('../dataset compilation/kbqa_russian_dataset.json')\n",
    "test_uids = set(json_read('../dataset compilation/test_uids.json'))\n",
    "dev_uids = set(json_read('../dataset compilation/dev_uids.json'))\n",
    "tagset = set(json_read('../dataset compilation/tagset.json'))"
   ]
  },
  {
   "cell_type": "code",
   "execution_count": 37,
   "metadata": {
    "ExecuteTime": {
     "end_time": "2020-04-09T14:34:59.490158Z",
     "start_time": "2020-04-09T14:34:59.485600Z"
    }
   },
   "outputs": [],
   "source": [
    "variables = set()"
   ]
  },
  {
   "cell_type": "code",
   "execution_count": 38,
   "metadata": {
    "ExecuteTime": {
     "end_time": "2020-04-09T14:36:32.122904Z",
     "start_time": "2020-04-09T14:36:32.117661Z"
    },
    "deletable": false,
    "editable": false,
    "run_control": {
     "frozen": true
    }
   },
   "outputs": [],
   "source": [
    "wdaqua_answers = {}"
   ]
  },
  {
   "cell_type": "markdown",
   "metadata": {},
   "source": [
    "#### Get answers"
   ]
  },
  {
   "cell_type": "code",
   "execution_count": 76,
   "metadata": {
    "ExecuteTime": {
     "end_time": "2020-04-09T19:00:55.955632Z",
     "start_time": "2020-04-09T19:00:12.747055Z"
    }
   },
   "outputs": [
    {
     "data": {
      "application/vnd.jupyter.widget-view+json": {
       "model_id": "b3606503de984b6d85e688e782a5b5bf",
       "version_major": 2,
       "version_minor": 0
      },
      "text/plain": [
       "HBox(children=(IntProgress(value=0, max=1500), HTML(value='')))"
      ]
     },
     "metadata": {},
     "output_type": "display_data"
    }
   ],
   "source": [
    "for entry in tqdm(dataset):\n",
    "    uid = entry['uid']\n",
    "    if uid in answers:\n",
    "        continue\n",
    "    q = entry['question_eng']\n",
    "    resp = requests.post(\n",
    "        'http://qanswer-core1.univ-st-etienne.fr/api/gerbil', \n",
    "        data={\n",
    "            'query': q,\n",
    "            'lang': 'en',\n",
    "            'kb': 'wikidata'\n",
    "        }\n",
    "    ).json()\n",
    "    if 'questions' not in resp:\n",
    "        continue\n",
    "    \n",
    "    if not resp['questions'][0]['question']['answers']:\n",
    "        continue\n",
    "    \n",
    "    resp = json.loads(resp['questions'][0]['question']['answers'])\n",
    "    \n",
    "    answers[uid] = resp['results']['bindings']\n",
    "    \n",
    "    vs = resp['head']['vars']\n",
    "    if len(vs) > 1:\n",
    "        print(q)\n",
    "        print(resp)\n",
    "        print()\n",
    "    for v in vs:\n",
    "        variables.add(v)   "
   ]
  },
  {
   "cell_type": "code",
   "execution_count": 81,
   "metadata": {
    "ExecuteTime": {
     "end_time": "2020-04-09T21:53:04.139959Z",
     "start_time": "2020-04-09T21:53:04.129206Z"
    }
   },
   "outputs": [],
   "source": [
    "wdaqua_answers = answers"
   ]
  },
  {
   "cell_type": "markdown",
   "metadata": {},
   "source": [
    "#### Check answers (usual)"
   ]
  },
  {
   "cell_type": "code",
   "execution_count": 126,
   "metadata": {
    "ExecuteTime": {
     "end_time": "2020-04-10T18:22:17.523230Z",
     "start_time": "2020-04-10T18:22:17.516068Z"
    }
   },
   "outputs": [],
   "source": [
    "validation = {}"
   ]
  },
  {
   "cell_type": "code",
   "execution_count": 127,
   "metadata": {
    "ExecuteTime": {
     "end_time": "2020-04-10T18:23:45.939068Z",
     "start_time": "2020-04-10T18:23:45.766434Z"
    }
   },
   "outputs": [
    {
     "data": {
      "application/vnd.jupyter.widget-view+json": {
       "model_id": "c0011eb6513646e6ada115bd70ec88d1",
       "version_major": 2,
       "version_minor": 0
      },
      "text/plain": [
       "HBox(children=(IntProgress(value=0, max=1500), HTML(value='')))"
      ]
     },
     "metadata": {},
     "output_type": "display_data"
    }
   ],
   "source": [
    "for entry in tqdm(dataset):\n",
    "    uid = entry['uid']\n",
    "    answers = entry['answers']\n",
    "    if uid not in wdaqua_answers:\n",
    "        validation[uid] = 'wrong'\n",
    "        continue\n",
    "        \n",
    "    cnt_matches = [0 for _ in range(len(answers))]\n",
    "    cur_anses = [list(binding.values())[0] for binding in wdaqua_answers[uid]]\n",
    "    \n",
    "    if not cur_anses:\n",
    "        validation[uid] = 'not found'\n",
    "        continue\n",
    "    \n",
    "    error = False\n",
    "    for cur_ans in cur_anses:\n",
    "        cur_error = True\n",
    "        for i, act_ans in enumerate(answers):\n",
    "            if cur_ans['type'] == act_ans['type'] and cur_ans['value'] == act_ans['value']:\n",
    "                cur_error = False\n",
    "                cnt_matches[i] = 1\n",
    "                break\n",
    "        error = error | cur_error\n",
    "    if error:\n",
    "        validation[uid] = 'wrong'\n",
    "        continue\n",
    "    if sum(cnt_matches) == len(answers):\n",
    "        validation[uid] = 'correct'\n",
    "    else:\n",
    "        validation[uid] = 'contains'\n",
    "        "
   ]
  },
  {
   "cell_type": "code",
   "execution_count": 128,
   "metadata": {
    "ExecuteTime": {
     "end_time": "2020-04-10T18:23:50.856726Z",
     "start_time": "2020-04-10T18:23:50.842752Z"
    }
   },
   "outputs": [],
   "source": [
    "json_dump(validation, 'validation_results.json')\n"
   ]
  },
  {
   "cell_type": "markdown",
   "metadata": {},
   "source": [
    "#### Check answers (p@1)"
   ]
  },
  {
   "cell_type": "code",
   "execution_count": 148,
   "metadata": {
    "ExecuteTime": {
     "end_time": "2020-04-18T14:30:08.337778Z",
     "start_time": "2020-04-18T14:30:08.274451Z"
    }
   },
   "outputs": [
    {
     "data": {
      "application/vnd.jupyter.widget-view+json": {
       "model_id": "7a97a1abc5b546d4a93fe23f3edd55db",
       "version_major": 2,
       "version_minor": 0
      },
      "text/plain": [
       "HBox(children=(IntProgress(value=0, max=1500), HTML(value='')))"
      ]
     },
     "metadata": {},
     "output_type": "display_data"
    }
   ],
   "source": [
    "validation = {}\n",
    "for entry in tqdm(dataset):\n",
    "    uid = entry['uid']\n",
    "    answers = entry['answers']\n",
    "    if uid not in wdaqua_answers:\n",
    "        validation[uid] = 'wrong'\n",
    "        continue\n",
    "        \n",
    "    cur_anses = [list(binding.values())[0] for binding in wdaqua_answers[uid]]\n",
    "    \n",
    "    if not cur_anses:\n",
    "        validation[uid] = 'not found'\n",
    "        continue\n",
    "    \n",
    "    res = 'wrong'\n",
    "    for act_ans in answers:\n",
    "        if cur_anses[0]['type'] == act_ans['type'] and cur_anses[0]['value'] == act_ans['value']:\n",
    "            res = 'correct'\n",
    "    validation[uid] = res"
   ]
  },
  {
   "cell_type": "code",
   "execution_count": 150,
   "metadata": {
    "ExecuteTime": {
     "end_time": "2020-04-18T14:30:31.394520Z",
     "start_time": "2020-04-18T14:30:31.380598Z"
    }
   },
   "outputs": [],
   "source": [
    "json_dump(validation, 'validation_results_p1.json')"
   ]
  },
  {
   "cell_type": "markdown",
   "metadata": {},
   "source": [
    "#### Count statistics"
   ]
  },
  {
   "cell_type": "code",
   "execution_count": 151,
   "metadata": {
    "ExecuteTime": {
     "end_time": "2020-04-18T14:30:44.198308Z",
     "start_time": "2020-04-18T14:30:44.192177Z"
    }
   },
   "outputs": [],
   "source": [
    "validation = json_read('validation_results_p1.json')"
   ]
  },
  {
   "cell_type": "code",
   "execution_count": 152,
   "metadata": {
    "ExecuteTime": {
     "end_time": "2020-04-18T14:30:44.937006Z",
     "start_time": "2020-04-18T14:30:44.907101Z"
    }
   },
   "outputs": [
    {
     "name": "stdout",
     "output_type": "stream",
     "text": [
      "['exclusion', '1-hop', 'overall']\n",
      "['exclusion', '1-hop', 'overall']\n",
      "['reverse', '1-hop', 'overall']\n",
      "['reverse', '1-hop', 'overall']\n",
      "['qualifier-answer', 'multi-constraint', 'overall']\n",
      "['reverse', '1-hop', 'overall']\n",
      "['count', '1-hop', 'overall']\n",
      "['count', '1-hop', 'overall']\n"
     ]
    }
   ],
   "source": [
    "# test set answerable\n",
    "\n",
    "tagwise_results = {}\n",
    "for tag in tagset:\n",
    "    tagwise_results[tag] = {\n",
    "        'correct': 0,\n",
    "        'contains': 0,\n",
    "        'not found': 0,\n",
    "        'wrong': 0,\n",
    "        'manual': 0\n",
    "    }\n",
    "tagwise_results['overall'] = {\n",
    "        'correct': 0,\n",
    "        'contains': 0,\n",
    "        'not found': 0,\n",
    "        'wrong': 0,\n",
    "        'manual': 0\n",
    "    }\n",
    "\n",
    "for entry in dataset[:1200]:\n",
    "    uid = entry['uid']\n",
    "    if uid not in test_uids:\n",
    "        continue\n",
    "    tags = entry['tags'] + ['overall']\n",
    "    er = validation[str(uid)]\n",
    "    for tag in tags:\n",
    "        tagwise_results[tag][er] += 1\n",
    "    if len(tags) > 2 and er == 'correct':\n",
    "        print(tags)\n",
    "json_dump(tagwise_results, 'tagwise_results_on_test_p1.json')"
   ]
  },
  {
   "cell_type": "code",
   "execution_count": 130,
   "metadata": {
    "ExecuteTime": {
     "end_time": "2020-04-10T18:24:07.672960Z",
     "start_time": "2020-04-10T18:24:07.663583Z"
    }
   },
   "outputs": [],
   "source": [
    "# test set non-answerable\n",
    "\n",
    "na_results = {\n",
    "    'not found': 0,\n",
    "    'wrong': 0\n",
    "}\n",
    "\n",
    "for entry in dataset[1200:]:\n",
    "    uid = entry['uid']\n",
    "    if uid not in test_uids:\n",
    "        continue\n",
    "    tags = entry['tags'] + ['overall']\n",
    "    er = validation[uid]\n",
    "    na_results[er] += 1\n",
    "json_dump(na_results, 'na_results_on_test.json')"
   ]
  },
  {
   "cell_type": "code",
   "execution_count": 153,
   "metadata": {
    "ExecuteTime": {
     "end_time": "2020-04-18T14:44:55.473699Z",
     "start_time": "2020-04-18T14:44:55.453021Z"
    }
   },
   "outputs": [],
   "source": [
    "validation = json_read('validation_results.json')\n",
    "validation_p1 = json_read('validation_results_p1.json')"
   ]
  },
  {
   "cell_type": "code",
   "execution_count": 155,
   "metadata": {
    "ExecuteTime": {
     "end_time": "2020-04-18T14:47:09.694346Z",
     "start_time": "2020-04-18T14:47:09.625827Z"
    }
   },
   "outputs": [
    {
     "data": {
      "application/vnd.jupyter.widget-view+json": {
       "model_id": "23bc6aed05204dc4a2bd4ed2e733ea0c",
       "version_major": 2,
       "version_minor": 0
      },
      "text/plain": [
       "HBox(children=(IntProgress(value=0, max=1200), HTML(value='')))"
      ]
     },
     "metadata": {},
     "output_type": "display_data"
    },
    {
     "name": "stdout",
     "output_type": "stream",
     "text": [
      "Too many: 8\n",
      "Good job: 23\n"
     ]
    }
   ],
   "source": [
    "# check recall\n",
    "\n",
    "tm = 0\n",
    "gj = 0\n",
    "for entry in tqdm(dataset[:1200]):\n",
    "    uid = entry['uid']\n",
    "    answers = entry['answers']\n",
    "    if uid not in wdaqua_answers:\n",
    "        continue\n",
    "    \n",
    "    if validation_p1[str(uid)] == 'correct' and validation[str(uid)] == 'wrong':\n",
    "        tm += 1\n",
    "        \n",
    "    if len(answers) > 1 and validation[str(uid)] == 'correct':\n",
    "        gj += 1\n",
    "        \n",
    "print(f'Too many: {tm}')\n",
    "print(f'Good job: {gj}')"
   ]
  },
  {
   "cell_type": "code",
   "execution_count": null,
   "metadata": {},
   "outputs": [],
   "source": []
  },
  {
   "cell_type": "code",
   "execution_count": null,
   "metadata": {},
   "outputs": [],
   "source": []
  },
  {
   "cell_type": "code",
   "execution_count": null,
   "metadata": {},
   "outputs": [],
   "source": []
  },
  {
   "cell_type": "code",
   "execution_count": null,
   "metadata": {},
   "outputs": [],
   "source": []
  },
  {
   "cell_type": "code",
   "execution_count": null,
   "metadata": {},
   "outputs": [],
   "source": []
  },
  {
   "cell_type": "code",
   "execution_count": 101,
   "metadata": {
    "ExecuteTime": {
     "end_time": "2020-04-09T22:12:42.543548Z",
     "start_time": "2020-04-09T22:12:42.536056Z"
    }
   },
   "outputs": [
    {
     "data": {
      "text/plain": [
       "[{'year': {'datatype': 'http://www.w3.org/2001/XMLSchema#integer',\n",
       "   'type': 'literal',\n",
       "   'value': '1899'}}]"
      ]
     },
     "execution_count": 101,
     "metadata": {},
     "output_type": "execute_result"
    }
   ],
   "source": [
    "wdaqua_answers[3149]"
   ]
  },
  {
   "cell_type": "code",
   "execution_count": 112,
   "metadata": {
    "ExecuteTime": {
     "end_time": "2020-04-10T08:56:32.658311Z",
     "start_time": "2020-04-10T08:56:32.611696Z"
    }
   },
   "outputs": [
    {
     "data": {
      "text/plain": [
       "{0: 'correct',\n",
       " 1: 'wrong',\n",
       " 2: 'correct',\n",
       " 3: 'correct',\n",
       " 4: 'correct',\n",
       " 5: 'correct',\n",
       " 6: 'wrong',\n",
       " 7: 'wrong',\n",
       " 8: 'wrong',\n",
       " 9: 'wrong',\n",
       " 10: 'correct',\n",
       " 11: 'wrong',\n",
       " 12: 'wrong',\n",
       " 13: 'correct',\n",
       " 14: 'wrong',\n",
       " 15: 'wrong',\n",
       " 16: 'wrong',\n",
       " 17: 'correct',\n",
       " 18: 'wrong',\n",
       " 19: 'correct',\n",
       " 20: 'wrong',\n",
       " 21: 'wrong',\n",
       " 22: 'correct',\n",
       " 23: 'wrong',\n",
       " 24: 'wrong',\n",
       " 25: 'wrong',\n",
       " 26: 'wrong',\n",
       " 27: 'wrong',\n",
       " 28: 'wrong',\n",
       " 29: 'wrong',\n",
       " 30: 'correct',\n",
       " 31: 'wrong',\n",
       " 32: 'wrong',\n",
       " 33: 'wrong',\n",
       " 34: 'wrong',\n",
       " 36: 'wrong',\n",
       " 37: 'wrong',\n",
       " 38: 'wrong',\n",
       " 39: 'wrong',\n",
       " 40: 'correct',\n",
       " 41: 'wrong',\n",
       " 42: 'wrong',\n",
       " 43: 'wrong',\n",
       " 44: 'wrong',\n",
       " 45: 'wrong',\n",
       " 46: 'wrong',\n",
       " 47: 'wrong',\n",
       " 48: 'wrong',\n",
       " 49: 'correct',\n",
       " 50: 'correct',\n",
       " 51: 'correct',\n",
       " 52: 'wrong',\n",
       " 53: 'wrong',\n",
       " 54: 'wrong',\n",
       " 55: 'correct',\n",
       " 56: 'correct',\n",
       " 57: 'wrong',\n",
       " 58: 'correct',\n",
       " 59: 'wrong',\n",
       " 60: 'wrong',\n",
       " 61: 'wrong',\n",
       " 62: 'wrong',\n",
       " 63: 'wrong',\n",
       " 65: 'wrong',\n",
       " 66: 'correct',\n",
       " 67: 'wrong',\n",
       " 68: 'correct',\n",
       " 69: 'wrong',\n",
       " 70: 'wrong',\n",
       " 71: 'wrong',\n",
       " 72: 'wrong',\n",
       " 73: 'wrong',\n",
       " 74: 'wrong',\n",
       " 75: 'wrong',\n",
       " 76: 'wrong',\n",
       " 77: 'wrong',\n",
       " 78: 'wrong',\n",
       " 79: 'wrong',\n",
       " 80: 'wrong',\n",
       " 81: 'wrong',\n",
       " 82: 'wrong',\n",
       " 83: 'wrong',\n",
       " 84: 'wrong',\n",
       " 85: 'wrong',\n",
       " 86: 'wrong',\n",
       " 87: 'wrong',\n",
       " 88: 'wrong',\n",
       " 89: 'wrong',\n",
       " 90: 'wrong',\n",
       " 91: 'correct',\n",
       " 92: 'wrong',\n",
       " 93: 'wrong',\n",
       " 94: 'correct',\n",
       " 95: 'wrong',\n",
       " 96: 'wrong',\n",
       " 97: 'wrong',\n",
       " 98: 'correct',\n",
       " 99: 'wrong',\n",
       " 100: 'wrong',\n",
       " 101: 'wrong',\n",
       " 102: 'wrong',\n",
       " 103: 'wrong',\n",
       " 104: 'wrong',\n",
       " 105: 'wrong',\n",
       " 106: 'wrong',\n",
       " 107: 'wrong',\n",
       " 108: 'wrong',\n",
       " 109: 'wrong',\n",
       " 110: 'wrong',\n",
       " 111: 'wrong',\n",
       " 112: 'correct',\n",
       " 113: 'wrong',\n",
       " 114: 'wrong',\n",
       " 115: 'wrong',\n",
       " 117: 'wrong',\n",
       " 118: 'wrong',\n",
       " 119: 'wrong',\n",
       " 120: 'wrong',\n",
       " 121: 'correct',\n",
       " 123: 'wrong',\n",
       " 124: 'wrong',\n",
       " 126: 'wrong',\n",
       " 127: 'wrong',\n",
       " 128: 'correct',\n",
       " 129: 'wrong',\n",
       " 130: 'wrong',\n",
       " 131: 'wrong',\n",
       " 134: 'wrong',\n",
       " 135: 'wrong',\n",
       " 137: 'wrong',\n",
       " 138: 'wrong',\n",
       " 139: 'correct',\n",
       " 140: 'wrong',\n",
       " 141: 'wrong',\n",
       " 142: 'wrong',\n",
       " 143: 'correct',\n",
       " 144: 'wrong',\n",
       " 145: 'correct',\n",
       " 146: 'wrong',\n",
       " 147: 'wrong',\n",
       " 148: 'correct',\n",
       " 149: 'wrong',\n",
       " 150: 'correct',\n",
       " 151: 'wrong',\n",
       " 152: 'wrong',\n",
       " 153: 'wrong',\n",
       " 154: 'wrong',\n",
       " 155: 'wrong',\n",
       " 156: 'wrong',\n",
       " 157: 'wrong',\n",
       " 158: 'wrong',\n",
       " 159: 'wrong',\n",
       " 160: 'wrong',\n",
       " 161: 'wrong',\n",
       " 162: 'wrong',\n",
       " 163: 'wrong',\n",
       " 164: 'correct',\n",
       " 165: 'wrong',\n",
       " 166: 'wrong',\n",
       " 167: 'wrong',\n",
       " 168: 'wrong',\n",
       " 169: 'wrong',\n",
       " 170: 'wrong',\n",
       " 171: 'wrong',\n",
       " 172: 'wrong',\n",
       " 173: 'wrong',\n",
       " 174: 'wrong',\n",
       " 175: 'wrong',\n",
       " 176: 'wrong',\n",
       " 177: 'correct',\n",
       " 178: 'correct',\n",
       " 179: 'wrong',\n",
       " 180: 'wrong',\n",
       " 181: 'wrong',\n",
       " 182: 'wrong',\n",
       " 183: 'wrong',\n",
       " 184: 'correct',\n",
       " 185: 'correct',\n",
       " 186: 'wrong',\n",
       " 187: 'wrong',\n",
       " 188: 'correct',\n",
       " 189: 'wrong',\n",
       " 190: 'wrong',\n",
       " 191: 'correct',\n",
       " 192: 'wrong',\n",
       " 193: 'wrong',\n",
       " 194: 'correct',\n",
       " 195: 'wrong',\n",
       " 196: 'wrong',\n",
       " 197: 'wrong',\n",
       " 198: 'wrong',\n",
       " 199: 'wrong',\n",
       " 200: 'wrong',\n",
       " 201: 'wrong',\n",
       " 202: 'wrong',\n",
       " 203: 'wrong',\n",
       " 204: 'wrong',\n",
       " 205: 'correct',\n",
       " 206: 'wrong',\n",
       " 207: 'wrong',\n",
       " 208: 'wrong',\n",
       " 209: 'wrong',\n",
       " 210: 'wrong',\n",
       " 211: 'wrong',\n",
       " 212: 'wrong',\n",
       " 213: 'wrong',\n",
       " 214: 'correct',\n",
       " 215: 'wrong',\n",
       " 216: 'wrong',\n",
       " 217: 'wrong',\n",
       " 218: 'wrong',\n",
       " 219: 'wrong',\n",
       " 220: 'wrong',\n",
       " 221: 'correct',\n",
       " 222: 'wrong',\n",
       " 223: 'wrong',\n",
       " 224: 'wrong',\n",
       " 225: 'wrong',\n",
       " 226: 'wrong',\n",
       " 227: 'wrong',\n",
       " 228: 'wrong',\n",
       " 229: 'correct',\n",
       " 231: 'correct',\n",
       " 232: 'wrong',\n",
       " 233: 'wrong',\n",
       " 234: 'correct',\n",
       " 235: 'wrong',\n",
       " 236: 'wrong',\n",
       " 237: 'wrong',\n",
       " 238: 'wrong',\n",
       " 240: 'wrong',\n",
       " 241: 'wrong',\n",
       " 242: 'wrong',\n",
       " 243: 'wrong',\n",
       " 244: 'correct',\n",
       " 245: 'wrong',\n",
       " 246: 'wrong',\n",
       " 247: 'wrong',\n",
       " 248: 'wrong',\n",
       " 249: 'correct',\n",
       " 250: 'correct',\n",
       " 251: 'wrong',\n",
       " 252: 'wrong',\n",
       " 253: 'correct',\n",
       " 254: 'correct',\n",
       " 256: 'wrong',\n",
       " 257: 'wrong',\n",
       " 258: 'wrong',\n",
       " 259: 'wrong',\n",
       " 260: 'wrong',\n",
       " 261: 'wrong',\n",
       " 262: 'correct',\n",
       " 263: 'wrong',\n",
       " 264: 'wrong',\n",
       " 265: 'wrong',\n",
       " 266: 'wrong',\n",
       " 267: 'wrong',\n",
       " 268: 'wrong',\n",
       " 269: 'correct',\n",
       " 271: 'wrong',\n",
       " 272: 'wrong',\n",
       " 273: 'correct',\n",
       " 274: 'wrong',\n",
       " 275: 'wrong',\n",
       " 276: 'wrong',\n",
       " 277: 'wrong',\n",
       " 278: 'wrong',\n",
       " 279: 'wrong',\n",
       " 280: 'correct',\n",
       " 281: 'wrong',\n",
       " 282: 'wrong',\n",
       " 283: 'wrong',\n",
       " 284: 'wrong',\n",
       " 285: 'wrong',\n",
       " 286: 'wrong',\n",
       " 287: 'correct',\n",
       " 288: 'correct',\n",
       " 289: 'wrong',\n",
       " 290: 'correct',\n",
       " 291: 'correct',\n",
       " 292: 'wrong',\n",
       " 293: 'correct',\n",
       " 294: 'wrong',\n",
       " 295: 'wrong',\n",
       " 296: 'correct',\n",
       " 297: 'wrong',\n",
       " 298: 'wrong',\n",
       " 299: 'wrong',\n",
       " 300: 'wrong',\n",
       " 301: 'correct',\n",
       " 302: 'wrong',\n",
       " 303: 'wrong',\n",
       " 304: 'wrong',\n",
       " 305: 'wrong',\n",
       " 306: 'wrong',\n",
       " 307: 'wrong',\n",
       " 308: 'wrong',\n",
       " 309: 'wrong',\n",
       " 310: 'wrong',\n",
       " 311: 'correct',\n",
       " 312: 'wrong',\n",
       " 313: 'wrong',\n",
       " 314: 'wrong',\n",
       " 315: 'correct',\n",
       " 316: 'wrong',\n",
       " 317: 'wrong',\n",
       " 318: 'correct',\n",
       " 319: 'wrong',\n",
       " 320: 'correct',\n",
       " 321: 'wrong',\n",
       " 322: 'wrong',\n",
       " 323: 'wrong',\n",
       " 324: 'wrong',\n",
       " 325: 'correct',\n",
       " 326: 'wrong',\n",
       " 327: 'wrong',\n",
       " 328: 'wrong',\n",
       " 329: 'wrong',\n",
       " 330: 'wrong',\n",
       " 331: 'wrong',\n",
       " 332: 'wrong',\n",
       " 333: 'wrong',\n",
       " 334: 'wrong',\n",
       " 335: 'wrong',\n",
       " 336: 'wrong',\n",
       " 337: 'wrong',\n",
       " 338: 'wrong',\n",
       " 339: 'wrong',\n",
       " 340: 'correct',\n",
       " 341: 'correct',\n",
       " 342: 'wrong',\n",
       " 343: 'wrong',\n",
       " 344: 'wrong',\n",
       " 345: 'wrong',\n",
       " 346: 'wrong',\n",
       " 347: 'wrong',\n",
       " 348: 'wrong',\n",
       " 349: 'wrong',\n",
       " 350: 'wrong',\n",
       " 351: 'wrong',\n",
       " 352: 'wrong',\n",
       " 353: 'wrong',\n",
       " 354: 'incorrect',\n",
       " 355: 'correct',\n",
       " 356: 'wrong',\n",
       " 357: 'wrong',\n",
       " 358: 'wrong',\n",
       " 359: 'correct',\n",
       " 360: 'wrong',\n",
       " 361: 'correct',\n",
       " 362: 'wrong',\n",
       " 363: 'correct',\n",
       " 364: 'correct',\n",
       " 365: 'correct',\n",
       " 366: 'correct',\n",
       " 367: 'wrong',\n",
       " 368: 'wrong',\n",
       " 369: 'wrong',\n",
       " 370: 'wrong',\n",
       " 371: 'wrong',\n",
       " 372: 'wrong',\n",
       " 373: 'wrong',\n",
       " 374: 'wrong',\n",
       " 375: 'wrong',\n",
       " 376: 'wrong',\n",
       " 377: 'wrong',\n",
       " 378: 'wrong',\n",
       " 379: 'wrong',\n",
       " 380: 'wrong',\n",
       " 381: 'wrong',\n",
       " 382: 'wrong',\n",
       " 383: 'wrong',\n",
       " 384: 'correct',\n",
       " 385: 'correct',\n",
       " 386: 'wrong',\n",
       " 387: 'correct',\n",
       " 388: 'wrong',\n",
       " 389: 'wrong',\n",
       " 390: 'wrong',\n",
       " 391: 'correct',\n",
       " 392: 'wrong',\n",
       " 393: 'wrong',\n",
       " 394: 'wrong',\n",
       " 395: 'wrong',\n",
       " 396: 'wrong',\n",
       " 397: 'wrong',\n",
       " 398: 'wrong',\n",
       " 399: 'wrong',\n",
       " 400: 'wrong',\n",
       " 401: 'wrong',\n",
       " 402: 'wrong',\n",
       " 403: 'wrong',\n",
       " 404: 'wrong',\n",
       " 405: 'wrong',\n",
       " 406: 'wrong',\n",
       " 407: 'wrong',\n",
       " 408: 'correct',\n",
       " 409: 'wrong',\n",
       " 410: 'wrong',\n",
       " 411: 'correct',\n",
       " 412: 'correct',\n",
       " 413: 'wrong',\n",
       " 414: 'wrong',\n",
       " 415: 'wrong',\n",
       " 416: 'wrong',\n",
       " 417: 'wrong',\n",
       " 418: 'wrong',\n",
       " 419: 'wrong',\n",
       " 420: 'wrong',\n",
       " 421: 'wrong',\n",
       " 422: 'wrong',\n",
       " 423: 'wrong',\n",
       " 424: 'wrong',\n",
       " 425: 'wrong',\n",
       " 426: 'correct',\n",
       " 427: 'wrong',\n",
       " 428: 'wrong',\n",
       " 429: 'wrong',\n",
       " 430: 'wrong',\n",
       " 431: 'wrong',\n",
       " 432: 'wrong',\n",
       " 433: 'wrong',\n",
       " 434: 'wrong',\n",
       " 435: 'wrong',\n",
       " 436: 'wrong',\n",
       " 437: 'wrong',\n",
       " 438: 'wrong',\n",
       " 439: 'wrong',\n",
       " 440: 'wrong',\n",
       " 441: 'correct',\n",
       " 442: 'wrong',\n",
       " 443: 'wrong',\n",
       " 444: 'wrong',\n",
       " 445: 'correct',\n",
       " 446: 'correct',\n",
       " 447: 'correct',\n",
       " 448: 'wrong',\n",
       " 450: 'wrong',\n",
       " 451: 'wrong',\n",
       " 452: 'wrong',\n",
       " 453: 'wrong',\n",
       " 454: 'wrong',\n",
       " 455: 'wrong',\n",
       " 456: 'wrong',\n",
       " 457: 'wrong',\n",
       " 458: 'wrong',\n",
       " 459: 'wrong',\n",
       " 460: 'wrong',\n",
       " 461: 'wrong',\n",
       " 462: 'correct',\n",
       " 463: 'wrong',\n",
       " 464: 'wrong',\n",
       " 465: 'correct',\n",
       " 466: 'wrong',\n",
       " 467: 'wrong',\n",
       " 468: 'wrong',\n",
       " 469: 'correct',\n",
       " 470: 'wrong',\n",
       " 471: 'wrong',\n",
       " 472: 'wrong',\n",
       " 473: 'wrong',\n",
       " 474: 'wrong',\n",
       " 475: 'correct',\n",
       " 477: 'correct',\n",
       " 478: 'wrong',\n",
       " 479: 'wrong',\n",
       " 480: 'wrong',\n",
       " 481: 'wrong',\n",
       " 482: 'wrong',\n",
       " 483: 'wrong',\n",
       " 484: 'wrong',\n",
       " 485: 'correct',\n",
       " 486: 'wrong',\n",
       " 487: 'wrong',\n",
       " 488: 'wrong',\n",
       " 489: 'wrong',\n",
       " 490: 'wrong',\n",
       " 491: 'wrong',\n",
       " 492: 'wrong',\n",
       " 493: 'correct',\n",
       " 494: 'wrong',\n",
       " 495: 'wrong',\n",
       " 496: 'wrong',\n",
       " 497: 'wrong',\n",
       " 498: 'wrong',\n",
       " 499: 'correct',\n",
       " 500: 'wrong',\n",
       " 501: 'wrong',\n",
       " 502: 'wrong',\n",
       " 503: 'wrong',\n",
       " 504: 'wrong',\n",
       " 505: 'wrong',\n",
       " 506: 'correct',\n",
       " 507: 'correct',\n",
       " 508: 'wrong',\n",
       " 509: 'wrong',\n",
       " 510: 'wrong',\n",
       " 511: 'wrong',\n",
       " 512: 'wrong',\n",
       " 513: 'wrong',\n",
       " 514: 'wrong',\n",
       " 515: 'wrong',\n",
       " 516: 'wrong',\n",
       " 517: 'correct',\n",
       " 518: 'wrong',\n",
       " 519: 'wrong',\n",
       " 520: 'correct',\n",
       " 521: 'wrong',\n",
       " 522: 'wrong',\n",
       " 523: 'wrong',\n",
       " 524: 'correct',\n",
       " 525: 'correct',\n",
       " 526: 'wrong',\n",
       " 527: 'wrong',\n",
       " 528: 'wrong',\n",
       " 529: 'wrong',\n",
       " 530: 'wrong',\n",
       " 531: 'wrong',\n",
       " 532: 'wrong',\n",
       " 533: 'wrong',\n",
       " 534: 'wrong',\n",
       " 535: 'wrong',\n",
       " 536: 'correct',\n",
       " 537: 'correct',\n",
       " 538: 'wrong',\n",
       " 539: 'wrong',\n",
       " 540: 'wrong',\n",
       " 541: 'wrong',\n",
       " 542: 'wrong',\n",
       " 543: 'wrong',\n",
       " 544: 'wrong',\n",
       " 545: 'wrong',\n",
       " 546: 'wrong',\n",
       " 547: 'wrong',\n",
       " 548: 'correct',\n",
       " 549: 'correct',\n",
       " 550: 'wrong',\n",
       " 551: 'wrong',\n",
       " 552: 'wrong',\n",
       " 553: 'wrong',\n",
       " 554: 'correct',\n",
       " 555: 'wrong',\n",
       " 556: 'correct',\n",
       " 557: 'wrong',\n",
       " 558: 'wrong',\n",
       " 559: 'wrong',\n",
       " 560: 'correct',\n",
       " 561: 'wrong',\n",
       " 562: 'wrong',\n",
       " 563: 'wrong',\n",
       " 564: 'wrong',\n",
       " 565: 'correct',\n",
       " 566: 'wrong',\n",
       " 567: 'wrong',\n",
       " 568: 'wrong',\n",
       " 569: 'wrong',\n",
       " 570: 'wrong',\n",
       " 571: 'wrong',\n",
       " 572: 'wrong',\n",
       " 573: 'wrong',\n",
       " 574: 'correct',\n",
       " 575: 'wrong',\n",
       " 576: 'wrong',\n",
       " 577: 'wrong',\n",
       " 578: 'wrong',\n",
       " 579: 'wrong',\n",
       " 580: 'wrong',\n",
       " 581: 'wrong',\n",
       " 582: 'correct',\n",
       " 583: 'wrong',\n",
       " 584: 'wrong',\n",
       " 585: 'wrong',\n",
       " 586: 'wrong',\n",
       " 587: 'wrong',\n",
       " 588: 'wrong',\n",
       " 589: 'incorrect',\n",
       " 590: 'correct',\n",
       " 591: 'correct',\n",
       " 592: 'wrong',\n",
       " 593: 'wrong',\n",
       " 594: 'wrong',\n",
       " 595: 'wrong',\n",
       " 596: 'wrong',\n",
       " 597: 'correct',\n",
       " 598: 'correct',\n",
       " 599: 'correct',\n",
       " 600: 'wrong',\n",
       " 601: 'wrong',\n",
       " 602: 'wrong',\n",
       " 603: 'correct',\n",
       " 604: 'wrong',\n",
       " 605: 'wrong',\n",
       " 606: 'wrong',\n",
       " 607: 'wrong',\n",
       " 608: 'wrong',\n",
       " 609: 'correct',\n",
       " 611: 'correct',\n",
       " 612: 'correct',\n",
       " 613: 'wrong',\n",
       " 614: 'wrong',\n",
       " 615: 'wrong',\n",
       " 616: 'wrong',\n",
       " 617: 'wrong',\n",
       " 618: 'wrong',\n",
       " 619: 'wrong',\n",
       " 620: 'correct',\n",
       " 621: 'wrong',\n",
       " 622: 'incorrect',\n",
       " 623: 'wrong',\n",
       " 624: 'wrong',\n",
       " 625: 'wrong',\n",
       " 626: 'wrong',\n",
       " 627: 'wrong',\n",
       " 628: 'wrong',\n",
       " 629: 'wrong',\n",
       " 630: 'wrong',\n",
       " 631: 'wrong',\n",
       " 632: 'correct',\n",
       " 633: 'wrong',\n",
       " 634: 'wrong',\n",
       " 635: 'correct',\n",
       " 636: 'correct',\n",
       " 637: 'correct',\n",
       " 638: 'wrong',\n",
       " 639: 'wrong',\n",
       " 640: 'contains',\n",
       " 641: 'wrong',\n",
       " 642: 'wrong',\n",
       " 643: 'wrong',\n",
       " 644: 'wrong',\n",
       " 645: 'wrong',\n",
       " 646: 'wrong',\n",
       " 647: 'wrong',\n",
       " 648: 'wrong',\n",
       " 649: 'wrong',\n",
       " 650: 'wrong',\n",
       " 651: 'wrong',\n",
       " 652: 'wrong',\n",
       " 653: 'wrong',\n",
       " 654: 'wrong',\n",
       " 655: 'wrong',\n",
       " 657: 'correct',\n",
       " 658: 'wrong',\n",
       " 659: 'wrong',\n",
       " 660: 'wrong',\n",
       " 661: 'wrong',\n",
       " 662: 'correct',\n",
       " 663: 'wrong',\n",
       " 664: 'correct',\n",
       " 665: 'correct',\n",
       " 666: 'correct',\n",
       " 667: 'wrong',\n",
       " 668: 'correct',\n",
       " 669: 'wrong',\n",
       " 670: 'wrong',\n",
       " 671: 'wrong',\n",
       " 672: 'correct',\n",
       " 673: 'wrong',\n",
       " 675: 'wrong',\n",
       " 676: 'wrong',\n",
       " 677: 'wrong',\n",
       " 678: 'correct',\n",
       " 679: 'correct',\n",
       " 680: 'correct',\n",
       " 681: 'wrong',\n",
       " 682: 'wrong',\n",
       " 683: 'wrong',\n",
       " 684: 'wrong',\n",
       " 685: 'wrong',\n",
       " 686: 'wrong',\n",
       " 687: 'wrong',\n",
       " 688: 'incorrect',\n",
       " 689: 'wrong',\n",
       " 690: 'wrong',\n",
       " 691: 'wrong',\n",
       " 692: 'correct',\n",
       " 693: 'wrong',\n",
       " 694: 'wrong',\n",
       " 695: 'wrong',\n",
       " 696: 'wrong',\n",
       " 697: 'wrong',\n",
       " 698: 'wrong',\n",
       " 699: 'wrong',\n",
       " 700: 'wrong',\n",
       " 701: 'wrong',\n",
       " 702: 'wrong',\n",
       " 703: 'wrong',\n",
       " 704: 'wrong',\n",
       " 705: 'wrong',\n",
       " 706: 'wrong',\n",
       " 707: 'wrong',\n",
       " 708: 'wrong',\n",
       " 710: 'wrong',\n",
       " 711: 'wrong',\n",
       " 712: 'wrong',\n",
       " 713: 'correct',\n",
       " 714: 'wrong',\n",
       " 715: 'wrong',\n",
       " 716: 'correct',\n",
       " 717: 'wrong',\n",
       " 718: 'wrong',\n",
       " 719: 'wrong',\n",
       " 720: 'wrong',\n",
       " 721: 'correct',\n",
       " 722: 'wrong',\n",
       " 723: 'wrong',\n",
       " 724: 'wrong',\n",
       " 725: 'wrong',\n",
       " 726: 'wrong',\n",
       " 727: 'wrong',\n",
       " 728: 'wrong',\n",
       " 729: 'wrong',\n",
       " 730: 'wrong',\n",
       " 731: 'wrong',\n",
       " 732: 'wrong',\n",
       " 733: 'wrong',\n",
       " 734: 'wrong',\n",
       " 735: 'wrong',\n",
       " 736: 'wrong',\n",
       " 737: 'correct',\n",
       " 738: 'wrong',\n",
       " 739: 'wrong',\n",
       " 740: 'wrong',\n",
       " 741: 'wrong',\n",
       " 742: 'wrong',\n",
       " 744: 'wrong',\n",
       " 745: 'wrong',\n",
       " 746: 'wrong',\n",
       " 747: 'wrong',\n",
       " 748: 'wrong',\n",
       " 749: 'correct',\n",
       " 750: 'wrong',\n",
       " 751: 'wrong',\n",
       " 752: 'wrong',\n",
       " 753: 'wrong',\n",
       " 754: 'wrong',\n",
       " 755: 'wrong',\n",
       " 756: 'wrong',\n",
       " 757: 'wrong',\n",
       " 758: 'correct',\n",
       " 759: 'wrong',\n",
       " 760: 'wrong',\n",
       " 761: 'wrong',\n",
       " 762: 'wrong',\n",
       " 763: 'wrong',\n",
       " 764: 'correct',\n",
       " 765: 'wrong',\n",
       " 766: 'wrong',\n",
       " 767: 'wrong',\n",
       " 768: 'wrong',\n",
       " 769: 'wrong',\n",
       " 770: 'wrong',\n",
       " 771: 'wrong',\n",
       " 772: 'wrong',\n",
       " 773: 'wrong',\n",
       " 774: 'wrong',\n",
       " 775: 'wrong',\n",
       " 776: 'wrong',\n",
       " 777: 'wrong',\n",
       " 778: 'wrong',\n",
       " 779: 'wrong',\n",
       " 780: 'correct',\n",
       " 781: 'wrong',\n",
       " 782: 'wrong',\n",
       " 783: 'correct',\n",
       " 784: 'wrong',\n",
       " 785: 'incorrect',\n",
       " 786: 'correct',\n",
       " 787: 'wrong',\n",
       " 788: 'wrong',\n",
       " 789: 'wrong',\n",
       " 790: 'correct',\n",
       " 791: 'wrong',\n",
       " 792: 'correct',\n",
       " 793: 'wrong',\n",
       " 794: 'wrong',\n",
       " 795: 'wrong',\n",
       " 796: 'wrong',\n",
       " 797: 'wrong',\n",
       " 798: 'wrong',\n",
       " 799: 'wrong',\n",
       " 800: 'wrong',\n",
       " 801: 'wrong',\n",
       " 802: 'wrong',\n",
       " 803: 'wrong',\n",
       " 804: 'wrong',\n",
       " 805: 'correct',\n",
       " 806: 'wrong',\n",
       " 807: 'wrong',\n",
       " 808: 'wrong',\n",
       " 809: 'wrong',\n",
       " 810: 'wrong',\n",
       " 811: 'wrong',\n",
       " 812: 'wrong',\n",
       " 813: 'wrong',\n",
       " 814: 'wrong',\n",
       " 815: 'wrong',\n",
       " 816: 'wrong',\n",
       " 817: 'wrong',\n",
       " 818: 'contains',\n",
       " 819: 'wrong',\n",
       " 820: 'wrong',\n",
       " 821: 'wrong',\n",
       " 823: 'correct',\n",
       " 824: 'wrong',\n",
       " 825: 'wrong',\n",
       " 826: 'wrong',\n",
       " 827: 'wrong',\n",
       " 828: 'wrong',\n",
       " 829: 'wrong',\n",
       " 830: 'correct',\n",
       " 831: 'wrong',\n",
       " 832: 'wrong',\n",
       " 833: 'wrong',\n",
       " 834: 'wrong',\n",
       " 835: 'wrong',\n",
       " 836: 'wrong',\n",
       " 837: 'correct',\n",
       " 838: 'correct',\n",
       " 839: 'wrong',\n",
       " 840: 'wrong',\n",
       " 841: 'wrong',\n",
       " 842: 'wrong',\n",
       " 843: 'wrong',\n",
       " 844: 'correct',\n",
       " 845: 'wrong',\n",
       " 846: 'correct',\n",
       " 847: 'wrong',\n",
       " 848: 'wrong',\n",
       " 849: 'wrong',\n",
       " 850: 'wrong',\n",
       " 851: 'wrong',\n",
       " 852: 'wrong',\n",
       " 853: 'wrong',\n",
       " 854: 'wrong',\n",
       " 855: 'wrong',\n",
       " 856: 'wrong',\n",
       " 858: 'wrong',\n",
       " 859: 'wrong',\n",
       " 860: 'wrong',\n",
       " 861: 'wrong',\n",
       " 862: 'wrong',\n",
       " 863: 'wrong',\n",
       " 864: 'wrong',\n",
       " 865: 'wrong',\n",
       " 866: 'wrong',\n",
       " 1000: 'wrong',\n",
       " 1001: 'wrong',\n",
       " 1002: 'wrong',\n",
       " 1003: 'wrong',\n",
       " 1004: 'wrong',\n",
       " 1005: 'wrong',\n",
       " 1006: 'wrong',\n",
       " 1007: 'wrong',\n",
       " 1008: 'wrong',\n",
       " 1009: 'wrong',\n",
       " 1010: 'wrong',\n",
       " 1011: 'wrong',\n",
       " 1012: 'wrong',\n",
       " 1013: 'wrong',\n",
       " 1014: 'wrong',\n",
       " 1015: 'wrong',\n",
       " 1016: 'wrong',\n",
       " 1017: 'wrong',\n",
       " 1019: 'wrong',\n",
       " 1020: 'wrong',\n",
       " 1021: 'wrong',\n",
       " 1022: 'wrong',\n",
       " 1023: 'wrong',\n",
       " 1024: 'wrong',\n",
       " 1025: 'wrong',\n",
       " 1026: 'wrong',\n",
       " 1027: 'wrong',\n",
       " 1028: 'wrong',\n",
       " 1029: 'wrong',\n",
       " 1030: 'wrong',\n",
       " 1031: 'wrong',\n",
       " 1032: 'wrong',\n",
       " 1033: 'wrong',\n",
       " 1034: 'wrong',\n",
       " 1035: 'wrong',\n",
       " 1036: 'wrong',\n",
       " 1037: 'wrong',\n",
       " 1038: 'wrong',\n",
       " 1039: 'wrong',\n",
       " 1040: 'wrong',\n",
       " 1041: 'wrong',\n",
       " 1042: 'wrong',\n",
       " 1043: 'wrong',\n",
       " 1044: 'wrong',\n",
       " 1045: 'wrong',\n",
       " 1046: 'incorrect',\n",
       " 1047: 'wrong',\n",
       " 1048: 'wrong',\n",
       " 1049: 'wrong',\n",
       " 1050: 'wrong',\n",
       " 1051: 'wrong',\n",
       " 1052: 'wrong',\n",
       " 1053: 'wrong',\n",
       " 1054: 'wrong',\n",
       " 2000: 'wrong',\n",
       " 2001: 'wrong',\n",
       " 2002: 'wrong',\n",
       " 2003: 'wrong',\n",
       " 2004: 'correct',\n",
       " 2005: 'wrong',\n",
       " 2006: 'wrong',\n",
       " 2007: 'wrong',\n",
       " 2008: 'wrong',\n",
       " 2009: 'wrong',\n",
       " 2010: 'wrong',\n",
       " 2011: 'wrong',\n",
       " 2012: 'wrong',\n",
       " 2013: 'wrong',\n",
       " 2014: 'wrong',\n",
       " 2015: 'wrong',\n",
       " 2016: 'wrong',\n",
       " 2017: 'wrong',\n",
       " 2018: 'wrong',\n",
       " 2019: 'wrong',\n",
       " 2020: 'wrong',\n",
       " 2021: 'wrong',\n",
       " 2022: 'wrong',\n",
       " 2023: 'wrong',\n",
       " 2024: 'wrong',\n",
       " 2025: 'wrong',\n",
       " 2026: 'correct',\n",
       " 2027: 'wrong',\n",
       " 2028: 'wrong',\n",
       " 2029: 'wrong',\n",
       " 2030: 'correct',\n",
       " 2031: 'wrong',\n",
       " 2032: 'wrong',\n",
       " 2033: 'wrong',\n",
       " 2034: 'wrong',\n",
       " 2035: 'wrong',\n",
       " 2036: 'wrong',\n",
       " 2037: 'wrong',\n",
       " 2038: 'wrong',\n",
       " 2039: 'wrong',\n",
       " 2040: 'wrong',\n",
       " 2041: 'wrong',\n",
       " 2042: 'wrong',\n",
       " 2043: 'wrong',\n",
       " 2044: 'wrong',\n",
       " 2045: 'wrong',\n",
       " 2046: 'wrong',\n",
       " 2047: 'wrong',\n",
       " 2048: 'wrong',\n",
       " 2049: 'wrong',\n",
       " 2050: 'wrong',\n",
       " 2051: 'wrong',\n",
       " 2052: 'wrong',\n",
       " 2053: 'wrong',\n",
       " 2054: 'wrong',\n",
       " 2055: 'wrong',\n",
       " 2056: 'wrong',\n",
       " 2057: 'wrong',\n",
       " 2058: 'wrong',\n",
       " 2059: 'wrong',\n",
       " 2060: 'wrong',\n",
       " 2061: 'wrong',\n",
       " 2062: 'wrong',\n",
       " 2063: 'wrong',\n",
       " 2064: 'wrong',\n",
       " 2065: 'wrong',\n",
       " 2066: 'wrong',\n",
       " 2067: 'wrong',\n",
       " 2068: 'wrong',\n",
       " 2069: 'wrong',\n",
       " 2070: 'wrong',\n",
       " 2071: 'wrong',\n",
       " 2072: 'wrong',\n",
       " 2073: 'wrong',\n",
       " 2074: 'wrong',\n",
       " 2075: 'wrong',\n",
       " 2076: 'wrong',\n",
       " 2077: 'wrong',\n",
       " 2078: 'wrong',\n",
       " 2079: 'wrong',\n",
       " 2080: 'wrong',\n",
       " 2081: 'wrong',\n",
       " 2082: 'wrong',\n",
       " 2083: 'correct',\n",
       " 2084: 'wrong',\n",
       " 2085: 'wrong',\n",
       " 2086: 'wrong',\n",
       " 2087: 'wrong',\n",
       " 2088: 'wrong',\n",
       " 2089: 'wrong',\n",
       " 2090: 'wrong',\n",
       " 2091: 'wrong',\n",
       " 2092: 'wrong',\n",
       " 2093: 'wrong',\n",
       " 2094: 'wrong',\n",
       " 2095: 'wrong',\n",
       " 2096: 'wrong',\n",
       " 2097: 'wrong',\n",
       " 2098: 'wrong',\n",
       " 2099: 'wrong',\n",
       " ...}"
      ]
     },
     "execution_count": 112,
     "metadata": {},
     "output_type": "execute_result"
    }
   ],
   "source": [
    "validation"
   ]
  },
  {
   "cell_type": "code",
   "execution_count": null,
   "metadata": {},
   "outputs": [],
   "source": []
  },
  {
   "cell_type": "code",
   "execution_count": null,
   "metadata": {},
   "outputs": [],
   "source": []
  },
  {
   "cell_type": "code",
   "execution_count": null,
   "metadata": {},
   "outputs": [],
   "source": []
  },
  {
   "cell_type": "code",
   "execution_count": 141,
   "metadata": {
    "ExecuteTime": {
     "end_time": "2020-04-10T18:47:16.816022Z",
     "start_time": "2020-04-10T18:47:12.558563Z"
    }
   },
   "outputs": [],
   "source": [
    "resp = requests.post(\n",
    "    'http://qanswer-core1.univ-st-etienne.fr/api/gerbil', \n",
    "    data={\n",
    "        'query': 'What document, signed on 7 February 1992, marked the beginning of the European Union?',\n",
    "        'lang': 'en',\n",
    "        'kb': 'wikidata'\n",
    "    }\n",
    ")"
   ]
  },
  {
   "cell_type": "code",
   "execution_count": 142,
   "metadata": {
    "ExecuteTime": {
     "end_time": "2020-04-10T18:47:20.003351Z",
     "start_time": "2020-04-10T18:47:19.995871Z"
    }
   },
   "outputs": [
    {
     "data": {
      "text/plain": [
       "{'questions': [{'question': {'answers': None,\n",
       "    'language': [{'SPARQL': 'SELECT ?s1  WHERE {FILTER ( ?o10 = ). \\n\\t ?s1  ?p1  <http://www.wikidata.org/entity/Q49848> . \\n\\t ?s1  ?p2  <http://www.wikidata.org/entity/Q458> . \\n\\t ?s1  <http://www.wikidata.org/prop/direct/P580>  ?o10 . \\n}    LIMIT 1000',\n",
       "      'confidence': 0.5984673041672385}]}}]}"
      ]
     },
     "execution_count": 142,
     "metadata": {},
     "output_type": "execute_result"
    }
   ],
   "source": [
    "resp.json()"
   ]
  },
  {
   "cell_type": "code",
   "execution_count": 68,
   "metadata": {
    "ExecuteTime": {
     "end_time": "2020-04-09T18:21:45.710634Z",
     "start_time": "2020-04-09T18:21:45.702728Z"
    }
   },
   "outputs": [
    {
     "data": {
      "text/plain": [
       "3010"
      ]
     },
     "execution_count": 68,
     "metadata": {},
     "output_type": "execute_result"
    }
   ],
   "source": [
    "dataset[1034]['uid']"
   ]
  },
  {
   "cell_type": "code",
   "execution_count": 77,
   "metadata": {
    "ExecuteTime": {
     "end_time": "2020-04-09T21:47:04.642245Z",
     "start_time": "2020-04-09T21:47:04.586287Z"
    }
   },
   "outputs": [
    {
     "data": {
      "text/plain": [
       "1491"
      ]
     },
     "execution_count": 77,
     "metadata": {},
     "output_type": "execute_result"
    }
   ],
   "source": [
    "len(answers)"
   ]
  },
  {
   "cell_type": "code",
   "execution_count": 72,
   "metadata": {
    "ExecuteTime": {
     "end_time": "2020-04-09T18:38:32.118574Z",
     "start_time": "2020-04-09T18:38:32.111437Z"
    }
   },
   "outputs": [
    {
     "data": {
      "text/plain": [
       "\"What was Odysseus ' father's name?\""
      ]
     },
     "execution_count": 72,
     "metadata": {},
     "output_type": "execute_result"
    }
   ],
   "source": [
    "dataset[1035]['question_eng']"
   ]
  },
  {
   "cell_type": "code",
   "execution_count": 32,
   "metadata": {
    "ExecuteTime": {
     "end_time": "2020-04-09T14:30:51.253902Z",
     "start_time": "2020-04-09T14:30:51.245225Z"
    }
   },
   "outputs": [
    {
     "data": {
      "text/plain": [
       "[{'question': {'answers': '{\\n  \"head\" : {\\n    \"vars\" : [\\n      \"o1\"\\n    ]\\n  },\\n  \"results\" : {\\n    \"bindings\" : [\\n      {\\n        \"o1\" : {\\n          \"type\" : \"uri\",\\n          \"value\" : \"http://www.wikidata.org/entity/Q164761\"\\n        }\\n      },\\n      {\\n        \"o1\" : {\\n          \"type\" : \"uri\",\\n          \"value\" : \"http://www.wikidata.org/entity/Q165704\"\\n        }\\n      },\\n      {\\n        \"o1\" : {\\n          \"type\" : \"uri\",\\n          \"value\" : \"http://www.wikidata.org/entity/Q170737\"\\n        }\\n      },\\n      {\\n        \"o1\" : {\\n          \"type\" : \"uri\",\\n          \"value\" : \"http://www.wikidata.org/entity/Q178108\"\\n        }\\n      },\\n      {\\n        \"o1\" : {\\n          \"type\" : \"uri\",\\n          \"value\" : \"http://www.wikidata.org/entity/Q180935\"\\n        }\\n      },\\n      {\\n        \"o1\" : {\\n          \"type\" : \"uri\",\\n          \"value\" : \"http://www.wikidata.org/entity/Q182570\"\\n        }\\n      },\\n      {\\n        \"o1\" : {\\n          \"type\" : \"uri\",\\n          \"value\" : \"http://www.wikidata.org/entity/Q185027\"\\n        }\\n      },\\n      {\\n        \"o1\" : {\\n          \"type\" : \"uri\",\\n          \"value\" : \"http://www.wikidata.org/entity/Q191691\"\\n        }\\n      },\\n      {\\n        \"o1\" : {\\n          \"type\" : \"uri\",\\n          \"value\" : \"http://www.wikidata.org/entity/Q334734\"\\n        }\\n      },\\n      {\\n        \"o1\" : {\\n          \"type\" : \"uri\",\\n          \"value\" : \"http://www.wikidata.org/entity/Q537769\"\\n        }\\n      }\\n    ]\\n  }\\n}',\n",
       "   'language': [{'SPARQL': 'SELECT DISTINCT ?o1 WHERE { \\t <http://www.wikidata.org/entity/Q184654>  <http://www.wikidata.org/prop/direct/P527>  ?o1 . \\n }  LIMIT 1000',\n",
       "     'confidence': 0.3675656503804891}]}}]"
      ]
     },
     "execution_count": 32,
     "metadata": {},
     "output_type": "execute_result"
    }
   ],
   "source": [
    "resp.json()['questions']"
   ]
  },
  {
   "cell_type": "code",
   "execution_count": 33,
   "metadata": {
    "ExecuteTime": {
     "end_time": "2020-04-09T14:30:52.738644Z",
     "start_time": "2020-04-09T14:30:52.729753Z"
    }
   },
   "outputs": [
    {
     "data": {
      "text/plain": [
       "{'head': {'vars': ['o1']},\n",
       " 'results': {'bindings': [{'o1': {'type': 'uri',\n",
       "     'value': 'http://www.wikidata.org/entity/Q164761'}},\n",
       "   {'o1': {'type': 'uri', 'value': 'http://www.wikidata.org/entity/Q165704'}},\n",
       "   {'o1': {'type': 'uri', 'value': 'http://www.wikidata.org/entity/Q170737'}},\n",
       "   {'o1': {'type': 'uri', 'value': 'http://www.wikidata.org/entity/Q178108'}},\n",
       "   {'o1': {'type': 'uri', 'value': 'http://www.wikidata.org/entity/Q180935'}},\n",
       "   {'o1': {'type': 'uri', 'value': 'http://www.wikidata.org/entity/Q182570'}},\n",
       "   {'o1': {'type': 'uri', 'value': 'http://www.wikidata.org/entity/Q185027'}},\n",
       "   {'o1': {'type': 'uri', 'value': 'http://www.wikidata.org/entity/Q191691'}},\n",
       "   {'o1': {'type': 'uri', 'value': 'http://www.wikidata.org/entity/Q334734'}},\n",
       "   {'o1': {'type': 'uri',\n",
       "     'value': 'http://www.wikidata.org/entity/Q537769'}}]}}"
      ]
     },
     "execution_count": 33,
     "metadata": {},
     "output_type": "execute_result"
    }
   ],
   "source": [
    "json.loads(resp.json()['questions'][0]['question']['answers'])"
   ]
  },
  {
   "cell_type": "code",
   "execution_count": null,
   "metadata": {},
   "outputs": [],
   "source": []
  }
 ],
 "metadata": {
  "kernelspec": {
   "display_name": "Python [conda env:kbqa]",
   "language": "python",
   "name": "conda-env-kbqa-py"
  },
  "language_info": {
   "codemirror_mode": {
    "name": "ipython",
    "version": 3
   },
   "file_extension": ".py",
   "mimetype": "text/x-python",
   "name": "python",
   "nbconvert_exporter": "python",
   "pygments_lexer": "ipython3",
   "version": "3.7.3"
  }
 },
 "nbformat": 4,
 "nbformat_minor": 2
}
