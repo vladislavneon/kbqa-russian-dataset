{
 "cells": [
  {
   "cell_type": "code",
   "execution_count": 5,
   "metadata": {
    "ExecuteTime": {
     "end_time": "2020-04-03T00:11:36.416706Z",
     "start_time": "2020-04-03T00:11:34.030433Z"
    }
   },
   "outputs": [],
   "source": [
    "%config IPCompleter.greedy=True\n",
    "import re\n",
    "import json\n",
    "import csv\n",
    "import requests\n",
    "import re\n",
    "from collections import defaultdict\n",
    "from operator import itemgetter\n",
    "from tqdm import tqdm_notebook as tqdm\n",
    "from time import time, sleep\n",
    "import numpy as np\n",
    "import pandas as pd\n",
    "from qwikidata.sparql import return_sparql_query_results"
   ]
  },
  {
   "cell_type": "code",
   "execution_count": 6,
   "metadata": {
    "ExecuteTime": {
     "end_time": "2020-04-03T00:11:36.427359Z",
     "start_time": "2020-04-03T00:11:36.419660Z"
    }
   },
   "outputs": [],
   "source": [
    "def json_read(filename):\n",
    "    with open(filename, 'r') as inf:\n",
    "        res = json.load(inf)\n",
    "    return res\n",
    "\n",
    "def json_dump(obj, filename, ea=False, indent=4):\n",
    "    with open(filename, 'w') as ouf:\n",
    "        json.dump(obj, ouf, ensure_ascii=ea, indent=indent)"
   ]
  },
  {
   "cell_type": "markdown",
   "metadata": {
    "heading_collapsed": true
   },
   "source": [
    "### Dataset schema"
   ]
  },
  {
   "cell_type": "code",
   "execution_count": 131,
   "metadata": {
    "ExecuteTime": {
     "end_time": "2020-03-03T11:07:45.968075Z",
     "start_time": "2020-03-03T11:07:45.841213Z"
    },
    "hidden": true
   },
   "outputs": [],
   "source": [
    "class DatasetEntry(dict):\n",
    "    def __init__(\n",
    "        self,\n",
    "        uid=None,\n",
    "        question_text=None,\n",
    "        query=None,\n",
    "        answer_text=None,\n",
    "        question_uris=None,\n",
    "        question_props=None,\n",
    "        answer_uris=None,\n",
    "        tags=None\n",
    "    ):\n",
    "        self['uid'] = uid\n",
    "        self['question_text'] = question_text\n",
    "        self['query'] = query\n",
    "        self['answer_text'] = answer_text\n",
    "        self['question_uris'] = question_uris\n",
    "        self['question_props'] = question_props\n",
    "        self['answer_uris'] = answer_uris\n",
    "        self['tags'] = tags if tags is not None else []\n",
    "        \n",
    "    def set_uid(self, uid):\n",
    "        self['uid'] = uid\n",
    "        \n",
    "    def set_question_text(self, qt):\n",
    "        self['question_text'] = qt\n",
    "        \n",
    "    def set_query(self, query):\n",
    "        self['query'] = query\n",
    "        \n",
    "    def set_answer_text(self, at):\n",
    "        self['answer_text'] = answer_text\n",
    "    \n",
    "    def set_question_uris(self, question_uris):\n",
    "        self['question_uris'] = question_uris\n",
    "        \n",
    "    def add_question_uri(self, question_uri):\n",
    "        if self['question_uris'] is None:\n",
    "            self['question_uris'] = [question_uri]\n",
    "        else:\n",
    "            self['question_uris'].append(question_uri)\n",
    "        \n",
    "    def add_question_prop(self, question_prop):\n",
    "        if self['question_props'] is None:\n",
    "            self['question_uris'] = [question_uri]\n",
    "        else:\n",
    "            self['question_uris'].append(question_uri)\n",
    "        \n",
    "    def set_answer_uris(self, answer_uris):\n",
    "        self['answer_uris'] =  set(answer_uris)\n",
    "        \n",
    "    def add_answer_uri(self, answer_uri):\n",
    "        if self['answer_uris'] is None:\n",
    "            self['answer_uris'] = set([answer_uri])\n",
    "        else:\n",
    "            self['answer_uris'].add(answer_uri)\n",
    "            \n",
    "    def add_tag(self, tag):\n",
    "        self['tags'].append(tag)\n",
    "    \n",
    "    def validate(self):\n",
    "        return self['uid'] is not None and \\\n",
    "               self['question_text'] is not None and \\\n",
    "               self['query'] is not None and \\\n",
    "               self['answer_text'] is not None and \\\n",
    "               self['question_uris'] is not None and \\\n",
    "               self['answer_uris'] is not None\n",
    "    \n",
    "    def json(self):\n",
    "        return self"
   ]
  },
  {
   "cell_type": "code",
   "execution_count": null,
   "metadata": {
    "hidden": true
   },
   "outputs": [],
   "source": []
  },
  {
   "cell_type": "markdown",
   "metadata": {
    "heading_collapsed": true
   },
   "source": [
    "### 1-hop fully correct"
   ]
  },
  {
   "cell_type": "code",
   "execution_count": 132,
   "metadata": {
    "ExecuteTime": {
     "end_time": "2020-03-03T11:07:47.760645Z",
     "start_time": "2020-03-03T11:07:47.749474Z"
    },
    "hidden": true
   },
   "outputs": [],
   "source": [
    "def build_sparql_query_for_simple_question(qe_uri, prop_uri):\n",
    "    qid = re.sub(r'.*/', '', qe_uri)\n",
    "    pid = re.sub(r'.*/', '', prop_uri)\n",
    "    query = \\\n",
    "    f'''\n",
    "SELECT ?answer \n",
    "WHERE {{\n",
    "  wd:{qid} wdt:{pid} ?answer\n",
    "}}\n",
    "    '''.strip()\n",
    "    return query"
   ]
  },
  {
   "cell_type": "code",
   "execution_count": 49,
   "metadata": {
    "ExecuteTime": {
     "end_time": "2020-01-29T14:13:40.545812Z",
     "start_time": "2020-01-29T14:13:40.175118Z"
    },
    "hidden": true
   },
   "outputs": [],
   "source": [
    "data = pd.read_csv('1hop_fully_correct.csv', header=0)"
   ]
  },
  {
   "cell_type": "code",
   "execution_count": 55,
   "metadata": {
    "ExecuteTime": {
     "end_time": "2020-01-29T14:17:01.262055Z",
     "start_time": "2020-01-29T14:17:01.249502Z"
    },
    "hidden": true
   },
   "outputs": [],
   "source": [
    "data = data.fillna('')"
   ]
  },
  {
   "cell_type": "code",
   "execution_count": 56,
   "metadata": {
    "ExecuteTime": {
     "end_time": "2020-01-29T14:17:02.116034Z",
     "start_time": "2020-01-29T14:17:02.097203Z"
    },
    "hidden": true
   },
   "outputs": [
    {
     "data": {
      "text/html": [
       "<div>\n",
       "<style scoped>\n",
       "    .dataframe tbody tr th:only-of-type {\n",
       "        vertical-align: middle;\n",
       "    }\n",
       "\n",
       "    .dataframe tbody tr th {\n",
       "        vertical-align: top;\n",
       "    }\n",
       "\n",
       "    .dataframe thead th {\n",
       "        text-align: right;\n",
       "    }\n",
       "</style>\n",
       "<table border=\"1\" class=\"dataframe\">\n",
       "  <thead>\n",
       "    <tr style=\"text-align: right;\">\n",
       "      <th></th>\n",
       "      <th>q</th>\n",
       "      <th>a</th>\n",
       "      <th>qe_name</th>\n",
       "      <th>qe_link</th>\n",
       "      <th>prop_name</th>\n",
       "      <th>prop_link</th>\n",
       "      <th>ans_link</th>\n",
       "    </tr>\n",
       "  </thead>\n",
       "  <tbody>\n",
       "    <tr>\n",
       "      <th>0</th>\n",
       "      <td>Что может вызвать цунами?</td>\n",
       "      <td>Землетрясение</td>\n",
       "      <td>Цунами</td>\n",
       "      <td>http://www.wikidata.org/entity/Q8070</td>\n",
       "      <td>причиной является</td>\n",
       "      <td>http://www.wikidata.org/prop/direct/P828</td>\n",
       "      <td>http://www.wikidata.org/entity/Q7944</td>\n",
       "    </tr>\n",
       "    <tr>\n",
       "      <th>1</th>\n",
       "      <td>Кто написал роман «Хижина дяди Тома»?</td>\n",
       "      <td>Г. Бичер-Стоу</td>\n",
       "      <td>Хижина дяди Тома</td>\n",
       "      <td>http://www.wikidata.org/entity/Q2222</td>\n",
       "      <td>автор</td>\n",
       "      <td>http://www.wikidata.org/prop/direct/P50</td>\n",
       "      <td>http://www.wikidata.org/entity/Q102513</td>\n",
       "    </tr>\n",
       "    <tr>\n",
       "      <th>2</th>\n",
       "      <td>Кто автор пьесы «Ромео и Джульетта»?</td>\n",
       "      <td>Шекспир</td>\n",
       "      <td>Ромео и Джульетта</td>\n",
       "      <td>http://www.wikidata.org/entity/Q83186</td>\n",
       "      <td>автор</td>\n",
       "      <td>http://www.wikidata.org/prop/direct/P50</td>\n",
       "      <td>http://www.wikidata.org/entity/Q692</td>\n",
       "    </tr>\n",
       "    <tr>\n",
       "      <th>3</th>\n",
       "      <td>Как называется столица Румынии?</td>\n",
       "      <td>Бухарест</td>\n",
       "      <td>Румыния</td>\n",
       "      <td>http://www.wikidata.org/entity/Q218</td>\n",
       "      <td>столица</td>\n",
       "      <td>http://www.wikidata.org/prop/direct/P36</td>\n",
       "      <td>http://www.wikidata.org/entity/Q19660</td>\n",
       "    </tr>\n",
       "    <tr>\n",
       "      <th>4</th>\n",
       "      <td>Какой стране принадлежит знаменитый остров Пасхи?</td>\n",
       "      <td>Чили</td>\n",
       "      <td>Остров Пасхи</td>\n",
       "      <td>http://www.wikidata.org/entity/Q14452</td>\n",
       "      <td>государство</td>\n",
       "      <td>http://www.wikidata.org/prop/direct/P17</td>\n",
       "      <td>http://www.wikidata.org/entity/Q298</td>\n",
       "    </tr>\n",
       "  </tbody>\n",
       "</table>\n",
       "</div>"
      ],
      "text/plain": [
       "                                                   q              a  \\\n",
       "0                          Что может вызвать цунами?  Землетрясение   \n",
       "1              Кто написал роман «Хижина дяди Тома»?  Г. Бичер-Стоу   \n",
       "2               Кто автор пьесы «Ромео и Джульетта»?        Шекспир   \n",
       "3                    Как называется столица Румынии?       Бухарест   \n",
       "4  Какой стране принадлежит знаменитый остров Пасхи?           Чили   \n",
       "\n",
       "             qe_name                                qe_link  \\\n",
       "0             Цунами   http://www.wikidata.org/entity/Q8070   \n",
       "1   Хижина дяди Тома   http://www.wikidata.org/entity/Q2222   \n",
       "2  Ромео и Джульетта  http://www.wikidata.org/entity/Q83186   \n",
       "3            Румыния    http://www.wikidata.org/entity/Q218   \n",
       "4       Остров Пасхи  http://www.wikidata.org/entity/Q14452   \n",
       "\n",
       "           prop_name                                 prop_link  \\\n",
       "0  причиной является  http://www.wikidata.org/prop/direct/P828   \n",
       "1              автор   http://www.wikidata.org/prop/direct/P50   \n",
       "2              автор   http://www.wikidata.org/prop/direct/P50   \n",
       "3            столица   http://www.wikidata.org/prop/direct/P36   \n",
       "4        государство   http://www.wikidata.org/prop/direct/P17   \n",
       "\n",
       "                                 ans_link  \n",
       "0    http://www.wikidata.org/entity/Q7944  \n",
       "1  http://www.wikidata.org/entity/Q102513  \n",
       "2     http://www.wikidata.org/entity/Q692  \n",
       "3   http://www.wikidata.org/entity/Q19660  \n",
       "4     http://www.wikidata.org/entity/Q298  "
      ]
     },
     "execution_count": 56,
     "metadata": {},
     "output_type": "execute_result"
    }
   ],
   "source": [
    "data.head()"
   ]
  },
  {
   "cell_type": "code",
   "execution_count": 57,
   "metadata": {
    "ExecuteTime": {
     "end_time": "2020-01-29T14:17:04.052383Z",
     "start_time": "2020-01-29T14:17:03.895516Z"
    },
    "hidden": true
   },
   "outputs": [],
   "source": [
    "uid = 0\n",
    "dataset_1hop_fully_correct = []\n",
    "for index, row in data.iterrows():\n",
    "    question_text = row['q']\n",
    "    answer_text = row['a']\n",
    "    answer_uri = row['ans_link']\n",
    "    qe_uri = row['qe_link']\n",
    "    prop_uri = row['prop_link']\n",
    "    query = build_sparql_query_for_simple_question(qe_uri, prop_uri)\n",
    "    dataset_entry = DatasetEntry(\n",
    "        uid=uid,\n",
    "        question_text=question_text,\n",
    "        query=query,\n",
    "        answer_text=answer_text\n",
    "    )\n",
    "    dataset_entry.add_question_uri(qe_uri)\n",
    "    dataset_entry.add_answer_uri(answer_uri)\n",
    "    dataset_entry.add_tag('simple')\n",
    "    if not dataset_entry.validate():\n",
    "        raise Exception\n",
    "    uid += 1\n",
    "    dataset_1hop_fully_correct.append(dataset_entry)"
   ]
  },
  {
   "cell_type": "code",
   "execution_count": 58,
   "metadata": {
    "ExecuteTime": {
     "end_time": "2020-01-29T14:17:04.843763Z",
     "start_time": "2020-01-29T14:17:04.789336Z"
    },
    "hidden": true
   },
   "outputs": [],
   "source": [
    "dataset_1hop_fully_correct_json = [entry.json() for entry in dataset_1hop_fully_correct]\n",
    "json_dump(dataset_1hop_fully_correct_json, 'dataset_1hop_fully_correct.json')"
   ]
  },
  {
   "cell_type": "markdown",
   "metadata": {
    "heading_collapsed": true
   },
   "source": [
    "### 2-hop fully correct"
   ]
  },
  {
   "cell_type": "code",
   "execution_count": 133,
   "metadata": {
    "ExecuteTime": {
     "end_time": "2020-03-03T11:07:55.059599Z",
     "start_time": "2020-03-03T11:07:55.050720Z"
    },
    "hidden": true
   },
   "outputs": [],
   "source": [
    "def build_sparql_query_for_2hop_question(qe_uri, prop_uri_1, prop_uri_2):\n",
    "    qid = re.sub(r'.*/', '', qe_uri)\n",
    "    pid_1 = re.sub(r'.*/', '', prop_uri_1)\n",
    "    pid_2 = re.sub(r'.*/', '', prop_uri_2)\n",
    "    query = \\\n",
    "    f'''\n",
    "SELECT ?answer \n",
    "WHERE {{\n",
    "  wd:{qid} wdt:{pid_1} [ wdt:{pid_2} ?answer ].\n",
    "}}\n",
    "    '''.strip()\n",
    "    return query"
   ]
  },
  {
   "cell_type": "code",
   "execution_count": 88,
   "metadata": {
    "ExecuteTime": {
     "end_time": "2020-01-29T15:52:20.024250Z",
     "start_time": "2020-01-29T15:52:20.010603Z"
    },
    "hidden": true
   },
   "outputs": [],
   "source": [
    "data = pd.read_csv('2hop_fully_correct.csv', header=0)"
   ]
  },
  {
   "cell_type": "code",
   "execution_count": 89,
   "metadata": {
    "ExecuteTime": {
     "end_time": "2020-01-29T15:52:20.429007Z",
     "start_time": "2020-01-29T15:52:20.409102Z"
    },
    "hidden": true
   },
   "outputs": [
    {
     "data": {
      "text/html": [
       "<div>\n",
       "<style scoped>\n",
       "    .dataframe tbody tr th:only-of-type {\n",
       "        vertical-align: middle;\n",
       "    }\n",
       "\n",
       "    .dataframe tbody tr th {\n",
       "        vertical-align: top;\n",
       "    }\n",
       "\n",
       "    .dataframe thead th {\n",
       "        text-align: right;\n",
       "    }\n",
       "</style>\n",
       "<table border=\"1\" class=\"dataframe\">\n",
       "  <thead>\n",
       "    <tr style=\"text-align: right;\">\n",
       "      <th></th>\n",
       "      <th>q</th>\n",
       "      <th>a</th>\n",
       "      <th>qe_name</th>\n",
       "      <th>qe_link</th>\n",
       "      <th>prop_1_name</th>\n",
       "      <th>prop_1_link</th>\n",
       "      <th>prop_2_name</th>\n",
       "      <th>prop_2_link</th>\n",
       "      <th>ans_link</th>\n",
       "    </tr>\n",
       "  </thead>\n",
       "  <tbody>\n",
       "    <tr>\n",
       "      <th>0</th>\n",
       "      <td>Какой специалист занимается изучением неопозна...</td>\n",
       "      <td>Уфолог</td>\n",
       "      <td>неопознанный летающий объект</td>\n",
       "      <td>http://www.wikidata.org/entity/Q421</td>\n",
       "      <td>изучается в</td>\n",
       "      <td>http://www.wikidata.org/prop/direct/P2579</td>\n",
       "      <td>практикуется</td>\n",
       "      <td>http://www.wikidata.org/prop/direct/P3095</td>\n",
       "      <td>http://www.wikidata.org/entity/Q18921227</td>\n",
       "    </tr>\n",
       "    <tr>\n",
       "      <th>1</th>\n",
       "      <td>Как называется кривая, по которой Земля движет...</td>\n",
       "      <td>Эллипс</td>\n",
       "      <td>Земля</td>\n",
       "      <td>http://www.wikidata.org/entity/Q2</td>\n",
       "      <td>тип орбиты</td>\n",
       "      <td>http://www.wikidata.org/prop/direct/P522</td>\n",
       "      <td>имеет форму</td>\n",
       "      <td>http://www.wikidata.org/prop/direct/P1419</td>\n",
       "      <td>http://www.wikidata.org/entity/Q40112</td>\n",
       "    </tr>\n",
       "    <tr>\n",
       "      <th>2</th>\n",
       "      <td>Какая девичья фамилия была у Петуньи Дурсли?</td>\n",
       "      <td>Эванс</td>\n",
       "      <td>Петуния Дурсль</td>\n",
       "      <td>http://www.wikidata.org/entity/Q1963397</td>\n",
       "      <td>отец</td>\n",
       "      <td>http://www.wikidata.org/prop/direct/P22</td>\n",
       "      <td>фамилия</td>\n",
       "      <td>http://www.wikidata.org/prop/direct/P734</td>\n",
       "      <td>http://www.wikidata.org/entity/Q1260663</td>\n",
       "    </tr>\n",
       "    <tr>\n",
       "      <th>3</th>\n",
       "      <td>В каком селе Эдуард Успенский прописал кота Ма...</td>\n",
       "      <td>Простоквашино</td>\n",
       "      <td>Кот Матроскин</td>\n",
       "      <td>http://www.wikidata.org/entity/Q4235896</td>\n",
       "      <td>представлено в работе</td>\n",
       "      <td>http://www.wikidata.org/prop/direct/P1441</td>\n",
       "      <td>история происходит в месте</td>\n",
       "      <td>http://www.wikidata.org/prop/direct/P840</td>\n",
       "      <td>http://www.wikidata.org/entity/Q4381521</td>\n",
       "    </tr>\n",
       "    <tr>\n",
       "      <th>4</th>\n",
       "      <td>Какая страна – родина саксофона?</td>\n",
       "      <td>Бельгия</td>\n",
       "      <td>саксофон</td>\n",
       "      <td>http://www.wikidata.org/entity/Q9798</td>\n",
       "      <td>первооткрыватель или изобретатель</td>\n",
       "      <td>http://www.wikidata.org/prop/direct/P61</td>\n",
       "      <td>гражданство</td>\n",
       "      <td>http://www.wikidata.org/prop/direct/P27</td>\n",
       "      <td>http://www.wikidata.org/entity/Q31</td>\n",
       "    </tr>\n",
       "  </tbody>\n",
       "</table>\n",
       "</div>"
      ],
      "text/plain": [
       "                                                   q              a  \\\n",
       "0  Какой специалист занимается изучением неопозна...         Уфолог   \n",
       "1  Как называется кривая, по которой Земля движет...         Эллипс   \n",
       "2       Какая девичья фамилия была у Петуньи Дурсли?          Эванс   \n",
       "3  В каком селе Эдуард Успенский прописал кота Ма...  Простоквашино   \n",
       "4                   Какая страна – родина саксофона?        Бельгия   \n",
       "\n",
       "                        qe_name                                  qe_link  \\\n",
       "0  неопознанный летающий объект      http://www.wikidata.org/entity/Q421   \n",
       "1                         Земля        http://www.wikidata.org/entity/Q2   \n",
       "2                Петуния Дурсль  http://www.wikidata.org/entity/Q1963397   \n",
       "3                 Кот Матроскин  http://www.wikidata.org/entity/Q4235896   \n",
       "4                      саксофон     http://www.wikidata.org/entity/Q9798   \n",
       "\n",
       "                         prop_1_name  \\\n",
       "0                        изучается в   \n",
       "1                         тип орбиты   \n",
       "2                               отец   \n",
       "3              представлено в работе   \n",
       "4  первооткрыватель или изобретатель   \n",
       "\n",
       "                                 prop_1_link                 prop_2_name  \\\n",
       "0  http://www.wikidata.org/prop/direct/P2579                практикуется   \n",
       "1   http://www.wikidata.org/prop/direct/P522                 имеет форму   \n",
       "2    http://www.wikidata.org/prop/direct/P22                     фамилия   \n",
       "3  http://www.wikidata.org/prop/direct/P1441  история происходит в месте   \n",
       "4    http://www.wikidata.org/prop/direct/P61                 гражданство   \n",
       "\n",
       "                                 prop_2_link  \\\n",
       "0  http://www.wikidata.org/prop/direct/P3095   \n",
       "1  http://www.wikidata.org/prop/direct/P1419   \n",
       "2   http://www.wikidata.org/prop/direct/P734   \n",
       "3   http://www.wikidata.org/prop/direct/P840   \n",
       "4    http://www.wikidata.org/prop/direct/P27   \n",
       "\n",
       "                                   ans_link  \n",
       "0  http://www.wikidata.org/entity/Q18921227  \n",
       "1     http://www.wikidata.org/entity/Q40112  \n",
       "2   http://www.wikidata.org/entity/Q1260663  \n",
       "3   http://www.wikidata.org/entity/Q4381521  \n",
       "4        http://www.wikidata.org/entity/Q31  "
      ]
     },
     "execution_count": 89,
     "metadata": {},
     "output_type": "execute_result"
    }
   ],
   "source": [
    "data.head()"
   ]
  },
  {
   "cell_type": "code",
   "execution_count": 90,
   "metadata": {
    "ExecuteTime": {
     "end_time": "2020-01-29T15:52:21.329539Z",
     "start_time": "2020-01-29T15:52:21.309749Z"
    },
    "hidden": true
   },
   "outputs": [],
   "source": [
    "uid = 1000\n",
    "dataset_2hop_fully_correct = []\n",
    "for index, row in data.iterrows():\n",
    "    question_text = row['q']\n",
    "    answer_text = row['a']\n",
    "    answer_uri = row['ans_link']\n",
    "    qe_uri = row['qe_link']\n",
    "    prop_uri_1 = row['prop_1_link']\n",
    "    prop_uri_2 = row['prop_2_link']\n",
    "    query = build_sparql_query_for_2hop_question(qe_uri, prop_uri_1, prop_uri_2)\n",
    "    dataset_entry = DatasetEntry(\n",
    "        uid=uid,\n",
    "        question_text=question_text,\n",
    "        query=query,\n",
    "        answer_text=answer_text\n",
    "    )\n",
    "    dataset_entry.add_question_uri(qe_uri)\n",
    "    dataset_entry.add_answer_uri(answer_uri)\n",
    "    dataset_entry.add_tag('2-hop')\n",
    "    if not dataset_entry.validate():\n",
    "        raise Exception\n",
    "    uid += 1\n",
    "    dataset_2hop_fully_correct.append(dataset_entry)"
   ]
  },
  {
   "cell_type": "code",
   "execution_count": 93,
   "metadata": {
    "ExecuteTime": {
     "end_time": "2020-01-29T16:03:43.429044Z",
     "start_time": "2020-01-29T16:02:21.067322Z"
    },
    "hidden": true
   },
   "outputs": [
    {
     "name": "stdout",
     "output_type": "stream",
     "text": [
      "http://www.wikidata.org/entity/Q18921227\n",
      "['http://www.wikidata.org/entity/Q18921227']\n",
      "\n",
      "http://www.wikidata.org/entity/Q40112\n",
      "['http://www.wikidata.org/entity/Q40112']\n",
      "\n",
      "http://www.wikidata.org/entity/Q1260663\n",
      "['http://www.wikidata.org/entity/Q1260663']\n",
      "\n",
      "http://www.wikidata.org/entity/Q4381521\n",
      "['http://www.wikidata.org/entity/Q4381521', 'http://www.wikidata.org/entity/Q4381521']\n",
      "\n",
      "http://www.wikidata.org/entity/Q31\n",
      "['http://www.wikidata.org/entity/Q31']\n",
      "\n",
      "http://www.wikidata.org/entity/Q34664\n",
      "['http://www.wikidata.org/entity/Q34664']\n",
      "\n",
      "http://www.wikidata.org/entity/Q804402\n",
      "['http://www.wikidata.org/entity/Q804402']\n",
      "\n",
      "http://www.wikidata.org/entity/Q202\n",
      "['http://www.wikidata.org/entity/Q202']\n",
      "\n",
      "http://www.wikidata.org/entity/Q1297\n",
      "['http://www.wikidata.org/entity/Q1297']\n",
      "\n",
      "http://www.wikidata.org/entity/Q718\n",
      "['http://www.wikidata.org/entity/Q718']\n",
      "\n",
      "http://www.wikidata.org/entity/Q4381521\n",
      "['http://www.wikidata.org/entity/Q4381521', 'http://www.wikidata.org/entity/Q4381521']\n",
      "\n",
      "http://www.wikidata.org/entity/Q194019\n",
      "['http://www.wikidata.org/entity/Q194019']\n",
      "\n",
      "http://www.wikidata.org/entity/Q210788\n",
      "[]\n",
      "\n",
      "http://www.wikidata.org/entity/Q2000617\n",
      "['http://www.wikidata.org/entity/Q2000617', 'http://www.wikidata.org/entity/Q15783']\n",
      "\n",
      "http://www.wikidata.org/entity/Q1731\n",
      "['http://www.wikidata.org/entity/Q1731']\n",
      "\n",
      "http://www.wikidata.org/entity/Q5753\n",
      "['http://www.wikidata.org/entity/Q5753']\n",
      "\n",
      "http://www.wikidata.org/entity/Q189010\n",
      "['http://www.wikidata.org/entity/Q189010']\n",
      "\n",
      "http://www.wikidata.org/entity/Q338450\n",
      "['http://www.wikidata.org/entity/Q338450']\n",
      "\n",
      "http://www.wikidata.org/entity/Q660356\n",
      "[]\n",
      "\n",
      "http://www.wikidata.org/entity/Q6602\n",
      "['http://www.wikidata.org/entity/Q6602']\n",
      "\n",
      "http://www.wikidata.org/entity/Q1726\n",
      "['http://www.wikidata.org/entity/Q1726']\n",
      "\n",
      "http://www.wikidata.org/entity/Q2895\n",
      "['http://www.wikidata.org/entity/Q2895']\n",
      "\n",
      "http://www.wikidata.org/entity/Q8209\n",
      "['http://www.wikidata.org/entity/Q8209']\n",
      "\n",
      "http://www.wikidata.org/entity/Q26533\n",
      "['http://www.wikidata.org/entity/Q26533']\n",
      "\n",
      "http://www.wikidata.org/entity/Q729\n",
      "['http://www.wikidata.org/entity/Q729']\n",
      "\n",
      "http://www.wikidata.org/entity/Q60\n",
      "['http://www.wikidata.org/entity/Q60']\n",
      "\n",
      "http://www.wikidata.org/entity/Q166886\n",
      "['http://www.wikidata.org/entity/Q166886']\n",
      "\n",
      "http://www.wikidata.org/entity/Q13695\n",
      "['http://www.wikidata.org/entity/Q13695']\n",
      "\n",
      "http://www.wikidata.org/entity/Q1273\n",
      "['http://www.wikidata.org/entity/Q1273']\n",
      "\n",
      "http://www.wikidata.org/entity/Q203\n",
      "['http://www.wikidata.org/entity/Q203']\n",
      "\n",
      "http://www.wikidata.org/entity/Q37141\n",
      "[]\n",
      "\n",
      "http://www.wikidata.org/entity/Q407258\n",
      "['http://www.wikidata.org/entity/Q407258']\n",
      "\n",
      "http://www.wikidata.org/entity/Q142\n",
      "['http://www.wikidata.org/entity/Q142']\n",
      "\n",
      "http://www.wikidata.org/entity/Q263270\n",
      "['http://www.wikidata.org/entity/Q263270']\n",
      "\n",
      "http://www.wikidata.org/entity/Q45\n",
      "['http://www.wikidata.org/entity/Q45']\n",
      "\n",
      "http://www.wikidata.org/entity/Q9418\n",
      "['http://www.wikidata.org/entity/Q9418']\n",
      "\n",
      "http://www.wikidata.org/entity/Q34\n",
      "['http://www.wikidata.org/entity/Q34']\n",
      "\n",
      "http://www.wikidata.org/entity/Q23775\n",
      "['http://www.wikidata.org/entity/Q23775', 'http://www.wikidata.org/entity/Q420190']\n",
      "\n",
      "http://www.wikidata.org/entity/Q501355\n",
      "['http://www.wikidata.org/entity/Q107900', 'http://www.wikidata.org/entity/Q501355', 'http://www.wikidata.org/entity/Q501652']\n",
      "\n",
      "http://www.wikidata.org/entity/Q1471\n",
      "['http://www.wikidata.org/entity/Q1471']\n",
      "\n",
      "http://www.wikidata.org/entity/Q5384\n",
      "['http://www.wikidata.org/entity/Q5384']\n",
      "\n",
      "http://www.wikidata.org/entity/Q5451\n",
      "['http://www.wikidata.org/entity/Q5451']\n",
      "\n",
      "http://www.wikidata.org/entity/Q93157\n",
      "['http://www.wikidata.org/entity/Q93157']\n",
      "\n",
      "http://www.wikidata.org/entity/Q11699606\n",
      "['http://www.wikidata.org/entity/Q1734662', 'http://www.wikidata.org/entity/Q11699606', 'http://www.wikidata.org/entity/Q294126']\n",
      "\n",
      "http://www.wikidata.org/entity/Q182135\n",
      "['http://www.wikidata.org/entity/Q182135']\n",
      "\n",
      "http://www.wikidata.org/entity/Q656\n",
      "['http://www.wikidata.org/entity/Q656']\n",
      "\n",
      "http://www.wikidata.org/entity/Q37594\n",
      "['http://www.wikidata.org/entity/Q37594']\n",
      "\n",
      "http://www.wikidata.org/entity/Q43292\n",
      "['http://www.wikidata.org/entity/Q43292']\n",
      "\n",
      "http://www.wikidata.org/entity/Q8355\n",
      "['http://www.wikidata.org/entity/Q8355']\n",
      "\n",
      "http://www.wikidata.org/entity/Q33\n",
      "['http://www.wikidata.org/entity/Q33']\n",
      "\n",
      "http://www.wikidata.org/entity/Q155616\n",
      "['http://www.wikidata.org/entity/Q155616', 'http://www.wikidata.org/entity/Q3065853']\n",
      "\n",
      "http://www.wikidata.org/entity/Q204025\n",
      "['http://www.wikidata.org/entity/Q204025']\n",
      "\n",
      "http://www.wikidata.org/entity/Q1334434\n",
      "['http://www.wikidata.org/entity/Q1334434']\n",
      "\n",
      "http://www.wikidata.org/entity/Q1773\n",
      "['http://www.wikidata.org/entity/Q1773']\n",
      "\n",
      "http://www.wikidata.org/entity/Q17631793\n",
      "['http://www.wikidata.org/entity/Q17631793']\n",
      "\n"
     ]
    }
   ],
   "source": [
    "for entry in dataset_2hop_fully_correct:\n",
    "    query = entry.query\n",
    "    ans_uri = entry.answer_uris[0]\n",
    "    print(ans_uri)\n",
    "    answer_uris = return_sparql_query_results(query)['results']['bindings']\n",
    "    answer_uris = [dct['answer']['value'] for dct in answer_uris]\n",
    "    entry.set_answer_uris(answer_uris)\n",
    "    print(answer_uris)\n",
    "    print()\n",
    "    sleep(1)"
   ]
  },
  {
   "cell_type": "code",
   "execution_count": 97,
   "metadata": {
    "ExecuteTime": {
     "end_time": "2020-01-29T16:06:11.740305Z",
     "start_time": "2020-01-29T16:06:11.730268Z"
    },
    "hidden": true
   },
   "outputs": [],
   "source": [
    "for entry in dataset_2hop_fully_correct:\n",
    "    aus = entry.answer_uris\n",
    "    entry.answer_uris = list(set(aus))"
   ]
  },
  {
   "cell_type": "code",
   "execution_count": 98,
   "metadata": {
    "ExecuteTime": {
     "end_time": "2020-01-29T16:06:12.967033Z",
     "start_time": "2020-01-29T16:06:12.956399Z"
    },
    "hidden": true
   },
   "outputs": [],
   "source": [
    "dataset_2hop_fully_correct_json = [entry.json() for entry in dataset_2hop_fully_correct]\n",
    "json_dump(dataset_2hop_fully_correct_json, 'dataset_2hop_fully_correct.json')"
   ]
  },
  {
   "cell_type": "code",
   "execution_count": 101,
   "metadata": {
    "ExecuteTime": {
     "end_time": "2020-01-29T16:15:11.034720Z",
     "start_time": "2020-01-29T16:15:11.015418Z"
    },
    "hidden": true
   },
   "outputs": [
    {
     "name": "stdout",
     "output_type": "stream",
     "text": [
      "SELECT ?answer \n",
      "WHERE {\n",
      "  wd:Q13 wdt:P279 [ wdt:P642 ?answer ].\n",
      "}\n"
     ]
    }
   ],
   "source": [
    "print('SELECT ?answer \\nWHERE {\\n  wd:Q13 wdt:P279 [ wdt:P642 ?answer ].\\n}')"
   ]
  },
  {
   "cell_type": "markdown",
   "metadata": {
    "heading_collapsed": true
   },
   "source": [
    "### Edit bad chains"
   ]
  },
  {
   "cell_type": "code",
   "execution_count": 134,
   "metadata": {
    "ExecuteTime": {
     "end_time": "2020-03-03T11:07:58.305629Z",
     "start_time": "2020-03-03T11:07:58.289168Z"
    },
    "hidden": true
   },
   "outputs": [],
   "source": [
    "def get_query_tags(ql):\n",
    "    tags = []\n",
    "    if 'COUNT' in ql[0]:\n",
    "        tags.append('count')\n",
    "    if 'LIMIT' in ql[-1] and 'ORDER' in ql[-2]:\n",
    "        tags.append('order-limit')\n",
    "        ql = ql[:-2]\n",
    "    ql = ql[2:-2]\n",
    "    if 'FILTER' in ql[-1] and 'not in' in ql[-1]:\n",
    "        tags.append('not-in')\n",
    "        ql = ql[:-1]\n",
    "    if ql[0].split()[0] == '?answer':\n",
    "        tags.append('reverse')\n",
    "    if len(ql) == 1:\n",
    "        if 'VALUES' in ql[0]:\n",
    "            tags.append('0-hop')\n",
    "            return tags\n",
    "        if '[' in ql[0]:\n",
    "            clause = re.findall(r'\\[(.*)\\]', ql[0])[0]\n",
    "            if ';' not in clause:\n",
    "                tags.append('multihop')\n",
    "            else:\n",
    "                clauses = clause.split(';')\n",
    "                if '?answer' in clause[1]:\n",
    "                    tags.append('qualifier-answer')\n",
    "                else:\n",
    "                    tags.append('qualifier-constraint')\n",
    "        else:\n",
    "            tags.append('simple')\n",
    "    else:\n",
    "        tags.append('multi-constraint')\n",
    "    return tags"
   ]
  },
  {
   "cell_type": "code",
   "execution_count": 135,
   "metadata": {
    "ExecuteTime": {
     "end_time": "2020-03-03T11:08:00.873567Z",
     "start_time": "2020-03-03T11:08:00.850267Z"
    },
    "hidden": true
   },
   "outputs": [
    {
     "data": {
      "text/plain": [
       "['ps:P39 wd:Q218295; pq:P1545 \"1\"']"
      ]
     },
     "execution_count": 135,
     "metadata": {},
     "output_type": "execute_result"
    }
   ],
   "source": [
    "re.findall(r'\\[(.*)\\]', '?answer p:P39 [ps:P39 wd:Q218295; pq:P1545 \"1\"]')"
   ]
  },
  {
   "cell_type": "markdown",
   "metadata": {
    "hidden": true
   },
   "source": [
    "#### From 1-hop"
   ]
  },
  {
   "cell_type": "code",
   "execution_count": 104,
   "metadata": {
    "ExecuteTime": {
     "end_time": "2020-01-30T10:15:40.570217Z",
     "start_time": "2020-01-30T10:15:40.557492Z"
    },
    "hidden": true
   },
   "outputs": [],
   "source": [
    "def build_initial_sparql_query_for_simple_question(qe_uri, prop_uri):\n",
    "    qid = re.sub(r'.*/', '', qe_uri)\n",
    "    pid = re.sub(r'.*/', '', prop_uri)\n",
    "    query = \\\n",
    "    f'''\n",
    "SELECT ?answer ?answerLabel\n",
    "WHERE {{\n",
    "  wd:{qid} wdt:{pid} ?answer\n",
    "  SERVICE wikibase:label {{ bd:serviceParam wikibase:language \"[AUTO_LANGUAGE],ru\". }}\n",
    "}}\n",
    "    '''.strip()\n",
    "    return query"
   ]
  },
  {
   "cell_type": "code",
   "execution_count": 102,
   "metadata": {
    "ExecuteTime": {
     "end_time": "2020-01-30T10:13:04.562253Z",
     "start_time": "2020-01-30T10:13:04.470700Z"
    },
    "hidden": true
   },
   "outputs": [],
   "source": [
    "data = pd.read_csv('1hop_to_edit.csv', header=0)"
   ]
  },
  {
   "cell_type": "code",
   "execution_count": 103,
   "metadata": {
    "ExecuteTime": {
     "end_time": "2020-01-30T10:13:11.261283Z",
     "start_time": "2020-01-30T10:13:11.227533Z"
    },
    "hidden": true
   },
   "outputs": [
    {
     "data": {
      "text/html": [
       "<div>\n",
       "<style scoped>\n",
       "    .dataframe tbody tr th:only-of-type {\n",
       "        vertical-align: middle;\n",
       "    }\n",
       "\n",
       "    .dataframe tbody tr th {\n",
       "        vertical-align: top;\n",
       "    }\n",
       "\n",
       "    .dataframe thead th {\n",
       "        text-align: right;\n",
       "    }\n",
       "</style>\n",
       "<table border=\"1\" class=\"dataframe\">\n",
       "  <thead>\n",
       "    <tr style=\"text-align: right;\">\n",
       "      <th></th>\n",
       "      <th>q</th>\n",
       "      <th>a</th>\n",
       "      <th>qe_name</th>\n",
       "      <th>qe_link</th>\n",
       "      <th>prop_name</th>\n",
       "      <th>prop_link</th>\n",
       "      <th>ans_link</th>\n",
       "    </tr>\n",
       "  </thead>\n",
       "  <tbody>\n",
       "    <tr>\n",
       "      <th>0</th>\n",
       "      <td>Как звали знаменитого капитана Врунгеля?</td>\n",
       "      <td>Христофор Бонифатьевич</td>\n",
       "      <td>Приключения капитана Врунгеля</td>\n",
       "      <td>http://www.wikidata.org/entity/Q1985844</td>\n",
       "      <td>персонажи</td>\n",
       "      <td>http://www.wikidata.org/prop/direct/P674</td>\n",
       "      <td>http://www.wikidata.org/entity/Q4127228</td>\n",
       "    </tr>\n",
       "    <tr>\n",
       "      <th>1</th>\n",
       "      <td>Как звали знаменитого капитана Врунгеля?</td>\n",
       "      <td>Христофор Бонифатьевич</td>\n",
       "      <td>Приключения капитана Врунгеля</td>\n",
       "      <td>http://www.wikidata.org/entity/Q4378458</td>\n",
       "      <td>персонажи</td>\n",
       "      <td>http://www.wikidata.org/prop/direct/P674</td>\n",
       "      <td>http://www.wikidata.org/entity/Q4127228</td>\n",
       "    </tr>\n",
       "    <tr>\n",
       "      <th>2</th>\n",
       "      <td>В какой стране родился и вырос Че Гевара?</td>\n",
       "      <td>Аргентина</td>\n",
       "      <td>Эрнесто Че Гевара</td>\n",
       "      <td>http://www.wikidata.org/entity/Q5809</td>\n",
       "      <td>место жительства</td>\n",
       "      <td>http://www.wikidata.org/prop/direct/P551</td>\n",
       "      <td>http://www.wikidata.org/entity/Q414</td>\n",
       "    </tr>\n",
       "    <tr>\n",
       "      <th>3</th>\n",
       "      <td>Как звали жену Одиссея?</td>\n",
       "      <td>Пенелопа</td>\n",
       "      <td>Одиссея</td>\n",
       "      <td>http://www.wikidata.org/entity/Q35160</td>\n",
       "      <td>персонажи</td>\n",
       "      <td>http://www.wikidata.org/prop/direct/P674</td>\n",
       "      <td>http://www.wikidata.org/entity/Q165769</td>\n",
       "    </tr>\n",
       "    <tr>\n",
       "      <th>4</th>\n",
       "      <td>В каком городе жил и работал К.Э. Циолковский?</td>\n",
       "      <td>Калуга</td>\n",
       "      <td>Константин Эдуардович Циолковский</td>\n",
       "      <td>http://www.wikidata.org/entity/Q41239</td>\n",
       "      <td>место смерти</td>\n",
       "      <td>http://www.wikidata.org/prop/direct/P20</td>\n",
       "      <td>http://www.wikidata.org/entity/Q2837</td>\n",
       "    </tr>\n",
       "  </tbody>\n",
       "</table>\n",
       "</div>"
      ],
      "text/plain": [
       "                                                q                       a  \\\n",
       "0        Как звали знаменитого капитана Врунгеля?  Христофор Бонифатьевич   \n",
       "1        Как звали знаменитого капитана Врунгеля?  Христофор Бонифатьевич   \n",
       "2       В какой стране родился и вырос Че Гевара?               Аргентина   \n",
       "3                         Как звали жену Одиссея?                Пенелопа   \n",
       "4  В каком городе жил и работал К.Э. Циолковский?                  Калуга   \n",
       "\n",
       "                             qe_name                                  qe_link  \\\n",
       "0      Приключения капитана Врунгеля  http://www.wikidata.org/entity/Q1985844   \n",
       "1      Приключения капитана Врунгеля  http://www.wikidata.org/entity/Q4378458   \n",
       "2                  Эрнесто Че Гевара     http://www.wikidata.org/entity/Q5809   \n",
       "3                            Одиссея    http://www.wikidata.org/entity/Q35160   \n",
       "4  Константин Эдуардович Циолковский    http://www.wikidata.org/entity/Q41239   \n",
       "\n",
       "          prop_name                                 prop_link  \\\n",
       "0         персонажи  http://www.wikidata.org/prop/direct/P674   \n",
       "1         персонажи  http://www.wikidata.org/prop/direct/P674   \n",
       "2  место жительства  http://www.wikidata.org/prop/direct/P551   \n",
       "3         персонажи  http://www.wikidata.org/prop/direct/P674   \n",
       "4      место смерти   http://www.wikidata.org/prop/direct/P20   \n",
       "\n",
       "                                  ans_link  \n",
       "0  http://www.wikidata.org/entity/Q4127228  \n",
       "1  http://www.wikidata.org/entity/Q4127228  \n",
       "2      http://www.wikidata.org/entity/Q414  \n",
       "3   http://www.wikidata.org/entity/Q165769  \n",
       "4     http://www.wikidata.org/entity/Q2837  "
      ]
     },
     "execution_count": 103,
     "metadata": {},
     "output_type": "execute_result"
    }
   ],
   "source": [
    "data.head()"
   ]
  },
  {
   "cell_type": "code",
   "execution_count": 112,
   "metadata": {
    "ExecuteTime": {
     "end_time": "2020-01-30T10:26:51.790116Z",
     "start_time": "2020-01-30T10:26:51.726019Z"
    },
    "hidden": true
   },
   "outputs": [],
   "source": [
    "sep = '-----'\n",
    "with open('1hop_editor.txt', 'w') as ouf:\n",
    "    for idx, row in data.iterrows():\n",
    "        qe_uri = row['qe_link']\n",
    "        prop_uri = row['prop_link']\n",
    "        ans_uri = row['ans_link']\n",
    "        print(idx, file=ouf)\n",
    "        print(row['q'], file=ouf)\n",
    "        print(row['a'], file=ouf)\n",
    "        print(f'{qe_uri} [ {row[\"qe_name\"]} ] ->', file=ouf)\n",
    "        print(f'{prop_uri} {{ {row[\"prop_name\"]} }} ->', file=ouf)\n",
    "        print(row['ans_link'], file=ouf)\n",
    "        print(build_initial_sparql_query_for_simple_question(qe_uri, prop_uri), file=ouf)\n",
    "        print('edited=0', file=ouf)\n",
    "        print(sep, file=ouf)"
   ]
  },
  {
   "cell_type": "code",
   "execution_count": 140,
   "metadata": {
    "ExecuteTime": {
     "end_time": "2020-02-04T18:47:23.154498Z",
     "start_time": "2020-02-04T18:47:23.137161Z"
    },
    "hidden": true
   },
   "outputs": [
    {
     "name": "stdout",
     "output_type": "stream",
     "text": [
      "0\n"
     ]
    }
   ],
   "source": [
    "cnt = 0\n",
    "with open('1hop_editor.txt', 'r') as inf:\n",
    "    for line in inf:\n",
    "        if line.strip() == sep:\n",
    "            cnt += 1\n",
    "        if line.startswith('edited'):\n",
    "            mark = line.strip().replace('edited=', '')\n",
    "            if mark == '1':\n",
    "                cnt -= 1\n",
    "print(cnt)"
   ]
  },
  {
   "cell_type": "markdown",
   "metadata": {
    "hidden": true
   },
   "source": [
    "#### From 2-hop"
   ]
  },
  {
   "cell_type": "code",
   "execution_count": 122,
   "metadata": {
    "ExecuteTime": {
     "end_time": "2020-01-31T09:40:59.020057Z",
     "start_time": "2020-01-31T09:40:59.009047Z"
    },
    "hidden": true
   },
   "outputs": [],
   "source": [
    "def build_initial_sparql_query_for_2hop_question(qe_uri, prop_uri_1, prop_uri_2):\n",
    "    qid = re.sub(r'.*/', '', qe_uri)\n",
    "    pid_1 = re.sub(r'.*/', '', prop_uri_1)\n",
    "    pid_2 = re.sub(r'.*/', '', prop_uri_2)\n",
    "    query = \\\n",
    "    f'''\n",
    "SELECT ?answer ?answerLabel\n",
    "WHERE {{\n",
    "  wd:{qid} wdt:{pid_1} [ wdt:{pid_2} ?answer ] .\n",
    "  SERVICE wikibase:label {{ bd:serviceParam wikibase:language \"[AUTO_LANGUAGE],ru\". }}\n",
    "}}\n",
    "    '''.strip()\n",
    "    return query"
   ]
  },
  {
   "cell_type": "code",
   "execution_count": 123,
   "metadata": {
    "ExecuteTime": {
     "end_time": "2020-01-31T09:40:59.839362Z",
     "start_time": "2020-01-31T09:40:59.808322Z"
    },
    "hidden": true
   },
   "outputs": [],
   "source": [
    "data = pd.read_csv('2hop_to_edit.csv', header=0)"
   ]
  },
  {
   "cell_type": "code",
   "execution_count": 124,
   "metadata": {
    "ExecuteTime": {
     "end_time": "2020-01-31T09:41:00.323062Z",
     "start_time": "2020-01-31T09:41:00.296916Z"
    },
    "hidden": true
   },
   "outputs": [
    {
     "data": {
      "text/html": [
       "<div>\n",
       "<style scoped>\n",
       "    .dataframe tbody tr th:only-of-type {\n",
       "        vertical-align: middle;\n",
       "    }\n",
       "\n",
       "    .dataframe tbody tr th {\n",
       "        vertical-align: top;\n",
       "    }\n",
       "\n",
       "    .dataframe thead th {\n",
       "        text-align: right;\n",
       "    }\n",
       "</style>\n",
       "<table border=\"1\" class=\"dataframe\">\n",
       "  <thead>\n",
       "    <tr style=\"text-align: right;\">\n",
       "      <th></th>\n",
       "      <th>q</th>\n",
       "      <th>a</th>\n",
       "      <th>qe_name</th>\n",
       "      <th>qe_link</th>\n",
       "      <th>prop_1_name</th>\n",
       "      <th>prop_1_link</th>\n",
       "      <th>prop_2_name</th>\n",
       "      <th>prop_2_link</th>\n",
       "      <th>ans_link</th>\n",
       "    </tr>\n",
       "  </thead>\n",
       "  <tbody>\n",
       "    <tr>\n",
       "      <th>0</th>\n",
       "      <td>Где находится озеро Лох-Несс?</td>\n",
       "      <td>В Шотландии</td>\n",
       "      <td>Лох-Несс</td>\n",
       "      <td>http://www.wikidata.org/entity/Q49650</td>\n",
       "      <td>бассейн объекта в странах</td>\n",
       "      <td>http://www.wikidata.org/prop/direct/P205</td>\n",
       "      <td>заменил</td>\n",
       "      <td>http://www.wikidata.org/prop/direct/P1365</td>\n",
       "      <td>http://www.wikidata.org/entity/Q230791</td>\n",
       "    </tr>\n",
       "    <tr>\n",
       "      <th>1</th>\n",
       "      <td>Кто был соавтором С. В. Михалкова в написании ...</td>\n",
       "      <td>Эль-Регистан</td>\n",
       "      <td>СССР</td>\n",
       "      <td>http://www.wikidata.org/entity/Q15180</td>\n",
       "      <td>гимн</td>\n",
       "      <td>http://www.wikidata.org/prop/direct/P85</td>\n",
       "      <td>автор либретто</td>\n",
       "      <td>http://www.wikidata.org/prop/direct/P87</td>\n",
       "      <td>http://www.wikidata.org/entity/Q453447</td>\n",
       "    </tr>\n",
       "    <tr>\n",
       "      <th>2</th>\n",
       "      <td>Как называется мера счета мелких галантерейных...</td>\n",
       "      <td>Гросс</td>\n",
       "      <td>гросс</td>\n",
       "      <td>http://www.wikidata.org/entity/Q1547498</td>\n",
       "      <td>предположительно одно и то же с</td>\n",
       "      <td>http://www.wikidata.org/prop/direct/P460</td>\n",
       "      <td>предположительно одно и то же с</td>\n",
       "      <td>http://www.wikidata.org/prop/direct/P460</td>\n",
       "      <td>http://www.wikidata.org/entity/Q1547498</td>\n",
       "    </tr>\n",
       "    <tr>\n",
       "      <th>3</th>\n",
       "      <td>Какую болезнь в России когда-то называли инфлю...</td>\n",
       "      <td>Грипп</td>\n",
       "      <td>болезнь</td>\n",
       "      <td>http://www.wikidata.org/entity/Q12136</td>\n",
       "      <td>свойства у этого класса</td>\n",
       "      <td>http://www.wikidata.org/prop/direct/P1963</td>\n",
       "      <td>пример использования свойства</td>\n",
       "      <td>http://www.wikidata.org/prop/direct/P1855</td>\n",
       "      <td>http://www.wikidata.org/entity/Q2840</td>\n",
       "    </tr>\n",
       "    <tr>\n",
       "      <th>4</th>\n",
       "      <td>Какой голос у великого Лучано Паваротти?</td>\n",
       "      <td>Тенор</td>\n",
       "      <td>Лучано Паваротти</td>\n",
       "      <td>http://www.wikidata.org/entity/Q37615</td>\n",
       "      <td>певческий голос</td>\n",
       "      <td>http://www.wikidata.org/prop/direct/P412</td>\n",
       "      <td>подкласс от</td>\n",
       "      <td>http://www.wikidata.org/prop/direct/P279</td>\n",
       "      <td>http://www.wikidata.org/entity/Q27914</td>\n",
       "    </tr>\n",
       "  </tbody>\n",
       "</table>\n",
       "</div>"
      ],
      "text/plain": [
       "                                                   q             a  \\\n",
       "0                      Где находится озеро Лох-Несс?   В Шотландии   \n",
       "1  Кто был соавтором С. В. Михалкова в написании ...  Эль-Регистан   \n",
       "2  Как называется мера счета мелких галантерейных...         Гросс   \n",
       "3  Какую болезнь в России когда-то называли инфлю...         Грипп   \n",
       "4           Какой голос у великого Лучано Паваротти?         Тенор   \n",
       "\n",
       "            qe_name                                  qe_link  \\\n",
       "0          Лох-Несс    http://www.wikidata.org/entity/Q49650   \n",
       "1              СССР    http://www.wikidata.org/entity/Q15180   \n",
       "2             гросс  http://www.wikidata.org/entity/Q1547498   \n",
       "3           болезнь    http://www.wikidata.org/entity/Q12136   \n",
       "4  Лучано Паваротти    http://www.wikidata.org/entity/Q37615   \n",
       "\n",
       "                       prop_1_name                                prop_1_link  \\\n",
       "0        бассейн объекта в странах   http://www.wikidata.org/prop/direct/P205   \n",
       "1                             гимн    http://www.wikidata.org/prop/direct/P85   \n",
       "2  предположительно одно и то же с   http://www.wikidata.org/prop/direct/P460   \n",
       "3          свойства у этого класса  http://www.wikidata.org/prop/direct/P1963   \n",
       "4                  певческий голос   http://www.wikidata.org/prop/direct/P412   \n",
       "\n",
       "                       prop_2_name                                prop_2_link  \\\n",
       "0                          заменил  http://www.wikidata.org/prop/direct/P1365   \n",
       "1                   автор либретто    http://www.wikidata.org/prop/direct/P87   \n",
       "2  предположительно одно и то же с   http://www.wikidata.org/prop/direct/P460   \n",
       "3    пример использования свойства  http://www.wikidata.org/prop/direct/P1855   \n",
       "4                      подкласс от   http://www.wikidata.org/prop/direct/P279   \n",
       "\n",
       "                                  ans_link  \n",
       "0   http://www.wikidata.org/entity/Q230791  \n",
       "1   http://www.wikidata.org/entity/Q453447  \n",
       "2  http://www.wikidata.org/entity/Q1547498  \n",
       "3     http://www.wikidata.org/entity/Q2840  \n",
       "4    http://www.wikidata.org/entity/Q27914  "
      ]
     },
     "execution_count": 124,
     "metadata": {},
     "output_type": "execute_result"
    }
   ],
   "source": [
    "data.head()"
   ]
  },
  {
   "cell_type": "code",
   "execution_count": 125,
   "metadata": {
    "ExecuteTime": {
     "end_time": "2020-01-31T09:41:01.446086Z",
     "start_time": "2020-01-31T09:41:01.369129Z"
    },
    "hidden": true
   },
   "outputs": [],
   "source": [
    "sep = '-----'\n",
    "with open('2hop_editor.txt', 'w') as ouf:\n",
    "    for idx, row in data.iterrows():\n",
    "        qe_uri = row['qe_link']\n",
    "        prop_uri_1 = row['prop_1_link']\n",
    "        prop_uri_2 = row['prop_2_link']\n",
    "        ans_uri = row['ans_link']\n",
    "        print(idx, file=ouf)\n",
    "        print(row['q'], file=ouf)\n",
    "        print(row['a'], file=ouf)\n",
    "        print(f'{qe_uri} [ {row[\"qe_name\"]} ] ->', file=ouf)\n",
    "        print(f'{prop_uri_1} {{ {row[\"prop_1_name\"]} }} ->', file=ouf)\n",
    "        print(f'{prop_uri_2} {{ {row[\"prop_2_name\"]} }} ->', file=ouf)\n",
    "        print(row['ans_link'], file=ouf)\n",
    "        print(build_initial_sparql_query_for_2hop_question(qe_uri, prop_uri_1, prop_uri_2), file=ouf)\n",
    "        print('edited=0', file=ouf)\n",
    "        print(sep, file=ouf)"
   ]
  },
  {
   "cell_type": "markdown",
   "metadata": {},
   "source": [
    "### Parse and tag questions"
   ]
  },
  {
   "cell_type": "code",
   "execution_count": 18,
   "metadata": {
    "ExecuteTime": {
     "end_time": "2020-04-07T15:12:14.894103Z",
     "start_time": "2020-04-07T15:12:13.937964Z"
    }
   },
   "outputs": [],
   "source": [
    "def get_query_tags(ql):\n",
    "    tags = []\n",
    "    if 'COUNT' in ql[0]:\n",
    "        tags.append('count')\n",
    "    if 'LIMIT' in ql[-1] and 'ORDER' in ql[-2]:\n",
    "        tags.append('ranking')\n",
    "        ql = ql[:-2]\n",
    "    ql = ql[2:-2]\n",
    "    if 'FILTER' in ql[-1] and 'not in' in ql[-1]:\n",
    "        tags.append('exclusive')\n",
    "        ql = ql[:-1]\n",
    "    if ql[0].split()[0] == '?answer':\n",
    "        tags.append('reverse')\n",
    "    if len(ql) == 1:\n",
    "        if 'VALUES' in ql[0]:\n",
    "            tags.append('0-hop')\n",
    "            return tags\n",
    "        if '[' in ql[0]:\n",
    "            clause = re.findall(r'\\[(.*)\\]', ql[0])[0]\n",
    "            if ';' not in clause:\n",
    "                tags.append('multi-hop')\n",
    "            else:\n",
    "                clauses = clause.split(';')\n",
    "                if '?answer' in clause[1]:\n",
    "                    tags.append('qualifier-answer')\n",
    "                else:\n",
    "                    tags.append('qualifier-constraint')\n",
    "        else:\n",
    "            tags.append('1-hop')\n",
    "    else:\n",
    "        tags.append('multi-constraint')\n",
    "    return tags"
   ]
  },
  {
   "cell_type": "code",
   "execution_count": 19,
   "metadata": {
    "ExecuteTime": {
     "end_time": "2020-04-07T15:12:32.775035Z",
     "start_time": "2020-04-07T15:12:32.762210Z"
    }
   },
   "outputs": [],
   "source": [
    "def get_query_entities(ql):\n",
    "    ent_set = set()\n",
    "    for line in ql:\n",
    "        ent_set.update(set(re.findall(r'Q\\d+', line)))\n",
    "    return ['http://www.wikidata.org/entity/' + ent for ent in ent_set]"
   ]
  },
  {
   "cell_type": "code",
   "execution_count": 45,
   "metadata": {
    "ExecuteTime": {
     "end_time": "2020-04-07T15:37:54.630541Z",
     "start_time": "2020-04-07T15:37:54.621815Z"
    }
   },
   "outputs": [],
   "source": [
    "def get_query_props(ql):\n",
    "    prop_set = set()\n",
    "    for line in ql:\n",
    "        prop_set.update(set(re.findall(r'P\\d+', line)))\n",
    "        if 'skos:altLabel' in line:\n",
    "            prop_set.add('altLabel')\n",
    "        if 'rdfs:label' in line:\n",
    "            prop_set.add('label')\n",
    "    return list(prop_set)"
   ]
  },
  {
   "cell_type": "code",
   "execution_count": 301,
   "metadata": {
    "ExecuteTime": {
     "end_time": "2020-02-12T12:48:49.780970Z",
     "start_time": "2020-02-12T12:48:49.725941Z"
    },
    "scrolled": true
   },
   "outputs": [
    {
     "name": "stdout",
     "output_type": "stream",
     "text": [
      "124\n"
     ]
    }
   ],
   "source": [
    "edited_1hop_qs = []\n",
    "cnt = 0\n",
    "with open('1hop_editor.txt', 'r') as inf:\n",
    "    lines = [line.strip('\\n') for line in inf]\n",
    "    ptr = 0\n",
    "    while ptr < len(lines):\n",
    "        cur_lines = []\n",
    "        while lines[ptr] != sep:\n",
    "            cur_lines.append(lines[ptr])\n",
    "            ptr += 1\n",
    "        ptr += 1\n",
    "        q = cur_lines[1]\n",
    "        a = cur_lines[2]\n",
    "        query_lines = [line.strip() for line in cur_lines[6:-1]]\n",
    "        entry = DatasetEntry(\n",
    "            uid=(2000 + cnt),\n",
    "            question_text=q,\n",
    "            answer_text=a,\n",
    "            question_uris=get_query_entities(query_lines),\n",
    "            question_props=get_query_props(query_lines),\n",
    "            answer_uris=[cur_lines[5]],\n",
    "            tags=get_query_tags(query_lines)\n",
    "        )\n",
    "        query = '\\n'.join(cur_lines[6:-1])\n",
    "        query = query.replace(' ?answerLabel', '')\n",
    "        query = query.replace('  SERVICE wikibase:label { bd:serviceParam wikibase:language \"[AUTO_LANGUAGE],ru\". }\\n', '')\n",
    "        entry.set_query(query)\n",
    "        assert(entry.validate())\n",
    "        edited_1hop_qs.append(entry)\n",
    "        cnt += 1 \n",
    "print(cnt)\n",
    "json_dump(edited_1hop_qs, 'dataset_1hop_edited.json')"
   ]
  },
  {
   "cell_type": "code",
   "execution_count": 302,
   "metadata": {
    "ExecuteTime": {
     "end_time": "2020-02-12T12:48:56.481921Z",
     "start_time": "2020-02-12T12:48:56.450182Z"
    }
   },
   "outputs": [
    {
     "name": "stdout",
     "output_type": "stream",
     "text": [
      "149\n"
     ]
    }
   ],
   "source": [
    "edited_2hop_qs = []\n",
    "cnt = 0\n",
    "with open('2hop_editor.txt', 'r') as inf:\n",
    "    lines = [line.strip('\\n') for line in inf]\n",
    "    ptr = 0\n",
    "    while ptr < len(lines):\n",
    "        cur_lines = []\n",
    "        while lines[ptr] != sep:\n",
    "            cur_lines.append(lines[ptr])\n",
    "            ptr += 1\n",
    "        ptr += 1\n",
    "        q = cur_lines[1]\n",
    "        a = cur_lines[2]\n",
    "        query_lines = [line.strip() for line in cur_lines[7:-1]]\n",
    "        entry = DatasetEntry(\n",
    "            uid=(3000 + cnt),\n",
    "            question_text=q,\n",
    "            answer_text=a,\n",
    "            question_uris=get_query_entities(query_lines),\n",
    "            question_props=get_query_props(query_lines),\n",
    "            answer_uris=[cur_lines[6]],\n",
    "            tags=get_query_tags(query_lines)\n",
    "        )\n",
    "        query = '\\n'.join(cur_lines[7:-1])\n",
    "        query = query.replace(' ?answerLabel', '')\n",
    "        query = query.replace('  SERVICE wikibase:label { bd:serviceParam wikibase:language \"[AUTO_LANGUAGE],ru\". }\\n', '')\n",
    "        entry.set_query(query)\n",
    "        assert(entry.validate())\n",
    "        edited_2hop_qs.append(entry)\n",
    "        cnt += 1 \n",
    "print(cnt)\n",
    "json_dump(edited_2hop_qs, 'dataset_2hop_edited.json')"
   ]
  },
  {
   "cell_type": "code",
   "execution_count": 154,
   "metadata": {
    "ExecuteTime": {
     "end_time": "2020-03-03T11:33:39.152452Z",
     "start_time": "2020-03-03T11:33:39.128302Z"
    }
   },
   "outputs": [
    {
     "name": "stdout",
     "output_type": "stream",
     "text": [
      "22\n"
     ]
    }
   ],
   "source": [
    "sep = '-----'\n",
    "edited_count_qs = []\n",
    "cnt = 0\n",
    "with open('count_editor.txt', 'r') as inf:\n",
    "    lines = [line.strip('\\n') for line in inf]\n",
    "    ptr = 0\n",
    "    while ptr < len(lines):\n",
    "        cur_lines = []\n",
    "        while lines[ptr] != sep:\n",
    "            cur_lines.append(lines[ptr])\n",
    "            ptr += 1\n",
    "        ptr += 1\n",
    "        q = cur_lines[1]\n",
    "        a = cur_lines[2]\n",
    "        query_lines = [line.strip() for line in cur_lines[7:-1]]\n",
    "        entry = DatasetEntry(\n",
    "            uid=(4000 + cnt),\n",
    "            question_text=q,\n",
    "            answer_text=a,\n",
    "            question_uris=get_query_entities(query_lines),\n",
    "            question_props=get_query_props(query_lines),\n",
    "            answer_uris=[cur_lines[6]],\n",
    "            tags=get_query_tags(query_lines)\n",
    "        )\n",
    "        query = '\\n'.join(cur_lines[7:-1])\n",
    "        query = query.replace(' ?answerLabel', '')\n",
    "        query = query.replace('  SERVICE wikibase:label { bd:serviceParam wikibase:language \"[AUTO_LANGUAGE],ru\". }\\n', '')\n",
    "        entry.set_query(query)\n",
    "        assert(entry.validate())\n",
    "        edited_count_qs.append(entry)\n",
    "        cnt += 1 \n",
    "print(cnt)\n",
    "json_dump(edited_count_qs, 'dataset_count_edited.json')"
   ]
  },
  {
   "cell_type": "markdown",
   "metadata": {},
   "source": [
    "### Merge"
   ]
  },
  {
   "cell_type": "code",
   "execution_count": 256,
   "metadata": {
    "ExecuteTime": {
     "end_time": "2020-02-06T14:13:03.205138Z",
     "start_time": "2020-02-06T14:13:03.123612Z"
    },
    "deletable": false,
    "editable": false,
    "run_control": {
     "frozen": true
    }
   },
   "outputs": [],
   "source": [
    "dataset = json_read('dataset_1hop_fully_correct.json') + \\\n",
    "          json_read('dataset_2hop_fully_correct.json') + \\\n",
    "          json_read('dataset_1hop_edited.json') + \\\n",
    "          json_read('dataset_2hop_edited.json')\n",
    "json_dump(dataset, 'kbqa_russian_dataset.json')"
   ]
  },
  {
   "cell_type": "markdown",
   "metadata": {},
   "source": [
    "### Editing queries"
   ]
  },
  {
   "cell_type": "code",
   "execution_count": 146,
   "metadata": {
    "ExecuteTime": {
     "end_time": "2020-03-03T11:18:20.242430Z",
     "start_time": "2020-03-03T11:18:20.234968Z"
    }
   },
   "outputs": [],
   "source": [
    "dataset = json_read('kbqa_russian_dataset.json')"
   ]
  },
  {
   "cell_type": "code",
   "execution_count": 147,
   "metadata": {
    "ExecuteTime": {
     "end_time": "2020-03-03T11:18:32.610799Z",
     "start_time": "2020-03-03T11:18:32.587832Z"
    }
   },
   "outputs": [
    {
     "ename": "FileNotFoundError",
     "evalue": "[Errno 2] No such file or directory: 'answers_check_count.txt'",
     "output_type": "error",
     "traceback": [
      "\u001b[0;31m---------------------------------------------------------------------------\u001b[0m",
      "\u001b[0;31mFileNotFoundError\u001b[0m                         Traceback (most recent call last)",
      "\u001b[0;32m<ipython-input-147-c458002738fc>\u001b[0m in \u001b[0;36m<module>\u001b[0;34m\u001b[0m\n\u001b[1;32m      1\u001b[0m \u001b[0meditions\u001b[0m \u001b[0;34m=\u001b[0m \u001b[0;34m{\u001b[0m\u001b[0;34m}\u001b[0m\u001b[0;34m\u001b[0m\u001b[0;34m\u001b[0m\u001b[0m\n\u001b[0;32m----> 2\u001b[0;31m \u001b[0;32mwith\u001b[0m \u001b[0mopen\u001b[0m\u001b[0;34m(\u001b[0m\u001b[0;34m'answers_check_count.txt'\u001b[0m\u001b[0;34m,\u001b[0m \u001b[0;34m'r'\u001b[0m\u001b[0;34m)\u001b[0m \u001b[0;32mas\u001b[0m \u001b[0minf\u001b[0m\u001b[0;34m:\u001b[0m\u001b[0;34m\u001b[0m\u001b[0;34m\u001b[0m\u001b[0m\n\u001b[0m\u001b[1;32m      3\u001b[0m     \u001b[0mlines\u001b[0m \u001b[0;34m=\u001b[0m \u001b[0;34m[\u001b[0m\u001b[0mline\u001b[0m\u001b[0;34m.\u001b[0m\u001b[0mstrip\u001b[0m\u001b[0;34m(\u001b[0m\u001b[0;34m'\\n'\u001b[0m\u001b[0;34m)\u001b[0m \u001b[0;32mfor\u001b[0m \u001b[0mline\u001b[0m \u001b[0;32min\u001b[0m \u001b[0minf\u001b[0m\u001b[0;34m]\u001b[0m\u001b[0;34m\u001b[0m\u001b[0;34m\u001b[0m\u001b[0m\n\u001b[1;32m      4\u001b[0m     \u001b[0mquery_lines\u001b[0m \u001b[0;34m=\u001b[0m \u001b[0;34m[\u001b[0m\u001b[0;34m]\u001b[0m\u001b[0;34m\u001b[0m\u001b[0;34m\u001b[0m\u001b[0m\n\u001b[1;32m      5\u001b[0m     \u001b[0;32mfor\u001b[0m \u001b[0mline\u001b[0m \u001b[0;32min\u001b[0m \u001b[0mlines\u001b[0m\u001b[0;34m:\u001b[0m\u001b[0;34m\u001b[0m\u001b[0;34m\u001b[0m\u001b[0m\n",
      "\u001b[0;31mFileNotFoundError\u001b[0m: [Errno 2] No such file or directory: 'answers_check_count.txt'"
     ]
    }
   ],
   "source": [
    "editions = {}\n",
    "with open('answers_check.txt', 'r') as inf:\n",
    "    lines = [line.strip('\\n') for line in inf]\n",
    "    query_lines = []\n",
    "    for line in lines:\n",
    "        if line != sep:\n",
    "            query_lines.append(line)\n",
    "        else:\n",
    "            uid = query_lines[0]\n",
    "            query_lines = query_lines[1:]\n",
    "            tags = get_query_tags(query_lines)\n",
    "            qe_uris = get_query_entities(query_lines)\n",
    "            prop_uris = get_query_props(query_lines)\n",
    "            editions[uid] = {}\n",
    "            editions[uid]['qe_uris'] = qe_uris\n",
    "            editions[uid]['prop_uris'] = prop_uris\n",
    "            editions[uid]['tags'] = tags\n",
    "            query = '\\n'.join(query_lines)\n",
    "            query = query.replace(' ?answerLabel', '')\n",
    "            query = query.replace('  SERVICE wikibase:label { bd:serviceParam wikibase:language \"[AUTO_LANGUAGE],ru\". }\\n', '')\n",
    "            editions[uid]['query'] = query\n",
    "            print(uid)\n",
    "            print(query)\n",
    "            print(qe_uris)\n",
    "            print(prop_uris)\n",
    "            print(tags)\n",
    "            query_lines = []"
   ]
  },
  {
   "cell_type": "code",
   "execution_count": 364,
   "metadata": {
    "ExecuteTime": {
     "end_time": "2020-02-13T16:26:55.739100Z",
     "start_time": "2020-02-13T16:26:55.731979Z"
    }
   },
   "outputs": [
    {
     "data": {
      "text/plain": [
       "{'qe_uris': ['http://www.wikidata.org/entity/Q165',\n",
       "  'http://www.wikidata.org/entity/Q29'],\n",
       " 'prop_uris': ['P206', 'P31', 'P279'],\n",
       " 'tags': ['multi-constraint'],\n",
       " 'query': 'SELECT ?answer \\nWHERE {\\n  wd:Q29 wdt:P206 ?answer .\\n  ?answer wdt:P31/wdt:P279* wd:Q165 \\n}'}"
      ]
     },
     "execution_count": 364,
     "metadata": {},
     "output_type": "execute_result"
    }
   ],
   "source": [
    "editions['468']"
   ]
  },
  {
   "cell_type": "code",
   "execution_count": 365,
   "metadata": {
    "ExecuteTime": {
     "end_time": "2020-02-13T16:27:00.971730Z",
     "start_time": "2020-02-13T16:27:00.963490Z"
    }
   },
   "outputs": [],
   "source": [
    "for entry in dataset:\n",
    "    uid = str(entry['uid'])\n",
    "    if uid in editions:\n",
    "        new_e = editions[uid]\n",
    "        entry['query'] = new_e['query']\n",
    "        entry['question_uris'] = new_e['qe_uris']\n",
    "        entry['question_props'] = new_e['prop_uris']\n",
    "        entry['tags'] = new_e['tags']"
   ]
  },
  {
   "cell_type": "code",
   "execution_count": 366,
   "metadata": {
    "ExecuteTime": {
     "end_time": "2020-02-13T16:27:01.676895Z",
     "start_time": "2020-02-13T16:27:01.669788Z"
    }
   },
   "outputs": [
    {
     "data": {
      "text/plain": [
       "{'uid': 468,\n",
       " 'question_text': 'Какое море омывает берега Испании?',\n",
       " 'query': 'SELECT ?answer \\nWHERE {\\n  wd:Q29 wdt:P206 ?answer .\\n  ?answer wdt:P31/wdt:P279* wd:Q165 \\n}',\n",
       " 'answer_text': 'Средиземное',\n",
       " 'question_uris': ['http://www.wikidata.org/entity/Q165',\n",
       "  'http://www.wikidata.org/entity/Q29'],\n",
       " 'question_props': ['P206', 'P31', 'P279'],\n",
       " 'answer_uris': ['http://www.wikidata.org/entity/Q4918'],\n",
       " 'tags': ['multi-constraint']}"
      ]
     },
     "execution_count": 366,
     "metadata": {},
     "output_type": "execute_result"
    }
   ],
   "source": [
    "dataset[455]"
   ]
  },
  {
   "cell_type": "code",
   "execution_count": 367,
   "metadata": {
    "ExecuteTime": {
     "end_time": "2020-02-13T16:27:03.145453Z",
     "start_time": "2020-02-13T16:27:03.074328Z"
    }
   },
   "outputs": [],
   "source": [
    "json_dump(dataset, 'kbqa_russian_dataset_edited.json')"
   ]
  },
  {
   "cell_type": "code",
   "execution_count": null,
   "metadata": {},
   "outputs": [],
   "source": []
  },
  {
   "cell_type": "markdown",
   "metadata": {},
   "source": [
    "### Get actual answers by queries"
   ]
  },
  {
   "cell_type": "code",
   "execution_count": 95,
   "metadata": {
    "ExecuteTime": {
     "end_time": "2020-04-07T20:31:52.966526Z",
     "start_time": "2020-04-07T20:31:52.939438Z"
    }
   },
   "outputs": [],
   "source": [
    "dataset = json_read('kbqa_russian_dataset.json')"
   ]
  },
  {
   "cell_type": "code",
   "execution_count": 70,
   "metadata": {
    "ExecuteTime": {
     "end_time": "2020-04-07T19:05:56.365634Z",
     "start_time": "2020-04-07T19:05:56.360478Z"
    }
   },
   "outputs": [
    {
     "data": {
      "text/plain": [
       "1500"
      ]
     },
     "execution_count": 70,
     "metadata": {},
     "output_type": "execute_result"
    }
   ],
   "source": [
    "len(dataset)"
   ]
  },
  {
   "cell_type": "code",
   "execution_count": 65,
   "metadata": {
    "ExecuteTime": {
     "end_time": "2020-04-07T18:22:23.165201Z",
     "start_time": "2020-04-07T18:22:22.697918Z"
    }
   },
   "outputs": [
    {
     "data": {
      "text/plain": [
       "[{'answer': {'type': 'uri', 'value': 'http://www.wikidata.org/entity/Q7944'}},\n",
       " {'answer': {'type': 'uri', 'value': 'http://www.wikidata.org/entity/Q60186'}},\n",
       " {'answer': {'type': 'uri',\n",
       "   'value': 'http://www.wikidata.org/entity/Q167903'}},\n",
       " {'answer': {'type': 'uri',\n",
       "   'value': 'http://www.wikidata.org/entity/Q2580904'}},\n",
       " {'answer': {'type': 'uri',\n",
       "   'value': 'http://www.wikidata.org/entity/Q5975740'}},\n",
       " {'answer': {'type': 'uri',\n",
       "   'value': 'http://www.wikidata.org/entity/Q7692360'}}]"
      ]
     },
     "execution_count": 65,
     "metadata": {},
     "output_type": "execute_result"
    }
   ],
   "source": [
    "return_sparql_query_results(dataset[0]['query'])['results']['bindings']"
   ]
  },
  {
   "cell_type": "code",
   "execution_count": 66,
   "metadata": {
    "ExecuteTime": {
     "end_time": "2020-04-07T18:22:24.583537Z",
     "start_time": "2020-04-07T18:22:24.575571Z"
    },
    "deletable": false,
    "editable": false,
    "run_control": {
     "frozen": true
    }
   },
   "outputs": [],
   "source": [
    "actual_answers = {}"
   ]
  },
  {
   "cell_type": "code",
   "execution_count": 71,
   "metadata": {
    "ExecuteTime": {
     "end_time": "2020-04-07T19:09:29.141533Z",
     "start_time": "2020-04-07T19:06:08.338067Z"
    }
   },
   "outputs": [
    {
     "data": {
      "application/vnd.jupyter.widget-view+json": {
       "model_id": "2520ea29c1174033a5a6e2bef171fed8",
       "version_major": 2,
       "version_minor": 0
      },
      "text/plain": [
       "HBox(children=(IntProgress(value=0, max=145), HTML(value='')))"
      ]
     },
     "metadata": {},
     "output_type": "display_data"
    }
   ],
   "source": [
    "for entry in tqdm(dataset[1055:1200]):\n",
    "    sleep(0.75)\n",
    "    uid = entry['uid']\n",
    "    query = entry['query']\n",
    "    response = requests.get('https://query.wikidata.org/sparql', params={'format': 'json', 'query': query})\n",
    "    to_sleep = 3\n",
    "    while response.status_code == 429:\n",
    "        sleep(to_sleep)\n",
    "        to_sleep += 2\n",
    "        response = requests.get('https://query.wikidata.org/sparql', params={'format': 'json', 'query': query})\n",
    "        print('slept')\n",
    "    answers = response.json()['results']['bindings']\n",
    "    actual_answers[uid] = answers"
   ]
  },
  {
   "cell_type": "code",
   "execution_count": 91,
   "metadata": {
    "ExecuteTime": {
     "end_time": "2020-04-07T20:29:17.552577Z",
     "start_time": "2020-04-07T20:29:17.545194Z"
    },
    "collapsed": true
   },
   "outputs": [
    {
     "name": "stdout",
     "output_type": "stream",
     "text": [
      "[\n",
      "    {\n",
      "        \"xml:lang\": \"ru\",\n",
      "        \"type\": \"literal\",\n",
      "        \"value\": \"CO\"\n",
      "    },\n",
      "    {\n",
      "        \"xml:lang\": \"ru\",\n",
      "        \"type\": \"literal\",\n",
      "        \"value\": \"Carbon monoxide\"\n",
      "    },\n",
      "    {\n",
      "        \"xml:lang\": \"ru\",\n",
      "        \"type\": \"literal\",\n",
      "        \"value\": \"Моноксид углерода\"\n",
      "    },\n",
      "    {\n",
      "        \"xml:lang\": \"ru\",\n",
      "        \"type\": \"literal\",\n",
      "        \"value\": \"окись углерода\"\n",
      "    },\n",
      "    {\n",
      "        \"xml:lang\": \"ru\",\n",
      "        \"type\": \"literal\",\n",
      "        \"value\": \"оксид углерода (II)\"\n",
      "    },\n",
      "    {\n",
      "        \"xml:lang\": \"ru\",\n",
      "        \"type\": \"literal\",\n",
      "        \"value\": \"Оксид углерода(II)\"\n",
      "    },\n",
      "    {\n",
      "        \"xml:lang\": \"ru\",\n",
      "        \"type\": \"literal\",\n",
      "        \"value\": \"Равновесие Будуара\"\n",
      "    },\n",
      "    {\n",
      "        \"xml:lang\": \"ru\",\n",
      "        \"type\": \"literal\",\n",
      "        \"value\": \"угарный газ\"\n",
      "    },\n",
      "    {\n",
      "        \"xml:lang\": \"ru\",\n",
      "        \"type\": \"literal\",\n",
      "        \"value\": \"Углерода окись\"\n",
      "    }\n",
      "]\n"
     ]
    }
   ],
   "source": [
    "print(json.dumps([ans['answer'] for ans in actual_answers[2105]], indent=4, ensure_ascii=False))"
   ]
  },
  {
   "cell_type": "code",
   "execution_count": 97,
   "metadata": {
    "ExecuteTime": {
     "end_time": "2020-04-07T20:32:01.629078Z",
     "start_time": "2020-04-07T20:32:01.607155Z"
    },
    "scrolled": true
   },
   "outputs": [],
   "source": [
    "sep = '-----'\n",
    "with open('final_check.txt', 'w') as ouf:\n",
    "    for entry in dataset[:1200]:\n",
    "        uid = entry['uid']\n",
    "        ans_uris = sorted([ans['value'] for ans in entry['answers']])\n",
    "        act_ans_uris = [m['answer']['value'] for m in actual_answers[uid]]\n",
    "        act_ans_uris = sorted(list(set(act_ans_uris)))\n",
    "        query = entry['query']\n",
    "        query = query.replace('SELECT ?answer', 'SELECT ?answer ?answerLabel')\n",
    "        query = query.replace('\\n}', '\\n  SERVICE wikibase:label { bd:serviceParam wikibase:language \"[AUTO_LANGUAGE],ru\". }\\n}')\n",
    "        if len(ans_uris) != len(act_ans_uris):\n",
    "            print(uid, file=ouf)\n",
    "            print(entry['question_text'], file=ouf)\n",
    "            print(entry['question_uris'], file=ouf)\n",
    "            print(ans_uris, file=ouf)\n",
    "            print(act_ans_uris, file=ouf)\n",
    "            print(query, file=ouf)\n",
    "            print(sep, file=ouf)\n",
    "        else:\n",
    "            for i in range(len(ans_uris)):\n",
    "                if ans_uris[i] != act_ans_uris[i]:\n",
    "                    print(uid, file=ouf)\n",
    "                    print(entry['question_text'], file=ouf)\n",
    "                    print(entry['question_uris'], file=ouf)\n",
    "                    print(ans_uris, file=ouf)\n",
    "                    print(act_ans_uris, file=ouf)\n",
    "                    print(query, file=ouf)\n",
    "                    print(sep, file=ouf)\n",
    "                    break"
   ]
  },
  {
   "cell_type": "code",
   "execution_count": 155,
   "metadata": {
    "ExecuteTime": {
     "end_time": "2020-03-03T11:36:58.693145Z",
     "start_time": "2020-03-03T11:36:58.678956Z"
    }
   },
   "outputs": [
    {
     "data": {
      "text/plain": [
       "{4000: [{'answer': {'datatype': 'http://www.w3.org/2001/XMLSchema#integer',\n",
       "    'type': 'literal',\n",
       "    'value': '116'}}],\n",
       " 4001: [{'answer': {'datatype': 'http://www.w3.org/2001/XMLSchema#decimal',\n",
       "    'type': 'literal',\n",
       "    'value': '33'}}],\n",
       " 4002: [{'answer': {'datatype': 'http://www.w3.org/2001/XMLSchema#decimal',\n",
       "    'type': 'literal',\n",
       "    'value': '12'}}],\n",
       " 4003: [{'answer': {'datatype': 'http://www.w3.org/2001/XMLSchema#integer',\n",
       "    'type': 'literal',\n",
       "    'value': '2'}}],\n",
       " 4004: [{'answer': {'datatype': 'http://www.w3.org/2001/XMLSchema#integer',\n",
       "    'type': 'literal',\n",
       "    'value': '4'}}],\n",
       " 4005: [{'answer': {'datatype': 'http://www.w3.org/2001/XMLSchema#integer',\n",
       "    'type': 'literal',\n",
       "    'value': '300'}}],\n",
       " 4006: [{'answer': {'datatype': 'http://www.w3.org/2001/XMLSchema#integer',\n",
       "    'type': 'literal',\n",
       "    'value': '6'}}],\n",
       " 4007: [{'answer': {'datatype': 'http://www.w3.org/2001/XMLSchema#decimal',\n",
       "    'type': 'literal',\n",
       "    'value': '13'}}],\n",
       " 4008: [{'answer': {'datatype': 'http://www.w3.org/2001/XMLSchema#integer',\n",
       "    'type': 'literal',\n",
       "    'value': '1724'}}],\n",
       " 4009: [{'answer': {'datatype': 'http://www.w3.org/2001/XMLSchema#integer',\n",
       "    'type': 'literal',\n",
       "    'value': '6'}}],\n",
       " 4010: [{'answer': {'type': 'uri',\n",
       "    'value': 'http://www.wikidata.org/entity/Q173998'}}],\n",
       " 4011: [{'answer': {'type': 'uri',\n",
       "    'value': 'http://www.wikidata.org/entity/Q788'}}],\n",
       " 4012: [{'answer': {'type': 'uri',\n",
       "    'value': 'http://www.wikidata.org/entity/Q25322'}}],\n",
       " 4013: [{'answer': {'type': 'uri',\n",
       "    'value': 'http://www.wikidata.org/entity/Q319'}}],\n",
       " 4014: [{'answer': {'type': 'uri',\n",
       "    'value': 'http://www.wikidata.org/entity/Q1490'}}],\n",
       " 4015: [{'answer': {'type': 'uri',\n",
       "    'value': 'http://www.wikidata.org/entity/Q237'}}],\n",
       " 4016: [{'answer': {'type': 'uri',\n",
       "    'value': 'http://www.wikidata.org/entity/Q627508'}}],\n",
       " 4017: [{'answer': {'type': 'uri',\n",
       "    'value': 'http://www.wikidata.org/entity/Q18'}}],\n",
       " 4018: [{'answer': {'type': 'uri',\n",
       "    'value': 'http://www.wikidata.org/entity/Q22686'}}],\n",
       " 4019: [{'answer': {'datatype': 'http://www.w3.org/2001/XMLSchema#integer',\n",
       "    'type': 'literal',\n",
       "    'value': '1868'}}],\n",
       " 4020: [{'answer': {'datatype': 'http://www.w3.org/2001/XMLSchema#integer',\n",
       "    'type': 'literal',\n",
       "    'value': '1995'}}],\n",
       " 4021: [{'answer': {'datatype': 'http://www.w3.org/2001/XMLSchema#dateTime',\n",
       "    'type': 'literal',\n",
       "    'value': '1914-07-28T00:00:00Z'}}]}"
      ]
     },
     "execution_count": 155,
     "metadata": {},
     "output_type": "execute_result"
    }
   ],
   "source": [
    "actual_answers"
   ]
  },
  {
   "cell_type": "code",
   "execution_count": 156,
   "metadata": {
    "ExecuteTime": {
     "end_time": "2020-03-03T11:37:20.621389Z",
     "start_time": "2020-03-03T11:37:20.608224Z"
    }
   },
   "outputs": [
    {
     "name": "stdout",
     "output_type": "stream",
     "text": [
      "4000 [{'datatype': 'http://www.w3.org/2001/XMLSchema#integer', 'type': 'literal', 'value': '116'}]\n",
      "4001 [{'datatype': 'http://www.w3.org/2001/XMLSchema#decimal', 'type': 'literal', 'value': '33'}]\n",
      "4002 [{'datatype': 'http://www.w3.org/2001/XMLSchema#decimal', 'type': 'literal', 'value': '12'}]\n",
      "4003 [{'datatype': 'http://www.w3.org/2001/XMLSchema#integer', 'type': 'literal', 'value': '2'}]\n",
      "4004 [{'datatype': 'http://www.w3.org/2001/XMLSchema#integer', 'type': 'literal', 'value': '4'}]\n",
      "4005 [{'datatype': 'http://www.w3.org/2001/XMLSchema#integer', 'type': 'literal', 'value': '300'}]\n",
      "4006 [{'datatype': 'http://www.w3.org/2001/XMLSchema#integer', 'type': 'literal', 'value': '6'}]\n",
      "4007 [{'datatype': 'http://www.w3.org/2001/XMLSchema#decimal', 'type': 'literal', 'value': '13'}]\n",
      "4008 [{'datatype': 'http://www.w3.org/2001/XMLSchema#integer', 'type': 'literal', 'value': '1724'}]\n",
      "4009 [{'datatype': 'http://www.w3.org/2001/XMLSchema#integer', 'type': 'literal', 'value': '6'}]\n",
      "4010 [{'type': 'uri', 'value': 'http://www.wikidata.org/entity/Q173998'}]\n",
      "4011 [{'type': 'uri', 'value': 'http://www.wikidata.org/entity/Q788'}]\n",
      "4012 [{'type': 'uri', 'value': 'http://www.wikidata.org/entity/Q25322'}]\n",
      "4013 [{'type': 'uri', 'value': 'http://www.wikidata.org/entity/Q319'}]\n",
      "4014 [{'type': 'uri', 'value': 'http://www.wikidata.org/entity/Q1490'}]\n",
      "4015 [{'type': 'uri', 'value': 'http://www.wikidata.org/entity/Q237'}]\n",
      "4016 [{'type': 'uri', 'value': 'http://www.wikidata.org/entity/Q627508'}]\n",
      "4017 [{'type': 'uri', 'value': 'http://www.wikidata.org/entity/Q18'}]\n",
      "4018 [{'type': 'uri', 'value': 'http://www.wikidata.org/entity/Q22686'}]\n",
      "4019 [{'datatype': 'http://www.w3.org/2001/XMLSchema#integer', 'type': 'literal', 'value': '1868'}]\n",
      "4020 [{'datatype': 'http://www.w3.org/2001/XMLSchema#integer', 'type': 'literal', 'value': '1995'}]\n",
      "4021 [{'datatype': 'http://www.w3.org/2001/XMLSchema#dateTime', 'type': 'literal', 'value': '1914-07-28T00:00:00Z'}]\n"
     ]
    }
   ],
   "source": [
    "for entry in dataset:\n",
    "    uid = entry['uid']\n",
    "    cur_answers = [e['answer'] for e in actual_answers[uid]]\n",
    "    print(uid, cur_answers)\n",
    "    tags = entry['tags']\n",
    "    del entry['tags']\n",
    "    entry['answers'] = cur_answers\n",
    "    entry['tags'] = tags"
   ]
  },
  {
   "cell_type": "code",
   "execution_count": 159,
   "metadata": {
    "ExecuteTime": {
     "end_time": "2020-03-03T11:38:40.429636Z",
     "start_time": "2020-03-03T11:38:40.413409Z"
    }
   },
   "outputs": [
    {
     "data": {
      "text/plain": [
       "[{'uid': 4000,\n",
       "  'question_text': 'Сколько длилась столетняя война?',\n",
       "  'query': 'SELECT ?answer\\nWHERE {\\n  wd:Q12551 wdt:P580 ?begin .\\n  wd:Q12551 wdt:P582 ?end .\\n  BIND (YEAR(?end) - YEAR(?begin) AS ?answer) .\\n}',\n",
       "  'answer_text': '116',\n",
       "  'question_uris': ['http://www.wikidata.org/entity/Q12551'],\n",
       "  'question_props': ['P580', 'P582'],\n",
       "  'answers': [{'datatype': 'http://www.w3.org/2001/XMLSchema#integer',\n",
       "    'type': 'literal',\n",
       "    'value': '116'}],\n",
       "  'tags': ['multi-constraint']},\n",
       " {'uid': 4001,\n",
       "  'question_text': 'Сколько всего букв в русском языке?',\n",
       "  'query': 'SELECT ?answer\\nWHERE {\\n  wd:Q187846 wdt:P1114 ?answer\\n}',\n",
       "  'answer_text': '33',\n",
       "  'question_uris': ['http://www.wikidata.org/entity/Q187846'],\n",
       "  'question_props': ['P1114'],\n",
       "  'answers': [{'datatype': 'http://www.w3.org/2001/XMLSchema#decimal',\n",
       "    'type': 'literal',\n",
       "    'value': '33'}],\n",
       "  'tags': ['1-hop']},\n",
       " {'uid': 4002,\n",
       "  'question_text': 'Сколько серий в фильме \"Семнадцать мгновений весны\"?',\n",
       "  'query': 'SELECT ?answer\\nWHERE {\\n  wd:Q472018 wdt:P1113 ?answer\\n}',\n",
       "  'answer_text': '12',\n",
       "  'question_uris': ['http://www.wikidata.org/entity/Q472018'],\n",
       "  'question_props': ['P1113'],\n",
       "  'answers': [{'datatype': 'http://www.w3.org/2001/XMLSchema#decimal',\n",
       "    'type': 'literal',\n",
       "    'value': '12'}],\n",
       "  'tags': ['1-hop']},\n",
       " {'uid': 4003,\n",
       "  'question_text': 'Сколько спутников у Марса?',\n",
       "  'query': 'SELECT (COUNT(?sats) as ?answer)\\nWHERE {\\n  wd:Q111 wdt:P398 ?sats.\\n}',\n",
       "  'answer_text': '2',\n",
       "  'question_uris': ['http://www.wikidata.org/entity/Q111'],\n",
       "  'question_props': ['P398'],\n",
       "  'answers': [{'datatype': 'http://www.w3.org/2001/XMLSchema#integer',\n",
       "    'type': 'literal',\n",
       "    'value': '2'}],\n",
       "  'tags': ['count', '1-hop']},\n",
       " {'uid': 4004,\n",
       "  'question_text': 'Сколько детей у королевы Елизаветы II (английской)?',\n",
       "  'query': 'SELECT (COUNT(?child) as ?answer)\\nWHERE {\\n  wd:Q9682 wdt:P40 ?child.\\n}',\n",
       "  'answer_text': 'Четверо',\n",
       "  'question_uris': ['http://www.wikidata.org/entity/Q9682'],\n",
       "  'question_props': ['P40'],\n",
       "  'answers': [{'datatype': 'http://www.w3.org/2001/XMLSchema#integer',\n",
       "    'type': 'literal',\n",
       "    'value': '4'}],\n",
       "  'tags': ['count', '1-hop']},\n",
       " {'uid': 4005,\n",
       "  'question_text': 'Сколько лет исполнилось Санкт-Петербургу в 2003 году?',\n",
       "  'query': 'SELECT ?answer\\nWHERE {\\n  wd:Q656 wdt:P571 ?begin .\\n  BIND (2003 - YEAR(?begin) AS ?answer) .\\n}',\n",
       "  'answer_text': '300',\n",
       "  'question_uris': ['http://www.wikidata.org/entity/Q656'],\n",
       "  'question_props': ['P571'],\n",
       "  'answers': [{'datatype': 'http://www.w3.org/2001/XMLSchema#integer',\n",
       "    'type': 'literal',\n",
       "    'value': '300'}],\n",
       "  'tags': ['multi-constraint']},\n",
       " {'uid': 4006,\n",
       "  'question_text': 'Сколько жен было у Генриха VIII?',\n",
       "  'query': 'SELECT (COUNT(?wife) as ?answer)\\nWHERE {\\n  wd:Q38370 wdt:P26 ?wife.\\n}',\n",
       "  'answer_text': '6',\n",
       "  'question_uris': ['http://www.wikidata.org/entity/Q38370'],\n",
       "  'question_props': ['P26'],\n",
       "  'answers': [{'datatype': 'http://www.w3.org/2001/XMLSchema#integer',\n",
       "    'type': 'literal',\n",
       "    'value': '6'}],\n",
       "  'tags': ['count', '1-hop']},\n",
       " {'uid': 4007,\n",
       "  'question_text': 'Сколько сборных участвовало в первом Чемпионате мира по футболу в 1930 году?',\n",
       "  'query': 'SELECT ?answer\\nWHERE {\\n  wd:Q48432 wdt:P1132 ?answer .\\n}',\n",
       "  'answer_text': '13',\n",
       "  'question_uris': ['http://www.wikidata.org/entity/Q48432'],\n",
       "  'question_props': ['P1132'],\n",
       "  'answers': [{'datatype': 'http://www.w3.org/2001/XMLSchema#decimal',\n",
       "    'type': 'literal',\n",
       "    'value': '13'}],\n",
       "  'tags': ['1-hop']},\n",
       " {'uid': 4008,\n",
       "  'question_text': 'В каком году родился Иммануил Кант?',\n",
       "  'query': 'SELECT ?answer\\nWHERE {\\n  wd:Q9312 wdt:P569 ?date .\\n  BIND (YEAR(?date) as ?answer) .\\n}',\n",
       "  'answer_text': '1724',\n",
       "  'question_uris': ['http://www.wikidata.org/entity/Q9312'],\n",
       "  'question_props': ['P569'],\n",
       "  'answers': [{'datatype': 'http://www.w3.org/2001/XMLSchema#integer',\n",
       "    'type': 'literal',\n",
       "    'value': '1724'}],\n",
       "  'tags': ['multi-constraint']},\n",
       " {'uid': 4009,\n",
       "  'question_text': 'Сколько премий \"Грэмми\" в \"копилке\" певца Джастина Тимберлейка?',\n",
       "  'query': 'SELECT (COUNT(?award) as ?answer)\\nWHERE {\\n  wd:Q43432 wdt:P166 ?award .\\n  ?award wdt:P31/wdt:P279* wd:Q41254 .\\n}',\n",
       "  'answer_text': '10',\n",
       "  'question_uris': ['http://www.wikidata.org/entity/Q41254',\n",
       "   'http://www.wikidata.org/entity/Q43432'],\n",
       "  'question_props': ['P166', 'P31', 'P279'],\n",
       "  'answers': [{'datatype': 'http://www.w3.org/2001/XMLSchema#integer',\n",
       "    'type': 'literal',\n",
       "    'value': '6'}],\n",
       "  'tags': ['count', 'multi-constraint']},\n",
       " {'uid': 4010,\n",
       "  'question_text': 'Кто старше Гарри Поттер или Рон Уизли?',\n",
       "  'query': 'SELECT ?answer\\nWHERE {\\n  VALUES ?answer { wd:Q3244512 wd:Q173998 }\\n  ?answer wdt:P569 ?date .\\n}\\nORDER BY ASC(?date)\\nLIMIT 1',\n",
       "  'answer_text': 'Рон',\n",
       "  'question_uris': ['http://www.wikidata.org/entity/Q173998',\n",
       "   'http://www.wikidata.org/entity/Q3244512'],\n",
       "  'question_props': ['P569'],\n",
       "  'answers': [{'type': 'uri',\n",
       "    'value': 'http://www.wikidata.org/entity/Q173998'}],\n",
       "  'tags': ['order-limit', 'multi-constraint']},\n",
       " {'uid': 4011,\n",
       "  'question_text': 'Какой океан самый маленький?',\n",
       "  'query': 'SELECT ?answer\\nWHERE {\\n  ?answer p:P2046/psn:P2046/wikibase:quantityAmount ?sq .\\n  ?answer wdt:P31 wd:Q9430 .\\n}\\nORDER BY ASC(?sq)\\nLIMIT 1',\n",
       "  'answer_text': 'Северный Ледовитый',\n",
       "  'question_uris': ['http://www.wikidata.org/entity/Q9430'],\n",
       "  'question_props': ['P2046', 'P31'],\n",
       "  'answers': [{'type': 'uri', 'value': 'http://www.wikidata.org/entity/Q788'}],\n",
       "  'tags': ['order-limit', 'reverse', 'multi-constraint']},\n",
       " {'uid': 4012,\n",
       "  'question_text': 'Какая самая крупнейшая пустыня в мире?',\n",
       "  'query': 'SELECT ?answer\\nWHERE {\\n  ?answer p:P2046/psn:P2046/wikibase:quantityAmount ?sq .\\n  ?answer wdt:P31 wd:Q8514 .\\n}\\nORDER BY DESC(?sq)\\nLIMIT 1',\n",
       "  'answer_text': 'Сахара',\n",
       "  'question_uris': ['http://www.wikidata.org/entity/Q8514'],\n",
       "  'question_props': ['P2046', 'P31'],\n",
       "  'answers': [{'type': 'uri',\n",
       "    'value': 'http://www.wikidata.org/entity/Q25322'}],\n",
       "  'tags': ['order-limit', 'reverse', 'multi-constraint']},\n",
       " {'uid': 4013,\n",
       "  'question_text': 'Какая самая большая планета Солнечной системы?',\n",
       "  'query': 'SELECT ?answer\\nWHERE {\\n  ?answer p:P2234/psn:P2234/wikibase:quantityAmount ?vol .\\n  ?answer wdt:P361 wd:Q3962257\\n}\\nORDER BY DESC(?vol)\\nLIMIT 1',\n",
       "  'answer_text': 'Юпитер',\n",
       "  'question_uris': ['http://www.wikidata.org/entity/Q3962257'],\n",
       "  'question_props': ['P2234', 'P361'],\n",
       "  'answers': [{'type': 'uri', 'value': 'http://www.wikidata.org/entity/Q319'}],\n",
       "  'tags': ['order-limit', 'reverse', 'multi-constraint']},\n",
       " {'uid': 4014,\n",
       "  'question_text': 'В каком городе находится самая высокая в мире телебашня?',\n",
       "  'query': 'SELECT ?answer\\nWHERE {\\n  ?en p:P2048/psn:P2048/wikibase:quantityAmount ?h .\\n  ?en wdt:P31 wd:Q11166728 .\\n  ?en wdt:P131* ?answer .\\n  ?answer wdt:P31 wd:Q515 .\\n}\\nORDER BY DESC(?h)\\nLIMIT 1',\n",
       "  'answer_text': 'Токио',\n",
       "  'question_uris': ['http://www.wikidata.org/entity/Q11166728',\n",
       "   'http://www.wikidata.org/entity/Q515'],\n",
       "  'question_props': ['P2048', 'P131', 'P31'],\n",
       "  'answers': [{'type': 'uri',\n",
       "    'value': 'http://www.wikidata.org/entity/Q1490'}],\n",
       "  'tags': ['order-limit', 'multi-constraint']},\n",
       " {'uid': 4015,\n",
       "  'question_text': 'Как называется самое маленькое по площади государство?',\n",
       "  'query': 'SELECT ?answer\\nWHERE {\\n  ?answer p:P2046/psn:P2046/wikibase:quantityAmount ?sq .\\n  ?answer wdt:P31 wd:Q3624078 .\\n}\\nORDER BY ASC(?sq)\\nLIMIT 1',\n",
       "  'answer_text': 'Ватикан',\n",
       "  'question_uris': ['http://www.wikidata.org/entity/Q3624078'],\n",
       "  'question_props': ['P2046', 'P31'],\n",
       "  'answers': [{'type': 'uri', 'value': 'http://www.wikidata.org/entity/Q237'}],\n",
       "  'tags': ['order-limit', 'reverse', 'multi-constraint']},\n",
       " {'uid': 4016,\n",
       "  'question_text': 'Как называется самая высокая гора Украины?',\n",
       "  'query': 'SELECT ?answer\\nWHERE {\\n  wd:Q212 wdt:P610 ?answer .\\n}',\n",
       "  'answer_text': 'говерла',\n",
       "  'question_uris': ['http://www.wikidata.org/entity/Q212'],\n",
       "  'question_props': ['P610'],\n",
       "  'answers': [{'type': 'uri',\n",
       "    'value': 'http://www.wikidata.org/entity/Q627508'}],\n",
       "  'tags': ['1-hop']},\n",
       " {'uid': 4017,\n",
       "  'question_text': 'На каком материке находится самая полноводная река Земли?',\n",
       "  'query': 'SELECT ?answer\\nWHERE {\\n  ?en p:P2225/psn:P2225/wikibase:quantityAmount ?sq .\\n  ?en wdt:P31 wd:Q4022 .\\n  ?en wdt:P30 ?answer .\\n}\\nORDER BY DESC(?sq)\\nLIMIT 1',\n",
       "  'answer_text': 'Южная Америка',\n",
       "  'question_uris': ['http://www.wikidata.org/entity/Q4022'],\n",
       "  'question_props': ['P30', 'P2225', 'P31'],\n",
       "  'answers': [{'type': 'uri', 'value': 'http://www.wikidata.org/entity/Q18'}],\n",
       "  'tags': ['order-limit', 'multi-constraint']},\n",
       " {'uid': 4018,\n",
       "  'question_text': 'Кто старше - Владимир Путин или Дональд Трамп?',\n",
       "  'query': 'SELECT ?answer\\nWHERE {\\n  VALUES ?answer { wd:Q7747 wd:Q22686 }\\n  ?answer wdt:P569 ?date .\\n}\\nORDER BY ASC(?date)\\nLIMIT 1',\n",
       "  'answer_text': 'Трамп',\n",
       "  'question_uris': ['http://www.wikidata.org/entity/Q22686',\n",
       "   'http://www.wikidata.org/entity/Q7747'],\n",
       "  'question_props': ['P569'],\n",
       "  'answers': [{'type': 'uri',\n",
       "    'value': 'http://www.wikidata.org/entity/Q22686'}],\n",
       "  'tags': ['order-limit', 'multi-constraint']},\n",
       " {'uid': 4019,\n",
       "  'question_text': 'В каком году родился Николай II?',\n",
       "  'query': 'SELECT ?answer\\nWHERE {\\n  wd:Q40787 wdt:P569 ?date .\\n  BIND (YEAR(?date) as ?answer) .\\n}',\n",
       "  'answer_text': '1868',\n",
       "  'question_uris': ['http://www.wikidata.org/entity/Q40787'],\n",
       "  'question_props': ['P569'],\n",
       "  'answers': [{'datatype': 'http://www.w3.org/2001/XMLSchema#integer',\n",
       "    'type': 'literal',\n",
       "    'value': '1868'}],\n",
       "  'tags': ['multi-constraint']},\n",
       " {'uid': 4020,\n",
       "  'question_text': 'В каком году убили Владислава Листьева?',\n",
       "  'query': 'SELECT ?answer\\nWHERE {\\n  wd:Q319523 wdt:P570 ?date .\\n  BIND (YEAR(?date) as ?answer) .\\n}',\n",
       "  'answer_text': '1995',\n",
       "  'question_uris': ['http://www.wikidata.org/entity/Q319523'],\n",
       "  'question_props': ['P570'],\n",
       "  'answers': [{'datatype': 'http://www.w3.org/2001/XMLSchema#integer',\n",
       "    'type': 'literal',\n",
       "    'value': '1995'}],\n",
       "  'tags': ['multi-constraint']},\n",
       " {'uid': 4021,\n",
       "  'question_text': 'Когда началась первая мировая война?',\n",
       "  'query': 'SELECT ?answer\\nWHERE {\\n  wd:Q361 wdt:P580 ?answer .\\n}',\n",
       "  'answer_text': '28 июля 1914 года',\n",
       "  'question_uris': ['http://www.wikidata.org/entity/Q361'],\n",
       "  'question_props': ['P580'],\n",
       "  'answers': [{'datatype': 'http://www.w3.org/2001/XMLSchema#dateTime',\n",
       "    'type': 'literal',\n",
       "    'value': '1914-07-28T00:00:00Z'}],\n",
       "  'tags': ['1-hop']}]"
      ]
     },
     "execution_count": 159,
     "metadata": {},
     "output_type": "execute_result"
    }
   ],
   "source": [
    "dataset"
   ]
  },
  {
   "cell_type": "code",
   "execution_count": 420,
   "metadata": {
    "ExecuteTime": {
     "end_time": "2020-02-14T12:11:56.889680Z",
     "start_time": "2020-02-14T12:11:56.726547Z"
    }
   },
   "outputs": [],
   "source": [
    "dataset = json_read('kbqa_russian_dataset.json')"
   ]
  },
  {
   "cell_type": "code",
   "execution_count": 421,
   "metadata": {
    "ExecuteTime": {
     "end_time": "2020-02-14T12:11:57.302948Z",
     "start_time": "2020-02-14T12:11:57.298129Z"
    }
   },
   "outputs": [],
   "source": [
    "tagset = set()\n",
    "for entry in dataset:\n",
    "    for tag in entry['tags']:\n",
    "        tagset.add(tag)"
   ]
  },
  {
   "cell_type": "code",
   "execution_count": 422,
   "metadata": {
    "ExecuteTime": {
     "end_time": "2020-02-14T12:11:58.141524Z",
     "start_time": "2020-02-14T12:11:58.134387Z"
    }
   },
   "outputs": [],
   "source": [
    "json_dump(list(tagset), 'tagset.json')"
   ]
  },
  {
   "cell_type": "code",
   "execution_count": 424,
   "metadata": {
    "ExecuteTime": {
     "end_time": "2020-02-18T13:50:51.967343Z",
     "start_time": "2020-02-18T13:50:51.592400Z"
    }
   },
   "outputs": [],
   "source": [
    "dataset = json_read('kbqa_russian_dataset.json')"
   ]
  },
  {
   "cell_type": "code",
   "execution_count": 429,
   "metadata": {
    "ExecuteTime": {
     "end_time": "2020-02-18T13:52:20.833853Z",
     "start_time": "2020-02-18T13:52:20.819850Z"
    }
   },
   "outputs": [],
   "source": [
    "props = defaultdict(int)\n",
    "for entry in dataset:\n",
    "    for p in entry['question_props']:\n",
    "        props[p] += 1"
   ]
  },
  {
   "cell_type": "code",
   "execution_count": 432,
   "metadata": {
    "ExecuteTime": {
     "end_time": "2020-02-18T13:53:43.491616Z",
     "start_time": "2020-02-18T13:53:43.472831Z"
    }
   },
   "outputs": [],
   "source": [
    "props = {k: v for k, v in sorted(props.items(), reverse=True, key=lambda x: x[1])}"
   ]
  },
  {
   "cell_type": "code",
   "execution_count": 440,
   "metadata": {
    "ExecuteTime": {
     "end_time": "2020-02-18T13:55:15.062528Z",
     "start_time": "2020-02-18T13:55:15.051995Z"
    }
   },
   "outputs": [
    {
     "data": {
      "text/plain": [
       "{'P17': 144,\n",
       " 'P50': 74,\n",
       " 'P36': 61,\n",
       " 'P131': 60,\n",
       " 'P31': 57,\n",
       " 'P276': 39,\n",
       " 'P19': 39,\n",
       " 'P279': 33,\n",
       " 'P170': 32,\n",
       " 'P106': 25,\n",
       " 'P57': 24,\n",
       " 'P1346': 24,\n",
       " 'P641': 22,\n",
       " 'P86': 22,\n",
       " 'P159': 21,\n",
       " 'P27': 19,\n",
       " 'P527': 19,\n",
       " 'P175': 18,\n",
       " 'P361': 17,\n",
       " 'P206': 17,\n",
       " 'P495': 16,\n",
       " 'P26': 16,\n",
       " 'P735': 16,\n",
       " 'P112': 15,\n",
       " 'P61': 15,\n",
       " 'P38': 12,\n",
       " 'P161': 12,\n",
       " 'P22': 11,\n",
       " 'P40': 11,\n",
       " 'P20': 11,\n",
       " 'P840': 9,\n",
       " 'P21': 9,\n",
       " 'P180': 9,\n",
       " 'P1303': 8,\n",
       " 'P1441': 7,\n",
       " 'P155': 7,\n",
       " 'P403': 7,\n",
       " 'P101': 7,\n",
       " 'P144': 7,\n",
       " 'P585': 7,\n",
       " 'P453': 7,\n",
       " 'P580': 7,\n",
       " 'P25': 6,\n",
       " 'P53': 6,\n",
       " 'P460': 6,\n",
       " 'P676': 6,\n",
       " 'P706': 6,\n",
       " 'P610': 6,\n",
       " 'P54': 6,\n",
       " 'P412': 6,\n",
       " 'P127': 6,\n",
       " 'P138': 6,\n",
       " 'P39': 6,\n",
       " 'P84': 5,\n",
       " 'P800': 5,\n",
       " 'P186': 5,\n",
       " 'P2416': 5,\n",
       " 'P97': 5,\n",
       " 'P2579': 5,\n",
       " 'P37': 5,\n",
       " 'P156': 5,\n",
       " 'P734': 5,\n",
       " 'P1545': 5,\n",
       " 'P582': 5,\n",
       " 'P569': 5,\n",
       " 'P157': 4,\n",
       " 'P551': 4,\n",
       " 'P837': 4,\n",
       " 'P30': 4,\n",
       " 'P59': 4,\n",
       " 'P413': 4,\n",
       " 'P136': 4,\n",
       " 'P149': 4,\n",
       " 'P1376': 4,\n",
       " 'P509': 4,\n",
       " 'P166': 4,\n",
       " 'P793': 4,\n",
       " 'P674': 4,\n",
       " 'P1448': 4,\n",
       " 'P1477': 4,\n",
       " 'P1880': 3,\n",
       " 'P171': 3,\n",
       " 'P108': 3,\n",
       " 'P931': 3,\n",
       " 'P937': 3,\n",
       " 'P6': 3,\n",
       " 'P115': 3,\n",
       " 'P2348': 3,\n",
       " 'P407': 3,\n",
       " 'P921': 3,\n",
       " 'P669': 3,\n",
       " 'P1876': 3,\n",
       " 'P1686': 3,\n",
       " 'P828': 2,\n",
       " 'P1830': 2,\n",
       " 'P6886': 2,\n",
       " 'P183': 2,\n",
       " 'P3091': 2,\n",
       " 'P3373': 2,\n",
       " 'P941': 2,\n",
       " 'P425': 2,\n",
       " 'P2578': 2,\n",
       " 'P991': 2,\n",
       " 'P111': 2,\n",
       " 'P1366': 2,\n",
       " 'P172': 2,\n",
       " 'P463': 2,\n",
       " 'P1429': 2,\n",
       " 'P740': 2,\n",
       " 'P4647': 2,\n",
       " 'P272': 2,\n",
       " 'P122': 2,\n",
       " 'P241': 2,\n",
       " 'P417': 2,\n",
       " 'P915': 2,\n",
       " 'P366': 2,\n",
       " 'P58': 2,\n",
       " 'P1419': 2,\n",
       " 'P647': 2,\n",
       " 'P3095': 2,\n",
       " 'P1557': 2,\n",
       " 'P710': 2,\n",
       " 'P2283': 2,\n",
       " 'P1365': 2,\n",
       " 'P35': 2,\n",
       " 'P4934': 2,\n",
       " 'P1449': 2,\n",
       " 'P4969': 2,\n",
       " 'P462': 1,\n",
       " 'P3438': 1,\n",
       " 'P1056': 1,\n",
       " 'P1382': 1,\n",
       " 'P1165': 1,\n",
       " 'P102': 1,\n",
       " 'P607': 1,\n",
       " 'P1196': 1,\n",
       " 'P200': 1,\n",
       " 'P1050': 1,\n",
       " 'P1582': 1,\n",
       " 'P1066': 1,\n",
       " 'P823': 1,\n",
       " 'P135': 1,\n",
       " 'P749': 1,\n",
       " 'P195': 1,\n",
       " 'P1029': 1,\n",
       " 'P140': 1,\n",
       " 'P376': 1,\n",
       " 'P501': 1,\n",
       " 'P927': 1,\n",
       " 'P88': 1,\n",
       " 'P201': 1,\n",
       " 'P885': 1,\n",
       " 'P421': 1,\n",
       " 'P488': 1,\n",
       " 'P286': 1,\n",
       " 'P450': 1,\n",
       " 'P3716': 1,\n",
       " 'P178': 1,\n",
       " 'P98': 1,\n",
       " 'P1027': 1,\n",
       " 'P410': 1,\n",
       " 'P2789': 1,\n",
       " 'P177': 1,\n",
       " 'P459': 1,\n",
       " 'P5096': 1,\n",
       " 'P725': 1,\n",
       " 'P451': 1,\n",
       " 'P1071': 1,\n",
       " 'P4000': 1,\n",
       " 'P457': 1,\n",
       " 'P522': 1,\n",
       " 'P2079': 1,\n",
       " 'P282': 1,\n",
       " 'P642': 1,\n",
       " 'P4770': 1,\n",
       " 'P1269': 1,\n",
       " 'P1344': 1,\n",
       " 'P942': 1,\n",
       " 'P1559': 1,\n",
       " 'P1101': 1,\n",
       " 'P1884': 1,\n",
       " 'P123': 1,\n",
       " 'P150': 1,\n",
       " 'P1532': 1,\n",
       " 'P742': 1,\n",
       " 'P87': 1,\n",
       " 'P2556': 1,\n",
       " 'P1181': 1,\n",
       " 'P512': 1,\n",
       " 'P69': 1,\n",
       " 'P2551': 1,\n",
       " 'P559': 1,\n",
       " 'P2575': 1,\n",
       " 'P1476': 1,\n",
       " 'P2067': 1,\n",
       " 'P371': 1,\n",
       " 'P176': 1}"
      ]
     },
     "execution_count": 440,
     "metadata": {},
     "output_type": "execute_result"
    }
   ],
   "source": [
    "props"
   ]
  },
  {
   "cell_type": "code",
   "execution_count": 436,
   "metadata": {
    "ExecuteTime": {
     "end_time": "2020-02-18T13:54:34.116831Z",
     "start_time": "2020-02-18T13:54:34.106341Z"
    }
   },
   "outputs": [
    {
     "data": {
      "text/plain": [
       "69"
      ]
     },
     "execution_count": 436,
     "metadata": {},
     "output_type": "execute_result"
    }
   ],
   "source": [
    "len([k for k, v in props.items() if v == 1])"
   ]
  },
  {
   "cell_type": "code",
   "execution_count": null,
   "metadata": {},
   "outputs": [],
   "source": []
  },
  {
   "cell_type": "markdown",
   "metadata": {
    "heading_collapsed": true
   },
   "source": [
    "### Sample for Sveta"
   ]
  },
  {
   "cell_type": "code",
   "execution_count": 13,
   "metadata": {
    "ExecuteTime": {
     "end_time": "2020-03-02T08:44:43.823955Z",
     "start_time": "2020-03-02T08:44:43.801042Z"
    },
    "hidden": true
   },
   "outputs": [],
   "source": [
    "dataset = json_read('kbqa_russian_dataset.json')"
   ]
  },
  {
   "cell_type": "code",
   "execution_count": 14,
   "metadata": {
    "ExecuteTime": {
     "end_time": "2020-03-02T08:44:43.964304Z",
     "start_time": "2020-03-02T08:44:43.956882Z"
    },
    "hidden": true
   },
   "outputs": [],
   "source": [
    "import random as rnd"
   ]
  },
  {
   "cell_type": "code",
   "execution_count": 66,
   "metadata": {
    "ExecuteTime": {
     "end_time": "2020-03-02T08:54:48.044152Z",
     "start_time": "2020-03-02T08:54:48.039305Z"
    },
    "hidden": true
   },
   "outputs": [],
   "source": [
    "ids = rnd.sample(range(0, 800), 10)"
   ]
  },
  {
   "cell_type": "code",
   "execution_count": 114,
   "metadata": {
    "ExecuteTime": {
     "end_time": "2020-03-02T08:59:22.824286Z",
     "start_time": "2020-03-02T08:59:22.817625Z"
    },
    "hidden": true
   },
   "outputs": [
    {
     "name": "stdout",
     "output_type": "stream",
     "text": [
      "{'uid': 159, 'question_text': 'Кто автор сказки \"Бременские музыканты\"?', 'query': 'SELECT ?answer \\nWHERE {\\n  wd:Q112015 wdt:P50 ?answer\\n}', 'answer_text': 'Братья Гримм', 'question_uris': ['http://www.wikidata.org/entity/Q112015'], 'question_props': ['P50'], 'answers': [{'type': 'uri', 'value': 'http://www.wikidata.org/entity/Q2793'}], 'tags': ['1-hop']}\n"
     ]
    }
   ],
   "source": [
    "for entry in dataset:\n",
    "    if entry['uid'] in ids:\n",
    "        if len(entry['tags']) == 1 and entry['tags'][0] == '1-hop':\n",
    "            pass\n",
    "        print(entry)\n",
    "        samples.append({\n",
    "            'question': entry['question_text'],\n",
    "            'query': entry['query'],\n",
    "            'answers': entry['answers'],\n",
    "            'translation': ''\n",
    "        })"
   ]
  },
  {
   "cell_type": "code",
   "execution_count": 130,
   "metadata": {
    "ExecuteTime": {
     "end_time": "2020-03-02T09:04:53.773691Z",
     "start_time": "2020-03-02T09:04:53.763402Z"
    },
    "hidden": true
   },
   "outputs": [],
   "source": [
    "json_dump(samples, 'samples_20.json')"
   ]
  },
  {
   "cell_type": "code",
   "execution_count": 122,
   "metadata": {
    "ExecuteTime": {
     "end_time": "2020-03-02T09:03:40.375580Z",
     "start_time": "2020-03-02T09:03:40.369914Z"
    },
    "hidden": true
   },
   "outputs": [],
   "source": [
    "trs = '''Which artist was criticized by French high society for the scandalous \"Portrait of Madame X\"?\n",
    "Who wrote the novel \"The phantom of the Opera\"?\n",
    "In which sport did Ekaterina Ilyukhina win Russia's first Olympic medal in 2010?\n",
    "What period in the history of Japan followed immediately after the Heian period?\n",
    "Who wrote the novel and play of the same name \"the Lady with camellias\"?\n",
    "What musical instrument does Carlos Santana play?\n",
    "Which city was the capital of the Orange Free State?\n",
    "Who painted the portrait of Colonel Evgraf Davydov of the life guards of the hussar regiment, which has long been considered an image of Denis Davydov?\n",
    "Which mountain is the highest point in Poland?\n",
    "Which country hosted the XXI Olympic games\n",
    "What is the name of the husband's sister?\n",
    "Which actress was married to Luc Besson?\n",
    "The birthplace of the singer Shakira?\n",
    "In what musical direction did Ella Fitzgerald and Billie holiday become famous?\n",
    "Who from participants of group \"Beatles\" was older than the other three?\n",
    "In what country was Nicolaus Copernicus born?\n",
    "What, according to Ohm's law, will happen if the voltage is divided by the resistance?\n",
    "Who played Bormann in the popular television series \" Seventeen moments of spring\"\n",
    "Some of the African players won the \"Golden ball\"?\n",
    "Who is the author of the fairy tale \"Bremen town musicians\"?'''"
   ]
  },
  {
   "cell_type": "code",
   "execution_count": 127,
   "metadata": {
    "ExecuteTime": {
     "end_time": "2020-03-02T09:04:28.829991Z",
     "start_time": "2020-03-02T09:04:28.825698Z"
    },
    "hidden": true
   },
   "outputs": [],
   "source": [
    "trs = trs.split('\\n')"
   ]
  },
  {
   "cell_type": "code",
   "execution_count": 128,
   "metadata": {
    "ExecuteTime": {
     "end_time": "2020-03-02T09:04:30.804498Z",
     "start_time": "2020-03-02T09:04:30.799218Z"
    },
    "hidden": true
   },
   "outputs": [],
   "source": [
    "for i, s in enumerate(samples):\n",
    "    s['translation'] = trs[i]"
   ]
  },
  {
   "cell_type": "code",
   "execution_count": 129,
   "metadata": {
    "ExecuteTime": {
     "end_time": "2020-03-02T09:04:31.269524Z",
     "start_time": "2020-03-02T09:04:31.257263Z"
    },
    "hidden": true
   },
   "outputs": [
    {
     "data": {
      "text/plain": [
       "[{'question': 'Какой художник был подвергнут критике французского высшего общества за скандальный \"Портрет мадам Икс\"?',\n",
       "  'query': 'SELECT ?answer \\nWHERE {\\n  wd:Q2664039 wdt:P170 ?answer\\n}',\n",
       "  'answers': [{'type': 'uri',\n",
       "    'value': 'http://www.wikidata.org/entity/Q155626'}],\n",
       "  'translation': 'Which artist was criticized by French high society for the scandalous \"Portrait of Madame X\"?'},\n",
       " {'question': 'Кто написал роман \"Призрак оперы\"?',\n",
       "  'query': 'SELECT ?answer \\nWHERE {\\n  wd:Q272506 wdt:P50 ?answer\\n}',\n",
       "  'answers': [{'type': 'uri',\n",
       "    'value': 'http://www.wikidata.org/entity/Q298827'}],\n",
       "  'translation': 'Who wrote the novel \"The phantom of the Opera\"?'},\n",
       " {'question': 'В каком виде спорта первую для России олимпийскую медаль выиграла в 2010 году Екатерина Илюхина?',\n",
       "  'query': 'SELECT ?answer \\nWHERE {\\n  wd:Q2153574 wdt:P641 ?answer\\n}',\n",
       "  'answers': [{'type': 'uri',\n",
       "    'value': 'http://www.wikidata.org/entity/Q178131'}],\n",
       "  'translation': \"In which sport did Ekaterina Ilyukhina win Russia's first Olympic medal in 2010?\"},\n",
       " {'question': 'Какой период в истории Японии следовал сразу после периода Хэйан?',\n",
       "  'query': 'SELECT ?answer \\nWHERE {\\n  wd:Q193292 wdt:P156 ?answer\\n}',\n",
       "  'answers': [{'type': 'uri',\n",
       "    'value': 'http://www.wikidata.org/entity/Q236205'}],\n",
       "  'translation': 'What period in the history of Japan followed immediately after the Heian period?'},\n",
       " {'question': 'Кто написал роман и одноименную пьесу \"Дама с камелиями\"?',\n",
       "  'query': 'SELECT ?answer \\nWHERE {\\n  wd:Q898795 wdt:P50 ?answer\\n}',\n",
       "  'answers': [{'type': 'uri',\n",
       "    'value': 'http://www.wikidata.org/entity/Q169150'}],\n",
       "  'translation': 'Who wrote the novel and play of the same name \"the Lady with camellias\"?'},\n",
       " {'question': 'На каком музыкальном инструменте играет Карлос Сантана?',\n",
       "  'query': 'SELECT ?answer \\nWHERE {\\n  wd:Q819016 wdt:P1303 ?answer\\n}',\n",
       "  'answers': [{'type': 'uri', 'value': 'http://www.wikidata.org/entity/Q6607'},\n",
       "   {'type': 'uri', 'value': 'http://www.wikidata.org/entity/Q17172850'}],\n",
       "  'translation': 'What musical instrument does Carlos Santana play?'},\n",
       " {'question': 'Какой город был столицей Оранжевого Свободного Государства?',\n",
       "  'query': 'SELECT ?answer \\nWHERE {\\n  wd:Q218023 wdt:P36 ?answer\\n}',\n",
       "  'answers': [{'type': 'uri',\n",
       "    'value': 'http://www.wikidata.org/entity/Q37701'}],\n",
       "  'translation': 'Which city was the capital of the Orange Free State?'},\n",
       " {'question': 'Кто написал портрет полковника лейб-гвардии Гусарского полка Евграфа Давыдова, долгое время считавшийся изображением Дениса Давыдова?',\n",
       "  'query': 'SELECT ?answer \\nWHERE {\\n  wd:Q18688280 wdt:P170 ?answer\\n}',\n",
       "  'answers': [{'type': 'uri',\n",
       "    'value': 'http://www.wikidata.org/entity/Q367120'}],\n",
       "  'translation': 'Who painted the portrait of Colonel Evgraf Davydov of the life guards of the hussar regiment, which has long been considered an image of Denis Davydov?'},\n",
       " {'question': 'Какая гора является высшей точкой Польши?',\n",
       "  'query': 'SELECT ?answer \\nWHERE {\\n  wd:Q36 wdt:P610 ?answer\\n}',\n",
       "  'answers': [{'type': 'uri',\n",
       "    'value': 'http://www.wikidata.org/entity/Q672936'}],\n",
       "  'translation': 'Which mountain is the highest point in Poland?'},\n",
       " {'question': 'В какой стране проходили XXI Олимпийские игры',\n",
       "  'query': 'SELECT DISTINCT ?answer \\nWHERE { {\\n  wd:Q9674 wdt:P17 ?answer \\n} UNION {\\n  wd:Q8444 wdt:P17 ?answer \\n} }',\n",
       "  'answers': [{'type': 'uri', 'value': 'http://www.wikidata.org/entity/Q16'}],\n",
       "  'translation': 'Which country hosted the XXI Olympic games'},\n",
       " {'question': 'Как называют сестру мужа?',\n",
       "  'query': 'SELECT ?answer\\nWHERE {\\n  VALUES ?answer { wd:Q23045435 }\\n}',\n",
       "  'answers': [{'type': 'uri',\n",
       "    'value': 'http://www.wikidata.org/entity/Q23045435'}],\n",
       "  'translation': \"What is the name of the husband's sister?\"},\n",
       " {'question': 'Какая актриса была замужем за Люком Бессоном?',\n",
       "  'query': 'SELECT ?answer\\nWHERE {\\n  ?answer p:P26/ps:P26 wd:Q484779 .\\n  ?answer wdt:P106* wd:Q33999 \\n}',\n",
       "  'answers': [{'type': 'uri',\n",
       "    'value': 'http://www.wikidata.org/entity/Q170576'},\n",
       "   {'type': 'uri', 'value': 'http://www.wikidata.org/entity/Q201985'},\n",
       "   {'type': 'uri', 'value': 'http://www.wikidata.org/entity/Q565692'}],\n",
       "  'translation': 'Which actress was married to Luc Besson?'},\n",
       " {'question': 'Где родилась певица Шакира?',\n",
       "  'query': 'SELECT ?answer\\nWHERE {\\n  wd:Q34424 wdt:P19 [wdt:P17 ?answer ]\\n}',\n",
       "  'answers': [{'type': 'uri', 'value': 'http://www.wikidata.org/entity/Q739'}],\n",
       "  'translation': 'The birthplace of the singer Shakira?'},\n",
       " {'question': 'В каком музыкальном направлении прославились Элла Фицджеральд и Билли Холидей?',\n",
       "  'query': 'SELECT ?answer\\nWHERE {\\n  wd:Q1768 wdt:P136 ?answer .\\n  wd:Q104358 wdt:P136 ?answer\\n}',\n",
       "  'answers': [{'type': 'uri',\n",
       "    'value': 'http://www.wikidata.org/entity/Q8341'}],\n",
       "  'translation': 'In what musical direction did Ella Fitzgerald and Billie holiday become famous?'},\n",
       " {'question': 'Кто из участников группы \"Битлз\" был старше трёх остальных?',\n",
       "  'query': 'SELECT ?answer\\nWHERE {\\n  wd:Q1299 wdt:P527 ?answer .\\n  ?answer wdt:P569 ?birth_date\\n}\\nORDER BY ASC(?birth_date)\\nLIMIT 1',\n",
       "  'answers': [{'type': 'uri',\n",
       "    'value': 'http://www.wikidata.org/entity/Q2632'}],\n",
       "  'translation': 'Who from participants of group \"Beatles\" was older than the other three?'},\n",
       " {'question': 'В какой стране родился Николай Коперник?',\n",
       "  'query': 'SELECT ?answer\\nWHERE {\\n  wd:Q619 wdt:P19 [ wdt:P17 ?answer ]\\n}',\n",
       "  'answers': [{'type': 'uri', 'value': 'http://www.wikidata.org/entity/Q36'}],\n",
       "  'translation': 'In what country was Nicolaus Copernicus born?'},\n",
       " {'question': 'Что, согласно закону Ома, получится, если напряжение разделить на сопротивление?',\n",
       "  'query': 'SELECT ?answer\\nWHERE {\\n  wd:Q25358 wdt:P4934 ?answer\\n  FILTER (?answer not in ( wd:Q25428 ))\\n}',\n",
       "  'answers': [{'type': 'uri',\n",
       "    'value': 'http://www.wikidata.org/entity/Q29996'}],\n",
       "  'translation': \"What, according to Ohm's law, will happen if the voltage is divided by the resistance?\"},\n",
       " {'question': 'Кто сыграл Бормана в народном телесериале \"Семнадцать мгновений весны\"',\n",
       "  'query': 'SELECT ?answer\\nWHERE {\\n  wd:Q472018 p:P161 [ ps:P161 ?answer; pq:P453 wd:Q76367 ]\\n}',\n",
       "  'answers': [{'type': 'uri',\n",
       "    'value': 'http://www.wikidata.org/entity/Q582152'}],\n",
       "  'translation': 'Who played Bormann in the popular television series \" Seventeen moments of spring\"'},\n",
       " {'question': 'Какой из африканских футболистов однажды выиграл «Золотой мяч»?',\n",
       "  'query': 'SELECT ?answer\\nWHERE {\\n  wd:Q166177 wdt:P1346 ?answer .\\n  ?answer wdt:P1532 [ wdt:P30 wd:Q15 ]\\n}',\n",
       "  'answers': [{'type': 'uri',\n",
       "    'value': 'http://www.wikidata.org/entity/Q173139'}],\n",
       "  'translation': 'Some of the African players won the \"Golden ball\"?'},\n",
       " {'question': 'Кто автор сказки \"Бременские музыканты\"?',\n",
       "  'query': 'SELECT ?answer \\nWHERE {\\n  wd:Q112015 wdt:P50 ?answer\\n}',\n",
       "  'answers': [{'type': 'uri',\n",
       "    'value': 'http://www.wikidata.org/entity/Q2793'}],\n",
       "  'translation': 'Who is the author of the fairy tale \"Bremen town musicians\"?'}]"
      ]
     },
     "execution_count": 129,
     "metadata": {},
     "output_type": "execute_result"
    }
   ],
   "source": [
    "samples"
   ]
  },
  {
   "cell_type": "markdown",
   "metadata": {},
   "source": [
    "### Translation"
   ]
  },
  {
   "cell_type": "code",
   "execution_count": 164,
   "metadata": {
    "ExecuteTime": {
     "end_time": "2020-03-10T15:46:53.223817Z",
     "start_time": "2020-03-10T15:46:53.138362Z"
    }
   },
   "outputs": [],
   "source": [
    "dataset = json_read('kbqa_russian_dataset.json')"
   ]
  },
  {
   "cell_type": "code",
   "execution_count": 166,
   "metadata": {
    "ExecuteTime": {
     "end_time": "2020-03-10T21:42:47.137068Z",
     "start_time": "2020-03-10T21:42:47.082454Z"
    }
   },
   "outputs": [],
   "source": [
    "with open('question_text_only.txt', 'w') as ouf:\n",
    "    for entry in dataset:\n",
    "        q = entry['question_text']\n",
    "        print(q, file=ouf)"
   ]
  },
  {
   "cell_type": "code",
   "execution_count": 168,
   "metadata": {
    "ExecuteTime": {
     "end_time": "2020-03-10T21:53:55.292474Z",
     "start_time": "2020-03-10T21:53:55.277804Z"
    }
   },
   "outputs": [],
   "source": [
    "with open('question_text_only_eng.txt') as eng:\n",
    "    translation = {}\n",
    "    q_eng = [line.strip() for line in eng]\n",
    "    for i, entry in enumerate(dataset):\n",
    "        uid = entry['uid']\n",
    "        translation[uid] = q_eng[i]\n",
    "    json_dump(translation, 'questions_translation.json')"
   ]
  },
  {
   "cell_type": "code",
   "execution_count": 169,
   "metadata": {
    "ExecuteTime": {
     "end_time": "2020-03-24T13:24:04.048474Z",
     "start_time": "2020-03-24T13:24:03.425244Z"
    }
   },
   "outputs": [],
   "source": [
    "dataset = json_read('kbqa_russian_dataset.json')\n",
    "translation = json_read('questions_translation.json')"
   ]
  },
  {
   "cell_type": "code",
   "execution_count": 170,
   "metadata": {
    "ExecuteTime": {
     "end_time": "2020-03-24T13:25:22.689652Z",
     "start_time": "2020-03-24T13:25:22.671689Z"
    }
   },
   "outputs": [],
   "source": [
    "for entry in dataset:\n",
    "    uid = entry['uid']\n",
    "    q_trans = translation[str(uid)]\n",
    "    entry['question_eng'] = q_trans"
   ]
  },
  {
   "cell_type": "code",
   "execution_count": 172,
   "metadata": {
    "ExecuteTime": {
     "end_time": "2020-03-24T13:26:22.382516Z",
     "start_time": "2020-03-24T13:26:22.284168Z"
    }
   },
   "outputs": [],
   "source": [
    "json_dump(dataset, 'dataset_with_trans.json')"
   ]
  },
  {
   "cell_type": "markdown",
   "metadata": {},
   "source": [
    "### Questions with no answer"
   ]
  },
  {
   "cell_type": "code",
   "execution_count": 183,
   "metadata": {
    "ExecuteTime": {
     "end_time": "2020-03-25T17:02:12.783808Z",
     "start_time": "2020-03-25T17:02:12.607434Z"
    }
   },
   "outputs": [],
   "source": [
    "noc_qs = json_read('/Users/ne0n/itmo-jb/kbqa/kbqa-russian-dataset/chain generation/no_chain_questions.json')"
   ]
  },
  {
   "cell_type": "code",
   "execution_count": 184,
   "metadata": {
    "ExecuteTime": {
     "end_time": "2020-03-25T17:02:49.195668Z",
     "start_time": "2020-03-25T17:02:49.178905Z"
    }
   },
   "outputs": [],
   "source": [
    "noc_qs_ftd = []\n",
    "for q in noc_qs:\n",
    "    if 'назыв' not in q:\n",
    "        noc_qs_ftd.append(q)"
   ]
  },
  {
   "cell_type": "code",
   "execution_count": 185,
   "metadata": {
    "ExecuteTime": {
     "end_time": "2020-03-25T17:03:03.151386Z",
     "start_time": "2020-03-25T17:03:03.144058Z"
    }
   },
   "outputs": [],
   "source": [
    "noc_qs = {'q': noc_qs_ftd}"
   ]
  },
  {
   "cell_type": "code",
   "execution_count": 186,
   "metadata": {
    "ExecuteTime": {
     "end_time": "2020-03-25T17:03:05.527208Z",
     "start_time": "2020-03-25T17:03:05.407456Z"
    }
   },
   "outputs": [],
   "source": [
    "noc_qs_df = pd.DataFrame(noc_qs)"
   ]
  },
  {
   "cell_type": "code",
   "execution_count": 187,
   "metadata": {
    "ExecuteTime": {
     "end_time": "2020-03-25T17:03:06.085928Z",
     "start_time": "2020-03-25T17:03:06.006380Z"
    }
   },
   "outputs": [],
   "source": [
    "noc_qs_df.to_csv('/Users/ne0n/itmo-jb/kbqa/kbqa-russian-dataset/chain generation/no_chain_questions_ftd.csv', index=False)"
   ]
  },
  {
   "cell_type": "code",
   "execution_count": 196,
   "metadata": {
    "ExecuteTime": {
     "end_time": "2020-03-26T18:37:42.409624Z",
     "start_time": "2020-03-26T18:37:42.371851Z"
    }
   },
   "outputs": [],
   "source": [
    "no_answer_qs = pd.read_csv('no_chain_questions.csv')\n",
    "no_answer_qs = list(no_answer_q.dropna()['q'].values)"
   ]
  },
  {
   "cell_type": "code",
   "execution_count": 201,
   "metadata": {
    "ExecuteTime": {
     "end_time": "2020-03-26T18:40:23.140697Z",
     "start_time": "2020-03-26T18:40:23.127325Z"
    }
   },
   "outputs": [],
   "source": [
    "json_dump(no_answer_qs, 'dataset_no_answer.json')"
   ]
  },
  {
   "cell_type": "code",
   "execution_count": 204,
   "metadata": {
    "ExecuteTime": {
     "end_time": "2020-03-26T18:44:05.110619Z",
     "start_time": "2020-03-26T18:44:05.090756Z"
    }
   },
   "outputs": [],
   "source": [
    "with open('qna_trans.txt') as inf:\n",
    "    no_answer_qs_trans = [line.strip() for line in inf]"
   ]
  },
  {
   "cell_type": "code",
   "execution_count": 209,
   "metadata": {
    "ExecuteTime": {
     "end_time": "2020-03-26T18:49:07.956149Z",
     "start_time": "2020-03-26T18:49:07.833343Z"
    }
   },
   "outputs": [],
   "source": [
    "qa_map = {}\n",
    "with open('/Users/ne0n/itmo-jb/kbqa/kbqa-russian-dataset/entity retrieval/quiz_dataset.txt') as inf:\n",
    "    for i, line in enumerate(inf):\n",
    "        t = line.strip()\n",
    "        if i % 2 == 0:\n",
    "            q = t\n",
    "        else:\n",
    "            qa_map[q] = t"
   ]
  },
  {
   "cell_type": "code",
   "execution_count": 202,
   "metadata": {
    "ExecuteTime": {
     "end_time": "2020-03-26T18:40:47.959172Z",
     "start_time": "2020-03-26T18:40:47.903192Z"
    }
   },
   "outputs": [],
   "source": [
    "dataset = json_read('kbqa_russian_dataset.json')"
   ]
  },
  {
   "cell_type": "code",
   "execution_count": 214,
   "metadata": {
    "ExecuteTime": {
     "end_time": "2020-03-26T18:51:58.508979Z",
     "start_time": "2020-03-26T18:51:58.502128Z"
    }
   },
   "outputs": [],
   "source": [
    "for i, q in enumerate(no_answer_qs):\n",
    "    entry = {\n",
    "        'uid': 5000 + i,\n",
    "        'question_text': q,\n",
    "        'query': None,\n",
    "        'answer_text': qa_map[q],\n",
    "        'question_uris': None,\n",
    "        'question_props': None,\n",
    "        'answers': [],\n",
    "        'tags': [\"no-answer\"],\n",
    "        'question_eng': no_answer_qs_trans[i]\n",
    "    }\n",
    "    dataset.append(entry)"
   ]
  },
  {
   "cell_type": "code",
   "execution_count": 216,
   "metadata": {
    "ExecuteTime": {
     "end_time": "2020-03-26T18:53:02.032746Z",
     "start_time": "2020-03-26T18:53:01.893343Z"
    }
   },
   "outputs": [],
   "source": [
    "json_dump(dataset, 'kbqa_russian_dataset_qna.json')"
   ]
  },
  {
   "cell_type": "markdown",
   "metadata": {},
   "source": [
    "### Dev/Test split"
   ]
  },
  {
   "cell_type": "code",
   "execution_count": 8,
   "metadata": {
    "ExecuteTime": {
     "end_time": "2020-04-03T00:12:13.514332Z",
     "start_time": "2020-04-03T00:12:13.425856Z"
    }
   },
   "outputs": [],
   "source": [
    "dataset = json_read('kbqa_russian_dataset.json')"
   ]
  },
  {
   "cell_type": "code",
   "execution_count": 12,
   "metadata": {
    "ExecuteTime": {
     "end_time": "2020-04-03T00:13:35.305596Z",
     "start_time": "2020-04-03T00:13:35.296123Z"
    }
   },
   "outputs": [],
   "source": [
    "dev_uids = []\n",
    "with open('dev_ids.txt') as inf:\n",
    "    for line in inf:\n",
    "        dev_uids.append(int(line.strip()))"
   ]
  },
  {
   "cell_type": "code",
   "execution_count": 13,
   "metadata": {
    "ExecuteTime": {
     "end_time": "2020-04-03T00:13:41.635124Z",
     "start_time": "2020-04-03T00:13:41.628599Z"
    }
   },
   "outputs": [],
   "source": [
    "json_dump(dev_uids, 'dev_uids.json')"
   ]
  },
  {
   "cell_type": "code",
   "execution_count": 14,
   "metadata": {
    "ExecuteTime": {
     "end_time": "2020-04-03T00:13:42.402977Z",
     "start_time": "2020-04-03T00:13:42.392111Z"
    }
   },
   "outputs": [],
   "source": [
    "test_uids = []\n",
    "for entry in dataset:\n",
    "    uid = entry['uid']\n",
    "    if uid not in dev_uids:\n",
    "        test_uids.append(uid)"
   ]
  },
  {
   "cell_type": "code",
   "execution_count": 17,
   "metadata": {
    "ExecuteTime": {
     "end_time": "2020-04-03T00:13:59.494460Z",
     "start_time": "2020-04-03T00:13:59.486529Z"
    }
   },
   "outputs": [],
   "source": [
    "json_dump(test_uids, 'test_uids.json')"
   ]
  },
  {
   "cell_type": "markdown",
   "metadata": {},
   "source": [
    "### Get more precise relations"
   ]
  },
  {
   "cell_type": "code",
   "execution_count": 111,
   "metadata": {
    "ExecuteTime": {
     "end_time": "2020-04-15T18:56:00.297473Z",
     "start_time": "2020-04-15T18:56:00.276886Z"
    }
   },
   "outputs": [],
   "source": [
    "dataset = json_read('kbqa_russian_dataset.json')"
   ]
  },
  {
   "cell_type": "code",
   "execution_count": 116,
   "metadata": {
    "ExecuteTime": {
     "end_time": "2020-04-15T18:58:17.305117Z",
     "start_time": "2020-04-15T18:58:17.283887Z"
    }
   },
   "outputs": [],
   "source": [
    "for entry in dataset[:1200]:\n",
    "    query = entry['query']\n",
    "    props = entry['question_props']\n",
    "    prec_props = []\n",
    "    prec_props.extend(re.findall(r'wdt:P\\d+', query))\n",
    "    prec_props.extend(re.findall(r'p:P\\d+', query))\n",
    "    prec_props.extend(re.findall(r'p[s|q]:P\\d+', query))\n",
    "    prec_props.extend(re.findall(r'rdfs:label', query))\n",
    "    prec_props.extend(re.findall(r'skos:altLabel', query))\n",
    "    prec_props = list(set(prec_props))\n",
    "    \n",
    "    prec_props_ids = set([p.split(':')[-1] for p in prec_props])\n",
    "    \n",
    "    entry['question_props'] = prec_props"
   ]
  },
  {
   "cell_type": "code",
   "execution_count": 117,
   "metadata": {
    "ExecuteTime": {
     "end_time": "2020-04-15T18:58:32.471512Z",
     "start_time": "2020-04-15T18:58:32.343616Z"
    }
   },
   "outputs": [
    {
     "data": {
      "text/plain": [
       "[{'uid': 2100,\n",
       "  'question_text': 'Какая река образуется при слиянии рек Катуни и Бии?',\n",
       "  'query': 'SELECT ?answer\\nWHERE {\\n  wd:Q723864 wdt:P403 ?answer .\\n  wd:Q859934 wdt:P403 ?answer\\n}',\n",
       "  'answer_text': 'Обь',\n",
       "  'question_uris': ['http://www.wikidata.org/entity/Q723864',\n",
       "   'http://www.wikidata.org/entity/Q859934'],\n",
       "  'question_props': ['wdt:P403'],\n",
       "  'answers': [{'type': 'uri', 'value': 'http://www.wikidata.org/entity/Q973'}],\n",
       "  'tags': ['multi-constraint'],\n",
       "  'question_eng': 'What river is formed at the confluence of the katuni and Biya rivers?'},\n",
       " {'uid': 2101,\n",
       "  'question_text': 'Какая актриса исполнила роль черепахи Тортиллы в советском фильме 1975 года «Приключения Буратино»?',\n",
       "  'query': 'SELECT ?answer\\nWHERE {\\n  wd:Q3739484 p:P161 [ ps:P161 ?answer; pq:P453 wd:Q15642621 ]\\n}',\n",
       "  'answer_text': 'Рина Зелёная',\n",
       "  'question_uris': ['http://www.wikidata.org/entity/Q15642621',\n",
       "   'http://www.wikidata.org/entity/Q3739484'],\n",
       "  'question_props': ['p:P161', 'pq:P453', 'ps:P161'],\n",
       "  'answers': [{'type': 'uri',\n",
       "    'value': 'http://www.wikidata.org/entity/Q435540'}],\n",
       "  'tags': ['qualifier-constraint'],\n",
       "  'question_eng': 'Which actress played the role of tortoise tortilla in the 1975 Soviet film \"the adventures of Pinocchio\"?'},\n",
       " {'uid': 2102,\n",
       "  'question_text': 'Как называется оперетта Иоганна Штрауса, поставленная по новелле венгерского писателя Мора Йокаи?',\n",
       "  'query': 'SELECT ?answer\\nWHERE {\\n  wd:Q83309 wdt:P800 ?answer .\\n  ?answer wdt:P144 wd:Q22087710\\n}',\n",
       "  'answer_text': '\"Цыганский барон\"',\n",
       "  'question_uris': ['http://www.wikidata.org/entity/Q22087710',\n",
       "   'http://www.wikidata.org/entity/Q83309'],\n",
       "  'question_props': ['wdt:P144', 'wdt:P800'],\n",
       "  'answers': [{'type': 'uri',\n",
       "    'value': 'http://www.wikidata.org/entity/Q464511'}],\n",
       "  'tags': ['multi-constraint'],\n",
       "  'question_eng': 'What is the name of an operetta by Johann Strauss based on a Novella by Hungarian writer Mor Jokai?'},\n",
       " {'uid': 2103,\n",
       "  'question_text': 'Что, кроме молока, добавляют в классический моккачино?',\n",
       "  'query': 'SELECT ?answer\\nWHERE {\\n  wd:Q739929 wdt:P527 ?answer\\n  FILTER (?answer not in ( wd:Q8495 ))\\n}',\n",
       "  'answer_text': 'шоколад',\n",
       "  'question_uris': ['http://www.wikidata.org/entity/Q739929',\n",
       "   'http://www.wikidata.org/entity/Q8495'],\n",
       "  'question_props': ['wdt:P527'],\n",
       "  'answers': [{'type': 'uri', 'value': 'http://www.wikidata.org/entity/Q195'},\n",
       "   {'type': 'uri', 'value': 'http://www.wikidata.org/entity/Q8486'}],\n",
       "  'tags': ['exclusion', '1-hop'],\n",
       "  'question_eng': 'That, in addition to milk, add classic items from this collection?'},\n",
       " {'uid': 2104,\n",
       "  'question_text': 'Как звучит второе имя Джона У. Леннона?',\n",
       "  'query': 'SELECT ?answer\\nWHERE {\\n  wd:Q1203 p:P735 [ ps:P735 ?answer; pq:P1545 \"2\" ]\\n}',\n",
       "  'answer_text': 'Уинстон',\n",
       "  'question_uris': ['http://www.wikidata.org/entity/Q1203'],\n",
       "  'question_props': ['ps:P735', 'p:P735', 'pq:P1545'],\n",
       "  'answers': [{'type': 'uri',\n",
       "    'value': 'http://www.wikidata.org/entity/Q2584852'}],\n",
       "  'tags': ['qualifier-constraint'],\n",
       "  'question_eng': \"What does John W. Lennon's middle name sound like?\"},\n",
       " {'uid': 2105,\n",
       "  'question_text': 'Как иначе называю угарный газ?',\n",
       "  'query': 'SELECT ?answer\\nWHERE {\\n  wd:Q2025 skos:altLabel ?answer \\n  FILTER (lang(?answer) = \"ru\") .\\n}',\n",
       "  'answer_text': 'Монооксид углерода',\n",
       "  'question_uris': ['http://www.wikidata.org/entity/Q2025'],\n",
       "  'question_props': ['skos:altLabel'],\n",
       "  'answers': [{'xml:lang': 'ru', 'type': 'literal', 'value': 'CO'},\n",
       "   {'xml:lang': 'ru', 'type': 'literal', 'value': 'Carbon monoxide'},\n",
       "   {'xml:lang': 'ru', 'type': 'literal', 'value': 'Моноксид углерода'},\n",
       "   {'xml:lang': 'ru', 'type': 'literal', 'value': 'окись углерода'},\n",
       "   {'xml:lang': 'ru', 'type': 'literal', 'value': 'оксид углерода (II)'},\n",
       "   {'xml:lang': 'ru', 'type': 'literal', 'value': 'Оксид углерода(II)'},\n",
       "   {'xml:lang': 'ru', 'type': 'literal', 'value': 'Равновесие Будуара'},\n",
       "   {'xml:lang': 'ru', 'type': 'literal', 'value': 'угарный газ'},\n",
       "   {'xml:lang': 'ru', 'type': 'literal', 'value': 'Углерода окись'}],\n",
       "  'tags': ['1-hop'],\n",
       "  'question_eng': 'What else do I call carbon monoxide?'},\n",
       " {'uid': 2106,\n",
       "  'question_text': 'Каким видом спорта занимался величайший игрок НБА Майкл Джордан во время перерыва в баскетбольной карьере?',\n",
       "  'query': 'SELECT ?answer\\nWHERE {\\n  wd:Q41421 wdt:P641 ?answer\\n  FILTER (?answer not in ( wd:Q5372 ))\\n}',\n",
       "  'answer_text': 'бейсболом',\n",
       "  'question_uris': ['http://www.wikidata.org/entity/Q41421',\n",
       "   'http://www.wikidata.org/entity/Q5372'],\n",
       "  'question_props': ['wdt:P641'],\n",
       "  'answers': [{'type': 'uri',\n",
       "    'value': 'http://www.wikidata.org/entity/Q5369'}],\n",
       "  'tags': ['exclusion', '1-hop'],\n",
       "  'question_eng': \"What sport did the NBA's greatest player, Michael Jordan, play during a break in his basketball career?\"},\n",
       " {'uid': 2107,\n",
       "  'question_text': 'В какой стране родилась певица Мадонна?',\n",
       "  'query': 'SELECT ?answer\\nWHERE {\\n  wd:Q1744 wdt:P19 [ wdt:P17 ?answer ]\\n}',\n",
       "  'answer_text': 'США',\n",
       "  'question_uris': ['http://www.wikidata.org/entity/Q1744'],\n",
       "  'question_props': ['wdt:P17', 'wdt:P19'],\n",
       "  'answers': [{'type': 'uri', 'value': 'http://www.wikidata.org/entity/Q30'}],\n",
       "  'tags': ['multi-hop'],\n",
       "  'question_eng': 'In what country was the singer Madonna born?'},\n",
       " {'uid': 2108,\n",
       "  'question_text': 'Кто был сыном горгоны Медузы?',\n",
       "  'query': 'SELECT ?answer\\nWHERE {\\n  wd:Q160730 wdt:P40 ?answer .\\n  VALUES ?male { wd:Q6581097 wd:Q44148 }\\n  ?answer wdt:P21 ?male\\n}',\n",
       "  'answer_text': 'Пегас',\n",
       "  'question_uris': ['http://www.wikidata.org/entity/Q44148',\n",
       "   'http://www.wikidata.org/entity/Q160730',\n",
       "   'http://www.wikidata.org/entity/Q6581097'],\n",
       "  'question_props': ['wdt:P21', 'wdt:P40'],\n",
       "  'answers': [{'type': 'uri',\n",
       "    'value': 'http://www.wikidata.org/entity/Q162797'},\n",
       "   {'type': 'uri', 'value': 'http://www.wikidata.org/entity/Q320660'}],\n",
       "  'tags': ['multi-constraint'],\n",
       "  'question_eng': 'Who was the son of the Gorgon Medusa?'},\n",
       " {'uid': 2109,\n",
       "  'question_text': 'Кто сыграл Тосю Кислицыну в фильме «Девчата»?',\n",
       "  'query': 'SELECT ?answer\\nWHERE {\\n  wd:Q2373306 p:P161 [ ps:P161 ?answer; pq:P453 wd:Q28664853 ]\\n}',\n",
       "  'answer_text': 'Надежда Румянцева',\n",
       "  'question_uris': ['http://www.wikidata.org/entity/Q2373306',\n",
       "   'http://www.wikidata.org/entity/Q28664853'],\n",
       "  'question_props': ['p:P161', 'pq:P453', 'ps:P161'],\n",
       "  'answers': [{'type': 'uri',\n",
       "    'value': 'http://www.wikidata.org/entity/Q2997148'}],\n",
       "  'tags': ['qualifier-constraint'],\n",
       "  'question_eng': 'Who played Tosya Kislitsyna in the movie \"Girls\"?'},\n",
       " {'uid': 2110,\n",
       "  'question_text': 'Кто вместе с Риной Зелёной написал сценарий советского фильма \"Подкидыш\"?',\n",
       "  'query': 'SELECT ?answer\\nWHERE {\\n  wd:Q4367638 wdt:P58 ?answer\\n  FILTER (?answer not in ( wd:Q435540 ))\\n}',\n",
       "  'answer_text': 'Агния Барто',\n",
       "  'question_uris': ['http://www.wikidata.org/entity/Q4367638',\n",
       "   'http://www.wikidata.org/entity/Q435540'],\n",
       "  'question_props': ['wdt:P58'],\n",
       "  'answers': [{'type': 'uri',\n",
       "    'value': 'http://www.wikidata.org/entity/Q683485'}],\n",
       "  'tags': ['exclusion', '1-hop'],\n",
       "  'question_eng': 'Who together with Rina Zelenaya wrote the script of the Soviet film \"the foundling\"?'},\n",
       " {'uid': 2111,\n",
       "  'question_text': 'Кто из лауреатов премии \"Оскар\" за лучшую мужскую роль в 1941 году стал летчиком-бомбардировщиком и дослужился до бригадного генерала?',\n",
       "  'query': 'SELECT ?answer\\nWHERE {\\n  wd:Q103916 wdt:P1346 ?answer .\\n  ?answer wdt:P106 wd:Q2095549\\n}',\n",
       "  'answer_text': 'Джимми Стюарт',\n",
       "  'question_uris': ['http://www.wikidata.org/entity/Q2095549',\n",
       "   'http://www.wikidata.org/entity/Q103916'],\n",
       "  'question_props': ['wdt:P106', 'wdt:P1346'],\n",
       "  'answers': [{'type': 'uri',\n",
       "    'value': 'http://www.wikidata.org/entity/Q102462'}],\n",
       "  'tags': ['multi-constraint'],\n",
       "  'question_eng': 'Which of the winners of the Academy award for best actor in 1941 became a bomber pilot and rose to the rank of Brigadier General?'},\n",
       " {'uid': 2112,\n",
       "  'question_text': 'Какой город является столицей Бурунди?',\n",
       "  'query': 'SELECT ?answer\\nWHERE {\\n  wd:Q967 wdt:P36 ?answer\\n}',\n",
       "  'answer_text': 'Бужумбура',\n",
       "  'question_uris': ['http://www.wikidata.org/entity/Q967'],\n",
       "  'question_props': ['wdt:P36'],\n",
       "  'answers': [{'type': 'uri',\n",
       "    'value': 'http://www.wikidata.org/entity/Q167551'}],\n",
       "  'tags': ['1-hop'],\n",
       "  'question_eng': 'Which city is the capital of Burundi?'},\n",
       " {'uid': 2113,\n",
       "  'question_text': 'Кто составил \"Толковый словарь живого великорусского языка\"?',\n",
       "  'query': 'SELECT ?answer\\nWHERE {\\n  wd:Q1970746 wdt:P50 ?answer\\n}',\n",
       "  'answer_text': 'В.Даль',\n",
       "  'question_uris': ['http://www.wikidata.org/entity/Q1970746'],\n",
       "  'question_props': ['wdt:P50'],\n",
       "  'answers': [{'type': 'uri',\n",
       "    'value': 'http://www.wikidata.org/entity/Q326499'}],\n",
       "  'tags': ['1-hop'],\n",
       "  'question_eng': 'Who compiled the \"Explanatory dictionary of the living great Russian language\"?'},\n",
       " {'uid': 2114,\n",
       "  'question_text': 'Кто снял фильмы \"Космос как предчувствие\", \"Прогулка\"?',\n",
       "  'query': 'SELECT ?answer\\nWHERE {\\n  wd:Q4235079 wdt:P57 ?answer .\\n  wd:Q4379891 wdt:P57 ?answer\\n}',\n",
       "  'answer_text': 'Алексей Учитель',\n",
       "  'question_uris': ['http://www.wikidata.org/entity/Q4235079',\n",
       "   'http://www.wikidata.org/entity/Q4379891'],\n",
       "  'question_props': ['wdt:P57'],\n",
       "  'answers': [{'type': 'uri',\n",
       "    'value': 'http://www.wikidata.org/entity/Q137244'}],\n",
       "  'tags': ['multi-constraint'],\n",
       "  'question_eng': 'Who made the films \"Space as a premonition\", \"Walk\"?'},\n",
       " {'uid': 2115,\n",
       "  'question_text': 'Где родился Жан Клод Ван Дамм?',\n",
       "  'query': 'SELECT ?answer\\nWHERE {\\n  wd:Q308840 wdt:P19 [ wdt:P17 ?answer ]\\n}',\n",
       "  'answer_text': 'в Бельгии',\n",
       "  'question_uris': ['http://www.wikidata.org/entity/Q308840'],\n",
       "  'question_props': ['wdt:P17', 'wdt:P19'],\n",
       "  'answers': [{'type': 'uri', 'value': 'http://www.wikidata.org/entity/Q31'}],\n",
       "  'tags': ['multi-hop'],\n",
       "  'question_eng': 'Where was Jean Claude van Damme born?'},\n",
       " {'uid': 2116,\n",
       "  'question_text': 'Как звучит полное имя Ди Каприо?',\n",
       "  'query': 'SELECT ?answer\\nWHERE {\\n  wd:Q38111 wdt:P1477 ?answer\\n}',\n",
       "  'answer_text': 'Леонардо Вильгельм',\n",
       "  'question_uris': ['http://www.wikidata.org/entity/Q38111'],\n",
       "  'question_props': ['wdt:P1477'],\n",
       "  'answers': [{'xml:lang': 'en',\n",
       "    'type': 'literal',\n",
       "    'value': 'Leonardo Wilhelm DiCaprio'}],\n",
       "  'tags': ['1-hop'],\n",
       "  'question_eng': \"What does DiCaprio's full name sound like?\"},\n",
       " {'uid': 2117,\n",
       "  'question_text': 'Какая советская киностудия выпустила фильмы «Сказание о Рустаме», «Рустам и Сухраб», «Сказание о Сиявуше»?',\n",
       "  'query': 'SELECT ?answer\\nWHERE {\\n  wd:Q4401094 wdt:P272 ?answer .\\n  wd:Q4421346 wdt:P272 ?answer .\\n  wd:Q4421348 wdt:P272 ?answer\\n}',\n",
       "  'answer_text': '«Таджикфильм»',\n",
       "  'question_uris': ['http://www.wikidata.org/entity/Q4421346',\n",
       "   'http://www.wikidata.org/entity/Q4421348',\n",
       "   'http://www.wikidata.org/entity/Q4401094'],\n",
       "  'question_props': ['wdt:P272'],\n",
       "  'answers': [{'type': 'uri',\n",
       "    'value': 'http://www.wikidata.org/entity/Q2465121'}],\n",
       "  'tags': ['multi-constraint'],\n",
       "  'question_eng': 'Which Soviet film Studio released the films \"the Tale of Rustam\", \"Rustam and Suhrab\", \"the Tale of Siyavush\"?'},\n",
       " {'uid': 2118,\n",
       "  'question_text': 'Какой калибр у автомата Калашникова \"АК-74\"?',\n",
       "  'query': 'SELECT ?answer\\nWHERE {\\n  wd:Q37116 wdt:P2556 ?answer\\n}',\n",
       "  'answer_text': '5.45',\n",
       "  'question_uris': ['http://www.wikidata.org/entity/Q37116'],\n",
       "  'question_props': ['wdt:P2556'],\n",
       "  'answers': [{'datatype': 'http://www.w3.org/2001/XMLSchema#decimal',\n",
       "    'type': 'literal',\n",
       "    'value': '7.62'}],\n",
       "  'tags': ['1-hop'],\n",
       "  'question_eng': 'What caliber does the AK-74 Kalashnikov have?'},\n",
       " {'uid': 2119,\n",
       "  'question_text': 'Какая опера завершает тетралогию Рихарда Вагнера «Кольцо Нибелунга»?',\n",
       "  'query': 'SELECT ?answer\\nWHERE {\\n  wd:Q190237 p:P527 [ ps:P527 ?answer; pq:P1545 ?num ]\\n}\\nORDER BY DESC(?num)\\nLIMIT 1',\n",
       "  'answer_text': '«Гибель богов',\n",
       "  'question_uris': ['http://www.wikidata.org/entity/Q190237'],\n",
       "  'question_props': ['pq:P1545', 'p:P527', 'ps:P527'],\n",
       "  'answers': [{'type': 'uri',\n",
       "    'value': 'http://www.wikidata.org/entity/Q272029'}],\n",
       "  'tags': ['ranking', 'qualifier-constraint'],\n",
       "  'question_eng': 'Which Opera completes Richard Wagner\\'s \"Ring of the Nibelung\" tetralogy?'},\n",
       " {'uid': 2120,\n",
       "  'question_text': 'Как называется исторический период, разделяющий Средневековье и новейшее время?',\n",
       "  'query': 'SELECT ?answer\\nWHERE {\\n  ?answer wdt:P156 wd:Q186075 .\\n  ?answer wdt:P155 wd:Q12554\\n}',\n",
       "  'answer_text': 'Новое время',\n",
       "  'question_uris': ['http://www.wikidata.org/entity/Q12554',\n",
       "   'http://www.wikidata.org/entity/Q186075'],\n",
       "  'question_props': ['wdt:P155', 'wdt:P156'],\n",
       "  'answers': [{'type': 'uri',\n",
       "    'value': 'http://www.wikidata.org/entity/Q3281534'}],\n",
       "  'tags': ['reverse', 'multi-constraint'],\n",
       "  'question_eng': 'What is the name of the historical period that separates the middle Ages and modern times?'},\n",
       " {'uid': 2121,\n",
       "  'question_text': 'Какая группа снялась в фильме Ричарда Лестера «Вечер трудного дня»?',\n",
       "  'query': 'SELECT ?answer\\nWHERE {\\n  wd:Q913311 wdt:P161 ?answer .\\n  ?answer wdt:P31/wdt:P279* wd:Q215380\\n}',\n",
       "  'answer_text': '«Битлз»',\n",
       "  'question_uris': ['http://www.wikidata.org/entity/Q215380',\n",
       "   'http://www.wikidata.org/entity/Q913311'],\n",
       "  'question_props': ['wdt:P31', 'wdt:P161', 'wdt:P279'],\n",
       "  'answers': [{'type': 'uri',\n",
       "    'value': 'http://www.wikidata.org/entity/Q1299'}],\n",
       "  'tags': ['multi-constraint'],\n",
       "  'question_eng': 'Which group starred in Richard Lester\\'s\"hard day\\'s night\"?'},\n",
       " {'uid': 2122,\n",
       "  'question_text': 'Кто в 2016 году стал обладателем Нобелевской премии по литературе?',\n",
       "  'query': 'SELECT ?answer\\nWHERE {\\n  wd:Q37922 p:P1346 [ ps:P1346 ?answer; pq:P585 \"2016-01-01T00:00:00+00:00\"^^xsd:dateTime ]\\n}',\n",
       "  'answer_text': 'Боб Дилан',\n",
       "  'question_uris': ['http://www.wikidata.org/entity/Q37922'],\n",
       "  'question_props': ['p:P1346', 'pq:P585', 'ps:P1346'],\n",
       "  'answers': [{'type': 'uri', 'value': 'http://www.wikidata.org/entity/Q392'}],\n",
       "  'tags': ['qualifier-constraint'],\n",
       "  'question_eng': 'Who won the 2016 Nobel prize in literature?'},\n",
       " {'uid': 2123,\n",
       "  'question_text': 'Где прошла коронация Наполеона I?',\n",
       "  'query': 'SELECT ?answer\\nWHERE {\\n  wd:Q973118 wdt:P276 ?answer\\n}',\n",
       "  'answer_text': 'в Соборе Парижской Богоматери',\n",
       "  'question_uris': ['http://www.wikidata.org/entity/Q973118'],\n",
       "  'question_props': ['wdt:P276'],\n",
       "  'answers': [{'type': 'uri',\n",
       "    'value': 'http://www.wikidata.org/entity/Q2981'}],\n",
       "  'tags': ['1-hop'],\n",
       "  'question_eng': 'Where was the coronation of Napoleon I?'},\n",
       " {'uid': 3000,\n",
       "  'question_text': 'Где находится озеро Лох-Несс?',\n",
       "  'query': 'SELECT ?answer\\nWHERE {\\n  wd:Q49650 wdt:P17 ?answer .\\n}',\n",
       "  'answer_text': 'В Шотландии',\n",
       "  'question_uris': ['http://www.wikidata.org/entity/Q49650'],\n",
       "  'question_props': ['wdt:P17'],\n",
       "  'answers': [{'type': 'uri', 'value': 'http://www.wikidata.org/entity/Q145'}],\n",
       "  'tags': ['1-hop'],\n",
       "  'question_eng': 'Where is Loch ness?'},\n",
       " {'uid': 3001,\n",
       "  'question_text': 'Кто был соавтором С. В. Михалкова в написании текста гимна Советского Союза?',\n",
       "  'query': 'SELECT ?answer\\nWHERE {\\n  wd:Q251918 wdt:P676 ?answer .\\n  FILTER (?answer not in ( wd:Q208116 ))\\n}',\n",
       "  'answer_text': 'Эль-Регистан',\n",
       "  'question_uris': ['http://www.wikidata.org/entity/Q208116',\n",
       "   'http://www.wikidata.org/entity/Q251918'],\n",
       "  'question_props': ['wdt:P676'],\n",
       "  'answers': [{'type': 'uri',\n",
       "    'value': 'http://www.wikidata.org/entity/Q453447'}],\n",
       "  'tags': ['exclusion', '1-hop'],\n",
       "  'question_eng': \"Who was S. V. Mikhalkov's co-author in writing the text of the anthem of the Soviet Union?\"},\n",
       " {'uid': 3002,\n",
       "  'question_text': 'Как называется мера счета мелких галантерейных и канцелярских предметов, равная 144?',\n",
       "  'query': 'SELECT ?answer\\nWHERE {\\n  ?answer wdt:P31 wd:Q2360980 .\\n  ?answer wdt:P1181 ?x .\\n  FILTER (?x = 144)\\n}',\n",
       "  'answer_text': 'Гросс',\n",
       "  'question_uris': ['http://www.wikidata.org/entity/Q2360980'],\n",
       "  'question_props': ['wdt:P31', 'wdt:P1181'],\n",
       "  'answers': [{'type': 'uri',\n",
       "    'value': 'http://www.wikidata.org/entity/Q1547498'}],\n",
       "  'tags': ['reverse', 'multi-constraint'],\n",
       "  'question_eng': 'What is the measure of the account of small haberdashery and stationery items equal to 144?'},\n",
       " {'uid': 3003,\n",
       "  'question_text': 'Какую болезнь в России когда-то называли инфлюэнца?',\n",
       "  'query': 'SELECT ?answer\\nWHERE {\\n  VALUES ?answer { wd:Q2840 }\\n}',\n",
       "  'answer_text': 'Грипп',\n",
       "  'question_uris': ['http://www.wikidata.org/entity/Q2840'],\n",
       "  'question_props': [],\n",
       "  'answers': [{'type': 'uri',\n",
       "    'value': 'http://www.wikidata.org/entity/Q2840'}],\n",
       "  'tags': ['0-hop'],\n",
       "  'question_eng': 'What disease was once called influenza in Russia?'},\n",
       " {'uid': 3004,\n",
       "  'question_text': 'Какой голос у великого Лучано Паваротти?',\n",
       "  'query': 'SELECT ?answer\\nWHERE {\\n  wd:Q37615 wdt:P412 ?answer .\\n}',\n",
       "  'answer_text': 'Тенор',\n",
       "  'question_uris': ['http://www.wikidata.org/entity/Q37615'],\n",
       "  'question_props': ['wdt:P412'],\n",
       "  'answers': [{'type': 'uri',\n",
       "    'value': 'http://www.wikidata.org/entity/Q5492408'}],\n",
       "  'tags': ['1-hop'],\n",
       "  'question_eng': 'What voice does the great Luciano Pavarotti have?'},\n",
       " {'uid': 3005,\n",
       "  'question_text': 'Как называется пейзаж, изображающий море?',\n",
       "  'query': 'SELECT ?answer\\nWHERE {\\n  ?answer wdt:P279 wd:Q191163 .\\n  ?answer wdt:P180 wd:Q165\\n}',\n",
       "  'answer_text': 'Марина',\n",
       "  'question_uris': ['http://www.wikidata.org/entity/Q165',\n",
       "   'http://www.wikidata.org/entity/Q191163'],\n",
       "  'question_props': ['wdt:P180', 'wdt:P279'],\n",
       "  'answers': [{'type': 'uri',\n",
       "    'value': 'http://www.wikidata.org/entity/Q158607'}],\n",
       "  'tags': ['reverse', 'multi-constraint'],\n",
       "  'question_eng': 'What is the name of a landscape depicting the sea?'},\n",
       " {'uid': 3006,\n",
       "  'question_text': 'Как звали Раскольникова из \"Преступления и наказания\"?',\n",
       "  'query': 'SELECT ?answer\\nWHERE {\\n  wd:Q934089 wdt:P735 ?answer .\\n}',\n",
       "  'answer_text': 'Родион',\n",
       "  'question_uris': ['http://www.wikidata.org/entity/Q934089'],\n",
       "  'question_props': ['wdt:P735'],\n",
       "  'answers': [{'type': 'uri',\n",
       "    'value': 'http://www.wikidata.org/entity/Q21127485'}],\n",
       "  'tags': ['1-hop'],\n",
       "  'question_eng': 'What was the name of Raskolnikov from \"Crime and punishment\"?'},\n",
       " {'uid': 3007,\n",
       "  'question_text': 'Команда какой страны стала чемпионом Европы по футболу в 2000 г.?',\n",
       "  'query': 'SELECT ?answer\\nWHERE {\\n  wd:Q131239 wdt:P1346 [ wdt:P17 ?answer ] .\\n}',\n",
       "  'answer_text': 'Франция',\n",
       "  'question_uris': ['http://www.wikidata.org/entity/Q131239'],\n",
       "  'question_props': ['wdt:P17', 'wdt:P1346'],\n",
       "  'answers': [{'type': 'uri', 'value': 'http://www.wikidata.org/entity/Q142'}],\n",
       "  'tags': ['multi-hop'],\n",
       "  'question_eng': \"Which country's team became the European football champion in 2000?\"},\n",
       " {'uid': 3008,\n",
       "  'question_text': 'В какой стране производится пиво Peroni?',\n",
       "  'query': 'SELECT ?answer\\nWHERE {\\n  wd:Q865859 wdt:P17 ?answer .\\n}',\n",
       "  'answer_text': 'Италия',\n",
       "  'question_uris': ['http://www.wikidata.org/entity/Q865859'],\n",
       "  'question_props': ['wdt:P17'],\n",
       "  'answers': [{'type': 'uri', 'value': 'http://www.wikidata.org/entity/Q38'}],\n",
       "  'tags': ['1-hop'],\n",
       "  'question_eng': 'Which country produces Peroni beer?'},\n",
       " {'uid': 3009,\n",
       "  'question_text': 'Как звали Графа Калиостро?',\n",
       "  'query': 'SELECT ?answer\\nWHERE {\\n  wd:Q312332 wdt:P735 ?answer .\\n}',\n",
       "  'answer_text': 'Джузеппе',\n",
       "  'question_uris': ['http://www.wikidata.org/entity/Q312332'],\n",
       "  'question_props': ['wdt:P735'],\n",
       "  'answers': [{'type': 'uri',\n",
       "    'value': 'http://www.wikidata.org/entity/Q15720844'}],\n",
       "  'tags': ['1-hop'],\n",
       "  'question_eng': 'What was the name of Count Cagliostro?'},\n",
       " {'uid': 3010,\n",
       "  'question_text': 'Как звали жену Пушкина?',\n",
       "  'query': 'SELECT ?answer\\nWHERE {\\n  wd:Q7200 wdt:P26 [ wdt:P735 ?answer ] .\\n}',\n",
       "  'answer_text': 'Наталья',\n",
       "  'question_uris': ['http://www.wikidata.org/entity/Q7200'],\n",
       "  'question_props': ['wdt:P735', 'wdt:P26'],\n",
       "  'answers': [{'type': 'uri',\n",
       "    'value': 'http://www.wikidata.org/entity/Q17142699'}],\n",
       "  'tags': ['multi-hop'],\n",
       "  'question_eng': \"What was the name of Pushkin's wife?\"},\n",
       " {'uid': 3011,\n",
       "  'question_text': 'Как звали отца Одиссея?',\n",
       "  'query': 'SELECT ?answer\\nWHERE {\\n  wd:Q47231 wdt:P22 ?answer .\\n}',\n",
       "  'answer_text': 'Лаэрт',\n",
       "  'question_uris': ['http://www.wikidata.org/entity/Q47231'],\n",
       "  'question_props': ['wdt:P22'],\n",
       "  'answers': [{'type': 'uri',\n",
       "    'value': 'http://www.wikidata.org/entity/Q748296'}],\n",
       "  'tags': ['1-hop'],\n",
       "  'question_eng': \"What was Odysseus ' father's name?\"},\n",
       " {'uid': 3012,\n",
       "  'question_text': 'Какая наука изучает рельефы суши, дна океанов и морей?',\n",
       "  'query': 'SELECT ?answer\\nWHERE {\\n  ?answer wdt:P2578 wd:Q186131 .\\n}',\n",
       "  'answer_text': 'геоморфология',\n",
       "  'question_uris': ['http://www.wikidata.org/entity/Q186131'],\n",
       "  'question_props': ['wdt:P2578'],\n",
       "  'answers': [{'type': 'uri',\n",
       "    'value': 'http://www.wikidata.org/entity/Q52109'}],\n",
       "  'tags': ['reverse', '1-hop'],\n",
       "  'question_eng': 'What science studies landforms, ocean bottoms, and seas?'},\n",
       " {'uid': 3013,\n",
       "  'question_text': 'Какой город был переименован в 1968 г. в г. Гагарин?',\n",
       "  'query': 'SELECT ?answer\\nWHERE {\\n  wd:Q134318 p:P1448 [ ps:P1448 ?answer; pq:P582 ?year ] .\\n  FILTER(YEAR(?year) = 1968) .\\n}',\n",
       "  'answer_text': 'Гжатск',\n",
       "  'question_uris': ['http://www.wikidata.org/entity/Q134318'],\n",
       "  'question_props': ['p:P1448', 'ps:P1448', 'pq:P582'],\n",
       "  'answers': [{'xml:lang': 'ru', 'type': 'literal', 'value': 'Гжатск'}],\n",
       "  'tags': ['qualifier-constraint', 'multi-constraint'],\n",
       "  'question_eng': 'Which city was renamed Gagarin in 1968?'},\n",
       " {'uid': 3014,\n",
       "  'question_text': 'Какую фамилию носил почтальон из деревни Простоквашино?',\n",
       "  'query': 'SELECT ?answer\\nWHERE {\\n  wd:Q4381521 wdt:P1441 [ wdt:P674 ?person ] .\\n  ?person wdt:P106 wd:Q2180295 .\\n  ?person wdt:P734 ?answer\\n}',\n",
       "  'answer_text': 'Печкин',\n",
       "  'question_uris': ['http://www.wikidata.org/entity/Q2180295',\n",
       "   'http://www.wikidata.org/entity/Q4381521'],\n",
       "  'question_props': ['wdt:P674', 'wdt:P106', 'wdt:P1441', 'wdt:P734'],\n",
       "  'answers': [{'type': 'uri',\n",
       "    'value': 'http://www.wikidata.org/entity/Q84077904'}],\n",
       "  'tags': ['multi-constraint'],\n",
       "  'question_eng': 'What was the name of the postman from the village of Prostokvashino?'},\n",
       " {'uid': 3015,\n",
       "  'question_text': 'Кем был Ефим Алексеевич Придворов? (имя + фамилия)',\n",
       "  'query': 'SELECT ?answer\\nWHERE {\\n  VALUES ?answer { wd:Q439566 }\\n}',\n",
       "  'answer_text': 'Демьян Бедный',\n",
       "  'question_uris': ['http://www.wikidata.org/entity/Q439566'],\n",
       "  'question_props': [],\n",
       "  'answers': [{'type': 'uri',\n",
       "    'value': 'http://www.wikidata.org/entity/Q439566'}],\n",
       "  'tags': ['0-hop'],\n",
       "  'question_eng': 'Who was Yefim Alekseyevich Pridvorov? (first name + last name)'},\n",
       " {'uid': 3016,\n",
       "  'question_text': 'Кто снялся в роли советского офицера Ивана Драги, противостоящего знаменитому боксеру Рокки?',\n",
       "  'query': 'SELECT ?answer\\nWHERE {\\n  wd:Q2288207 wdt:P175 ?answer .\\n}',\n",
       "  'answer_text': 'Лундгрен',\n",
       "  'question_uris': ['http://www.wikidata.org/entity/Q2288207'],\n",
       "  'question_props': ['wdt:P175'],\n",
       "  'answers': [{'type': 'uri',\n",
       "    'value': 'http://www.wikidata.org/entity/Q181678'}],\n",
       "  'tags': ['1-hop'],\n",
       "  'question_eng': 'Who starred in the role of Soviet officer Ivan Draghi, opposing the famous boxer rocky?'},\n",
       " {'uid': 3017,\n",
       "  'question_text': 'В какой стране проходили XXI Олимпийские игры',\n",
       "  'query': 'SELECT DISTINCT ?answer \\nWHERE { {\\n  wd:Q9674 wdt:P17 ?answer \\n} UNION {\\n  wd:Q8444 wdt:P17 ?answer \\n} }',\n",
       "  'answer_text': 'Канада',\n",
       "  'question_uris': ['http://www.wikidata.org/entity/Q8444',\n",
       "   'http://www.wikidata.org/entity/Q9674'],\n",
       "  'question_props': ['wdt:P17'],\n",
       "  'answers': [{'type': 'uri', 'value': 'http://www.wikidata.org/entity/Q16'}],\n",
       "  'tags': ['multi-constraint'],\n",
       "  'question_eng': 'Which country hosted the XXI Olympic games'},\n",
       " {'uid': 3018,\n",
       "  'question_text': 'Как звали правнука Мафусаила?',\n",
       "  'query': 'SELECT ?answer\\nWHERE {\\n  wd:Q156290 wdt:P40 [ wdt:P40 ?answer ] .\\n  ?answer wdt:P21 wd:Q6581097\\n}',\n",
       "  'answer_text': 'Ной',\n",
       "  'question_uris': ['http://www.wikidata.org/entity/Q156290',\n",
       "   'http://www.wikidata.org/entity/Q6581097'],\n",
       "  'question_props': ['wdt:P21', 'wdt:P40'],\n",
       "  'answers': [{'type': 'uri',\n",
       "    'value': 'http://www.wikidata.org/entity/Q81422'}],\n",
       "  'tags': ['multi-constraint'],\n",
       "  'question_eng': \"What was the name of Methuselah's great-grandson?\"},\n",
       " {'uid': 3019,\n",
       "  'question_text': 'Как звали президента Кеннеди, которого ухлопали в Далласе',\n",
       "  'query': 'SELECT ?answer\\nWHERE {\\n  wd:Q9696 wdt:P735 ?answer .\\n}',\n",
       "  'answer_text': 'Джон',\n",
       "  'question_uris': ['http://www.wikidata.org/entity/Q9696'],\n",
       "  'question_props': ['wdt:P735'],\n",
       "  'answers': [{'type': 'uri',\n",
       "    'value': 'http://www.wikidata.org/entity/Q4925477'}],\n",
       "  'tags': ['1-hop'],\n",
       "  'question_eng': 'What was the name of President Kennedy, who was killed in Dallas'},\n",
       " {'uid': 3020,\n",
       "  'question_text': 'Каково русское народное название литургии?',\n",
       "  'query': 'SELECT ?answer\\nWHERE {\\n  VALUES ?answer { wd:Q172331 }\\n}',\n",
       "  'answer_text': 'обедня',\n",
       "  'question_uris': ['http://www.wikidata.org/entity/Q172331'],\n",
       "  'question_props': [],\n",
       "  'answers': [{'type': 'uri',\n",
       "    'value': 'http://www.wikidata.org/entity/Q172331'}],\n",
       "  'tags': ['0-hop'],\n",
       "  'question_eng': 'What is the Russian folk name of the Liturgy?'},\n",
       " {'uid': 3021,\n",
       "  'question_text': 'Какое растение перерабатывают в текилу',\n",
       "  'query': 'SELECT ?answer\\nWHERE {\\n  wd:Q122195 wdt:P186 ?answer .\\n}',\n",
       "  'answer_text': 'кактус',\n",
       "  'question_uris': ['http://www.wikidata.org/entity/Q122195'],\n",
       "  'question_props': ['wdt:P186'],\n",
       "  'answers': [{'type': 'uri',\n",
       "    'value': 'http://www.wikidata.org/entity/Q155874'}],\n",
       "  'tags': ['1-hop'],\n",
       "  'question_eng': 'Which plant is processed into tequila'},\n",
       " {'uid': 3022,\n",
       "  'question_text': 'Какой американский штат подарил миру четырехкратного олимпийского чемпиона Джесси Оуэнса',\n",
       "  'query': 'SELECT ?answer\\nWHERE {\\n  wd:Q52651 wdt:P19/wdt:P131* ?answer .\\n  ?answer wdt:P31 wd:Q35657\\n}',\n",
       "  'answer_text': 'Алабама',\n",
       "  'question_uris': ['http://www.wikidata.org/entity/Q35657',\n",
       "   'http://www.wikidata.org/entity/Q52651'],\n",
       "  'question_props': ['wdt:P31', 'wdt:P19', 'wdt:P131'],\n",
       "  'answers': [{'type': 'uri', 'value': 'http://www.wikidata.org/entity/Q173'}],\n",
       "  'tags': ['multi-constraint'],\n",
       "  'question_eng': 'Which American state gave the world four-time Olympic champion Jesse Owens'},\n",
       " {'uid': 3023,\n",
       "  'question_text': 'Какой поэт написал слова к бродвейскому мюзиклу \"Cats\" Эндрю Веббера',\n",
       "  'query': 'SELECT ?answer\\nWHERE {\\n  wd:Q337097 wdt:P676 ?answer .\\n}',\n",
       "  'answer_text': 'Элиот',\n",
       "  'question_uris': ['http://www.wikidata.org/entity/Q337097'],\n",
       "  'question_props': ['wdt:P676'],\n",
       "  'answers': [{'type': 'uri',\n",
       "    'value': 'http://www.wikidata.org/entity/Q37767'}],\n",
       "  'tags': ['1-hop'],\n",
       "  'question_eng': 'Which poet wrote the words to Andrew Webber\\'s Broadway musical \"Cats\"'},\n",
       " {'uid': 3024,\n",
       "  'question_text': 'Кем был Риголетто при дворе короля',\n",
       "  'query': 'SELECT ?answer\\nWHERE {\\n  wd:Q50386830 wdt:P106 ?answer .\\n}',\n",
       "  'answer_text': 'шут',\n",
       "  'question_uris': ['http://www.wikidata.org/entity/Q50386830'],\n",
       "  'question_props': ['wdt:P106'],\n",
       "  'answers': [{'type': 'uri',\n",
       "    'value': 'http://www.wikidata.org/entity/Q215548'}],\n",
       "  'tags': ['1-hop'],\n",
       "  'question_eng': \"Who was Rigoletto at the king's court\"},\n",
       " {'uid': 3025,\n",
       "  'question_text': 'Кем на сегодняшний день является Путин?',\n",
       "  'query': 'SELECT ?answer\\nWHERE {\\n  wd:Q7747 wdt:P39 ?answer .\\n}',\n",
       "  'answer_text': 'президентом',\n",
       "  'question_uris': ['http://www.wikidata.org/entity/Q7747'],\n",
       "  'question_props': ['wdt:P39'],\n",
       "  'answers': [{'type': 'uri',\n",
       "    'value': 'http://www.wikidata.org/entity/Q140686'},\n",
       "   {'type': 'uri', 'value': 'http://www.wikidata.org/entity/Q218295'},\n",
       "   {'type': 'uri', 'value': 'http://www.wikidata.org/entity/Q842386'},\n",
       "   {'type': 'uri', 'value': 'http://www.wikidata.org/entity/Q4109060'},\n",
       "   {'type': 'uri', 'value': 'http://www.wikidata.org/entity/Q4127082'},\n",
       "   {'type': 'uri', 'value': 'http://www.wikidata.org/entity/Q4399975'},\n",
       "   {'type': 'uri', 'value': 'http://www.wikidata.org/entity/Q14805701'},\n",
       "   {'type': 'uri', 'value': 'http://www.wikidata.org/entity/Q27494237'},\n",
       "   {'type': 'uri', 'value': 'http://www.wikidata.org/entity/Q38715304'},\n",
       "   {'type': 'uri', 'value': 'http://www.wikidata.org/entity/Q38715670'},\n",
       "   {'type': 'uri', 'value': 'http://www.wikidata.org/entity/Q38715852'}],\n",
       "  'tags': ['1-hop'],\n",
       "  'question_eng': 'Who is Putin today?'},\n",
       " {'uid': 3026,\n",
       "  'question_text': 'Кто поведал об удивительном голосе Джельсомино',\n",
       "  'query': 'SELECT ?answer\\nWHERE {\\n  wd:Q3759322 wdt:P50 ?answer .\\n}',\n",
       "  'answer_text': 'Родари',\n",
       "  'question_uris': ['http://www.wikidata.org/entity/Q3759322'],\n",
       "  'question_props': ['wdt:P50'],\n",
       "  'answers': [{'type': 'uri',\n",
       "    'value': 'http://www.wikidata.org/entity/Q193018'}],\n",
       "  'tags': ['1-hop'],\n",
       "  'question_eng': 'Who told us about the amazing voice of Gelsomino'},\n",
       " {'uid': 3027,\n",
       "  'question_text': 'Кто придумал Винни-Пуха и Пятачка?',\n",
       "  'query': 'SELECT ?answer\\nWHERE {\\n  wd:Q188574 wdt:P170 ?answer .\\n  wd:Q836719 wdt:P170 ?answer\\n}',\n",
       "  'answer_text': 'Милн',\n",
       "  'question_uris': ['http://www.wikidata.org/entity/Q188574',\n",
       "   'http://www.wikidata.org/entity/Q836719'],\n",
       "  'question_props': ['wdt:P170'],\n",
       "  'answers': [{'type': 'uri',\n",
       "    'value': 'http://www.wikidata.org/entity/Q207036'}],\n",
       "  'tags': ['multi-constraint'],\n",
       "  'question_eng': 'Who invented Winnie the Pooh and Piglet?'},\n",
       " {'uid': 3028,\n",
       "  'question_text': 'Как называется корейская валюта?',\n",
       "  'query': 'SELECT ?answer\\nWHERE {\\n  wd:Q884 wdt:P38 ?answer .\\n}',\n",
       "  'answer_text': 'Вона',\n",
       "  'question_uris': ['http://www.wikidata.org/entity/Q884'],\n",
       "  'question_props': ['wdt:P38'],\n",
       "  'answers': [{'type': 'uri',\n",
       "    'value': 'http://www.wikidata.org/entity/Q202040'}],\n",
       "  'tags': ['1-hop'],\n",
       "  'question_eng': 'What is the name of the Korean currency?'},\n",
       " {'uid': 3029,\n",
       "  'question_text': 'В какой стране зародился буддизм?',\n",
       "  'query': 'SELECT ?answer\\nWHERE {\\n  wd:Q748 wdt:P740 [ wdt:P17 ?answer ] .\\n}',\n",
       "  'answer_text': 'Индия',\n",
       "  'question_uris': ['http://www.wikidata.org/entity/Q748'],\n",
       "  'question_props': ['wdt:P17', 'wdt:P740'],\n",
       "  'answers': [{'type': 'uri', 'value': 'http://www.wikidata.org/entity/Q668'}],\n",
       "  'tags': ['multi-hop'],\n",
       "  'question_eng': 'In what country was Buddhism born?'},\n",
       " {'uid': 3030,\n",
       "  'question_text': 'Кем по образованию был Антон Павлович Чехов?',\n",
       "  'query': 'SELECT ?answer\\nWHERE {\\n  wd:Q5685 p:P69/pq:P512/wdt:P279* ?answer .\\n  ?answer wdt:P31/wdt:P279* wd:Q28640\\n}',\n",
       "  'answer_text': 'Врач',\n",
       "  'question_uris': ['http://www.wikidata.org/entity/Q28640',\n",
       "   'http://www.wikidata.org/entity/Q5685'],\n",
       "  'question_props': ['wdt:P31', 'wdt:P279', 'pq:P512', 'p:P69'],\n",
       "  'answers': [{'type': 'uri',\n",
       "    'value': 'http://www.wikidata.org/entity/Q11974939'},\n",
       "   {'type': 'uri', 'value': 'http://www.wikidata.org/entity/Q39631'}],\n",
       "  'tags': ['multi-constraint'],\n",
       "  'question_eng': 'Who was Anton Pavlovich Chekhov by education?'},\n",
       " {'uid': 3031,\n",
       "  'question_text': 'Как звали первого человека космонавта',\n",
       "  'query': 'SELECT ?answer\\nWHERE {\\n  wd:Q7327 wdt:P1477 ?answer .\\n}',\n",
       "  'answer_text': 'юрий гагарин',\n",
       "  'question_uris': ['http://www.wikidata.org/entity/Q7327'],\n",
       "  'question_props': ['wdt:P1477'],\n",
       "  'answers': [{'xml:lang': 'ru',\n",
       "    'type': 'literal',\n",
       "    'value': 'Юрий Алексеевич Гагарин'}],\n",
       "  'tags': ['1-hop'],\n",
       "  'question_eng': 'What was the name of the first human cosmonaut'},\n",
       " {'uid': 3032,\n",
       "  'question_text': 'Как по-другому называют койота?',\n",
       "  'query': 'SELECT ?answer\\nWHERE {\\n  wd:Q44299 skos:altLabel ?answer .\\n  FILTER (lang(?answer) = \"ru\") \\n}',\n",
       "  'answer_text': 'Луговой волк',\n",
       "  'question_uris': ['http://www.wikidata.org/entity/Q44299'],\n",
       "  'question_props': ['skos:altLabel'],\n",
       "  'answers': [{'xml:lang': 'ru', 'type': 'literal', 'value': 'Луговой волк'},\n",
       "   {'xml:lang': 'ru', 'type': 'literal', 'value': 'Canis latrans'},\n",
       "   {'xml:lang': 'ru', 'type': 'literal', 'value': 'Койоты'}],\n",
       "  'tags': ['1-hop'],\n",
       "  'question_eng': \"What's another name for a coyote?\"},\n",
       " {'uid': 3033,\n",
       "  'question_text': 'Кто в 1949 году стал первым канцлером ФРГ?',\n",
       "  'query': 'SELECT ?answer\\nWHERE {\\n  wd:Q183 p:P6 [ ps:P6 ?answer; pq:P580 ?begin ] .\\n}\\nORDER BY ASC(?begin)\\nLIMIT 1',\n",
       "  'answer_text': 'Аденауэр',\n",
       "  'question_uris': ['http://www.wikidata.org/entity/Q183'],\n",
       "  'question_props': ['pq:P580', 'ps:P6', 'p:P6'],\n",
       "  'answers': [{'type': 'uri',\n",
       "    'value': 'http://www.wikidata.org/entity/Q2492'}],\n",
       "  'tags': ['ranking', 'qualifier-constraint'],\n",
       "  'question_eng': 'Who became the first Chancellor of Germany in 1949?'},\n",
       " {'uid': 3034,\n",
       "  'question_text': 'Кого В.Серов изобразил на картине \"Девочка с персиками\"?',\n",
       "  'query': 'SELECT ?answer\\nWHERE {\\n  wd:Q4156438 wdt:P180 ?answer .\\n}',\n",
       "  'answer_text': 'Дочь мецената Саввы Мамонтова',\n",
       "  'question_uris': ['http://www.wikidata.org/entity/Q4156438'],\n",
       "  'question_props': ['wdt:P180'],\n",
       "  'answers': [{'type': 'uri',\n",
       "    'value': 'http://www.wikidata.org/entity/Q50546603'}],\n",
       "  'tags': ['1-hop'],\n",
       "  'question_eng': 'Who did V. Serov depict in the painting \"Girl with peaches\"?'},\n",
       " {'uid': 3035,\n",
       "  'question_text': 'Каким стихотворным размером Гомер написал «Илиаду» и «Одиссею»?',\n",
       "  'query': 'SELECT ?answer\\nWHERE {\\n  wd:Q8275 wdt:P2551 ?answer .\\n}',\n",
       "  'answer_text': 'гекзаметром',\n",
       "  'question_uris': ['http://www.wikidata.org/entity/Q8275'],\n",
       "  'question_props': ['wdt:P2551'],\n",
       "  'answers': [{'type': 'uri',\n",
       "    'value': 'http://www.wikidata.org/entity/Q5254470'}],\n",
       "  'tags': ['1-hop'],\n",
       "  'question_eng': 'How large a poem did Homer write the Iliad and the Odyssey?'},\n",
       " {'uid': 3036,\n",
       "  'question_text': 'Каким было полное имя набоковской Лолиты?',\n",
       "  'query': 'SELECT ?answer\\nWHERE {\\n  wd:Q47471703 wdt:P735 ?answer .\\n}',\n",
       "  'answer_text': 'Долорес',\n",
       "  'question_uris': ['http://www.wikidata.org/entity/Q47471703'],\n",
       "  'question_props': ['wdt:P735'],\n",
       "  'answers': [{'type': 'uri',\n",
       "    'value': 'http://www.wikidata.org/entity/Q7038725'}],\n",
       "  'tags': ['1-hop'],\n",
       "  'question_eng': \"What was the full name of Nabokov's Lolita?\"},\n",
       " {'uid': 3037,\n",
       "  'question_text': 'Какой советский космический корабль в 1975 году пристыковался к американскому \"Аполлону\"?',\n",
       "  'query': 'SELECT ?answer\\nWHERE {\\n  wd:Q208759 wdt:P1876 ?answer .\\n  ?answer wdt:P17 wd:Q15180\\n}',\n",
       "  'answer_text': '\"Союз-19\"',\n",
       "  'question_uris': ['http://www.wikidata.org/entity/Q208759',\n",
       "   'http://www.wikidata.org/entity/Q15180'],\n",
       "  'question_props': ['wdt:P17', 'wdt:P1876'],\n",
       "  'answers': [{'type': 'uri',\n",
       "    'value': 'http://www.wikidata.org/entity/Q1724109'}],\n",
       "  'tags': ['multi-constraint'],\n",
       "  'question_eng': 'Which Soviet spacecraft docked with the American Apollo in 1975?'},\n",
       " {'uid': 3038,\n",
       "  'question_text': 'Какой химический элемент обозначается Pb?',\n",
       "  'query': 'SELECT ?answer\\nWHERE {\\n  ?answer skos:altLabel \"Pb\"@ru .\\n  ?answer wdt:P31 wd:Q11344 \\n}',\n",
       "  'answer_text': 'Свинец',\n",
       "  'question_uris': ['http://www.wikidata.org/entity/Q11344'],\n",
       "  'question_props': ['wdt:P31', 'skos:altLabel'],\n",
       "  'answers': [{'type': 'uri', 'value': 'http://www.wikidata.org/entity/Q708'}],\n",
       "  'tags': ['reverse', 'multi-constraint'],\n",
       "  'question_eng': 'Which chemical element is designated Pb?'},\n",
       " {'uid': 3039,\n",
       "  'question_text': 'Где расположен единственный в мире высокогорный каток под открытым небом «Медео»?',\n",
       "  'query': 'SELECT ?answer\\nWHERE {\\n  wd:Q864796 wdt:P17 ?answer .\\n}',\n",
       "  'answer_text': 'в Казахстане',\n",
       "  'question_uris': ['http://www.wikidata.org/entity/Q864796'],\n",
       "  'question_props': ['wdt:P17'],\n",
       "  'answers': [{'type': 'uri', 'value': 'http://www.wikidata.org/entity/Q232'}],\n",
       "  'tags': ['1-hop'],\n",
       "  'question_eng': 'Where is the world\\'s only high-altitude open-air skating rink \"Medeo\"located?'},\n",
       " {'uid': 3040,\n",
       "  'question_text': 'Как называют брата жены?',\n",
       "  'query': 'SELECT ?answer\\nWHERE {\\n  VALUES ?answer { wd:Q23045444 }\\n}',\n",
       "  'answer_text': 'Шурин',\n",
       "  'question_uris': ['http://www.wikidata.org/entity/Q23045444'],\n",
       "  'question_props': [],\n",
       "  'answers': [{'type': 'uri',\n",
       "    'value': 'http://www.wikidata.org/entity/Q23045444'}],\n",
       "  'tags': ['0-hop'],\n",
       "  'question_eng': \"What is the name of the wife's brother?\"},\n",
       " {'uid': 3041,\n",
       "  'question_text': 'Как называются японские комиксы?',\n",
       "  'query': 'SELECT ?answer\\nWHERE {\\n  VALUES ?answer { wd:Q8274 }\\n}',\n",
       "  'answer_text': 'манга',\n",
       "  'question_uris': ['http://www.wikidata.org/entity/Q8274'],\n",
       "  'question_props': [],\n",
       "  'answers': [{'type': 'uri',\n",
       "    'value': 'http://www.wikidata.org/entity/Q8274'}],\n",
       "  'tags': ['0-hop'],\n",
       "  'question_eng': 'What are Japanese comics called?'},\n",
       " {'uid': 3042,\n",
       "  'question_text': 'Как расшифровывается аббревиатура НЭП?',\n",
       "  'query': 'SELECT ?answer\\nWHERE {\\n  wd:Q45745 wdt:P1448 ?answer \\n}',\n",
       "  'answer_text': 'Новая экономическая политика',\n",
       "  'question_uris': ['http://www.wikidata.org/entity/Q45745'],\n",
       "  'question_props': ['wdt:P1448'],\n",
       "  'answers': [{'xml:lang': 'ru',\n",
       "    'type': 'literal',\n",
       "    'value': 'Но́вая экономи́ческая поли́тика'}],\n",
       "  'tags': ['1-hop'],\n",
       "  'question_eng': 'How does the abbreviation NEP stand for?'},\n",
       " {'uid': 3043,\n",
       "  'question_text': 'Как по-другому называется смоковница?',\n",
       "  'query': 'SELECT ?answer\\nWHERE {\\n  wd:Q36146 skos:altLabel ?answer .\\n  FILTER (lang(?answer) = \"ru\") \\n}',\n",
       "  'answer_text': 'Инжир',\n",
       "  'question_uris': ['http://www.wikidata.org/entity/Q36146'],\n",
       "  'question_props': ['skos:altLabel'],\n",
       "  'answers': [{'xml:lang': 'ru', 'type': 'literal', 'value': 'Ficus carica'},\n",
       "   {'xml:lang': 'ru', 'type': 'literal', 'value': 'Инжир обыкновенный'},\n",
       "   {'xml:lang': 'ru', 'type': 'literal', 'value': 'Смирнская ягода'},\n",
       "   {'xml:lang': 'ru', 'type': 'literal', 'value': 'Смоква'},\n",
       "   {'xml:lang': 'ru', 'type': 'literal', 'value': 'Фиги'},\n",
       "   {'xml:lang': 'ru', 'type': 'literal', 'value': 'Фиговые деревья'},\n",
       "   {'xml:lang': 'ru', 'type': 'literal', 'value': 'Фикус карика'},\n",
       "   {'xml:lang': 'ru', 'type': 'literal', 'value': 'Фиговое дерево'},\n",
       "   {'xml:lang': 'ru', 'type': 'literal', 'value': 'Фига'},\n",
       "   {'xml:lang': 'ru', 'type': 'literal', 'value': 'Винная ягода'},\n",
       "   {'xml:lang': 'ru', 'type': 'literal', 'value': 'Смоковница'}],\n",
       "  'tags': ['1-hop'],\n",
       "  'question_eng': 'What is the other name for a Fig tree?'},\n",
       " {'uid': 3044,\n",
       "  'question_text': 'Какое произведение лежит в основе либретто оперы Дж. Верди \"Травиата\"?',\n",
       "  'query': 'SELECT ?answer\\nWHERE {\\n  wd:Q186162 wdt:P144 ?answer .\\n}',\n",
       "  'answer_text': '\"Дама с камелиями\"  Александра Дюма-сына',\n",
       "  'question_uris': ['http://www.wikidata.org/entity/Q186162'],\n",
       "  'question_props': ['wdt:P144'],\n",
       "  'answers': [{'type': 'uri',\n",
       "    'value': 'http://www.wikidata.org/entity/Q898795'}],\n",
       "  'tags': ['1-hop'],\n",
       "  'question_eng': \"What work is the basis of the libretto of the Opera by J. Verdi's La Traviata?\"},\n",
       " {'uid': 3045,\n",
       "  'question_text': 'В каком виде спорта разыгрывают кубок Стэнли?',\n",
       "  'query': 'SELECT ?answer\\nWHERE {\\n  wd:Q211872 wdt:P641 ?answer .\\n}',\n",
       "  'answer_text': 'Хоккей',\n",
       "  'question_uris': ['http://www.wikidata.org/entity/Q211872'],\n",
       "  'question_props': ['wdt:P641'],\n",
       "  'answers': [{'type': 'uri',\n",
       "    'value': 'http://www.wikidata.org/entity/Q41466'}],\n",
       "  'tags': ['1-hop'],\n",
       "  'question_eng': 'What sport is the Stanley Cup played in?'},\n",
       " {'uid': 3046,\n",
       "  'question_text': 'Как звали знаменитого О.Генри до его дебюта в литературе?',\n",
       "  'query': 'SELECT ?answer\\nWHERE {\\n  wd:Q172788 wdt:P1477 ?answer .\\n}',\n",
       "  'answer_text': 'Уильям Синди Портер',\n",
       "  'question_uris': ['http://www.wikidata.org/entity/Q172788'],\n",
       "  'question_props': ['wdt:P1477'],\n",
       "  'answers': [{'xml:lang': 'en',\n",
       "    'type': 'literal',\n",
       "    'value': 'William Sydney Porter'}],\n",
       "  'tags': ['1-hop'],\n",
       "  'question_eng': 'What was the name of the famous O. Henry before his debut in literature?'},\n",
       " {'uid': 3047,\n",
       "  'question_text': 'Как называют сестру мужа?',\n",
       "  'query': 'SELECT ?answer\\nWHERE {\\n  VALUES ?answer { wd:Q23045435 }\\n}',\n",
       "  'answer_text': 'Золовка',\n",
       "  'question_uris': ['http://www.wikidata.org/entity/Q23045435'],\n",
       "  'question_props': [],\n",
       "  'answers': [{'type': 'uri',\n",
       "    'value': 'http://www.wikidata.org/entity/Q23045435'}],\n",
       "  'tags': ['0-hop'],\n",
       "  'question_eng': \"What is the name of the husband's sister?\"},\n",
       " {'uid': 3048,\n",
       "  'question_text': 'В какой стране долгие годы правил диктатор Салазар?',\n",
       "  'query': 'SELECT ?answer\\nWHERE {\\n  wd:Q151394 wdt:P27 ?answer .\\n}',\n",
       "  'answer_text': 'Португалия',\n",
       "  'question_uris': ['http://www.wikidata.org/entity/Q151394'],\n",
       "  'question_props': ['wdt:P27'],\n",
       "  'answers': [{'type': 'uri', 'value': 'http://www.wikidata.org/entity/Q45'}],\n",
       "  'tags': ['1-hop'],\n",
       "  'question_eng': 'In what country in the long years of rule by the dictator Salazar?'},\n",
       " {'uid': 3049,\n",
       "  'question_text': 'Какой металл, кроме меди, присутствует в мельхиоровой посуде?',\n",
       "  'query': 'SELECT ?answer\\nWHERE {\\n  wd:Q3742035 wdt:P527 ?answer .\\n  FILTER (?answer not in ( wd:Q753 ))\\n}',\n",
       "  'answer_text': 'Никель',\n",
       "  'question_uris': ['http://www.wikidata.org/entity/Q3742035',\n",
       "   'http://www.wikidata.org/entity/Q753'],\n",
       "  'question_props': ['wdt:P527'],\n",
       "  'answers': [{'type': 'uri', 'value': 'http://www.wikidata.org/entity/Q677'},\n",
       "   {'type': 'uri', 'value': 'http://www.wikidata.org/entity/Q744'},\n",
       "   {'type': 'uri', 'value': 'http://www.wikidata.org/entity/Q758'}],\n",
       "  'tags': ['exclusion', '1-hop'],\n",
       "  'question_eng': 'What metal, other than copper, is present in Melchior ware?'},\n",
       " {'uid': 3050,\n",
       "  'question_text': 'Какой город - конечный пункт маршрута фирменного поезда \"Россия\", отправляющегося из Москвы?',\n",
       "  'query': 'SELECT ?answer\\nWHERE {\\n  wd:Q4398275 wdt:P559 ?answer .\\n  FILTER (?answer not in ( wd:Q649 ))\\n}',\n",
       "  'answer_text': 'Владивосток',\n",
       "  'question_uris': ['http://www.wikidata.org/entity/Q649',\n",
       "   'http://www.wikidata.org/entity/Q4398275'],\n",
       "  'question_props': ['wdt:P559'],\n",
       "  'answers': [{'type': 'uri', 'value': 'http://www.wikidata.org/entity/Q959'}],\n",
       "  'tags': ['exclusion', '1-hop'],\n",
       "  'question_eng': 'Which city is the final destination of the branded \"Russia\" train leaving Moscow?'},\n",
       " {'uid': 3051,\n",
       "  'question_text': 'Какое второе название травянистого растения анемона?',\n",
       "  'query': 'SELECT ?answer\\nWHERE {\\n  VALUES ?answer { wd:Q158286 }\\n}',\n",
       "  'answer_text': 'ветреница',\n",
       "  'question_uris': ['http://www.wikidata.org/entity/Q158286'],\n",
       "  'question_props': [],\n",
       "  'answers': [{'type': 'uri',\n",
       "    'value': 'http://www.wikidata.org/entity/Q158286'}],\n",
       "  'tags': ['0-hop'],\n",
       "  'question_eng': 'What is the second name of the herbaceous anemone plant?'},\n",
       " {'uid': 3052,\n",
       "  'question_text': 'К какой группе инструментов относится старинный русский музыкальный инструмент гудок?',\n",
       "  'query': 'SELECT ?answer\\nWHERE {\\n  wd:Q854664 wdt:P31/wdt:P279* ?answer .\\n  ?answer wdt:P31 wd:Q1254773\\n}',\n",
       "  'answer_text': 'К струнным смычковым',\n",
       "  'question_uris': ['http://www.wikidata.org/entity/Q1254773',\n",
       "   'http://www.wikidata.org/entity/Q854664'],\n",
       "  'question_props': ['wdt:P31', 'wdt:P279'],\n",
       "  'answers': [{'type': 'uri',\n",
       "    'value': 'http://www.wikidata.org/entity/Q1051772'},\n",
       "   {'type': 'uri', 'value': 'http://www.wikidata.org/entity/Q1798603'}],\n",
       "  'tags': ['multi-constraint'],\n",
       "  'question_eng': 'Which group of instruments does the old Russian musical instrument hooter belong to?'},\n",
       " {'uid': 3053,\n",
       "  'question_text': 'Где жил знаменитый философ Спиноза?',\n",
       "  'query': 'SELECT ?answer\\nWHERE {\\n  wd:Q35802 wdt:P937 ?answer .\\n}',\n",
       "  'answer_text': 'в Нидерландах',\n",
       "  'question_uris': ['http://www.wikidata.org/entity/Q35802'],\n",
       "  'question_props': ['wdt:P937'],\n",
       "  'answers': [{'type': 'uri',\n",
       "    'value': 'http://www.wikidata.org/entity/Q1615333'},\n",
       "   {'type': 'uri', 'value': 'http://www.wikidata.org/entity/Q41795540'}],\n",
       "  'tags': ['1-hop'],\n",
       "  'question_eng': 'Where did the famous philosopher Spinoza live?'},\n",
       " {'uid': 3054,\n",
       "  'question_text': 'Какой сплав состоит в основном из меди и цинка?',\n",
       "  'query': 'SELECT ?answer\\nWHERE {\\n  ?answer wdt:P527 wd:Q753, wd:Q758 .\\n}',\n",
       "  'answer_text': 'латунь',\n",
       "  'question_uris': ['http://www.wikidata.org/entity/Q758',\n",
       "   'http://www.wikidata.org/entity/Q753'],\n",
       "  'question_props': ['wdt:P527'],\n",
       "  'answers': [{'type': 'uri',\n",
       "    'value': 'http://www.wikidata.org/entity/Q39782'},\n",
       "   {'type': 'uri', 'value': 'http://www.wikidata.org/entity/Q112260'},\n",
       "   {'type': 'uri', 'value': 'http://www.wikidata.org/entity/Q145352'},\n",
       "   {'type': 'uri', 'value': 'http://www.wikidata.org/entity/Q203874'},\n",
       "   {'type': 'uri', 'value': 'http://www.wikidata.org/entity/Q204567'},\n",
       "   {'type': 'uri', 'value': 'http://www.wikidata.org/entity/Q319798'},\n",
       "   {'type': 'uri', 'value': 'http://www.wikidata.org/entity/Q772913'},\n",
       "   {'type': 'uri', 'value': 'http://www.wikidata.org/entity/Q901715'},\n",
       "   {'type': 'uri', 'value': 'http://www.wikidata.org/entity/Q1184960'},\n",
       "   {'type': 'uri', 'value': 'http://www.wikidata.org/entity/Q2835646'},\n",
       "   {'type': 'uri', 'value': 'http://www.wikidata.org/entity/Q3742035'},\n",
       "   {'type': 'uri', 'value': 'http://www.wikidata.org/entity/Q3820087'}],\n",
       "  'tags': ['reverse', '1-hop'],\n",
       "  'question_eng': 'Which alloy consists mainly of copper and zinc?'},\n",
       " {'uid': 3055,\n",
       "  'question_text': 'Кто выиграл Чемпионат Мира по футболу 2010?',\n",
       "  'query': 'SELECT ?answer\\nWHERE {\\n  wd:Q176883 wdt:P1346 ?answer .\\n}',\n",
       "  'answer_text': 'Испания',\n",
       "  'question_uris': ['http://www.wikidata.org/entity/Q176883'],\n",
       "  'question_props': ['wdt:P1346'],\n",
       "  'answers': [{'type': 'uri',\n",
       "    'value': 'http://www.wikidata.org/entity/Q42267'}],\n",
       "  'tags': ['1-hop'],\n",
       "  'question_eng': 'Who won the 2010 FIFA world Cup?'},\n",
       " {'uid': 3056,\n",
       "  'question_text': 'В какой стране вы будете расплачиваться за покупки донгами?',\n",
       "  'query': 'SELECT ?answer\\nWHERE {\\n  wd:Q192090 wdt:P17 ?answer .\\n}',\n",
       "  'answer_text': 'Вьетнам',\n",
       "  'question_uris': ['http://www.wikidata.org/entity/Q192090'],\n",
       "  'question_props': ['wdt:P17'],\n",
       "  'answers': [{'type': 'uri', 'value': 'http://www.wikidata.org/entity/Q881'}],\n",
       "  'tags': ['1-hop'],\n",
       "  'question_eng': 'In which country will you pay for purchases with dongs?'},\n",
       " {'uid': 3057,\n",
       "  'question_text': 'Как звали жену Л. Н. Толстого?',\n",
       "  'query': 'SELECT ?answer\\nWHERE {\\n  wd:Q7243 wdt:P26 ?answer .\\n}',\n",
       "  'answer_text': 'Софья Андреевна Берс',\n",
       "  'question_uris': ['http://www.wikidata.org/entity/Q7243'],\n",
       "  'question_props': ['wdt:P26'],\n",
       "  'answers': [{'type': 'uri',\n",
       "    'value': 'http://www.wikidata.org/entity/Q271934'}],\n",
       "  'tags': ['1-hop'],\n",
       "  'question_eng': \"What was the name of Tolstoy's wife?\"},\n",
       " {'uid': 3058,\n",
       "  'question_text': 'В какой области находятся Соловецкие острова?',\n",
       "  'query': 'SELECT ?answer\\nWHERE {\\n  wd:Q205711 wdt:P131 ?answer .\\n}',\n",
       "  'answer_text': 'Архангельская',\n",
       "  'question_uris': ['http://www.wikidata.org/entity/Q205711'],\n",
       "  'question_props': ['wdt:P131'],\n",
       "  'answers': [{'type': 'uri',\n",
       "    'value': 'http://www.wikidata.org/entity/Q1875'}],\n",
       "  'tags': ['1-hop'],\n",
       "  'question_eng': 'In what area are the Solovetsky Islands located?'},\n",
       " {'uid': 3059,\n",
       "  'question_text': 'Где, главным образом, живут шерпы?',\n",
       "  'query': 'SELECT ?answer\\nWHERE {\\n  wd:Q200513 wdt:P17 ?answer .\\n}',\n",
       "  'answer_text': 'В Гималаях',\n",
       "  'question_uris': ['http://www.wikidata.org/entity/Q200513'],\n",
       "  'question_props': ['wdt:P17'],\n",
       "  'answers': [{'type': 'uri', 'value': 'http://www.wikidata.org/entity/Q837'}],\n",
       "  'tags': ['1-hop'],\n",
       "  'question_eng': 'Where do Sherpas mainly live?'},\n",
       " {'uid': 3060,\n",
       "  'question_text': 'Как называются образовательные ткани растений?',\n",
       "  'query': 'SELECT ?answer\\nWHERE {\\n  wd:Q207604 rdfs:label ?answer .\\n  FILTER (lang(?answer) = \"ru\") .\\n}',\n",
       "  'answer_text': 'Меристемы',\n",
       "  'question_uris': ['http://www.wikidata.org/entity/Q207604'],\n",
       "  'question_props': ['rdfs:label'],\n",
       "  'answers': [{'xml:lang': 'ru', 'type': 'literal', 'value': 'Меристема'}],\n",
       "  'tags': ['1-hop'],\n",
       "  'question_eng': 'What are the educational tissues of plants called?'},\n",
       " {'uid': 3061,\n",
       "  'question_text': 'Какая кислота известна фармацевтам как витамин РР?',\n",
       "  'query': 'SELECT ?answer\\nWHERE {\\n  ?answer skos:altLabel \"Витамин PP\"@ru .\\n}',\n",
       "  'answer_text': 'Никотиновая',\n",
       "  'question_uris': [],\n",
       "  'question_props': ['skos:altLabel'],\n",
       "  'answers': [{'type': 'uri',\n",
       "    'value': 'http://www.wikidata.org/entity/Q134658'}],\n",
       "  'tags': ['reverse', '1-hop'],\n",
       "  'question_eng': 'What acid is known to pharmacists as vitamin PP?'},\n",
       " {'uid': 3062,\n",
       "  'question_text': 'Какая страна - родина бейсбола?',\n",
       "  'query': 'SELECT ?answer\\nWHERE {\\n  wd:Q5369 wdt:P495 ?answer .\\n}',\n",
       "  'answer_text': 'Англия',\n",
       "  'question_uris': ['http://www.wikidata.org/entity/Q5369'],\n",
       "  'question_props': ['wdt:P495'],\n",
       "  'answers': [{'type': 'uri', 'value': 'http://www.wikidata.org/entity/Q30'}],\n",
       "  'tags': ['1-hop'],\n",
       "  'question_eng': 'Which country is the birthplace of baseball?'},\n",
       " {'uid': 3063,\n",
       "  'question_text': 'Какой город Калининградской области до 1947 года назывался Хайлигенбайль?',\n",
       "  'query': 'SELECT ?answer\\nWHERE {\\n  ?answer skos:altLabel \"Хайлигенбайль\"@ru \\n}',\n",
       "  'answer_text': 'Мамоново',\n",
       "  'question_uris': [],\n",
       "  'question_props': ['skos:altLabel'],\n",
       "  'answers': [{'type': 'uri',\n",
       "    'value': 'http://www.wikidata.org/entity/Q158101'}],\n",
       "  'tags': ['reverse', '1-hop'],\n",
       "  'question_eng': 'Which city in the Kaliningrad region was called Heiligenbail before 1947?'},\n",
       " {'uid': 3064,\n",
       "  'question_text': 'Как называется выдача преступника одним государством другому для суда или отбывания наказания по уже состоявшемуся решению суда?',\n",
       "  'query': 'SELECT ?answer\\nWHERE {\\n  VALUES ?answer { wd:Q210603 }\\n}',\n",
       "  'answer_text': 'Экстрадиция',\n",
       "  'question_uris': ['http://www.wikidata.org/entity/Q210603'],\n",
       "  'question_props': [],\n",
       "  'answers': [{'type': 'uri',\n",
       "    'value': 'http://www.wikidata.org/entity/Q210603'}],\n",
       "  'tags': ['0-hop'],\n",
       "  'question_eng': 'What is the name of the extradition of a criminal by one state to another for trial or serving a sentence based on a court decision that has already taken place?'},\n",
       " {'uid': 3065,\n",
       "  'question_text': 'Как звали Дон Кихота?',\n",
       "  'query': 'SELECT ?answer\\nWHERE {\\n  wd:Q944201 wdt:P735 ?answer .\\n}',\n",
       "  'answer_text': 'Алонсо',\n",
       "  'question_uris': ['http://www.wikidata.org/entity/Q944201'],\n",
       "  'question_props': ['wdt:P735'],\n",
       "  'answers': [{'type': 'uri',\n",
       "    'value': 'http://www.wikidata.org/entity/Q18552177'}],\n",
       "  'tags': ['1-hop'],\n",
       "  'question_eng': \"What was don Quixote's name?\"},\n",
       " {'uid': 3066,\n",
       "  'question_text': 'Как прозвали немецкий танк T-V?',\n",
       "  'query': 'SELECT ?answer\\nWHERE {\\n  VALUES ?answer { wd:Q151960 }\\n}',\n",
       "  'answer_text': 'пантера',\n",
       "  'question_uris': ['http://www.wikidata.org/entity/Q151960'],\n",
       "  'question_props': [],\n",
       "  'answers': [{'type': 'uri',\n",
       "    'value': 'http://www.wikidata.org/entity/Q151960'}],\n",
       "  'tags': ['0-hop'],\n",
       "  'question_eng': 'What was the name of the German t-V tank?'},\n",
       " {'uid': 3068,\n",
       "  'question_text': 'Как французы называют пролив, который англичане именуют Дуврским?',\n",
       "  'query': 'SELECT ?answer\\nWHERE {\\n  wd:Q159898 rdfs:label ?answer .\\n  FILTER (lang(?answer) = \"fr\")\\n}',\n",
       "  'answer_text': 'Па-де-Кале',\n",
       "  'question_uris': ['http://www.wikidata.org/entity/Q159898'],\n",
       "  'question_props': ['rdfs:label'],\n",
       "  'answers': [{'xml:lang': 'fr', 'type': 'literal', 'value': 'Pas de Calais'}],\n",
       "  'tags': ['multi-constraint'],\n",
       "  'question_eng': 'What do the French call the Strait that the English call Dover?'},\n",
       " {'uid': 3069,\n",
       "  'question_text': 'Как называется прибор для измерения электрического напряжения?',\n",
       "  'query': 'SELECT ?answer\\nWHERE {\\n  ?answer wdt:P2575 wd:Q25428 .\\n  ?answer wdt:P279 wd:Q2041172\\n}',\n",
       "  'answer_text': 'Вольтметр',\n",
       "  'question_uris': ['http://www.wikidata.org/entity/Q25428',\n",
       "   'http://www.wikidata.org/entity/Q2041172'],\n",
       "  'question_props': ['wdt:P279', 'wdt:P2575'],\n",
       "  'answers': [{'type': 'uri',\n",
       "    'value': 'http://www.wikidata.org/entity/Q179741'},\n",
       "   {'type': 'uri', 'value': 'http://www.wikidata.org/entity/Q1630602'}],\n",
       "  'tags': ['reverse', 'multi-constraint'],\n",
       "  'question_eng': 'What is the name of the device for measuring electrical voltage?'},\n",
       " {'uid': 3070,\n",
       "  'question_text': 'Какому государству в XVI веке принадлежал военный флот, вошедший в историю под названием \"Непобедимая Армада\"?',\n",
       "  'query': 'SELECT ?answer\\nWHERE {\\n  wd:Q179684 wdt:P17 ?answer .\\n}',\n",
       "  'answer_text': 'Испания',\n",
       "  'question_uris': ['http://www.wikidata.org/entity/Q179684'],\n",
       "  'question_props': ['wdt:P17'],\n",
       "  'answers': [{'type': 'uri', 'value': 'http://www.wikidata.org/entity/Q29'}],\n",
       "  'tags': ['1-hop'],\n",
       "  'question_eng': 'What state in the XVI century belonged to the Navy, which went down in history as the \"Invincible Armada\"?'},\n",
       " {'uid': 3071,\n",
       "  'question_text': 'Какую болезнь называют \"лепра\"?',\n",
       "  'query': 'SELECT ?answer\\nWHERE {\\n  VALUES ?answer { wd:Q36956 }\\n}',\n",
       "  'answer_text': 'Проказа',\n",
       "  'question_uris': ['http://www.wikidata.org/entity/Q36956'],\n",
       "  'question_props': [],\n",
       "  'answers': [{'type': 'uri',\n",
       "    'value': 'http://www.wikidata.org/entity/Q36956'}],\n",
       "  'tags': ['0-hop'],\n",
       "  'question_eng': 'What is the disease called \"leprosy\"?'},\n",
       " {'uid': 3072,\n",
       "  'question_text': 'Что покажут жители Таллина, если вы захотите взглянуть на Толстую Маргариту?',\n",
       "  'query': 'SELECT ?answer\\nWHERE {\\n  wd:Q282994 wdt:P31 ?answer .\\n}',\n",
       "  'answer_text': 'крепостную башню',\n",
       "  'question_uris': ['http://www.wikidata.org/entity/Q282994'],\n",
       "  'question_props': ['wdt:P31'],\n",
       "  'answers': [{'type': 'uri',\n",
       "    'value': 'http://www.wikidata.org/entity/Q1978556'}],\n",
       "  'tags': ['1-hop'],\n",
       "  'question_eng': 'What will the residents of Tallinn show if you want to look at a Thick Margarita?'},\n",
       " {'uid': 3073,\n",
       "  'question_text': 'Как по-другому называется электрическая дуга?',\n",
       "  'query': 'SELECT ?answer\\nWHERE {\\n  wd:Q207456 skos:altLabel ?answer .\\n  FILTER (lang(?answer) = \"ru\")\\n}',\n",
       "  'answer_text': 'Вольтова',\n",
       "  'question_uris': ['http://www.wikidata.org/entity/Q207456'],\n",
       "  'question_props': ['skos:altLabel'],\n",
       "  'answers': [{'xml:lang': 'ru', 'type': 'literal', 'value': 'Дуга'},\n",
       "   {'xml:lang': 'ru', 'type': 'literal', 'value': 'Вольтова дуга'},\n",
       "   {'xml:lang': 'ru', 'type': 'literal', 'value': 'Дуговой разряд'},\n",
       "   {'xml:lang': 'ru', 'type': 'literal', 'value': 'Дуга электрическая'}],\n",
       "  'tags': ['1-hop'],\n",
       "  'question_eng': 'What is the other name for an electric arc?'},\n",
       " {'uid': 3074,\n",
       "  'question_text': 'Кто правит государством Бруней?',\n",
       "  'query': 'SELECT ?answer\\nWHERE {\\n  wd:Q921 wdt:P35 ?answer .\\n}',\n",
       "  'answer_text': 'султан',\n",
       "  'question_uris': ['http://www.wikidata.org/entity/Q921'],\n",
       "  'question_props': ['wdt:P35'],\n",
       "  'answers': [{'type': 'uri',\n",
       "    'value': 'http://www.wikidata.org/entity/Q57327'}],\n",
       "  'tags': ['1-hop'],\n",
       "  'question_eng': 'Who rules the state of Brunei?'},\n",
       " {'uid': 3075,\n",
       "  'question_text': 'В каком городе находится штаб-квартира Microsoft?',\n",
       "  'query': 'SELECT ?answer\\nWHERE {\\n  wd:Q2283 wdt:P159 ?answer .\\n}',\n",
       "  'answer_text': 'г. Редмонд (пригород г. Сиэтл), штат Вашингтон, США.',\n",
       "  'question_uris': ['http://www.wikidata.org/entity/Q2283'],\n",
       "  'question_props': ['wdt:P159'],\n",
       "  'answers': [{'type': 'uri',\n",
       "    'value': 'http://www.wikidata.org/entity/Q223718'}],\n",
       "  'tags': ['1-hop'],\n",
       "  'question_eng': \"What city is Microsoft's headquarters located in?\"},\n",
       " {'uid': 3076,\n",
       "  'question_text': 'Какая наука изучает ископаемых животных?',\n",
       "  'query': 'SELECT ?answer\\nWHERE {\\n  wd:Q40614 wdt:P2579 ?answer .\\n}',\n",
       "  'answer_text': 'Палеонтология',\n",
       "  'question_uris': ['http://www.wikidata.org/entity/Q40614'],\n",
       "  'question_props': ['wdt:P2579'],\n",
       "  'answers': [{'type': 'uri',\n",
       "    'value': 'http://www.wikidata.org/entity/Q7205'}],\n",
       "  'tags': ['1-hop'],\n",
       "  'question_eng': 'What science studies fossils of animals?'}]"
      ]
     },
     "execution_count": 117,
     "metadata": {},
     "output_type": "execute_result"
    }
   ],
   "source": [
    "dataset[1000:1100]"
   ]
  },
  {
   "cell_type": "code",
   "execution_count": 118,
   "metadata": {
    "ExecuteTime": {
     "end_time": "2020-04-15T18:59:14.480456Z",
     "start_time": "2020-04-15T18:59:14.373173Z"
    }
   },
   "outputs": [],
   "source": [
    "json_dump(dataset, 'kbqa_russian_dataset.json')"
   ]
  },
  {
   "cell_type": "code",
   "execution_count": null,
   "metadata": {},
   "outputs": [],
   "source": []
  },
  {
   "cell_type": "code",
   "execution_count": null,
   "metadata": {},
   "outputs": [],
   "source": []
  },
  {
   "cell_type": "markdown",
   "metadata": {},
   "source": [
    "### Find mistakes"
   ]
  },
  {
   "cell_type": "code",
   "execution_count": 34,
   "metadata": {
    "ExecuteTime": {
     "end_time": "2020-04-07T15:22:12.416883Z",
     "start_time": "2020-04-07T15:22:12.405925Z"
    }
   },
   "outputs": [],
   "source": [
    "def get_query_tags(ql):\n",
    "    tags = []\n",
    "    if 'COUNT' in ql[0]:\n",
    "        tags.append('count')\n",
    "    if 'LIMIT' in ql[-1] and 'ORDER' in ql[-2]:\n",
    "        tags.append('ranking')\n",
    "        ql = ql[:-2]\n",
    "    else:\n",
    "        ql = ql[:-1]\n",
    "    ql = ql[2:]\n",
    "    if 'FILTER' in ql[-1] and 'not in' in ql[-1]:\n",
    "        tags.append('exclusion')\n",
    "        ql = ql[:-1]\n",
    "    if ql[0].split()[0] == '?answer':\n",
    "        tags.append('reverse')\n",
    "    if len(ql) == 1:\n",
    "        if 'VALUES' in ql[0]:\n",
    "            tags.append('0-hop')\n",
    "            return tags\n",
    "        if '[' in ql[0]:\n",
    "            clause = re.findall(r'\\[(.*)\\]', ql[0])[0]\n",
    "            if ';' not in clause:\n",
    "                tags.append('multi-hop')\n",
    "            else:\n",
    "                clauses = clause.split(';')\n",
    "                if '?answer' in clause[1]:\n",
    "                    tags.append('qualifier-answer')\n",
    "                else:\n",
    "                    tags.append('qualifier-constraint')\n",
    "        else:\n",
    "            tags.append('1-hop')\n",
    "    else:\n",
    "        tags.append('multi-constraint')\n",
    "    return tags"
   ]
  },
  {
   "cell_type": "code",
   "execution_count": 107,
   "metadata": {
    "ExecuteTime": {
     "end_time": "2020-04-15T18:55:47.767572Z",
     "start_time": "2020-04-15T18:55:47.669616Z"
    }
   },
   "outputs": [],
   "source": [
    "dataset = json_read('kbqa_russian_dataset.json')"
   ]
  },
  {
   "cell_type": "code",
   "execution_count": 52,
   "metadata": {
    "ExecuteTime": {
     "end_time": "2020-04-07T15:40:50.140387Z",
     "start_time": "2020-04-07T15:40:50.113728Z"
    }
   },
   "outputs": [
    {
     "name": "stdout",
     "output_type": "stream",
     "text": [
      "1012\n",
      "['qualifier-answer']\n",
      "['multi-hop']\n",
      "\n",
      "1030\n",
      "['qualifier-answer']\n",
      "['multi-hop']\n",
      "\n",
      "2024\n",
      "['qualifier-constraint', 'ranking']\n",
      "['multi-constraint', 'ranking']\n",
      "\n",
      "2034\n",
      "['qualifier-constraint', 'ranking']\n",
      "['multi-constraint', 'ranking']\n",
      "\n",
      "2051\n",
      "['1-hop']\n",
      "['multi-constraint']\n",
      "\n",
      "2079\n",
      "['qualifier-constraint', 'ranking']\n",
      "['multi-constraint', 'ranking']\n",
      "\n",
      "2119\n",
      "['qualifier-constraint', 'ranking']\n",
      "['multi-constraint', 'ranking']\n",
      "\n",
      "3032\n",
      "['1-hop']\n",
      "['multi-constraint']\n",
      "\n",
      "3033\n",
      "['qualifier-constraint', 'ranking']\n",
      "['multi-constraint', 'ranking']\n",
      "\n",
      "3043\n",
      "['1-hop']\n",
      "['multi-constraint']\n",
      "\n",
      "3073\n",
      "['1-hop']\n",
      "['multi-constraint']\n",
      "\n",
      "3098\n",
      "['1-hop']\n",
      "['multi-constraint']\n",
      "\n",
      "3104\n",
      "['1-hop']\n",
      "['multi-constraint']\n",
      "\n",
      "3113\n",
      "['multi-constraint', 'reverse']\n",
      "['1-hop', 'reverse']\n",
      "\n",
      "3118\n",
      "['multi-constraint', 'qualifier-answer']\n",
      "['qualifier-constraint']\n",
      "\n",
      "3125\n",
      "['multi-constraint', 'qualifier-answer']\n",
      "['qualifier-constraint']\n",
      "\n",
      "3133\n",
      "['qualifier-constraint', 'ranking']\n",
      "['multi-constraint', 'ranking']\n",
      "\n",
      "3144\n",
      "['multi-constraint', 'qualifier-answer']\n",
      "['multi-constraint']\n",
      "\n",
      "3151\n",
      "['multi-constraint', 'qualifier-answer']\n",
      "['multi-constraint']\n",
      "\n"
     ]
    }
   ],
   "source": [
    "# check tags\n",
    "\n",
    "for entry in dataset[:1200]:\n",
    "    uid = entry['uid']\n",
    "    query = entry['query']\n",
    "    q_uris = entry['question_uris']\n",
    "    q_props = entry['question_props']\n",
    "    tags = entry['tags']\n",
    "    ql = query.split('\\n')\n",
    "    \n",
    "    pred_tags = get_query_tags(ql)\n",
    "    if sorted(tags) != sorted(pred_tags):\n",
    "        print(uid)\n",
    "        print(sorted(tags))\n",
    "        print(sorted(pred_tags))\n",
    "        print()"
   ]
  },
  {
   "cell_type": "code",
   "execution_count": 108,
   "metadata": {
    "ExecuteTime": {
     "end_time": "2020-04-15T18:55:49.160160Z",
     "start_time": "2020-04-15T18:55:49.125543Z"
    }
   },
   "outputs": [],
   "source": [
    "# check question uris\n",
    "\n",
    "for entry in dataset[:1200]:\n",
    "    uid = entry['uid']\n",
    "    query = entry['query']\n",
    "    q_uris = entry['question_uris']\n",
    "    q_props = entry['question_props']\n",
    "    tags = entry['tags']\n",
    "    ql = query.split('\\n')\n",
    "    \n",
    "    pred_q_uris = get_query_entities(ql)\n",
    "    if sorted(q_uris) != sorted(pred_q_uris):\n",
    "        print(uid)\n",
    "        print(sorted(q_uris))\n",
    "        print(sorted(pred_q_uris))\n",
    "        print()\n",
    "        continue\n",
    "        \n",
    "    for uri in q_uris:\n",
    "        qid = uri.split('/')[-1]\n",
    "        if qid not in query:\n",
    "            print(uid)\n",
    "            print(sorted(q_uris))\n",
    "            print(sorted(pred_q_uris))\n",
    "            print()"
   ]
  },
  {
   "cell_type": "code",
   "execution_count": 109,
   "metadata": {
    "ExecuteTime": {
     "end_time": "2020-04-15T18:55:49.998177Z",
     "start_time": "2020-04-15T18:55:49.964772Z"
    }
   },
   "outputs": [],
   "source": [
    "# check question props\n",
    "\n",
    "for entry in dataset[:1200]:\n",
    "    uid = entry['uid']\n",
    "    query = entry['query']\n",
    "    q_uris = entry['question_uris']\n",
    "    q_props = entry['question_props']\n",
    "    tags = entry['tags']\n",
    "    ql = query.split('\\n')\n",
    "    \n",
    "    pred_q_props = get_query_props(ql)\n",
    "    if sorted(q_props) != sorted(pred_q_props):\n",
    "        print(uid)\n",
    "        print(sorted(q_props))\n",
    "        print(sorted(pred_q_props))\n",
    "        print()\n",
    "        continue\n",
    "        \n",
    "    for prop in q_props:\n",
    "        if prop not in query:\n",
    "            print(uid)\n",
    "            print(sorted(q_props))\n",
    "            print(sorted(pred_q_props))\n",
    "            print()"
   ]
  },
  {
   "cell_type": "code",
   "execution_count": 110,
   "metadata": {
    "ExecuteTime": {
     "end_time": "2020-04-15T18:55:51.267841Z",
     "start_time": "2020-04-15T18:55:51.259735Z"
    }
   },
   "outputs": [],
   "source": [
    "# duplicative answers\n",
    "\n",
    "for entry in dataset[:1200]:\n",
    "    answers = [ans['value'] for ans in entry['answers']]\n",
    "    if len(answers) != len(set(answers)):\n",
    "        print(entry['uid'])"
   ]
  },
  {
   "cell_type": "markdown",
   "metadata": {},
   "source": [
    "### Create files for dev/test"
   ]
  },
  {
   "cell_type": "code",
   "execution_count": 120,
   "metadata": {
    "ExecuteTime": {
     "end_time": "2020-04-16T10:41:11.913921Z",
     "start_time": "2020-04-16T10:41:11.690058Z"
    }
   },
   "outputs": [],
   "source": [
    "test_uids = json_read('test_uids.json')\n",
    "dev_uids = json_read('dev_uids.json')\n",
    "dataset = json_read('kbqa_russian_dataset.json')"
   ]
  },
  {
   "cell_type": "code",
   "execution_count": 121,
   "metadata": {
    "ExecuteTime": {
     "end_time": "2020-04-16T10:41:30.264016Z",
     "start_time": "2020-04-16T10:41:30.246208Z"
    }
   },
   "outputs": [],
   "source": [
    "dataset_test = []\n",
    "dataset_dev = []"
   ]
  },
  {
   "cell_type": "code",
   "execution_count": 122,
   "metadata": {
    "ExecuteTime": {
     "end_time": "2020-04-16T10:42:26.521108Z",
     "start_time": "2020-04-16T10:42:26.489475Z"
    }
   },
   "outputs": [],
   "source": [
    "for entry in dataset:\n",
    "    if entry['uid'] in test_uids:\n",
    "        dataset_test.append(entry)\n",
    "    elif entry['uid'] in dev_uids:\n",
    "        dataset_dev.append(entry)\n",
    "    else:\n",
    "        print('WTF')"
   ]
  },
  {
   "cell_type": "code",
   "execution_count": 123,
   "metadata": {
    "ExecuteTime": {
     "end_time": "2020-04-16T10:42:38.692376Z",
     "start_time": "2020-04-16T10:42:38.670243Z"
    }
   },
   "outputs": [
    {
     "name": "stdout",
     "output_type": "stream",
     "text": [
      "1200\n",
      "300\n"
     ]
    }
   ],
   "source": [
    "print(len(dataset_test))\n",
    "print(len(dataset_dev))"
   ]
  },
  {
   "cell_type": "code",
   "execution_count": 124,
   "metadata": {
    "ExecuteTime": {
     "end_time": "2020-04-16T10:46:34.882824Z",
     "start_time": "2020-04-16T10:46:34.786100Z"
    }
   },
   "outputs": [],
   "source": [
    "json_dump(dataset_test, 'RuBQ_test.json')\n",
    "json_dump(dataset_dev, 'RuBQ_dev.json')"
   ]
  },
  {
   "cell_type": "code",
   "execution_count": null,
   "metadata": {},
   "outputs": [],
   "source": []
  }
 ],
 "metadata": {
  "kernelspec": {
   "display_name": "Python [conda env:kbqa]",
   "language": "python",
   "name": "conda-env-kbqa-py"
  },
  "language_info": {
   "codemirror_mode": {
    "name": "ipython",
    "version": 3
   },
   "file_extension": ".py",
   "mimetype": "text/x-python",
   "name": "python",
   "nbconvert_exporter": "python",
   "pygments_lexer": "ipython3",
   "version": "3.7.3"
  }
 },
 "nbformat": 4,
 "nbformat_minor": 2
}
